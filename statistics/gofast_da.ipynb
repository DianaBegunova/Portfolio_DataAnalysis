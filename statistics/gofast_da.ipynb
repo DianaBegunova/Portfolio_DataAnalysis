{
  "cells": [
    {
      "cell_type": "markdown",
      "id": "5f21525f",
      "metadata": {
        "id": "5f21525f"
      },
      "source": [
        "# Анализ сервиса аренды самокатов GoFast\n",
        "\n",
        "В проекте исследуются данные о пользователях и поездках в сервисе аренды электросамокатов GoFast. Главная цель анализа - проверить различные гипотезы, которые могут способствовать развитию бизнеса и повышению его эффективности.\n",
        "\n",
        "## Краткое резюме проекта:\n",
        "\n",
        "Мы имеем доступ к данным о пользователях и поездках в сервисе GoFast, включающим информацию об имени, городе, возрасте, типе подписки, пройденном расстоянии, продолжительности поездки и других характеристиках пользователей, поездок и подписок.\n",
        "\n",
        "Исходные данные находятся в трех датасетах: 1 датасет о пользователях (1565 строк, 5 признаков), 2 датасет по поездкам (18068 строк, 4 признака) и 3 датасет о видах подписок (2 строки, 4 признака). Во время анализа обратим внимание на информацию о количестве поездок, продолжительности поездок, типе подписки пользователей, а также исследуем другие характеристики, которые могут быть интересны для понимания действий пользователей с подпиской и без.\n",
        "\n",
        "## План работы:\n",
        "\n",
        "1. **Загрузка данных и первичный просмотр:**\n",
        "   - Прочитаем и ознакомимся с данными для дальнейшего анализа.\n",
        "\n",
        "\n",
        "2. **Предобработка данных:**\n",
        "   - Изменим типы данных в столбцах, где это необходимо, для более удобного анализа.\n",
        "   - Создадим новый столбец с номером месяца для удобного анализа по временным периодам.\n",
        "   - Обработаем дубликаты.\n",
        "\n",
        "\n",
        "3. **Исследовательский анализ данных (EDA):**\n",
        "   - Проанализируем и визуализируем общую информацию о пользователях и их поездках.\n",
        "   - Рассмотрим разные характеристики.\n",
        "\n",
        "\n",
        "4. **Объединение данных:**\n",
        "   - Создадим объединенный датасет со всей информацией и 2 отдельных, разделив пользователей по видам подписки.\n",
        "   - Визуализируем информацию о расстоянии и времени поездок для пользователей обеих категорий.\n",
        "\n",
        "\n",
        "5. **Подсчет выручки:**\n",
        "   - Создадим столбец с помесячной выручкой для каждого пользователя.\n",
        "\n",
        "\n",
        "6. **Проверка гипотез:**\n",
        "   - Тратят ли пользователи с подпиской больше времени на поездки?\n",
        "   - Превышает ли расстояние, которое проезжают пользователи с подпиской за одну поездку, оптимальное значение?\n",
        "   - Будет ли помесячная выручка от пользователей с подпиской выше, чем от пользователей без подписки?\n",
        "   - Проверка гипотезы о снижении обращений в поддержку.\n",
        "   \n",
        "На основе этого плана мы приступим к анализу данных сервиса аренды электросамокатов GoFast и выявим полезные инсайты, которые помогут улучшить работу бизнеса и обеспечить более удовлетворенные пользователи."
      ]
    },
    {
      "cell_type": "markdown",
      "id": "c42cbe00",
      "metadata": {
        "id": "c42cbe00"
      },
      "source": [
        "#### Шаг 1. Загрузка данных"
      ]
    },
    {
      "cell_type": "code",
      "execution_count": null,
      "id": "72576667",
      "metadata": {
        "id": "72576667"
      },
      "outputs": [],
      "source": [
        "import pandas as pd\n",
        "import matplotlib.pyplot as plt\n",
        "import numpy as np\n",
        "import scipy.stats as st\n",
        "from scipy.stats import binom"
      ]
    },
    {
      "cell_type": "code",
      "execution_count": null,
      "id": "eff9f206",
      "metadata": {
        "id": "eff9f206"
      },
      "outputs": [],
      "source": [
        "data_users = pd.read_csv('/datasets/users_go.csv')\n",
        "data_rides = pd.read_csv('/datasets/rides_go.csv')\n",
        "data_sub = pd.read_csv('/datasets/subscriptions_go.csv')"
      ]
    },
    {
      "cell_type": "code",
      "execution_count": null,
      "id": "03fe8cc0",
      "metadata": {
        "scrolled": false,
        "id": "03fe8cc0",
        "outputId": "b02b7660-df64-4431-ca90-1685ef716826"
      },
      "outputs": [
        {
          "name": "stdout",
          "output_type": "stream",
          "text": [
            "<class 'pandas.core.frame.DataFrame'>\n",
            "RangeIndex: 1565 entries, 0 to 1564\n",
            "Data columns (total 5 columns):\n",
            " #   Column             Non-Null Count  Dtype \n",
            "---  ------             --------------  ----- \n",
            " 0   user_id            1565 non-null   int64 \n",
            " 1   name               1565 non-null   object\n",
            " 2   age                1565 non-null   int64 \n",
            " 3   city               1565 non-null   object\n",
            " 4   subscription_type  1565 non-null   object\n",
            "dtypes: int64(2), object(3)\n",
            "memory usage: 61.3+ KB\n"
          ]
        },
        {
          "data": {
            "text/html": [
              "<div>\n",
              "<style scoped>\n",
              "    .dataframe tbody tr th:only-of-type {\n",
              "        vertical-align: middle;\n",
              "    }\n",
              "\n",
              "    .dataframe tbody tr th {\n",
              "        vertical-align: top;\n",
              "    }\n",
              "\n",
              "    .dataframe thead th {\n",
              "        text-align: right;\n",
              "    }\n",
              "</style>\n",
              "<table border=\"1\" class=\"dataframe\">\n",
              "  <thead>\n",
              "    <tr style=\"text-align: right;\">\n",
              "      <th></th>\n",
              "      <th>user_id</th>\n",
              "      <th>name</th>\n",
              "      <th>age</th>\n",
              "      <th>city</th>\n",
              "      <th>subscription_type</th>\n",
              "    </tr>\n",
              "  </thead>\n",
              "  <tbody>\n",
              "    <tr>\n",
              "      <th>0</th>\n",
              "      <td>1</td>\n",
              "      <td>Кира</td>\n",
              "      <td>22</td>\n",
              "      <td>Тюмень</td>\n",
              "      <td>ultra</td>\n",
              "    </tr>\n",
              "    <tr>\n",
              "      <th>1</th>\n",
              "      <td>2</td>\n",
              "      <td>Станислав</td>\n",
              "      <td>31</td>\n",
              "      <td>Омск</td>\n",
              "      <td>ultra</td>\n",
              "    </tr>\n",
              "    <tr>\n",
              "      <th>2</th>\n",
              "      <td>3</td>\n",
              "      <td>Алексей</td>\n",
              "      <td>20</td>\n",
              "      <td>Москва</td>\n",
              "      <td>ultra</td>\n",
              "    </tr>\n",
              "    <tr>\n",
              "      <th>3</th>\n",
              "      <td>4</td>\n",
              "      <td>Константин</td>\n",
              "      <td>26</td>\n",
              "      <td>Ростов-на-Дону</td>\n",
              "      <td>ultra</td>\n",
              "    </tr>\n",
              "    <tr>\n",
              "      <th>4</th>\n",
              "      <td>5</td>\n",
              "      <td>Адель</td>\n",
              "      <td>28</td>\n",
              "      <td>Омск</td>\n",
              "      <td>ultra</td>\n",
              "    </tr>\n",
              "  </tbody>\n",
              "</table>\n",
              "</div>"
            ],
            "text/plain": [
              "   user_id        name  age            city subscription_type\n",
              "0        1        Кира   22          Тюмень             ultra\n",
              "1        2   Станислав   31            Омск             ultra\n",
              "2        3     Алексей   20          Москва             ultra\n",
              "3        4  Константин   26  Ростов-на-Дону             ultra\n",
              "4        5       Адель   28            Омск             ultra"
            ]
          },
          "execution_count": 3,
          "metadata": {},
          "output_type": "execute_result"
        }
      ],
      "source": [
        "# изучим данные в таблице о пользователях и их подписках\n",
        "data_users.info()\n",
        "data_users.head()"
      ]
    },
    {
      "cell_type": "code",
      "execution_count": null,
      "id": "f6395c55",
      "metadata": {
        "id": "f6395c55",
        "outputId": "3bf4e00b-178e-4a87-8730-fcfe9ee5eeea"
      },
      "outputs": [
        {
          "name": "stdout",
          "output_type": "stream",
          "text": [
            "<class 'pandas.core.frame.DataFrame'>\n",
            "RangeIndex: 18068 entries, 0 to 18067\n",
            "Data columns (total 4 columns):\n",
            " #   Column    Non-Null Count  Dtype  \n",
            "---  ------    --------------  -----  \n",
            " 0   user_id   18068 non-null  int64  \n",
            " 1   distance  18068 non-null  float64\n",
            " 2   duration  18068 non-null  float64\n",
            " 3   date      18068 non-null  object \n",
            "dtypes: float64(2), int64(1), object(1)\n",
            "memory usage: 564.8+ KB\n"
          ]
        },
        {
          "data": {
            "text/html": [
              "<div>\n",
              "<style scoped>\n",
              "    .dataframe tbody tr th:only-of-type {\n",
              "        vertical-align: middle;\n",
              "    }\n",
              "\n",
              "    .dataframe tbody tr th {\n",
              "        vertical-align: top;\n",
              "    }\n",
              "\n",
              "    .dataframe thead th {\n",
              "        text-align: right;\n",
              "    }\n",
              "</style>\n",
              "<table border=\"1\" class=\"dataframe\">\n",
              "  <thead>\n",
              "    <tr style=\"text-align: right;\">\n",
              "      <th></th>\n",
              "      <th>user_id</th>\n",
              "      <th>distance</th>\n",
              "      <th>duration</th>\n",
              "      <th>date</th>\n",
              "    </tr>\n",
              "  </thead>\n",
              "  <tbody>\n",
              "    <tr>\n",
              "      <th>0</th>\n",
              "      <td>1</td>\n",
              "      <td>4409.919140</td>\n",
              "      <td>25.599769</td>\n",
              "      <td>2021-01-01</td>\n",
              "    </tr>\n",
              "    <tr>\n",
              "      <th>1</th>\n",
              "      <td>1</td>\n",
              "      <td>2617.592153</td>\n",
              "      <td>15.816871</td>\n",
              "      <td>2021-01-18</td>\n",
              "    </tr>\n",
              "    <tr>\n",
              "      <th>2</th>\n",
              "      <td>1</td>\n",
              "      <td>754.159807</td>\n",
              "      <td>6.232113</td>\n",
              "      <td>2021-04-20</td>\n",
              "    </tr>\n",
              "    <tr>\n",
              "      <th>3</th>\n",
              "      <td>1</td>\n",
              "      <td>2694.783254</td>\n",
              "      <td>18.511000</td>\n",
              "      <td>2021-08-11</td>\n",
              "    </tr>\n",
              "    <tr>\n",
              "      <th>4</th>\n",
              "      <td>1</td>\n",
              "      <td>4028.687306</td>\n",
              "      <td>26.265803</td>\n",
              "      <td>2021-08-28</td>\n",
              "    </tr>\n",
              "  </tbody>\n",
              "</table>\n",
              "</div>"
            ],
            "text/plain": [
              "   user_id     distance   duration        date\n",
              "0        1  4409.919140  25.599769  2021-01-01\n",
              "1        1  2617.592153  15.816871  2021-01-18\n",
              "2        1   754.159807   6.232113  2021-04-20\n",
              "3        1  2694.783254  18.511000  2021-08-11\n",
              "4        1  4028.687306  26.265803  2021-08-28"
            ]
          },
          "execution_count": 4,
          "metadata": {},
          "output_type": "execute_result"
        }
      ],
      "source": [
        "# изучим данные в таблице о поездках\n",
        "data_rides.info()\n",
        "data_rides.head()"
      ]
    },
    {
      "cell_type": "code",
      "execution_count": null,
      "id": "7c8b00de",
      "metadata": {
        "id": "7c8b00de",
        "outputId": "fe1b2c5e-826b-4bb3-cadd-be6396b34cef"
      },
      "outputs": [
        {
          "name": "stdout",
          "output_type": "stream",
          "text": [
            "<class 'pandas.core.frame.DataFrame'>\n",
            "RangeIndex: 2 entries, 0 to 1\n",
            "Data columns (total 4 columns):\n",
            " #   Column             Non-Null Count  Dtype \n",
            "---  ------             --------------  ----- \n",
            " 0   subscription_type  2 non-null      object\n",
            " 1   minute_price       2 non-null      int64 \n",
            " 2   start_ride_price   2 non-null      int64 \n",
            " 3   subscription_fee   2 non-null      int64 \n",
            "dtypes: int64(3), object(1)\n",
            "memory usage: 192.0+ bytes\n"
          ]
        },
        {
          "data": {
            "text/html": [
              "<div>\n",
              "<style scoped>\n",
              "    .dataframe tbody tr th:only-of-type {\n",
              "        vertical-align: middle;\n",
              "    }\n",
              "\n",
              "    .dataframe tbody tr th {\n",
              "        vertical-align: top;\n",
              "    }\n",
              "\n",
              "    .dataframe thead th {\n",
              "        text-align: right;\n",
              "    }\n",
              "</style>\n",
              "<table border=\"1\" class=\"dataframe\">\n",
              "  <thead>\n",
              "    <tr style=\"text-align: right;\">\n",
              "      <th></th>\n",
              "      <th>subscription_type</th>\n",
              "      <th>minute_price</th>\n",
              "      <th>start_ride_price</th>\n",
              "      <th>subscription_fee</th>\n",
              "    </tr>\n",
              "  </thead>\n",
              "  <tbody>\n",
              "    <tr>\n",
              "      <th>0</th>\n",
              "      <td>free</td>\n",
              "      <td>8</td>\n",
              "      <td>50</td>\n",
              "      <td>0</td>\n",
              "    </tr>\n",
              "    <tr>\n",
              "      <th>1</th>\n",
              "      <td>ultra</td>\n",
              "      <td>6</td>\n",
              "      <td>0</td>\n",
              "      <td>199</td>\n",
              "    </tr>\n",
              "  </tbody>\n",
              "</table>\n",
              "</div>"
            ],
            "text/plain": [
              "  subscription_type  minute_price  start_ride_price  subscription_fee\n",
              "0              free             8                50                 0\n",
              "1             ultra             6                 0               199"
            ]
          },
          "execution_count": 5,
          "metadata": {},
          "output_type": "execute_result"
        }
      ],
      "source": [
        "# изучим данные в таблице о видах подписок\n",
        "data_sub.info()\n",
        "data_sub.head()"
      ]
    },
    {
      "cell_type": "markdown",
      "id": "8708d532",
      "metadata": {
        "id": "8708d532"
      },
      "source": [
        "**Вывод:**\n",
        "После первичного просмотра данных, мы обнаружили, что в нашем проекте представлено 3 датасета, содержащих информацию о пользователях, поездках и подписках.\n",
        "\n",
        "Первый датасет содержит следующие столбцы:\n",
        "- `user_id`: уникальный идентификатор пользователя;\n",
        "- `name`: имя пользователя;\n",
        "- `age`: возраст пользователя;\n",
        "- `city`: город, в котором пользователь зарегистрирован;\n",
        "- `subscription_type`: тип подписки пользователя, которая может быть \"free\" или \"ultra\".\n",
        "\n",
        "Второй датасет содержит информацию о поездках и имеет следующие столбцы:\n",
        "- `user_id`: уникальный идентификатор пользователя, совершившего поездку;\n",
        "- `distance`: расстояние, которое пользователь проехал в текущей поездке (в метрах);\n",
        "- `duration`: продолжительность поездки (в минутах) - время с того момента, как пользователь начал поездку до момента её завершения;\n",
        "- `date`: дата совершения поездки.\n",
        "\n",
        "Третий датасет содержит информацию о подписках и включает следующие столбцы:\n",
        "- `subscription_type`: тип подписки;\n",
        "- `minute_price`: стоимость одной минуты поездки по данной подписке;\n",
        "- `start_ride_price`: стоимость начала поездки;\n",
        "- `subscription_fee`: стоимость ежемесячного платежа за подписку.\n",
        "\n",
        "Отмечается, что в данных нет пропущенных значений. Однако, для более удобной работы с датами, нам потребуется перевести формат даты в соответствующий формат в Python.\n",
        "\n",
        "Эти первичные выводы дают нам общее представление о структуре данных и позволяют нам приступить к следующим шагам анализа, включая предобработку данных и проведение исследовательского анализа данных."
      ]
    },
    {
      "cell_type": "markdown",
      "id": "e95ebca7",
      "metadata": {
        "id": "e95ebca7"
      },
      "source": [
        "#### Шаг 2. Предобработка данных"
      ]
    },
    {
      "cell_type": "code",
      "execution_count": null,
      "id": "af6d202c",
      "metadata": {
        "id": "af6d202c"
      },
      "outputs": [],
      "source": [
        "# изменим формат записи даты\n",
        "data_rides['date'] = pd.to_datetime(data_rides['date'], format='%Y-%m-%d')"
      ]
    },
    {
      "cell_type": "code",
      "execution_count": null,
      "id": "f532472a",
      "metadata": {
        "id": "f532472a"
      },
      "outputs": [],
      "source": [
        "# создаем новый столбец 'month' с номером месяца\n",
        "data_rides['month'] = data_rides['date'].dt.month"
      ]
    },
    {
      "cell_type": "code",
      "execution_count": null,
      "id": "e773e22e",
      "metadata": {
        "id": "e773e22e",
        "outputId": "3b27ac24-6316-44c1-bbd3-1605a2450643"
      },
      "outputs": [
        {
          "data": {
            "text/plain": [
              "array([ 1,  2,  3,  4,  5,  6,  7,  8,  9, 10, 11, 12])"
            ]
          },
          "execution_count": 8,
          "metadata": {},
          "output_type": "execute_result"
        }
      ],
      "source": [
        "# за какой год представленны данные?\n",
        "data_rides['date'].dt.year.unique()\n",
        "\n",
        "# за какие месяца?\n",
        "data_rides['month'].sort_values().unique()"
      ]
    },
    {
      "cell_type": "markdown",
      "id": "75baa6b4",
      "metadata": {
        "id": "75baa6b4"
      },
      "source": [
        "Несмотря на то, что при чтении таблиц уже было видно отсутсвие пропущенных значений, было решено перепроверить этот факт на всякий случай."
      ]
    },
    {
      "cell_type": "code",
      "execution_count": null,
      "id": "d78bab85",
      "metadata": {
        "id": "d78bab85",
        "outputId": "dcb478c8-a166-4bc4-9fb2-497ab8a037e2"
      },
      "outputs": [
        {
          "data": {
            "text/plain": [
              "subscription_type    0\n",
              "minute_price         0\n",
              "start_ride_price     0\n",
              "subscription_fee     0\n",
              "dtype: int64"
            ]
          },
          "execution_count": 9,
          "metadata": {},
          "output_type": "execute_result"
        }
      ],
      "source": [
        "data_users.isna().sum()\n",
        "data_rides.isna().sum()\n",
        "data_sub.isna().sum()"
      ]
    },
    {
      "cell_type": "code",
      "execution_count": null,
      "id": "c8a79aee",
      "metadata": {
        "id": "c8a79aee",
        "outputId": "e5f4d5bf-7806-4bea-8911-14887f4852e5"
      },
      "outputs": [
        {
          "data": {
            "text/plain": [
              "0"
            ]
          },
          "execution_count": 10,
          "metadata": {},
          "output_type": "execute_result"
        }
      ],
      "source": [
        "# проверим данные на наличие дубликатов\n",
        "data_users.duplicated().sum() # 31 дубликат\n",
        "data_rides.duplicated().sum() # 0 дубликатов\n",
        "data_sub.duplicated().sum() # 0 дубликатов"
      ]
    },
    {
      "cell_type": "code",
      "execution_count": null,
      "id": "aede630b",
      "metadata": {
        "id": "aede630b"
      },
      "outputs": [],
      "source": [
        "# удалим явные дубликаты в датасете по пользователям\n",
        "data_users = data_users.drop_duplicates().reset_index(drop=True)"
      ]
    },
    {
      "cell_type": "markdown",
      "id": "c54c55e3",
      "metadata": {
        "id": "c54c55e3"
      },
      "source": [
        "**Вывод:**\n",
        "По результатам предобработки данных, были выполнены следующие операции:\n",
        "\n",
        "1. **Приведение столбца `date` к типу даты pandas:**\n",
        "   Мы преобразовали столбец `date` в формат даты, что позволит нам удобно работать с временными данными и выполнять анализ на основе дат.\n",
        "\n",
        "2. **Создание нового столбца с номером месяца:**\n",
        "   Для удобства анализа по временным периодам, мы добавили новый столбец с номером месяца на основе информации из столбца `date`. Таким образом, мы сможем производить анализ и рассчитать выручку по месяцам. Так же было выяснено, что данные представлены за каждый месяц 2021 года.\n",
        "\n",
        "3. **Проверка наличия пропущенных значений и дубликатов:**\n",
        "   Обнаружено, что в данных нет пропусков, что позволяет нам работать с полными данными.\n",
        "\n",
        "4. **Обработка дубликатов в первом датасете:**\n",
        "   Мы обнаружили дубликаты в первом датасете, который содержит информацию о пользователях. Для обработки дубликатов, мы применили необходимые методы, чтобы удалить повторяющиеся записи и сохранить только уникальные данные о пользователях.\n",
        "\n",
        "В результате предобработки данных мы подготовили данные для выполнения следующих этапов проекта, включая исследовательский анализ данных и проверку гипотез."
      ]
    },
    {
      "cell_type": "markdown",
      "id": "212593c7",
      "metadata": {
        "id": "212593c7"
      },
      "source": [
        "#### Шаг 3. Исследовательский анализ данных"
      ]
    },
    {
      "cell_type": "code",
      "execution_count": null,
      "id": "d6a6379c",
      "metadata": {
        "id": "d6a6379c",
        "outputId": "055d6140-6414-413d-bddc-a5f3bab33710"
      },
      "outputs": [
        {
          "data": {
            "text/plain": [
              "Text(0, 0.5, 'Количество пользователей')"
            ]
          },
          "execution_count": 12,
          "metadata": {},
          "output_type": "execute_result"
        },
        {
          "data": {
            "image/png": "[encoded data removed]",
            "text/plain": [
              "<Figure size 432x288 with 1 Axes>"
            ]
          },
          "metadata": {
            "needs_background": "light"
          },
          "output_type": "display_data"
        }
      ],
      "source": [
        "data_users['city'].value_counts()\n",
        "\n",
        "# построим столбчатую диаграмму\n",
        "data_users['city'].value_counts().plot(kind = 'bar')\n",
        "plt.grid(True)\n",
        "plt.title('Распределение пользователей по городам')\n",
        "plt.xlabel('Города')\n",
        "plt.ylabel('Количество пользователей')"
      ]
    },
    {
      "cell_type": "markdown",
      "id": "699e6142",
      "metadata": {
        "id": "699e6142"
      },
      "source": [
        "По данным можно сделать вывод, что наибольшее число пользователей свервиса проживает в Пятигорске (219), наименьшее число пользователей - в Москве (168)."
      ]
    },
    {
      "cell_type": "code",
      "execution_count": null,
      "id": "d546b9f0",
      "metadata": {
        "id": "d546b9f0",
        "outputId": "34559f04-e967-4112-a4c2-412c56206fbf"
      },
      "outputs": [
        {
          "data": {
            "text/plain": [
              "Text(0, 0.5, 'Тип подписки')"
            ]
          },
          "execution_count": 13,
          "metadata": {},
          "output_type": "execute_result"
        },
        {
          "data": {
            "image/png": "[encoded data removed]",
            "text/plain": [
              "<Figure size 432x288 with 1 Axes>"
            ]
          },
          "metadata": {},
          "output_type": "display_data"
        }
      ],
      "source": [
        "data_users['subscription_type'].value_counts()\n",
        "\n",
        "# построим диаграмму\n",
        "data_users['subscription_type'].value_counts().plot(kind='pie', autopct='%1.0f%%')\n",
        "plt.grid(True)\n",
        "plt.title('Количество пользователей в зависимости от типа подписки')\n",
        "plt.ylabel('Тип подписки')"
      ]
    },
    {
      "cell_type": "markdown",
      "id": "c52eb252",
      "metadata": {
        "id": "c52eb252"
      },
      "source": [
        "По данным видно, что больше пользователей (835 человек = 54%) не пользуются подпиской, в то время как подпиской ультра пользуются 699 (= 46%) человек."
      ]
    },
    {
      "cell_type": "code",
      "execution_count": null,
      "id": "54f88fa4",
      "metadata": {
        "id": "54f88fa4",
        "outputId": "e1ad3504-b154-43fa-b7e0-aa813284b601"
      },
      "outputs": [
        {
          "data": {
            "image/png": "[encoded data removed]",
            "text/plain": [
              "<Figure size 432x288 with 1 Axes>"
            ]
          },
          "metadata": {
            "needs_background": "light"
          },
          "output_type": "display_data"
        },
        {
          "data": {
            "text/plain": [
              "<AxesSubplot:>"
            ]
          },
          "execution_count": 14,
          "metadata": {},
          "output_type": "execute_result"
        },
        {
          "data": {
            "image/png": "[encoded data removed]",
            "text/plain": [
              "<Figure size 432x288 with 1 Axes>"
            ]
          },
          "metadata": {
            "needs_background": "light"
          },
          "output_type": "display_data"
        }
      ],
      "source": [
        "data_users['age'].value_counts()\n",
        "\n",
        "# построим диаграмму с сортировкой по увеличению возраста\n",
        "plt.hist(data_users['age'], bins=range(12, 44), edgecolor='black')\n",
        "plt.title('Распределение пользователей по возрасту')\n",
        "plt.xlabel('Возраст')\n",
        "plt.ylabel('Количество пользователей')\n",
        "None\n",
        "plt.show()\n",
        "\n",
        "# построим ящик с усами, чтобы увидеть, есть ли выбросы по возрасту\n",
        "data_users['age'].plot(kind='box')"
      ]
    },
    {
      "cell_type": "markdown",
      "id": "bab01620",
      "metadata": {
        "id": "bab01620"
      },
      "source": [
        "Больше всех среди пользователей людей в возрасте 25 лет, внушительная группа пользователей - 23-29 лет, совсем мало людей после 37 лет. Второй график показывает, что есть редкие, отходящие от нормы значения - пользователи возраста до 13 и после 37 лет."
      ]
    },
    {
      "cell_type": "code",
      "execution_count": null,
      "id": "656c8a22",
      "metadata": {
        "id": "656c8a22",
        "outputId": "6fb4ee1d-d9bb-4788-a24b-cb03d6c86fcc"
      },
      "outputs": [
        {
          "data": {
            "image/png": "[encoded data removed]",
            "text/plain": [
              "<Figure size 432x288 with 1 Axes>"
            ]
          },
          "metadata": {
            "needs_background": "light"
          },
          "output_type": "display_data"
        },
        {
          "data": {
            "text/plain": [
              "<AxesSubplot:>"
            ]
          },
          "execution_count": 15,
          "metadata": {},
          "output_type": "execute_result"
        },
        {
          "data": {
            "image/png": "[encoded data removed]",
            "text/plain": [
              "<Figure size 432x288 with 1 Axes>"
            ]
          },
          "metadata": {
            "needs_background": "light"
          },
          "output_type": "display_data"
        }
      ],
      "source": [
        "data_rides['distance'].plot(kind='hist', bins=100)\n",
        "plt.grid(True)\n",
        "plt.title('Распределение пользователей по дистанции поездок')\n",
        "plt.xlabel('Дистанция в метрах')\n",
        "plt.ylabel('Количество пользователей')\n",
        "plt.show()\n",
        "\n",
        "# построим ящик с усами, чтобы увидеть, есть ли выбросы по дистанции\n",
        "data_rides['distance'].plot(kind='box')"
      ]
    },
    {
      "cell_type": "markdown",
      "id": "a85e3864",
      "metadata": {
        "id": "a85e3864"
      },
      "source": [
        "По гистограмме видно, что большая часть пользователей берет самокат на относительно далекие поездки — 2.5-3.5 км. Заметна так же группа пользователей, которые совершают на самокатах короткие поездки — до 1.5 км. Совсем малое число пользователей проезжают больше 5.5 км. График выбросов показывает, что поездки до 800 метров и больше 5500 метров являются редкими и выбивающимися значениями."
      ]
    },
    {
      "cell_type": "code",
      "execution_count": null,
      "id": "1b02d568",
      "metadata": {
        "id": "1b02d568",
        "outputId": "9ba96352-5a04-45fc-fb54-c8363fc45c33"
      },
      "outputs": [
        {
          "data": {
            "image/png": "[encoded data removed]",
            "text/plain": [
              "<Figure size 432x288 with 1 Axes>"
            ]
          },
          "metadata": {
            "needs_background": "light"
          },
          "output_type": "display_data"
        },
        {
          "data": {
            "text/plain": [
              "<AxesSubplot:>"
            ]
          },
          "execution_count": 16,
          "metadata": {},
          "output_type": "execute_result"
        },
        {
          "data": {
            "image/png": "[encoded data removed]",
            "text/plain": [
              "<Figure size 432x288 with 1 Axes>"
            ]
          },
          "metadata": {
            "needs_background": "light"
          },
          "output_type": "display_data"
        }
      ],
      "source": [
        "data_rides['duration'].plot(kind='hist', bins=50)\n",
        "plt.grid(True)\n",
        "plt.title('Распределение пользователей по длительности поездок')\n",
        "plt.xlabel('Длительность в минутах')\n",
        "plt.ylabel('Количество пользователей')\n",
        "data_rides['duration'].describe()\n",
        "plt.show()\n",
        "\n",
        "# построим ящик с усами, чтобы увидеть, есть ли выбросы по длительности поездок\n",
        "data_rides['duration'].plot(kind='box')"
      ]
    },
    {
      "cell_type": "markdown",
      "id": "f0fd1af9",
      "metadata": {
        "id": "f0fd1af9"
      },
      "source": [
        "Большинство пользователей используют самокат на протяжении 12-22 минут, в обе стороны по уменьшению и по увеличению времени количество пользователей уменьшается. Второй график показывает, что поездки до 3 минут и больше 33 минут являются редкими и выбивающимися значениями."
      ]
    },
    {
      "cell_type": "markdown",
      "id": "4c94899b",
      "metadata": {
        "id": "4c94899b"
      },
      "source": [
        "**Вывод:**\n",
        "По результатам исследовательского анализа данных, мы сделали следующие выводы:\n",
        "\n",
        "1. **Частота встречаемости городов:**\n",
        "   По анализу данных о городах, в которых проживают пользователи, мы выяснили, что наибольшее число пользователей зарегистрировано в городе Пятигорске (219 человек), в то время как наименьшее количество пользователей в городе Москва (168 человек).\n",
        "\n",
        "2. **Соотношение пользователей с подпиской и без подписки:**\n",
        "   Мы установили, что большее количество пользователей (835 человек, что составляет 54%) не пользуются платными подписками, в то время как подпиской \"ультра\" пользуются 699 пользователей (что составляет 46%). Это может быть важной информацией для бизнеса, чтобы понять, как эффективно продвигать и стимулировать использование подписок.\n",
        "\n",
        "3. **Возраст пользователей:**\n",
        "   На основе анализа возрастных данных пользователей мы выяснили, что наибольшее количество пользователей относится к возрастной группе 25 лет. Значительная группа пользователей находится в возрастном диапазоне 23-29 лет, однако количество пользователей значительно уменьшается после 37 лет. Эта информация поможет сфокусироваться на молодой аудитории и разработать маркетинговые стратегии для привлечения пользователей старшего возраста.\n",
        "\n",
        "4. **Расстояние, которое пользователь преодолел за одну поездку:**\n",
        "   Анализ расстояния, преодоленного за одну поездку, показал, что большая часть пользователей предпочитает относительно дальние поездки в диапазоне 2.5-3.5 км. Также заметна группа пользователей, которые предпочитают короткие поездки до 1.5 км. Однако лишь небольшое число пользователей выбирает поездки более 5.5 км. Это знание может помочь оптимизировать размещение точек проката и разрабатывать специальные предложения для различных категорий пользователей.\n",
        "\n",
        "5. **Продолжительность поездок:**\n",
        "   Анализ продолжительности поездок показал, что большинство пользователей пользуются самокатами в течение 12-22 минут. С увеличением или уменьшением времени количество пользователей снижается. Это позволяет нам определить медианную продолжительность поездки (14 минут)."
      ]
    },
    {
      "cell_type": "markdown",
      "id": "4ef51331",
      "metadata": {
        "id": "4ef51331"
      },
      "source": [
        "#### Шаг 4. Объединение данных"
      ]
    },
    {
      "cell_type": "code",
      "execution_count": null,
      "id": "b080c957",
      "metadata": {
        "id": "b080c957",
        "outputId": "aa28e647-723b-4495-d6a1-bf7ac295b3ed"
      },
      "outputs": [
        {
          "data": {
            "text/html": [
              "<div>\n",
              "<style scoped>\n",
              "    .dataframe tbody tr th:only-of-type {\n",
              "        vertical-align: middle;\n",
              "    }\n",
              "\n",
              "    .dataframe tbody tr th {\n",
              "        vertical-align: top;\n",
              "    }\n",
              "\n",
              "    .dataframe thead th {\n",
              "        text-align: right;\n",
              "    }\n",
              "</style>\n",
              "<table border=\"1\" class=\"dataframe\">\n",
              "  <thead>\n",
              "    <tr style=\"text-align: right;\">\n",
              "      <th></th>\n",
              "      <th>user_id</th>\n",
              "      <th>name</th>\n",
              "      <th>age</th>\n",
              "      <th>city</th>\n",
              "      <th>subscription_type</th>\n",
              "      <th>distance</th>\n",
              "      <th>duration</th>\n",
              "      <th>date</th>\n",
              "      <th>month</th>\n",
              "      <th>minute_price</th>\n",
              "      <th>start_ride_price</th>\n",
              "      <th>subscription_fee</th>\n",
              "    </tr>\n",
              "  </thead>\n",
              "  <tbody>\n",
              "    <tr>\n",
              "      <th>0</th>\n",
              "      <td>1</td>\n",
              "      <td>Кира</td>\n",
              "      <td>22</td>\n",
              "      <td>Тюмень</td>\n",
              "      <td>ultra</td>\n",
              "      <td>4409.919140</td>\n",
              "      <td>25.599769</td>\n",
              "      <td>2021-01-01</td>\n",
              "      <td>1</td>\n",
              "      <td>6</td>\n",
              "      <td>0</td>\n",
              "      <td>199</td>\n",
              "    </tr>\n",
              "    <tr>\n",
              "      <th>1</th>\n",
              "      <td>1</td>\n",
              "      <td>Кира</td>\n",
              "      <td>22</td>\n",
              "      <td>Тюмень</td>\n",
              "      <td>ultra</td>\n",
              "      <td>2617.592153</td>\n",
              "      <td>15.816871</td>\n",
              "      <td>2021-01-18</td>\n",
              "      <td>1</td>\n",
              "      <td>6</td>\n",
              "      <td>0</td>\n",
              "      <td>199</td>\n",
              "    </tr>\n",
              "    <tr>\n",
              "      <th>2</th>\n",
              "      <td>1</td>\n",
              "      <td>Кира</td>\n",
              "      <td>22</td>\n",
              "      <td>Тюмень</td>\n",
              "      <td>ultra</td>\n",
              "      <td>754.159807</td>\n",
              "      <td>6.232113</td>\n",
              "      <td>2021-04-20</td>\n",
              "      <td>4</td>\n",
              "      <td>6</td>\n",
              "      <td>0</td>\n",
              "      <td>199</td>\n",
              "    </tr>\n",
              "    <tr>\n",
              "      <th>3</th>\n",
              "      <td>1</td>\n",
              "      <td>Кира</td>\n",
              "      <td>22</td>\n",
              "      <td>Тюмень</td>\n",
              "      <td>ultra</td>\n",
              "      <td>2694.783254</td>\n",
              "      <td>18.511000</td>\n",
              "      <td>2021-08-11</td>\n",
              "      <td>8</td>\n",
              "      <td>6</td>\n",
              "      <td>0</td>\n",
              "      <td>199</td>\n",
              "    </tr>\n",
              "    <tr>\n",
              "      <th>4</th>\n",
              "      <td>1</td>\n",
              "      <td>Кира</td>\n",
              "      <td>22</td>\n",
              "      <td>Тюмень</td>\n",
              "      <td>ultra</td>\n",
              "      <td>4028.687306</td>\n",
              "      <td>26.265803</td>\n",
              "      <td>2021-08-28</td>\n",
              "      <td>8</td>\n",
              "      <td>6</td>\n",
              "      <td>0</td>\n",
              "      <td>199</td>\n",
              "    </tr>\n",
              "  </tbody>\n",
              "</table>\n",
              "</div>"
            ],
            "text/plain": [
              "   user_id  name  age    city subscription_type     distance   duration  \\\n",
              "0        1  Кира   22  Тюмень             ultra  4409.919140  25.599769   \n",
              "1        1  Кира   22  Тюмень             ultra  2617.592153  15.816871   \n",
              "2        1  Кира   22  Тюмень             ultra   754.159807   6.232113   \n",
              "3        1  Кира   22  Тюмень             ultra  2694.783254  18.511000   \n",
              "4        1  Кира   22  Тюмень             ultra  4028.687306  26.265803   \n",
              "\n",
              "        date  month  minute_price  start_ride_price  subscription_fee  \n",
              "0 2021-01-01      1             6                 0               199  \n",
              "1 2021-01-18      1             6                 0               199  \n",
              "2 2021-04-20      4             6                 0               199  \n",
              "3 2021-08-11      8             6                 0               199  \n",
              "4 2021-08-28      8             6                 0               199  "
            ]
          },
          "execution_count": 17,
          "metadata": {},
          "output_type": "execute_result"
        }
      ],
      "source": [
        "# объединяем датафреймы с информацией о пользователе и его поездках, сохраняя все строки второго датасета\n",
        "data_user_rides = data_users.merge(data_rides, on='user_id', how='right')\n",
        "\n",
        "# объединим получившийся датасет с третьей таблицей с информацией о подписках\n",
        "data = data_user_rides.merge(data_sub, on='subscription_type', how='left')\n",
        "data.head()"
      ]
    },
    {
      "cell_type": "code",
      "execution_count": null,
      "id": "7ac0b2b0",
      "metadata": {
        "id": "7ac0b2b0"
      },
      "outputs": [],
      "source": [
        "# создаздим 2 датафрейма по типу подписок\n",
        "# датафрейм с данными пользователей С подпиской\n",
        "data_ultra = data.query('subscription_type == \"ultra\"')\n",
        "\n",
        "# датафрейм с данными пользователей БЕЗ подписки\n",
        "data_free = data.query('subscription_type == \"free\"')"
      ]
    },
    {
      "cell_type": "code",
      "execution_count": null,
      "id": "cc4a999a",
      "metadata": {
        "id": "cc4a999a",
        "outputId": "59ec5f10-6076-4f20-8cb3-320a61958ad7"
      },
      "outputs": [
        {
          "data": {
            "text/plain": [
              "(11568, 12)"
            ]
          },
          "execution_count": 19,
          "metadata": {},
          "output_type": "execute_result"
        }
      ],
      "source": [
        "# проверим размерность датафреймов до объединения\n",
        "data_users.shape # 1534 строки 5 столбцов\n",
        "data_rides.shape # 18068 строк 5 столбцов\n",
        "data_sub.shape # 2 строки 4 столбца\n",
        "\n",
        "# проверим размерность датафреймов во время объединения\n",
        "data_user_rides.shape # 18068 строк 9 столбцов\n",
        "\n",
        "# проверим размерность объединенного датафрейма\n",
        "data.shape # 18068 строк 12 столбцов\n",
        "\n",
        "# проверим размерность датафрейма пользователей с подпиской\n",
        "data_ultra.shape # 6500 строк 12 столбцов\n",
        "\n",
        "# проверим размерность датафрейма пользователей без подписки\n",
        "data_free.shape # 11568 строк 12 столбцов"
      ]
    },
    {
      "cell_type": "markdown",
      "id": "15639ef6",
      "metadata": {
        "id": "15639ef6"
      },
      "source": [
        "Проверка размерности датафреймов говорит нам о корректном объединении и разделении датафреймов. Так, количество столбцов обосновывается тем, что сначала произошло слияние по 1 столбцу (`user_id`) => столбцов стало 5+5-1, затем добавился третий датафрейм с объединением по типу подписки (`subscription_type`) => 9+4-1 => 12 столбцов финального датафрейма. Колчиство строк так же доказывает, что процесс прошел корректно. При объединении датафреймов было важно сохранить данные по каждой поездки, поэтому в объединенном датафрейме 18 068 строк. Сумма датафреймов по типам подписки: 6500 + 11568 = 18068."
      ]
    },
    {
      "cell_type": "code",
      "execution_count": null,
      "id": "f554ee2f",
      "metadata": {
        "id": "f554ee2f",
        "outputId": "6462923d-e410-4bb4-e04a-6e02148d277a"
      },
      "outputs": [
        {
          "data": {
            "image/png": "[encoded data removed]",
            "text/plain": [
              "<Figure size 432x288 with 1 Axes>"
            ]
          },
          "metadata": {
            "needs_background": "light"
          },
          "output_type": "display_data"
        },
        {
          "data": {
            "text/plain": [
              "Text(0, 0.5, 'Количество пользователей')"
            ]
          },
          "execution_count": 20,
          "metadata": {},
          "output_type": "execute_result"
        },
        {
          "data": {
            "image/png": "[encoded data removed]",
            "text/plain": [
              "<Figure size 432x288 with 1 Axes>"
            ]
          },
          "metadata": {
            "needs_background": "light"
          },
          "output_type": "display_data"
        }
      ],
      "source": [
        "# создадим 2 гистограммы, показывающие расстояние и время поездок пользователей С подпиской\n",
        "# гистограмма дистанции\n",
        "data_ultra['distance'].plot(kind='hist', bins=50)\n",
        "plt.grid(True)\n",
        "plt.title('Дистанция с подпиской')\n",
        "plt.xlabel('Расстояние в метрах')\n",
        "plt.ylabel('Количество пользователей')\n",
        "plt.show()\n",
        "\n",
        "# гистограмма длительности\n",
        "data_ultra['duration'].plot(kind='hist', bins=50)\n",
        "plt.grid(True)\n",
        "plt.title('Длительность с подпиской')\n",
        "plt.xlabel('Длительность в минутах')\n",
        "plt.ylabel('Количество пользователей')"
      ]
    },
    {
      "cell_type": "code",
      "execution_count": null,
      "id": "5f52e20a",
      "metadata": {
        "id": "5f52e20a",
        "outputId": "3514939b-bc91-47fc-a760-df9378b8b59f"
      },
      "outputs": [
        {
          "data": {
            "image/png": "[encoded data removed]",
            "text/plain": [
              "<Figure size 432x288 with 1 Axes>"
            ]
          },
          "metadata": {
            "needs_background": "light"
          },
          "output_type": "display_data"
        },
        {
          "data": {
            "text/plain": [
              "Text(0, 0.5, 'Количество пользователей')"
            ]
          },
          "execution_count": 21,
          "metadata": {},
          "output_type": "execute_result"
        },
        {
          "data": {
            "image/png": "[encoded data removed]",
            "text/plain": [
              "<Figure size 432x288 with 1 Axes>"
            ]
          },
          "metadata": {
            "needs_background": "light"
          },
          "output_type": "display_data"
        }
      ],
      "source": [
        "# создадим 2 гистограммы, показывающие расстояние и время поездок пользователей БЕЗ подписки\n",
        "# гистограмма дистанции\n",
        "data_free['distance'].plot(kind='hist', bins=50)\n",
        "plt.grid(True)\n",
        "plt.title('Дистанция без подписки')\n",
        "plt.xlabel('Расстояние в метрах')\n",
        "plt.ylabel('Количество пользователей')\n",
        "plt.show()\n",
        "\n",
        "# гистограмма длительности\n",
        "data_free['duration'].plot(kind='hist', bins=50)\n",
        "plt.grid(True)\n",
        "plt.title('Длительность без подписки')\n",
        "plt.xlabel('Длительность в минутах')\n",
        "plt.ylabel('Количество пользователей')"
      ]
    },
    {
      "cell_type": "markdown",
      "id": "db899d80",
      "metadata": {
        "id": "db899d80"
      },
      "source": [
        "**Вывод:**\n",
        "По результатам объединения данных и визуализации информации о поездках для пользователей с подпиской и без подписки, мы можем сделать следующие выводы:\n",
        "\n",
        "1. **Объединение данных:**\n",
        "   Объединили данные о пользователях, поездках и подписках в один общий датафрейм.\n",
        "\n",
        "2. **Создание двух дополнительных датафреймов:**\n",
        "   На основе общего датафрейма, мы создали еще два датафрейма для категоризации пользователей: один для пользователей без подписки и другой для пользователей с подпиской. Это дало нам возможность рассмотреть поведение и предпочтения обеих групп пользователей отдельно.\n",
        "\n",
        "3. **Визуализация информации о расстоянии и времени поездок:**\n",
        "   Анализ расстояния и времени поездок для пользователей с подпиской и без подписки позволил выявить интересные особенности. Пользователи с подпиской чаще совершают поездки на расстояние около 3.1 км, и их продолжительность в основном находится в интервале от 15 до 20 минут. В то же время, пользователи без подписки предпочитают поездки на расстояние около 2.5 км и также часто совершают поездки продолжительностью от 15 до 20 минут.\n",
        "\n",
        "4. **Длительности поездок:**\n",
        "   Мы заметили, что для обеих категорий пользователей характерно преобладание поездок продолжительностью от 15 до 20 минут. В то же время, пользователи без подписки реже совершают поездки менее 5 минут или продолжительностью более 35 минут. Также стоит отметить, что пользователи с подпиской редко совершают очень короткие поездки до 200 метров и очень длинные свыше 5 км."
      ]
    },
    {
      "cell_type": "markdown",
      "id": "402d620f",
      "metadata": {
        "id": "402d620f"
      },
      "source": [
        "#### Шаг 5. Подсчёт выручки"
      ]
    },
    {
      "cell_type": "code",
      "execution_count": null,
      "id": "f19dc653",
      "metadata": {
        "id": "f19dc653",
        "outputId": "afbe7fda-45dd-4714-a975-ff338680b23f"
      },
      "outputs": [
        {
          "data": {
            "text/html": [
              "<div>\n",
              "<style scoped>\n",
              "    .dataframe tbody tr th:only-of-type {\n",
              "        vertical-align: middle;\n",
              "    }\n",
              "\n",
              "    .dataframe tbody tr th {\n",
              "        vertical-align: top;\n",
              "    }\n",
              "\n",
              "    .dataframe thead th {\n",
              "        text-align: right;\n",
              "    }\n",
              "</style>\n",
              "<table border=\"1\" class=\"dataframe\">\n",
              "  <thead>\n",
              "    <tr style=\"text-align: right;\">\n",
              "      <th></th>\n",
              "      <th>user_id</th>\n",
              "      <th>month</th>\n",
              "      <th>distance</th>\n",
              "      <th>ride_count</th>\n",
              "      <th>duration</th>\n",
              "      <th>subscription_type</th>\n",
              "    </tr>\n",
              "  </thead>\n",
              "  <tbody>\n",
              "    <tr>\n",
              "      <th>0</th>\n",
              "      <td>1</td>\n",
              "      <td>1</td>\n",
              "      <td>7027.511294</td>\n",
              "      <td>2</td>\n",
              "      <td>42.0</td>\n",
              "      <td>ultra</td>\n",
              "    </tr>\n",
              "    <tr>\n",
              "      <th>1</th>\n",
              "      <td>1</td>\n",
              "      <td>4</td>\n",
              "      <td>754.159807</td>\n",
              "      <td>1</td>\n",
              "      <td>7.0</td>\n",
              "      <td>ultra</td>\n",
              "    </tr>\n",
              "    <tr>\n",
              "      <th>2</th>\n",
              "      <td>1</td>\n",
              "      <td>8</td>\n",
              "      <td>6723.470560</td>\n",
              "      <td>2</td>\n",
              "      <td>46.0</td>\n",
              "      <td>ultra</td>\n",
              "    </tr>\n",
              "    <tr>\n",
              "      <th>3</th>\n",
              "      <td>1</td>\n",
              "      <td>10</td>\n",
              "      <td>5809.911100</td>\n",
              "      <td>2</td>\n",
              "      <td>32.0</td>\n",
              "      <td>ultra</td>\n",
              "    </tr>\n",
              "    <tr>\n",
              "      <th>4</th>\n",
              "      <td>1</td>\n",
              "      <td>11</td>\n",
              "      <td>7003.499363</td>\n",
              "      <td>3</td>\n",
              "      <td>56.0</td>\n",
              "      <td>ultra</td>\n",
              "    </tr>\n",
              "  </tbody>\n",
              "</table>\n",
              "</div>"
            ],
            "text/plain": [
              "   user_id  month     distance  ride_count  duration subscription_type\n",
              "0        1      1  7027.511294           2      42.0             ultra\n",
              "1        1      4   754.159807           1       7.0             ultra\n",
              "2        1      8  6723.470560           2      46.0             ultra\n",
              "3        1     10  5809.911100           2      32.0             ultra\n",
              "4        1     11  7003.499363           3      56.0             ultra"
            ]
          },
          "execution_count": 22,
          "metadata": {},
          "output_type": "execute_result"
        }
      ],
      "source": [
        "# округлим все duration\n",
        "data['duration'] = np.ceil(data['duration'])\n",
        "\n",
        "# группируем данные по пользователю и месяцу, агрегируем данные по суммарному расстоянию, количеству поездок и суммарному времени\n",
        "rides = data.groupby(['user_id', 'month']).agg({\n",
        "    'distance': ['sum', 'count'],\n",
        "    'duration': 'sum',\n",
        "    'subscription_type': 'first',\n",
        "}).reset_index()\n",
        "\n",
        "# переименование столбцов\n",
        "rides.columns = ['user_id', 'month', 'distance', 'ride_count', 'duration', 'subscription_type']\n",
        "\n",
        "rides.head()"
      ]
    },
    {
      "cell_type": "code",
      "execution_count": null,
      "id": "60615afc",
      "metadata": {
        "id": "60615afc",
        "outputId": "ca76d426-a100-4ce0-af54-41c8db6cbe44"
      },
      "outputs": [
        {
          "data": {
            "text/plain": [
              "user_id              0\n",
              "month                0\n",
              "distance             0\n",
              "ride_count           0\n",
              "duration             0\n",
              "subscription_type    0\n",
              "dtype: int64"
            ]
          },
          "execution_count": 23,
          "metadata": {},
          "output_type": "execute_result"
        }
      ],
      "source": [
        "rides.isna().sum()"
      ]
    },
    {
      "cell_type": "code",
      "execution_count": null,
      "id": "35beee66",
      "metadata": {
        "id": "35beee66",
        "outputId": "4678c6d4-eec9-4e79-f353-0a8f7af04301"
      },
      "outputs": [
        {
          "data": {
            "text/html": [
              "<div>\n",
              "<style scoped>\n",
              "    .dataframe tbody tr th:only-of-type {\n",
              "        vertical-align: middle;\n",
              "    }\n",
              "\n",
              "    .dataframe tbody tr th {\n",
              "        vertical-align: top;\n",
              "    }\n",
              "\n",
              "    .dataframe thead th {\n",
              "        text-align: right;\n",
              "    }\n",
              "</style>\n",
              "<table border=\"1\" class=\"dataframe\">\n",
              "  <thead>\n",
              "    <tr style=\"text-align: right;\">\n",
              "      <th></th>\n",
              "      <th>user_id</th>\n",
              "      <th>month</th>\n",
              "      <th>distance</th>\n",
              "      <th>ride_count</th>\n",
              "      <th>duration</th>\n",
              "      <th>subscription_type</th>\n",
              "      <th>revenue</th>\n",
              "    </tr>\n",
              "  </thead>\n",
              "  <tbody>\n",
              "    <tr>\n",
              "      <th>0</th>\n",
              "      <td>1</td>\n",
              "      <td>1</td>\n",
              "      <td>7027.511294</td>\n",
              "      <td>2</td>\n",
              "      <td>42.0</td>\n",
              "      <td>ultra</td>\n",
              "      <td>451.0</td>\n",
              "    </tr>\n",
              "    <tr>\n",
              "      <th>1</th>\n",
              "      <td>1</td>\n",
              "      <td>4</td>\n",
              "      <td>754.159807</td>\n",
              "      <td>1</td>\n",
              "      <td>7.0</td>\n",
              "      <td>ultra</td>\n",
              "      <td>241.0</td>\n",
              "    </tr>\n",
              "    <tr>\n",
              "      <th>2</th>\n",
              "      <td>1</td>\n",
              "      <td>8</td>\n",
              "      <td>6723.470560</td>\n",
              "      <td>2</td>\n",
              "      <td>46.0</td>\n",
              "      <td>ultra</td>\n",
              "      <td>475.0</td>\n",
              "    </tr>\n",
              "    <tr>\n",
              "      <th>3</th>\n",
              "      <td>1</td>\n",
              "      <td>10</td>\n",
              "      <td>5809.911100</td>\n",
              "      <td>2</td>\n",
              "      <td>32.0</td>\n",
              "      <td>ultra</td>\n",
              "      <td>391.0</td>\n",
              "    </tr>\n",
              "    <tr>\n",
              "      <th>4</th>\n",
              "      <td>1</td>\n",
              "      <td>11</td>\n",
              "      <td>7003.499363</td>\n",
              "      <td>3</td>\n",
              "      <td>56.0</td>\n",
              "      <td>ultra</td>\n",
              "      <td>535.0</td>\n",
              "    </tr>\n",
              "    <tr>\n",
              "      <th>...</th>\n",
              "      <td>...</td>\n",
              "      <td>...</td>\n",
              "      <td>...</td>\n",
              "      <td>...</td>\n",
              "      <td>...</td>\n",
              "      <td>...</td>\n",
              "      <td>...</td>\n",
              "    </tr>\n",
              "    <tr>\n",
              "      <th>11326</th>\n",
              "      <td>1534</td>\n",
              "      <td>6</td>\n",
              "      <td>3409.468534</td>\n",
              "      <td>2</td>\n",
              "      <td>26.0</td>\n",
              "      <td>free</td>\n",
              "      <td>308.0</td>\n",
              "    </tr>\n",
              "    <tr>\n",
              "      <th>11327</th>\n",
              "      <td>1534</td>\n",
              "      <td>8</td>\n",
              "      <td>7622.453034</td>\n",
              "      <td>2</td>\n",
              "      <td>48.0</td>\n",
              "      <td>free</td>\n",
              "      <td>484.0</td>\n",
              "    </tr>\n",
              "    <tr>\n",
              "      <th>11328</th>\n",
              "      <td>1534</td>\n",
              "      <td>9</td>\n",
              "      <td>4928.173852</td>\n",
              "      <td>1</td>\n",
              "      <td>23.0</td>\n",
              "      <td>free</td>\n",
              "      <td>234.0</td>\n",
              "    </tr>\n",
              "    <tr>\n",
              "      <th>11329</th>\n",
              "      <td>1534</td>\n",
              "      <td>11</td>\n",
              "      <td>13350.015305</td>\n",
              "      <td>4</td>\n",
              "      <td>78.0</td>\n",
              "      <td>free</td>\n",
              "      <td>824.0</td>\n",
              "    </tr>\n",
              "    <tr>\n",
              "      <th>11330</th>\n",
              "      <td>1534</td>\n",
              "      <td>12</td>\n",
              "      <td>2371.711192</td>\n",
              "      <td>1</td>\n",
              "      <td>16.0</td>\n",
              "      <td>free</td>\n",
              "      <td>178.0</td>\n",
              "    </tr>\n",
              "  </tbody>\n",
              "</table>\n",
              "<p>11331 rows × 7 columns</p>\n",
              "</div>"
            ],
            "text/plain": [
              "       user_id  month      distance  ride_count  duration subscription_type  \\\n",
              "0            1      1   7027.511294           2      42.0             ultra   \n",
              "1            1      4    754.159807           1       7.0             ultra   \n",
              "2            1      8   6723.470560           2      46.0             ultra   \n",
              "3            1     10   5809.911100           2      32.0             ultra   \n",
              "4            1     11   7003.499363           3      56.0             ultra   \n",
              "...        ...    ...           ...         ...       ...               ...   \n",
              "11326     1534      6   3409.468534           2      26.0              free   \n",
              "11327     1534      8   7622.453034           2      48.0              free   \n",
              "11328     1534      9   4928.173852           1      23.0              free   \n",
              "11329     1534     11  13350.015305           4      78.0              free   \n",
              "11330     1534     12   2371.711192           1      16.0              free   \n",
              "\n",
              "       revenue  \n",
              "0        451.0  \n",
              "1        241.0  \n",
              "2        475.0  \n",
              "3        391.0  \n",
              "4        535.0  \n",
              "...        ...  \n",
              "11326    308.0  \n",
              "11327    484.0  \n",
              "11328    234.0  \n",
              "11329    824.0  \n",
              "11330    178.0  \n",
              "\n",
              "[11331 rows x 7 columns]"
            ]
          },
          "execution_count": 24,
          "metadata": {},
          "output_type": "execute_result"
        }
      ],
      "source": [
        "# создадим функцию, которая будет считать выручку за каждого пользователя и за каждый месяц\n",
        "def calculate_result(row):\n",
        "    if row['subscription_type'] == 'ultra':\n",
        "        return 199 + 6 * row['duration']\n",
        "    elif row['subscription_type'] == 'free':\n",
        "        return 50 * row['ride_count'] + 8 * row['duration']\n",
        "\n",
        "rides['revenue'] = rides.apply(calculate_result, axis=1)\n",
        "rides"
      ]
    },
    {
      "cell_type": "code",
      "execution_count": null,
      "id": "f29e8577",
      "metadata": {
        "id": "f29e8577",
        "outputId": "42163a9c-7c56-4475-84de-88224b56b25b"
      },
      "outputs": [
        {
          "data": {
            "text/plain": [
              "count    11331.000000\n",
              "mean       342.303504\n",
              "std        153.875346\n",
              "min         58.000000\n",
              "25%        234.000000\n",
              "50%        319.000000\n",
              "75%        415.000000\n",
              "max       1444.000000\n",
              "Name: revenue, dtype: float64"
            ]
          },
          "execution_count": 25,
          "metadata": {},
          "output_type": "execute_result"
        }
      ],
      "source": [
        "rides['revenue'].describe()"
      ]
    },
    {
      "cell_type": "code",
      "execution_count": null,
      "id": "9a20b376",
      "metadata": {
        "id": "9a20b376",
        "outputId": "03831f92-37d6-498a-e551-084ad6cd5501"
      },
      "outputs": [
        {
          "data": {
            "text/plain": [
              "count    6798.000000\n",
              "mean      328.641365\n",
              "std       183.868330\n",
              "min        58.000000\n",
              "25%       194.000000\n",
              "50%       274.000000\n",
              "75%       428.000000\n",
              "max      1444.000000\n",
              "Name: revenue, dtype: float64"
            ]
          },
          "execution_count": 26,
          "metadata": {},
          "output_type": "execute_result"
        }
      ],
      "source": [
        "# рассмотрим данные по выручке людей с подпиской\n",
        "rides.query('subscription_type == \"ultra\"')['revenue'].describe()\n",
        "\n",
        "# рассмотрим данные по выручке людей без подписки\n",
        "rides.query('subscription_type == \"free\"')['revenue'].describe()"
      ]
    },
    {
      "cell_type": "markdown",
      "id": "f5c15402",
      "metadata": {
        "id": "f5c15402"
      },
      "source": [
        "**Вывод:**\n",
        "По результатам подсчета выручки, мы получили следующую информацию о помесячной выручке, которую принес каждый пользователь:\n",
        "\n",
        "1. **Пользователи с подпиской:**\n",
        "   - Минимальная помесячная выручка среди пользователей с подпиской составляет 223 рубля.\n",
        "   - Максимальная — 943 рубля.\n",
        "   - В среднем пользователи с подпиской тратят в месяц 361 рубль.\n",
        "\n",
        "\n",
        "2. **Пользователи без подписки:**\n",
        "   - Минимальная помесячная выручка среди пользователей без подписки составляет 58 рублей.\n",
        "   - Максимальная — 1428 рублей.\n",
        "   - В среднем пользователи без подписки тратят в месяц 326 рублей.\n",
        "\n",
        "Эти данные позволяют нам оценить эффективность подписки и выявить, какие пользователи приносят наибольший доход компании. Пользователи с подпиской в среднем тратят больше, чем пользователи без подписки, что может свидетельствовать об успешности маркетинговых акций и лояльности подписчиков. Также эта информация помогает нам определить, насколько важно привлекать новых пользователей к использованию платных подписок для увеличения общей выручки сервиса аренды самокатов GoFast."
      ]
    },
    {
      "cell_type": "markdown",
      "id": "41545ac0",
      "metadata": {
        "id": "41545ac0"
      },
      "source": [
        "#### Шаг 6. Проверка гипотез"
      ]
    },
    {
      "cell_type": "markdown",
      "id": "1a61b0e2",
      "metadata": {
        "id": "1a61b0e2"
      },
      "source": [
        "**6.1. Тратят ли пользователи с подпиской больше времени на поездки?**\n",
        "\n",
        "Для решения данного вопроса необходимо проверить гипотезу о равенстве средних двух генеральных совокупностей.\n",
        "\n",
        "H0: Длительность с подпиской = длительность без подписки\n",
        "\n",
        "H1: Длительность с подпиской > длительность без подписки\n",
        "\n",
        "За alpha возьмем 0.05"
      ]
    },
    {
      "cell_type": "code",
      "execution_count": null,
      "id": "8f0735d6",
      "metadata": {
        "id": "8f0735d6",
        "outputId": "76c75500-dd4b-4f89-d4c5-54d41bf2fe68"
      },
      "outputs": [
        {
          "name": "stdout",
          "output_type": "stream",
          "text": [
            "pvalue = 1.2804098316645618e-34\n",
            "Отвергаем нулевую гипотезу\n"
          ]
        }
      ],
      "source": [
        "ultra = data_ultra['duration']\n",
        "free = data_free['duration']\n",
        "alpha = .05\n",
        "\n",
        "results = st.ttest_ind(ultra, free, alternative='greater')\n",
        "\n",
        "print('pvalue =', results.pvalue)\n",
        "\n",
        "if results.pvalue < alpha:\n",
        "    print('Отвергаем нулевую гипотезу')\n",
        "else:\n",
        "    print('Не отверагем нулевую гипотезу')"
      ]
    },
    {
      "cell_type": "markdown",
      "id": "a03a6815",
      "metadata": {
        "id": "a03a6815"
      },
      "source": [
        "**Вывод:** Есть основания говорить, что пользователи с подпиской тратят больше времени на поездки на самокатах."
      ]
    },
    {
      "cell_type": "markdown",
      "id": "d8317cfa",
      "metadata": {
        "id": "d8317cfa"
      },
      "source": [
        "**6.2 Превышает ли расстояние, которое проезжают пользователи с подпиской за одну поездку, оптимальное значение?**\n",
        "\n",
        "Проверяется гипотеза о равенстве среднего генеральной совокупности числу.\n",
        "\n",
        "H0: Дистанция = 3130\n",
        "\n",
        "H1: Дистанция < 3130"
      ]
    },
    {
      "cell_type": "code",
      "execution_count": null,
      "id": "7abae54c",
      "metadata": {
        "id": "7abae54c",
        "outputId": "419884b5-ee1d-46fa-e511-a338fb8b0ed9"
      },
      "outputs": [
        {
          "name": "stdout",
          "output_type": "stream",
          "text": [
            "pvalue = 0.9195368847849785\n",
            "Не отвергаем нулевую гипотезу\n"
          ]
        }
      ],
      "source": [
        "dist = data_ultra['distance']\n",
        "interested_dist = 3130\n",
        "\n",
        "alpha = .05\n",
        "\n",
        "results = st.ttest_1samp(dist, interested_dist, alternative='greater')\n",
        "\n",
        "print('pvalue =', results.pvalue)\n",
        "\n",
        "if results.pvalue < alpha:\n",
        "    print('Отвергаем нулевую гипотезу')\n",
        "else:\n",
        "    print('Не отвергаем нулевую гипотезу')"
      ]
    },
    {
      "cell_type": "markdown",
      "id": "4110143d",
      "metadata": {
        "id": "4110143d"
      },
      "source": [
        "**Вывод:** Пользователи с подпиской проезжают на самокатах около 3130 метров, однако мы не можем точно сказать, что пользователи не проезжают больше 3130 метров."
      ]
    },
    {
      "cell_type": "markdown",
      "id": "f5b9df7b",
      "metadata": {
        "id": "f5b9df7b"
      },
      "source": [
        "**6.3 Будет ли помесячная выручка от пользователей с подпиской выше, чем от пользователей без подписки?**\n",
        "\n",
        "Для решения данного вопроса необходимо проверить гипотезу о равенстве средних двух генеральных совокупностей.\n",
        "\n",
        "H0: Выручка с подпиской = выручка без подписки\n",
        "\n",
        "H1: Выручка с подпиской > выручка без подписки"
      ]
    },
    {
      "cell_type": "code",
      "execution_count": null,
      "id": "7d9e0aac",
      "metadata": {
        "id": "7d9e0aac",
        "outputId": "6f63ff5b-02e5-470e-edf7-0776be1d7cab"
      },
      "outputs": [
        {
          "name": "stdout",
          "output_type": "stream",
          "text": [
            "pvalue = 1.8850394384715216e-31\n",
            "Отвергаем нулевую гипотезу\n"
          ]
        }
      ],
      "source": [
        "revenue_ultra = rides.query('subscription_type == \"ultra\"')['revenue']\n",
        "revenue_free = rides.query('subscription_type == \"free\"')['revenue']\n",
        "\n",
        "alpha = .05\n",
        "\n",
        "results = st.ttest_ind(revenue_ultra, revenue_free, alternative='greater')\n",
        "\n",
        "print('pvalue =', results.pvalue)\n",
        "\n",
        "if results.pvalue < alpha:\n",
        "    print('Отвергаем нулевую гипотезу')\n",
        "else:\n",
        "    print('Не отвергаем нулевую гипотезу')"
      ]
    },
    {
      "cell_type": "markdown",
      "id": "bfb05f18",
      "metadata": {
        "id": "bfb05f18"
      },
      "source": [
        "**Вывод:** Полученное значение pvalue очень маленькое, поэтому можно отвергнуть нулевую гипотезу. Есть основания говорить, что помесячная выручка от пользователей с подпиской по месяцам выше, чем выручка от пользователей без подписки."
      ]
    },
    {
      "cell_type": "markdown",
      "id": "0624186c",
      "metadata": {
        "id": "0624186c"
      },
      "source": [
        "**6.4. Проверка гипотезы о снижении обращений в поддержку.**\n",
        "\n",
        "Допустим, что техническая команда сервиса обновила сервера, с которыми взаимодействует мобильное приложение. Она надеется, что из-за этого количество обращений в техподдержку значимо снизилось. Некоторый файл содержит для каждого пользователя данные о количестве обращений до обновления и после него. Какой тест нам понадобился бы для проверки этой гипотезы?\n",
        "\n",
        "Данная гипотеза называется гипотезой о равенстве средних для зависимых (парных) выборок, так как нам нужно сравнить 1 выборку до и после обновления.\n",
        "\n",
        "Гипотезы составляются следующим образом:\n",
        "\n",
        "H0: Количество обращений в техподдержку до обновления == количество обращений после\n",
        "\n",
        "H1: Количество обращений в техподдержку до обновления != количество обращений после\n",
        "\n",
        "Проверка осуществляется методом: `st.ttest_rel(before, after)`"
      ]
    },
    {
      "cell_type": "markdown",
      "id": "7a43c7f8",
      "metadata": {
        "id": "7a43c7f8"
      },
      "source": [
        "**Вывод:**\n",
        " По результатам проверки гипотез, мы пришли к следующим выводам:\n",
        "\n",
        "1. **Тратят ли пользователи с подпиской больше времени на поездки?**\n",
        "   Значение p-value позволяет нам отвергнуть нулевую гипотезу о том, что пользователи с подпиской и пользователи без подписки тратят одинаковое количество времени на поездки. Таким образом, у нас есть основания полагать, что пользователи с подпиской действительно тратят больше времени на поездки на самокатах.\n",
        "\n",
        "2. **Превышает ли расстояние, которое проезжают пользователи с подпиской за одну поездку, оптимальное значение?**\n",
        "   Мы не можем с уверенностью утверждать, что пользователи с подпиской превышают оптимальное расстояние в 3130 метров за одну поездку. Значение p-value не достаточно низкое, чтобы отвергнуть нулевую гипотезу об отсутствии различий между пользователями с подпиской и оптимальным значением расстояния.\n",
        "\n",
        "3. **Будет ли помесячная выручка от пользователей с подпиской выше, чем от пользователей без подписки?**\n",
        "   Очень маленькое значение p-value позволяет нам отвергнуть нулевую гипотезу о том, что помесячная выручка от пользователей с подпиской и без подписки равна. Это означает, что есть основания полагать, что помесячная выручка от пользователей с подпиской по месяцам действительно выше, чем выручка от пользователей без подписки."
      ]
    },
    {
      "cell_type": "markdown",
      "id": "7c08277c",
      "metadata": {
        "id": "7c08277c"
      },
      "source": [
        "## Вывод"
      ]
    },
    {
      "cell_type": "markdown",
      "id": "8ca49683",
      "metadata": {
        "id": "8ca49683"
      },
      "source": [
        "**Общий вывод по проекту \"Анализ данных сервиса аренды электросамокатов GoFast\":**\n",
        "\n",
        "Проект представляет анализ данных сервиса аренды электросамокатов GoFast. Доступ к данным предоставлен в виде трех датасетов: информация о пользователях (1565 строк, 5 признаков), данные о поездках (18068 строк, 4 признака) и информация о видах подписок (2 строки, 4 признака).\n",
        "\n",
        "Для начала была выполнена предобработка данных. Преобразовали тип данных в столбце \"date\" из даты в формате строки в тип данных даты (datetime) для удобства работы с временными данными. Создали новый столбец \"month\" на основе столбца \"date\" для возможности анализа данных по месяцам. Проверили датасеты на наличие пропущенных значений. Обнаруженные дубликаты в первом датасете были успешно удалены.\n",
        "\n",
        "В ходе исследовательского анализа данных, мы получили следующие результаты:\n",
        "\n",
        "- Частота встречаемости городов: Наибольшее число пользователей сервиса проживает в городе Пятигорск (219 пользователей), а наименьшее число - в Москве (168 пользователей).\n",
        "\n",
        "- Соотношение пользователей с подпиской и без подписки: 54% пользователей не пользуются подпиской, в то время как 46% предпочитают использовать подписку ультра.\n",
        "\n",
        "- Возраст пользователей: Наибольшее число пользователей находится в возрастной группе 23-29 лет, меньше всего пользователей после 37 лет.\n",
        "\n",
        "- Расстояние, которое пользователь преодолевает за одну поездку: Большая часть пользователей предпочитает дистанции от 2.5 до 3.5 км, а также короткие поездки до 1.5 км. Совсем небольшое число пользователей проезжает более 5.5 км.\n",
        "\n",
        "- Продолжительность поездок: Большинство пользователей предпочитает поездки длительностью от 12 до 22 минут, в то время как количество пользователей уменьшается при увеличении или уменьшении времени поездки.\n",
        "\n",
        "По итогам объединения и разделения датасетов мы смогли подсчитать выручку за каждого пользователя по месяцам. Подсчет выручки показал, что среди пользователей с подпиской минимум составляет 223 рубля, максимум - 943 рубля, а в среднем пользователи тратят в месяц 361 рубль. Среди пользователей без подписки минимальное значение - 58 рублей, максимальное - 1428 рублей, а средняя выручка составляет 326 рублей.\n",
        "\n",
        "Мы провели проверку нескольких гипотез и получили следующие результаты:\n",
        "\n",
        "- Тратят ли пользователи с подпиской больше времени на поездки? Да, есть основания говорить, что пользователи с подпиской тратят больше времени на поездки на самокатах.\n",
        "\n",
        "- Превышает ли расстояние, которое проезжают пользователи с подпиской за одну поездку, оптимальное значение? Пользователи с подпиской используют примерно 3130 метров за поездку, что близко к оптимальному значению, но мы не можем однозначно утверждать, что пользователи не проезжают больше.\n",
        "\n",
        "- Будет ли помесячная выручка от пользователей с подпиской выше, чем от пользователей без подписки? Да, полученное значение p-value позволяет отвергнуть нулевую гипотезу и сделать вывод, что помесячная выручка от пользователей с подпиской выше, чем от пользователей без подписки.\n",
        "\n",
        "\n",
        "В ходе данного исследования данных сервиса аренды электросамокатов GoFast, мы проанализировали различные характеристики пользователей и их поездок, выявили особенности поведения и предпочтений пользователей, а также оценили эффективность подписки в контексте выручки. Полученные результаты предоставляют ценные инсайты для улучшения бизнес-процессов.\n",
        "\n",
        "На основе проведенного анализа данных можно сформулировать некоторые рекомендации по развитию аренды самокатов:\n",
        "\n",
        "- Стоит обратить внимание на привлечение пользователей старше 30 лет, так как из анализа данных видно, что сейчас среди пользователей наибольшее количество людей в возрастной группе 23-29 лет, а количество пользователей после 37 лет меньше. Привлечение пользователей старшей возрастной группы может значительно расширить клиентскую базу и увеличить выручку сервиса.\n",
        "\n",
        "- Также, уделить больше внимания промоакциям и маркетинговым кампаниям для молодежи (основная и наибольшая группа пользователей) было бы целесообразно, учитывая, что наибольшее количество пользователей предпочитает не использовать подписку. Акции и промокоды могут стать мощным мотиватором для молодых пользователей испытать сервис и в дальнейшем стать постоянными клиентами.\n",
        "\n",
        "- Нужно обратить внимание на тех пользователей, которые не продлевают свою подписку после пробного периода. Изучить причины отказов и предпринять меры для улучшения условий использования сервиса, чтобы повысить удержание пользователей."
      ]
    }
  ],
  "metadata": {
    "ExecuteTimeLog": [
      {
        "duration": 436,
        "start_time": "2023-07-31T09:05:27.344Z"
      },
      {
        "duration": 562,
        "start_time": "2023-07-31T09:10:24.412Z"
      },
      {
        "duration": 17,
        "start_time": "2023-07-31T09:10:44.169Z"
      },
      {
        "duration": 12,
        "start_time": "2023-07-31T09:12:06.644Z"
      },
      {
        "duration": 10,
        "start_time": "2023-07-31T09:13:20.262Z"
      },
      {
        "duration": 15,
        "start_time": "2023-07-31T09:13:47.078Z"
      },
      {
        "duration": 8,
        "start_time": "2023-07-31T09:14:56.029Z"
      },
      {
        "duration": 13,
        "start_time": "2023-07-31T09:16:13.906Z"
      },
      {
        "duration": 8,
        "start_time": "2023-07-31T09:17:38.006Z"
      },
      {
        "duration": 9,
        "start_time": "2023-07-31T09:24:06.544Z"
      },
      {
        "duration": 10,
        "start_time": "2023-07-31T09:24:15.196Z"
      },
      {
        "duration": 7,
        "start_time": "2023-07-31T09:29:26.379Z"
      },
      {
        "duration": 124,
        "start_time": "2023-07-31T09:29:36.878Z"
      },
      {
        "duration": 22,
        "start_time": "2023-07-31T09:29:43.956Z"
      },
      {
        "duration": 22,
        "start_time": "2023-07-31T09:30:02.019Z"
      },
      {
        "duration": 12,
        "start_time": "2023-07-31T09:30:51.877Z"
      },
      {
        "duration": 5,
        "start_time": "2023-07-31T09:31:39.665Z"
      },
      {
        "duration": 12,
        "start_time": "2023-07-31T09:31:48.410Z"
      },
      {
        "duration": 7,
        "start_time": "2023-07-31T09:36:18.653Z"
      },
      {
        "duration": 11,
        "start_time": "2023-07-31T09:36:36.286Z"
      },
      {
        "duration": 8,
        "start_time": "2023-07-31T09:36:42.660Z"
      },
      {
        "duration": 6,
        "start_time": "2023-07-31T09:41:52.897Z"
      },
      {
        "duration": 12,
        "start_time": "2023-07-31T09:42:09.688Z"
      },
      {
        "duration": 12,
        "start_time": "2023-07-31T09:42:17.177Z"
      },
      {
        "duration": 10,
        "start_time": "2023-07-31T09:42:32.956Z"
      },
      {
        "duration": 17,
        "start_time": "2023-07-31T09:42:44.499Z"
      },
      {
        "duration": 16,
        "start_time": "2023-07-31T09:42:56.119Z"
      },
      {
        "duration": 15,
        "start_time": "2023-07-31T09:43:16.307Z"
      },
      {
        "duration": 8,
        "start_time": "2023-07-31T09:45:50.455Z"
      },
      {
        "duration": 7,
        "start_time": "2023-07-31T09:47:23.758Z"
      },
      {
        "duration": 5,
        "start_time": "2023-07-31T09:48:07.880Z"
      },
      {
        "duration": 8,
        "start_time": "2023-07-31T09:48:15.765Z"
      },
      {
        "duration": 5,
        "start_time": "2023-07-31T09:49:20.787Z"
      },
      {
        "duration": 6,
        "start_time": "2023-07-31T09:49:39.380Z"
      },
      {
        "duration": 6,
        "start_time": "2023-07-31T09:53:26.659Z"
      },
      {
        "duration": 9,
        "start_time": "2023-07-31T09:53:34.866Z"
      },
      {
        "duration": 10,
        "start_time": "2023-07-31T09:54:04.358Z"
      },
      {
        "duration": 13,
        "start_time": "2023-07-31T09:54:16.312Z"
      },
      {
        "duration": 9,
        "start_time": "2023-07-31T09:54:27.903Z"
      },
      {
        "duration": 4,
        "start_time": "2023-07-31T09:54:36.656Z"
      },
      {
        "duration": 11,
        "start_time": "2023-07-31T09:54:44.552Z"
      },
      {
        "duration": 8,
        "start_time": "2023-07-31T09:55:20.171Z"
      },
      {
        "duration": 8,
        "start_time": "2023-07-31T09:55:24.615Z"
      },
      {
        "duration": 4,
        "start_time": "2023-07-31T09:55:28.362Z"
      },
      {
        "duration": 8,
        "start_time": "2023-07-31T09:55:32.061Z"
      },
      {
        "duration": 6,
        "start_time": "2023-07-31T09:57:52.353Z"
      },
      {
        "duration": 10,
        "start_time": "2023-07-31T09:58:08.153Z"
      },
      {
        "duration": 10,
        "start_time": "2023-07-31T09:58:27.150Z"
      },
      {
        "duration": 12,
        "start_time": "2023-07-31T09:58:40.962Z"
      },
      {
        "duration": 619,
        "start_time": "2023-07-31T09:59:36.209Z"
      },
      {
        "duration": 26,
        "start_time": "2023-07-31T10:01:58.666Z"
      },
      {
        "duration": 14,
        "start_time": "2023-07-31T10:02:09.283Z"
      },
      {
        "duration": 11,
        "start_time": "2023-07-31T10:02:20.058Z"
      },
      {
        "duration": 3,
        "start_time": "2023-07-31T10:05:18.209Z"
      },
      {
        "duration": 3,
        "start_time": "2023-07-31T10:05:22.220Z"
      },
      {
        "duration": 87,
        "start_time": "2023-07-31T10:05:22.225Z"
      },
      {
        "duration": 19,
        "start_time": "2023-07-31T10:05:22.314Z"
      },
      {
        "duration": 112,
        "start_time": "2023-07-31T10:05:22.335Z"
      },
      {
        "duration": 21,
        "start_time": "2023-07-31T10:05:22.449Z"
      },
      {
        "duration": 25,
        "start_time": "2023-07-31T10:05:22.471Z"
      },
      {
        "duration": 17,
        "start_time": "2023-07-31T10:05:22.498Z"
      },
      {
        "duration": 13,
        "start_time": "2023-07-31T10:05:22.518Z"
      },
      {
        "duration": 15,
        "start_time": "2023-07-31T10:05:22.533Z"
      },
      {
        "duration": 6,
        "start_time": "2023-07-31T10:05:22.550Z"
      },
      {
        "duration": 13,
        "start_time": "2023-07-31T10:05:22.567Z"
      },
      {
        "duration": 16,
        "start_time": "2023-07-31T10:05:22.582Z"
      },
      {
        "duration": 16,
        "start_time": "2023-07-31T10:06:49.053Z"
      },
      {
        "duration": 234,
        "start_time": "2023-07-31T10:07:25.051Z"
      },
      {
        "duration": 110,
        "start_time": "2023-07-31T10:12:28.646Z"
      },
      {
        "duration": 134,
        "start_time": "2023-07-31T10:12:36.249Z"
      },
      {
        "duration": 138,
        "start_time": "2023-07-31T10:13:12.799Z"
      },
      {
        "duration": 145,
        "start_time": "2023-07-31T10:13:42.674Z"
      },
      {
        "duration": 6,
        "start_time": "2023-07-31T10:16:21.258Z"
      },
      {
        "duration": 11,
        "start_time": "2023-07-31T10:16:28.858Z"
      },
      {
        "duration": 10,
        "start_time": "2023-07-31T10:30:23.893Z"
      },
      {
        "duration": 7,
        "start_time": "2023-07-31T10:30:39.206Z"
      },
      {
        "duration": 170,
        "start_time": "2023-07-31T10:30:50.717Z"
      },
      {
        "duration": 10,
        "start_time": "2023-07-31T10:31:21.381Z"
      },
      {
        "duration": 164,
        "start_time": "2023-07-31T10:32:49.052Z"
      },
      {
        "duration": 12,
        "start_time": "2023-07-31T10:33:10.113Z"
      },
      {
        "duration": 138,
        "start_time": "2023-07-31T10:33:20.359Z"
      },
      {
        "duration": 137,
        "start_time": "2023-07-31T10:33:26.557Z"
      },
      {
        "duration": 126,
        "start_time": "2023-07-31T10:33:36.514Z"
      },
      {
        "duration": 223,
        "start_time": "2023-07-31T10:33:50.100Z"
      },
      {
        "duration": 167,
        "start_time": "2023-07-31T10:34:00.446Z"
      },
      {
        "duration": 149,
        "start_time": "2023-07-31T10:34:08.578Z"
      },
      {
        "duration": 6,
        "start_time": "2023-07-31T11:16:19.753Z"
      },
      {
        "duration": 176,
        "start_time": "2023-07-31T11:16:32.257Z"
      },
      {
        "duration": 132,
        "start_time": "2023-07-31T11:19:31.591Z"
      },
      {
        "duration": 138,
        "start_time": "2023-07-31T11:19:42.809Z"
      },
      {
        "duration": 125,
        "start_time": "2023-07-31T11:20:01.548Z"
      },
      {
        "duration": 131,
        "start_time": "2023-07-31T11:20:24.803Z"
      },
      {
        "duration": 7,
        "start_time": "2023-07-31T11:20:46.563Z"
      },
      {
        "duration": 159,
        "start_time": "2023-07-31T11:21:02.070Z"
      },
      {
        "duration": 6,
        "start_time": "2023-07-31T11:21:29.891Z"
      },
      {
        "duration": 154,
        "start_time": "2023-07-31T11:21:55.846Z"
      },
      {
        "duration": 250,
        "start_time": "2023-07-31T11:22:06.549Z"
      },
      {
        "duration": 12,
        "start_time": "2023-07-31T11:23:39.476Z"
      },
      {
        "duration": 11,
        "start_time": "2023-07-31T11:24:13.007Z"
      },
      {
        "duration": 684,
        "start_time": "2023-07-31T11:24:23.848Z"
      },
      {
        "duration": 510,
        "start_time": "2023-07-31T11:26:36.097Z"
      },
      {
        "duration": 175,
        "start_time": "2023-07-31T11:26:45.554Z"
      },
      {
        "duration": 168,
        "start_time": "2023-07-31T11:26:54.864Z"
      },
      {
        "duration": 166,
        "start_time": "2023-07-31T11:27:08.400Z"
      },
      {
        "duration": 11,
        "start_time": "2023-07-31T11:27:20.152Z"
      },
      {
        "duration": 9,
        "start_time": "2023-07-31T11:27:26.368Z"
      },
      {
        "duration": 176,
        "start_time": "2023-07-31T11:27:51.676Z"
      },
      {
        "duration": 166,
        "start_time": "2023-07-31T11:27:58.193Z"
      },
      {
        "duration": 293,
        "start_time": "2023-07-31T11:28:07.290Z"
      },
      {
        "duration": 183,
        "start_time": "2023-07-31T11:28:13.575Z"
      },
      {
        "duration": 166,
        "start_time": "2023-07-31T11:28:27.515Z"
      },
      {
        "duration": 48,
        "start_time": "2023-07-31T19:44:21.558Z"
      },
      {
        "duration": 729,
        "start_time": "2023-07-31T19:44:26.059Z"
      },
      {
        "duration": 196,
        "start_time": "2023-07-31T19:44:26.790Z"
      },
      {
        "duration": 19,
        "start_time": "2023-07-31T19:44:26.987Z"
      },
      {
        "duration": 13,
        "start_time": "2023-07-31T19:44:27.007Z"
      },
      {
        "duration": 15,
        "start_time": "2023-07-31T19:44:27.022Z"
      },
      {
        "duration": 6,
        "start_time": "2023-07-31T19:44:27.038Z"
      },
      {
        "duration": 14,
        "start_time": "2023-07-31T19:44:27.045Z"
      },
      {
        "duration": 24,
        "start_time": "2023-07-31T19:44:27.060Z"
      },
      {
        "duration": 27,
        "start_time": "2023-07-31T19:44:27.085Z"
      },
      {
        "duration": 11,
        "start_time": "2023-07-31T19:44:27.113Z"
      },
      {
        "duration": 126,
        "start_time": "2023-07-31T19:44:27.125Z"
      },
      {
        "duration": 102,
        "start_time": "2023-07-31T19:44:27.253Z"
      },
      {
        "duration": 136,
        "start_time": "2023-07-31T19:44:27.356Z"
      },
      {
        "duration": 2225,
        "start_time": "2023-07-31T19:44:27.495Z"
      },
      {
        "duration": 11,
        "start_time": "2023-07-31T19:45:01.309Z"
      },
      {
        "duration": 91,
        "start_time": "2023-07-31T19:45:11.758Z"
      },
      {
        "duration": 150,
        "start_time": "2023-07-31T19:46:10.001Z"
      },
      {
        "duration": 98,
        "start_time": "2023-07-31T19:47:32.817Z"
      },
      {
        "duration": 100,
        "start_time": "2023-07-31T19:48:41.712Z"
      },
      {
        "duration": 116,
        "start_time": "2023-07-31T19:48:46.625Z"
      },
      {
        "duration": 90,
        "start_time": "2023-07-31T19:49:29.264Z"
      },
      {
        "duration": 90,
        "start_time": "2023-07-31T19:49:37.281Z"
      },
      {
        "duration": 7,
        "start_time": "2023-07-31T19:53:38.760Z"
      },
      {
        "duration": 119,
        "start_time": "2023-07-31T19:53:45.658Z"
      },
      {
        "duration": 277,
        "start_time": "2023-07-31T19:53:55.907Z"
      },
      {
        "duration": 247,
        "start_time": "2023-07-31T19:54:25.863Z"
      },
      {
        "duration": 242,
        "start_time": "2023-07-31T19:58:20.150Z"
      },
      {
        "duration": 289,
        "start_time": "2023-07-31T19:58:38.150Z"
      },
      {
        "duration": 161,
        "start_time": "2023-07-31T19:58:59.013Z"
      },
      {
        "duration": 137,
        "start_time": "2023-07-31T19:59:24.827Z"
      },
      {
        "duration": 88,
        "start_time": "2023-07-31T19:59:29.354Z"
      },
      {
        "duration": 103,
        "start_time": "2023-07-31T19:59:45.312Z"
      },
      {
        "duration": 104,
        "start_time": "2023-07-31T20:03:25.496Z"
      },
      {
        "duration": 228,
        "start_time": "2023-07-31T20:04:35.365Z"
      },
      {
        "duration": 22,
        "start_time": "2023-07-31T20:17:51.959Z"
      },
      {
        "duration": 15,
        "start_time": "2023-07-31T20:20:41.148Z"
      },
      {
        "duration": 20,
        "start_time": "2023-07-31T20:20:49.062Z"
      },
      {
        "duration": 22,
        "start_time": "2023-07-31T20:23:26.515Z"
      },
      {
        "duration": 9,
        "start_time": "2023-07-31T20:23:34.656Z"
      },
      {
        "duration": 223,
        "start_time": "2023-07-31T20:24:45.261Z"
      },
      {
        "duration": 159,
        "start_time": "2023-07-31T20:24:51.506Z"
      },
      {
        "duration": 340,
        "start_time": "2023-07-31T20:25:45.111Z"
      },
      {
        "duration": 137,
        "start_time": "2023-07-31T20:27:57.449Z"
      },
      {
        "duration": 309,
        "start_time": "2023-07-31T20:28:13.774Z"
      },
      {
        "duration": 335,
        "start_time": "2023-07-31T20:30:10.672Z"
      },
      {
        "duration": 414,
        "start_time": "2023-07-31T20:30:58.652Z"
      },
      {
        "duration": 13,
        "start_time": "2023-07-31T20:44:58.662Z"
      },
      {
        "duration": 12,
        "start_time": "2023-07-31T20:46:23.364Z"
      },
      {
        "duration": 13,
        "start_time": "2023-07-31T20:46:29.447Z"
      },
      {
        "duration": 21,
        "start_time": "2023-07-31T20:47:19.074Z"
      },
      {
        "duration": 23,
        "start_time": "2023-07-31T20:47:56.143Z"
      },
      {
        "duration": 19,
        "start_time": "2023-07-31T20:48:03.443Z"
      },
      {
        "duration": 12,
        "start_time": "2023-07-31T20:48:06.312Z"
      },
      {
        "duration": 15,
        "start_time": "2023-07-31T20:52:13.861Z"
      },
      {
        "duration": 30,
        "start_time": "2023-07-31T20:52:29.541Z"
      },
      {
        "duration": 18,
        "start_time": "2023-07-31T20:53:43.259Z"
      },
      {
        "duration": 17,
        "start_time": "2023-07-31T20:54:07.144Z"
      },
      {
        "duration": 16,
        "start_time": "2023-07-31T20:59:04.751Z"
      },
      {
        "duration": 22,
        "start_time": "2023-07-31T21:06:13.161Z"
      },
      {
        "duration": 8,
        "start_time": "2023-07-31T21:08:53.239Z"
      },
      {
        "duration": 3,
        "start_time": "2023-07-31T21:08:57.953Z"
      },
      {
        "duration": 9,
        "start_time": "2023-07-31T21:09:10.654Z"
      },
      {
        "duration": 8,
        "start_time": "2023-07-31T21:13:31.838Z"
      },
      {
        "duration": 7,
        "start_time": "2023-07-31T21:13:53.744Z"
      },
      {
        "duration": 2,
        "start_time": "2023-07-31T21:13:59.752Z"
      },
      {
        "duration": 76,
        "start_time": "2023-07-31T21:13:59.756Z"
      },
      {
        "duration": 15,
        "start_time": "2023-07-31T21:13:59.834Z"
      },
      {
        "duration": 13,
        "start_time": "2023-07-31T21:13:59.851Z"
      },
      {
        "duration": 11,
        "start_time": "2023-07-31T21:13:59.866Z"
      },
      {
        "duration": 9,
        "start_time": "2023-07-31T21:13:59.878Z"
      },
      {
        "duration": 13,
        "start_time": "2023-07-31T21:13:59.888Z"
      },
      {
        "duration": 7,
        "start_time": "2023-07-31T21:13:59.903Z"
      },
      {
        "duration": 8,
        "start_time": "2023-07-31T21:13:59.912Z"
      },
      {
        "duration": 3,
        "start_time": "2023-07-31T21:13:59.922Z"
      },
      {
        "duration": 139,
        "start_time": "2023-07-31T21:13:59.927Z"
      },
      {
        "duration": 105,
        "start_time": "2023-07-31T21:14:00.068Z"
      },
      {
        "duration": 132,
        "start_time": "2023-07-31T21:14:00.175Z"
      },
      {
        "duration": 216,
        "start_time": "2023-07-31T21:14:00.309Z"
      },
      {
        "duration": 175,
        "start_time": "2023-07-31T21:14:00.527Z"
      },
      {
        "duration": 23,
        "start_time": "2023-07-31T21:14:00.704Z"
      },
      {
        "duration": 34,
        "start_time": "2023-07-31T21:14:00.728Z"
      },
      {
        "duration": 342,
        "start_time": "2023-07-31T21:14:00.764Z"
      },
      {
        "duration": 333,
        "start_time": "2023-07-31T21:14:01.107Z"
      },
      {
        "duration": 22,
        "start_time": "2023-07-31T21:14:01.441Z"
      },
      {
        "duration": 30,
        "start_time": "2023-07-31T21:14:01.464Z"
      },
      {
        "duration": 18,
        "start_time": "2023-07-31T21:15:31.278Z"
      },
      {
        "duration": 11,
        "start_time": "2023-07-31T21:16:21.073Z"
      },
      {
        "duration": 7,
        "start_time": "2023-07-31T21:18:02.638Z"
      },
      {
        "duration": 3,
        "start_time": "2023-07-31T21:18:05.997Z"
      },
      {
        "duration": 91,
        "start_time": "2023-07-31T21:18:06.002Z"
      },
      {
        "duration": 17,
        "start_time": "2023-07-31T21:18:06.095Z"
      },
      {
        "duration": 14,
        "start_time": "2023-07-31T21:18:06.114Z"
      },
      {
        "duration": 12,
        "start_time": "2023-07-31T21:18:06.129Z"
      },
      {
        "duration": 13,
        "start_time": "2023-07-31T21:18:06.143Z"
      },
      {
        "duration": 13,
        "start_time": "2023-07-31T21:18:06.157Z"
      },
      {
        "duration": 9,
        "start_time": "2023-07-31T21:18:06.171Z"
      },
      {
        "duration": 108,
        "start_time": "2023-07-31T21:18:06.199Z"
      },
      {
        "duration": 5,
        "start_time": "2023-07-31T21:18:06.308Z"
      },
      {
        "duration": 126,
        "start_time": "2023-07-31T21:18:06.314Z"
      },
      {
        "duration": 111,
        "start_time": "2023-07-31T21:18:06.442Z"
      },
      {
        "duration": 126,
        "start_time": "2023-07-31T21:18:06.555Z"
      },
      {
        "duration": 208,
        "start_time": "2023-07-31T21:18:06.682Z"
      },
      {
        "duration": 171,
        "start_time": "2023-07-31T21:18:06.892Z"
      },
      {
        "duration": 23,
        "start_time": "2023-07-31T21:18:07.064Z"
      },
      {
        "duration": 20,
        "start_time": "2023-07-31T21:18:07.089Z"
      },
      {
        "duration": 338,
        "start_time": "2023-07-31T21:18:07.110Z"
      },
      {
        "duration": 335,
        "start_time": "2023-07-31T21:18:07.449Z"
      },
      {
        "duration": 28,
        "start_time": "2023-07-31T21:18:07.785Z"
      },
      {
        "duration": 8,
        "start_time": "2023-07-31T21:18:07.814Z"
      },
      {
        "duration": 10,
        "start_time": "2023-07-31T21:18:30.008Z"
      },
      {
        "duration": 10,
        "start_time": "2023-07-31T21:18:35.537Z"
      },
      {
        "duration": 8,
        "start_time": "2023-07-31T21:19:32.903Z"
      },
      {
        "duration": 8,
        "start_time": "2023-07-31T21:19:48.208Z"
      },
      {
        "duration": 3,
        "start_time": "2023-07-31T21:20:21.436Z"
      },
      {
        "duration": 9,
        "start_time": "2023-07-31T21:23:37.351Z"
      },
      {
        "duration": 139,
        "start_time": "2023-07-31T21:23:49.047Z"
      },
      {
        "duration": 141,
        "start_time": "2023-07-31T21:24:37.452Z"
      },
      {
        "duration": 8,
        "start_time": "2023-07-31T21:46:42.056Z"
      },
      {
        "duration": 497,
        "start_time": "2023-07-31T21:46:56.106Z"
      },
      {
        "duration": 66,
        "start_time": "2023-07-31T21:46:56.605Z"
      },
      {
        "duration": 15,
        "start_time": "2023-07-31T21:46:56.672Z"
      },
      {
        "duration": 14,
        "start_time": "2023-07-31T21:46:56.689Z"
      },
      {
        "duration": 12,
        "start_time": "2023-07-31T21:46:56.705Z"
      },
      {
        "duration": 10,
        "start_time": "2023-07-31T21:46:56.718Z"
      },
      {
        "duration": 7,
        "start_time": "2023-07-31T21:46:56.730Z"
      },
      {
        "duration": 9,
        "start_time": "2023-07-31T21:46:56.738Z"
      },
      {
        "duration": 9,
        "start_time": "2023-07-31T21:46:56.749Z"
      },
      {
        "duration": 4,
        "start_time": "2023-07-31T21:46:56.760Z"
      },
      {
        "duration": 136,
        "start_time": "2023-07-31T21:46:56.765Z"
      },
      {
        "duration": 106,
        "start_time": "2023-07-31T21:46:56.902Z"
      },
      {
        "duration": 128,
        "start_time": "2023-07-31T21:46:57.010Z"
      },
      {
        "duration": 213,
        "start_time": "2023-07-31T21:46:57.141Z"
      },
      {
        "duration": 158,
        "start_time": "2023-07-31T21:46:57.355Z"
      },
      {
        "duration": 22,
        "start_time": "2023-07-31T21:46:57.514Z"
      },
      {
        "duration": 10,
        "start_time": "2023-07-31T21:46:57.537Z"
      },
      {
        "duration": 340,
        "start_time": "2023-07-31T21:46:57.549Z"
      },
      {
        "duration": 343,
        "start_time": "2023-07-31T21:46:57.891Z"
      },
      {
        "duration": 22,
        "start_time": "2023-07-31T21:46:58.236Z"
      },
      {
        "duration": 151,
        "start_time": "2023-07-31T21:46:58.259Z"
      },
      {
        "duration": 4,
        "start_time": "2023-07-31T21:46:58.412Z"
      },
      {
        "duration": 4,
        "start_time": "2023-07-31T22:11:41.595Z"
      },
      {
        "duration": 4,
        "start_time": "2023-07-31T22:12:23.458Z"
      },
      {
        "duration": 4,
        "start_time": "2023-07-31T22:12:29.893Z"
      },
      {
        "duration": 6,
        "start_time": "2023-07-31T22:12:38.719Z"
      },
      {
        "duration": 5,
        "start_time": "2023-07-31T22:14:35.654Z"
      },
      {
        "duration": 197,
        "start_time": "2023-07-31T22:21:46.046Z"
      },
      {
        "duration": 141,
        "start_time": "2023-07-31T22:23:12.463Z"
      },
      {
        "duration": 3,
        "start_time": "2023-07-31T22:23:29.669Z"
      },
      {
        "duration": 65,
        "start_time": "2023-07-31T22:23:29.676Z"
      },
      {
        "duration": 14,
        "start_time": "2023-07-31T22:23:29.742Z"
      },
      {
        "duration": 24,
        "start_time": "2023-07-31T22:23:29.758Z"
      },
      {
        "duration": 13,
        "start_time": "2023-07-31T22:23:29.784Z"
      },
      {
        "duration": 12,
        "start_time": "2023-07-31T22:23:29.798Z"
      },
      {
        "duration": 4,
        "start_time": "2023-07-31T22:23:29.812Z"
      },
      {
        "duration": 9,
        "start_time": "2023-07-31T22:23:29.817Z"
      },
      {
        "duration": 10,
        "start_time": "2023-07-31T22:23:29.827Z"
      },
      {
        "duration": 5,
        "start_time": "2023-07-31T22:23:29.838Z"
      },
      {
        "duration": 129,
        "start_time": "2023-07-31T22:23:29.845Z"
      },
      {
        "duration": 255,
        "start_time": "2023-07-31T22:23:29.976Z"
      },
      {
        "duration": 125,
        "start_time": "2023-07-31T22:23:30.232Z"
      },
      {
        "duration": 208,
        "start_time": "2023-07-31T22:23:30.358Z"
      },
      {
        "duration": 179,
        "start_time": "2023-07-31T22:23:30.568Z"
      },
      {
        "duration": 22,
        "start_time": "2023-07-31T22:23:30.749Z"
      },
      {
        "duration": 42,
        "start_time": "2023-07-31T22:23:30.772Z"
      },
      {
        "duration": 359,
        "start_time": "2023-07-31T22:23:30.815Z"
      },
      {
        "duration": 348,
        "start_time": "2023-07-31T22:23:31.175Z"
      },
      {
        "duration": 22,
        "start_time": "2023-07-31T22:23:31.524Z"
      },
      {
        "duration": 158,
        "start_time": "2023-07-31T22:23:31.547Z"
      },
      {
        "duration": 4,
        "start_time": "2023-07-31T22:23:31.707Z"
      },
      {
        "duration": 29,
        "start_time": "2023-07-31T22:23:31.713Z"
      },
      {
        "duration": 10,
        "start_time": "2023-07-31T22:29:20.330Z"
      },
      {
        "duration": 12,
        "start_time": "2023-07-31T22:29:36.135Z"
      },
      {
        "duration": 9,
        "start_time": "2023-07-31T22:29:42.672Z"
      },
      {
        "duration": 9,
        "start_time": "2023-07-31T22:35:57.589Z"
      },
      {
        "duration": 6,
        "start_time": "2023-07-31T22:36:01.965Z"
      },
      {
        "duration": 5,
        "start_time": "2023-07-31T22:36:04.641Z"
      },
      {
        "duration": 49,
        "start_time": "2023-08-01T19:04:58.353Z"
      },
      {
        "duration": 1469,
        "start_time": "2023-08-01T19:05:03.761Z"
      },
      {
        "duration": 210,
        "start_time": "2023-08-01T19:05:05.233Z"
      },
      {
        "duration": 25,
        "start_time": "2023-08-01T19:05:05.445Z"
      },
      {
        "duration": 18,
        "start_time": "2023-08-01T19:05:05.472Z"
      },
      {
        "duration": 41,
        "start_time": "2023-08-01T19:05:05.494Z"
      },
      {
        "duration": 28,
        "start_time": "2023-08-01T19:05:05.537Z"
      },
      {
        "duration": 12,
        "start_time": "2023-08-01T19:05:05.566Z"
      },
      {
        "duration": 14,
        "start_time": "2023-08-01T19:05:05.579Z"
      },
      {
        "duration": 13,
        "start_time": "2023-08-01T19:05:05.595Z"
      },
      {
        "duration": 9,
        "start_time": "2023-08-01T19:05:05.611Z"
      },
      {
        "duration": 242,
        "start_time": "2023-08-01T19:05:05.622Z"
      },
      {
        "duration": 177,
        "start_time": "2023-08-01T19:05:05.867Z"
      },
      {
        "duration": 221,
        "start_time": "2023-08-01T19:05:06.047Z"
      },
      {
        "duration": 319,
        "start_time": "2023-08-01T19:05:06.271Z"
      },
      {
        "duration": 234,
        "start_time": "2023-08-01T19:05:06.592Z"
      },
      {
        "duration": 37,
        "start_time": "2023-08-01T19:05:06.828Z"
      },
      {
        "duration": 15,
        "start_time": "2023-08-01T19:05:06.867Z"
      },
      {
        "duration": 548,
        "start_time": "2023-08-01T19:05:06.883Z"
      },
      {
        "duration": 583,
        "start_time": "2023-08-01T19:05:07.433Z"
      },
      {
        "duration": 34,
        "start_time": "2023-08-01T19:05:08.018Z"
      },
      {
        "duration": 194,
        "start_time": "2023-08-01T19:05:08.054Z"
      },
      {
        "duration": 8,
        "start_time": "2023-08-01T19:05:08.250Z"
      },
      {
        "duration": 14,
        "start_time": "2023-08-01T19:05:08.260Z"
      },
      {
        "duration": 26,
        "start_time": "2023-08-01T19:05:08.276Z"
      },
      {
        "duration": 203,
        "start_time": "2023-08-01T19:30:00.632Z"
      },
      {
        "duration": 210,
        "start_time": "2023-08-01T19:30:16.491Z"
      },
      {
        "duration": 9,
        "start_time": "2023-08-01T19:40:14.658Z"
      },
      {
        "duration": 27,
        "start_time": "2023-08-01T19:41:47.479Z"
      },
      {
        "duration": 148,
        "start_time": "2023-08-01T19:41:52.643Z"
      },
      {
        "duration": 10,
        "start_time": "2023-08-01T19:41:54.193Z"
      },
      {
        "duration": 13,
        "start_time": "2023-08-01T19:43:36.179Z"
      },
      {
        "duration": 25,
        "start_time": "2023-08-01T19:44:45.708Z"
      },
      {
        "duration": 12,
        "start_time": "2023-08-01T19:57:27.685Z"
      },
      {
        "duration": 10,
        "start_time": "2023-08-01T19:57:32.216Z"
      },
      {
        "duration": 3,
        "start_time": "2023-08-01T19:57:37.023Z"
      },
      {
        "duration": 75,
        "start_time": "2023-08-01T19:57:37.028Z"
      },
      {
        "duration": 17,
        "start_time": "2023-08-01T19:57:37.104Z"
      },
      {
        "duration": 19,
        "start_time": "2023-08-01T19:57:37.123Z"
      },
      {
        "duration": 15,
        "start_time": "2023-08-01T19:57:37.143Z"
      },
      {
        "duration": 6,
        "start_time": "2023-08-01T19:57:37.160Z"
      },
      {
        "duration": 44,
        "start_time": "2023-08-01T19:57:37.168Z"
      },
      {
        "duration": 9,
        "start_time": "2023-08-01T19:57:37.214Z"
      },
      {
        "duration": 10,
        "start_time": "2023-08-01T19:57:37.225Z"
      },
      {
        "duration": 5,
        "start_time": "2023-08-01T19:57:37.237Z"
      },
      {
        "duration": 184,
        "start_time": "2023-08-01T19:57:37.245Z"
      },
      {
        "duration": 145,
        "start_time": "2023-08-01T19:57:37.431Z"
      },
      {
        "duration": 181,
        "start_time": "2023-08-01T19:57:37.578Z"
      },
      {
        "duration": 270,
        "start_time": "2023-08-01T19:57:37.761Z"
      },
      {
        "duration": 209,
        "start_time": "2023-08-01T19:57:38.033Z"
      },
      {
        "duration": 24,
        "start_time": "2023-08-01T19:57:38.244Z"
      },
      {
        "duration": 40,
        "start_time": "2023-08-01T19:57:38.269Z"
      },
      {
        "duration": 518,
        "start_time": "2023-08-01T19:57:38.311Z"
      },
      {
        "duration": 411,
        "start_time": "2023-08-01T19:57:38.830Z"
      },
      {
        "duration": 24,
        "start_time": "2023-08-01T19:57:39.243Z"
      },
      {
        "duration": 176,
        "start_time": "2023-08-01T19:57:39.269Z"
      },
      {
        "duration": 10,
        "start_time": "2023-08-01T19:57:39.448Z"
      },
      {
        "duration": 60,
        "start_time": "2023-08-01T19:57:39.460Z"
      },
      {
        "duration": 6,
        "start_time": "2023-08-01T19:57:39.522Z"
      },
      {
        "duration": 8,
        "start_time": "2023-08-01T19:57:39.530Z"
      },
      {
        "duration": 18,
        "start_time": "2023-08-01T19:57:39.539Z"
      },
      {
        "duration": 66,
        "start_time": "2023-08-01T20:01:19.291Z"
      },
      {
        "duration": 3,
        "start_time": "2023-08-01T20:01:43.546Z"
      },
      {
        "duration": 144,
        "start_time": "2023-08-01T20:01:43.551Z"
      },
      {
        "duration": 17,
        "start_time": "2023-08-01T20:01:43.697Z"
      },
      {
        "duration": 44,
        "start_time": "2023-08-01T20:01:43.716Z"
      },
      {
        "duration": 32,
        "start_time": "2023-08-01T20:01:43.762Z"
      },
      {
        "duration": 27,
        "start_time": "2023-08-01T20:01:43.796Z"
      },
      {
        "duration": 40,
        "start_time": "2023-08-01T20:01:43.825Z"
      },
      {
        "duration": 30,
        "start_time": "2023-08-01T20:01:43.867Z"
      },
      {
        "duration": 31,
        "start_time": "2023-08-01T20:01:43.899Z"
      },
      {
        "duration": 16,
        "start_time": "2023-08-01T20:01:43.931Z"
      },
      {
        "duration": 158,
        "start_time": "2023-08-01T20:01:43.948Z"
      },
      {
        "duration": 139,
        "start_time": "2023-08-01T20:01:44.109Z"
      },
      {
        "duration": 165,
        "start_time": "2023-08-01T20:01:44.250Z"
      },
      {
        "duration": 274,
        "start_time": "2023-08-01T20:01:44.417Z"
      },
      {
        "duration": 215,
        "start_time": "2023-08-01T20:01:44.693Z"
      },
      {
        "duration": 27,
        "start_time": "2023-08-01T20:01:44.910Z"
      },
      {
        "duration": 40,
        "start_time": "2023-08-01T20:01:44.939Z"
      },
      {
        "duration": 596,
        "start_time": "2023-08-01T20:01:44.980Z"
      },
      {
        "duration": 516,
        "start_time": "2023-08-01T20:01:45.578Z"
      },
      {
        "duration": 45,
        "start_time": "2023-08-01T20:01:46.097Z"
      },
      {
        "duration": 197,
        "start_time": "2023-08-01T20:01:46.144Z"
      },
      {
        "duration": 9,
        "start_time": "2023-08-01T20:01:46.343Z"
      },
      {
        "duration": 69,
        "start_time": "2023-08-01T20:01:46.354Z"
      },
      {
        "duration": 31,
        "start_time": "2023-08-01T20:01:46.427Z"
      },
      {
        "duration": 49,
        "start_time": "2023-08-01T20:01:46.460Z"
      },
      {
        "duration": 45,
        "start_time": "2023-08-01T20:01:46.510Z"
      },
      {
        "duration": 46,
        "start_time": "2023-08-01T20:01:46.557Z"
      },
      {
        "duration": 3,
        "start_time": "2023-08-01T20:02:51.308Z"
      },
      {
        "duration": 85,
        "start_time": "2023-08-01T20:02:51.316Z"
      },
      {
        "duration": 19,
        "start_time": "2023-08-01T20:02:51.404Z"
      },
      {
        "duration": 20,
        "start_time": "2023-08-01T20:02:51.424Z"
      },
      {
        "duration": 19,
        "start_time": "2023-08-01T20:02:51.447Z"
      },
      {
        "duration": 49,
        "start_time": "2023-08-01T20:02:51.468Z"
      },
      {
        "duration": 13,
        "start_time": "2023-08-01T20:02:51.519Z"
      },
      {
        "duration": 9,
        "start_time": "2023-08-01T20:02:51.534Z"
      },
      {
        "duration": 15,
        "start_time": "2023-08-01T20:02:51.544Z"
      },
      {
        "duration": 5,
        "start_time": "2023-08-01T20:02:51.561Z"
      },
      {
        "duration": 160,
        "start_time": "2023-08-01T20:02:51.570Z"
      },
      {
        "duration": 122,
        "start_time": "2023-08-01T20:02:51.731Z"
      },
      {
        "duration": 170,
        "start_time": "2023-08-01T20:02:51.855Z"
      },
      {
        "duration": 252,
        "start_time": "2023-08-01T20:02:52.027Z"
      },
      {
        "duration": 245,
        "start_time": "2023-08-01T20:02:52.281Z"
      },
      {
        "duration": 33,
        "start_time": "2023-08-01T20:02:52.528Z"
      },
      {
        "duration": 13,
        "start_time": "2023-08-01T20:02:52.563Z"
      },
      {
        "duration": 558,
        "start_time": "2023-08-01T20:02:52.577Z"
      },
      {
        "duration": 423,
        "start_time": "2023-08-01T20:02:53.137Z"
      },
      {
        "duration": 25,
        "start_time": "2023-08-01T20:02:53.561Z"
      },
      {
        "duration": 158,
        "start_time": "2023-08-01T20:02:53.588Z"
      },
      {
        "duration": 9,
        "start_time": "2023-08-01T20:02:53.747Z"
      },
      {
        "duration": 16,
        "start_time": "2023-08-01T20:02:53.758Z"
      },
      {
        "duration": 7,
        "start_time": "2023-08-01T20:02:53.775Z"
      },
      {
        "duration": 6,
        "start_time": "2023-08-01T20:02:53.808Z"
      },
      {
        "duration": 15,
        "start_time": "2023-08-01T20:02:53.815Z"
      },
      {
        "duration": 294,
        "start_time": "2023-08-01T20:02:53.831Z"
      },
      {
        "duration": 323,
        "start_time": "2023-08-01T20:04:21.390Z"
      },
      {
        "duration": 2011,
        "start_time": "2023-08-01T20:05:35.544Z"
      },
      {
        "duration": 1162,
        "start_time": "2023-08-01T20:17:26.213Z"
      },
      {
        "duration": 72,
        "start_time": "2023-08-01T20:17:27.377Z"
      },
      {
        "duration": 32,
        "start_time": "2023-08-01T20:17:27.451Z"
      },
      {
        "duration": 54,
        "start_time": "2023-08-01T20:17:27.486Z"
      },
      {
        "duration": 27,
        "start_time": "2023-08-01T20:17:27.542Z"
      },
      {
        "duration": 34,
        "start_time": "2023-08-01T20:17:27.571Z"
      },
      {
        "duration": 35,
        "start_time": "2023-08-01T20:17:27.606Z"
      },
      {
        "duration": 30,
        "start_time": "2023-08-01T20:17:27.643Z"
      },
      {
        "duration": 29,
        "start_time": "2023-08-01T20:17:27.675Z"
      },
      {
        "duration": 26,
        "start_time": "2023-08-01T20:17:27.707Z"
      },
      {
        "duration": 172,
        "start_time": "2023-08-01T20:17:27.734Z"
      },
      {
        "duration": 145,
        "start_time": "2023-08-01T20:17:27.908Z"
      },
      {
        "duration": 172,
        "start_time": "2023-08-01T20:17:28.055Z"
      },
      {
        "duration": 292,
        "start_time": "2023-08-01T20:17:28.229Z"
      },
      {
        "duration": 224,
        "start_time": "2023-08-01T20:17:28.523Z"
      },
      {
        "duration": 39,
        "start_time": "2023-08-01T20:17:28.748Z"
      },
      {
        "duration": 35,
        "start_time": "2023-08-01T20:17:28.789Z"
      },
      {
        "duration": 553,
        "start_time": "2023-08-01T20:17:28.826Z"
      },
      {
        "duration": 555,
        "start_time": "2023-08-01T20:17:29.381Z"
      },
      {
        "duration": 37,
        "start_time": "2023-08-01T20:17:29.938Z"
      },
      {
        "duration": 179,
        "start_time": "2023-08-01T20:17:29.977Z"
      },
      {
        "duration": 9,
        "start_time": "2023-08-01T20:17:30.158Z"
      },
      {
        "duration": 39,
        "start_time": "2023-08-01T20:17:30.170Z"
      },
      {
        "duration": 6,
        "start_time": "2023-08-01T20:17:30.211Z"
      },
      {
        "duration": 20,
        "start_time": "2023-08-01T20:17:30.218Z"
      },
      {
        "duration": 38,
        "start_time": "2023-08-01T20:17:30.240Z"
      },
      {
        "duration": 13,
        "start_time": "2023-08-01T20:18:57.832Z"
      },
      {
        "duration": 14,
        "start_time": "2023-08-01T20:19:00.288Z"
      },
      {
        "duration": 16,
        "start_time": "2023-08-01T20:19:08.949Z"
      },
      {
        "duration": 7,
        "start_time": "2023-08-01T20:19:12.489Z"
      },
      {
        "duration": 13,
        "start_time": "2023-08-01T20:19:25.243Z"
      },
      {
        "duration": 7,
        "start_time": "2023-08-01T20:22:08.423Z"
      },
      {
        "duration": 8,
        "start_time": "2023-08-01T20:22:15.145Z"
      },
      {
        "duration": 10,
        "start_time": "2023-08-01T20:22:18.824Z"
      },
      {
        "duration": 4,
        "start_time": "2023-08-01T20:22:26.788Z"
      },
      {
        "duration": 99,
        "start_time": "2023-08-01T20:22:26.793Z"
      },
      {
        "duration": 19,
        "start_time": "2023-08-01T20:22:26.894Z"
      },
      {
        "duration": 21,
        "start_time": "2023-08-01T20:22:26.915Z"
      },
      {
        "duration": 25,
        "start_time": "2023-08-01T20:22:26.939Z"
      },
      {
        "duration": 7,
        "start_time": "2023-08-01T20:22:26.967Z"
      },
      {
        "duration": 34,
        "start_time": "2023-08-01T20:22:26.976Z"
      },
      {
        "duration": 12,
        "start_time": "2023-08-01T20:22:27.012Z"
      },
      {
        "duration": 17,
        "start_time": "2023-08-01T20:22:27.027Z"
      },
      {
        "duration": 7,
        "start_time": "2023-08-01T20:22:27.045Z"
      },
      {
        "duration": 181,
        "start_time": "2023-08-01T20:22:27.054Z"
      },
      {
        "duration": 135,
        "start_time": "2023-08-01T20:22:27.237Z"
      },
      {
        "duration": 166,
        "start_time": "2023-08-01T20:22:27.374Z"
      },
      {
        "duration": 278,
        "start_time": "2023-08-01T20:22:27.541Z"
      },
      {
        "duration": 223,
        "start_time": "2023-08-01T20:22:27.821Z"
      },
      {
        "duration": 26,
        "start_time": "2023-08-01T20:22:28.047Z"
      },
      {
        "duration": 33,
        "start_time": "2023-08-01T20:22:28.076Z"
      },
      {
        "duration": 434,
        "start_time": "2023-08-01T20:22:28.110Z"
      },
      {
        "duration": 550,
        "start_time": "2023-08-01T20:22:28.546Z"
      },
      {
        "duration": 39,
        "start_time": "2023-08-01T20:22:29.098Z"
      },
      {
        "duration": 163,
        "start_time": "2023-08-01T20:22:29.139Z"
      },
      {
        "duration": 15,
        "start_time": "2023-08-01T20:22:29.304Z"
      },
      {
        "duration": 30,
        "start_time": "2023-08-01T20:22:29.321Z"
      },
      {
        "duration": 7,
        "start_time": "2023-08-01T20:22:29.354Z"
      },
      {
        "duration": 29,
        "start_time": "2023-08-01T20:22:29.363Z"
      },
      {
        "duration": 17,
        "start_time": "2023-08-01T20:22:29.395Z"
      },
      {
        "duration": 23,
        "start_time": "2023-08-01T20:22:29.415Z"
      },
      {
        "duration": 7,
        "start_time": "2023-08-01T20:22:48.348Z"
      },
      {
        "duration": 118,
        "start_time": "2023-08-01T20:24:25.414Z"
      },
      {
        "duration": 4,
        "start_time": "2023-08-01T20:24:37.133Z"
      },
      {
        "duration": 70,
        "start_time": "2023-08-01T20:24:37.140Z"
      },
      {
        "duration": 20,
        "start_time": "2023-08-01T20:24:37.212Z"
      },
      {
        "duration": 24,
        "start_time": "2023-08-01T20:24:37.234Z"
      },
      {
        "duration": 14,
        "start_time": "2023-08-01T20:24:37.260Z"
      },
      {
        "duration": 34,
        "start_time": "2023-08-01T20:24:37.275Z"
      },
      {
        "duration": 6,
        "start_time": "2023-08-01T20:24:37.311Z"
      },
      {
        "duration": 22,
        "start_time": "2023-08-01T20:24:37.318Z"
      },
      {
        "duration": 11,
        "start_time": "2023-08-01T20:24:37.342Z"
      },
      {
        "duration": 5,
        "start_time": "2023-08-01T20:24:37.355Z"
      },
      {
        "duration": 187,
        "start_time": "2023-08-01T20:24:37.361Z"
      },
      {
        "duration": 131,
        "start_time": "2023-08-01T20:24:37.550Z"
      },
      {
        "duration": 166,
        "start_time": "2023-08-01T20:24:37.682Z"
      },
      {
        "duration": 292,
        "start_time": "2023-08-01T20:24:37.851Z"
      },
      {
        "duration": 218,
        "start_time": "2023-08-01T20:24:38.145Z"
      },
      {
        "duration": 28,
        "start_time": "2023-08-01T20:24:38.364Z"
      },
      {
        "duration": 26,
        "start_time": "2023-08-01T20:24:38.394Z"
      },
      {
        "duration": 458,
        "start_time": "2023-08-01T20:24:38.422Z"
      },
      {
        "duration": 450,
        "start_time": "2023-08-01T20:24:38.883Z"
      },
      {
        "duration": 28,
        "start_time": "2023-08-01T20:24:39.335Z"
      },
      {
        "duration": 213,
        "start_time": "2023-08-01T20:24:39.366Z"
      },
      {
        "duration": 9,
        "start_time": "2023-08-01T20:24:39.581Z"
      },
      {
        "duration": 34,
        "start_time": "2023-08-01T20:24:39.591Z"
      },
      {
        "duration": 7,
        "start_time": "2023-08-01T20:24:39.627Z"
      },
      {
        "duration": 6,
        "start_time": "2023-08-01T20:24:39.635Z"
      },
      {
        "duration": 15,
        "start_time": "2023-08-01T20:24:39.642Z"
      },
      {
        "duration": 15,
        "start_time": "2023-08-01T20:24:39.659Z"
      },
      {
        "duration": 18,
        "start_time": "2023-08-01T20:28:15.925Z"
      },
      {
        "duration": 14,
        "start_time": "2023-08-01T20:32:01.114Z"
      },
      {
        "duration": 1176,
        "start_time": "2023-08-01T20:35:24.026Z"
      },
      {
        "duration": 69,
        "start_time": "2023-08-01T20:35:25.204Z"
      },
      {
        "duration": 26,
        "start_time": "2023-08-01T20:35:25.275Z"
      },
      {
        "duration": 27,
        "start_time": "2023-08-01T20:35:25.303Z"
      },
      {
        "duration": 19,
        "start_time": "2023-08-01T20:35:25.333Z"
      },
      {
        "duration": 10,
        "start_time": "2023-08-01T20:35:25.354Z"
      },
      {
        "duration": 13,
        "start_time": "2023-08-01T20:35:25.365Z"
      },
      {
        "duration": 9,
        "start_time": "2023-08-01T20:35:25.380Z"
      },
      {
        "duration": 30,
        "start_time": "2023-08-01T20:35:25.391Z"
      },
      {
        "duration": 23,
        "start_time": "2023-08-01T20:35:25.423Z"
      },
      {
        "duration": 165,
        "start_time": "2023-08-01T20:35:25.447Z"
      },
      {
        "duration": 163,
        "start_time": "2023-08-01T20:35:25.614Z"
      },
      {
        "duration": 207,
        "start_time": "2023-08-01T20:35:25.778Z"
      },
      {
        "duration": 400,
        "start_time": "2023-08-01T20:35:25.989Z"
      },
      {
        "duration": 228,
        "start_time": "2023-08-01T20:35:26.391Z"
      },
      {
        "duration": 30,
        "start_time": "2023-08-01T20:35:26.621Z"
      },
      {
        "duration": 22,
        "start_time": "2023-08-01T20:35:26.653Z"
      },
      {
        "duration": 552,
        "start_time": "2023-08-01T20:35:26.676Z"
      },
      {
        "duration": 465,
        "start_time": "2023-08-01T20:35:27.230Z"
      },
      {
        "duration": 39,
        "start_time": "2023-08-01T20:35:27.697Z"
      },
      {
        "duration": 166,
        "start_time": "2023-08-01T20:35:27.737Z"
      },
      {
        "duration": 10,
        "start_time": "2023-08-01T20:35:27.908Z"
      },
      {
        "duration": 29,
        "start_time": "2023-08-01T20:35:27.920Z"
      },
      {
        "duration": 8,
        "start_time": "2023-08-01T20:35:27.952Z"
      },
      {
        "duration": 17,
        "start_time": "2023-08-01T20:35:27.961Z"
      },
      {
        "duration": 19,
        "start_time": "2023-08-01T20:35:27.980Z"
      },
      {
        "duration": 41,
        "start_time": "2023-08-01T20:35:28.010Z"
      },
      {
        "duration": 1617,
        "start_time": "2023-08-01T20:36:08.089Z"
      },
      {
        "duration": 10,
        "start_time": "2023-08-01T20:36:21.225Z"
      },
      {
        "duration": 11,
        "start_time": "2023-08-01T20:36:31.436Z"
      },
      {
        "duration": 27,
        "start_time": "2023-08-01T20:36:39.784Z"
      },
      {
        "duration": 12,
        "start_time": "2023-08-01T20:36:42.554Z"
      },
      {
        "duration": 11,
        "start_time": "2023-08-01T20:36:48.280Z"
      },
      {
        "duration": 12,
        "start_time": "2023-08-01T20:36:57.955Z"
      },
      {
        "duration": 10,
        "start_time": "2023-08-01T20:37:32.882Z"
      },
      {
        "duration": 18,
        "start_time": "2023-08-01T20:37:59.209Z"
      },
      {
        "duration": 160,
        "start_time": "2023-08-01T20:40:34.140Z"
      },
      {
        "duration": 446,
        "start_time": "2023-08-01T20:42:19.852Z"
      },
      {
        "duration": 29,
        "start_time": "2023-08-01T20:42:48.714Z"
      },
      {
        "duration": 1479,
        "start_time": "2023-08-01T20:42:55.909Z"
      },
      {
        "duration": 91,
        "start_time": "2023-08-01T20:43:51.051Z"
      },
      {
        "duration": 40,
        "start_time": "2023-08-01T20:44:26.364Z"
      },
      {
        "duration": 36,
        "start_time": "2023-08-01T20:46:46.619Z"
      },
      {
        "duration": 38,
        "start_time": "2023-08-01T20:48:29.436Z"
      },
      {
        "duration": 20,
        "start_time": "2023-08-01T20:49:30.294Z"
      },
      {
        "duration": 26,
        "start_time": "2023-08-01T20:50:34.022Z"
      },
      {
        "duration": 37,
        "start_time": "2023-08-01T20:51:00.784Z"
      },
      {
        "duration": 1425,
        "start_time": "2023-08-01T20:51:03.003Z"
      },
      {
        "duration": 33,
        "start_time": "2023-08-01T20:51:29.735Z"
      },
      {
        "duration": 161,
        "start_time": "2023-08-01T20:51:31.090Z"
      },
      {
        "duration": 9,
        "start_time": "2023-08-01T20:51:34.892Z"
      },
      {
        "duration": 22,
        "start_time": "2023-08-01T20:51:35.801Z"
      },
      {
        "duration": 4,
        "start_time": "2023-08-01T20:51:40.142Z"
      },
      {
        "duration": 101,
        "start_time": "2023-08-01T20:51:40.147Z"
      },
      {
        "duration": 18,
        "start_time": "2023-08-01T20:51:40.250Z"
      },
      {
        "duration": 20,
        "start_time": "2023-08-01T20:51:40.270Z"
      },
      {
        "duration": 17,
        "start_time": "2023-08-01T20:51:40.292Z"
      },
      {
        "duration": 20,
        "start_time": "2023-08-01T20:51:40.311Z"
      },
      {
        "duration": 15,
        "start_time": "2023-08-01T20:51:40.332Z"
      },
      {
        "duration": 22,
        "start_time": "2023-08-01T20:51:40.349Z"
      },
      {
        "duration": 11,
        "start_time": "2023-08-01T20:51:40.373Z"
      },
      {
        "duration": 5,
        "start_time": "2023-08-01T20:51:40.386Z"
      },
      {
        "duration": 157,
        "start_time": "2023-08-01T20:51:40.393Z"
      },
      {
        "duration": 144,
        "start_time": "2023-08-01T20:51:40.552Z"
      },
      {
        "duration": 182,
        "start_time": "2023-08-01T20:51:40.698Z"
      },
      {
        "duration": 289,
        "start_time": "2023-08-01T20:51:40.882Z"
      },
      {
        "duration": 226,
        "start_time": "2023-08-01T20:51:41.173Z"
      },
      {
        "duration": 34,
        "start_time": "2023-08-01T20:51:41.401Z"
      },
      {
        "duration": 13,
        "start_time": "2023-08-01T20:51:41.436Z"
      },
      {
        "duration": 563,
        "start_time": "2023-08-01T20:51:41.451Z"
      },
      {
        "duration": 435,
        "start_time": "2023-08-01T20:51:42.016Z"
      },
      {
        "duration": 25,
        "start_time": "2023-08-01T20:51:42.453Z"
      },
      {
        "duration": 174,
        "start_time": "2023-08-01T20:51:42.480Z"
      },
      {
        "duration": 11,
        "start_time": "2023-08-01T20:51:42.656Z"
      },
      {
        "duration": 62,
        "start_time": "2023-08-01T20:51:42.668Z"
      },
      {
        "duration": 9,
        "start_time": "2023-08-01T20:51:42.734Z"
      },
      {
        "duration": 20,
        "start_time": "2023-08-01T20:51:42.744Z"
      },
      {
        "duration": 81,
        "start_time": "2023-08-01T20:51:42.766Z"
      },
      {
        "duration": 56,
        "start_time": "2023-08-01T20:51:42.848Z"
      },
      {
        "duration": 27,
        "start_time": "2023-08-01T20:51:42.906Z"
      },
      {
        "duration": 1198,
        "start_time": "2023-08-01T20:52:15.664Z"
      },
      {
        "duration": 77,
        "start_time": "2023-08-01T20:52:16.864Z"
      },
      {
        "duration": 22,
        "start_time": "2023-08-01T20:52:16.942Z"
      },
      {
        "duration": 19,
        "start_time": "2023-08-01T20:52:16.966Z"
      },
      {
        "duration": 40,
        "start_time": "2023-08-01T20:52:16.988Z"
      },
      {
        "duration": 7,
        "start_time": "2023-08-01T20:52:17.031Z"
      },
      {
        "duration": 7,
        "start_time": "2023-08-01T20:52:17.040Z"
      },
      {
        "duration": 9,
        "start_time": "2023-08-01T20:52:17.049Z"
      },
      {
        "duration": 13,
        "start_time": "2023-08-01T20:52:17.060Z"
      },
      {
        "duration": 6,
        "start_time": "2023-08-01T20:52:17.075Z"
      },
      {
        "duration": 159,
        "start_time": "2023-08-01T20:52:17.113Z"
      },
      {
        "duration": 142,
        "start_time": "2023-08-01T20:52:17.274Z"
      },
      {
        "duration": 163,
        "start_time": "2023-08-01T20:52:17.418Z"
      },
      {
        "duration": 279,
        "start_time": "2023-08-01T20:52:17.584Z"
      },
      {
        "duration": 226,
        "start_time": "2023-08-01T20:52:17.865Z"
      },
      {
        "duration": 34,
        "start_time": "2023-08-01T20:52:18.092Z"
      },
      {
        "duration": 48,
        "start_time": "2023-08-01T20:52:18.127Z"
      },
      {
        "duration": 427,
        "start_time": "2023-08-01T20:52:18.177Z"
      },
      {
        "duration": 526,
        "start_time": "2023-08-01T20:52:18.608Z"
      },
      {
        "duration": 26,
        "start_time": "2023-08-01T20:52:19.136Z"
      },
      {
        "duration": 188,
        "start_time": "2023-08-01T20:52:19.163Z"
      },
      {
        "duration": 10,
        "start_time": "2023-08-01T20:52:19.353Z"
      },
      {
        "duration": 39,
        "start_time": "2023-08-01T20:52:19.366Z"
      },
      {
        "duration": 7,
        "start_time": "2023-08-01T20:52:19.407Z"
      },
      {
        "duration": 30,
        "start_time": "2023-08-01T20:52:19.416Z"
      },
      {
        "duration": 24,
        "start_time": "2023-08-01T20:52:19.449Z"
      },
      {
        "duration": 1228,
        "start_time": "2023-08-01T20:53:06.645Z"
      },
      {
        "duration": 73,
        "start_time": "2023-08-01T20:53:07.875Z"
      },
      {
        "duration": 23,
        "start_time": "2023-08-01T20:53:07.950Z"
      },
      {
        "duration": 18,
        "start_time": "2023-08-01T20:53:07.976Z"
      },
      {
        "duration": 19,
        "start_time": "2023-08-01T20:53:07.996Z"
      },
      {
        "duration": 22,
        "start_time": "2023-08-01T20:53:08.016Z"
      },
      {
        "duration": 5,
        "start_time": "2023-08-01T20:53:08.039Z"
      },
      {
        "duration": 8,
        "start_time": "2023-08-01T20:53:08.045Z"
      },
      {
        "duration": 12,
        "start_time": "2023-08-01T20:53:08.054Z"
      },
      {
        "duration": 5,
        "start_time": "2023-08-01T20:53:08.068Z"
      },
      {
        "duration": 191,
        "start_time": "2023-08-01T20:53:08.074Z"
      },
      {
        "duration": 133,
        "start_time": "2023-08-01T20:53:08.266Z"
      },
      {
        "duration": 166,
        "start_time": "2023-08-01T20:53:08.401Z"
      },
      {
        "duration": 280,
        "start_time": "2023-08-01T20:53:08.569Z"
      },
      {
        "duration": 219,
        "start_time": "2023-08-01T20:53:08.851Z"
      },
      {
        "duration": 38,
        "start_time": "2023-08-01T20:53:09.072Z"
      },
      {
        "duration": 17,
        "start_time": "2023-08-01T20:53:09.112Z"
      },
      {
        "duration": 474,
        "start_time": "2023-08-01T20:53:09.131Z"
      },
      {
        "duration": 547,
        "start_time": "2023-08-01T20:53:09.609Z"
      },
      {
        "duration": 27,
        "start_time": "2023-08-01T20:53:10.158Z"
      },
      {
        "duration": 188,
        "start_time": "2023-08-01T20:53:10.187Z"
      },
      {
        "duration": 9,
        "start_time": "2023-08-01T20:53:10.376Z"
      },
      {
        "duration": 34,
        "start_time": "2023-08-01T20:53:10.386Z"
      },
      {
        "duration": 6,
        "start_time": "2023-08-01T20:53:10.422Z"
      },
      {
        "duration": 19,
        "start_time": "2023-08-01T20:53:10.430Z"
      },
      {
        "duration": 18,
        "start_time": "2023-08-01T20:53:10.451Z"
      },
      {
        "duration": 1194,
        "start_time": "2023-08-01T21:59:20.089Z"
      },
      {
        "duration": 232,
        "start_time": "2023-08-01T21:59:21.285Z"
      },
      {
        "duration": 31,
        "start_time": "2023-08-01T21:59:21.519Z"
      },
      {
        "duration": 21,
        "start_time": "2023-08-01T21:59:21.552Z"
      },
      {
        "duration": 16,
        "start_time": "2023-08-01T21:59:21.577Z"
      },
      {
        "duration": 8,
        "start_time": "2023-08-01T21:59:21.595Z"
      },
      {
        "duration": 6,
        "start_time": "2023-08-01T21:59:21.605Z"
      },
      {
        "duration": 13,
        "start_time": "2023-08-01T21:59:21.612Z"
      },
      {
        "duration": 56,
        "start_time": "2023-08-01T21:59:21.627Z"
      },
      {
        "duration": 5,
        "start_time": "2023-08-01T21:59:21.685Z"
      },
      {
        "duration": 170,
        "start_time": "2023-08-01T21:59:21.692Z"
      },
      {
        "duration": 141,
        "start_time": "2023-08-01T21:59:21.866Z"
      },
      {
        "duration": 175,
        "start_time": "2023-08-01T21:59:22.009Z"
      },
      {
        "duration": 283,
        "start_time": "2023-08-01T21:59:22.187Z"
      },
      {
        "duration": 238,
        "start_time": "2023-08-01T21:59:22.472Z"
      },
      {
        "duration": 31,
        "start_time": "2023-08-01T21:59:22.712Z"
      },
      {
        "duration": 36,
        "start_time": "2023-08-01T21:59:22.745Z"
      },
      {
        "duration": 464,
        "start_time": "2023-08-01T21:59:22.783Z"
      },
      {
        "duration": 518,
        "start_time": "2023-08-01T21:59:23.249Z"
      },
      {
        "duration": 34,
        "start_time": "2023-08-01T21:59:23.768Z"
      },
      {
        "duration": 249,
        "start_time": "2023-08-01T21:59:23.804Z"
      },
      {
        "duration": 28,
        "start_time": "2023-08-01T21:59:24.055Z"
      },
      {
        "duration": 21,
        "start_time": "2023-08-01T21:59:24.086Z"
      },
      {
        "duration": 6,
        "start_time": "2023-08-01T21:59:24.110Z"
      },
      {
        "duration": 9,
        "start_time": "2023-08-01T21:59:24.117Z"
      },
      {
        "duration": 16,
        "start_time": "2023-08-01T21:59:24.128Z"
      },
      {
        "duration": 64,
        "start_time": "2023-08-02T09:09:20.496Z"
      },
      {
        "duration": 1385,
        "start_time": "2023-08-02T09:09:43.893Z"
      },
      {
        "duration": 217,
        "start_time": "2023-08-02T09:09:45.280Z"
      },
      {
        "duration": 26,
        "start_time": "2023-08-02T09:09:45.498Z"
      },
      {
        "duration": 16,
        "start_time": "2023-08-02T09:09:45.526Z"
      },
      {
        "duration": 24,
        "start_time": "2023-08-02T09:09:45.544Z"
      },
      {
        "duration": 7,
        "start_time": "2023-08-02T09:09:45.569Z"
      },
      {
        "duration": 14,
        "start_time": "2023-08-02T09:09:45.578Z"
      },
      {
        "duration": 9,
        "start_time": "2023-08-02T09:09:45.613Z"
      },
      {
        "duration": 9,
        "start_time": "2023-08-02T09:09:45.624Z"
      },
      {
        "duration": 10,
        "start_time": "2023-08-02T09:09:45.637Z"
      },
      {
        "duration": 5,
        "start_time": "2023-08-02T09:09:45.648Z"
      },
      {
        "duration": 161,
        "start_time": "2023-08-02T09:09:45.654Z"
      },
      {
        "duration": 112,
        "start_time": "2023-08-02T09:09:45.817Z"
      },
      {
        "duration": 168,
        "start_time": "2023-08-02T09:09:45.931Z"
      },
      {
        "duration": 270,
        "start_time": "2023-08-02T09:09:46.100Z"
      },
      {
        "duration": 192,
        "start_time": "2023-08-02T09:09:46.372Z"
      },
      {
        "duration": 24,
        "start_time": "2023-08-02T09:09:46.565Z"
      },
      {
        "duration": 30,
        "start_time": "2023-08-02T09:09:46.590Z"
      },
      {
        "duration": 365,
        "start_time": "2023-08-02T09:09:46.621Z"
      },
      {
        "duration": 447,
        "start_time": "2023-08-02T09:09:46.989Z"
      },
      {
        "duration": 23,
        "start_time": "2023-08-02T09:09:47.437Z"
      },
      {
        "duration": 178,
        "start_time": "2023-08-02T09:09:47.462Z"
      },
      {
        "duration": 9,
        "start_time": "2023-08-02T09:09:47.641Z"
      },
      {
        "duration": 26,
        "start_time": "2023-08-02T09:09:47.652Z"
      },
      {
        "duration": 5,
        "start_time": "2023-08-02T09:09:47.680Z"
      },
      {
        "duration": 13,
        "start_time": "2023-08-02T09:09:47.703Z"
      },
      {
        "duration": 12,
        "start_time": "2023-08-02T09:09:47.717Z"
      },
      {
        "duration": 70,
        "start_time": "2023-08-02T09:17:53.377Z"
      },
      {
        "duration": 12,
        "start_time": "2023-08-02T09:17:59.511Z"
      },
      {
        "duration": 9,
        "start_time": "2023-08-02T09:18:04.445Z"
      },
      {
        "duration": 8,
        "start_time": "2023-08-02T09:35:56.269Z"
      },
      {
        "duration": 4,
        "start_time": "2023-08-02T09:36:09.004Z"
      },
      {
        "duration": 8,
        "start_time": "2023-08-02T09:37:15.445Z"
      },
      {
        "duration": 9,
        "start_time": "2023-08-02T09:37:27.753Z"
      },
      {
        "duration": 7,
        "start_time": "2023-08-02T09:39:09.214Z"
      },
      {
        "duration": 137,
        "start_time": "2023-08-02T09:43:33.203Z"
      },
      {
        "duration": 88,
        "start_time": "2023-08-02T09:45:15.995Z"
      },
      {
        "duration": 89,
        "start_time": "2023-08-02T09:45:43.367Z"
      },
      {
        "duration": 79,
        "start_time": "2023-08-02T09:46:47.517Z"
      },
      {
        "duration": 88,
        "start_time": "2023-08-02T09:47:19.676Z"
      },
      {
        "duration": 156,
        "start_time": "2023-08-02T09:50:27.959Z"
      },
      {
        "duration": 74,
        "start_time": "2023-08-02T09:50:37.330Z"
      },
      {
        "duration": 148,
        "start_time": "2023-08-02T09:51:05.469Z"
      },
      {
        "duration": 323,
        "start_time": "2023-08-02T09:51:47.744Z"
      },
      {
        "duration": 191,
        "start_time": "2023-08-02T09:53:03.774Z"
      },
      {
        "duration": 147,
        "start_time": "2023-08-02T10:02:51.008Z"
      },
      {
        "duration": 232,
        "start_time": "2023-08-02T10:03:06.774Z"
      },
      {
        "duration": 244,
        "start_time": "2023-08-02T10:09:14.914Z"
      },
      {
        "duration": 269,
        "start_time": "2023-08-02T10:09:47.515Z"
      },
      {
        "duration": 377,
        "start_time": "2023-08-02T10:09:58.091Z"
      },
      {
        "duration": 1956,
        "start_time": "2023-08-02T10:10:39.954Z"
      },
      {
        "duration": 224,
        "start_time": "2023-08-02T10:10:52.053Z"
      },
      {
        "duration": 330,
        "start_time": "2023-08-02T10:11:02.691Z"
      },
      {
        "duration": 287,
        "start_time": "2023-08-02T10:13:24.036Z"
      },
      {
        "duration": 8,
        "start_time": "2023-08-02T10:19:04.484Z"
      },
      {
        "duration": 4,
        "start_time": "2023-08-02T10:22:50.575Z"
      },
      {
        "duration": 4,
        "start_time": "2023-08-02T10:23:13.831Z"
      },
      {
        "duration": 4,
        "start_time": "2023-08-02T10:23:39.605Z"
      },
      {
        "duration": 4,
        "start_time": "2023-08-02T10:24:20.579Z"
      },
      {
        "duration": 4,
        "start_time": "2023-08-02T10:24:34.304Z"
      },
      {
        "duration": 5,
        "start_time": "2023-08-02T10:24:42.717Z"
      },
      {
        "duration": 5,
        "start_time": "2023-08-02T10:24:48.922Z"
      },
      {
        "duration": 4,
        "start_time": "2023-08-02T10:25:05.635Z"
      },
      {
        "duration": 4,
        "start_time": "2023-08-02T10:25:45.755Z"
      },
      {
        "duration": 4,
        "start_time": "2023-08-02T10:26:13.597Z"
      },
      {
        "duration": 4,
        "start_time": "2023-08-02T10:28:33.126Z"
      },
      {
        "duration": 4,
        "start_time": "2023-08-02T10:29:00.766Z"
      },
      {
        "duration": 8,
        "start_time": "2023-08-02T10:34:30.292Z"
      },
      {
        "duration": 8,
        "start_time": "2023-08-02T10:34:34.258Z"
      },
      {
        "duration": 29,
        "start_time": "2023-08-02T10:42:21.520Z"
      },
      {
        "duration": 24,
        "start_time": "2023-08-02T10:42:23.622Z"
      },
      {
        "duration": 4,
        "start_time": "2023-08-02T10:42:31.674Z"
      },
      {
        "duration": 121,
        "start_time": "2023-08-02T10:42:31.681Z"
      },
      {
        "duration": 16,
        "start_time": "2023-08-02T10:42:31.803Z"
      },
      {
        "duration": 33,
        "start_time": "2023-08-02T10:42:31.820Z"
      },
      {
        "duration": 33,
        "start_time": "2023-08-02T10:42:31.855Z"
      },
      {
        "duration": 65,
        "start_time": "2023-08-02T10:42:31.890Z"
      },
      {
        "duration": 25,
        "start_time": "2023-08-02T10:42:31.957Z"
      },
      {
        "duration": 37,
        "start_time": "2023-08-02T10:42:31.984Z"
      },
      {
        "duration": 22,
        "start_time": "2023-08-02T10:42:32.022Z"
      },
      {
        "duration": 28,
        "start_time": "2023-08-02T10:42:32.046Z"
      },
      {
        "duration": 18,
        "start_time": "2023-08-02T10:42:32.076Z"
      },
      {
        "duration": 218,
        "start_time": "2023-08-02T10:42:32.096Z"
      },
      {
        "duration": 193,
        "start_time": "2023-08-02T10:42:32.316Z"
      },
      {
        "duration": 293,
        "start_time": "2023-08-02T10:42:32.511Z"
      },
      {
        "duration": 340,
        "start_time": "2023-08-02T10:42:32.805Z"
      },
      {
        "duration": 320,
        "start_time": "2023-08-02T10:42:33.147Z"
      },
      {
        "duration": 36,
        "start_time": "2023-08-02T10:42:33.468Z"
      },
      {
        "duration": 31,
        "start_time": "2023-08-02T10:42:33.506Z"
      },
      {
        "duration": 14,
        "start_time": "2023-08-02T10:42:33.539Z"
      },
      {
        "duration": 407,
        "start_time": "2023-08-02T10:42:33.555Z"
      },
      {
        "duration": 479,
        "start_time": "2023-08-02T10:42:33.964Z"
      },
      {
        "duration": 8,
        "start_time": "2023-08-02T10:42:34.445Z"
      },
      {
        "duration": 28,
        "start_time": "2023-08-02T10:42:34.455Z"
      },
      {
        "duration": 183,
        "start_time": "2023-08-02T10:42:34.484Z"
      },
      {
        "duration": 11,
        "start_time": "2023-08-02T10:42:34.668Z"
      },
      {
        "duration": 32,
        "start_time": "2023-08-02T10:42:34.682Z"
      },
      {
        "duration": 7,
        "start_time": "2023-08-02T10:42:34.716Z"
      },
      {
        "duration": 10,
        "start_time": "2023-08-02T10:42:34.725Z"
      },
      {
        "duration": 23,
        "start_time": "2023-08-02T10:42:34.739Z"
      },
      {
        "duration": 29,
        "start_time": "2023-08-02T10:43:56.093Z"
      },
      {
        "duration": 7,
        "start_time": "2023-08-02T10:44:21.635Z"
      },
      {
        "duration": 159,
        "start_time": "2023-08-02T10:44:51.960Z"
      },
      {
        "duration": 8,
        "start_time": "2023-08-02T10:44:54.656Z"
      },
      {
        "duration": 15,
        "start_time": "2023-08-02T10:44:56.591Z"
      },
      {
        "duration": 7,
        "start_time": "2023-08-02T10:45:02.505Z"
      },
      {
        "duration": 3,
        "start_time": "2023-08-02T10:45:49.922Z"
      },
      {
        "duration": 98,
        "start_time": "2023-08-02T10:45:49.929Z"
      },
      {
        "duration": 16,
        "start_time": "2023-08-02T10:45:50.030Z"
      },
      {
        "duration": 34,
        "start_time": "2023-08-02T10:45:50.047Z"
      },
      {
        "duration": 23,
        "start_time": "2023-08-02T10:45:50.082Z"
      },
      {
        "duration": 27,
        "start_time": "2023-08-02T10:45:50.107Z"
      },
      {
        "duration": 41,
        "start_time": "2023-08-02T10:45:50.136Z"
      },
      {
        "duration": 33,
        "start_time": "2023-08-02T10:45:50.179Z"
      },
      {
        "duration": 30,
        "start_time": "2023-08-02T10:45:50.214Z"
      },
      {
        "duration": 35,
        "start_time": "2023-08-02T10:45:50.246Z"
      },
      {
        "duration": 45,
        "start_time": "2023-08-02T10:45:50.283Z"
      },
      {
        "duration": 160,
        "start_time": "2023-08-02T10:45:50.329Z"
      },
      {
        "duration": 90,
        "start_time": "2023-08-02T10:45:50.491Z"
      },
      {
        "duration": 262,
        "start_time": "2023-08-02T10:45:50.583Z"
      },
      {
        "duration": 330,
        "start_time": "2023-08-02T10:45:50.846Z"
      },
      {
        "duration": 289,
        "start_time": "2023-08-02T10:45:51.178Z"
      },
      {
        "duration": 34,
        "start_time": "2023-08-02T10:45:51.468Z"
      },
      {
        "duration": 12,
        "start_time": "2023-08-02T10:45:51.504Z"
      },
      {
        "duration": 35,
        "start_time": "2023-08-02T10:45:51.517Z"
      },
      {
        "duration": 402,
        "start_time": "2023-08-02T10:45:51.554Z"
      },
      {
        "duration": 465,
        "start_time": "2023-08-02T10:45:51.958Z"
      },
      {
        "duration": 23,
        "start_time": "2023-08-02T10:45:52.425Z"
      },
      {
        "duration": 6,
        "start_time": "2023-08-02T10:45:52.450Z"
      },
      {
        "duration": 174,
        "start_time": "2023-08-02T10:45:52.457Z"
      },
      {
        "duration": 8,
        "start_time": "2023-08-02T10:45:52.633Z"
      },
      {
        "duration": 42,
        "start_time": "2023-08-02T10:45:52.643Z"
      },
      {
        "duration": 23,
        "start_time": "2023-08-02T10:45:52.687Z"
      },
      {
        "duration": 14,
        "start_time": "2023-08-02T10:45:52.712Z"
      },
      {
        "duration": 37,
        "start_time": "2023-08-02T10:45:52.731Z"
      },
      {
        "duration": 6,
        "start_time": "2023-08-02T10:47:20.121Z"
      },
      {
        "duration": 6,
        "start_time": "2023-08-02T10:47:46.709Z"
      },
      {
        "duration": 5,
        "start_time": "2023-08-02T10:47:53.831Z"
      },
      {
        "duration": 1155,
        "start_time": "2023-08-02T11:05:37.584Z"
      },
      {
        "duration": 65,
        "start_time": "2023-08-02T11:05:38.741Z"
      },
      {
        "duration": 25,
        "start_time": "2023-08-02T11:05:38.808Z"
      },
      {
        "duration": 15,
        "start_time": "2023-08-02T11:05:38.835Z"
      },
      {
        "duration": 23,
        "start_time": "2023-08-02T11:05:38.851Z"
      },
      {
        "duration": 8,
        "start_time": "2023-08-02T11:05:38.876Z"
      },
      {
        "duration": 4,
        "start_time": "2023-08-02T11:05:38.899Z"
      },
      {
        "duration": 8,
        "start_time": "2023-08-02T11:05:38.905Z"
      },
      {
        "duration": 9,
        "start_time": "2023-08-02T11:05:38.914Z"
      },
      {
        "duration": 14,
        "start_time": "2023-08-02T11:05:38.926Z"
      },
      {
        "duration": 6,
        "start_time": "2023-08-02T11:05:38.941Z"
      },
      {
        "duration": 180,
        "start_time": "2023-08-02T11:05:38.948Z"
      },
      {
        "duration": 84,
        "start_time": "2023-08-02T11:05:39.130Z"
      },
      {
        "duration": 239,
        "start_time": "2023-08-02T11:05:39.215Z"
      },
      {
        "duration": 335,
        "start_time": "2023-08-02T11:05:39.455Z"
      },
      {
        "duration": 342,
        "start_time": "2023-08-02T11:05:39.800Z"
      },
      {
        "duration": 33,
        "start_time": "2023-08-02T11:05:40.144Z"
      },
      {
        "duration": 28,
        "start_time": "2023-08-02T11:05:40.179Z"
      },
      {
        "duration": 4,
        "start_time": "2023-08-02T11:05:40.208Z"
      },
      {
        "duration": 346,
        "start_time": "2023-08-02T11:05:40.214Z"
      },
      {
        "duration": 362,
        "start_time": "2023-08-02T11:05:40.561Z"
      },
      {
        "duration": 23,
        "start_time": "2023-08-02T11:05:40.925Z"
      },
      {
        "duration": 6,
        "start_time": "2023-08-02T11:05:40.950Z"
      },
      {
        "duration": 162,
        "start_time": "2023-08-02T11:05:40.957Z"
      },
      {
        "duration": 7,
        "start_time": "2023-08-02T11:05:41.120Z"
      },
      {
        "duration": 14,
        "start_time": "2023-08-02T11:05:41.128Z"
      },
      {
        "duration": 5,
        "start_time": "2023-08-02T11:05:41.144Z"
      },
      {
        "duration": 11,
        "start_time": "2023-08-02T11:05:41.151Z"
      },
      {
        "duration": 19,
        "start_time": "2023-08-02T11:05:41.163Z"
      },
      {
        "duration": 1143,
        "start_time": "2023-08-02T11:09:06.990Z"
      },
      {
        "duration": 70,
        "start_time": "2023-08-02T11:09:08.135Z"
      },
      {
        "duration": 27,
        "start_time": "2023-08-02T11:09:08.209Z"
      },
      {
        "duration": 38,
        "start_time": "2023-08-02T11:09:08.239Z"
      },
      {
        "duration": 25,
        "start_time": "2023-08-02T11:09:08.279Z"
      },
      {
        "duration": 25,
        "start_time": "2023-08-02T11:09:08.306Z"
      },
      {
        "duration": 36,
        "start_time": "2023-08-02T11:09:08.333Z"
      },
      {
        "duration": 28,
        "start_time": "2023-08-02T11:09:08.371Z"
      },
      {
        "duration": 18,
        "start_time": "2023-08-02T11:09:08.401Z"
      },
      {
        "duration": 13,
        "start_time": "2023-08-02T11:09:08.423Z"
      },
      {
        "duration": 12,
        "start_time": "2023-08-02T11:09:08.437Z"
      },
      {
        "duration": 173,
        "start_time": "2023-08-02T11:09:08.450Z"
      },
      {
        "duration": 90,
        "start_time": "2023-08-02T11:09:08.625Z"
      },
      {
        "duration": 251,
        "start_time": "2023-08-02T11:09:08.717Z"
      },
      {
        "duration": 368,
        "start_time": "2023-08-02T11:09:08.970Z"
      },
      {
        "duration": 383,
        "start_time": "2023-08-02T11:09:09.340Z"
      },
      {
        "duration": 24,
        "start_time": "2023-08-02T11:09:09.724Z"
      },
      {
        "duration": 23,
        "start_time": "2023-08-02T11:09:09.750Z"
      },
      {
        "duration": 11,
        "start_time": "2023-08-02T11:09:09.775Z"
      },
      {
        "duration": 386,
        "start_time": "2023-08-02T11:09:09.787Z"
      },
      {
        "duration": 399,
        "start_time": "2023-08-02T11:09:10.176Z"
      },
      {
        "duration": 45,
        "start_time": "2023-08-02T11:09:10.577Z"
      },
      {
        "duration": 8,
        "start_time": "2023-08-02T11:09:10.624Z"
      },
      {
        "duration": 209,
        "start_time": "2023-08-02T11:09:10.634Z"
      },
      {
        "duration": 7,
        "start_time": "2023-08-02T11:09:10.844Z"
      },
      {
        "duration": 60,
        "start_time": "2023-08-02T11:09:10.853Z"
      },
      {
        "duration": 15,
        "start_time": "2023-08-02T11:09:10.915Z"
      },
      {
        "duration": 8,
        "start_time": "2023-08-02T11:09:10.932Z"
      },
      {
        "duration": 24,
        "start_time": "2023-08-02T11:09:10.942Z"
      },
      {
        "duration": 1146,
        "start_time": "2023-08-02T11:11:07.190Z"
      },
      {
        "duration": 67,
        "start_time": "2023-08-02T11:11:08.338Z"
      },
      {
        "duration": 21,
        "start_time": "2023-08-02T11:11:08.407Z"
      },
      {
        "duration": 24,
        "start_time": "2023-08-02T11:11:08.430Z"
      },
      {
        "duration": 19,
        "start_time": "2023-08-02T11:11:08.456Z"
      },
      {
        "duration": 10,
        "start_time": "2023-08-02T11:11:08.499Z"
      },
      {
        "duration": 8,
        "start_time": "2023-08-02T11:11:08.511Z"
      },
      {
        "duration": 13,
        "start_time": "2023-08-02T11:11:08.521Z"
      },
      {
        "duration": 9,
        "start_time": "2023-08-02T11:11:08.535Z"
      },
      {
        "duration": 18,
        "start_time": "2023-08-02T11:11:08.546Z"
      },
      {
        "duration": 52,
        "start_time": "2023-08-02T11:11:08.566Z"
      },
      {
        "duration": 173,
        "start_time": "2023-08-02T11:11:08.620Z"
      },
      {
        "duration": 81,
        "start_time": "2023-08-02T11:11:08.794Z"
      },
      {
        "duration": 265,
        "start_time": "2023-08-02T11:11:08.876Z"
      },
      {
        "duration": 375,
        "start_time": "2023-08-02T11:11:09.142Z"
      },
      {
        "duration": 346,
        "start_time": "2023-08-02T11:11:09.518Z"
      },
      {
        "duration": 38,
        "start_time": "2023-08-02T11:11:09.866Z"
      },
      {
        "duration": 12,
        "start_time": "2023-08-02T11:11:09.905Z"
      },
      {
        "duration": 18,
        "start_time": "2023-08-02T11:11:09.918Z"
      },
      {
        "duration": 390,
        "start_time": "2023-08-02T11:11:09.937Z"
      },
      {
        "duration": 353,
        "start_time": "2023-08-02T11:11:10.328Z"
      },
      {
        "duration": 33,
        "start_time": "2023-08-02T11:11:10.682Z"
      },
      {
        "duration": 9,
        "start_time": "2023-08-02T11:11:10.717Z"
      },
      {
        "duration": 163,
        "start_time": "2023-08-02T11:11:10.727Z"
      },
      {
        "duration": 14,
        "start_time": "2023-08-02T11:11:10.892Z"
      },
      {
        "duration": 28,
        "start_time": "2023-08-02T11:11:10.908Z"
      },
      {
        "duration": 27,
        "start_time": "2023-08-02T11:11:10.938Z"
      },
      {
        "duration": 21,
        "start_time": "2023-08-02T11:11:10.968Z"
      },
      {
        "duration": 16,
        "start_time": "2023-08-02T11:11:10.990Z"
      },
      {
        "duration": 1159,
        "start_time": "2023-08-02T11:59:09.497Z"
      },
      {
        "duration": 77,
        "start_time": "2023-08-02T11:59:10.658Z"
      },
      {
        "duration": 22,
        "start_time": "2023-08-02T11:59:10.736Z"
      },
      {
        "duration": 35,
        "start_time": "2023-08-02T11:59:10.760Z"
      },
      {
        "duration": 12,
        "start_time": "2023-08-02T11:59:10.797Z"
      },
      {
        "duration": 9,
        "start_time": "2023-08-02T11:59:10.811Z"
      },
      {
        "duration": 20,
        "start_time": "2023-08-02T11:59:10.822Z"
      },
      {
        "duration": 12,
        "start_time": "2023-08-02T11:59:10.843Z"
      },
      {
        "duration": 13,
        "start_time": "2023-08-02T11:59:10.857Z"
      },
      {
        "duration": 15,
        "start_time": "2023-08-02T11:59:10.872Z"
      },
      {
        "duration": 12,
        "start_time": "2023-08-02T11:59:10.889Z"
      },
      {
        "duration": 181,
        "start_time": "2023-08-02T11:59:10.903Z"
      },
      {
        "duration": 87,
        "start_time": "2023-08-02T11:59:11.085Z"
      },
      {
        "duration": 255,
        "start_time": "2023-08-02T11:59:11.174Z"
      },
      {
        "duration": 347,
        "start_time": "2023-08-02T11:59:11.430Z"
      },
      {
        "duration": 346,
        "start_time": "2023-08-02T11:59:11.779Z"
      },
      {
        "duration": 31,
        "start_time": "2023-08-02T11:59:12.127Z"
      },
      {
        "duration": 12,
        "start_time": "2023-08-02T11:59:12.160Z"
      },
      {
        "duration": 5,
        "start_time": "2023-08-02T11:59:12.174Z"
      },
      {
        "duration": 465,
        "start_time": "2023-08-02T11:59:12.180Z"
      },
      {
        "duration": 472,
        "start_time": "2023-08-02T11:59:12.647Z"
      },
      {
        "duration": 30,
        "start_time": "2023-08-02T11:59:13.121Z"
      },
      {
        "duration": 8,
        "start_time": "2023-08-02T11:59:13.152Z"
      },
      {
        "duration": 198,
        "start_time": "2023-08-02T11:59:13.161Z"
      },
      {
        "duration": 7,
        "start_time": "2023-08-02T11:59:13.361Z"
      },
      {
        "duration": 19,
        "start_time": "2023-08-02T11:59:13.370Z"
      },
      {
        "duration": 5,
        "start_time": "2023-08-02T11:59:13.391Z"
      },
      {
        "duration": 26,
        "start_time": "2023-08-02T11:59:13.398Z"
      },
      {
        "duration": 29,
        "start_time": "2023-08-02T11:59:13.426Z"
      }
    ],
    "kernelspec": {
      "display_name": "Python 3 (ipykernel)",
      "language": "python",
      "name": "python3"
    },
    "language_info": {
      "codemirror_mode": {
        "name": "ipython",
        "version": 3
      },
      "file_extension": ".py",
      "mimetype": "text/x-python",
      "name": "python",
      "nbconvert_exporter": "python",
      "pygments_lexer": "ipython3",
      "version": "3.9.5"
    },
    "toc": {
      "base_numbering": 1,
      "nav_menu": {},
      "number_sections": true,
      "sideBar": true,
      "skip_h1_title": true,
      "title_cell": "Table of Contents",
      "title_sidebar": "Contents",
      "toc_cell": false,
      "toc_position": {},
      "toc_section_display": true,
      "toc_window_display": true
    },
    "colab": {
      "provenance": []
    }
  },
  "nbformat": 4,
  "nbformat_minor": 5
}