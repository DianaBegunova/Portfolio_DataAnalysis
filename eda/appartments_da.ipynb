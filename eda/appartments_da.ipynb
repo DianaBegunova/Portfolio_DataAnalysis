{
  "cells": [
    {
      "cell_type": "markdown",
      "metadata": {
        "id": "UbZJ9UfxNqLY"
      },
      "source": [
        "# Исследование объявлений о продаже квартир\n",
        "\n",
        "В распоряжении — данные сервиса Яндекс.Недвижимость — архив объявлений о продаже квартир в Санкт-Петербурге и соседних населённых пунктов за несколько лет. Основная цель исследования - научиться определять рыночную стоимость объектов недвижимости, задача — установить параметры. Это позволит построить автоматизированную систему: она отследит аномалии и мошенническую деятельность.\n",
        "\n",
        "По каждой квартире на продажу доступны два вида данных. Первые вписаны пользователем, вторые — получены автоматически на основе картографических данных. Например, расстояние до центра, аэропорта, ближайшего парка и водоёма.\n",
        "\n",
        "Всего в датасете изначально было 23 699 записей и 22 признака. Среди признаков есть информация о количестве фотографий, цене квартиры, общей площади, дне публикации объявления, количестве комнат, высоте потолков, этажности дома, жилой площади, этаже квартиры, о том, является ли квартира апартаментами, студией, имеет ли она свободную планировку, о площади кухни, количестве балконов, названии населенного пункта, расстоянии до ближайшего аэропорта, до центра города, парков и водоемов, а также о количестве парков и водоемов в радиусе 3 км, и о количестве дней, которое объявление было размещено объявление.\n",
        "\n",
        "План работы:\n",
        "\n",
        "1. Предобработка данных\n",
        "- работа с пропущенными значениями (удаление, замена, оставление нетронутыми),\n",
        "- изменение типов данных в некоторых столбцах,\n",
        "- работа с неявными дубликатами\n",
        "- логическая замена или удаление аномальных, выбивающихся значений\n",
        "2. Добавление новых столбцов\n",
        "\n",
        "\n",
        "3. Исследовательский анализ данных\n",
        "- построение гистограмм по каждому параметру\n",
        "- изучение того, какие факторы больше всего влияют на стоимость квартир\n",
        "- подсчет цены одного кв. м. в самых популярных населенных пунктов\n",
        "- изучение изменения цены с отдалением от центра Санкт-Петербурга"
      ]
    },
    {
      "cell_type": "markdown",
      "metadata": {
        "id": "r54WBnRlNqLZ"
      },
      "source": [
        "### Откроем файл с данными и изучим общую информацию."
      ]
    },
    {
      "cell_type": "markdown",
      "metadata": {
        "id": "ggbpoEbvNqLZ"
      },
      "source": [
        "Загружаем библиотеки и просматриваем данные"
      ]
    },
    {
      "cell_type": "code",
      "execution_count": null,
      "metadata": {
        "id": "3HUVX5lwNqLa"
      },
      "outputs": [],
      "source": [
        "import pandas as pd\n",
        "# импортируем библиотеку для лучшей визуализации графиков\n",
        "import matplotlib.pyplot as plt"
      ]
    },
    {
      "cell_type": "code",
      "execution_count": null,
      "metadata": {
        "scrolled": false,
        "id": "YYKzPIf6NqLb",
        "outputId": "cc580ec2-0226-4c69-8d52-2061b50fd030"
      },
      "outputs": [
        {
          "data": {
            "text/html": [
              "<div>\n",
              "<style scoped>\n",
              "    .dataframe tbody tr th:only-of-type {\n",
              "        vertical-align: middle;\n",
              "    }\n",
              "\n",
              "    .dataframe tbody tr th {\n",
              "        vertical-align: top;\n",
              "    }\n",
              "\n",
              "    .dataframe thead th {\n",
              "        text-align: right;\n",
              "    }\n",
              "</style>\n",
              "<table border=\"1\" class=\"dataframe\">\n",
              "  <thead>\n",
              "    <tr style=\"text-align: right;\">\n",
              "      <th></th>\n",
              "      <th>total_images</th>\n",
              "      <th>last_price</th>\n",
              "      <th>total_area</th>\n",
              "      <th>first_day_exposition</th>\n",
              "      <th>rooms</th>\n",
              "      <th>ceiling_height</th>\n",
              "      <th>floors_total</th>\n",
              "      <th>living_area</th>\n",
              "      <th>floor</th>\n",
              "      <th>is_apartment</th>\n",
              "      <th>studio</th>\n",
              "      <th>open_plan</th>\n",
              "      <th>kitchen_area</th>\n",
              "      <th>balcony</th>\n",
              "      <th>locality_name</th>\n",
              "      <th>airports_nearest</th>\n",
              "      <th>cityCenters_nearest</th>\n",
              "      <th>parks_around3000</th>\n",
              "      <th>parks_nearest</th>\n",
              "      <th>ponds_around3000</th>\n",
              "      <th>ponds_nearest</th>\n",
              "      <th>days_exposition</th>\n",
              "    </tr>\n",
              "  </thead>\n",
              "  <tbody>\n",
              "    <tr>\n",
              "      <th>0</th>\n",
              "      <td>20</td>\n",
              "      <td>13000000.0</td>\n",
              "      <td>108.0</td>\n",
              "      <td>2019-03-07T00:00:00</td>\n",
              "      <td>3</td>\n",
              "      <td>2.70</td>\n",
              "      <td>16.0</td>\n",
              "      <td>51.0</td>\n",
              "      <td>8</td>\n",
              "      <td>NaN</td>\n",
              "      <td>False</td>\n",
              "      <td>False</td>\n",
              "      <td>25.0</td>\n",
              "      <td>NaN</td>\n",
              "      <td>Санкт-Петербург</td>\n",
              "      <td>18863.0</td>\n",
              "      <td>16028.0</td>\n",
              "      <td>1.0</td>\n",
              "      <td>482.0</td>\n",
              "      <td>2.0</td>\n",
              "      <td>755.0</td>\n",
              "      <td>NaN</td>\n",
              "    </tr>\n",
              "    <tr>\n",
              "      <th>1</th>\n",
              "      <td>7</td>\n",
              "      <td>3350000.0</td>\n",
              "      <td>40.4</td>\n",
              "      <td>2018-12-04T00:00:00</td>\n",
              "      <td>1</td>\n",
              "      <td>NaN</td>\n",
              "      <td>11.0</td>\n",
              "      <td>18.6</td>\n",
              "      <td>1</td>\n",
              "      <td>NaN</td>\n",
              "      <td>False</td>\n",
              "      <td>False</td>\n",
              "      <td>11.0</td>\n",
              "      <td>2.0</td>\n",
              "      <td>посёлок Шушары</td>\n",
              "      <td>12817.0</td>\n",
              "      <td>18603.0</td>\n",
              "      <td>0.0</td>\n",
              "      <td>NaN</td>\n",
              "      <td>0.0</td>\n",
              "      <td>NaN</td>\n",
              "      <td>81.0</td>\n",
              "    </tr>\n",
              "    <tr>\n",
              "      <th>2</th>\n",
              "      <td>10</td>\n",
              "      <td>5196000.0</td>\n",
              "      <td>56.0</td>\n",
              "      <td>2015-08-20T00:00:00</td>\n",
              "      <td>2</td>\n",
              "      <td>NaN</td>\n",
              "      <td>5.0</td>\n",
              "      <td>34.3</td>\n",
              "      <td>4</td>\n",
              "      <td>NaN</td>\n",
              "      <td>False</td>\n",
              "      <td>False</td>\n",
              "      <td>8.3</td>\n",
              "      <td>0.0</td>\n",
              "      <td>Санкт-Петербург</td>\n",
              "      <td>21741.0</td>\n",
              "      <td>13933.0</td>\n",
              "      <td>1.0</td>\n",
              "      <td>90.0</td>\n",
              "      <td>2.0</td>\n",
              "      <td>574.0</td>\n",
              "      <td>558.0</td>\n",
              "    </tr>\n",
              "    <tr>\n",
              "      <th>3</th>\n",
              "      <td>0</td>\n",
              "      <td>64900000.0</td>\n",
              "      <td>159.0</td>\n",
              "      <td>2015-07-24T00:00:00</td>\n",
              "      <td>3</td>\n",
              "      <td>NaN</td>\n",
              "      <td>14.0</td>\n",
              "      <td>NaN</td>\n",
              "      <td>9</td>\n",
              "      <td>NaN</td>\n",
              "      <td>False</td>\n",
              "      <td>False</td>\n",
              "      <td>NaN</td>\n",
              "      <td>0.0</td>\n",
              "      <td>Санкт-Петербург</td>\n",
              "      <td>28098.0</td>\n",
              "      <td>6800.0</td>\n",
              "      <td>2.0</td>\n",
              "      <td>84.0</td>\n",
              "      <td>3.0</td>\n",
              "      <td>234.0</td>\n",
              "      <td>424.0</td>\n",
              "    </tr>\n",
              "    <tr>\n",
              "      <th>4</th>\n",
              "      <td>2</td>\n",
              "      <td>10000000.0</td>\n",
              "      <td>100.0</td>\n",
              "      <td>2018-06-19T00:00:00</td>\n",
              "      <td>2</td>\n",
              "      <td>3.03</td>\n",
              "      <td>14.0</td>\n",
              "      <td>32.0</td>\n",
              "      <td>13</td>\n",
              "      <td>NaN</td>\n",
              "      <td>False</td>\n",
              "      <td>False</td>\n",
              "      <td>41.0</td>\n",
              "      <td>NaN</td>\n",
              "      <td>Санкт-Петербург</td>\n",
              "      <td>31856.0</td>\n",
              "      <td>8098.0</td>\n",
              "      <td>2.0</td>\n",
              "      <td>112.0</td>\n",
              "      <td>1.0</td>\n",
              "      <td>48.0</td>\n",
              "      <td>121.0</td>\n",
              "    </tr>\n",
              "  </tbody>\n",
              "</table>\n",
              "</div>"
            ],
            "text/plain": [
              "   total_images  last_price  total_area first_day_exposition  rooms  \\\n",
              "0            20  13000000.0       108.0  2019-03-07T00:00:00      3   \n",
              "1             7   3350000.0        40.4  2018-12-04T00:00:00      1   \n",
              "2            10   5196000.0        56.0  2015-08-20T00:00:00      2   \n",
              "3             0  64900000.0       159.0  2015-07-24T00:00:00      3   \n",
              "4             2  10000000.0       100.0  2018-06-19T00:00:00      2   \n",
              "\n",
              "   ceiling_height  floors_total  living_area  floor is_apartment  studio  \\\n",
              "0            2.70          16.0         51.0      8          NaN   False   \n",
              "1             NaN          11.0         18.6      1          NaN   False   \n",
              "2             NaN           5.0         34.3      4          NaN   False   \n",
              "3             NaN          14.0          NaN      9          NaN   False   \n",
              "4            3.03          14.0         32.0     13          NaN   False   \n",
              "\n",
              "   open_plan  kitchen_area  balcony    locality_name  airports_nearest  \\\n",
              "0      False          25.0      NaN  Санкт-Петербург           18863.0   \n",
              "1      False          11.0      2.0   посёлок Шушары           12817.0   \n",
              "2      False           8.3      0.0  Санкт-Петербург           21741.0   \n",
              "3      False           NaN      0.0  Санкт-Петербург           28098.0   \n",
              "4      False          41.0      NaN  Санкт-Петербург           31856.0   \n",
              "\n",
              "   cityCenters_nearest  parks_around3000  parks_nearest  ponds_around3000  \\\n",
              "0              16028.0               1.0          482.0               2.0   \n",
              "1              18603.0               0.0            NaN               0.0   \n",
              "2              13933.0               1.0           90.0               2.0   \n",
              "3               6800.0               2.0           84.0               3.0   \n",
              "4               8098.0               2.0          112.0               1.0   \n",
              "\n",
              "   ponds_nearest  days_exposition  \n",
              "0          755.0              NaN  \n",
              "1            NaN             81.0  \n",
              "2          574.0            558.0  \n",
              "3          234.0            424.0  \n",
              "4           48.0            121.0  "
            ]
          },
          "execution_count": 2,
          "metadata": {},
          "output_type": "execute_result"
        }
      ],
      "source": [
        "data = pd.read_csv('/datasets/real_estate_data.csv', sep='\\t')\n",
        "pd.set_option('display.max_columns', 50)\n",
        "data.head()"
      ]
    },
    {
      "cell_type": "markdown",
      "metadata": {
        "id": "uAcLQ5h4NqLc"
      },
      "source": [
        "Изучаем таблицу, название колонок и тип хранящихся данных"
      ]
    },
    {
      "cell_type": "code",
      "execution_count": null,
      "metadata": {
        "scrolled": false,
        "id": "8v4o4G9wNqLc",
        "outputId": "d95f0eb5-c400-4db1-915b-1ccc08515ea3"
      },
      "outputs": [
        {
          "name": "stdout",
          "output_type": "stream",
          "text": [
            "<class 'pandas.core.frame.DataFrame'>\n",
            "RangeIndex: 23699 entries, 0 to 23698\n",
            "Data columns (total 22 columns):\n",
            " #   Column                Non-Null Count  Dtype  \n",
            "---  ------                --------------  -----  \n",
            " 0   total_images          23699 non-null  int64  \n",
            " 1   last_price            23699 non-null  float64\n",
            " 2   total_area            23699 non-null  float64\n",
            " 3   first_day_exposition  23699 non-null  object \n",
            " 4   rooms                 23699 non-null  int64  \n",
            " 5   ceiling_height        14504 non-null  float64\n",
            " 6   floors_total          23613 non-null  float64\n",
            " 7   living_area           21796 non-null  float64\n",
            " 8   floor                 23699 non-null  int64  \n",
            " 9   is_apartment          2775 non-null   object \n",
            " 10  studio                23699 non-null  bool   \n",
            " 11  open_plan             23699 non-null  bool   \n",
            " 12  kitchen_area          21421 non-null  float64\n",
            " 13  balcony               12180 non-null  float64\n",
            " 14  locality_name         23650 non-null  object \n",
            " 15  airports_nearest      18157 non-null  float64\n",
            " 16  cityCenters_nearest   18180 non-null  float64\n",
            " 17  parks_around3000      18181 non-null  float64\n",
            " 18  parks_nearest         8079 non-null   float64\n",
            " 19  ponds_around3000      18181 non-null  float64\n",
            " 20  ponds_nearest         9110 non-null   float64\n",
            " 21  days_exposition       20518 non-null  float64\n",
            "dtypes: bool(2), float64(14), int64(3), object(3)\n",
            "memory usage: 3.7+ MB\n"
          ]
        }
      ],
      "source": [
        "data.info()"
      ]
    },
    {
      "cell_type": "markdown",
      "metadata": {
        "id": "vcgXOFBlNqLc"
      },
      "source": [
        "Построим гистограммы для числовых значений датасета"
      ]
    },
    {
      "cell_type": "code",
      "execution_count": null,
      "metadata": {
        "scrolled": true,
        "id": "s_KlQsVsNqLc",
        "outputId": "eb3ec2d1-7516-43f1-8afe-20da5cd00fde"
      },
      "outputs": [
        {
          "data": {
            "image/png": "[encoded data removed]",
            "text/plain": [
              "<Figure size 1080x1440 with 20 Axes>"
            ]
          },
          "metadata": {
            "needs_background": "light"
          },
          "output_type": "display_data"
        }
      ],
      "source": [
        "data.hist(figsize=(15, 20))\n",
        "None"
      ]
    },
    {
      "cell_type": "markdown",
      "metadata": {
        "id": "k8ci4I-nNqLd"
      },
      "source": [
        "### Предобработка данных"
      ]
    },
    {
      "cell_type": "markdown",
      "metadata": {
        "id": "7VsoyL0FNqLd"
      },
      "source": [
        "**2.1 Работа с пропусками**\n",
        "\n",
        "Посчитаем количество пропусков в каждом столбце"
      ]
    },
    {
      "cell_type": "code",
      "execution_count": null,
      "metadata": {
        "scrolled": false,
        "id": "_v_girb7NqLd",
        "outputId": "477e68c9-1a54-4507-cd92-f18969135020"
      },
      "outputs": [
        {
          "data": {
            "text/plain": [
              "total_images                0\n",
              "last_price                  0\n",
              "total_area                  0\n",
              "first_day_exposition        0\n",
              "rooms                       0\n",
              "ceiling_height           9195\n",
              "floors_total               86\n",
              "living_area              1903\n",
              "floor                       0\n",
              "is_apartment            20924\n",
              "studio                      0\n",
              "open_plan                   0\n",
              "kitchen_area             2278\n",
              "balcony                 11519\n",
              "locality_name              49\n",
              "airports_nearest         5542\n",
              "cityCenters_nearest      5519\n",
              "parks_around3000         5518\n",
              "parks_nearest           15620\n",
              "ponds_around3000         5518\n",
              "ponds_nearest           14589\n",
              "days_exposition          3181\n",
              "dtype: int64"
            ]
          },
          "execution_count": 6,
          "metadata": {},
          "output_type": "execute_result"
        }
      ],
      "source": [
        "data.isna().sum()"
      ]
    },
    {
      "cell_type": "code",
      "execution_count": null,
      "metadata": {
        "id": "UowA7iF1NqLe",
        "outputId": "7e031f4c-b578-41fd-bc32-a8f16187e85d"
      },
      "outputs": [
        {
          "data": {
            "text/plain": [
              "total_images             0.00\n",
              "last_price               0.00\n",
              "total_area               0.00\n",
              "first_day_exposition     0.00\n",
              "rooms                    0.00\n",
              "ceiling_height          38.80\n",
              "floors_total             0.36\n",
              "living_area              8.03\n",
              "floor                    0.00\n",
              "is_apartment            88.29\n",
              "studio                   0.00\n",
              "open_plan                0.00\n",
              "kitchen_area             9.61\n",
              "balcony                 48.61\n",
              "locality_name            0.21\n",
              "airports_nearest        23.38\n",
              "cityCenters_nearest     23.29\n",
              "parks_around3000        23.28\n",
              "parks_nearest           65.91\n",
              "ponds_around3000        23.28\n",
              "ponds_nearest           61.56\n",
              "days_exposition         13.42\n",
              "dtype: float64"
            ]
          },
          "execution_count": 7,
          "metadata": {},
          "output_type": "execute_result"
        }
      ],
      "source": [
        "(data.isnull().mean() * 100).round(2)"
      ]
    },
    {
      "cell_type": "markdown",
      "metadata": {
        "id": "7P6JjOfkNqLe"
      },
      "source": [
        "Пропуски в столбцах `balcony`, `parks_around3000`, `ponds_around3000` можно заменить на 0, так как пропуск обозначает отсутствие балкона/парка/водоема."
      ]
    },
    {
      "cell_type": "code",
      "execution_count": null,
      "metadata": {
        "id": "vzs--WJSNqLf"
      },
      "outputs": [],
      "source": [
        "data['balcony'] = data['balcony'].fillna(0)\n",
        "data['parks_around3000'] = data['parks_around3000'].fillna(0)\n",
        "data['ponds_around3000'] = data['ponds_around3000'].fillna(0)"
      ]
    },
    {
      "cell_type": "markdown",
      "metadata": {
        "id": "1X9ut8weNqLf"
      },
      "source": [
        "Несмотря на очевидные аномальные значения высоты потолков (например, 1 метр, 24 метра и так далее), медианное значение выглядит адекватным, поэтому заменим пропуски в столбце `ceiling_height` на медиану."
      ]
    },
    {
      "cell_type": "code",
      "execution_count": null,
      "metadata": {
        "id": "dMY1IH8oNqLf"
      },
      "outputs": [],
      "source": [
        "data['ceiling_height'] = data['ceiling_height'].fillna(data['ceiling_height'].median())"
      ]
    },
    {
      "cell_type": "markdown",
      "metadata": {
        "id": "TrnC0DFpNqLf"
      },
      "source": [
        "Заменим пропуски в столбце `living_area` медианным значением, сопоставив количество комнат и жилую площадь квартиры. Однако сначала нужно убедиться, что выбросы или экстремальные значения не влияют на медиану."
      ]
    },
    {
      "cell_type": "code",
      "execution_count": null,
      "metadata": {
        "id": "xyYK7P8BNqLf"
      },
      "outputs": [],
      "source": [
        "#data['living_area'].describe()\n",
        "\n",
        "# откинем аномальные значения\n",
        "good_living_area = data[data['living_area'] >= 8]\n",
        "# вычислим медианное значение по количеству комнат\n",
        "median_living_values = good_living_area.groupby('rooms')['living_area'].median()\n",
        "# заменим пропуски этими медианными значениями\n",
        "data['living_area'].fillna(data['rooms'].map(median_living_values), inplace=True)\n",
        "#median_living_values"
      ]
    },
    {
      "cell_type": "markdown",
      "metadata": {
        "id": "TSRiASDzNqLk"
      },
      "source": [
        "Пропуски в столбце `kitchen_area` могут быть связаны с тем, что квартира является студией. В таком случае заменим пропуски на 0. В других случаях заменим медианным значением от соотношения общей площади квартиры и площади кухни."
      ]
    },
    {
      "cell_type": "code",
      "execution_count": null,
      "metadata": {
        "id": "PlT4MSQmNqLk",
        "outputId": "da876b71-dc69-4867-95b8-182dd880ae78"
      },
      "outputs": [
        {
          "data": {
            "text/plain": [
              "0.30802987467825643"
            ]
          },
          "execution_count": 11,
          "metadata": {},
          "output_type": "execute_result"
        }
      ],
      "source": [
        "# Посчитаем количество строк, удовлетворяющих условию\n",
        "bad_rows = data.query('kitchen_area + living_area > total_area')\n",
        "\n",
        "# Вычислим процент от всех данных\n",
        "percent = (len(bad_rows) / len(data)) * 100\n",
        "percent"
      ]
    },
    {
      "cell_type": "code",
      "execution_count": null,
      "metadata": {
        "id": "jMVlM4ERNqLk"
      },
      "outputs": [],
      "source": [
        "# заменим часть пропусков\n",
        "data.loc[data['studio'] == True, 'kitchen_area'] = data.loc[data['studio'] == True, 'kitchen_area'].fillna(0)\n",
        "\n",
        "# создадим маску для строк, где условие выполняется\n",
        "mask = data['living_area'] + data['kitchen_area'] > data['total_area']\n",
        "# применим условие и изменение значения в столбце 'kitchen_area' с помощью метода .loc\n",
        "data.loc[mask, 'kitchen_area'] -= (data['living_area'] + data['kitchen_area'] - data['total_area'])\n",
        "\n",
        "# вычислим коэффициент корреляции между площадью кухни и общей площадью\n",
        "correlation = data['kitchen_area'].corr(data['total_area'])\n",
        "# заменим пропуски на основе общей площади и корреляции\n",
        "data['kitchen_area'].fillna(data['total_area'] * correlation, inplace=True)"
      ]
    },
    {
      "cell_type": "markdown",
      "metadata": {
        "id": "CRnB3S6mNqLl"
      },
      "source": [
        "Удалим строки, в которых неизвестна этажность дома (столбец `floors_total`), таких квартира всего 0.36% от всего датасета."
      ]
    },
    {
      "cell_type": "code",
      "execution_count": null,
      "metadata": {
        "id": "QzjIC7eENqLl"
      },
      "outputs": [],
      "source": [
        "data = data.dropna(subset=['floors_total'])"
      ]
    },
    {
      "cell_type": "markdown",
      "metadata": {
        "id": "20GURnCGNqLl"
      },
      "source": [
        "Так же поступим со строками, в которых не указано расположение квартиры (столбец `locality_name`), таких строк 0.2% от всего датасета."
      ]
    },
    {
      "cell_type": "code",
      "execution_count": null,
      "metadata": {
        "id": "DU4bcGfRNqLl"
      },
      "outputs": [],
      "source": [
        "data = data.dropna(subset=['locality_name'])"
      ]
    },
    {
      "cell_type": "markdown",
      "metadata": {
        "id": "4m-S6M-sNqLl"
      },
      "source": [
        "Проверяем, сколько осталось столбцов с пропусками."
      ]
    },
    {
      "cell_type": "code",
      "execution_count": null,
      "metadata": {
        "scrolled": false,
        "id": "QYWTNynfNqLl",
        "outputId": "445b6daa-cc90-40c5-c151-ac02aad1e2e1"
      },
      "outputs": [
        {
          "data": {
            "text/plain": [
              "total_images                0\n",
              "last_price                  0\n",
              "total_area                  0\n",
              "first_day_exposition        0\n",
              "rooms                       0\n",
              "ceiling_height              0\n",
              "floors_total                0\n",
              "living_area                 0\n",
              "floor                       0\n",
              "is_apartment            20805\n",
              "studio                      0\n",
              "open_plan                   0\n",
              "kitchen_area                0\n",
              "balcony                     0\n",
              "locality_name               0\n",
              "airports_nearest         5524\n",
              "cityCenters_nearest      5501\n",
              "parks_around3000            0\n",
              "parks_nearest           15535\n",
              "ponds_around3000            0\n",
              "ponds_nearest           14529\n",
              "days_exposition          3171\n",
              "dtype: int64"
            ]
          },
          "execution_count": 15,
          "metadata": {},
          "output_type": "execute_result"
        }
      ],
      "source": [
        "data.isnull().sum()"
      ]
    },
    {
      "cell_type": "markdown",
      "metadata": {
        "id": "drx7_xM5NqLm"
      },
      "source": [
        "Пропуски в столбцах о расстоянии до аэропорта, центра города, ближайшего парка и пруда, а также о количестве дней, которые объявление было размещено, и информации, является ли квартира апартаментами, оставляем незамененными, так как не можем найти им логическую замену.\n",
        "\n",
        "Пропуски в данных могут иметь несколько причин:\n",
        "1. Пользователь не заполнил некоторые пункты сведений о квартире (например, этажность дома, название населенного пункта, площадь кухни, это может произойти как предумышленно, так и не специально, например, по незнанию площади);\n",
        "2. Автоматизированная система сбора информации дала сбой, и другие технические проблемы (например, сбой при получении картографических данных);\n",
        "3. Удаление некоторых данных из-за конфиденциальности и других причин, например, связанных с некорректностью.\n",
        "\n",
        "Многие пропуски крайне сильно влияют на анализ, особенно в тех случаях, когда их нельзя заменить, поэтому необходимо решать данную проблему со специалистами, которые занимаются сбором данных."
      ]
    },
    {
      "cell_type": "markdown",
      "metadata": {
        "id": "3NjSxBhANqLm"
      },
      "source": [
        "<div class=\"alert alert-info\"; style=\"border-left: 7px solid purple\">\n",
        "<h5>🎓 <font color=\"purple\">Дополнительный промежуточный вывод:</font></h5>    \n",
        "\n",
        "В данных было обнаружено значительное количество пропущенных значений в различных столбцах. Для того чтобы не потерять основной объем данных, было принято решение заполнить пропуски в числовых столбцах медианными значениями, чтобы избежать искажения статистических показателей, в некоторых случаях, когда пропуски логически объяснялись, - соответствующими значениями. Часть пропусков осталось неизменной.\n",
        "    \n",
        "</div>\n"
      ]
    },
    {
      "cell_type": "markdown",
      "metadata": {
        "id": "6yVgwJFdNqLm"
      },
      "source": [
        "**2.2 Типы данных**\n",
        "\n",
        "Рассмотрим типа данных в столбцах, ранее мы заметили, что столбцы first_day_exposition, floors_total, is_apartment, balcony, days_exposition, parks_around3000, ponds_around3000 содержат неверный тип данных."
      ]
    },
    {
      "cell_type": "code",
      "execution_count": null,
      "metadata": {
        "scrolled": false,
        "id": "EzHJrhIENqLm",
        "outputId": "53abd68d-f560-4df7-c655-f51d323fc848"
      },
      "outputs": [
        {
          "name": "stdout",
          "output_type": "stream",
          "text": [
            "<class 'pandas.core.frame.DataFrame'>\n",
            "Int64Index: 23565 entries, 0 to 23698\n",
            "Data columns (total 22 columns):\n",
            " #   Column                Non-Null Count  Dtype  \n",
            "---  ------                --------------  -----  \n",
            " 0   total_images          23565 non-null  int64  \n",
            " 1   last_price            23565 non-null  float64\n",
            " 2   total_area            23565 non-null  float64\n",
            " 3   first_day_exposition  23565 non-null  object \n",
            " 4   rooms                 23565 non-null  int64  \n",
            " 5   ceiling_height        23565 non-null  float64\n",
            " 6   floors_total          23565 non-null  float64\n",
            " 7   living_area           23565 non-null  float64\n",
            " 8   floor                 23565 non-null  int64  \n",
            " 9   is_apartment          2760 non-null   object \n",
            " 10  studio                23565 non-null  bool   \n",
            " 11  open_plan             23565 non-null  bool   \n",
            " 12  kitchen_area          23565 non-null  float64\n",
            " 13  balcony               23565 non-null  float64\n",
            " 14  locality_name         23565 non-null  object \n",
            " 15  airports_nearest      18041 non-null  float64\n",
            " 16  cityCenters_nearest   18064 non-null  float64\n",
            " 17  parks_around3000      23565 non-null  float64\n",
            " 18  parks_nearest         8030 non-null   float64\n",
            " 19  ponds_around3000      23565 non-null  float64\n",
            " 20  ponds_nearest         9036 non-null   float64\n",
            " 21  days_exposition       20394 non-null  float64\n",
            "dtypes: bool(2), float64(14), int64(3), object(3)\n",
            "memory usage: 3.8+ MB\n"
          ]
        }
      ],
      "source": [
        "data.info()"
      ]
    },
    {
      "cell_type": "code",
      "execution_count": null,
      "metadata": {
        "scrolled": false,
        "id": "I4nDeeioNqLm",
        "outputId": "0b6c46ff-2dfc-4b7f-cd55-2238c1b74bc7"
      },
      "outputs": [
        {
          "name": "stdout",
          "output_type": "stream",
          "text": [
            "<class 'pandas.core.frame.DataFrame'>\n",
            "Int64Index: 23565 entries, 0 to 23698\n",
            "Data columns (total 22 columns):\n",
            " #   Column                Non-Null Count  Dtype         \n",
            "---  ------                --------------  -----         \n",
            " 0   total_images          23565 non-null  int64         \n",
            " 1   last_price            23565 non-null  int64         \n",
            " 2   total_area            23565 non-null  int64         \n",
            " 3   first_day_exposition  23565 non-null  datetime64[ns]\n",
            " 4   rooms                 23565 non-null  int64         \n",
            " 5   ceiling_height        23565 non-null  float64       \n",
            " 6   floors_total          23565 non-null  int64         \n",
            " 7   living_area           23565 non-null  int64         \n",
            " 8   floor                 23565 non-null  int64         \n",
            " 9   is_apartment          2760 non-null   object        \n",
            " 10  studio                23565 non-null  bool          \n",
            " 11  open_plan             23565 non-null  bool          \n",
            " 12  kitchen_area          23565 non-null  int64         \n",
            " 13  balcony               23565 non-null  int64         \n",
            " 14  locality_name         23565 non-null  object        \n",
            " 15  airports_nearest      18041 non-null  float64       \n",
            " 16  cityCenters_nearest   18064 non-null  float64       \n",
            " 17  parks_around3000      23565 non-null  int64         \n",
            " 18  parks_nearest         8030 non-null   float64       \n",
            " 19  ponds_around3000      23565 non-null  int64         \n",
            " 20  ponds_nearest         9036 non-null   float64       \n",
            " 21  days_exposition       20394 non-null  float64       \n",
            "dtypes: bool(2), datetime64[ns](1), float64(6), int64(11), object(2)\n",
            "memory usage: 3.8+ MB\n"
          ]
        }
      ],
      "source": [
        "# сделаем цену квартиры целым чисом\n",
        "data['last_price'] = data['last_price'].astype(int)\n",
        "\n",
        "# изменим формат записи даты\n",
        "data['first_day_exposition'] = pd.to_datetime(data['first_day_exposition'], format='%Y-%m-%dT%H:%M:%S')\n",
        "\n",
        "# изменим тип данных в этажности дома\n",
        "data['floors_total'] = data['floors_total'].astype(int)\n",
        "\n",
        "# сделаем количество балконов целым числом\n",
        "data['balcony'] = data['balcony'].astype(int)\n",
        "\n",
        "# сделаем общую площадь целым числом\n",
        "data['total_area'] = data['total_area'].astype(int)\n",
        "\n",
        "# сделаем жилую площадь целым числом\n",
        "data['living_area'] = data['living_area'].astype(int)\n",
        "\n",
        "# сделаем площадь кухни целым числом\n",
        "data['kitchen_area'] = data['kitchen_area'].astype(int)\n",
        "\n",
        "# количество парков - целым числом\n",
        "data['parks_around3000'] = data['parks_around3000'].astype(int)\n",
        "\n",
        "# количество прудов - целым числом\n",
        "data['ponds_around3000'] = data['ponds_around3000'].astype(int)\n",
        "\n",
        "#проверим новые типы данных\n",
        "data.info()"
      ]
    },
    {
      "cell_type": "markdown",
      "metadata": {
        "id": "26rGNFSPNqLn"
      },
      "source": [
        "Типы данных изменяют с целью облегчения анализа и интерпретации. Так некоторые вычисления могут проводиться быстрее (например, операции с целыми числами проводятся быстрее, чем с вещественными), легче провести сравнение и сортировку данных, если они имеют общий/упрощенный формат, некоторые операции проводятся только с определенными типами данных, поэтому правильный выбор типов данных позволяет снизить нагрузку на вычислительные ресурсы и повысить эффективность анализа данных.\n",
        "Кроме того, типы данных могут быть связаны с предметной областью и смыслом данных. Например, дата и время имеют свои специфические форматы и методы обработки, которые позволяют выполнять операции, связанные со временем, такие как вычисление разницы между датами, группировка данных по временным периодам или анализ временных групп."
      ]
    },
    {
      "cell_type": "markdown",
      "metadata": {
        "id": "wu9vEVBANqLn"
      },
      "source": [
        "<div class=\"alert alert-info\"; style=\"border-left: 7px solid purple\">\n",
        "<h5>🎓 <font color=\"purple\">Дополнительный промежуточный вывод:</font></h5>    \n",
        "\n",
        "Для удобства и оптимизации работы с данными, были изменены типы данных для некоторых столбцов. Например, столбцы с датами приведены к типу datetime, что позволит удобно работать с временными рядами и анализировать данные по времени.\n",
        "    \n",
        "</div>"
      ]
    },
    {
      "cell_type": "markdown",
      "metadata": {
        "id": "UNAuT0EQNqLn"
      },
      "source": [
        "**2.3 Уникальные значения в столбце с названиями**"
      ]
    },
    {
      "cell_type": "code",
      "execution_count": null,
      "metadata": {
        "id": "tNut3Jm8NqLn",
        "outputId": "6d61a7d9-f9ca-420b-d4be-054a9e498ae5"
      },
      "outputs": [
        {
          "data": {
            "text/plain": [
              "array(['Санкт-Петербург', 'посёлок Шушары', 'городской посёлок Янино-1',\n",
              "       'посёлок Парголово', 'посёлок Мурино', 'Ломоносов', 'Сертолово',\n",
              "       'Петергоф', 'Пушкин', 'деревня Кудрово', 'Коммунар', 'Колпино',\n",
              "       'поселок городского типа Красный Бор', 'Гатчина', 'поселок Мурино',\n",
              "       'деревня Фёдоровское', 'Выборг', 'Кронштадт', 'Кировск',\n",
              "       'деревня Новое Девяткино', 'посёлок Металлострой',\n",
              "       'посёлок городского типа Лебяжье',\n",
              "       'посёлок городского типа Сиверский', 'поселок Молодцово',\n",
              "       'поселок городского типа Кузьмоловский',\n",
              "       'садовое товарищество Новая Ропша', 'Павловск',\n",
              "       'деревня Пикколово', 'Всеволожск', 'Волхов', 'Кингисепп',\n",
              "       'Приозерск', 'Сестрорецк', 'деревня Куттузи', 'посёлок Аннино',\n",
              "       'поселок городского типа Ефимовский', 'посёлок Плодовое',\n",
              "       'деревня Заклинье', 'поселок Торковичи', 'поселок Первомайское',\n",
              "       'Красное Село', 'посёлок Понтонный', 'Сясьстрой', 'деревня Старая',\n",
              "       'деревня Лесколово', 'посёлок Новый Свет', 'Сланцы',\n",
              "       'село Путилово', 'Ивангород', 'Мурино', 'Шлиссельбург',\n",
              "       'Никольское', 'Зеленогорск', 'Сосновый Бор', 'поселок Новый Свет',\n",
              "       'деревня Оржицы', 'деревня Кальтино', 'Кудрово',\n",
              "       'поселок Романовка', 'посёлок Бугры', 'поселок Бугры',\n",
              "       'поселок городского типа Рощино', 'Кириши', 'Луга', 'Волосово',\n",
              "       'Отрадное', 'село Павлово', 'поселок Оредеж', 'село Копорье',\n",
              "       'посёлок городского типа Красный Бор', 'посёлок Молодёжное',\n",
              "       'Тихвин', 'посёлок Победа', 'деревня Нурма',\n",
              "       'поселок городского типа Синявино', 'Тосно',\n",
              "       'посёлок городского типа Кузьмоловский', 'посёлок Стрельна',\n",
              "       'Бокситогорск', 'посёлок Александровская', 'деревня Лопухинка',\n",
              "       'Пикалёво', 'поселок Терволово',\n",
              "       'поселок городского типа Советский', 'Подпорожье',\n",
              "       'посёлок Петровское', 'посёлок городского типа Токсово',\n",
              "       'поселок Сельцо', 'посёлок городского типа Вырица',\n",
              "       'деревня Кипень', 'деревня Келози', 'деревня Вартемяги',\n",
              "       'посёлок Тельмана', 'поселок Севастьяново',\n",
              "       'городской поселок Большая Ижора', 'городской посёлок Павлово',\n",
              "       'деревня Агалатово', 'посёлок Новогорелово',\n",
              "       'городской посёлок Лесогорский', 'деревня Лаголово',\n",
              "       'поселок Цвелодубово', 'поселок городского типа Рахья',\n",
              "       'поселок городского типа Вырица', 'деревня Белогорка',\n",
              "       'поселок Заводской', 'городской посёлок Новоселье',\n",
              "       'деревня Большие Колпаны', 'деревня Горбунки', 'деревня Батово',\n",
              "       'деревня Заневка', 'деревня Иссад', 'Приморск',\n",
              "       'городской посёлок Фёдоровское', 'деревня Мистолово',\n",
              "       'Новая Ладога', 'поселок Зимитицы', 'поселок Барышево',\n",
              "       'деревня Разметелево', 'поселок городского типа имени Свердлова',\n",
              "       'деревня Пеники', 'поселок Рябово', 'деревня Пудомяги',\n",
              "       'поселок станции Корнево', 'деревня Низино', 'деревня Бегуницы',\n",
              "       'посёлок Поляны', 'городской посёлок Мга', 'поселок Елизаветино',\n",
              "       'посёлок городского типа Кузнечное', 'деревня Колтуши',\n",
              "       'поселок Запорожское', 'посёлок городского типа Рощино',\n",
              "       'деревня Гостилицы', 'деревня Малое Карлино',\n",
              "       'посёлок Мичуринское', 'посёлок городского типа имени Морозова',\n",
              "       'посёлок Песочный', 'посёлок Сосново', 'деревня Аро',\n",
              "       'поселок Ильичёво', 'посёлок городского типа Тайцы',\n",
              "       'деревня Малое Верево', 'деревня Извара', 'поселок станции Вещево',\n",
              "       'село Паша', 'деревня Калитино',\n",
              "       'посёлок городского типа Ульяновка', 'деревня Чудской Бор',\n",
              "       'поселок городского типа Дубровка', 'деревня Мины',\n",
              "       'поселок Войсковицы', 'посёлок городского типа имени Свердлова',\n",
              "       'деревня Коркино', 'посёлок Ропша',\n",
              "       'поселок городского типа Приладожский', 'посёлок Щеглово',\n",
              "       'посёлок Гаврилово', 'Лодейное Поле', 'деревня Рабитицы',\n",
              "       'поселок городского типа Никольский', 'деревня Кузьмолово',\n",
              "       'деревня Малые Колпаны', 'поселок Тельмана',\n",
              "       'посёлок Петро-Славянка', 'городской посёлок Назия',\n",
              "       'посёлок Репино', 'посёлок Ильичёво', 'поселок Углово',\n",
              "       'поселок Старая Малукса', 'садовое товарищество Рахья',\n",
              "       'поселок Аннино', 'поселок Победа', 'деревня Меньково',\n",
              "       'деревня Старые Бегуницы', 'посёлок Сапёрный', 'поселок Семрино',\n",
              "       'поселок Гаврилово', 'поселок Глажево', 'поселок Кобринское',\n",
              "       'деревня Гарболово', 'деревня Юкки',\n",
              "       'поселок станции Приветнинское', 'деревня Мануйлово',\n",
              "       'деревня Пчева', 'поселок Поляны', 'поселок Цвылёво',\n",
              "       'поселок Мельниково', 'посёлок Пудость', 'посёлок Усть-Луга',\n",
              "       'Светогорск', 'Любань', 'поселок Селезнёво',\n",
              "       'поселок городского типа Рябово', 'Каменногорск', 'деревня Кривко',\n",
              "       'поселок Глебычево', 'деревня Парицы', 'поселок Жилпосёлок',\n",
              "       'посёлок городского типа Мга', 'городской поселок Янино-1',\n",
              "       'посёлок Войскорово', 'село Никольское', 'посёлок Терволово',\n",
              "       'поселок Стеклянный', 'посёлок городского типа Важины',\n",
              "       'посёлок Мыза-Ивановка', 'село Русско-Высоцкое',\n",
              "       'поселок городского типа Лебяжье',\n",
              "       'поселок городского типа Форносово', 'село Старая Ладога',\n",
              "       'поселок Житково', 'городской посёлок Виллози', 'деревня Лампово',\n",
              "       'деревня Шпаньково', 'деревня Лаврики', 'посёлок Сумино',\n",
              "       'посёлок Возрождение', 'деревня Старосиверская',\n",
              "       'посёлок Кикерино', 'поселок Возрождение',\n",
              "       'деревня Старое Хинколово', 'посёлок Пригородный',\n",
              "       'посёлок Торфяное', 'городской посёлок Будогощь',\n",
              "       'поселок Суходолье', 'поселок Красная Долина', 'деревня Хапо-Ое',\n",
              "       'поселок городского типа Дружная Горка', 'поселок Лисий Нос',\n",
              "       'деревня Яльгелево', 'посёлок Стеклянный', 'село Рождествено',\n",
              "       'деревня Старополье', 'посёлок Левашово', 'деревня Сяськелево',\n",
              "       'деревня Камышовка',\n",
              "       'садоводческое некоммерческое товарищество Лесная Поляна',\n",
              "       'деревня Хязельки', 'поселок Жилгородок',\n",
              "       'посёлок городского типа Павлово', 'деревня Ялгино',\n",
              "       'поселок Новый Учхоз', 'городской посёлок Рощино',\n",
              "       'поселок Гончарово', 'поселок Почап', 'посёлок Сапёрное',\n",
              "       'посёлок Платформа 69-й километр', 'поселок Каложицы',\n",
              "       'деревня Фалилеево', 'деревня Пельгора',\n",
              "       'поселок городского типа Лесогорский', 'деревня Торошковичи',\n",
              "       'посёлок Белоостров', 'посёлок Алексеевка', 'поселок Серебрянский',\n",
              "       'поселок Лукаши', 'поселок Петровское', 'деревня Щеглово',\n",
              "       'поселок Мичуринское', 'деревня Тарасово', 'поселок Кингисеппский',\n",
              "       'посёлок при железнодорожной станции Вещево', 'поселок Ушаки',\n",
              "       'деревня Котлы', 'деревня Сижно', 'деревня Торосово',\n",
              "       'посёлок Форт Красная Горка', 'деревня Новолисино',\n",
              "       'посёлок станции Громово', 'деревня Глинка', 'посёлок Мельниково',\n",
              "       'поселок городского типа Назия', 'деревня Старая Пустошь',\n",
              "       'поселок Коммунары', 'поселок Починок',\n",
              "       'посёлок городского типа Вознесенье', 'деревня Разбегаево',\n",
              "       'посёлок городского типа Рябово', 'поселок Гладкое',\n",
              "       'посёлок при железнодорожной станции Приветнинское',\n",
              "       'поселок Тёсово-4', 'посёлок Жилгородок', 'деревня Бор',\n",
              "       'посёлок Коробицыно', 'деревня Большая Вруда', 'деревня Курковицы',\n",
              "       'посёлок Лисий Нос', 'городской посёлок Советский',\n",
              "       'посёлок Кобралово', 'деревня Суоранда', 'поселок Кобралово',\n",
              "       'поселок городского типа Кондратьево',\n",
              "       'коттеджный поселок Счастье', 'поселок Любань', 'деревня Реброво',\n",
              "       'деревня Зимитицы', 'деревня Тойворово', 'поселок Семиозерье',\n",
              "       'поселок Лесное', 'поселок Совхозный', 'поселок Усть-Луга',\n",
              "       'посёлок Ленинское', 'посёлок Суйда',\n",
              "       'посёлок городского типа Форносово', 'деревня Нижние Осельки',\n",
              "       'посёлок станции Свирь', 'поселок Перово', 'Высоцк',\n",
              "       'поселок Гарболово', 'село Шум', 'поселок Котельский',\n",
              "       'поселок станции Лужайка', 'деревня Большая Пустомержа',\n",
              "       'поселок Красносельское', 'деревня Вахнова Кара', 'деревня Пижма',\n",
              "       'коттеджный поселок Кивеннапа Север', 'поселок Коробицыно',\n",
              "       'поселок Ромашки', 'посёлок Перово', 'деревня Каськово',\n",
              "       'деревня Куровицы', 'посёлок Плоское', 'поселок Сумино',\n",
              "       'поселок городского типа Большая Ижора', 'поселок Кирпичное',\n",
              "       'деревня Ям-Тесово', 'деревня Раздолье', 'деревня Терпилицы',\n",
              "       'поселок городского типа Токсово', 'посёлок Шугозеро',\n",
              "       'деревня Ваганово', 'поселок Пушное', 'садовое товарищество Садко',\n",
              "       'посёлок Усть-Ижора', 'деревня Выскатка',\n",
              "       'городской посёлок Свирьстрой', 'поселок Громово',\n",
              "       'деревня Кисельня', 'посёлок Старая Малукса',\n",
              "       'деревня Трубников Бор', 'поселок Калитино',\n",
              "       'посёлок Высокоключевой', 'садовое товарищество Приладожский',\n",
              "       'посёлок Пансионат Зелёный Бор', 'деревня Ненимяки',\n",
              "       'поселок Пансионат Зелёный Бор', 'деревня Снегирёвка',\n",
              "       'деревня Рапполово', 'деревня Пустынка', 'поселок Рабитицы',\n",
              "       'деревня Большой Сабск', 'деревня Русско', 'деревня Лупполово',\n",
              "       'деревня Большое Рейзино', 'деревня Малая Романовка',\n",
              "       'поселок Дружноселье', 'поселок Пчевжа', 'поселок Володарское',\n",
              "       'деревня Нижняя', 'коттеджный посёлок Лесное', 'деревня Тихковицы',\n",
              "       'деревня Борисова Грива', 'посёлок Дзержинского'], dtype=object)"
            ]
          },
          "execution_count": 18,
          "metadata": {},
          "output_type": "execute_result"
        }
      ],
      "source": [
        "data['locality_name'].unique() #ужаснулись и начали исправлять"
      ]
    },
    {
      "cell_type": "code",
      "execution_count": null,
      "metadata": {
        "id": "TI8-d8UwNqLo"
      },
      "outputs": [],
      "source": [
        "data['locality_name'] = data['locality_name'].replace('ё', 'е', regex=True)\n",
        "\n",
        "duplicates = ['поселок городского типа', 'городской поселок', 'поселок при железнодорожной станции']\n",
        "right_locality = 'поселок'\n",
        "data['locality_name'] = data['locality_name'].replace(duplicates, right_locality, regex=True)"
      ]
    },
    {
      "cell_type": "markdown",
      "metadata": {
        "id": "wpsW0nEnNqLo"
      },
      "source": [
        "<div class=\"alert alert-info\"; style=\"border-left: 7px solid purple\">\n",
        "<h5>🎓 <font color=\"purple\">Дополнительный промежуточный вывод:</font></h5>    \n",
        "\n",
        "В процессе анализа данных было обнаружено наличие неявных дубликатов, вызванных разными способами написания населенных пунктов. Например, встречались вариации типа \"поселок\", \"посёлок\" и т.д. Для обеспечения единообразия данных и точности анализа были выявлены такие дубликаты и произведена коррекция названий населенных пунктов на общий формат. Такой подход позволил избежать искажений в статистических данных и обеспечить более надежные результаты исследования рынка недвижимости в рассматриваемом регионе.\n",
        "    \n",
        "</div>"
      ]
    },
    {
      "cell_type": "markdown",
      "metadata": {
        "id": "4KiCXbMaNqLo"
      },
      "source": [
        "**2.4 Редкие и выбивающиеся значения**"
      ]
    },
    {
      "cell_type": "markdown",
      "metadata": {
        "id": "p3WC5cmbNqLo"
      },
      "source": [
        "Изучим значеня в `ceiling_height` (высота потолков). Значения больше или равные 24 являются аномальными, скорее всего имелась в виду высота 2.4 метра, поэтому ее мы разделим на 10. Также аномальными считаются потолки выше 8 метров (квартиры-лофты, например, имеют потолки от 5 до 8 метров). Выбивающимися значениями являются и потолки до 2.4 метров."
      ]
    },
    {
      "cell_type": "code",
      "execution_count": null,
      "metadata": {
        "scrolled": false,
        "id": "GU09EG36NqLo"
      },
      "outputs": [],
      "source": [
        "# разделим выбивающиеся показатели высоты потолков\n",
        "data.loc[data['ceiling_height'] >= 24, 'ceiling_height'] /= 10\n",
        "data[data['ceiling_height'] > 8].count() # всего таких квартир 8\n",
        "data[data['ceiling_height'] < 2.4].count() # таких квартир 21\n",
        "\n",
        "# удалим строки с выбивающейся высотой\n",
        "data = data.query('ceiling_height >= 2.4 and ceiling_height <= 8')"
      ]
    },
    {
      "cell_type": "markdown",
      "metadata": {
        "id": "oiZ3j11HNqLp"
      },
      "source": [
        "Оптимальным количеством фотографий (столбец `total_images`) для объявления считается 10-20, однако было решено раздвинуть эти рамки до 3-25 (это реалистичные значения в зависимости от вида квартиры), другое количество становится аномальным и строки с такими данными необходимо удалить. Большое количество квартир без фотографий или количеством до 3 объясняется мошенническими объявлениями."
      ]
    },
    {
      "cell_type": "code",
      "execution_count": null,
      "metadata": {
        "scrolled": false,
        "id": "no_pLYxTNqLp",
        "outputId": "5f10d8b3-edb1-400a-f511-ed4187af8c99"
      },
      "outputs": [
        {
          "data": {
            "image/png": "[encoded data removed]",
            "text/plain": [
              "<Figure size 432x288 with 1 Axes>"
            ]
          },
          "metadata": {
            "needs_background": "light"
          },
          "output_type": "display_data"
        }
      ],
      "source": [
        "data['total_images'].unique()\n",
        "# исследуем выбросы с помощью графика\n",
        "data['total_images'].sort_values().plot(y='total_images', kind='box')\n",
        "data['total_images'].describe()\n",
        "# удалим строки, не подходящие нашему условию\n",
        "data = data.query('total_images >=3 and total_images <=25')"
      ]
    },
    {
      "cell_type": "markdown",
      "metadata": {
        "id": "K3f1dAmHNqLp"
      },
      "source": [
        "В столбце о цене квартиры (`last_price`) была обнаружена 1 аномалия по минимальному порогу и много по максимальному, для первой (цена = 12190) объяснения и логического исправления найдено не было (возможность дополнения цены несколькими нулями в конце слишком вариативна), поэтому строка была удалена. С высокими ценами так поступить нельзя, потому что в интернете в топе дорогих квартир Санкт-Петербурга находятся квартиры до 1,2 млрд рублей, и наша максимальная цена (=763 000 000) не является критично выделяющейся."
      ]
    },
    {
      "cell_type": "code",
      "execution_count": null,
      "metadata": {
        "scrolled": false,
        "id": "6RI7KAE1NqLp",
        "outputId": "1a3fd382-264f-4ac7-ceb0-064694401b99"
      },
      "outputs": [
        {
          "data": {
            "text/plain": [
              "count    2.096700e+04\n",
              "mean     6.597500e+06\n",
              "std      1.134704e+07\n",
              "min      4.300000e+05\n",
              "25%      3.450000e+06\n",
              "50%      4.680000e+06\n",
              "75%      6.800000e+06\n",
              "max      7.630000e+08\n",
              "Name: last_price, dtype: float64"
            ]
          },
          "execution_count": 22,
          "metadata": {},
          "output_type": "execute_result"
        },
        {
          "data": {
            "image/png": "[encoded data removed]",
            "text/plain": [
              "<Figure size 432x288 with 1 Axes>"
            ]
          },
          "metadata": {
            "needs_background": "light"
          },
          "output_type": "display_data"
        }
      ],
      "source": [
        "data['last_price'].sort_values().head(10)\n",
        "data = data.query('last_price > 12190')\n",
        "\n",
        "# построим график, чтобы посмотреть количество выбросов\n",
        "data['last_price'].sort_values().plot(y='last_price', kind='box')\n",
        "data['last_price'].sort_values(ascending=False).head(10)\n",
        "data['last_price'].describe()"
      ]
    },
    {
      "cell_type": "code",
      "execution_count": null,
      "metadata": {
        "id": "u7z_vXvsNqLp",
        "outputId": "5f87f4f0-256b-4ba8-e3b1-9e64007f8073"
      },
      "outputs": [
        {
          "data": {
            "text/plain": [
              "<AxesSubplot:>"
            ]
          },
          "execution_count": 23,
          "metadata": {},
          "output_type": "execute_result"
        },
        {
          "data": {
            "image/png": "[encoded data removed]",
            "text/plain": [
              "<Figure size 432x288 with 1 Axes>"
            ]
          },
          "metadata": {
            "needs_background": "light"
          },
          "output_type": "display_data"
        }
      ],
      "source": [
        "# построим новый график\n",
        "data['last_price'].sort_values().plot(y='last_price', kind='box', ylim=(0, 40000000))"
      ]
    },
    {
      "cell_type": "markdown",
      "metadata": {
        "id": "9jsaQ3VNNqLq"
      },
      "source": [
        "Удалять аномальные значения по общей площади квартир (столбец `total_area`) сложно, так как квартиры на рынке бывают абсолютно разные, но можно выделить определенные условия. Сначала удалим строки с квартирами, площадь которых меньше 28 квадратных метров, но которые НЕ являются студиями, потому что таких 1-комнатных или 2-комнатных квартир не может существовать (в том числе по правилам стандартов)."
      ]
    },
    {
      "cell_type": "code",
      "execution_count": null,
      "metadata": {
        "id": "iTmm_uSGNqLq",
        "outputId": "41e94fa7-88e6-49c5-bd39-c618b977b6d9"
      },
      "outputs": [
        {
          "data": {
            "text/html": [
              "<div>\n",
              "<style scoped>\n",
              "    .dataframe tbody tr th:only-of-type {\n",
              "        vertical-align: middle;\n",
              "    }\n",
              "\n",
              "    .dataframe tbody tr th {\n",
              "        vertical-align: top;\n",
              "    }\n",
              "\n",
              "    .dataframe thead th {\n",
              "        text-align: right;\n",
              "    }\n",
              "</style>\n",
              "<table border=\"1\" class=\"dataframe\">\n",
              "  <thead>\n",
              "    <tr style=\"text-align: right;\">\n",
              "      <th></th>\n",
              "      <th>total_images</th>\n",
              "      <th>last_price</th>\n",
              "      <th>total_area</th>\n",
              "      <th>first_day_exposition</th>\n",
              "      <th>rooms</th>\n",
              "      <th>ceiling_height</th>\n",
              "      <th>floors_total</th>\n",
              "      <th>living_area</th>\n",
              "      <th>floor</th>\n",
              "      <th>is_apartment</th>\n",
              "      <th>studio</th>\n",
              "      <th>open_plan</th>\n",
              "      <th>kitchen_area</th>\n",
              "      <th>balcony</th>\n",
              "      <th>locality_name</th>\n",
              "      <th>airports_nearest</th>\n",
              "      <th>cityCenters_nearest</th>\n",
              "      <th>parks_around3000</th>\n",
              "      <th>parks_nearest</th>\n",
              "      <th>ponds_around3000</th>\n",
              "      <th>ponds_nearest</th>\n",
              "      <th>days_exposition</th>\n",
              "    </tr>\n",
              "  </thead>\n",
              "  <tbody>\n",
              "    <tr>\n",
              "      <th>114</th>\n",
              "      <td>5</td>\n",
              "      <td>4000000</td>\n",
              "      <td>21</td>\n",
              "      <td>2019-02-07</td>\n",
              "      <td>1</td>\n",
              "      <td>2.90</td>\n",
              "      <td>8</td>\n",
              "      <td>8</td>\n",
              "      <td>7</td>\n",
              "      <td>NaN</td>\n",
              "      <td>False</td>\n",
              "      <td>False</td>\n",
              "      <td>6</td>\n",
              "      <td>0</td>\n",
              "      <td>Санкт-Петербург</td>\n",
              "      <td>27089.0</td>\n",
              "      <td>5791.0</td>\n",
              "      <td>2</td>\n",
              "      <td>488.0</td>\n",
              "      <td>1</td>\n",
              "      <td>286.0</td>\n",
              "      <td>NaN</td>\n",
              "    </tr>\n",
              "    <tr>\n",
              "      <th>296</th>\n",
              "      <td>4</td>\n",
              "      <td>1690000</td>\n",
              "      <td>28</td>\n",
              "      <td>2017-08-09</td>\n",
              "      <td>1</td>\n",
              "      <td>2.65</td>\n",
              "      <td>5</td>\n",
              "      <td>17</td>\n",
              "      <td>1</td>\n",
              "      <td>NaN</td>\n",
              "      <td>False</td>\n",
              "      <td>False</td>\n",
              "      <td>6</td>\n",
              "      <td>0</td>\n",
              "      <td>Выборг</td>\n",
              "      <td>NaN</td>\n",
              "      <td>NaN</td>\n",
              "      <td>0</td>\n",
              "      <td>NaN</td>\n",
              "      <td>0</td>\n",
              "      <td>NaN</td>\n",
              "      <td>14.0</td>\n",
              "    </tr>\n",
              "    <tr>\n",
              "      <th>322</th>\n",
              "      <td>6</td>\n",
              "      <td>2000000</td>\n",
              "      <td>25</td>\n",
              "      <td>2017-02-07</td>\n",
              "      <td>1</td>\n",
              "      <td>2.65</td>\n",
              "      <td>5</td>\n",
              "      <td>17</td>\n",
              "      <td>5</td>\n",
              "      <td>False</td>\n",
              "      <td>False</td>\n",
              "      <td>False</td>\n",
              "      <td>15</td>\n",
              "      <td>0</td>\n",
              "      <td>Выборг</td>\n",
              "      <td>NaN</td>\n",
              "      <td>NaN</td>\n",
              "      <td>0</td>\n",
              "      <td>NaN</td>\n",
              "      <td>0</td>\n",
              "      <td>NaN</td>\n",
              "      <td>45.0</td>\n",
              "    </tr>\n",
              "    <tr>\n",
              "      <th>349</th>\n",
              "      <td>4</td>\n",
              "      <td>2320000</td>\n",
              "      <td>25</td>\n",
              "      <td>2017-09-27</td>\n",
              "      <td>0</td>\n",
              "      <td>2.65</td>\n",
              "      <td>14</td>\n",
              "      <td>17</td>\n",
              "      <td>1</td>\n",
              "      <td>NaN</td>\n",
              "      <td>False</td>\n",
              "      <td>True</td>\n",
              "      <td>15</td>\n",
              "      <td>0</td>\n",
              "      <td>деревня Кудрово</td>\n",
              "      <td>NaN</td>\n",
              "      <td>NaN</td>\n",
              "      <td>0</td>\n",
              "      <td>NaN</td>\n",
              "      <td>0</td>\n",
              "      <td>NaN</td>\n",
              "      <td>45.0</td>\n",
              "    </tr>\n",
              "    <tr>\n",
              "      <th>476</th>\n",
              "      <td>9</td>\n",
              "      <td>1634000</td>\n",
              "      <td>28</td>\n",
              "      <td>2017-11-10</td>\n",
              "      <td>1</td>\n",
              "      <td>2.65</td>\n",
              "      <td>5</td>\n",
              "      <td>15</td>\n",
              "      <td>4</td>\n",
              "      <td>NaN</td>\n",
              "      <td>False</td>\n",
              "      <td>False</td>\n",
              "      <td>5</td>\n",
              "      <td>1</td>\n",
              "      <td>село Павлово</td>\n",
              "      <td>NaN</td>\n",
              "      <td>NaN</td>\n",
              "      <td>0</td>\n",
              "      <td>NaN</td>\n",
              "      <td>0</td>\n",
              "      <td>NaN</td>\n",
              "      <td>25.0</td>\n",
              "    </tr>\n",
              "    <tr>\n",
              "      <th>...</th>\n",
              "      <td>...</td>\n",
              "      <td>...</td>\n",
              "      <td>...</td>\n",
              "      <td>...</td>\n",
              "      <td>...</td>\n",
              "      <td>...</td>\n",
              "      <td>...</td>\n",
              "      <td>...</td>\n",
              "      <td>...</td>\n",
              "      <td>...</td>\n",
              "      <td>...</td>\n",
              "      <td>...</td>\n",
              "      <td>...</td>\n",
              "      <td>...</td>\n",
              "      <td>...</td>\n",
              "      <td>...</td>\n",
              "      <td>...</td>\n",
              "      <td>...</td>\n",
              "      <td>...</td>\n",
              "      <td>...</td>\n",
              "      <td>...</td>\n",
              "      <td>...</td>\n",
              "    </tr>\n",
              "    <tr>\n",
              "      <th>23111</th>\n",
              "      <td>12</td>\n",
              "      <td>3590000</td>\n",
              "      <td>26</td>\n",
              "      <td>2018-07-10</td>\n",
              "      <td>1</td>\n",
              "      <td>2.70</td>\n",
              "      <td>25</td>\n",
              "      <td>16</td>\n",
              "      <td>8</td>\n",
              "      <td>NaN</td>\n",
              "      <td>False</td>\n",
              "      <td>False</td>\n",
              "      <td>16</td>\n",
              "      <td>0</td>\n",
              "      <td>Санкт-Петербург</td>\n",
              "      <td>22735.0</td>\n",
              "      <td>11618.0</td>\n",
              "      <td>1</td>\n",
              "      <td>835.0</td>\n",
              "      <td>1</td>\n",
              "      <td>652.0</td>\n",
              "      <td>67.0</td>\n",
              "    </tr>\n",
              "    <tr>\n",
              "      <th>23191</th>\n",
              "      <td>3</td>\n",
              "      <td>1900000</td>\n",
              "      <td>18</td>\n",
              "      <td>2016-04-04</td>\n",
              "      <td>1</td>\n",
              "      <td>2.65</td>\n",
              "      <td>16</td>\n",
              "      <td>16</td>\n",
              "      <td>12</td>\n",
              "      <td>NaN</td>\n",
              "      <td>False</td>\n",
              "      <td>False</td>\n",
              "      <td>11</td>\n",
              "      <td>0</td>\n",
              "      <td>Тосно</td>\n",
              "      <td>NaN</td>\n",
              "      <td>NaN</td>\n",
              "      <td>0</td>\n",
              "      <td>NaN</td>\n",
              "      <td>0</td>\n",
              "      <td>NaN</td>\n",
              "      <td>115.0</td>\n",
              "    </tr>\n",
              "    <tr>\n",
              "      <th>23199</th>\n",
              "      <td>6</td>\n",
              "      <td>2200000</td>\n",
              "      <td>28</td>\n",
              "      <td>2017-11-10</td>\n",
              "      <td>1</td>\n",
              "      <td>2.60</td>\n",
              "      <td>5</td>\n",
              "      <td>16</td>\n",
              "      <td>3</td>\n",
              "      <td>NaN</td>\n",
              "      <td>False</td>\n",
              "      <td>False</td>\n",
              "      <td>5</td>\n",
              "      <td>1</td>\n",
              "      <td>село Павлово</td>\n",
              "      <td>NaN</td>\n",
              "      <td>NaN</td>\n",
              "      <td>0</td>\n",
              "      <td>NaN</td>\n",
              "      <td>0</td>\n",
              "      <td>NaN</td>\n",
              "      <td>518.0</td>\n",
              "    </tr>\n",
              "    <tr>\n",
              "      <th>23579</th>\n",
              "      <td>7</td>\n",
              "      <td>2350000</td>\n",
              "      <td>24</td>\n",
              "      <td>2018-06-07</td>\n",
              "      <td>1</td>\n",
              "      <td>2.65</td>\n",
              "      <td>10</td>\n",
              "      <td>18</td>\n",
              "      <td>2</td>\n",
              "      <td>NaN</td>\n",
              "      <td>False</td>\n",
              "      <td>False</td>\n",
              "      <td>15</td>\n",
              "      <td>0</td>\n",
              "      <td>Кудрово</td>\n",
              "      <td>NaN</td>\n",
              "      <td>NaN</td>\n",
              "      <td>0</td>\n",
              "      <td>NaN</td>\n",
              "      <td>0</td>\n",
              "      <td>NaN</td>\n",
              "      <td>89.0</td>\n",
              "    </tr>\n",
              "    <tr>\n",
              "      <th>23673</th>\n",
              "      <td>9</td>\n",
              "      <td>3100000</td>\n",
              "      <td>23</td>\n",
              "      <td>2018-03-19</td>\n",
              "      <td>1</td>\n",
              "      <td>2.80</td>\n",
              "      <td>9</td>\n",
              "      <td>12</td>\n",
              "      <td>1</td>\n",
              "      <td>NaN</td>\n",
              "      <td>False</td>\n",
              "      <td>False</td>\n",
              "      <td>5</td>\n",
              "      <td>2</td>\n",
              "      <td>Санкт-Петербург</td>\n",
              "      <td>11813.0</td>\n",
              "      <td>11881.0</td>\n",
              "      <td>1</td>\n",
              "      <td>262.0</td>\n",
              "      <td>1</td>\n",
              "      <td>442.0</td>\n",
              "      <td>41.0</td>\n",
              "    </tr>\n",
              "  </tbody>\n",
              "</table>\n",
              "<p>343 rows × 22 columns</p>\n",
              "</div>"
            ],
            "text/plain": [
              "       total_images  last_price  total_area first_day_exposition  rooms  \\\n",
              "114               5     4000000          21           2019-02-07      1   \n",
              "296               4     1690000          28           2017-08-09      1   \n",
              "322               6     2000000          25           2017-02-07      1   \n",
              "349               4     2320000          25           2017-09-27      0   \n",
              "476               9     1634000          28           2017-11-10      1   \n",
              "...             ...         ...         ...                  ...    ...   \n",
              "23111            12     3590000          26           2018-07-10      1   \n",
              "23191             3     1900000          18           2016-04-04      1   \n",
              "23199             6     2200000          28           2017-11-10      1   \n",
              "23579             7     2350000          24           2018-06-07      1   \n",
              "23673             9     3100000          23           2018-03-19      1   \n",
              "\n",
              "       ceiling_height  floors_total  living_area  floor is_apartment  studio  \\\n",
              "114              2.90             8            8      7          NaN   False   \n",
              "296              2.65             5           17      1          NaN   False   \n",
              "322              2.65             5           17      5        False   False   \n",
              "349              2.65            14           17      1          NaN   False   \n",
              "476              2.65             5           15      4          NaN   False   \n",
              "...               ...           ...          ...    ...          ...     ...   \n",
              "23111            2.70            25           16      8          NaN   False   \n",
              "23191            2.65            16           16     12          NaN   False   \n",
              "23199            2.60             5           16      3          NaN   False   \n",
              "23579            2.65            10           18      2          NaN   False   \n",
              "23673            2.80             9           12      1          NaN   False   \n",
              "\n",
              "       open_plan  kitchen_area  balcony    locality_name  airports_nearest  \\\n",
              "114        False             6        0  Санкт-Петербург           27089.0   \n",
              "296        False             6        0           Выборг               NaN   \n",
              "322        False            15        0           Выборг               NaN   \n",
              "349         True            15        0  деревня Кудрово               NaN   \n",
              "476        False             5        1     село Павлово               NaN   \n",
              "...          ...           ...      ...              ...               ...   \n",
              "23111      False            16        0  Санкт-Петербург           22735.0   \n",
              "23191      False            11        0            Тосно               NaN   \n",
              "23199      False             5        1     село Павлово               NaN   \n",
              "23579      False            15        0          Кудрово               NaN   \n",
              "23673      False             5        2  Санкт-Петербург           11813.0   \n",
              "\n",
              "       cityCenters_nearest  parks_around3000  parks_nearest  ponds_around3000  \\\n",
              "114                 5791.0                 2          488.0                 1   \n",
              "296                    NaN                 0            NaN                 0   \n",
              "322                    NaN                 0            NaN                 0   \n",
              "349                    NaN                 0            NaN                 0   \n",
              "476                    NaN                 0            NaN                 0   \n",
              "...                    ...               ...            ...               ...   \n",
              "23111              11618.0                 1          835.0                 1   \n",
              "23191                  NaN                 0            NaN                 0   \n",
              "23199                  NaN                 0            NaN                 0   \n",
              "23579                  NaN                 0            NaN                 0   \n",
              "23673              11881.0                 1          262.0                 1   \n",
              "\n",
              "       ponds_nearest  days_exposition  \n",
              "114            286.0              NaN  \n",
              "296              NaN             14.0  \n",
              "322              NaN             45.0  \n",
              "349              NaN             45.0  \n",
              "476              NaN             25.0  \n",
              "...              ...              ...  \n",
              "23111          652.0             67.0  \n",
              "23191            NaN            115.0  \n",
              "23199            NaN            518.0  \n",
              "23579            NaN             89.0  \n",
              "23673          442.0             41.0  \n",
              "\n",
              "[343 rows x 22 columns]"
            ]
          },
          "execution_count": 24,
          "metadata": {},
          "output_type": "execute_result"
        }
      ],
      "source": [
        "data.loc[((data['total_area'] <= 28) & (data['studio'] == False))] # таких строк 343 = 2% от всего датасета"
      ]
    },
    {
      "cell_type": "code",
      "execution_count": null,
      "metadata": {
        "scrolled": false,
        "id": "gl3T953HNqLq"
      },
      "outputs": [],
      "source": [
        "# удаляем квартиры с площадью менее 28 и которые не являются студиями (False)\n",
        "data = data.loc[~((data['total_area'] <= 28) & (data['studio'] == False))]\n",
        "# сбрасываем индексы после удаления строк\n",
        "data = data.reset_index(drop=True)"
      ]
    },
    {
      "cell_type": "markdown",
      "metadata": {
        "id": "21HOqnuiNqLr"
      },
      "source": [
        "Студии (столбец `studio`), в которых комнат больше 1, удаляются."
      ]
    },
    {
      "cell_type": "code",
      "execution_count": null,
      "metadata": {
        "id": "pUKvI5gINqLr"
      },
      "outputs": [],
      "source": [
        "# создаем условие для выбора строк, которые нужно удалить\n",
        "condition_to_drop = (data['studio'] == True) & (data['rooms'] > 1)\n",
        "\n",
        "# удаляем строки, удовлетворяющие условию\n",
        "data.drop(data.loc[condition_to_drop].index, inplace=True)"
      ]
    },
    {
      "cell_type": "markdown",
      "metadata": {
        "id": "fmR_d1uaNqLr"
      },
      "source": [
        "Исследуем количество комнат (столбец `rooms`). Квартиры, в которых 0 комнат, можно объяснить тем, что они являются студией, в таком случае во всех студиях 0 заменяется на 1. По графику зависимости цены от количества комнат заметно, что есть очень выбивающиеся значения. Просмотрели эти строки - их всего две, удалили их."
      ]
    },
    {
      "cell_type": "code",
      "execution_count": null,
      "metadata": {
        "scrolled": false,
        "id": "RDjKAsgTNqLr",
        "outputId": "257580c2-7afb-4f7a-984f-875169c28a86"
      },
      "outputs": [
        {
          "data": {
            "image/png": "[encoded data removed]",
            "text/plain": [
              "<Figure size 432x288 with 1 Axes>"
            ]
          },
          "metadata": {
            "needs_background": "light"
          },
          "output_type": "display_data"
        }
      ],
      "source": [
        "# преобразуем 'studio' в булев тип данных\n",
        "data['studio'] = data['studio'].astype(bool)\n",
        "\n",
        "# убедимся, что столбец 'rooms' имеет тип данных integer (целочисленный)\n",
        "data['rooms'] = data['rooms'].astype(int)\n",
        "\n",
        "# заменяем значение 0 на 1 в столбце 'rooms', если в столбце 'studio' стоит True\n",
        "data.loc[data['studio'] == True, 'rooms'] = 1\n",
        "\n",
        "# посмотрим, как меняется цена в зависимости от количества комнат\n",
        "pivot_rooms = pd.pivot_table(data, index='rooms', values='last_price', aggfunc='median')\n",
        "pivot_rooms.plot(kind='bar')\n",
        "\n",
        "# изучим строки с выбивающимися значениями\n",
        "data.query('rooms == 12')\n",
        "data.query('rooms == 15')\n",
        "\n",
        "# удалим из датасета 2 строки\n",
        "data = data.query('rooms != 12 and rooms != 15')"
      ]
    },
    {
      "cell_type": "markdown",
      "metadata": {
        "id": "G7KGZ0TSNqLs"
      },
      "source": [
        "Столбец `living_area`. Было принято решение удалить все строки, в которых на каждую комнату приходилось менее 10 метров, только если квартира не является студией. Границы максимальных значений крайне сложно указать, так как те же элитные ЖК в Санкт-Петербурге имеют квартиры с большей площадью, чем максимальная в нашем датасете (она, кстати, равна 409.7 метрам)."
      ]
    },
    {
      "cell_type": "code",
      "execution_count": null,
      "metadata": {
        "id": "NnDlPQ2lNqLs"
      },
      "outputs": [],
      "source": [
        "# удаление строк, где на каждую комнату приходится меньше 10 метров жилой площади, если это не студия\n",
        "for index, row in data.iterrows():\n",
        "    if not row['studio'] and row['rooms'] != 0 and row['living_area'] / row['rooms'] < 10:\n",
        "        data.drop(index, inplace=True)"
      ]
    },
    {
      "cell_type": "markdown",
      "metadata": {
        "id": "P_J-p8_4NqLs"
      },
      "source": [
        "В столбце `balcony` с информацией о количестве балконов обнаружены странные квартиры, в которых количество балконов больше, чем комнат. Можно допустить, что помимо того, что в каждой комнате есть балкон, балкон так же имеется на кухне, и удалить только те строки, в которых разница количества комнат и балконов больше 1. Также есть 24 студии, в которых целых 2 балкона, но было решено счесть этот фактор за уникальный элемент квартиры."
      ]
    },
    {
      "cell_type": "code",
      "execution_count": null,
      "metadata": {
        "id": "uCgxSR0WNqLs",
        "outputId": "75b39707-9a3a-48cb-96ca-2b14e58ab10b"
      },
      "outputs": [
        {
          "data": {
            "text/html": [
              "<div>\n",
              "<style scoped>\n",
              "    .dataframe tbody tr th:only-of-type {\n",
              "        vertical-align: middle;\n",
              "    }\n",
              "\n",
              "    .dataframe tbody tr th {\n",
              "        vertical-align: top;\n",
              "    }\n",
              "\n",
              "    .dataframe thead th {\n",
              "        text-align: right;\n",
              "    }\n",
              "</style>\n",
              "<table border=\"1\" class=\"dataframe\">\n",
              "  <thead>\n",
              "    <tr style=\"text-align: right;\">\n",
              "      <th></th>\n",
              "      <th>total_images</th>\n",
              "      <th>last_price</th>\n",
              "      <th>total_area</th>\n",
              "      <th>first_day_exposition</th>\n",
              "      <th>rooms</th>\n",
              "      <th>ceiling_height</th>\n",
              "      <th>floors_total</th>\n",
              "      <th>living_area</th>\n",
              "      <th>floor</th>\n",
              "      <th>is_apartment</th>\n",
              "      <th>studio</th>\n",
              "      <th>open_plan</th>\n",
              "      <th>kitchen_area</th>\n",
              "      <th>balcony</th>\n",
              "      <th>locality_name</th>\n",
              "      <th>airports_nearest</th>\n",
              "      <th>cityCenters_nearest</th>\n",
              "      <th>parks_around3000</th>\n",
              "      <th>parks_nearest</th>\n",
              "      <th>ponds_around3000</th>\n",
              "      <th>ponds_nearest</th>\n",
              "      <th>days_exposition</th>\n",
              "    </tr>\n",
              "  </thead>\n",
              "  <tbody>\n",
              "    <tr>\n",
              "      <th>382</th>\n",
              "      <td>8</td>\n",
              "      <td>2480000</td>\n",
              "      <td>27</td>\n",
              "      <td>2018-03-12</td>\n",
              "      <td>1</td>\n",
              "      <td>2.65</td>\n",
              "      <td>17</td>\n",
              "      <td>24</td>\n",
              "      <td>4</td>\n",
              "      <td>NaN</td>\n",
              "      <td>True</td>\n",
              "      <td>False</td>\n",
              "      <td>0</td>\n",
              "      <td>2</td>\n",
              "      <td>Санкт-Петербург</td>\n",
              "      <td>38171.0</td>\n",
              "      <td>15015.0</td>\n",
              "      <td>0</td>\n",
              "      <td>NaN</td>\n",
              "      <td>2</td>\n",
              "      <td>982.0</td>\n",
              "      <td>64.0</td>\n",
              "    </tr>\n",
              "    <tr>\n",
              "      <th>1023</th>\n",
              "      <td>12</td>\n",
              "      <td>3240000</td>\n",
              "      <td>29</td>\n",
              "      <td>2018-10-30</td>\n",
              "      <td>1</td>\n",
              "      <td>2.65</td>\n",
              "      <td>24</td>\n",
              "      <td>17</td>\n",
              "      <td>2</td>\n",
              "      <td>NaN</td>\n",
              "      <td>True</td>\n",
              "      <td>False</td>\n",
              "      <td>0</td>\n",
              "      <td>2</td>\n",
              "      <td>Санкт-Петербург</td>\n",
              "      <td>35129.0</td>\n",
              "      <td>16293.0</td>\n",
              "      <td>0</td>\n",
              "      <td>NaN</td>\n",
              "      <td>1</td>\n",
              "      <td>475.0</td>\n",
              "      <td>13.0</td>\n",
              "    </tr>\n",
              "    <tr>\n",
              "      <th>1024</th>\n",
              "      <td>3</td>\n",
              "      <td>3900000</td>\n",
              "      <td>32</td>\n",
              "      <td>2016-10-18</td>\n",
              "      <td>1</td>\n",
              "      <td>2.70</td>\n",
              "      <td>24</td>\n",
              "      <td>18</td>\n",
              "      <td>2</td>\n",
              "      <td>NaN</td>\n",
              "      <td>True</td>\n",
              "      <td>False</td>\n",
              "      <td>0</td>\n",
              "      <td>2</td>\n",
              "      <td>Санкт-Петербург</td>\n",
              "      <td>44754.0</td>\n",
              "      <td>8409.0</td>\n",
              "      <td>1</td>\n",
              "      <td>609.0</td>\n",
              "      <td>0</td>\n",
              "      <td>NaN</td>\n",
              "      <td>540.0</td>\n",
              "    </tr>\n",
              "    <tr>\n",
              "      <th>1333</th>\n",
              "      <td>8</td>\n",
              "      <td>1950000</td>\n",
              "      <td>31</td>\n",
              "      <td>2019-01-29</td>\n",
              "      <td>1</td>\n",
              "      <td>2.65</td>\n",
              "      <td>18</td>\n",
              "      <td>18</td>\n",
              "      <td>11</td>\n",
              "      <td>NaN</td>\n",
              "      <td>True</td>\n",
              "      <td>False</td>\n",
              "      <td>0</td>\n",
              "      <td>2</td>\n",
              "      <td>Никольское</td>\n",
              "      <td>NaN</td>\n",
              "      <td>NaN</td>\n",
              "      <td>0</td>\n",
              "      <td>NaN</td>\n",
              "      <td>0</td>\n",
              "      <td>NaN</td>\n",
              "      <td>NaN</td>\n",
              "    </tr>\n",
              "    <tr>\n",
              "      <th>1394</th>\n",
              "      <td>11</td>\n",
              "      <td>2550000</td>\n",
              "      <td>30</td>\n",
              "      <td>2017-11-10</td>\n",
              "      <td>1</td>\n",
              "      <td>2.75</td>\n",
              "      <td>23</td>\n",
              "      <td>15</td>\n",
              "      <td>11</td>\n",
              "      <td>NaN</td>\n",
              "      <td>True</td>\n",
              "      <td>False</td>\n",
              "      <td>0</td>\n",
              "      <td>2</td>\n",
              "      <td>Санкт-Петербург</td>\n",
              "      <td>21928.0</td>\n",
              "      <td>17256.0</td>\n",
              "      <td>0</td>\n",
              "      <td>NaN</td>\n",
              "      <td>1</td>\n",
              "      <td>429.0</td>\n",
              "      <td>19.0</td>\n",
              "    </tr>\n",
              "    <tr>\n",
              "      <th>1795</th>\n",
              "      <td>14</td>\n",
              "      <td>2300000</td>\n",
              "      <td>29</td>\n",
              "      <td>2018-03-29</td>\n",
              "      <td>1</td>\n",
              "      <td>2.60</td>\n",
              "      <td>26</td>\n",
              "      <td>22</td>\n",
              "      <td>9</td>\n",
              "      <td>NaN</td>\n",
              "      <td>True</td>\n",
              "      <td>False</td>\n",
              "      <td>0</td>\n",
              "      <td>2</td>\n",
              "      <td>поселок имени Свердлова</td>\n",
              "      <td>NaN</td>\n",
              "      <td>NaN</td>\n",
              "      <td>0</td>\n",
              "      <td>NaN</td>\n",
              "      <td>0</td>\n",
              "      <td>NaN</td>\n",
              "      <td>115.0</td>\n",
              "    </tr>\n",
              "    <tr>\n",
              "      <th>1837</th>\n",
              "      <td>8</td>\n",
              "      <td>2900000</td>\n",
              "      <td>25</td>\n",
              "      <td>2019-02-21</td>\n",
              "      <td>1</td>\n",
              "      <td>2.65</td>\n",
              "      <td>18</td>\n",
              "      <td>15</td>\n",
              "      <td>18</td>\n",
              "      <td>NaN</td>\n",
              "      <td>True</td>\n",
              "      <td>False</td>\n",
              "      <td>0</td>\n",
              "      <td>2</td>\n",
              "      <td>Кудрово</td>\n",
              "      <td>NaN</td>\n",
              "      <td>NaN</td>\n",
              "      <td>0</td>\n",
              "      <td>NaN</td>\n",
              "      <td>0</td>\n",
              "      <td>NaN</td>\n",
              "      <td>NaN</td>\n",
              "    </tr>\n",
              "    <tr>\n",
              "      <th>1981</th>\n",
              "      <td>19</td>\n",
              "      <td>3550000</td>\n",
              "      <td>27</td>\n",
              "      <td>2017-12-06</td>\n",
              "      <td>1</td>\n",
              "      <td>2.75</td>\n",
              "      <td>18</td>\n",
              "      <td>18</td>\n",
              "      <td>12</td>\n",
              "      <td>NaN</td>\n",
              "      <td>True</td>\n",
              "      <td>False</td>\n",
              "      <td>0</td>\n",
              "      <td>2</td>\n",
              "      <td>Санкт-Петербург</td>\n",
              "      <td>34201.0</td>\n",
              "      <td>14069.0</td>\n",
              "      <td>0</td>\n",
              "      <td>NaN</td>\n",
              "      <td>0</td>\n",
              "      <td>NaN</td>\n",
              "      <td>226.0</td>\n",
              "    </tr>\n",
              "    <tr>\n",
              "      <th>2083</th>\n",
              "      <td>5</td>\n",
              "      <td>2250000</td>\n",
              "      <td>25</td>\n",
              "      <td>2016-06-07</td>\n",
              "      <td>1</td>\n",
              "      <td>2.65</td>\n",
              "      <td>12</td>\n",
              "      <td>17</td>\n",
              "      <td>8</td>\n",
              "      <td>False</td>\n",
              "      <td>True</td>\n",
              "      <td>False</td>\n",
              "      <td>0</td>\n",
              "      <td>2</td>\n",
              "      <td>Санкт-Петербург</td>\n",
              "      <td>14125.0</td>\n",
              "      <td>12921.0</td>\n",
              "      <td>2</td>\n",
              "      <td>328.0</td>\n",
              "      <td>2</td>\n",
              "      <td>485.0</td>\n",
              "      <td>26.0</td>\n",
              "    </tr>\n",
              "    <tr>\n",
              "      <th>2235</th>\n",
              "      <td>4</td>\n",
              "      <td>3170000</td>\n",
              "      <td>28</td>\n",
              "      <td>2018-07-26</td>\n",
              "      <td>1</td>\n",
              "      <td>2.65</td>\n",
              "      <td>23</td>\n",
              "      <td>20</td>\n",
              "      <td>2</td>\n",
              "      <td>NaN</td>\n",
              "      <td>True</td>\n",
              "      <td>False</td>\n",
              "      <td>0</td>\n",
              "      <td>2</td>\n",
              "      <td>Санкт-Петербург</td>\n",
              "      <td>21460.0</td>\n",
              "      <td>16788.0</td>\n",
              "      <td>0</td>\n",
              "      <td>NaN</td>\n",
              "      <td>1</td>\n",
              "      <td>170.0</td>\n",
              "      <td>28.0</td>\n",
              "    </tr>\n",
              "    <tr>\n",
              "      <th>2372</th>\n",
              "      <td>18</td>\n",
              "      <td>2400000</td>\n",
              "      <td>25</td>\n",
              "      <td>2017-08-16</td>\n",
              "      <td>1</td>\n",
              "      <td>2.65</td>\n",
              "      <td>25</td>\n",
              "      <td>21</td>\n",
              "      <td>12</td>\n",
              "      <td>NaN</td>\n",
              "      <td>True</td>\n",
              "      <td>False</td>\n",
              "      <td>0</td>\n",
              "      <td>2</td>\n",
              "      <td>поселок Мурино</td>\n",
              "      <td>NaN</td>\n",
              "      <td>NaN</td>\n",
              "      <td>0</td>\n",
              "      <td>NaN</td>\n",
              "      <td>0</td>\n",
              "      <td>NaN</td>\n",
              "      <td>384.0</td>\n",
              "    </tr>\n",
              "    <tr>\n",
              "      <th>2595</th>\n",
              "      <td>3</td>\n",
              "      <td>3700000</td>\n",
              "      <td>28</td>\n",
              "      <td>2017-11-09</td>\n",
              "      <td>1</td>\n",
              "      <td>2.65</td>\n",
              "      <td>17</td>\n",
              "      <td>19</td>\n",
              "      <td>3</td>\n",
              "      <td>NaN</td>\n",
              "      <td>True</td>\n",
              "      <td>False</td>\n",
              "      <td>0</td>\n",
              "      <td>2</td>\n",
              "      <td>Санкт-Петербург</td>\n",
              "      <td>9655.0</td>\n",
              "      <td>13255.0</td>\n",
              "      <td>1</td>\n",
              "      <td>980.0</td>\n",
              "      <td>1</td>\n",
              "      <td>1093.0</td>\n",
              "      <td>20.0</td>\n",
              "    </tr>\n",
              "    <tr>\n",
              "      <th>2772</th>\n",
              "      <td>13</td>\n",
              "      <td>3800000</td>\n",
              "      <td>27</td>\n",
              "      <td>2016-05-17</td>\n",
              "      <td>1</td>\n",
              "      <td>2.65</td>\n",
              "      <td>14</td>\n",
              "      <td>18</td>\n",
              "      <td>8</td>\n",
              "      <td>False</td>\n",
              "      <td>True</td>\n",
              "      <td>False</td>\n",
              "      <td>0</td>\n",
              "      <td>2</td>\n",
              "      <td>Санкт-Петербург</td>\n",
              "      <td>50348.0</td>\n",
              "      <td>16053.0</td>\n",
              "      <td>0</td>\n",
              "      <td>NaN</td>\n",
              "      <td>0</td>\n",
              "      <td>NaN</td>\n",
              "      <td>45.0</td>\n",
              "    </tr>\n",
              "    <tr>\n",
              "      <th>3403</th>\n",
              "      <td>3</td>\n",
              "      <td>3200000</td>\n",
              "      <td>26</td>\n",
              "      <td>2017-08-14</td>\n",
              "      <td>1</td>\n",
              "      <td>2.80</td>\n",
              "      <td>25</td>\n",
              "      <td>16</td>\n",
              "      <td>7</td>\n",
              "      <td>NaN</td>\n",
              "      <td>True</td>\n",
              "      <td>False</td>\n",
              "      <td>0</td>\n",
              "      <td>2</td>\n",
              "      <td>Санкт-Петербург</td>\n",
              "      <td>34967.0</td>\n",
              "      <td>14640.0</td>\n",
              "      <td>0</td>\n",
              "      <td>NaN</td>\n",
              "      <td>1</td>\n",
              "      <td>564.0</td>\n",
              "      <td>213.0</td>\n",
              "    </tr>\n",
              "    <tr>\n",
              "      <th>3659</th>\n",
              "      <td>4</td>\n",
              "      <td>4500000</td>\n",
              "      <td>34</td>\n",
              "      <td>2016-04-25</td>\n",
              "      <td>1</td>\n",
              "      <td>2.80</td>\n",
              "      <td>10</td>\n",
              "      <td>21</td>\n",
              "      <td>10</td>\n",
              "      <td>False</td>\n",
              "      <td>True</td>\n",
              "      <td>False</td>\n",
              "      <td>0</td>\n",
              "      <td>2</td>\n",
              "      <td>Санкт-Петербург</td>\n",
              "      <td>23609.0</td>\n",
              "      <td>5299.0</td>\n",
              "      <td>0</td>\n",
              "      <td>NaN</td>\n",
              "      <td>1</td>\n",
              "      <td>433.0</td>\n",
              "      <td>62.0</td>\n",
              "    </tr>\n",
              "    <tr>\n",
              "      <th>4342</th>\n",
              "      <td>11</td>\n",
              "      <td>4300000</td>\n",
              "      <td>29</td>\n",
              "      <td>2017-07-14</td>\n",
              "      <td>1</td>\n",
              "      <td>2.65</td>\n",
              "      <td>20</td>\n",
              "      <td>19</td>\n",
              "      <td>17</td>\n",
              "      <td>NaN</td>\n",
              "      <td>True</td>\n",
              "      <td>False</td>\n",
              "      <td>0</td>\n",
              "      <td>2</td>\n",
              "      <td>Санкт-Петербург</td>\n",
              "      <td>20802.0</td>\n",
              "      <td>12554.0</td>\n",
              "      <td>1</td>\n",
              "      <td>526.0</td>\n",
              "      <td>0</td>\n",
              "      <td>NaN</td>\n",
              "      <td>7.0</td>\n",
              "    </tr>\n",
              "    <tr>\n",
              "      <th>4616</th>\n",
              "      <td>7</td>\n",
              "      <td>4090000</td>\n",
              "      <td>24</td>\n",
              "      <td>2017-11-16</td>\n",
              "      <td>1</td>\n",
              "      <td>2.65</td>\n",
              "      <td>24</td>\n",
              "      <td>17</td>\n",
              "      <td>23</td>\n",
              "      <td>NaN</td>\n",
              "      <td>True</td>\n",
              "      <td>False</td>\n",
              "      <td>0</td>\n",
              "      <td>2</td>\n",
              "      <td>Санкт-Петербург</td>\n",
              "      <td>7201.0</td>\n",
              "      <td>13417.0</td>\n",
              "      <td>1</td>\n",
              "      <td>1199.0</td>\n",
              "      <td>0</td>\n",
              "      <td>NaN</td>\n",
              "      <td>58.0</td>\n",
              "    </tr>\n",
              "    <tr>\n",
              "      <th>6118</th>\n",
              "      <td>7</td>\n",
              "      <td>3200000</td>\n",
              "      <td>28</td>\n",
              "      <td>2015-08-25</td>\n",
              "      <td>1</td>\n",
              "      <td>2.65</td>\n",
              "      <td>23</td>\n",
              "      <td>19</td>\n",
              "      <td>3</td>\n",
              "      <td>NaN</td>\n",
              "      <td>True</td>\n",
              "      <td>False</td>\n",
              "      <td>0</td>\n",
              "      <td>2</td>\n",
              "      <td>Санкт-Петербург</td>\n",
              "      <td>22212.0</td>\n",
              "      <td>17399.0</td>\n",
              "      <td>0</td>\n",
              "      <td>NaN</td>\n",
              "      <td>1</td>\n",
              "      <td>233.0</td>\n",
              "      <td>NaN</td>\n",
              "    </tr>\n",
              "    <tr>\n",
              "      <th>6336</th>\n",
              "      <td>16</td>\n",
              "      <td>3500000</td>\n",
              "      <td>29</td>\n",
              "      <td>2017-04-16</td>\n",
              "      <td>1</td>\n",
              "      <td>2.64</td>\n",
              "      <td>16</td>\n",
              "      <td>16</td>\n",
              "      <td>3</td>\n",
              "      <td>False</td>\n",
              "      <td>True</td>\n",
              "      <td>False</td>\n",
              "      <td>0</td>\n",
              "      <td>2</td>\n",
              "      <td>Санкт-Петербург</td>\n",
              "      <td>17693.0</td>\n",
              "      <td>12516.0</td>\n",
              "      <td>0</td>\n",
              "      <td>NaN</td>\n",
              "      <td>0</td>\n",
              "      <td>NaN</td>\n",
              "      <td>28.0</td>\n",
              "    </tr>\n",
              "    <tr>\n",
              "      <th>6653</th>\n",
              "      <td>5</td>\n",
              "      <td>3450000</td>\n",
              "      <td>25</td>\n",
              "      <td>2019-03-05</td>\n",
              "      <td>1</td>\n",
              "      <td>2.65</td>\n",
              "      <td>19</td>\n",
              "      <td>18</td>\n",
              "      <td>14</td>\n",
              "      <td>NaN</td>\n",
              "      <td>True</td>\n",
              "      <td>False</td>\n",
              "      <td>0</td>\n",
              "      <td>2</td>\n",
              "      <td>Санкт-Петербург</td>\n",
              "      <td>18490.0</td>\n",
              "      <td>17492.0</td>\n",
              "      <td>0</td>\n",
              "      <td>NaN</td>\n",
              "      <td>2</td>\n",
              "      <td>113.0</td>\n",
              "      <td>NaN</td>\n",
              "    </tr>\n",
              "    <tr>\n",
              "      <th>7201</th>\n",
              "      <td>11</td>\n",
              "      <td>2300000</td>\n",
              "      <td>21</td>\n",
              "      <td>2018-03-16</td>\n",
              "      <td>1</td>\n",
              "      <td>2.65</td>\n",
              "      <td>22</td>\n",
              "      <td>18</td>\n",
              "      <td>1</td>\n",
              "      <td>NaN</td>\n",
              "      <td>True</td>\n",
              "      <td>False</td>\n",
              "      <td>0</td>\n",
              "      <td>2</td>\n",
              "      <td>поселок Мурино</td>\n",
              "      <td>NaN</td>\n",
              "      <td>NaN</td>\n",
              "      <td>0</td>\n",
              "      <td>NaN</td>\n",
              "      <td>0</td>\n",
              "      <td>NaN</td>\n",
              "      <td>56.0</td>\n",
              "    </tr>\n",
              "    <tr>\n",
              "      <th>7563</th>\n",
              "      <td>10</td>\n",
              "      <td>3500000</td>\n",
              "      <td>32</td>\n",
              "      <td>2016-05-05</td>\n",
              "      <td>1</td>\n",
              "      <td>3.00</td>\n",
              "      <td>23</td>\n",
              "      <td>29</td>\n",
              "      <td>11</td>\n",
              "      <td>False</td>\n",
              "      <td>True</td>\n",
              "      <td>False</td>\n",
              "      <td>0</td>\n",
              "      <td>2</td>\n",
              "      <td>Санкт-Петербург</td>\n",
              "      <td>34967.0</td>\n",
              "      <td>14640.0</td>\n",
              "      <td>0</td>\n",
              "      <td>NaN</td>\n",
              "      <td>1</td>\n",
              "      <td>564.0</td>\n",
              "      <td>45.0</td>\n",
              "    </tr>\n",
              "    <tr>\n",
              "      <th>7596</th>\n",
              "      <td>10</td>\n",
              "      <td>4000000</td>\n",
              "      <td>26</td>\n",
              "      <td>2018-02-27</td>\n",
              "      <td>1</td>\n",
              "      <td>2.80</td>\n",
              "      <td>16</td>\n",
              "      <td>22</td>\n",
              "      <td>7</td>\n",
              "      <td>NaN</td>\n",
              "      <td>True</td>\n",
              "      <td>False</td>\n",
              "      <td>0</td>\n",
              "      <td>2</td>\n",
              "      <td>Санкт-Петербург</td>\n",
              "      <td>10796.0</td>\n",
              "      <td>14361.0</td>\n",
              "      <td>0</td>\n",
              "      <td>NaN</td>\n",
              "      <td>0</td>\n",
              "      <td>NaN</td>\n",
              "      <td>50.0</td>\n",
              "    </tr>\n",
              "    <tr>\n",
              "      <th>7647</th>\n",
              "      <td>8</td>\n",
              "      <td>2450000</td>\n",
              "      <td>25</td>\n",
              "      <td>2018-01-09</td>\n",
              "      <td>1</td>\n",
              "      <td>2.65</td>\n",
              "      <td>25</td>\n",
              "      <td>18</td>\n",
              "      <td>24</td>\n",
              "      <td>NaN</td>\n",
              "      <td>True</td>\n",
              "      <td>False</td>\n",
              "      <td>0</td>\n",
              "      <td>2</td>\n",
              "      <td>деревня Кудрово</td>\n",
              "      <td>NaN</td>\n",
              "      <td>NaN</td>\n",
              "      <td>0</td>\n",
              "      <td>NaN</td>\n",
              "      <td>0</td>\n",
              "      <td>NaN</td>\n",
              "      <td>50.0</td>\n",
              "    </tr>\n",
              "    <tr>\n",
              "      <th>7885</th>\n",
              "      <td>12</td>\n",
              "      <td>3890000</td>\n",
              "      <td>38</td>\n",
              "      <td>2017-10-06</td>\n",
              "      <td>1</td>\n",
              "      <td>2.70</td>\n",
              "      <td>14</td>\n",
              "      <td>24</td>\n",
              "      <td>7</td>\n",
              "      <td>NaN</td>\n",
              "      <td>True</td>\n",
              "      <td>False</td>\n",
              "      <td>0</td>\n",
              "      <td>2</td>\n",
              "      <td>Санкт-Петербург</td>\n",
              "      <td>15493.0</td>\n",
              "      <td>14289.0</td>\n",
              "      <td>0</td>\n",
              "      <td>NaN</td>\n",
              "      <td>0</td>\n",
              "      <td>NaN</td>\n",
              "      <td>289.0</td>\n",
              "    </tr>\n",
              "    <tr>\n",
              "      <th>8344</th>\n",
              "      <td>9</td>\n",
              "      <td>3450000</td>\n",
              "      <td>24</td>\n",
              "      <td>2019-02-01</td>\n",
              "      <td>1</td>\n",
              "      <td>2.68</td>\n",
              "      <td>35</td>\n",
              "      <td>16</td>\n",
              "      <td>17</td>\n",
              "      <td>NaN</td>\n",
              "      <td>True</td>\n",
              "      <td>False</td>\n",
              "      <td>0</td>\n",
              "      <td>2</td>\n",
              "      <td>Санкт-Петербург</td>\n",
              "      <td>18732.0</td>\n",
              "      <td>20444.0</td>\n",
              "      <td>0</td>\n",
              "      <td>NaN</td>\n",
              "      <td>3</td>\n",
              "      <td>80.0</td>\n",
              "      <td>45.0</td>\n",
              "    </tr>\n",
              "    <tr>\n",
              "      <th>8853</th>\n",
              "      <td>14</td>\n",
              "      <td>2250000</td>\n",
              "      <td>24</td>\n",
              "      <td>2018-10-02</td>\n",
              "      <td>1</td>\n",
              "      <td>2.65</td>\n",
              "      <td>19</td>\n",
              "      <td>17</td>\n",
              "      <td>6</td>\n",
              "      <td>NaN</td>\n",
              "      <td>True</td>\n",
              "      <td>False</td>\n",
              "      <td>0</td>\n",
              "      <td>2</td>\n",
              "      <td>поселок Мурино</td>\n",
              "      <td>NaN</td>\n",
              "      <td>NaN</td>\n",
              "      <td>0</td>\n",
              "      <td>NaN</td>\n",
              "      <td>0</td>\n",
              "      <td>NaN</td>\n",
              "      <td>13.0</td>\n",
              "    </tr>\n",
              "    <tr>\n",
              "      <th>8933</th>\n",
              "      <td>8</td>\n",
              "      <td>1870000</td>\n",
              "      <td>20</td>\n",
              "      <td>2016-04-04</td>\n",
              "      <td>1</td>\n",
              "      <td>2.65</td>\n",
              "      <td>15</td>\n",
              "      <td>15</td>\n",
              "      <td>13</td>\n",
              "      <td>NaN</td>\n",
              "      <td>True</td>\n",
              "      <td>False</td>\n",
              "      <td>0</td>\n",
              "      <td>2</td>\n",
              "      <td>поселок Мурино</td>\n",
              "      <td>NaN</td>\n",
              "      <td>NaN</td>\n",
              "      <td>0</td>\n",
              "      <td>NaN</td>\n",
              "      <td>0</td>\n",
              "      <td>NaN</td>\n",
              "      <td>856.0</td>\n",
              "    </tr>\n",
              "    <tr>\n",
              "      <th>9307</th>\n",
              "      <td>9</td>\n",
              "      <td>2700000</td>\n",
              "      <td>24</td>\n",
              "      <td>2017-05-18</td>\n",
              "      <td>1</td>\n",
              "      <td>2.65</td>\n",
              "      <td>25</td>\n",
              "      <td>16</td>\n",
              "      <td>6</td>\n",
              "      <td>NaN</td>\n",
              "      <td>True</td>\n",
              "      <td>False</td>\n",
              "      <td>0</td>\n",
              "      <td>2</td>\n",
              "      <td>Санкт-Петербург</td>\n",
              "      <td>42901.0</td>\n",
              "      <td>9267.0</td>\n",
              "      <td>0</td>\n",
              "      <td>NaN</td>\n",
              "      <td>0</td>\n",
              "      <td>NaN</td>\n",
              "      <td>6.0</td>\n",
              "    </tr>\n",
              "    <tr>\n",
              "      <th>9315</th>\n",
              "      <td>4</td>\n",
              "      <td>2290000</td>\n",
              "      <td>28</td>\n",
              "      <td>2015-09-20</td>\n",
              "      <td>1</td>\n",
              "      <td>2.75</td>\n",
              "      <td>20</td>\n",
              "      <td>17</td>\n",
              "      <td>14</td>\n",
              "      <td>NaN</td>\n",
              "      <td>True</td>\n",
              "      <td>False</td>\n",
              "      <td>0</td>\n",
              "      <td>2</td>\n",
              "      <td>деревня Кудрово</td>\n",
              "      <td>NaN</td>\n",
              "      <td>NaN</td>\n",
              "      <td>0</td>\n",
              "      <td>NaN</td>\n",
              "      <td>0</td>\n",
              "      <td>NaN</td>\n",
              "      <td>924.0</td>\n",
              "    </tr>\n",
              "    <tr>\n",
              "      <th>10633</th>\n",
              "      <td>12</td>\n",
              "      <td>6200000</td>\n",
              "      <td>32</td>\n",
              "      <td>2018-02-22</td>\n",
              "      <td>1</td>\n",
              "      <td>3.00</td>\n",
              "      <td>9</td>\n",
              "      <td>18</td>\n",
              "      <td>3</td>\n",
              "      <td>NaN</td>\n",
              "      <td>True</td>\n",
              "      <td>False</td>\n",
              "      <td>0</td>\n",
              "      <td>2</td>\n",
              "      <td>Санкт-Петербург</td>\n",
              "      <td>25987.0</td>\n",
              "      <td>4823.0</td>\n",
              "      <td>0</td>\n",
              "      <td>NaN</td>\n",
              "      <td>2</td>\n",
              "      <td>849.0</td>\n",
              "      <td>32.0</td>\n",
              "    </tr>\n",
              "    <tr>\n",
              "      <th>11721</th>\n",
              "      <td>15</td>\n",
              "      <td>3350000</td>\n",
              "      <td>24</td>\n",
              "      <td>2018-03-21</td>\n",
              "      <td>1</td>\n",
              "      <td>2.50</td>\n",
              "      <td>16</td>\n",
              "      <td>14</td>\n",
              "      <td>6</td>\n",
              "      <td>NaN</td>\n",
              "      <td>True</td>\n",
              "      <td>False</td>\n",
              "      <td>0</td>\n",
              "      <td>2</td>\n",
              "      <td>Санкт-Петербург</td>\n",
              "      <td>28471.0</td>\n",
              "      <td>14189.0</td>\n",
              "      <td>0</td>\n",
              "      <td>NaN</td>\n",
              "      <td>1</td>\n",
              "      <td>711.0</td>\n",
              "      <td>61.0</td>\n",
              "    </tr>\n",
              "    <tr>\n",
              "      <th>12067</th>\n",
              "      <td>20</td>\n",
              "      <td>4090000</td>\n",
              "      <td>31</td>\n",
              "      <td>2017-06-14</td>\n",
              "      <td>1</td>\n",
              "      <td>2.60</td>\n",
              "      <td>17</td>\n",
              "      <td>16</td>\n",
              "      <td>6</td>\n",
              "      <td>NaN</td>\n",
              "      <td>True</td>\n",
              "      <td>False</td>\n",
              "      <td>0</td>\n",
              "      <td>2</td>\n",
              "      <td>Санкт-Петербург</td>\n",
              "      <td>10796.0</td>\n",
              "      <td>14361.0</td>\n",
              "      <td>0</td>\n",
              "      <td>NaN</td>\n",
              "      <td>0</td>\n",
              "      <td>NaN</td>\n",
              "      <td>373.0</td>\n",
              "    </tr>\n",
              "    <tr>\n",
              "      <th>13152</th>\n",
              "      <td>4</td>\n",
              "      <td>2320000</td>\n",
              "      <td>24</td>\n",
              "      <td>2018-01-01</td>\n",
              "      <td>1</td>\n",
              "      <td>2.74</td>\n",
              "      <td>24</td>\n",
              "      <td>13</td>\n",
              "      <td>6</td>\n",
              "      <td>NaN</td>\n",
              "      <td>True</td>\n",
              "      <td>False</td>\n",
              "      <td>0</td>\n",
              "      <td>2</td>\n",
              "      <td>поселок Мурино</td>\n",
              "      <td>NaN</td>\n",
              "      <td>NaN</td>\n",
              "      <td>0</td>\n",
              "      <td>NaN</td>\n",
              "      <td>0</td>\n",
              "      <td>NaN</td>\n",
              "      <td>5.0</td>\n",
              "    </tr>\n",
              "    <tr>\n",
              "      <th>13333</th>\n",
              "      <td>4</td>\n",
              "      <td>5970000</td>\n",
              "      <td>43</td>\n",
              "      <td>2017-07-20</td>\n",
              "      <td>1</td>\n",
              "      <td>2.80</td>\n",
              "      <td>9</td>\n",
              "      <td>28</td>\n",
              "      <td>2</td>\n",
              "      <td>NaN</td>\n",
              "      <td>True</td>\n",
              "      <td>False</td>\n",
              "      <td>0</td>\n",
              "      <td>2</td>\n",
              "      <td>Санкт-Петербург</td>\n",
              "      <td>23617.0</td>\n",
              "      <td>5223.0</td>\n",
              "      <td>0</td>\n",
              "      <td>NaN</td>\n",
              "      <td>1</td>\n",
              "      <td>874.0</td>\n",
              "      <td>30.0</td>\n",
              "    </tr>\n",
              "    <tr>\n",
              "      <th>13374</th>\n",
              "      <td>8</td>\n",
              "      <td>2200000</td>\n",
              "      <td>27</td>\n",
              "      <td>2017-05-25</td>\n",
              "      <td>1</td>\n",
              "      <td>2.50</td>\n",
              "      <td>6</td>\n",
              "      <td>18</td>\n",
              "      <td>4</td>\n",
              "      <td>NaN</td>\n",
              "      <td>True</td>\n",
              "      <td>False</td>\n",
              "      <td>0</td>\n",
              "      <td>2</td>\n",
              "      <td>Всеволожск</td>\n",
              "      <td>NaN</td>\n",
              "      <td>NaN</td>\n",
              "      <td>0</td>\n",
              "      <td>NaN</td>\n",
              "      <td>0</td>\n",
              "      <td>NaN</td>\n",
              "      <td>422.0</td>\n",
              "    </tr>\n",
              "    <tr>\n",
              "      <th>13589</th>\n",
              "      <td>4</td>\n",
              "      <td>3499000</td>\n",
              "      <td>25</td>\n",
              "      <td>2019-04-05</td>\n",
              "      <td>1</td>\n",
              "      <td>2.80</td>\n",
              "      <td>14</td>\n",
              "      <td>17</td>\n",
              "      <td>13</td>\n",
              "      <td>NaN</td>\n",
              "      <td>True</td>\n",
              "      <td>False</td>\n",
              "      <td>0</td>\n",
              "      <td>2</td>\n",
              "      <td>Санкт-Петербург</td>\n",
              "      <td>43427.0</td>\n",
              "      <td>15930.0</td>\n",
              "      <td>1</td>\n",
              "      <td>529.0</td>\n",
              "      <td>0</td>\n",
              "      <td>NaN</td>\n",
              "      <td>NaN</td>\n",
              "    </tr>\n",
              "    <tr>\n",
              "      <th>13672</th>\n",
              "      <td>7</td>\n",
              "      <td>2750000</td>\n",
              "      <td>32</td>\n",
              "      <td>2018-07-05</td>\n",
              "      <td>1</td>\n",
              "      <td>2.65</td>\n",
              "      <td>17</td>\n",
              "      <td>19</td>\n",
              "      <td>7</td>\n",
              "      <td>NaN</td>\n",
              "      <td>True</td>\n",
              "      <td>False</td>\n",
              "      <td>0</td>\n",
              "      <td>2</td>\n",
              "      <td>Санкт-Петербург</td>\n",
              "      <td>15493.0</td>\n",
              "      <td>14289.0</td>\n",
              "      <td>0</td>\n",
              "      <td>NaN</td>\n",
              "      <td>0</td>\n",
              "      <td>NaN</td>\n",
              "      <td>4.0</td>\n",
              "    </tr>\n",
              "    <tr>\n",
              "      <th>13718</th>\n",
              "      <td>4</td>\n",
              "      <td>3100000</td>\n",
              "      <td>31</td>\n",
              "      <td>2017-09-11</td>\n",
              "      <td>1</td>\n",
              "      <td>2.70</td>\n",
              "      <td>19</td>\n",
              "      <td>18</td>\n",
              "      <td>9</td>\n",
              "      <td>NaN</td>\n",
              "      <td>True</td>\n",
              "      <td>False</td>\n",
              "      <td>0</td>\n",
              "      <td>2</td>\n",
              "      <td>Санкт-Петербург</td>\n",
              "      <td>34279.0</td>\n",
              "      <td>15447.0</td>\n",
              "      <td>0</td>\n",
              "      <td>NaN</td>\n",
              "      <td>0</td>\n",
              "      <td>NaN</td>\n",
              "      <td>61.0</td>\n",
              "    </tr>\n",
              "    <tr>\n",
              "      <th>14056</th>\n",
              "      <td>7</td>\n",
              "      <td>2500000</td>\n",
              "      <td>22</td>\n",
              "      <td>2019-01-11</td>\n",
              "      <td>1</td>\n",
              "      <td>2.65</td>\n",
              "      <td>21</td>\n",
              "      <td>18</td>\n",
              "      <td>7</td>\n",
              "      <td>NaN</td>\n",
              "      <td>True</td>\n",
              "      <td>False</td>\n",
              "      <td>0</td>\n",
              "      <td>2</td>\n",
              "      <td>Кудрово</td>\n",
              "      <td>NaN</td>\n",
              "      <td>NaN</td>\n",
              "      <td>0</td>\n",
              "      <td>NaN</td>\n",
              "      <td>0</td>\n",
              "      <td>NaN</td>\n",
              "      <td>4.0</td>\n",
              "    </tr>\n",
              "    <tr>\n",
              "      <th>14949</th>\n",
              "      <td>14</td>\n",
              "      <td>1990000</td>\n",
              "      <td>24</td>\n",
              "      <td>2017-01-23</td>\n",
              "      <td>1</td>\n",
              "      <td>2.65</td>\n",
              "      <td>16</td>\n",
              "      <td>17</td>\n",
              "      <td>9</td>\n",
              "      <td>NaN</td>\n",
              "      <td>True</td>\n",
              "      <td>False</td>\n",
              "      <td>0</td>\n",
              "      <td>2</td>\n",
              "      <td>поселок Бугры</td>\n",
              "      <td>NaN</td>\n",
              "      <td>NaN</td>\n",
              "      <td>0</td>\n",
              "      <td>NaN</td>\n",
              "      <td>0</td>\n",
              "      <td>NaN</td>\n",
              "      <td>159.0</td>\n",
              "    </tr>\n",
              "    <tr>\n",
              "      <th>15211</th>\n",
              "      <td>14</td>\n",
              "      <td>4100000</td>\n",
              "      <td>26</td>\n",
              "      <td>2017-11-26</td>\n",
              "      <td>1</td>\n",
              "      <td>2.65</td>\n",
              "      <td>7</td>\n",
              "      <td>17</td>\n",
              "      <td>3</td>\n",
              "      <td>NaN</td>\n",
              "      <td>True</td>\n",
              "      <td>False</td>\n",
              "      <td>0</td>\n",
              "      <td>2</td>\n",
              "      <td>Санкт-Петербург</td>\n",
              "      <td>10796.0</td>\n",
              "      <td>14361.0</td>\n",
              "      <td>0</td>\n",
              "      <td>NaN</td>\n",
              "      <td>0</td>\n",
              "      <td>NaN</td>\n",
              "      <td>30.0</td>\n",
              "    </tr>\n",
              "    <tr>\n",
              "      <th>15296</th>\n",
              "      <td>11</td>\n",
              "      <td>2680000</td>\n",
              "      <td>22</td>\n",
              "      <td>2018-08-11</td>\n",
              "      <td>1</td>\n",
              "      <td>2.65</td>\n",
              "      <td>25</td>\n",
              "      <td>5</td>\n",
              "      <td>8</td>\n",
              "      <td>NaN</td>\n",
              "      <td>True</td>\n",
              "      <td>False</td>\n",
              "      <td>0</td>\n",
              "      <td>2</td>\n",
              "      <td>Санкт-Петербург</td>\n",
              "      <td>22735.0</td>\n",
              "      <td>11618.0</td>\n",
              "      <td>1</td>\n",
              "      <td>835.0</td>\n",
              "      <td>1</td>\n",
              "      <td>652.0</td>\n",
              "      <td>70.0</td>\n",
              "    </tr>\n",
              "    <tr>\n",
              "      <th>15330</th>\n",
              "      <td>12</td>\n",
              "      <td>3150000</td>\n",
              "      <td>22</td>\n",
              "      <td>2017-05-20</td>\n",
              "      <td>1</td>\n",
              "      <td>2.65</td>\n",
              "      <td>16</td>\n",
              "      <td>15</td>\n",
              "      <td>14</td>\n",
              "      <td>NaN</td>\n",
              "      <td>True</td>\n",
              "      <td>False</td>\n",
              "      <td>0</td>\n",
              "      <td>2</td>\n",
              "      <td>Санкт-Петербург</td>\n",
              "      <td>12581.0</td>\n",
              "      <td>13821.0</td>\n",
              "      <td>1</td>\n",
              "      <td>38.0</td>\n",
              "      <td>1</td>\n",
              "      <td>851.0</td>\n",
              "      <td>515.0</td>\n",
              "    </tr>\n",
              "    <tr>\n",
              "      <th>15623</th>\n",
              "      <td>5</td>\n",
              "      <td>2700000</td>\n",
              "      <td>31</td>\n",
              "      <td>2017-10-26</td>\n",
              "      <td>1</td>\n",
              "      <td>2.65</td>\n",
              "      <td>17</td>\n",
              "      <td>21</td>\n",
              "      <td>6</td>\n",
              "      <td>NaN</td>\n",
              "      <td>True</td>\n",
              "      <td>False</td>\n",
              "      <td>0</td>\n",
              "      <td>2</td>\n",
              "      <td>Санкт-Петербург</td>\n",
              "      <td>41752.0</td>\n",
              "      <td>15653.0</td>\n",
              "      <td>0</td>\n",
              "      <td>NaN</td>\n",
              "      <td>1</td>\n",
              "      <td>552.0</td>\n",
              "      <td>51.0</td>\n",
              "    </tr>\n",
              "    <tr>\n",
              "      <th>15775</th>\n",
              "      <td>6</td>\n",
              "      <td>4800000</td>\n",
              "      <td>32</td>\n",
              "      <td>2019-04-09</td>\n",
              "      <td>1</td>\n",
              "      <td>2.80</td>\n",
              "      <td>17</td>\n",
              "      <td>22</td>\n",
              "      <td>5</td>\n",
              "      <td>NaN</td>\n",
              "      <td>True</td>\n",
              "      <td>False</td>\n",
              "      <td>0</td>\n",
              "      <td>2</td>\n",
              "      <td>Санкт-Петербург</td>\n",
              "      <td>43996.0</td>\n",
              "      <td>13576.0</td>\n",
              "      <td>1</td>\n",
              "      <td>396.0</td>\n",
              "      <td>0</td>\n",
              "      <td>NaN</td>\n",
              "      <td>NaN</td>\n",
              "    </tr>\n",
              "    <tr>\n",
              "      <th>16211</th>\n",
              "      <td>11</td>\n",
              "      <td>3250000</td>\n",
              "      <td>26</td>\n",
              "      <td>2018-08-03</td>\n",
              "      <td>1</td>\n",
              "      <td>2.70</td>\n",
              "      <td>17</td>\n",
              "      <td>18</td>\n",
              "      <td>12</td>\n",
              "      <td>NaN</td>\n",
              "      <td>True</td>\n",
              "      <td>False</td>\n",
              "      <td>0</td>\n",
              "      <td>2</td>\n",
              "      <td>Санкт-Петербург</td>\n",
              "      <td>20630.0</td>\n",
              "      <td>16912.0</td>\n",
              "      <td>0</td>\n",
              "      <td>NaN</td>\n",
              "      <td>2</td>\n",
              "      <td>428.0</td>\n",
              "      <td>215.0</td>\n",
              "    </tr>\n",
              "    <tr>\n",
              "      <th>16306</th>\n",
              "      <td>14</td>\n",
              "      <td>1700000</td>\n",
              "      <td>23</td>\n",
              "      <td>2018-08-16</td>\n",
              "      <td>1</td>\n",
              "      <td>2.65</td>\n",
              "      <td>3</td>\n",
              "      <td>19</td>\n",
              "      <td>1</td>\n",
              "      <td>NaN</td>\n",
              "      <td>True</td>\n",
              "      <td>False</td>\n",
              "      <td>0</td>\n",
              "      <td>2</td>\n",
              "      <td>Всеволожск</td>\n",
              "      <td>NaN</td>\n",
              "      <td>NaN</td>\n",
              "      <td>0</td>\n",
              "      <td>NaN</td>\n",
              "      <td>0</td>\n",
              "      <td>NaN</td>\n",
              "      <td>40.0</td>\n",
              "    </tr>\n",
              "    <tr>\n",
              "      <th>16948</th>\n",
              "      <td>5</td>\n",
              "      <td>3000000</td>\n",
              "      <td>24</td>\n",
              "      <td>2019-02-22</td>\n",
              "      <td>1</td>\n",
              "      <td>2.75</td>\n",
              "      <td>10</td>\n",
              "      <td>18</td>\n",
              "      <td>8</td>\n",
              "      <td>NaN</td>\n",
              "      <td>True</td>\n",
              "      <td>False</td>\n",
              "      <td>0</td>\n",
              "      <td>2</td>\n",
              "      <td>Кудрово</td>\n",
              "      <td>NaN</td>\n",
              "      <td>NaN</td>\n",
              "      <td>0</td>\n",
              "      <td>NaN</td>\n",
              "      <td>0</td>\n",
              "      <td>NaN</td>\n",
              "      <td>12.0</td>\n",
              "    </tr>\n",
              "    <tr>\n",
              "      <th>17152</th>\n",
              "      <td>17</td>\n",
              "      <td>4200000</td>\n",
              "      <td>24</td>\n",
              "      <td>2018-03-15</td>\n",
              "      <td>1</td>\n",
              "      <td>2.75</td>\n",
              "      <td>16</td>\n",
              "      <td>18</td>\n",
              "      <td>9</td>\n",
              "      <td>NaN</td>\n",
              "      <td>True</td>\n",
              "      <td>False</td>\n",
              "      <td>0</td>\n",
              "      <td>2</td>\n",
              "      <td>Санкт-Петербург</td>\n",
              "      <td>34201.0</td>\n",
              "      <td>14069.0</td>\n",
              "      <td>0</td>\n",
              "      <td>NaN</td>\n",
              "      <td>0</td>\n",
              "      <td>NaN</td>\n",
              "      <td>75.0</td>\n",
              "    </tr>\n",
              "    <tr>\n",
              "      <th>17965</th>\n",
              "      <td>8</td>\n",
              "      <td>3400000</td>\n",
              "      <td>23</td>\n",
              "      <td>2017-11-14</td>\n",
              "      <td>1</td>\n",
              "      <td>2.65</td>\n",
              "      <td>24</td>\n",
              "      <td>18</td>\n",
              "      <td>18</td>\n",
              "      <td>NaN</td>\n",
              "      <td>True</td>\n",
              "      <td>False</td>\n",
              "      <td>0</td>\n",
              "      <td>2</td>\n",
              "      <td>поселок Шушары</td>\n",
              "      <td>13461.0</td>\n",
              "      <td>19247.0</td>\n",
              "      <td>0</td>\n",
              "      <td>NaN</td>\n",
              "      <td>1</td>\n",
              "      <td>351.0</td>\n",
              "      <td>170.0</td>\n",
              "    </tr>\n",
              "    <tr>\n",
              "      <th>18375</th>\n",
              "      <td>13</td>\n",
              "      <td>2050000</td>\n",
              "      <td>28</td>\n",
              "      <td>2018-03-01</td>\n",
              "      <td>1</td>\n",
              "      <td>2.65</td>\n",
              "      <td>12</td>\n",
              "      <td>18</td>\n",
              "      <td>5</td>\n",
              "      <td>NaN</td>\n",
              "      <td>True</td>\n",
              "      <td>False</td>\n",
              "      <td>0</td>\n",
              "      <td>2</td>\n",
              "      <td>поселок Новоселье</td>\n",
              "      <td>NaN</td>\n",
              "      <td>NaN</td>\n",
              "      <td>0</td>\n",
              "      <td>NaN</td>\n",
              "      <td>0</td>\n",
              "      <td>NaN</td>\n",
              "      <td>160.0</td>\n",
              "    </tr>\n",
              "    <tr>\n",
              "      <th>18544</th>\n",
              "      <td>7</td>\n",
              "      <td>3590000</td>\n",
              "      <td>24</td>\n",
              "      <td>2018-09-04</td>\n",
              "      <td>1</td>\n",
              "      <td>2.77</td>\n",
              "      <td>14</td>\n",
              "      <td>19</td>\n",
              "      <td>11</td>\n",
              "      <td>NaN</td>\n",
              "      <td>True</td>\n",
              "      <td>False</td>\n",
              "      <td>0</td>\n",
              "      <td>2</td>\n",
              "      <td>Санкт-Петербург</td>\n",
              "      <td>11074.0</td>\n",
              "      <td>12730.0</td>\n",
              "      <td>0</td>\n",
              "      <td>NaN</td>\n",
              "      <td>0</td>\n",
              "      <td>NaN</td>\n",
              "      <td>27.0</td>\n",
              "    </tr>\n",
              "    <tr>\n",
              "      <th>18649</th>\n",
              "      <td>4</td>\n",
              "      <td>2700000</td>\n",
              "      <td>25</td>\n",
              "      <td>2018-01-01</td>\n",
              "      <td>1</td>\n",
              "      <td>2.70</td>\n",
              "      <td>24</td>\n",
              "      <td>18</td>\n",
              "      <td>19</td>\n",
              "      <td>NaN</td>\n",
              "      <td>True</td>\n",
              "      <td>False</td>\n",
              "      <td>0</td>\n",
              "      <td>2</td>\n",
              "      <td>Санкт-Петербург</td>\n",
              "      <td>41606.0</td>\n",
              "      <td>11678.0</td>\n",
              "      <td>0</td>\n",
              "      <td>NaN</td>\n",
              "      <td>0</td>\n",
              "      <td>NaN</td>\n",
              "      <td>5.0</td>\n",
              "    </tr>\n",
              "    <tr>\n",
              "      <th>19510</th>\n",
              "      <td>5</td>\n",
              "      <td>2750000</td>\n",
              "      <td>27</td>\n",
              "      <td>2019-04-24</td>\n",
              "      <td>1</td>\n",
              "      <td>2.70</td>\n",
              "      <td>27</td>\n",
              "      <td>19</td>\n",
              "      <td>10</td>\n",
              "      <td>NaN</td>\n",
              "      <td>True</td>\n",
              "      <td>False</td>\n",
              "      <td>0</td>\n",
              "      <td>2</td>\n",
              "      <td>Мурино</td>\n",
              "      <td>NaN</td>\n",
              "      <td>NaN</td>\n",
              "      <td>0</td>\n",
              "      <td>NaN</td>\n",
              "      <td>0</td>\n",
              "      <td>NaN</td>\n",
              "      <td>NaN</td>\n",
              "    </tr>\n",
              "    <tr>\n",
              "      <th>20571</th>\n",
              "      <td>8</td>\n",
              "      <td>2350000</td>\n",
              "      <td>26</td>\n",
              "      <td>2018-06-26</td>\n",
              "      <td>1</td>\n",
              "      <td>2.65</td>\n",
              "      <td>25</td>\n",
              "      <td>17</td>\n",
              "      <td>4</td>\n",
              "      <td>NaN</td>\n",
              "      <td>True</td>\n",
              "      <td>False</td>\n",
              "      <td>0</td>\n",
              "      <td>2</td>\n",
              "      <td>поселок Бугры</td>\n",
              "      <td>NaN</td>\n",
              "      <td>NaN</td>\n",
              "      <td>0</td>\n",
              "      <td>NaN</td>\n",
              "      <td>0</td>\n",
              "      <td>NaN</td>\n",
              "      <td>207.0</td>\n",
              "    </tr>\n",
              "  </tbody>\n",
              "</table>\n",
              "</div>"
            ],
            "text/plain": [
              "       total_images  last_price  total_area first_day_exposition  rooms  \\\n",
              "382               8     2480000          27           2018-03-12      1   \n",
              "1023             12     3240000          29           2018-10-30      1   \n",
              "1024              3     3900000          32           2016-10-18      1   \n",
              "1333              8     1950000          31           2019-01-29      1   \n",
              "1394             11     2550000          30           2017-11-10      1   \n",
              "1795             14     2300000          29           2018-03-29      1   \n",
              "1837              8     2900000          25           2019-02-21      1   \n",
              "1981             19     3550000          27           2017-12-06      1   \n",
              "2083              5     2250000          25           2016-06-07      1   \n",
              "2235              4     3170000          28           2018-07-26      1   \n",
              "2372             18     2400000          25           2017-08-16      1   \n",
              "2595              3     3700000          28           2017-11-09      1   \n",
              "2772             13     3800000          27           2016-05-17      1   \n",
              "3403              3     3200000          26           2017-08-14      1   \n",
              "3659              4     4500000          34           2016-04-25      1   \n",
              "4342             11     4300000          29           2017-07-14      1   \n",
              "4616              7     4090000          24           2017-11-16      1   \n",
              "6118              7     3200000          28           2015-08-25      1   \n",
              "6336             16     3500000          29           2017-04-16      1   \n",
              "6653              5     3450000          25           2019-03-05      1   \n",
              "7201             11     2300000          21           2018-03-16      1   \n",
              "7563             10     3500000          32           2016-05-05      1   \n",
              "7596             10     4000000          26           2018-02-27      1   \n",
              "7647              8     2450000          25           2018-01-09      1   \n",
              "7885             12     3890000          38           2017-10-06      1   \n",
              "8344              9     3450000          24           2019-02-01      1   \n",
              "8853             14     2250000          24           2018-10-02      1   \n",
              "8933              8     1870000          20           2016-04-04      1   \n",
              "9307              9     2700000          24           2017-05-18      1   \n",
              "9315              4     2290000          28           2015-09-20      1   \n",
              "10633            12     6200000          32           2018-02-22      1   \n",
              "11721            15     3350000          24           2018-03-21      1   \n",
              "12067            20     4090000          31           2017-06-14      1   \n",
              "13152             4     2320000          24           2018-01-01      1   \n",
              "13333             4     5970000          43           2017-07-20      1   \n",
              "13374             8     2200000          27           2017-05-25      1   \n",
              "13589             4     3499000          25           2019-04-05      1   \n",
              "13672             7     2750000          32           2018-07-05      1   \n",
              "13718             4     3100000          31           2017-09-11      1   \n",
              "14056             7     2500000          22           2019-01-11      1   \n",
              "14949            14     1990000          24           2017-01-23      1   \n",
              "15211            14     4100000          26           2017-11-26      1   \n",
              "15296            11     2680000          22           2018-08-11      1   \n",
              "15330            12     3150000          22           2017-05-20      1   \n",
              "15623             5     2700000          31           2017-10-26      1   \n",
              "15775             6     4800000          32           2019-04-09      1   \n",
              "16211            11     3250000          26           2018-08-03      1   \n",
              "16306            14     1700000          23           2018-08-16      1   \n",
              "16948             5     3000000          24           2019-02-22      1   \n",
              "17152            17     4200000          24           2018-03-15      1   \n",
              "17965             8     3400000          23           2017-11-14      1   \n",
              "18375            13     2050000          28           2018-03-01      1   \n",
              "18544             7     3590000          24           2018-09-04      1   \n",
              "18649             4     2700000          25           2018-01-01      1   \n",
              "19510             5     2750000          27           2019-04-24      1   \n",
              "20571             8     2350000          26           2018-06-26      1   \n",
              "\n",
              "       ceiling_height  floors_total  living_area  floor is_apartment  studio  \\\n",
              "382              2.65            17           24      4          NaN    True   \n",
              "1023             2.65            24           17      2          NaN    True   \n",
              "1024             2.70            24           18      2          NaN    True   \n",
              "1333             2.65            18           18     11          NaN    True   \n",
              "1394             2.75            23           15     11          NaN    True   \n",
              "1795             2.60            26           22      9          NaN    True   \n",
              "1837             2.65            18           15     18          NaN    True   \n",
              "1981             2.75            18           18     12          NaN    True   \n",
              "2083             2.65            12           17      8        False    True   \n",
              "2235             2.65            23           20      2          NaN    True   \n",
              "2372             2.65            25           21     12          NaN    True   \n",
              "2595             2.65            17           19      3          NaN    True   \n",
              "2772             2.65            14           18      8        False    True   \n",
              "3403             2.80            25           16      7          NaN    True   \n",
              "3659             2.80            10           21     10        False    True   \n",
              "4342             2.65            20           19     17          NaN    True   \n",
              "4616             2.65            24           17     23          NaN    True   \n",
              "6118             2.65            23           19      3          NaN    True   \n",
              "6336             2.64            16           16      3        False    True   \n",
              "6653             2.65            19           18     14          NaN    True   \n",
              "7201             2.65            22           18      1          NaN    True   \n",
              "7563             3.00            23           29     11        False    True   \n",
              "7596             2.80            16           22      7          NaN    True   \n",
              "7647             2.65            25           18     24          NaN    True   \n",
              "7885             2.70            14           24      7          NaN    True   \n",
              "8344             2.68            35           16     17          NaN    True   \n",
              "8853             2.65            19           17      6          NaN    True   \n",
              "8933             2.65            15           15     13          NaN    True   \n",
              "9307             2.65            25           16      6          NaN    True   \n",
              "9315             2.75            20           17     14          NaN    True   \n",
              "10633            3.00             9           18      3          NaN    True   \n",
              "11721            2.50            16           14      6          NaN    True   \n",
              "12067            2.60            17           16      6          NaN    True   \n",
              "13152            2.74            24           13      6          NaN    True   \n",
              "13333            2.80             9           28      2          NaN    True   \n",
              "13374            2.50             6           18      4          NaN    True   \n",
              "13589            2.80            14           17     13          NaN    True   \n",
              "13672            2.65            17           19      7          NaN    True   \n",
              "13718            2.70            19           18      9          NaN    True   \n",
              "14056            2.65            21           18      7          NaN    True   \n",
              "14949            2.65            16           17      9          NaN    True   \n",
              "15211            2.65             7           17      3          NaN    True   \n",
              "15296            2.65            25            5      8          NaN    True   \n",
              "15330            2.65            16           15     14          NaN    True   \n",
              "15623            2.65            17           21      6          NaN    True   \n",
              "15775            2.80            17           22      5          NaN    True   \n",
              "16211            2.70            17           18     12          NaN    True   \n",
              "16306            2.65             3           19      1          NaN    True   \n",
              "16948            2.75            10           18      8          NaN    True   \n",
              "17152            2.75            16           18      9          NaN    True   \n",
              "17965            2.65            24           18     18          NaN    True   \n",
              "18375            2.65            12           18      5          NaN    True   \n",
              "18544            2.77            14           19     11          NaN    True   \n",
              "18649            2.70            24           18     19          NaN    True   \n",
              "19510            2.70            27           19     10          NaN    True   \n",
              "20571            2.65            25           17      4          NaN    True   \n",
              "\n",
              "       open_plan  kitchen_area  balcony            locality_name  \\\n",
              "382        False             0        2          Санкт-Петербург   \n",
              "1023       False             0        2          Санкт-Петербург   \n",
              "1024       False             0        2          Санкт-Петербург   \n",
              "1333       False             0        2               Никольское   \n",
              "1394       False             0        2          Санкт-Петербург   \n",
              "1795       False             0        2  поселок имени Свердлова   \n",
              "1837       False             0        2                  Кудрово   \n",
              "1981       False             0        2          Санкт-Петербург   \n",
              "2083       False             0        2          Санкт-Петербург   \n",
              "2235       False             0        2          Санкт-Петербург   \n",
              "2372       False             0        2           поселок Мурино   \n",
              "2595       False             0        2          Санкт-Петербург   \n",
              "2772       False             0        2          Санкт-Петербург   \n",
              "3403       False             0        2          Санкт-Петербург   \n",
              "3659       False             0        2          Санкт-Петербург   \n",
              "4342       False             0        2          Санкт-Петербург   \n",
              "4616       False             0        2          Санкт-Петербург   \n",
              "6118       False             0        2          Санкт-Петербург   \n",
              "6336       False             0        2          Санкт-Петербург   \n",
              "6653       False             0        2          Санкт-Петербург   \n",
              "7201       False             0        2           поселок Мурино   \n",
              "7563       False             0        2          Санкт-Петербург   \n",
              "7596       False             0        2          Санкт-Петербург   \n",
              "7647       False             0        2          деревня Кудрово   \n",
              "7885       False             0        2          Санкт-Петербург   \n",
              "8344       False             0        2          Санкт-Петербург   \n",
              "8853       False             0        2           поселок Мурино   \n",
              "8933       False             0        2           поселок Мурино   \n",
              "9307       False             0        2          Санкт-Петербург   \n",
              "9315       False             0        2          деревня Кудрово   \n",
              "10633      False             0        2          Санкт-Петербург   \n",
              "11721      False             0        2          Санкт-Петербург   \n",
              "12067      False             0        2          Санкт-Петербург   \n",
              "13152      False             0        2           поселок Мурино   \n",
              "13333      False             0        2          Санкт-Петербург   \n",
              "13374      False             0        2               Всеволожск   \n",
              "13589      False             0        2          Санкт-Петербург   \n",
              "13672      False             0        2          Санкт-Петербург   \n",
              "13718      False             0        2          Санкт-Петербург   \n",
              "14056      False             0        2                  Кудрово   \n",
              "14949      False             0        2            поселок Бугры   \n",
              "15211      False             0        2          Санкт-Петербург   \n",
              "15296      False             0        2          Санкт-Петербург   \n",
              "15330      False             0        2          Санкт-Петербург   \n",
              "15623      False             0        2          Санкт-Петербург   \n",
              "15775      False             0        2          Санкт-Петербург   \n",
              "16211      False             0        2          Санкт-Петербург   \n",
              "16306      False             0        2               Всеволожск   \n",
              "16948      False             0        2                  Кудрово   \n",
              "17152      False             0        2          Санкт-Петербург   \n",
              "17965      False             0        2           поселок Шушары   \n",
              "18375      False             0        2        поселок Новоселье   \n",
              "18544      False             0        2          Санкт-Петербург   \n",
              "18649      False             0        2          Санкт-Петербург   \n",
              "19510      False             0        2                   Мурино   \n",
              "20571      False             0        2            поселок Бугры   \n",
              "\n",
              "       airports_nearest  cityCenters_nearest  parks_around3000  parks_nearest  \\\n",
              "382             38171.0              15015.0                 0            NaN   \n",
              "1023            35129.0              16293.0                 0            NaN   \n",
              "1024            44754.0               8409.0                 1          609.0   \n",
              "1333                NaN                  NaN                 0            NaN   \n",
              "1394            21928.0              17256.0                 0            NaN   \n",
              "1795                NaN                  NaN                 0            NaN   \n",
              "1837                NaN                  NaN                 0            NaN   \n",
              "1981            34201.0              14069.0                 0            NaN   \n",
              "2083            14125.0              12921.0                 2          328.0   \n",
              "2235            21460.0              16788.0                 0            NaN   \n",
              "2372                NaN                  NaN                 0            NaN   \n",
              "2595             9655.0              13255.0                 1          980.0   \n",
              "2772            50348.0              16053.0                 0            NaN   \n",
              "3403            34967.0              14640.0                 0            NaN   \n",
              "3659            23609.0               5299.0                 0            NaN   \n",
              "4342            20802.0              12554.0                 1          526.0   \n",
              "4616             7201.0              13417.0                 1         1199.0   \n",
              "6118            22212.0              17399.0                 0            NaN   \n",
              "6336            17693.0              12516.0                 0            NaN   \n",
              "6653            18490.0              17492.0                 0            NaN   \n",
              "7201                NaN                  NaN                 0            NaN   \n",
              "7563            34967.0              14640.0                 0            NaN   \n",
              "7596            10796.0              14361.0                 0            NaN   \n",
              "7647                NaN                  NaN                 0            NaN   \n",
              "7885            15493.0              14289.0                 0            NaN   \n",
              "8344            18732.0              20444.0                 0            NaN   \n",
              "8853                NaN                  NaN                 0            NaN   \n",
              "8933                NaN                  NaN                 0            NaN   \n",
              "9307            42901.0               9267.0                 0            NaN   \n",
              "9315                NaN                  NaN                 0            NaN   \n",
              "10633           25987.0               4823.0                 0            NaN   \n",
              "11721           28471.0              14189.0                 0            NaN   \n",
              "12067           10796.0              14361.0                 0            NaN   \n",
              "13152               NaN                  NaN                 0            NaN   \n",
              "13333           23617.0               5223.0                 0            NaN   \n",
              "13374               NaN                  NaN                 0            NaN   \n",
              "13589           43427.0              15930.0                 1          529.0   \n",
              "13672           15493.0              14289.0                 0            NaN   \n",
              "13718           34279.0              15447.0                 0            NaN   \n",
              "14056               NaN                  NaN                 0            NaN   \n",
              "14949               NaN                  NaN                 0            NaN   \n",
              "15211           10796.0              14361.0                 0            NaN   \n",
              "15296           22735.0              11618.0                 1          835.0   \n",
              "15330           12581.0              13821.0                 1           38.0   \n",
              "15623           41752.0              15653.0                 0            NaN   \n",
              "15775           43996.0              13576.0                 1          396.0   \n",
              "16211           20630.0              16912.0                 0            NaN   \n",
              "16306               NaN                  NaN                 0            NaN   \n",
              "16948               NaN                  NaN                 0            NaN   \n",
              "17152           34201.0              14069.0                 0            NaN   \n",
              "17965           13461.0              19247.0                 0            NaN   \n",
              "18375               NaN                  NaN                 0            NaN   \n",
              "18544           11074.0              12730.0                 0            NaN   \n",
              "18649           41606.0              11678.0                 0            NaN   \n",
              "19510               NaN                  NaN                 0            NaN   \n",
              "20571               NaN                  NaN                 0            NaN   \n",
              "\n",
              "       ponds_around3000  ponds_nearest  days_exposition  \n",
              "382                   2          982.0             64.0  \n",
              "1023                  1          475.0             13.0  \n",
              "1024                  0            NaN            540.0  \n",
              "1333                  0            NaN              NaN  \n",
              "1394                  1          429.0             19.0  \n",
              "1795                  0            NaN            115.0  \n",
              "1837                  0            NaN              NaN  \n",
              "1981                  0            NaN            226.0  \n",
              "2083                  2          485.0             26.0  \n",
              "2235                  1          170.0             28.0  \n",
              "2372                  0            NaN            384.0  \n",
              "2595                  1         1093.0             20.0  \n",
              "2772                  0            NaN             45.0  \n",
              "3403                  1          564.0            213.0  \n",
              "3659                  1          433.0             62.0  \n",
              "4342                  0            NaN              7.0  \n",
              "4616                  0            NaN             58.0  \n",
              "6118                  1          233.0              NaN  \n",
              "6336                  0            NaN             28.0  \n",
              "6653                  2          113.0              NaN  \n",
              "7201                  0            NaN             56.0  \n",
              "7563                  1          564.0             45.0  \n",
              "7596                  0            NaN             50.0  \n",
              "7647                  0            NaN             50.0  \n",
              "7885                  0            NaN            289.0  \n",
              "8344                  3           80.0             45.0  \n",
              "8853                  0            NaN             13.0  \n",
              "8933                  0            NaN            856.0  \n",
              "9307                  0            NaN              6.0  \n",
              "9315                  0            NaN            924.0  \n",
              "10633                 2          849.0             32.0  \n",
              "11721                 1          711.0             61.0  \n",
              "12067                 0            NaN            373.0  \n",
              "13152                 0            NaN              5.0  \n",
              "13333                 1          874.0             30.0  \n",
              "13374                 0            NaN            422.0  \n",
              "13589                 0            NaN              NaN  \n",
              "13672                 0            NaN              4.0  \n",
              "13718                 0            NaN             61.0  \n",
              "14056                 0            NaN              4.0  \n",
              "14949                 0            NaN            159.0  \n",
              "15211                 0            NaN             30.0  \n",
              "15296                 1          652.0             70.0  \n",
              "15330                 1          851.0            515.0  \n",
              "15623                 1          552.0             51.0  \n",
              "15775                 0            NaN              NaN  \n",
              "16211                 2          428.0            215.0  \n",
              "16306                 0            NaN             40.0  \n",
              "16948                 0            NaN             12.0  \n",
              "17152                 0            NaN             75.0  \n",
              "17965                 1          351.0            170.0  \n",
              "18375                 0            NaN            160.0  \n",
              "18544                 0            NaN             27.0  \n",
              "18649                 0            NaN              5.0  \n",
              "19510                 0            NaN              NaN  \n",
              "20571                 0            NaN            207.0  "
            ]
          },
          "execution_count": 30,
          "metadata": {},
          "output_type": "execute_result"
        }
      ],
      "source": [
        "data['balcony'].describe()\n",
        "data = data.query('balcony - rooms <= 1')\n",
        "data.query('studio == True and balcony > 1') # список студий с 2 балконами"
      ]
    },
    {
      "cell_type": "markdown",
      "metadata": {
        "id": "93-F7503NqLs"
      },
      "source": [
        "В столбце `days_exposition` есть крайне выбивающиеся значения. По гистограмме видно, что после 600-800 дней продается слишком маленькое количество квартир, удалим те строки, в которых квартира продается дольше 2 лет."
      ]
    },
    {
      "cell_type": "code",
      "execution_count": null,
      "metadata": {
        "id": "8BYnAT45NqLs",
        "outputId": "98a04b38-01fb-4173-de44-c5ca9bf917a6"
      },
      "outputs": [
        {
          "data": {
            "image/png": "[encoded data removed]",
            "text/plain": [
              "<Figure size 432x288 with 1 Axes>"
            ]
          },
          "metadata": {
            "needs_background": "light"
          },
          "output_type": "display_data"
        }
      ],
      "source": [
        "data['days_exposition'].plot(kind='hist', bins=100)\n",
        "data = data.query('days_exposition < 730')"
      ]
    },
    {
      "cell_type": "markdown",
      "metadata": {
        "scrolled": true,
        "id": "0ZbgWwYYNqLs"
      },
      "source": [
        "**Вывод**: Некоторые аномальные значения поправляемы логическими решениями, но некоторые можно объяснить широким рынком, в котором есть как маленькие студии, объединенные квартиры, так и пентхаусы, в таких случаях удалять строки будет неверным решением. Некоторые аномалии могут быть работой мошенников, например, отсутствие или маленькое число фотографий. Часть аномалий попросту необъяснима, как случай с 18-комнатной квартирой, у которой нет ни одного балкона."
      ]
    },
    {
      "cell_type": "markdown",
      "metadata": {
        "id": "yeFrIBYrNqLt"
      },
      "source": [
        "### Посчитаем и добавим в таблицу новые столбцы"
      ]
    },
    {
      "cell_type": "markdown",
      "metadata": {
        "id": "zryhHAFHNqLt"
      },
      "source": [
        "Добавим в таблицу новые столбцы со следующими параметрами:\n",
        "1. цена одного квадратного метра;\n",
        "2. день недели публикации объявления (0 — понедельник, 1 — вторник и так далее);\n",
        "3. месяц публикации объявления;\n",
        "4. год публикации объявления;\n",
        "5. тип этажа квартиры (значения — «первый», «последний», «другой»);\n",
        "6. расстояние до центра города в километрах (переведите из м в км и округлите до целых значений)."
      ]
    },
    {
      "cell_type": "code",
      "execution_count": null,
      "metadata": {
        "id": "GgdRdzV-NqLt"
      },
      "outputs": [],
      "source": [
        "# создаем новый столбец 'price_per_sqm' с ценой одного квадратного метра\n",
        "data['price_per_sqm'] = data['last_price'] / data['total_area']"
      ]
    },
    {
      "cell_type": "code",
      "execution_count": null,
      "metadata": {
        "id": "3io84QCeNqLu"
      },
      "outputs": [],
      "source": [
        "# создаем новый столбец 'weekday_published' с днем недели\n",
        "data['weekday_published'] = data['first_day_exposition'].dt.weekday"
      ]
    },
    {
      "cell_type": "code",
      "execution_count": null,
      "metadata": {
        "id": "PjpR4ZxMNqLu"
      },
      "outputs": [],
      "source": [
        "# создаем новый столбец 'month_published' с месяцем публикации\n",
        "data['month_published'] = data['first_day_exposition'].dt.month"
      ]
    },
    {
      "cell_type": "code",
      "execution_count": null,
      "metadata": {
        "id": "vDD2XITSNqLu"
      },
      "outputs": [],
      "source": [
        "# создаем новый столбец 'year_published' с годом публикации\n",
        "data['year_published'] = data['first_day_exposition'].dt.year"
      ]
    },
    {
      "cell_type": "code",
      "execution_count": null,
      "metadata": {
        "id": "NmqkM_MPNqLu"
      },
      "outputs": [],
      "source": [
        "# создаем функцию, которая определяет тип этажа\n",
        "def get_floor_type(row):\n",
        "    floor = row['floor']\n",
        "    floors_total = row['floors_total']\n",
        "\n",
        "    if floor == 1:\n",
        "        return 'первый'\n",
        "    elif floor == floors_total:\n",
        "        return 'последний'\n",
        "    else:\n",
        "        return 'другой'\n",
        "\n",
        "# применяем функцию к каждой квартире и создаем новый столбец 'floor_type' с типом этажа\n",
        "data['floor_type'] = data.apply(get_floor_type, axis=1)"
      ]
    },
    {
      "cell_type": "code",
      "execution_count": null,
      "metadata": {
        "scrolled": false,
        "id": "OsxJ3LazNqLu",
        "outputId": "35129bc7-0cf9-40fe-8298-a1fbe2de31ca"
      },
      "outputs": [
        {
          "data": {
            "text/html": [
              "<div>\n",
              "<style scoped>\n",
              "    .dataframe tbody tr th:only-of-type {\n",
              "        vertical-align: middle;\n",
              "    }\n",
              "\n",
              "    .dataframe tbody tr th {\n",
              "        vertical-align: top;\n",
              "    }\n",
              "\n",
              "    .dataframe thead th {\n",
              "        text-align: right;\n",
              "    }\n",
              "</style>\n",
              "<table border=\"1\" class=\"dataframe\">\n",
              "  <thead>\n",
              "    <tr style=\"text-align: right;\">\n",
              "      <th></th>\n",
              "      <th>cityCenters_nearest</th>\n",
              "      <th>good_cityCenter</th>\n",
              "    </tr>\n",
              "  </thead>\n",
              "  <tbody>\n",
              "    <tr>\n",
              "      <th>1</th>\n",
              "      <td>18603.0</td>\n",
              "      <td>19.0</td>\n",
              "    </tr>\n",
              "    <tr>\n",
              "      <th>2</th>\n",
              "      <td>13933.0</td>\n",
              "      <td>14.0</td>\n",
              "    </tr>\n",
              "    <tr>\n",
              "      <th>3</th>\n",
              "      <td>NaN</td>\n",
              "      <td>NaN</td>\n",
              "    </tr>\n",
              "    <tr>\n",
              "      <th>4</th>\n",
              "      <td>19143.0</td>\n",
              "      <td>19.0</td>\n",
              "    </tr>\n",
              "    <tr>\n",
              "      <th>6</th>\n",
              "      <td>NaN</td>\n",
              "      <td>NaN</td>\n",
              "    </tr>\n",
              "  </tbody>\n",
              "</table>\n",
              "</div>"
            ],
            "text/plain": [
              "   cityCenters_nearest  good_cityCenter\n",
              "1              18603.0             19.0\n",
              "2              13933.0             14.0\n",
              "3                  NaN              NaN\n",
              "4              19143.0             19.0\n",
              "6                  NaN              NaN"
            ]
          },
          "execution_count": 37,
          "metadata": {},
          "output_type": "execute_result"
        }
      ],
      "source": [
        "# создаем новый столбец 'good_cityCenter' с округленным расстоянием в км\n",
        "data['good_cityCenter'] = round(data['cityCenters_nearest'] / 1000)\n",
        "\n",
        "# проверим, все ли верно сосчитано\n",
        "data[['cityCenters_nearest', 'good_cityCenter']].head()"
      ]
    },
    {
      "cell_type": "markdown",
      "metadata": {
        "id": "-ta3USNDNqLu"
      },
      "source": [
        "<div class=\"alert alert-success\"; style=\"border-left: 7px solid green\">\n",
        "<h5> ✔️ <font color=\"green\">Комментарий ревьюера (зеленый)</font></h5>\n",
        "\n",
        "Молодец, корректно созданы дополнительные столбцы с необходимыми метриками.\n",
        "\n",
        "</div>"
      ]
    },
    {
      "cell_type": "code",
      "execution_count": null,
      "metadata": {
        "id": "TLaeVC1qNqLv",
        "outputId": "d1e41cad-3b77-4687-f8d5-8321915d9ac4"
      },
      "outputs": [
        {
          "data": {
            "text/html": [
              "<div>\n",
              "<style scoped>\n",
              "    .dataframe tbody tr th:only-of-type {\n",
              "        vertical-align: middle;\n",
              "    }\n",
              "\n",
              "    .dataframe tbody tr th {\n",
              "        vertical-align: top;\n",
              "    }\n",
              "\n",
              "    .dataframe thead th {\n",
              "        text-align: right;\n",
              "    }\n",
              "</style>\n",
              "<table border=\"1\" class=\"dataframe\">\n",
              "  <thead>\n",
              "    <tr style=\"text-align: right;\">\n",
              "      <th></th>\n",
              "      <th>total_images</th>\n",
              "      <th>last_price</th>\n",
              "      <th>total_area</th>\n",
              "      <th>first_day_exposition</th>\n",
              "      <th>rooms</th>\n",
              "      <th>ceiling_height</th>\n",
              "      <th>floors_total</th>\n",
              "      <th>living_area</th>\n",
              "      <th>floor</th>\n",
              "      <th>is_apartment</th>\n",
              "      <th>studio</th>\n",
              "      <th>open_plan</th>\n",
              "      <th>kitchen_area</th>\n",
              "      <th>balcony</th>\n",
              "      <th>locality_name</th>\n",
              "      <th>airports_nearest</th>\n",
              "      <th>cityCenters_nearest</th>\n",
              "      <th>parks_around3000</th>\n",
              "      <th>parks_nearest</th>\n",
              "      <th>ponds_around3000</th>\n",
              "      <th>ponds_nearest</th>\n",
              "      <th>days_exposition</th>\n",
              "      <th>price_per_sqm</th>\n",
              "      <th>weekday_published</th>\n",
              "      <th>month_published</th>\n",
              "      <th>year_published</th>\n",
              "      <th>floor_type</th>\n",
              "      <th>good_cityCenter</th>\n",
              "    </tr>\n",
              "  </thead>\n",
              "  <tbody>\n",
              "    <tr>\n",
              "      <th>1</th>\n",
              "      <td>7</td>\n",
              "      <td>3350000</td>\n",
              "      <td>40</td>\n",
              "      <td>2018-12-04</td>\n",
              "      <td>1</td>\n",
              "      <td>2.65</td>\n",
              "      <td>11</td>\n",
              "      <td>18</td>\n",
              "      <td>1</td>\n",
              "      <td>NaN</td>\n",
              "      <td>False</td>\n",
              "      <td>False</td>\n",
              "      <td>11</td>\n",
              "      <td>2</td>\n",
              "      <td>поселок Шушары</td>\n",
              "      <td>12817.0</td>\n",
              "      <td>18603.0</td>\n",
              "      <td>0</td>\n",
              "      <td>NaN</td>\n",
              "      <td>0</td>\n",
              "      <td>NaN</td>\n",
              "      <td>81.0</td>\n",
              "      <td>83750.000000</td>\n",
              "      <td>1</td>\n",
              "      <td>12</td>\n",
              "      <td>2018</td>\n",
              "      <td>первый</td>\n",
              "      <td>19.0</td>\n",
              "    </tr>\n",
              "    <tr>\n",
              "      <th>2</th>\n",
              "      <td>10</td>\n",
              "      <td>5196000</td>\n",
              "      <td>56</td>\n",
              "      <td>2015-08-20</td>\n",
              "      <td>2</td>\n",
              "      <td>2.65</td>\n",
              "      <td>5</td>\n",
              "      <td>34</td>\n",
              "      <td>4</td>\n",
              "      <td>NaN</td>\n",
              "      <td>False</td>\n",
              "      <td>False</td>\n",
              "      <td>8</td>\n",
              "      <td>0</td>\n",
              "      <td>Санкт-Петербург</td>\n",
              "      <td>21741.0</td>\n",
              "      <td>13933.0</td>\n",
              "      <td>1</td>\n",
              "      <td>90.0</td>\n",
              "      <td>2</td>\n",
              "      <td>574.0</td>\n",
              "      <td>558.0</td>\n",
              "      <td>92785.714286</td>\n",
              "      <td>3</td>\n",
              "      <td>8</td>\n",
              "      <td>2015</td>\n",
              "      <td>другой</td>\n",
              "      <td>14.0</td>\n",
              "    </tr>\n",
              "    <tr>\n",
              "      <th>3</th>\n",
              "      <td>10</td>\n",
              "      <td>2890000</td>\n",
              "      <td>30</td>\n",
              "      <td>2018-09-10</td>\n",
              "      <td>1</td>\n",
              "      <td>2.65</td>\n",
              "      <td>12</td>\n",
              "      <td>14</td>\n",
              "      <td>5</td>\n",
              "      <td>NaN</td>\n",
              "      <td>False</td>\n",
              "      <td>False</td>\n",
              "      <td>9</td>\n",
              "      <td>0</td>\n",
              "      <td>поселок Янино-1</td>\n",
              "      <td>NaN</td>\n",
              "      <td>NaN</td>\n",
              "      <td>0</td>\n",
              "      <td>NaN</td>\n",
              "      <td>0</td>\n",
              "      <td>NaN</td>\n",
              "      <td>55.0</td>\n",
              "      <td>96333.333333</td>\n",
              "      <td>0</td>\n",
              "      <td>9</td>\n",
              "      <td>2018</td>\n",
              "      <td>другой</td>\n",
              "      <td>NaN</td>\n",
              "    </tr>\n",
              "    <tr>\n",
              "      <th>4</th>\n",
              "      <td>6</td>\n",
              "      <td>3700000</td>\n",
              "      <td>37</td>\n",
              "      <td>2017-11-02</td>\n",
              "      <td>1</td>\n",
              "      <td>2.65</td>\n",
              "      <td>26</td>\n",
              "      <td>10</td>\n",
              "      <td>6</td>\n",
              "      <td>NaN</td>\n",
              "      <td>False</td>\n",
              "      <td>False</td>\n",
              "      <td>14</td>\n",
              "      <td>1</td>\n",
              "      <td>поселок Парголово</td>\n",
              "      <td>52996.0</td>\n",
              "      <td>19143.0</td>\n",
              "      <td>0</td>\n",
              "      <td>NaN</td>\n",
              "      <td>0</td>\n",
              "      <td>NaN</td>\n",
              "      <td>155.0</td>\n",
              "      <td>100000.000000</td>\n",
              "      <td>3</td>\n",
              "      <td>11</td>\n",
              "      <td>2017</td>\n",
              "      <td>другой</td>\n",
              "      <td>19.0</td>\n",
              "    </tr>\n",
              "    <tr>\n",
              "      <th>6</th>\n",
              "      <td>20</td>\n",
              "      <td>2900000</td>\n",
              "      <td>33</td>\n",
              "      <td>2018-05-23</td>\n",
              "      <td>1</td>\n",
              "      <td>2.65</td>\n",
              "      <td>27</td>\n",
              "      <td>15</td>\n",
              "      <td>26</td>\n",
              "      <td>NaN</td>\n",
              "      <td>False</td>\n",
              "      <td>False</td>\n",
              "      <td>8</td>\n",
              "      <td>0</td>\n",
              "      <td>поселок Мурино</td>\n",
              "      <td>NaN</td>\n",
              "      <td>NaN</td>\n",
              "      <td>0</td>\n",
              "      <td>NaN</td>\n",
              "      <td>0</td>\n",
              "      <td>NaN</td>\n",
              "      <td>189.0</td>\n",
              "      <td>87878.787879</td>\n",
              "      <td>2</td>\n",
              "      <td>5</td>\n",
              "      <td>2018</td>\n",
              "      <td>другой</td>\n",
              "      <td>NaN</td>\n",
              "    </tr>\n",
              "  </tbody>\n",
              "</table>\n",
              "</div>"
            ],
            "text/plain": [
              "   total_images  last_price  total_area first_day_exposition  rooms  \\\n",
              "1             7     3350000          40           2018-12-04      1   \n",
              "2            10     5196000          56           2015-08-20      2   \n",
              "3            10     2890000          30           2018-09-10      1   \n",
              "4             6     3700000          37           2017-11-02      1   \n",
              "6            20     2900000          33           2018-05-23      1   \n",
              "\n",
              "   ceiling_height  floors_total  living_area  floor is_apartment  studio  \\\n",
              "1            2.65            11           18      1          NaN   False   \n",
              "2            2.65             5           34      4          NaN   False   \n",
              "3            2.65            12           14      5          NaN   False   \n",
              "4            2.65            26           10      6          NaN   False   \n",
              "6            2.65            27           15     26          NaN   False   \n",
              "\n",
              "   open_plan  kitchen_area  balcony      locality_name  airports_nearest  \\\n",
              "1      False            11        2     поселок Шушары           12817.0   \n",
              "2      False             8        0    Санкт-Петербург           21741.0   \n",
              "3      False             9        0    поселок Янино-1               NaN   \n",
              "4      False            14        1  поселок Парголово           52996.0   \n",
              "6      False             8        0     поселок Мурино               NaN   \n",
              "\n",
              "   cityCenters_nearest  parks_around3000  parks_nearest  ponds_around3000  \\\n",
              "1              18603.0                 0            NaN                 0   \n",
              "2              13933.0                 1           90.0                 2   \n",
              "3                  NaN                 0            NaN                 0   \n",
              "4              19143.0                 0            NaN                 0   \n",
              "6                  NaN                 0            NaN                 0   \n",
              "\n",
              "   ponds_nearest  days_exposition  price_per_sqm  weekday_published  \\\n",
              "1            NaN             81.0   83750.000000                  1   \n",
              "2          574.0            558.0   92785.714286                  3   \n",
              "3            NaN             55.0   96333.333333                  0   \n",
              "4            NaN            155.0  100000.000000                  3   \n",
              "6            NaN            189.0   87878.787879                  2   \n",
              "\n",
              "   month_published  year_published floor_type  good_cityCenter  \n",
              "1               12            2018     первый             19.0  \n",
              "2                8            2015     другой             14.0  \n",
              "3                9            2018     другой              NaN  \n",
              "4               11            2017     другой             19.0  \n",
              "6                5            2018     другой              NaN  "
            ]
          },
          "execution_count": 38,
          "metadata": {},
          "output_type": "execute_result"
        }
      ],
      "source": [
        "# проверим новые столбцы, все ли верно отображается\n",
        "data.head()"
      ]
    },
    {
      "cell_type": "markdown",
      "metadata": {
        "id": "rhmf_WpaNqLv"
      },
      "source": [
        "**Вывод:** Каждый добавленный столбец поможет лучше проанализировать зависимости."
      ]
    },
    {
      "cell_type": "markdown",
      "metadata": {
        "id": "cGwcPFpQNqLv"
      },
      "source": [
        "### Проведем исследовательский анализ данных"
      ]
    },
    {
      "cell_type": "markdown",
      "metadata": {
        "id": "eOKPPb3wNqLv"
      },
      "source": [
        "**4.1 Гистограмма, показывающая распределение общих площадей квартир.** По вертикальной оси откладывается количество квартир, а по горизонтальной - их площадь.\n",
        "\n",
        "Гистограмма показывает, что наиболее распространенная площадь квартир в наборе данных составляет от 50 до 100 кв. м. Также имеется значительное количество квартир площадью от 100 до 150 кв. м и меньшее количество квартир площадью от 150 до 200 кв. м.\n",
        "\n",
        "Квартир площадью менее 50 кв. м и более 200 кв. м очень мало."
      ]
    },
    {
      "cell_type": "code",
      "execution_count": null,
      "metadata": {
        "id": "8WQpS-ERNqLv",
        "outputId": "809211ce-8eab-4c05-c2ab-5dd27a4de001"
      },
      "outputs": [
        {
          "data": {
            "text/plain": [
              "Text(0, 0.5, 'Количество квартир')"
            ]
          },
          "execution_count": 39,
          "metadata": {},
          "output_type": "execute_result"
        },
        {
          "data": {
            "image/png": "[encoded data removed]",
            "text/plain": [
              "<Figure size 432x288 with 1 Axes>"
            ]
          },
          "metadata": {
            "needs_background": "light"
          },
          "output_type": "display_data"
        }
      ],
      "source": [
        "# создаем гистограмму общей площади\n",
        "data['total_area'].plot(kind='hist', bins=100)\n",
        "plt.grid(True)\n",
        "plt.title('Общая площадь квартир')\n",
        "plt.xlabel('Площадь')\n",
        "plt.ylabel('Количество квартир')"
      ]
    },
    {
      "cell_type": "markdown",
      "metadata": {
        "id": "gTvhMwv-NqLw"
      },
      "source": [
        "**Гистограмма, показывающая распределение жилых площадей квартир.** По вертикальной оси откладывается количество квартир, а по горизонтальной - их жилая площадь.\n",
        "\n",
        "Гистограмма показывает больше одного пика, первый наиболее частый интервал площадей находится от 20 до 25 кв. м. - этот пик приходится на однушки и студии, второй менее частый - на 25-30 кв. м., третий еще менее частый - на 30-50 кв. м. Начиная с 50 кв. м. жилой площади квартир становится сильно меньше, и от 100 кв. м. начинаются редкие пентхаусы, лофты и другие типы недвижимости, которые отличаются от общего массива своими большими площадями."
      ]
    },
    {
      "cell_type": "code",
      "execution_count": null,
      "metadata": {
        "id": "qdPzaVsfNqLw",
        "outputId": "1d94fd74-f439-4acf-d25f-a3965bcb7e9c"
      },
      "outputs": [
        {
          "data": {
            "text/plain": [
              "Text(0, 0.5, 'Количество квартир')"
            ]
          },
          "execution_count": 40,
          "metadata": {},
          "output_type": "execute_result"
        },
        {
          "data": {
            "image/png": "[encoded data removed]",
            "text/plain": [
              "<Figure size 432x288 with 1 Axes>"
            ]
          },
          "metadata": {
            "needs_background": "light"
          },
          "output_type": "display_data"
        }
      ],
      "source": [
        "# создаем гистограмму общей площади\n",
        "data['living_area'].plot(kind='hist', bins=100)\n",
        "plt.grid(True)\n",
        "plt.title('Жилая площадь')\n",
        "plt.xlabel('Площадь')\n",
        "plt.ylabel('Количество квартир')"
      ]
    },
    {
      "cell_type": "markdown",
      "metadata": {
        "id": "JcMANjYBNqLw"
      },
      "source": [
        "**Гистограмма, показывающая распределение площадей кухонь.** Около 0 кв. м. видно количество студий, в которых кухни совмещены с жилым помещением. Наибольшее количество квартир имеют кухни площадью 5-10 кв. м., далее с увеличиванием площади идет снижение количества квартир."
      ]
    },
    {
      "cell_type": "code",
      "execution_count": null,
      "metadata": {
        "id": "UnZYkhiqNqLw",
        "outputId": "4472d21f-5b0d-49d2-ead1-09d150612b70"
      },
      "outputs": [
        {
          "data": {
            "text/plain": [
              "Text(0, 0.5, 'Количество квартир')"
            ]
          },
          "execution_count": 41,
          "metadata": {},
          "output_type": "execute_result"
        },
        {
          "data": {
            "image/png": "[encoded data removed]",
            "text/plain": [
              "<Figure size 432x288 with 1 Axes>"
            ]
          },
          "metadata": {
            "needs_background": "light"
          },
          "output_type": "display_data"
        }
      ],
      "source": [
        "# создаем гистограмму площади кухни\n",
        "data['kitchen_area'].plot(kind='hist', bins=100)\n",
        "plt.grid(True)\n",
        "plt.title('Площадь кухни')\n",
        "plt.xlabel('Площадь')\n",
        "plt.ylabel('Количество квартир')"
      ]
    },
    {
      "cell_type": "markdown",
      "metadata": {
        "id": "pbMA9MF0NqLw"
      },
      "source": [
        "**Гистограмма, показывающая распределение цен на квартиры.** Интервал самых часто встречаемых цен - от 4 до 7 миллионов, после этого интервала количество квартир с повышением цены постепенно идет на убывание. Ранжирование было поставлено в соответствии с анализом в предыдущих частях."
      ]
    },
    {
      "cell_type": "code",
      "execution_count": null,
      "metadata": {
        "id": "Wqg8OWzSNqLw",
        "outputId": "8c61a0c2-320f-4e2a-a427-e1554aef7a8b"
      },
      "outputs": [
        {
          "data": {
            "text/plain": [
              "Text(0, 0.5, 'Количество квартир')"
            ]
          },
          "execution_count": 42,
          "metadata": {},
          "output_type": "execute_result"
        },
        {
          "data": {
            "image/png": "[encoded data removed]",
            "text/plain": [
              "<Figure size 432x288 with 1 Axes>"
            ]
          },
          "metadata": {
            "needs_background": "light"
          },
          "output_type": "display_data"
        }
      ],
      "source": [
        "# создаем гистограмму цен на квартиры\n",
        "data['last_price'].plot(kind='hist', bins=100, range=(4.300000e+05, 100000000))\n",
        "plt.grid(True)\n",
        "plt.title('Цена объекта')\n",
        "plt.xlabel('Цена')\n",
        "plt.ylabel('Количество квартир')"
      ]
    },
    {
      "cell_type": "markdown",
      "metadata": {
        "id": "aUHBg6Y8NqLx"
      },
      "source": [
        "**Гистограмма, показывающая распределение количества комнат.** Самое больше количество квартир - с 1 (самое большое число квартир) и 2 комнатами, много также 3-комнатных квартир, мало 4-7 комнатных квартир, и совсем мало квартир с большим количеством комнат, на графике их не видно."
      ]
    },
    {
      "cell_type": "code",
      "execution_count": null,
      "metadata": {
        "id": "CZYqtc5SNqLx",
        "outputId": "99055546-bef7-4939-8a79-95e1eb253afe"
      },
      "outputs": [
        {
          "data": {
            "text/plain": [
              "Text(0, 0.5, 'Количество квартир')"
            ]
          },
          "execution_count": 43,
          "metadata": {},
          "output_type": "execute_result"
        },
        {
          "data": {
            "image/png": "[encoded data removed]",
            "text/plain": [
              "<Figure size 432x288 with 1 Axes>"
            ]
          },
          "metadata": {
            "needs_background": "light"
          },
          "output_type": "display_data"
        }
      ],
      "source": [
        "# создаем гистограмму комнатности квартир\n",
        "data['rooms'].plot(kind='hist', bins=30, range=(1, 10))\n",
        "plt.grid(True)\n",
        "plt.title('Количество комнат')\n",
        "plt.xlabel('Количество')\n",
        "plt.ylabel('Количество квартир')"
      ]
    },
    {
      "cell_type": "markdown",
      "metadata": {
        "id": "5k7HtSAONqLx"
      },
      "source": [
        "**Гистограмма, показывающая распределение высоты потолков.** Всех больше квартир с высотой потолков 2.65 м, часто встречаются квартиры с потолками 2.5 м, после потолков 3 м количество квартир сильно уменьшается - таких квартир единицы. Ранжирование также было поставлено в соответствии с анализом высоты потолков в предыдущей части исследования."
      ]
    },
    {
      "cell_type": "code",
      "execution_count": null,
      "metadata": {
        "id": "hPPkCT2ANqLx",
        "outputId": "67ad644e-f64b-4c1c-cedb-b1e89ba61196"
      },
      "outputs": [
        {
          "data": {
            "text/plain": [
              "Text(0, 0.5, 'Количество квартир')"
            ]
          },
          "execution_count": 44,
          "metadata": {},
          "output_type": "execute_result"
        },
        {
          "data": {
            "image/png": "[encoded data removed]",
            "text/plain": [
              "<Figure size 432x288 with 1 Axes>"
            ]
          },
          "metadata": {
            "needs_background": "light"
          },
          "output_type": "display_data"
        }
      ],
      "source": [
        "# создаем гистограмму по высоте потолков\n",
        "data['ceiling_height'].plot(kind='hist', bins=70, range=(2.4, 4))\n",
        "plt.grid(True)\n",
        "plt.title('Высота потолков')\n",
        "plt.xlabel('Высота')\n",
        "plt.ylabel('Количество квартир')"
      ]
    },
    {
      "cell_type": "markdown",
      "metadata": {
        "id": "lECw240VNqLx"
      },
      "source": [
        "**Гистограмма, показывающая распределение этажа, на котором расположена квартира.** Большинство квартир расположено на 1-5 этажах, самый частый этаж - второй."
      ]
    },
    {
      "cell_type": "code",
      "execution_count": null,
      "metadata": {
        "id": "MPFMs9xkNqLx",
        "outputId": "cd9fc2f1-5160-4329-e6cf-4aeef31ef870"
      },
      "outputs": [
        {
          "data": {
            "text/plain": [
              "Text(0, 0.5, 'Количество квартир')"
            ]
          },
          "execution_count": 45,
          "metadata": {},
          "output_type": "execute_result"
        },
        {
          "data": {
            "image/png": "[encoded data removed]",
            "text/plain": [
              "<Figure size 432x288 with 1 Axes>"
            ]
          },
          "metadata": {
            "needs_background": "light"
          },
          "output_type": "display_data"
        }
      ],
      "source": [
        "# создаем гистограмму по этажу квартиры\n",
        "data['floor'].plot(kind='hist', bins=70)\n",
        "plt.grid(True)\n",
        "plt.title('Этаж квартиры')\n",
        "plt.xlabel('Этаж')\n",
        "plt.ylabel('Количество квартир')"
      ]
    },
    {
      "cell_type": "markdown",
      "metadata": {
        "id": "eihf1rjNNqLy"
      },
      "source": [
        "**Диаграмма, показывающая распределение квартир по типам этажа.** Для лучшей визуализации категориальных данных сделаем столбчатую диаграмму. Большинство квартир находится на этаже типа \"другой\", на первом и последнем этажах находится почти равное количество квартир, однако на последнем - больше."
      ]
    },
    {
      "cell_type": "code",
      "execution_count": null,
      "metadata": {
        "id": "fx4MVRmENqLy",
        "outputId": "e61d864a-36a0-4f6a-d9f5-d3925d054497"
      },
      "outputs": [
        {
          "data": {
            "text/plain": [
              "Text(0, 0.5, 'Количество квартир')"
            ]
          },
          "execution_count": 46,
          "metadata": {},
          "output_type": "execute_result"
        },
        {
          "data": {
            "image/png": "[encoded data removed]",
            "text/plain": [
              "<Figure size 432x288 with 1 Axes>"
            ]
          },
          "metadata": {
            "needs_background": "light"
          },
          "output_type": "display_data"
        }
      ],
      "source": [
        "# создаем диаграмму по типу этажу квартиры\n",
        "floor_counts = data['floor_type'].value_counts()\n",
        "floor_counts.plot(kind='bar')\n",
        "plt.grid(True)\n",
        "plt.title('Тип этажа квартиры')\n",
        "plt.xlabel('Тип этажа')\n",
        "plt.ylabel('Количество квартир')"
      ]
    },
    {
      "cell_type": "markdown",
      "metadata": {
        "id": "TaJowq07NqLy"
      },
      "source": [
        "**Гистограмма, показывающая распределение квартир по этажности дома.** Наибольшее число квартир находится в 5-этажном доме, много квартир находится в 9-этажных домах, что объясняется популярностью \"пятиэтажек\" и \"девятиэтажек\" в России."
      ]
    },
    {
      "cell_type": "code",
      "execution_count": null,
      "metadata": {
        "id": "Ns5YsNmwNqLy",
        "outputId": "98125129-c922-42f3-da15-ddbe94c2ebbf"
      },
      "outputs": [
        {
          "data": {
            "text/plain": [
              "Text(0, 0.5, 'Количество квартир')"
            ]
          },
          "execution_count": 47,
          "metadata": {},
          "output_type": "execute_result"
        },
        {
          "data": {
            "image/png": "[encoded data removed]",
            "text/plain": [
              "<Figure size 432x288 with 1 Axes>"
            ]
          },
          "metadata": {
            "needs_background": "light"
          },
          "output_type": "display_data"
        }
      ],
      "source": [
        "# создаем гистограмму по этажности дома\n",
        "data['floors_total'].plot(kind='hist', bins=70, range=(0, 30))\n",
        "plt.grid(True)\n",
        "plt.title('Общее количество этажей в доме')\n",
        "plt.xlabel('Этажность дома')\n",
        "plt.ylabel('Количество квартир')"
      ]
    },
    {
      "cell_type": "markdown",
      "metadata": {
        "id": "x569cmv5NqLy"
      },
      "source": [
        "**Гистограмма, показывающая распределение квартир по расстоянию до центра города.** Больше всего квартир расположено в пределах от 11 000 до 17 000 метров от центра города. Значительное количество квартир расположено на расстоянии от 5 до 10 тысяч метров от центра города. Количество квартир уменьшается по мере увеличения расстояния до центра города. Лишь несколько квартир расположены на расстоянии более 50 000 метров от центра города."
      ]
    },
    {
      "cell_type": "code",
      "execution_count": null,
      "metadata": {
        "id": "1_0QydF1NqLy",
        "outputId": "602b9fd5-949c-4183-d5f2-b6ec31395af4"
      },
      "outputs": [
        {
          "data": {
            "text/plain": [
              "Text(0, 0.5, 'Количество квартир')"
            ]
          },
          "execution_count": 48,
          "metadata": {},
          "output_type": "execute_result"
        },
        {
          "data": {
            "image/png": "[encoded data removed]",
            "text/plain": [
              "<Figure size 432x288 with 1 Axes>"
            ]
          },
          "metadata": {
            "needs_background": "light"
          },
          "output_type": "display_data"
        }
      ],
      "source": [
        "# создаем гистограмму по расстоянию до центра города\n",
        "data['cityCenters_nearest'].plot(kind='hist', bins=100)\n",
        "plt.grid(True)\n",
        "plt.title('Расстояние до центра города')\n",
        "plt.xlabel('Расстояние в метрах')\n",
        "plt.ylabel('Количество квартир')"
      ]
    },
    {
      "cell_type": "markdown",
      "metadata": {
        "id": "smkQ07bxNqLz"
      },
      "source": [
        "**Гистограмма, показывающая распределение квартир по расстоянию до ближайшего аэропорта.** Большинство квартир расположены на расстоянии от аэропорта в 10-28 км и от 30 до 38 км."
      ]
    },
    {
      "cell_type": "code",
      "execution_count": null,
      "metadata": {
        "id": "dr5QNYA6NqLz",
        "outputId": "57ae735c-7367-43c2-9066-c0be1a2e3602"
      },
      "outputs": [
        {
          "data": {
            "text/plain": [
              "Text(0, 0.5, 'Количество квартир')"
            ]
          },
          "execution_count": 49,
          "metadata": {},
          "output_type": "execute_result"
        },
        {
          "data": {
            "image/png": "[encoded data removed]",
            "text/plain": [
              "<Figure size 432x288 with 1 Axes>"
            ]
          },
          "metadata": {
            "needs_background": "light"
          },
          "output_type": "display_data"
        }
      ],
      "source": [
        "# создаем гистограмму по расстоянию до ближайшего аэропорта\n",
        "data['airports_nearest'].plot(kind='hist', bins=100)\n",
        "plt.grid(True)\n",
        "plt.title('Расстояние до ближайшего аэропорта')\n",
        "plt.xlabel('Расстояние в метрах')\n",
        "plt.ylabel('Количество квартир')"
      ]
    },
    {
      "cell_type": "markdown",
      "metadata": {
        "id": "j5G7_ARKNqLz"
      },
      "source": [
        "**Гистограмма, показывающая распределение квартир по расстоянию до ближайшего парка.** Расстояние большинства квартир до парка приходятся на интервале от 380 до 580 метров. Самое большое количество квартир находится в 400 и 420 метрах от парка. После 1000 метров количество квартир становится сильно меньше, таких квартиры единицы."
      ]
    },
    {
      "cell_type": "code",
      "execution_count": null,
      "metadata": {
        "id": "FFVcbigqNqLz",
        "outputId": "0e01406c-64b8-4f36-8de7-91c14ff8869d"
      },
      "outputs": [
        {
          "data": {
            "text/plain": [
              "Text(0, 0.5, 'Количество квартир')"
            ]
          },
          "execution_count": 50,
          "metadata": {},
          "output_type": "execute_result"
        },
        {
          "data": {
            "image/png": "[encoded data removed]",
            "text/plain": [
              "<Figure size 432x288 with 1 Axes>"
            ]
          },
          "metadata": {
            "needs_background": "light"
          },
          "output_type": "display_data"
        }
      ],
      "source": [
        "# создаем гистограмму по расстоянию до ближайшего аэропорта\n",
        "data['parks_nearest'].plot(kind='hist', bins=100, range=(0, 1000))\n",
        "plt.grid(True)\n",
        "plt.title('Расстояние до ближайшего парка')\n",
        "plt.xlabel('Расстояние в метрах')\n",
        "plt.ylabel('Количество квартир')"
      ]
    },
    {
      "cell_type": "markdown",
      "metadata": {
        "id": "eF26bU6rNqLz"
      },
      "source": [
        "<div class=\"alert alert-success\"; style=\"border-left: 7px solid green\">\n",
        "<h5> ✔️ <font color=\"green\">Комментарий ревьюера (зеленый)</font></h5>\n",
        "\n",
        "Здорово, что ты используешь range, так нагляднее.\n",
        "\n",
        "</div>"
      ]
    },
    {
      "cell_type": "markdown",
      "metadata": {
        "id": "ZDnjimhvNqLz"
      },
      "source": [
        "**Гистограмма, показывающая распределение квартир по дню и месяцу публикации объявляения.** Большинство объявлений опубликавано в будние дни, больше всех - в четверг, меньше - в воскресенье. Большинство квартир выставляются на продажу в феврале и ноябре, меньшинство в мае, январе и декабре."
      ]
    },
    {
      "cell_type": "code",
      "execution_count": null,
      "metadata": {
        "id": "mHhCN2rRNqLz",
        "outputId": "ba583ce7-93a1-48b3-d291-ef5399cb80e6"
      },
      "outputs": [
        {
          "data": {
            "image/png": "[encoded data removed]",
            "text/plain": [
              "<Figure size 432x288 with 1 Axes>"
            ]
          },
          "metadata": {
            "needs_background": "light"
          },
          "output_type": "display_data"
        },
        {
          "data": {
            "image/png": "[encoded data removed]",
            "text/plain": [
              "<Figure size 432x288 with 1 Axes>"
            ]
          },
          "metadata": {
            "needs_background": "light"
          },
          "output_type": "display_data"
        }
      ],
      "source": [
        "# создаем гистограмму по дню недели публикации\n",
        "data['weekday_published'].plot(kind='hist', bins=7)\n",
        "plt.grid(True)\n",
        "plt.title('День публикации')\n",
        "plt.xlabel('День')\n",
        "plt.ylabel('Количество квартир')\n",
        "plt.show()\n",
        "\n",
        "# создаем гистограмму по месяцу публикации\n",
        "data['month_published'].plot(kind='hist', bins=12)\n",
        "plt.grid(True)\n",
        "plt.title('Месяц публикации')\n",
        "plt.xlabel('Месяц')\n",
        "plt.ylabel('Количество квартир')\n",
        "plt.show()"
      ]
    },
    {
      "cell_type": "markdown",
      "metadata": {
        "id": "UpisYt00NqL0"
      },
      "source": [
        "**4.2 Данные о том, как быстро продавались квартиры (столбец days_exposition)**\n",
        "\n",
        "По описанию данных, среднее число дней, которое квартира опубликовано = 157, медианное = 97 дней.\n",
        "\n",
        "Судя по ящику с усами, необычно долгими являются продажи за более, чем 500 дней. Отбросим выбросы и построим график, по нему видно, что большая часть квартир продается на 45-тый день, будем считать, что квартиры проданные раньше - самые быстрые продажи, а квартиры проданные после 214 дня - самые долгие, необычно долгими явлются квартиры, проданные после 470 дня, их можно увидеть на графике с усами."
      ]
    },
    {
      "cell_type": "code",
      "execution_count": null,
      "metadata": {
        "id": "k94iKtIfNqL0",
        "outputId": "dbdb72ac-0c58-4929-af32-b6fb41830996"
      },
      "outputs": [
        {
          "data": {
            "text/plain": [
              "count    16604.000000\n",
              "mean       152.296013\n",
              "std        155.510750\n",
              "min          1.000000\n",
              "25%         44.000000\n",
              "50%         92.000000\n",
              "75%        209.000000\n",
              "max        729.000000\n",
              "Name: days_exposition, dtype: float64"
            ]
          },
          "execution_count": 52,
          "metadata": {},
          "output_type": "execute_result"
        },
        {
          "data": {
            "image/png": "[encoded data removed]",
            "text/plain": [
              "<Figure size 432x288 with 1 Axes>"
            ]
          },
          "metadata": {
            "needs_background": "light"
          },
          "output_type": "display_data"
        }
      ],
      "source": [
        "#data['days_exposition'].plot(kind='box')\n",
        "\n",
        "data['days_exposition'].hist(bins=100, range=(0, 500))\n",
        "data['days_exposition'].describe()"
      ]
    },
    {
      "cell_type": "markdown",
      "metadata": {
        "id": "Rq9G26I_NqL0"
      },
      "source": [
        "**4.3 Какие факторы больше всего влияют на общую (полную) стоимость объекта?**"
      ]
    },
    {
      "cell_type": "code",
      "execution_count": null,
      "metadata": {
        "id": "glMfhs0hNqL0",
        "outputId": "3016b443-40c7-4f89-90ae-62c83c2e518d"
      },
      "outputs": [
        {
          "data": {
            "image/png": "[encoded data removed]",
            "text/plain": [
              "<Figure size 432x288 with 1 Axes>"
            ]
          },
          "metadata": {
            "needs_background": "light"
          },
          "output_type": "display_data"
        },
        {
          "data": {
            "text/plain": [
              "Text(0.5, 1.0, 'Зависимость цены от общей площади')"
            ]
          },
          "execution_count": 53,
          "metadata": {},
          "output_type": "execute_result"
        },
        {
          "data": {
            "image/png": "[encoded data removed]",
            "text/plain": [
              "<Figure size 432x288 with 1 Axes>"
            ]
          },
          "metadata": {
            "needs_background": "light"
          },
          "output_type": "display_data"
        }
      ],
      "source": [
        "# график зависимости цены от общей площади\n",
        "data.plot(kind='scatter', x='total_area', y='last_price', grid=True, edgecolor='white', linewidth=0.5)\n",
        "plt.title('Зависимость цены от общей площади')\n",
        "plt.show()\n",
        "\n",
        "data.plot(kind='scatter', x='total_area', y='last_price', grid=True, alpha=0.2)\n",
        "plt.title('Зависимость цены от общей площади')"
      ]
    },
    {
      "cell_type": "code",
      "execution_count": null,
      "metadata": {
        "id": "7_RvwxUNNqL0",
        "outputId": "f8cda00c-0aaa-47f8-dbd9-02b2b763c229"
      },
      "outputs": [
        {
          "data": {
            "text/plain": [
              "0.619865140485222"
            ]
          },
          "execution_count": 54,
          "metadata": {},
          "output_type": "execute_result"
        }
      ],
      "source": [
        "data['total_area'].corr(data['last_price'])"
      ]
    },
    {
      "cell_type": "markdown",
      "metadata": {
        "id": "ZqiGS2nCNqL0"
      },
      "source": [
        "Величина коэффициента корреляции 0.62 говорит нам о средней положительной зависимости общей площади и цены за квартиру."
      ]
    },
    {
      "cell_type": "code",
      "execution_count": null,
      "metadata": {
        "id": "Lu5pE70SNqL1",
        "outputId": "fdc4f889-7a97-427f-8e8a-8cb9311301cb"
      },
      "outputs": [
        {
          "data": {
            "text/plain": [
              "Text(0.5, 1.0, 'Зависимость цены от жилой площади')"
            ]
          },
          "execution_count": 55,
          "metadata": {},
          "output_type": "execute_result"
        },
        {
          "data": {
            "image/png": "[encoded data removed]",
            "text/plain": [
              "<Figure size 432x288 with 1 Axes>"
            ]
          },
          "metadata": {
            "needs_background": "light"
          },
          "output_type": "display_data"
        }
      ],
      "source": [
        "# график зависимости цены от жилой площади\n",
        "data.plot(kind='scatter', x='living_area', y='last_price', grid=True, edgecolor='white', linewidth=0.5)\n",
        "plt.title('Зависимость цены от жилой площади')"
      ]
    },
    {
      "cell_type": "code",
      "execution_count": null,
      "metadata": {
        "id": "_d1U9YDLNqL1",
        "outputId": "ad895bb6-0e56-4378-8758-86a43e8a26c5"
      },
      "outputs": [
        {
          "data": {
            "text/plain": [
              "0.5256859569600739"
            ]
          },
          "execution_count": 56,
          "metadata": {},
          "output_type": "execute_result"
        }
      ],
      "source": [
        "data['living_area'].corr(data['last_price'])"
      ]
    },
    {
      "cell_type": "markdown",
      "metadata": {
        "id": "zEI6CI8tNqL1"
      },
      "source": [
        "Величина коэффициента корреляции 0.53 говорит нам о средней положительной зависимости жилой площади и цены за квартиру."
      ]
    },
    {
      "cell_type": "code",
      "execution_count": null,
      "metadata": {
        "id": "Q6C2UIjONqL1",
        "outputId": "7ccead84-d506-4112-a3ca-79182e7603dc"
      },
      "outputs": [
        {
          "data": {
            "text/plain": [
              "Text(0.5, 1.0, 'Зависимость цены от площади кухни')"
            ]
          },
          "execution_count": 57,
          "metadata": {},
          "output_type": "execute_result"
        },
        {
          "data": {
            "image/png": "[encoded data removed]",
            "text/plain": [
              "<Figure size 432x288 with 1 Axes>"
            ]
          },
          "metadata": {
            "needs_background": "light"
          },
          "output_type": "display_data"
        }
      ],
      "source": [
        "# график зависимости цены от площади кухни\n",
        "data.plot(kind='scatter', x='kitchen_area', y='last_price', grid=True, edgecolor='white', linewidth=0.5)\n",
        "plt.title('Зависимость цены от площади кухни')"
      ]
    },
    {
      "cell_type": "code",
      "execution_count": null,
      "metadata": {
        "id": "_fc8K48sNqL2",
        "outputId": "957c1623-5134-4f02-c93f-6c0b46a1c0a9"
      },
      "outputs": [
        {
          "data": {
            "text/plain": [
              "0.39599462407942865"
            ]
          },
          "execution_count": 58,
          "metadata": {},
          "output_type": "execute_result"
        }
      ],
      "source": [
        "data['kitchen_area'].corr(data['last_price'])"
      ]
    },
    {
      "cell_type": "markdown",
      "metadata": {
        "id": "8N3K2R9hNqL2"
      },
      "source": [
        "Величина коэффициента корреляции 0.4 говорит нам о слабой положительной зависимости площади кухни и цены за квартиру, в большинстве случаев мы не берем такую зависимость в расчет."
      ]
    },
    {
      "cell_type": "code",
      "execution_count": null,
      "metadata": {
        "id": "1zWaGymlNqL2",
        "outputId": "d1adf96a-295f-4166-8c56-2bf8e10b4da8"
      },
      "outputs": [
        {
          "data": {
            "text/plain": [
              "Text(0.5, 1.0, 'Зависимость цены от количества комнат')"
            ]
          },
          "execution_count": 59,
          "metadata": {},
          "output_type": "execute_result"
        },
        {
          "data": {
            "image/png": "[encoded data removed]",
            "text/plain": [
              "<Figure size 432x288 with 1 Axes>"
            ]
          },
          "metadata": {
            "needs_background": "light"
          },
          "output_type": "display_data"
        }
      ],
      "source": [
        "# график зависимости цены от количества комнат\n",
        "pivot_rooms = pd.pivot_table(data, index='rooms', values='last_price', aggfunc='median')\n",
        "pivot_rooms.plot(kind='bar')\n",
        "plt.xlabel('Количество комнат')\n",
        "plt.ylabel('Средняя цена')\n",
        "plt.title('Зависимость цены от количества комнат')"
      ]
    },
    {
      "cell_type": "code",
      "execution_count": null,
      "metadata": {
        "id": "4HXVZ9D_NqL2",
        "outputId": "e11a1cd2-3def-4362-caf6-1f555217ce22"
      },
      "outputs": [
        {
          "data": {
            "text/plain": [
              "Text(0.5, 1.0, 'Зависимость цены от типа этажа')"
            ]
          },
          "execution_count": 60,
          "metadata": {},
          "output_type": "execute_result"
        },
        {
          "data": {
            "image/png": "[encoded data removed]",
            "text/plain": [
              "<Figure size 432x288 with 1 Axes>"
            ]
          },
          "metadata": {
            "needs_background": "light"
          },
          "output_type": "display_data"
        }
      ],
      "source": [
        "# график зависимости цены от типа этажа, на котором расположена квартира\n",
        "pivot_floor_type = pd.pivot_table(data, index='floor_type', values='last_price')\n",
        "plt.bar(pivot_floor_type.index, pivot_floor_type['last_price'])\n",
        "plt.xlabel('Тип этажа')\n",
        "plt.ylabel('Цена')\n",
        "plt.title('Зависимость цены от типа этажа')\n",
        "\n",
        "#здесь мало группировок, поэтому видно, что с повышением этажа повышается цена"
      ]
    },
    {
      "cell_type": "code",
      "execution_count": null,
      "metadata": {
        "scrolled": false,
        "id": "5kOK_Y83NqL2",
        "outputId": "41d69e15-1e27-43cf-9ed5-25dc46bad080"
      },
      "outputs": [
        {
          "data": {
            "text/plain": [
              "Text(0.5, 1.0, 'Зависимость цены от года размещения')"
            ]
          },
          "execution_count": 61,
          "metadata": {},
          "output_type": "execute_result"
        },
        {
          "data": {
            "image/png": "[encoded data removed]",
            "text/plain": [
              "<Figure size 432x288 with 1 Axes>"
            ]
          },
          "metadata": {
            "needs_background": "light"
          },
          "output_type": "display_data"
        },
        {
          "data": {
            "image/png": "[encoded data removed]",
            "text/plain": [
              "<Figure size 432x288 with 1 Axes>"
            ]
          },
          "metadata": {
            "needs_background": "light"
          },
          "output_type": "display_data"
        },
        {
          "data": {
            "image/png": "[encoded data removed]",
            "text/plain": [
              "<Figure size 432x288 with 1 Axes>"
            ]
          },
          "metadata": {
            "needs_background": "light"
          },
          "output_type": "display_data"
        }
      ],
      "source": [
        "# Группировка данных по дню недели размещения и построение графика зависимости цены от дня недели\n",
        "pivot_weekday = pd.pivot_table(data, index='weekday_published', values='last_price', aggfunc='median')\n",
        "pivot_weekday.plot(kind='line')\n",
        "plt.xlabel('День недели')\n",
        "plt.ylabel('Средняя цена')\n",
        "plt.title('Зависимость цены от дня')\n",
        "\n",
        "# Группировка данных по месяцу размещения и построение графика зависимости цены от месяца\n",
        "pivot_month = pd.pivot_table(data, index='month_published', values='last_price', aggfunc='median')\n",
        "pivot_month.plot(kind='line')\n",
        "plt.xlabel('Месяц')\n",
        "plt.ylabel('Средняя цена')\n",
        "plt.title('Зависимость цены от месяца')\n",
        "\n",
        "# Группировка данных по году размещения и построение графика зависимости цены от года\n",
        "pivot_year = pd.pivot_table(data, index='year_published', values='last_price', aggfunc='median')\n",
        "pivot_year.plot(kind='line')\n",
        "plt.xlabel('Год')\n",
        "plt.ylabel('Цена')\n",
        "plt.title('Зависимость цены от года размещения')"
      ]
    },
    {
      "cell_type": "markdown",
      "metadata": {
        "id": "qHuTnwOGNqL3"
      },
      "source": [
        "**Вывод:**\n",
        "\n",
        "Графики зависимости и коэффициенты корреляции Пирсона по **зависимости цены от общей/жилой/кухонной площади** показывают положительную корреляцию, что означает, что с увеличением площади цена также имеет тенденцию к увеличению. Точки на диаграмме рассеяния сгруппированы вместе, что говорит о наличии сильной корреляции между этими двумя переменными. Однако есть и несколько выбросов, то есть точек, которые находятся дальше от остальных данных. Эти отклонения могут быть обусловлены рядом факторов, таких как местоположение квартиры, включенные в нее удобства или состояние квартиры, и все другие важные детали, которые сложно отследить. Это означает, что в целом квартиры с большей площадью, как правило, стоят дороже, чем квартиры с меньшей площадью.\n",
        "\n",
        "На графике **заивисимости цены от количества комнат** видно, что до 9 комнаты идет прямая положительная зависимость цены от количества комнат, далее на цену начинает влиять какой-то дополнительный фактор (например, этаж, расположение дома).\n",
        "\n",
        "Цена также зависит от **типа этажа**, цена увеличивается вместе с этажами, самые дешевые квартиры на первом, дорогие - на последнем.\n",
        "\n",
        "Цена сильно зависит от **дня недели**, в которое выложено объявление, в будни - дорогие квартиры, в выходные - дешевле. От **месяца** цена почти не зависит, а по графику зависимости цены от **года публикации** можно увидеть, как с 2014 года резко упал рынок недвижимости, а с 2018 стал подниматься."
      ]
    },
    {
      "cell_type": "markdown",
      "metadata": {
        "id": "XktW4qURNqL3"
      },
      "source": [
        "**4.4 Подсчет средней цены одного квадратного метра** в 10 населённых пунктах с наибольшим числом объявлений. Населенные пункты с самой высокой и низкой стоимостью квадратного метра."
      ]
    },
    {
      "cell_type": "code",
      "execution_count": null,
      "metadata": {
        "id": "91QZXcwpNqL3",
        "outputId": "41364ddf-d766-4dcb-a681-7dfb3d68b7fe"
      },
      "outputs": [
        {
          "data": {
            "text/plain": [
              "locality_name\n",
              "Санкт-Петербург      112952.748312\n",
              "Пушкин               103601.383104\n",
              "деревня Кудрово       92730.027998\n",
              "поселок Парголово     90985.954164\n",
              "поселок Мурино        85542.229730\n",
              "поселок Шушары        79307.737878\n",
              "Колпино               75436.328514\n",
              "Гатчина               68113.158024\n",
              "Всеволожск            67832.344158\n",
              "Выборг                57001.399043\n",
              "Name: price_per_sqm, dtype: float64"
            ]
          },
          "execution_count": 62,
          "metadata": {},
          "output_type": "execute_result"
        }
      ],
      "source": [
        "# выборка топ 10 населенных пунктов\n",
        "top_10_localities = data['locality_name'].value_counts().head(10).index\n",
        "# посчитаем среднюю цену одного квадратного метра в этой выборке\n",
        "average_price_per_sqm = data[data['locality_name'].isin(top_10_localities)].groupby('locality_name')['price_per_sqm'].mean()\n",
        "# выведем на экран в порядке убывания\n",
        "average_price_per_sqm.sort_values(ascending=False)"
      ]
    },
    {
      "cell_type": "code",
      "execution_count": null,
      "metadata": {
        "id": "kMbF1e24NqL4",
        "outputId": "62b11453-ecf9-420a-b33b-03c63443b5d0"
      },
      "outputs": [
        {
          "data": {
            "text/plain": [
              "<AxesSubplot:xlabel='locality_name'>"
            ]
          },
          "execution_count": 63,
          "metadata": {},
          "output_type": "execute_result"
        },
        {
          "data": {
            "image/png": "[encoded data removed]",
            "text/plain": [
              "<Figure size 432x288 with 1 Axes>"
            ]
          },
          "metadata": {
            "needs_background": "light"
          },
          "output_type": "display_data"
        }
      ],
      "source": [
        "average_price_per_sqm.sort_values().plot(kind='bar')"
      ]
    },
    {
      "cell_type": "code",
      "execution_count": null,
      "metadata": {
        "id": "lmMapAzoNqL4",
        "outputId": "6347b9ea-5312-4813-f410-76caae22eee2"
      },
      "outputs": [
        {
          "data": {
            "text/plain": [
              "locality_name\n",
              "поселок Лисий Нос    114316.860465\n",
              "Санкт-Петербург      112952.748312\n",
              "Зеленогорск          112816.699203\n",
              "Сестрорецк           103847.375736\n",
              "Пушкин               103601.383104\n",
              "Name: price_per_sqm, dtype: float64"
            ]
          },
          "execution_count": 64,
          "metadata": {},
          "output_type": "execute_result"
        }
      ],
      "source": [
        "# рассчитаем цены за метр по всему датасету\n",
        "average_price_per_sqm_total = data.groupby('locality_name')['price_per_sqm'].mean()\n",
        "average_price_per_sqm_total.sort_values(ascending=False).tail()\n",
        "average_price_per_sqm_total.sort_values(ascending=False).head()\n",
        "#data.query('locality_name == \"поселок Лисий Нос\"')"
      ]
    },
    {
      "cell_type": "markdown",
      "metadata": {
        "id": "58g_VcEENqL4"
      },
      "source": [
        "**Вывод:** Город с **самым дорогим квадратным метром - Санкт-Петербург (112 953 за м. кв.)**, не далеко от него ушел город Пушкин. Самый **дешевый** квадратный метр в выборке из 10 самых популярных населенных пунктов - **в Выборге (57 001 за м. кв.)**.\n",
        "\n",
        "Во всем датасете самый дорогой квадратный метр - в поселке Лисий Нос (на 2 тысячи дороже, чем в Санкт-петербурге), это значение не является ошибкой, так как поселок является пригородом Спб, находится на побережье Невской губы и стоит на дороге к Кронштадту, такой ценник оправдан. Самый дешевый метр по всему датасету - в деревне Старополье (10.5 тысяч за метр)."
      ]
    },
    {
      "cell_type": "markdown",
      "metadata": {
        "id": "eQt5BVUkNqL5"
      },
      "source": [
        "**4.5 Средняя цена каждого километра отдаления от центра Санкт-Петербурга**"
      ]
    },
    {
      "cell_type": "code",
      "execution_count": null,
      "metadata": {
        "scrolled": false,
        "id": "y9Z97ZOPNqL5",
        "outputId": "9c1321d1-04cc-41e3-d7fa-9774b873c2d3"
      },
      "outputs": [
        {
          "data": {
            "text/plain": [
              "Text(0.5, 1.0, 'Зависимость стоимости объектов от расстояния до центра города')"
            ]
          },
          "execution_count": 65,
          "metadata": {},
          "output_type": "execute_result"
        },
        {
          "data": {
            "image/png": "[encoded data removed]",
            "text/plain": [
              "<Figure size 720x432 with 1 Axes>"
            ]
          },
          "metadata": {
            "needs_background": "light"
          },
          "output_type": "display_data"
        }
      ],
      "source": [
        "spb_data = data.query('locality_name == \"Санкт-Петербург\"').copy()\n",
        "spb_data['price_per_km'] = spb_data['last_price'] / spb_data['good_cityCenter']\n",
        "avg_price_per_km = spb_data.groupby('good_cityCenter')['price_per_km'].mean()\n",
        "\n",
        "avg_price_per_km.plot(kind='bar', figsize=(10, 6))\n",
        "plt.xlabel('Расстояние до центра (км)')\n",
        "plt.ylabel('Средняя стоимость за км')\n",
        "plt.title('Зависимость стоимости объектов от расстояния до центра города')"
      ]
    },
    {
      "cell_type": "code",
      "execution_count": null,
      "metadata": {
        "id": "xNVHXE0wNqL5",
        "outputId": "53e7515e-5ae0-4661-ba37-d6bcd2b7435d"
      },
      "outputs": [
        {
          "data": {
            "text/plain": [
              "Text(0.5, 1.0, 'Зависимость стоимости объектов от расстояния до центра города')"
            ]
          },
          "execution_count": 66,
          "metadata": {},
          "output_type": "execute_result"
        },
        {
          "data": {
            "image/png": "[encoded data removed]",
            "text/plain": [
              "<Figure size 720x432 with 1 Axes>"
            ]
          },
          "metadata": {
            "needs_background": "light"
          },
          "output_type": "display_data"
        }
      ],
      "source": [
        "# из прошлой ячейки сгруппированы данные по километру и рассчитана медиана цены по каждому километру\n",
        "avg_price_per_km_median = spb_data.groupby('good_cityCenter')['price_per_km'].median()\n",
        "\n",
        "avg_price_per_km_median.plot(kind='bar', figsize=(10, 6))\n",
        "plt.xlabel('Расстояние до центра (км)')\n",
        "plt.ylabel('Средняя стоимость за км')\n",
        "plt.title('Зависимость стоимости объектов от расстояния до центра города')"
      ]
    },
    {
      "cell_type": "markdown",
      "metadata": {
        "id": "_8avVEjgNqL6"
      },
      "source": [
        "**Вывод:** Самые дорогие квартиры находятся в районе 1 км от центра города (11 490 000 рублей), что может объясняться близостью к основным достопримечательностям, удобствам и инфраструктуре. После этого цены начинают снижаться с увеличением расстояния от центра.\n",
        "\n",
        "После 7 км от центра цены держатся относительно на одном низком уровне. Это может свидетельствовать о более спокойных и удаленных районах, где спрос на квартиры снижается и цены остаются более стабильными."
      ]
    },
    {
      "cell_type": "markdown",
      "metadata": {
        "id": "0sLBMkjVNqL7"
      },
      "source": [
        "# Вывод:\n",
        "\n",
        "В ходе данного исследования объявлений о продаже квартир в Санкт-Петербурге и соседних населенных пунктах были выполнены следующие шаги:\n",
        "\n",
        "Обнаружено 3 704 пропущенных значения в столбце \"высота потолков\", 1 866 пропущенных значений в столбце \"площадь кухни\" и 1 447 пропущенных значений в столбце \"жилая площадь\". Большинство значений в географических данных, которые собирает система, - являются пропусками. Пропущенные значения были заполнены медианными значениями, чтобы избежать потери данных, логическими значениями, нулями или оставлены нетронутыми. Изменены типы данных для более эффективного анализа: столбцы \"цена\", \"общая площадь\", \"жилая площадь\", \"кухонная площадь\", \"количество комнат\" и \"высота потолков\" были преобразованы в числовой формат.\n",
        "\n",
        "Определены основные характеристики квартир: наиболее распространенные **площади** квартир составляют **от 50 до 100 кв. м**, наиболее часто встречаемые **цены находятся в интервале от 4 до 7 миллионов рублей**, наибольшее количество квартир имеют **кухни площадью 5-10 кв. м**, и самые часто встречаемые этажи - другие (все, кроме первого и последнего).\n",
        "\n",
        "Изучено время продажи квартир: **среднее время продажи составляет 157 дней, медианное - 97 дней**, выявлены аномально долгие продажи (после 214 дня), которые следует учесть при анализе.\n",
        "\n",
        "Проанализирована зависимость цены от различных характеристик квартир, таких как площадь, количество комнат, высота потолков, этажность дома и день недели размещения объявления. Выявлена положительная корреляция между ценой квартиры и ее площадью, а также зависимость цены от типа этажа и дня недели размещения объявления.\n",
        "\n",
        "Изучены цены на квадратный метр недвижимости в различных населенных пунктах. **Самый дорогой квадратный метр - в Санкт-Петербурге с ценой 112 953 рублей, а самый дешевый - в Выборге с ценой 57 001 рублей**.\n",
        "Изучено влияние удаленности от центра города на цену квартиры. Квартиры в районе 1 км от центра имеют среднюю цену 11 490 000 рублей, а с увеличением расстояния от центра цены снижаются.\n",
        "\n",
        "Промежуточные выводы:\n",
        "- Определены характеристики квартир, которые наиболее влияют на их стоимость: площадь, количество комнат и удаленность от центра города.\n",
        "- Выявлены особенности рынка недвижимости в Санкт-Петербурге и соседних населенных пунктах, такие как различие в стоимости квадратного метра и зависимость цены от удаленности от центра.\n",
        "- Обнаружены аномалии в данных, которые могут повлиять на результаты анализа и требуют дополнительного внимания.\n",
        "\n",
        "Проведенное исследование поможет понять особенности рынка недвижимости в регионе и может быть использовано для разработки автоматизированной системы анализа объявлений о продаже квартир, что позволит более точно выявлять аномалии и мошенническую деятельность. Полученные результаты станут полезным инструментом для принятия решений в сфере недвижимости и помогут определить оптимальные параметры для продажи квартир.\n"
      ]
    }
  ],
  "metadata": {
    "ExecuteTimeLog": [
      {
        "duration": 801,
        "start_time": "2023-07-16T16:27:07.812Z"
      },
      {
        "duration": 95,
        "start_time": "2023-07-16T16:30:13.952Z"
      },
      {
        "duration": 83,
        "start_time": "2023-07-16T16:30:16.491Z"
      },
      {
        "duration": 122,
        "start_time": "2023-07-16T16:30:28.848Z"
      },
      {
        "duration": 15,
        "start_time": "2023-07-16T16:33:09.997Z"
      },
      {
        "duration": 109,
        "start_time": "2023-07-16T16:33:37.919Z"
      },
      {
        "duration": 114,
        "start_time": "2023-07-16T16:33:47.994Z"
      },
      {
        "duration": 2438,
        "start_time": "2023-07-16T16:41:39.757Z"
      },
      {
        "duration": 13,
        "start_time": "2023-07-16T17:47:12.228Z"
      },
      {
        "duration": 177,
        "start_time": "2023-07-16T17:48:00.326Z"
      },
      {
        "duration": 7,
        "start_time": "2023-07-16T17:57:56.967Z"
      },
      {
        "duration": 155,
        "start_time": "2023-07-16T18:17:06.348Z"
      },
      {
        "duration": 137,
        "start_time": "2023-07-16T18:17:22.396Z"
      },
      {
        "duration": 135,
        "start_time": "2023-07-16T18:17:26.849Z"
      },
      {
        "duration": 150,
        "start_time": "2023-07-16T18:17:30.930Z"
      },
      {
        "duration": 76,
        "start_time": "2023-07-16T18:18:35.875Z"
      },
      {
        "duration": 112,
        "start_time": "2023-07-16T18:18:46.435Z"
      },
      {
        "duration": 228,
        "start_time": "2023-07-16T18:19:13.241Z"
      },
      {
        "duration": 357,
        "start_time": "2023-07-16T18:19:18.805Z"
      },
      {
        "duration": 134,
        "start_time": "2023-07-16T18:21:03.761Z"
      },
      {
        "duration": 17,
        "start_time": "2023-07-16T18:21:23.532Z"
      },
      {
        "duration": 189,
        "start_time": "2023-07-16T18:21:26.982Z"
      },
      {
        "duration": 246,
        "start_time": "2023-07-16T18:21:39.649Z"
      },
      {
        "duration": 416,
        "start_time": "2023-07-16T18:21:44.836Z"
      },
      {
        "duration": 139,
        "start_time": "2023-07-16T18:22:15.115Z"
      },
      {
        "duration": 170,
        "start_time": "2023-07-16T18:22:25.296Z"
      },
      {
        "duration": 331,
        "start_time": "2023-07-16T18:22:29.262Z"
      },
      {
        "duration": 374,
        "start_time": "2023-07-16T18:22:37.100Z"
      },
      {
        "duration": 163,
        "start_time": "2023-07-16T18:29:00.064Z"
      },
      {
        "duration": 172,
        "start_time": "2023-07-16T18:29:15.769Z"
      },
      {
        "duration": 300,
        "start_time": "2023-07-16T18:29:34.796Z"
      },
      {
        "duration": 156,
        "start_time": "2023-07-16T18:29:45.868Z"
      },
      {
        "duration": 167,
        "start_time": "2023-07-16T18:32:51.767Z"
      },
      {
        "duration": 7,
        "start_time": "2023-07-16T18:33:59.448Z"
      },
      {
        "duration": 5,
        "start_time": "2023-07-16T18:40:12.818Z"
      },
      {
        "duration": 7,
        "start_time": "2023-07-16T18:51:58.632Z"
      },
      {
        "duration": 6,
        "start_time": "2023-07-16T18:52:22.680Z"
      },
      {
        "duration": 5,
        "start_time": "2023-07-16T18:52:26.371Z"
      },
      {
        "duration": 70,
        "start_time": "2023-07-16T18:56:20.105Z"
      },
      {
        "duration": 23,
        "start_time": "2023-07-16T19:02:06.418Z"
      },
      {
        "duration": 25,
        "start_time": "2023-07-16T19:03:51.303Z"
      },
      {
        "duration": 683,
        "start_time": "2023-07-16T19:06:03.169Z"
      },
      {
        "duration": 6,
        "start_time": "2023-07-16T19:06:58.593Z"
      },
      {
        "duration": 5,
        "start_time": "2023-07-16T19:10:46.416Z"
      },
      {
        "duration": 8,
        "start_time": "2023-07-16T19:11:06.530Z"
      },
      {
        "duration": 72,
        "start_time": "2023-07-16T19:20:39.151Z"
      },
      {
        "duration": 6,
        "start_time": "2023-07-16T19:20:43.201Z"
      },
      {
        "duration": 6,
        "start_time": "2023-07-16T19:20:59.484Z"
      },
      {
        "duration": 5,
        "start_time": "2023-07-16T19:21:04.632Z"
      },
      {
        "duration": 6,
        "start_time": "2023-07-16T19:23:34.851Z"
      },
      {
        "duration": 5,
        "start_time": "2023-07-16T19:24:16.298Z"
      },
      {
        "duration": 6,
        "start_time": "2023-07-16T19:29:40.437Z"
      },
      {
        "duration": 12,
        "start_time": "2023-07-16T19:29:53.503Z"
      },
      {
        "duration": 6,
        "start_time": "2023-07-16T19:30:03.311Z"
      },
      {
        "duration": 7,
        "start_time": "2023-07-16T19:39:02.566Z"
      },
      {
        "duration": 5,
        "start_time": "2023-07-16T19:39:07.847Z"
      },
      {
        "duration": 44,
        "start_time": "2023-07-16T19:40:32.031Z"
      },
      {
        "duration": 19,
        "start_time": "2023-07-16T19:41:49.755Z"
      },
      {
        "duration": 19,
        "start_time": "2023-07-16T19:41:53.693Z"
      },
      {
        "duration": 54,
        "start_time": "2023-07-16T19:42:04.986Z"
      },
      {
        "duration": 5,
        "start_time": "2023-07-16T19:42:20.034Z"
      },
      {
        "duration": 43,
        "start_time": "2023-07-16T19:42:27.371Z"
      },
      {
        "duration": 8,
        "start_time": "2023-07-16T19:51:22.635Z"
      },
      {
        "duration": 9,
        "start_time": "2023-07-16T19:53:56.788Z"
      },
      {
        "duration": 10,
        "start_time": "2023-07-16T19:54:16.193Z"
      },
      {
        "duration": 13,
        "start_time": "2023-07-16T19:54:26.844Z"
      },
      {
        "duration": 33,
        "start_time": "2023-07-16T19:56:25.208Z"
      },
      {
        "duration": 20,
        "start_time": "2023-07-16T19:56:55.606Z"
      },
      {
        "duration": 11,
        "start_time": "2023-07-16T19:57:50.085Z"
      },
      {
        "duration": 11,
        "start_time": "2023-07-16T19:59:51.618Z"
      },
      {
        "duration": 52,
        "start_time": "2023-07-16T20:06:01.187Z"
      },
      {
        "duration": 13,
        "start_time": "2023-07-16T20:06:19.512Z"
      },
      {
        "duration": 13,
        "start_time": "2023-07-16T20:11:58.177Z"
      },
      {
        "duration": 181,
        "start_time": "2023-07-16T20:13:03.028Z"
      },
      {
        "duration": 16,
        "start_time": "2023-07-16T20:15:46.253Z"
      },
      {
        "duration": 10,
        "start_time": "2023-07-16T20:19:56.735Z"
      },
      {
        "duration": 1899,
        "start_time": "2023-07-16T20:35:09.250Z"
      },
      {
        "duration": 5,
        "start_time": "2023-07-16T20:35:24.994Z"
      },
      {
        "duration": 11,
        "start_time": "2023-07-16T20:35:37.060Z"
      },
      {
        "duration": 1257,
        "start_time": "2023-07-16T20:35:44.700Z"
      },
      {
        "duration": 12,
        "start_time": "2023-07-16T20:36:47.890Z"
      },
      {
        "duration": 8,
        "start_time": "2023-07-16T20:37:48.088Z"
      },
      {
        "duration": 10,
        "start_time": "2023-07-16T20:38:59.648Z"
      },
      {
        "duration": 12,
        "start_time": "2023-07-16T20:40:34.092Z"
      },
      {
        "duration": 11,
        "start_time": "2023-07-16T20:41:26.845Z"
      },
      {
        "duration": 13,
        "start_time": "2023-07-16T20:41:33.357Z"
      },
      {
        "duration": 10,
        "start_time": "2023-07-16T20:41:55.512Z"
      },
      {
        "duration": 12,
        "start_time": "2023-07-16T20:42:13.188Z"
      },
      {
        "duration": 7,
        "start_time": "2023-07-16T20:42:32.234Z"
      },
      {
        "duration": 11,
        "start_time": "2023-07-16T20:42:59.144Z"
      },
      {
        "duration": 12,
        "start_time": "2023-07-16T20:43:46.393Z"
      },
      {
        "duration": 10,
        "start_time": "2023-07-16T20:44:37.394Z"
      },
      {
        "duration": 10,
        "start_time": "2023-07-16T20:44:53.791Z"
      },
      {
        "duration": 12,
        "start_time": "2023-07-16T20:46:14.753Z"
      },
      {
        "duration": 8,
        "start_time": "2023-07-16T20:49:19.590Z"
      },
      {
        "duration": 10,
        "start_time": "2023-07-16T20:51:10.107Z"
      },
      {
        "duration": 11,
        "start_time": "2023-07-16T20:57:24.074Z"
      },
      {
        "duration": 12,
        "start_time": "2023-07-16T20:57:48.988Z"
      },
      {
        "duration": 6,
        "start_time": "2023-07-16T20:59:59.586Z"
      },
      {
        "duration": 16,
        "start_time": "2023-07-16T21:00:21.125Z"
      },
      {
        "duration": 9,
        "start_time": "2023-07-16T21:16:07.804Z"
      },
      {
        "duration": 9,
        "start_time": "2023-07-16T21:17:04.600Z"
      },
      {
        "duration": 11,
        "start_time": "2023-07-16T21:23:24.909Z"
      },
      {
        "duration": 6,
        "start_time": "2023-07-16T21:23:32.142Z"
      },
      {
        "duration": 8,
        "start_time": "2023-07-16T21:54:49.223Z"
      },
      {
        "duration": 17,
        "start_time": "2023-07-16T21:55:07.284Z"
      },
      {
        "duration": 21,
        "start_time": "2023-07-16T21:55:50.361Z"
      },
      {
        "duration": 11,
        "start_time": "2023-07-16T21:55:53.924Z"
      },
      {
        "duration": 17,
        "start_time": "2023-07-16T21:56:03.524Z"
      },
      {
        "duration": 16,
        "start_time": "2023-07-16T21:56:06.790Z"
      },
      {
        "duration": 49,
        "start_time": "2023-07-16T21:56:44.922Z"
      },
      {
        "duration": 510,
        "start_time": "2023-07-16T21:56:51.578Z"
      },
      {
        "duration": 110,
        "start_time": "2023-07-16T21:56:54.700Z"
      },
      {
        "duration": 15,
        "start_time": "2023-07-16T21:56:54.812Z"
      },
      {
        "duration": 2251,
        "start_time": "2023-07-16T21:56:54.828Z"
      },
      {
        "duration": 9,
        "start_time": "2023-07-16T21:56:57.081Z"
      },
      {
        "duration": 12,
        "start_time": "2023-07-16T21:56:57.093Z"
      },
      {
        "duration": 5,
        "start_time": "2023-07-16T21:56:57.107Z"
      },
      {
        "duration": 59,
        "start_time": "2023-07-16T21:56:57.114Z"
      },
      {
        "duration": 0,
        "start_time": "2023-07-16T21:56:57.174Z"
      },
      {
        "duration": 0,
        "start_time": "2023-07-16T21:56:57.175Z"
      },
      {
        "duration": 0,
        "start_time": "2023-07-16T21:56:57.177Z"
      },
      {
        "duration": 16,
        "start_time": "2023-07-16T21:57:20.018Z"
      },
      {
        "duration": 18,
        "start_time": "2023-07-16T21:57:23.502Z"
      },
      {
        "duration": 20,
        "start_time": "2023-07-16T21:57:39.910Z"
      },
      {
        "duration": 10,
        "start_time": "2023-07-16T21:57:42.298Z"
      },
      {
        "duration": 19,
        "start_time": "2023-07-16T21:58:07.976Z"
      },
      {
        "duration": 17,
        "start_time": "2023-07-16T21:58:11.690Z"
      },
      {
        "duration": 9,
        "start_time": "2023-07-16T21:58:20.352Z"
      },
      {
        "duration": 149,
        "start_time": "2023-07-16T21:59:40.391Z"
      },
      {
        "duration": 118,
        "start_time": "2023-07-16T21:59:45.085Z"
      },
      {
        "duration": 16,
        "start_time": "2023-07-16T21:59:45.206Z"
      },
      {
        "duration": 2207,
        "start_time": "2023-07-16T21:59:45.224Z"
      },
      {
        "duration": 24,
        "start_time": "2023-07-16T21:59:47.433Z"
      },
      {
        "duration": 29,
        "start_time": "2023-07-16T21:59:47.459Z"
      },
      {
        "duration": 28,
        "start_time": "2023-07-16T21:59:47.490Z"
      },
      {
        "duration": 19,
        "start_time": "2023-07-16T21:59:47.520Z"
      },
      {
        "duration": 43,
        "start_time": "2023-07-16T21:59:47.541Z"
      },
      {
        "duration": 5,
        "start_time": "2023-07-16T21:59:47.586Z"
      },
      {
        "duration": 197,
        "start_time": "2023-07-16T21:59:47.593Z"
      },
      {
        "duration": 49,
        "start_time": "2023-07-17T10:14:27.565Z"
      },
      {
        "duration": 579,
        "start_time": "2023-07-17T10:14:34.538Z"
      },
      {
        "duration": 14,
        "start_time": "2023-07-17T10:14:35.119Z"
      },
      {
        "duration": 2431,
        "start_time": "2023-07-17T10:14:35.134Z"
      },
      {
        "duration": 10,
        "start_time": "2023-07-17T10:14:37.566Z"
      },
      {
        "duration": 10,
        "start_time": "2023-07-17T10:14:37.578Z"
      },
      {
        "duration": 26,
        "start_time": "2023-07-17T10:14:37.589Z"
      },
      {
        "duration": 26,
        "start_time": "2023-07-17T10:14:37.617Z"
      },
      {
        "duration": 7,
        "start_time": "2023-07-17T10:14:37.645Z"
      },
      {
        "duration": 13,
        "start_time": "2023-07-17T10:14:37.654Z"
      },
      {
        "duration": 5,
        "start_time": "2023-07-17T10:14:37.668Z"
      },
      {
        "duration": 174,
        "start_time": "2023-07-17T10:14:37.674Z"
      },
      {
        "duration": 17,
        "start_time": "2023-07-17T10:27:20.791Z"
      },
      {
        "duration": 14,
        "start_time": "2023-07-17T10:54:01.521Z"
      },
      {
        "duration": 6,
        "start_time": "2023-07-17T11:06:45.104Z"
      },
      {
        "duration": 5,
        "start_time": "2023-07-17T11:09:37.062Z"
      },
      {
        "duration": 9,
        "start_time": "2023-07-17T11:29:53.686Z"
      },
      {
        "duration": 1226,
        "start_time": "2023-07-18T12:09:06.947Z"
      },
      {
        "duration": 16,
        "start_time": "2023-07-18T12:09:08.176Z"
      },
      {
        "duration": 3232,
        "start_time": "2023-07-18T12:09:08.195Z"
      },
      {
        "duration": 15,
        "start_time": "2023-07-18T12:09:11.430Z"
      },
      {
        "duration": 11,
        "start_time": "2023-07-18T12:09:11.449Z"
      },
      {
        "duration": 28,
        "start_time": "2023-07-18T12:09:11.466Z"
      },
      {
        "duration": 36,
        "start_time": "2023-07-18T12:09:11.496Z"
      },
      {
        "duration": 9,
        "start_time": "2023-07-18T12:09:11.534Z"
      },
      {
        "duration": 26,
        "start_time": "2023-07-18T12:09:11.546Z"
      },
      {
        "duration": 42,
        "start_time": "2023-07-18T12:09:11.575Z"
      },
      {
        "duration": 22,
        "start_time": "2023-07-18T12:09:11.619Z"
      },
      {
        "duration": 16,
        "start_time": "2023-07-18T12:09:11.643Z"
      },
      {
        "duration": 221,
        "start_time": "2023-07-18T12:09:11.662Z"
      },
      {
        "duration": 84,
        "start_time": "2023-07-18T12:43:10.055Z"
      },
      {
        "duration": 22,
        "start_time": "2023-07-18T12:43:40.576Z"
      },
      {
        "duration": 18,
        "start_time": "2023-07-18T12:44:56.744Z"
      },
      {
        "duration": 7,
        "start_time": "2023-07-18T12:55:02.312Z"
      },
      {
        "duration": 124,
        "start_time": "2023-07-18T12:58:53.426Z"
      },
      {
        "duration": 15,
        "start_time": "2023-07-18T13:04:27.771Z"
      },
      {
        "duration": 56,
        "start_time": "2023-07-18T13:04:53.396Z"
      },
      {
        "duration": 19,
        "start_time": "2023-07-18T13:06:39.284Z"
      },
      {
        "duration": 14,
        "start_time": "2023-07-18T13:07:09.030Z"
      },
      {
        "duration": 15,
        "start_time": "2023-07-18T13:09:07.999Z"
      },
      {
        "duration": 21,
        "start_time": "2023-07-18T13:09:17.300Z"
      },
      {
        "duration": 9,
        "start_time": "2023-07-18T13:10:02.760Z"
      },
      {
        "duration": 20,
        "start_time": "2023-07-18T13:12:09.976Z"
      },
      {
        "duration": 9,
        "start_time": "2023-07-18T13:12:32.960Z"
      },
      {
        "duration": 10,
        "start_time": "2023-07-18T13:16:11.918Z"
      },
      {
        "duration": 20,
        "start_time": "2023-07-18T13:17:28.862Z"
      },
      {
        "duration": 22,
        "start_time": "2023-07-18T13:17:40.403Z"
      },
      {
        "duration": 23,
        "start_time": "2023-07-18T13:18:12.123Z"
      },
      {
        "duration": 18,
        "start_time": "2023-07-18T13:18:26.803Z"
      },
      {
        "duration": 13,
        "start_time": "2023-07-18T13:19:27.010Z"
      },
      {
        "duration": 153,
        "start_time": "2023-07-18T13:19:54.650Z"
      },
      {
        "duration": 14,
        "start_time": "2023-07-18T13:19:54.805Z"
      },
      {
        "duration": 2217,
        "start_time": "2023-07-18T13:19:54.821Z"
      },
      {
        "duration": 35,
        "start_time": "2023-07-18T13:19:57.040Z"
      },
      {
        "duration": 7,
        "start_time": "2023-07-18T13:19:57.080Z"
      },
      {
        "duration": 123,
        "start_time": "2023-07-18T13:19:57.089Z"
      },
      {
        "duration": 16,
        "start_time": "2023-07-18T13:19:57.214Z"
      },
      {
        "duration": 8,
        "start_time": "2023-07-18T13:19:57.232Z"
      },
      {
        "duration": 233,
        "start_time": "2023-07-18T13:19:57.242Z"
      },
      {
        "duration": 106,
        "start_time": "2023-07-18T13:19:57.477Z"
      },
      {
        "duration": 24,
        "start_time": "2023-07-18T13:19:57.586Z"
      },
      {
        "duration": 52,
        "start_time": "2023-07-18T13:19:57.611Z"
      },
      {
        "duration": 0,
        "start_time": "2023-07-18T13:19:57.669Z"
      },
      {
        "duration": 0,
        "start_time": "2023-07-18T13:19:57.670Z"
      },
      {
        "duration": 25,
        "start_time": "2023-07-18T13:20:39.245Z"
      },
      {
        "duration": 12,
        "start_time": "2023-07-18T13:21:25.776Z"
      },
      {
        "duration": 147,
        "start_time": "2023-07-18T13:21:37.630Z"
      },
      {
        "duration": 20,
        "start_time": "2023-07-18T13:21:37.780Z"
      },
      {
        "duration": 2478,
        "start_time": "2023-07-18T13:21:37.802Z"
      },
      {
        "duration": 11,
        "start_time": "2023-07-18T13:21:40.282Z"
      },
      {
        "duration": 9,
        "start_time": "2023-07-18T13:21:40.296Z"
      },
      {
        "duration": 16,
        "start_time": "2023-07-18T13:21:40.307Z"
      },
      {
        "duration": 21,
        "start_time": "2023-07-18T13:21:40.325Z"
      },
      {
        "duration": 39,
        "start_time": "2023-07-18T13:21:40.348Z"
      },
      {
        "duration": 30,
        "start_time": "2023-07-18T13:21:40.389Z"
      },
      {
        "duration": 14,
        "start_time": "2023-07-18T13:21:40.421Z"
      },
      {
        "duration": 51,
        "start_time": "2023-07-18T13:21:40.437Z"
      },
      {
        "duration": 30,
        "start_time": "2023-07-18T13:21:40.491Z"
      },
      {
        "duration": 33,
        "start_time": "2023-07-18T13:21:40.523Z"
      },
      {
        "duration": 0,
        "start_time": "2023-07-18T13:21:40.561Z"
      },
      {
        "duration": 0,
        "start_time": "2023-07-18T13:21:40.564Z"
      },
      {
        "duration": 19,
        "start_time": "2023-07-18T13:25:02.636Z"
      },
      {
        "duration": 10,
        "start_time": "2023-07-18T13:28:00.681Z"
      },
      {
        "duration": 48,
        "start_time": "2023-07-18T19:59:27.256Z"
      },
      {
        "duration": 8,
        "start_time": "2023-07-18T19:59:41.598Z"
      },
      {
        "duration": 1019,
        "start_time": "2023-07-18T19:59:46.631Z"
      },
      {
        "duration": 14,
        "start_time": "2023-07-18T19:59:47.652Z"
      },
      {
        "duration": 2480,
        "start_time": "2023-07-18T19:59:47.667Z"
      },
      {
        "duration": 12,
        "start_time": "2023-07-18T19:59:50.149Z"
      },
      {
        "duration": 34,
        "start_time": "2023-07-18T19:59:50.164Z"
      },
      {
        "duration": 9,
        "start_time": "2023-07-18T19:59:50.200Z"
      },
      {
        "duration": 19,
        "start_time": "2023-07-18T19:59:50.211Z"
      },
      {
        "duration": 9,
        "start_time": "2023-07-18T19:59:50.232Z"
      },
      {
        "duration": 14,
        "start_time": "2023-07-18T19:59:50.243Z"
      },
      {
        "duration": 12,
        "start_time": "2023-07-18T19:59:50.259Z"
      },
      {
        "duration": 14,
        "start_time": "2023-07-18T19:59:50.272Z"
      },
      {
        "duration": 31,
        "start_time": "2023-07-18T19:59:50.287Z"
      },
      {
        "duration": 61,
        "start_time": "2023-07-18T19:59:50.320Z"
      },
      {
        "duration": 0,
        "start_time": "2023-07-18T19:59:50.383Z"
      },
      {
        "duration": 0,
        "start_time": "2023-07-18T19:59:50.384Z"
      },
      {
        "duration": 9,
        "start_time": "2023-07-18T20:04:12.377Z"
      },
      {
        "duration": 8,
        "start_time": "2023-07-18T20:09:38.989Z"
      },
      {
        "duration": 16,
        "start_time": "2023-07-18T20:13:15.380Z"
      },
      {
        "duration": 16,
        "start_time": "2023-07-18T20:13:45.484Z"
      },
      {
        "duration": 25,
        "start_time": "2023-07-18T20:15:03.071Z"
      },
      {
        "duration": 2559,
        "start_time": "2023-07-18T20:17:29.132Z"
      },
      {
        "duration": 130,
        "start_time": "2023-07-18T20:17:41.410Z"
      },
      {
        "duration": 20,
        "start_time": "2023-07-18T20:17:41.542Z"
      },
      {
        "duration": 2163,
        "start_time": "2023-07-18T20:17:41.564Z"
      },
      {
        "duration": 11,
        "start_time": "2023-07-18T20:17:43.729Z"
      },
      {
        "duration": 8,
        "start_time": "2023-07-18T20:17:43.753Z"
      },
      {
        "duration": 9,
        "start_time": "2023-07-18T20:17:43.763Z"
      },
      {
        "duration": 19,
        "start_time": "2023-07-18T20:17:43.773Z"
      },
      {
        "duration": 29,
        "start_time": "2023-07-18T20:17:43.794Z"
      },
      {
        "duration": 11,
        "start_time": "2023-07-18T20:17:43.825Z"
      },
      {
        "duration": 17,
        "start_time": "2023-07-18T20:17:43.839Z"
      },
      {
        "duration": 20,
        "start_time": "2023-07-18T20:17:43.858Z"
      },
      {
        "duration": 0,
        "start_time": "2023-07-18T20:17:43.879Z"
      },
      {
        "duration": 0,
        "start_time": "2023-07-18T20:17:43.881Z"
      },
      {
        "duration": 0,
        "start_time": "2023-07-18T20:17:43.882Z"
      },
      {
        "duration": 0,
        "start_time": "2023-07-18T20:17:43.883Z"
      },
      {
        "duration": 0,
        "start_time": "2023-07-18T20:17:43.885Z"
      },
      {
        "duration": 10,
        "start_time": "2023-07-18T20:20:07.679Z"
      },
      {
        "duration": 11,
        "start_time": "2023-07-18T20:20:27.173Z"
      },
      {
        "duration": 3,
        "start_time": "2023-07-18T20:23:41.813Z"
      },
      {
        "duration": 9,
        "start_time": "2023-07-18T20:23:44.596Z"
      },
      {
        "duration": 116,
        "start_time": "2023-07-18T20:23:52.620Z"
      },
      {
        "duration": 17,
        "start_time": "2023-07-18T20:23:52.737Z"
      },
      {
        "duration": 2086,
        "start_time": "2023-07-18T20:23:52.755Z"
      },
      {
        "duration": 16,
        "start_time": "2023-07-18T20:23:54.843Z"
      },
      {
        "duration": 22,
        "start_time": "2023-07-18T20:23:54.860Z"
      },
      {
        "duration": 19,
        "start_time": "2023-07-18T20:23:54.884Z"
      },
      {
        "duration": 23,
        "start_time": "2023-07-18T20:23:54.905Z"
      },
      {
        "duration": 12,
        "start_time": "2023-07-18T20:23:54.930Z"
      },
      {
        "duration": 17,
        "start_time": "2023-07-18T20:23:54.944Z"
      },
      {
        "duration": 12,
        "start_time": "2023-07-18T20:23:54.963Z"
      },
      {
        "duration": 32,
        "start_time": "2023-07-18T20:23:54.977Z"
      },
      {
        "duration": 46,
        "start_time": "2023-07-18T20:23:55.011Z"
      },
      {
        "duration": 29,
        "start_time": "2023-07-18T20:23:55.059Z"
      },
      {
        "duration": 28,
        "start_time": "2023-07-18T20:23:55.090Z"
      },
      {
        "duration": 8,
        "start_time": "2023-07-18T20:23:55.120Z"
      },
      {
        "duration": 174,
        "start_time": "2023-07-18T20:23:55.130Z"
      },
      {
        "duration": 28,
        "start_time": "2023-07-18T20:42:17.717Z"
      },
      {
        "duration": 7,
        "start_time": "2023-07-18T20:44:43.851Z"
      },
      {
        "duration": 9,
        "start_time": "2023-07-18T20:45:51.748Z"
      },
      {
        "duration": 5,
        "start_time": "2023-07-18T20:45:57.433Z"
      },
      {
        "duration": 9,
        "start_time": "2023-07-18T20:48:05.270Z"
      },
      {
        "duration": 8,
        "start_time": "2023-07-18T20:48:12.700Z"
      },
      {
        "duration": 7,
        "start_time": "2023-07-18T20:48:52.214Z"
      },
      {
        "duration": 57,
        "start_time": "2023-07-18T22:13:39.795Z"
      },
      {
        "duration": 61,
        "start_time": "2023-07-18T22:14:51.511Z"
      },
      {
        "duration": 66,
        "start_time": "2023-07-18T22:15:38.738Z"
      },
      {
        "duration": 36,
        "start_time": "2023-07-18T22:16:17.733Z"
      },
      {
        "duration": 38,
        "start_time": "2023-07-18T22:17:23.749Z"
      },
      {
        "duration": 47,
        "start_time": "2023-07-18T22:17:40.891Z"
      },
      {
        "duration": 45,
        "start_time": "2023-07-18T22:18:03.414Z"
      },
      {
        "duration": 38,
        "start_time": "2023-07-18T22:18:44.380Z"
      },
      {
        "duration": 48,
        "start_time": "2023-07-18T22:19:28.689Z"
      },
      {
        "duration": 47,
        "start_time": "2023-07-18T22:20:37.946Z"
      },
      {
        "duration": 42,
        "start_time": "2023-07-18T22:21:43.476Z"
      },
      {
        "duration": 50,
        "start_time": "2023-07-18T22:24:23.037Z"
      },
      {
        "duration": 40,
        "start_time": "2023-07-18T22:24:42.740Z"
      },
      {
        "duration": 14,
        "start_time": "2023-07-18T22:27:06.740Z"
      },
      {
        "duration": 23,
        "start_time": "2023-07-18T22:27:18.842Z"
      },
      {
        "duration": 14,
        "start_time": "2023-07-18T22:28:24.810Z"
      },
      {
        "duration": 25,
        "start_time": "2023-07-18T22:28:47.501Z"
      },
      {
        "duration": 10,
        "start_time": "2023-07-18T22:28:58.106Z"
      },
      {
        "duration": 9,
        "start_time": "2023-07-18T22:33:01.846Z"
      },
      {
        "duration": 5,
        "start_time": "2023-07-18T22:38:13.231Z"
      },
      {
        "duration": 134,
        "start_time": "2023-07-18T22:39:16.828Z"
      },
      {
        "duration": 124,
        "start_time": "2023-07-18T22:39:37.503Z"
      },
      {
        "duration": 5,
        "start_time": "2023-07-18T22:39:46.743Z"
      },
      {
        "duration": 11,
        "start_time": "2023-07-18T22:40:00.739Z"
      },
      {
        "duration": 9,
        "start_time": "2023-07-18T22:40:41.168Z"
      },
      {
        "duration": 9,
        "start_time": "2023-07-18T22:41:55.103Z"
      },
      {
        "duration": 29,
        "start_time": "2023-07-18T22:47:39.796Z"
      },
      {
        "duration": 11,
        "start_time": "2023-07-18T22:47:58.533Z"
      },
      {
        "duration": 11,
        "start_time": "2023-07-18T22:48:19.711Z"
      },
      {
        "duration": 12,
        "start_time": "2023-07-18T22:49:01.861Z"
      },
      {
        "duration": 11,
        "start_time": "2023-07-18T22:49:14.829Z"
      },
      {
        "duration": 27,
        "start_time": "2023-07-18T22:50:26.111Z"
      },
      {
        "duration": 27,
        "start_time": "2023-07-18T22:50:46.089Z"
      },
      {
        "duration": 27,
        "start_time": "2023-07-18T22:50:52.239Z"
      },
      {
        "duration": 8,
        "start_time": "2023-07-18T22:51:22.724Z"
      },
      {
        "duration": 49,
        "start_time": "2023-07-18T22:51:43.671Z"
      },
      {
        "duration": 37,
        "start_time": "2023-07-18T22:51:52.927Z"
      },
      {
        "duration": 11,
        "start_time": "2023-07-18T22:54:22.171Z"
      },
      {
        "duration": 34,
        "start_time": "2023-07-18T22:55:48.334Z"
      },
      {
        "duration": 42,
        "start_time": "2023-07-18T22:57:55.309Z"
      },
      {
        "duration": 25,
        "start_time": "2023-07-18T22:59:44.603Z"
      },
      {
        "duration": 19,
        "start_time": "2023-07-18T23:00:00.310Z"
      },
      {
        "duration": 18,
        "start_time": "2023-07-18T23:00:54.716Z"
      },
      {
        "duration": 14,
        "start_time": "2023-07-18T23:05:49.634Z"
      },
      {
        "duration": 5,
        "start_time": "2023-07-18T23:08:54.632Z"
      },
      {
        "duration": 10,
        "start_time": "2023-07-18T23:09:54.369Z"
      },
      {
        "duration": 10,
        "start_time": "2023-07-18T23:10:07.122Z"
      },
      {
        "duration": 10,
        "start_time": "2023-07-18T23:10:12.749Z"
      },
      {
        "duration": 11,
        "start_time": "2023-07-18T23:10:34.262Z"
      },
      {
        "duration": 13,
        "start_time": "2023-07-18T23:12:13.169Z"
      },
      {
        "duration": 9,
        "start_time": "2023-07-18T23:12:21.466Z"
      },
      {
        "duration": 10,
        "start_time": "2023-07-18T23:12:26.815Z"
      },
      {
        "duration": 5,
        "start_time": "2023-07-18T23:16:15.116Z"
      },
      {
        "duration": 10,
        "start_time": "2023-07-18T23:18:36.919Z"
      },
      {
        "duration": 20,
        "start_time": "2023-07-18T23:18:48.651Z"
      },
      {
        "duration": 132,
        "start_time": "2023-07-18T23:26:38.345Z"
      },
      {
        "duration": 139,
        "start_time": "2023-07-18T23:26:43.664Z"
      },
      {
        "duration": 165,
        "start_time": "2023-07-18T23:26:51.947Z"
      },
      {
        "duration": 286,
        "start_time": "2023-07-18T23:27:00.027Z"
      },
      {
        "duration": 196,
        "start_time": "2023-07-18T23:27:16.147Z"
      },
      {
        "duration": 115,
        "start_time": "2023-07-18T23:27:36.966Z"
      },
      {
        "duration": 13,
        "start_time": "2023-07-18T23:27:37.083Z"
      },
      {
        "duration": 1988,
        "start_time": "2023-07-18T23:27:37.098Z"
      },
      {
        "duration": 9,
        "start_time": "2023-07-18T23:27:39.088Z"
      },
      {
        "duration": 22,
        "start_time": "2023-07-18T23:27:39.099Z"
      },
      {
        "duration": 21,
        "start_time": "2023-07-18T23:27:39.123Z"
      },
      {
        "duration": 33,
        "start_time": "2023-07-18T23:27:39.146Z"
      },
      {
        "duration": 8,
        "start_time": "2023-07-18T23:27:39.180Z"
      },
      {
        "duration": 26,
        "start_time": "2023-07-18T23:27:39.190Z"
      },
      {
        "duration": 12,
        "start_time": "2023-07-18T23:27:39.218Z"
      },
      {
        "duration": 7,
        "start_time": "2023-07-18T23:27:39.231Z"
      },
      {
        "duration": 13,
        "start_time": "2023-07-18T23:27:39.240Z"
      },
      {
        "duration": 14,
        "start_time": "2023-07-18T23:27:39.255Z"
      },
      {
        "duration": 24,
        "start_time": "2023-07-18T23:27:39.272Z"
      },
      {
        "duration": 6,
        "start_time": "2023-07-18T23:27:39.298Z"
      },
      {
        "duration": 24,
        "start_time": "2023-07-18T23:27:39.306Z"
      },
      {
        "duration": 29,
        "start_time": "2023-07-18T23:27:39.332Z"
      },
      {
        "duration": 191,
        "start_time": "2023-07-18T23:27:39.363Z"
      },
      {
        "duration": 341,
        "start_time": "2023-07-18T23:28:18.241Z"
      },
      {
        "duration": 126,
        "start_time": "2023-07-18T23:28:49.368Z"
      },
      {
        "duration": 113,
        "start_time": "2023-07-18T23:29:21.942Z"
      },
      {
        "duration": 105,
        "start_time": "2023-07-18T23:29:28.455Z"
      },
      {
        "duration": 94,
        "start_time": "2023-07-18T23:30:22.237Z"
      },
      {
        "duration": 100,
        "start_time": "2023-07-18T23:38:26.868Z"
      },
      {
        "duration": 107,
        "start_time": "2023-07-18T23:41:46.113Z"
      },
      {
        "duration": 99,
        "start_time": "2023-07-18T23:42:02.610Z"
      },
      {
        "duration": 95,
        "start_time": "2023-07-18T23:43:14.068Z"
      },
      {
        "duration": 99,
        "start_time": "2023-07-18T23:43:24.290Z"
      },
      {
        "duration": 112,
        "start_time": "2023-07-18T23:44:02.160Z"
      },
      {
        "duration": 5,
        "start_time": "2023-07-18T23:44:30.891Z"
      },
      {
        "duration": 95,
        "start_time": "2023-07-18T23:44:59.162Z"
      },
      {
        "duration": 159,
        "start_time": "2023-07-18T23:45:20.843Z"
      },
      {
        "duration": 183,
        "start_time": "2023-07-18T23:45:28.208Z"
      },
      {
        "duration": 12,
        "start_time": "2023-07-18T23:45:48.055Z"
      },
      {
        "duration": 4,
        "start_time": "2023-07-18T23:46:10.552Z"
      },
      {
        "duration": 5,
        "start_time": "2023-07-18T23:46:19.999Z"
      },
      {
        "duration": 24,
        "start_time": "2023-07-18T23:46:53.421Z"
      },
      {
        "duration": 23,
        "start_time": "2023-07-18T23:47:00.651Z"
      },
      {
        "duration": 23,
        "start_time": "2023-07-18T23:47:04.912Z"
      },
      {
        "duration": 24,
        "start_time": "2023-07-18T23:47:10.416Z"
      },
      {
        "duration": 25,
        "start_time": "2023-07-18T23:47:16.657Z"
      },
      {
        "duration": 16,
        "start_time": "2023-07-18T23:47:20.271Z"
      },
      {
        "duration": 24,
        "start_time": "2023-07-18T23:47:23.882Z"
      },
      {
        "duration": 23,
        "start_time": "2023-07-18T23:47:31.132Z"
      },
      {
        "duration": 24,
        "start_time": "2023-07-18T23:47:38.807Z"
      },
      {
        "duration": 24,
        "start_time": "2023-07-18T23:47:42.882Z"
      },
      {
        "duration": 54,
        "start_time": "2023-07-18T23:47:47.914Z"
      },
      {
        "duration": 28,
        "start_time": "2023-07-18T23:48:04.890Z"
      },
      {
        "duration": 48,
        "start_time": "2023-07-18T23:50:20.415Z"
      },
      {
        "duration": 515,
        "start_time": "2023-07-18T23:51:27.404Z"
      },
      {
        "duration": 532,
        "start_time": "2023-07-18T23:51:37.351Z"
      },
      {
        "duration": 517,
        "start_time": "2023-07-18T23:51:45.189Z"
      },
      {
        "duration": 31,
        "start_time": "2023-07-18T23:51:54.848Z"
      },
      {
        "duration": 103,
        "start_time": "2023-07-18T23:55:44.262Z"
      },
      {
        "duration": 108,
        "start_time": "2023-07-18T23:56:16.613Z"
      },
      {
        "duration": 121,
        "start_time": "2023-07-18T23:57:01.273Z"
      },
      {
        "duration": 103,
        "start_time": "2023-07-18T23:57:22.373Z"
      },
      {
        "duration": 123,
        "start_time": "2023-07-18T23:57:29.049Z"
      },
      {
        "duration": 113,
        "start_time": "2023-07-18T23:57:35.609Z"
      },
      {
        "duration": 111,
        "start_time": "2023-07-18T23:57:47.676Z"
      },
      {
        "duration": 128,
        "start_time": "2023-07-18T23:57:56.971Z"
      },
      {
        "duration": 191,
        "start_time": "2023-07-18T23:58:23.832Z"
      },
      {
        "duration": 114,
        "start_time": "2023-07-18T23:59:12.933Z"
      },
      {
        "duration": 15,
        "start_time": "2023-07-18T23:59:13.049Z"
      },
      {
        "duration": 2050,
        "start_time": "2023-07-18T23:59:13.066Z"
      },
      {
        "duration": 10,
        "start_time": "2023-07-18T23:59:15.120Z"
      },
      {
        "duration": 20,
        "start_time": "2023-07-18T23:59:15.132Z"
      },
      {
        "duration": 6,
        "start_time": "2023-07-18T23:59:15.153Z"
      },
      {
        "duration": 14,
        "start_time": "2023-07-18T23:59:15.161Z"
      },
      {
        "duration": 8,
        "start_time": "2023-07-18T23:59:15.177Z"
      },
      {
        "duration": 24,
        "start_time": "2023-07-18T23:59:15.187Z"
      },
      {
        "duration": 9,
        "start_time": "2023-07-18T23:59:15.214Z"
      },
      {
        "duration": 9,
        "start_time": "2023-07-18T23:59:15.225Z"
      },
      {
        "duration": 23,
        "start_time": "2023-07-18T23:59:15.235Z"
      },
      {
        "duration": 16,
        "start_time": "2023-07-18T23:59:15.260Z"
      },
      {
        "duration": 27,
        "start_time": "2023-07-18T23:59:15.277Z"
      },
      {
        "duration": 6,
        "start_time": "2023-07-18T23:59:15.306Z"
      },
      {
        "duration": 40,
        "start_time": "2023-07-18T23:59:15.314Z"
      },
      {
        "duration": 19,
        "start_time": "2023-07-18T23:59:15.356Z"
      },
      {
        "duration": 112,
        "start_time": "2023-07-18T23:59:15.377Z"
      },
      {
        "duration": 223,
        "start_time": "2023-07-18T23:59:15.491Z"
      },
      {
        "duration": 78,
        "start_time": "2023-07-21T09:06:45.593Z"
      },
      {
        "duration": 938,
        "start_time": "2023-07-21T09:06:51.043Z"
      },
      {
        "duration": 22,
        "start_time": "2023-07-21T09:06:51.983Z"
      },
      {
        "duration": 2562,
        "start_time": "2023-07-21T09:06:52.016Z"
      },
      {
        "duration": 13,
        "start_time": "2023-07-21T09:06:54.581Z"
      },
      {
        "duration": 44,
        "start_time": "2023-07-21T09:06:54.597Z"
      },
      {
        "duration": 19,
        "start_time": "2023-07-21T09:06:54.643Z"
      },
      {
        "duration": 38,
        "start_time": "2023-07-21T09:06:54.664Z"
      },
      {
        "duration": 42,
        "start_time": "2023-07-21T09:06:54.704Z"
      },
      {
        "duration": 15,
        "start_time": "2023-07-21T09:06:54.748Z"
      },
      {
        "duration": 22,
        "start_time": "2023-07-21T09:06:54.765Z"
      },
      {
        "duration": 15,
        "start_time": "2023-07-21T09:06:54.789Z"
      },
      {
        "duration": 65,
        "start_time": "2023-07-21T09:06:54.809Z"
      },
      {
        "duration": 23,
        "start_time": "2023-07-21T09:06:54.876Z"
      },
      {
        "duration": 8,
        "start_time": "2023-07-21T09:06:54.902Z"
      },
      {
        "duration": 46,
        "start_time": "2023-07-21T09:06:54.912Z"
      },
      {
        "duration": 22,
        "start_time": "2023-07-21T09:06:54.960Z"
      },
      {
        "duration": 112,
        "start_time": "2023-07-21T09:06:54.983Z"
      },
      {
        "duration": 10,
        "start_time": "2023-07-21T09:06:55.096Z"
      },
      {
        "duration": 251,
        "start_time": "2023-07-21T09:06:55.107Z"
      },
      {
        "duration": 6,
        "start_time": "2023-07-21T09:08:10.190Z"
      },
      {
        "duration": 12,
        "start_time": "2023-07-21T09:08:54.318Z"
      },
      {
        "duration": 17,
        "start_time": "2023-07-21T09:09:11.053Z"
      },
      {
        "duration": 166,
        "start_time": "2023-07-21T09:10:51.019Z"
      },
      {
        "duration": 202,
        "start_time": "2023-07-21T09:11:13.114Z"
      },
      {
        "duration": 327,
        "start_time": "2023-07-21T09:11:19.019Z"
      },
      {
        "duration": 133,
        "start_time": "2023-07-21T09:11:42.127Z"
      },
      {
        "duration": 17,
        "start_time": "2023-07-21T09:12:39.239Z"
      },
      {
        "duration": 12,
        "start_time": "2023-07-21T09:14:49.356Z"
      },
      {
        "duration": 13,
        "start_time": "2023-07-21T09:15:28.471Z"
      },
      {
        "duration": 22,
        "start_time": "2023-07-21T09:16:13.541Z"
      },
      {
        "duration": 123,
        "start_time": "2023-07-21T09:16:15.175Z"
      },
      {
        "duration": 14,
        "start_time": "2023-07-21T09:16:34.453Z"
      },
      {
        "duration": 107,
        "start_time": "2023-07-21T09:16:35.926Z"
      },
      {
        "duration": 16,
        "start_time": "2023-07-21T09:16:42.644Z"
      },
      {
        "duration": 117,
        "start_time": "2023-07-21T09:16:44.376Z"
      },
      {
        "duration": 17,
        "start_time": "2023-07-21T09:16:52.921Z"
      },
      {
        "duration": 123,
        "start_time": "2023-07-21T09:16:54.501Z"
      },
      {
        "duration": 17,
        "start_time": "2023-07-21T09:17:00.726Z"
      },
      {
        "duration": 128,
        "start_time": "2023-07-21T09:17:01.597Z"
      },
      {
        "duration": 16,
        "start_time": "2023-07-21T09:17:31.039Z"
      },
      {
        "duration": 97,
        "start_time": "2023-07-21T09:17:36.840Z"
      },
      {
        "duration": 27,
        "start_time": "2023-07-21T09:17:45.398Z"
      },
      {
        "duration": 120,
        "start_time": "2023-07-21T09:17:55.134Z"
      },
      {
        "duration": 15,
        "start_time": "2023-07-21T09:17:55.256Z"
      },
      {
        "duration": 2159,
        "start_time": "2023-07-21T09:17:55.273Z"
      },
      {
        "duration": 13,
        "start_time": "2023-07-21T09:17:57.435Z"
      },
      {
        "duration": 10,
        "start_time": "2023-07-21T09:17:57.450Z"
      },
      {
        "duration": 21,
        "start_time": "2023-07-21T09:17:57.461Z"
      },
      {
        "duration": 56,
        "start_time": "2023-07-21T09:17:57.483Z"
      },
      {
        "duration": 19,
        "start_time": "2023-07-21T09:17:57.540Z"
      },
      {
        "duration": 20,
        "start_time": "2023-07-21T09:17:57.560Z"
      },
      {
        "duration": 23,
        "start_time": "2023-07-21T09:17:57.584Z"
      },
      {
        "duration": 36,
        "start_time": "2023-07-21T09:17:57.609Z"
      },
      {
        "duration": 37,
        "start_time": "2023-07-21T09:17:57.646Z"
      },
      {
        "duration": 44,
        "start_time": "2023-07-21T09:17:57.685Z"
      },
      {
        "duration": 30,
        "start_time": "2023-07-21T09:17:57.734Z"
      },
      {
        "duration": 17,
        "start_time": "2023-07-21T09:17:57.767Z"
      },
      {
        "duration": 50,
        "start_time": "2023-07-21T09:17:57.786Z"
      },
      {
        "duration": 104,
        "start_time": "2023-07-21T09:17:57.837Z"
      },
      {
        "duration": 15,
        "start_time": "2023-07-21T09:17:57.943Z"
      },
      {
        "duration": 113,
        "start_time": "2023-07-21T09:17:57.960Z"
      },
      {
        "duration": 148,
        "start_time": "2023-07-21T09:24:04.444Z"
      },
      {
        "duration": 172,
        "start_time": "2023-07-21T09:24:42.186Z"
      },
      {
        "duration": 269,
        "start_time": "2023-07-21T09:26:00.395Z"
      },
      {
        "duration": 214,
        "start_time": "2023-07-21T09:27:50.971Z"
      },
      {
        "duration": 175,
        "start_time": "2023-07-21T09:28:47.174Z"
      },
      {
        "duration": 174,
        "start_time": "2023-07-21T09:29:56.257Z"
      },
      {
        "duration": 230,
        "start_time": "2023-07-21T09:31:31.717Z"
      },
      {
        "duration": 161,
        "start_time": "2023-07-21T09:31:38.901Z"
      },
      {
        "duration": 238,
        "start_time": "2023-07-21T09:31:44.250Z"
      },
      {
        "duration": 270,
        "start_time": "2023-07-21T09:35:28.852Z"
      },
      {
        "duration": 211,
        "start_time": "2023-07-21T09:48:44.223Z"
      },
      {
        "duration": 427,
        "start_time": "2023-07-21T09:51:00.815Z"
      },
      {
        "duration": 224,
        "start_time": "2023-07-21T09:51:33.719Z"
      },
      {
        "duration": 316,
        "start_time": "2023-07-21T10:24:07.049Z"
      },
      {
        "duration": 257,
        "start_time": "2023-07-21T10:28:35.165Z"
      },
      {
        "duration": 239,
        "start_time": "2023-07-21T10:30:47.735Z"
      },
      {
        "duration": 322,
        "start_time": "2023-07-21T10:31:32.571Z"
      },
      {
        "duration": 301,
        "start_time": "2023-07-21T10:35:51.183Z"
      },
      {
        "duration": 59,
        "start_time": "2023-07-21T10:39:35.968Z"
      },
      {
        "duration": 38,
        "start_time": "2023-07-21T10:41:18.226Z"
      },
      {
        "duration": 30,
        "start_time": "2023-07-21T10:41:42.029Z"
      },
      {
        "duration": 38,
        "start_time": "2023-07-21T10:42:09.079Z"
      },
      {
        "duration": 24,
        "start_time": "2023-07-21T10:42:31.153Z"
      },
      {
        "duration": 21,
        "start_time": "2023-07-21T10:42:50.442Z"
      },
      {
        "duration": 20,
        "start_time": "2023-07-21T10:42:57.645Z"
      },
      {
        "duration": 40,
        "start_time": "2023-07-21T10:43:05.917Z"
      },
      {
        "duration": 46,
        "start_time": "2023-07-21T10:43:12.299Z"
      },
      {
        "duration": 19,
        "start_time": "2023-07-21T10:43:19.051Z"
      },
      {
        "duration": 56,
        "start_time": "2023-07-21T10:43:25.495Z"
      },
      {
        "duration": 51,
        "start_time": "2023-07-21T10:43:36.546Z"
      },
      {
        "duration": 36,
        "start_time": "2023-07-21T10:44:00.915Z"
      },
      {
        "duration": 52,
        "start_time": "2023-07-21T10:47:18.230Z"
      },
      {
        "duration": 38,
        "start_time": "2023-07-21T10:47:53.430Z"
      },
      {
        "duration": 11,
        "start_time": "2023-07-21T11:02:02.459Z"
      },
      {
        "duration": 13,
        "start_time": "2023-07-21T11:03:03.045Z"
      },
      {
        "duration": 59,
        "start_time": "2023-07-21T18:36:09.688Z"
      },
      {
        "duration": 9,
        "start_time": "2023-07-21T18:36:14.846Z"
      },
      {
        "duration": 1074,
        "start_time": "2023-07-21T18:36:18.698Z"
      },
      {
        "duration": 14,
        "start_time": "2023-07-21T18:36:19.773Z"
      },
      {
        "duration": 2187,
        "start_time": "2023-07-21T18:36:19.789Z"
      },
      {
        "duration": 13,
        "start_time": "2023-07-21T18:36:21.978Z"
      },
      {
        "duration": 49,
        "start_time": "2023-07-21T18:36:21.993Z"
      },
      {
        "duration": 27,
        "start_time": "2023-07-21T18:36:22.044Z"
      },
      {
        "duration": 62,
        "start_time": "2023-07-21T18:36:22.073Z"
      },
      {
        "duration": 40,
        "start_time": "2023-07-21T18:36:22.137Z"
      },
      {
        "duration": 56,
        "start_time": "2023-07-21T18:36:22.179Z"
      },
      {
        "duration": 72,
        "start_time": "2023-07-21T18:36:22.238Z"
      },
      {
        "duration": 41,
        "start_time": "2023-07-21T18:36:22.312Z"
      },
      {
        "duration": 47,
        "start_time": "2023-07-21T18:36:22.354Z"
      },
      {
        "duration": 52,
        "start_time": "2023-07-21T18:36:22.402Z"
      },
      {
        "duration": 7,
        "start_time": "2023-07-21T18:36:22.455Z"
      },
      {
        "duration": 39,
        "start_time": "2023-07-21T18:36:22.464Z"
      },
      {
        "duration": 57,
        "start_time": "2023-07-21T18:36:22.504Z"
      },
      {
        "duration": 108,
        "start_time": "2023-07-21T18:36:22.562Z"
      },
      {
        "duration": 121,
        "start_time": "2023-07-21T18:36:22.672Z"
      },
      {
        "duration": 8,
        "start_time": "2023-07-21T18:36:22.794Z"
      },
      {
        "duration": 9,
        "start_time": "2023-07-21T18:36:52.250Z"
      },
      {
        "duration": 8,
        "start_time": "2023-07-21T18:37:04.437Z"
      },
      {
        "duration": 33,
        "start_time": "2023-07-21T18:40:03.518Z"
      },
      {
        "duration": 84,
        "start_time": "2023-07-21T18:41:58.248Z"
      },
      {
        "duration": 42,
        "start_time": "2023-07-21T18:43:00.918Z"
      },
      {
        "duration": 54,
        "start_time": "2023-07-21T18:43:19.631Z"
      },
      {
        "duration": 9,
        "start_time": "2023-07-21T18:43:58.605Z"
      },
      {
        "duration": 47,
        "start_time": "2023-07-21T18:45:07.464Z"
      },
      {
        "duration": 39,
        "start_time": "2023-07-21T18:47:21.808Z"
      },
      {
        "duration": 96,
        "start_time": "2023-07-21T18:50:37.783Z"
      },
      {
        "duration": 45,
        "start_time": "2023-07-21T18:51:40.428Z"
      },
      {
        "duration": 7,
        "start_time": "2023-07-21T18:51:45.545Z"
      },
      {
        "duration": 42,
        "start_time": "2023-07-21T18:51:48.010Z"
      },
      {
        "duration": 12,
        "start_time": "2023-07-21T18:53:45.170Z"
      },
      {
        "duration": 11,
        "start_time": "2023-07-21T18:56:00.134Z"
      },
      {
        "duration": 1616,
        "start_time": "2023-07-21T18:56:23.916Z"
      },
      {
        "duration": 8,
        "start_time": "2023-07-21T19:01:50.017Z"
      },
      {
        "duration": 8,
        "start_time": "2023-07-21T19:01:52.380Z"
      },
      {
        "duration": 1492,
        "start_time": "2023-07-21T19:01:53.927Z"
      },
      {
        "duration": 17,
        "start_time": "2023-07-21T19:02:18.021Z"
      },
      {
        "duration": 5,
        "start_time": "2023-07-21T19:03:17.054Z"
      },
      {
        "duration": 7,
        "start_time": "2023-07-21T19:03:37.827Z"
      },
      {
        "duration": 5,
        "start_time": "2023-07-21T19:03:42.581Z"
      },
      {
        "duration": 438,
        "start_time": "2023-07-21T19:11:09.042Z"
      },
      {
        "duration": 8,
        "start_time": "2023-07-21T19:11:23.221Z"
      },
      {
        "duration": 112,
        "start_time": "2023-07-21T19:11:32.010Z"
      },
      {
        "duration": 22,
        "start_time": "2023-07-21T19:11:32.124Z"
      },
      {
        "duration": 2005,
        "start_time": "2023-07-21T19:11:32.148Z"
      },
      {
        "duration": 9,
        "start_time": "2023-07-21T19:11:34.155Z"
      },
      {
        "duration": 8,
        "start_time": "2023-07-21T19:11:34.166Z"
      },
      {
        "duration": 7,
        "start_time": "2023-07-21T19:11:34.175Z"
      },
      {
        "duration": 21,
        "start_time": "2023-07-21T19:11:34.184Z"
      },
      {
        "duration": 11,
        "start_time": "2023-07-21T19:11:34.206Z"
      },
      {
        "duration": 25,
        "start_time": "2023-07-21T19:11:34.218Z"
      },
      {
        "duration": 11,
        "start_time": "2023-07-21T19:11:34.247Z"
      },
      {
        "duration": 14,
        "start_time": "2023-07-21T19:11:34.259Z"
      },
      {
        "duration": 15,
        "start_time": "2023-07-21T19:11:34.274Z"
      },
      {
        "duration": 30,
        "start_time": "2023-07-21T19:11:34.290Z"
      },
      {
        "duration": 19,
        "start_time": "2023-07-21T19:11:34.322Z"
      },
      {
        "duration": 12,
        "start_time": "2023-07-21T19:11:34.344Z"
      },
      {
        "duration": 15,
        "start_time": "2023-07-21T19:11:34.358Z"
      },
      {
        "duration": 103,
        "start_time": "2023-07-21T19:11:34.374Z"
      },
      {
        "duration": 163,
        "start_time": "2023-07-21T19:11:34.478Z"
      },
      {
        "duration": 11,
        "start_time": "2023-07-21T19:11:34.644Z"
      },
      {
        "duration": 27,
        "start_time": "2023-07-21T19:11:34.657Z"
      },
      {
        "duration": 7,
        "start_time": "2023-07-21T19:11:34.686Z"
      },
      {
        "duration": 130,
        "start_time": "2023-07-21T19:11:34.695Z"
      },
      {
        "duration": 0,
        "start_time": "2023-07-21T19:11:34.827Z"
      },
      {
        "duration": 10,
        "start_time": "2023-07-21T19:13:33.538Z"
      },
      {
        "duration": 96,
        "start_time": "2023-07-21T19:14:07.718Z"
      },
      {
        "duration": 9,
        "start_time": "2023-07-21T19:15:12.193Z"
      },
      {
        "duration": 5,
        "start_time": "2023-07-21T19:15:24.883Z"
      },
      {
        "duration": 10,
        "start_time": "2023-07-21T19:16:31.128Z"
      },
      {
        "duration": 2060,
        "start_time": "2023-07-21T19:16:33.546Z"
      },
      {
        "duration": 7,
        "start_time": "2023-07-21T19:19:01.529Z"
      },
      {
        "duration": 19,
        "start_time": "2023-07-21T19:19:24.852Z"
      },
      {
        "duration": 81,
        "start_time": "2023-07-21T19:32:10.188Z"
      },
      {
        "duration": 6,
        "start_time": "2023-07-21T19:32:19.005Z"
      },
      {
        "duration": 86,
        "start_time": "2023-07-21T19:32:20.436Z"
      },
      {
        "duration": 1346,
        "start_time": "2023-07-21T19:32:51.388Z"
      },
      {
        "duration": 1506,
        "start_time": "2023-07-21T19:36:06.084Z"
      },
      {
        "duration": 12,
        "start_time": "2023-07-21T19:36:43.044Z"
      },
      {
        "duration": 6,
        "start_time": "2023-07-21T19:36:48.784Z"
      },
      {
        "duration": 20,
        "start_time": "2023-07-21T19:36:56.241Z"
      },
      {
        "duration": 4,
        "start_time": "2023-07-21T19:37:04.282Z"
      },
      {
        "duration": 8,
        "start_time": "2023-07-21T19:44:01.207Z"
      },
      {
        "duration": 89,
        "start_time": "2023-07-21T19:46:03.575Z"
      },
      {
        "duration": 8,
        "start_time": "2023-07-21T19:46:41.615Z"
      },
      {
        "duration": 10,
        "start_time": "2023-07-21T19:46:57.842Z"
      },
      {
        "duration": 5,
        "start_time": "2023-07-21T19:47:22.356Z"
      },
      {
        "duration": 54,
        "start_time": "2023-07-21T19:47:44.703Z"
      },
      {
        "duration": 94,
        "start_time": "2023-07-21T19:47:58.967Z"
      },
      {
        "duration": 14,
        "start_time": "2023-07-21T19:48:03.620Z"
      },
      {
        "duration": 8,
        "start_time": "2023-07-21T19:50:03.856Z"
      },
      {
        "duration": 34,
        "start_time": "2023-07-21T19:50:55.591Z"
      },
      {
        "duration": 12,
        "start_time": "2023-07-21T19:52:33.991Z"
      },
      {
        "duration": 28,
        "start_time": "2023-07-21T19:55:43.349Z"
      },
      {
        "duration": 26,
        "start_time": "2023-07-21T19:57:09.693Z"
      },
      {
        "duration": 124,
        "start_time": "2023-07-21T19:57:20.108Z"
      },
      {
        "duration": 17,
        "start_time": "2023-07-21T19:57:20.234Z"
      },
      {
        "duration": 1963,
        "start_time": "2023-07-21T19:57:20.253Z"
      },
      {
        "duration": 17,
        "start_time": "2023-07-21T19:57:22.218Z"
      },
      {
        "duration": 36,
        "start_time": "2023-07-21T19:57:22.236Z"
      },
      {
        "duration": 37,
        "start_time": "2023-07-21T19:57:22.274Z"
      },
      {
        "duration": 53,
        "start_time": "2023-07-21T19:57:22.312Z"
      },
      {
        "duration": 40,
        "start_time": "2023-07-21T19:57:22.367Z"
      },
      {
        "duration": 30,
        "start_time": "2023-07-21T19:57:22.408Z"
      },
      {
        "duration": 19,
        "start_time": "2023-07-21T19:57:22.440Z"
      },
      {
        "duration": 19,
        "start_time": "2023-07-21T19:57:22.460Z"
      },
      {
        "duration": 47,
        "start_time": "2023-07-21T19:57:22.480Z"
      },
      {
        "duration": 30,
        "start_time": "2023-07-21T19:57:22.528Z"
      },
      {
        "duration": 9,
        "start_time": "2023-07-21T19:57:22.560Z"
      },
      {
        "duration": 13,
        "start_time": "2023-07-21T19:57:22.570Z"
      },
      {
        "duration": 41,
        "start_time": "2023-07-21T19:57:22.584Z"
      },
      {
        "duration": 117,
        "start_time": "2023-07-21T19:57:22.627Z"
      },
      {
        "duration": 129,
        "start_time": "2023-07-21T19:57:22.745Z"
      },
      {
        "duration": 8,
        "start_time": "2023-07-21T19:57:22.876Z"
      },
      {
        "duration": 26,
        "start_time": "2023-07-21T19:57:22.885Z"
      },
      {
        "duration": 42,
        "start_time": "2023-07-21T19:57:22.913Z"
      },
      {
        "duration": 2019,
        "start_time": "2023-07-21T19:57:22.957Z"
      },
      {
        "duration": 11,
        "start_time": "2023-07-21T19:57:24.977Z"
      },
      {
        "duration": 36,
        "start_time": "2023-07-21T19:59:44.727Z"
      },
      {
        "duration": 10,
        "start_time": "2023-07-21T20:01:53.402Z"
      },
      {
        "duration": 105,
        "start_time": "2023-07-21T20:02:43.820Z"
      },
      {
        "duration": 12,
        "start_time": "2023-07-21T20:02:43.927Z"
      },
      {
        "duration": 1910,
        "start_time": "2023-07-21T20:02:43.941Z"
      },
      {
        "duration": 9,
        "start_time": "2023-07-21T20:02:45.853Z"
      },
      {
        "duration": 7,
        "start_time": "2023-07-21T20:02:45.864Z"
      },
      {
        "duration": 15,
        "start_time": "2023-07-21T20:02:45.872Z"
      },
      {
        "duration": 15,
        "start_time": "2023-07-21T20:02:45.888Z"
      },
      {
        "duration": 5,
        "start_time": "2023-07-21T20:02:45.904Z"
      },
      {
        "duration": 17,
        "start_time": "2023-07-21T20:02:45.910Z"
      },
      {
        "duration": 8,
        "start_time": "2023-07-21T20:02:45.931Z"
      },
      {
        "duration": 20,
        "start_time": "2023-07-21T20:02:45.940Z"
      },
      {
        "duration": 14,
        "start_time": "2023-07-21T20:02:45.961Z"
      },
      {
        "duration": 26,
        "start_time": "2023-07-21T20:02:45.977Z"
      },
      {
        "duration": 5,
        "start_time": "2023-07-21T20:02:46.005Z"
      },
      {
        "duration": 8,
        "start_time": "2023-07-21T20:02:46.032Z"
      },
      {
        "duration": 15,
        "start_time": "2023-07-21T20:02:46.041Z"
      },
      {
        "duration": 104,
        "start_time": "2023-07-21T20:02:46.058Z"
      },
      {
        "duration": 123,
        "start_time": "2023-07-21T20:02:46.164Z"
      },
      {
        "duration": 8,
        "start_time": "2023-07-21T20:02:46.289Z"
      },
      {
        "duration": 8,
        "start_time": "2023-07-21T20:02:46.298Z"
      },
      {
        "duration": 5,
        "start_time": "2023-07-21T20:02:46.308Z"
      },
      {
        "duration": 1813,
        "start_time": "2023-07-21T20:02:46.314Z"
      },
      {
        "duration": 46,
        "start_time": "2023-07-21T20:02:48.128Z"
      },
      {
        "duration": 34,
        "start_time": "2023-07-21T20:02:58.998Z"
      },
      {
        "duration": 106,
        "start_time": "2023-07-21T20:04:16.331Z"
      },
      {
        "duration": 13,
        "start_time": "2023-07-21T20:04:16.438Z"
      },
      {
        "duration": 2065,
        "start_time": "2023-07-21T20:04:16.453Z"
      },
      {
        "duration": 17,
        "start_time": "2023-07-21T20:04:18.521Z"
      },
      {
        "duration": 5,
        "start_time": "2023-07-21T20:04:18.539Z"
      },
      {
        "duration": 13,
        "start_time": "2023-07-21T20:04:18.546Z"
      },
      {
        "duration": 25,
        "start_time": "2023-07-21T20:04:18.560Z"
      },
      {
        "duration": 7,
        "start_time": "2023-07-21T20:04:18.587Z"
      },
      {
        "duration": 19,
        "start_time": "2023-07-21T20:04:18.595Z"
      },
      {
        "duration": 11,
        "start_time": "2023-07-21T20:04:18.617Z"
      },
      {
        "duration": 10,
        "start_time": "2023-07-21T20:04:18.629Z"
      },
      {
        "duration": 13,
        "start_time": "2023-07-21T20:04:18.640Z"
      },
      {
        "duration": 27,
        "start_time": "2023-07-21T20:04:18.655Z"
      },
      {
        "duration": 6,
        "start_time": "2023-07-21T20:04:18.684Z"
      },
      {
        "duration": 40,
        "start_time": "2023-07-21T20:04:18.691Z"
      },
      {
        "duration": 20,
        "start_time": "2023-07-21T20:04:18.733Z"
      },
      {
        "duration": 102,
        "start_time": "2023-07-21T20:04:18.754Z"
      },
      {
        "duration": 121,
        "start_time": "2023-07-21T20:04:18.858Z"
      },
      {
        "duration": 8,
        "start_time": "2023-07-21T20:04:18.981Z"
      },
      {
        "duration": 10,
        "start_time": "2023-07-21T20:04:18.991Z"
      },
      {
        "duration": 14,
        "start_time": "2023-07-21T20:04:19.003Z"
      },
      {
        "duration": 1798,
        "start_time": "2023-07-21T20:04:19.018Z"
      },
      {
        "duration": 36,
        "start_time": "2023-07-21T20:04:20.818Z"
      },
      {
        "duration": 15,
        "start_time": "2023-07-21T20:06:00.334Z"
      },
      {
        "duration": 111,
        "start_time": "2023-07-21T20:06:03.239Z"
      },
      {
        "duration": 19,
        "start_time": "2023-07-21T20:06:03.352Z"
      },
      {
        "duration": 2038,
        "start_time": "2023-07-21T20:06:03.372Z"
      },
      {
        "duration": 21,
        "start_time": "2023-07-21T20:06:05.411Z"
      },
      {
        "duration": 32,
        "start_time": "2023-07-21T20:06:05.435Z"
      },
      {
        "duration": 43,
        "start_time": "2023-07-21T20:06:05.469Z"
      },
      {
        "duration": 18,
        "start_time": "2023-07-21T20:06:05.513Z"
      },
      {
        "duration": 15,
        "start_time": "2023-07-21T20:06:05.532Z"
      },
      {
        "duration": 10,
        "start_time": "2023-07-21T20:06:05.548Z"
      },
      {
        "duration": 22,
        "start_time": "2023-07-21T20:06:05.559Z"
      },
      {
        "duration": 20,
        "start_time": "2023-07-21T20:06:05.583Z"
      },
      {
        "duration": 22,
        "start_time": "2023-07-21T20:06:05.604Z"
      },
      {
        "duration": 26,
        "start_time": "2023-07-21T20:06:05.628Z"
      },
      {
        "duration": 56,
        "start_time": "2023-07-21T20:06:05.657Z"
      },
      {
        "duration": 55,
        "start_time": "2023-07-21T20:06:05.714Z"
      },
      {
        "duration": 41,
        "start_time": "2023-07-21T20:06:05.771Z"
      },
      {
        "duration": 153,
        "start_time": "2023-07-21T20:06:05.813Z"
      },
      {
        "duration": 116,
        "start_time": "2023-07-21T20:06:05.967Z"
      },
      {
        "duration": 41,
        "start_time": "2023-07-21T20:06:06.085Z"
      },
      {
        "duration": 30,
        "start_time": "2023-07-21T20:06:06.127Z"
      },
      {
        "duration": 27,
        "start_time": "2023-07-21T20:06:06.159Z"
      },
      {
        "duration": 1898,
        "start_time": "2023-07-21T20:06:06.188Z"
      },
      {
        "duration": 14,
        "start_time": "2023-07-21T20:06:08.087Z"
      },
      {
        "duration": 14,
        "start_time": "2023-07-21T20:06:34.639Z"
      },
      {
        "duration": 15,
        "start_time": "2023-07-21T20:07:56.747Z"
      },
      {
        "duration": 110,
        "start_time": "2023-07-21T20:07:59.605Z"
      },
      {
        "duration": 21,
        "start_time": "2023-07-21T20:07:59.717Z"
      },
      {
        "duration": 2050,
        "start_time": "2023-07-21T20:07:59.740Z"
      },
      {
        "duration": 9,
        "start_time": "2023-07-21T20:08:01.793Z"
      },
      {
        "duration": 60,
        "start_time": "2023-07-21T20:08:01.804Z"
      },
      {
        "duration": 74,
        "start_time": "2023-07-21T20:08:01.865Z"
      },
      {
        "duration": 50,
        "start_time": "2023-07-21T20:08:01.941Z"
      },
      {
        "duration": 56,
        "start_time": "2023-07-21T20:08:01.992Z"
      },
      {
        "duration": 57,
        "start_time": "2023-07-21T20:08:02.049Z"
      },
      {
        "duration": 31,
        "start_time": "2023-07-21T20:08:02.109Z"
      },
      {
        "duration": 29,
        "start_time": "2023-07-21T20:08:02.142Z"
      },
      {
        "duration": 26,
        "start_time": "2023-07-21T20:08:02.172Z"
      },
      {
        "duration": 26,
        "start_time": "2023-07-21T20:08:02.200Z"
      },
      {
        "duration": 9,
        "start_time": "2023-07-21T20:08:02.227Z"
      },
      {
        "duration": 13,
        "start_time": "2023-07-21T20:08:02.238Z"
      },
      {
        "duration": 34,
        "start_time": "2023-07-21T20:08:02.252Z"
      },
      {
        "duration": 157,
        "start_time": "2023-07-21T20:08:02.288Z"
      },
      {
        "duration": 127,
        "start_time": "2023-07-21T20:08:02.447Z"
      },
      {
        "duration": 7,
        "start_time": "2023-07-21T20:08:02.575Z"
      },
      {
        "duration": 17,
        "start_time": "2023-07-21T20:08:02.584Z"
      },
      {
        "duration": 34,
        "start_time": "2023-07-21T20:08:02.603Z"
      },
      {
        "duration": 1911,
        "start_time": "2023-07-21T20:08:02.638Z"
      },
      {
        "duration": 50,
        "start_time": "2023-07-21T20:08:04.552Z"
      },
      {
        "duration": 104,
        "start_time": "2023-07-21T20:08:39.275Z"
      },
      {
        "duration": 13,
        "start_time": "2023-07-21T20:08:39.381Z"
      },
      {
        "duration": 1870,
        "start_time": "2023-07-21T20:08:39.395Z"
      },
      {
        "duration": 9,
        "start_time": "2023-07-21T20:08:41.267Z"
      },
      {
        "duration": 20,
        "start_time": "2023-07-21T20:08:41.278Z"
      },
      {
        "duration": 13,
        "start_time": "2023-07-21T20:08:41.300Z"
      },
      {
        "duration": 23,
        "start_time": "2023-07-21T20:08:41.314Z"
      },
      {
        "duration": 15,
        "start_time": "2023-07-21T20:08:41.339Z"
      },
      {
        "duration": 6,
        "start_time": "2023-07-21T20:08:41.355Z"
      },
      {
        "duration": 9,
        "start_time": "2023-07-21T20:08:41.363Z"
      },
      {
        "duration": 20,
        "start_time": "2023-07-21T20:08:41.373Z"
      },
      {
        "duration": 14,
        "start_time": "2023-07-21T20:08:41.394Z"
      },
      {
        "duration": 257,
        "start_time": "2023-07-21T20:08:41.410Z"
      },
      {
        "duration": 8,
        "start_time": "2023-07-21T20:08:41.668Z"
      },
      {
        "duration": 12,
        "start_time": "2023-07-21T20:08:41.677Z"
      },
      {
        "duration": 18,
        "start_time": "2023-07-21T20:08:41.692Z"
      },
      {
        "duration": 105,
        "start_time": "2023-07-21T20:08:41.732Z"
      },
      {
        "duration": 113,
        "start_time": "2023-07-21T20:08:41.839Z"
      },
      {
        "duration": 10,
        "start_time": "2023-07-21T20:08:41.954Z"
      },
      {
        "duration": 26,
        "start_time": "2023-07-21T20:08:41.966Z"
      },
      {
        "duration": 9,
        "start_time": "2023-07-21T20:08:41.994Z"
      },
      {
        "duration": 1896,
        "start_time": "2023-07-21T20:08:42.005Z"
      },
      {
        "duration": 17,
        "start_time": "2023-07-21T20:08:43.902Z"
      },
      {
        "duration": 7,
        "start_time": "2023-07-21T20:09:07.562Z"
      },
      {
        "duration": 32,
        "start_time": "2023-07-21T20:09:47.986Z"
      },
      {
        "duration": 33,
        "start_time": "2023-07-21T20:10:51.236Z"
      },
      {
        "duration": 8,
        "start_time": "2023-07-21T20:10:57.502Z"
      },
      {
        "duration": 8,
        "start_time": "2023-07-21T20:13:57.065Z"
      },
      {
        "duration": 22,
        "start_time": "2023-07-21T20:14:13.126Z"
      },
      {
        "duration": 54,
        "start_time": "2023-07-21T20:16:11.885Z"
      },
      {
        "duration": 33,
        "start_time": "2023-07-21T20:18:17.697Z"
      },
      {
        "duration": 11,
        "start_time": "2023-07-21T20:20:20.700Z"
      },
      {
        "duration": 21,
        "start_time": "2023-07-21T20:20:27.553Z"
      },
      {
        "duration": 17,
        "start_time": "2023-07-21T20:20:38.043Z"
      },
      {
        "duration": 16,
        "start_time": "2023-07-21T20:20:40.953Z"
      },
      {
        "duration": 127,
        "start_time": "2023-07-21T20:20:44.919Z"
      },
      {
        "duration": 15,
        "start_time": "2023-07-21T20:20:45.048Z"
      },
      {
        "duration": 1960,
        "start_time": "2023-07-21T20:20:45.064Z"
      },
      {
        "duration": 13,
        "start_time": "2023-07-21T20:20:47.026Z"
      },
      {
        "duration": 5,
        "start_time": "2023-07-21T20:20:47.041Z"
      },
      {
        "duration": 11,
        "start_time": "2023-07-21T20:20:47.047Z"
      },
      {
        "duration": 22,
        "start_time": "2023-07-21T20:20:47.060Z"
      },
      {
        "duration": 12,
        "start_time": "2023-07-21T20:20:47.084Z"
      },
      {
        "duration": 6,
        "start_time": "2023-07-21T20:20:47.098Z"
      },
      {
        "duration": 30,
        "start_time": "2023-07-21T20:20:47.106Z"
      },
      {
        "duration": 16,
        "start_time": "2023-07-21T20:20:47.138Z"
      },
      {
        "duration": 18,
        "start_time": "2023-07-21T20:20:47.155Z"
      },
      {
        "duration": 28,
        "start_time": "2023-07-21T20:20:47.174Z"
      },
      {
        "duration": 27,
        "start_time": "2023-07-21T20:20:47.204Z"
      },
      {
        "duration": 9,
        "start_time": "2023-07-21T20:20:47.233Z"
      },
      {
        "duration": 24,
        "start_time": "2023-07-21T20:20:47.244Z"
      },
      {
        "duration": 113,
        "start_time": "2023-07-21T20:20:47.269Z"
      },
      {
        "duration": 115,
        "start_time": "2023-07-21T20:20:47.384Z"
      },
      {
        "duration": 8,
        "start_time": "2023-07-21T20:20:47.501Z"
      },
      {
        "duration": 21,
        "start_time": "2023-07-21T20:20:47.510Z"
      },
      {
        "duration": 5,
        "start_time": "2023-07-21T20:20:47.533Z"
      },
      {
        "duration": 1687,
        "start_time": "2023-07-21T20:20:47.539Z"
      },
      {
        "duration": 16,
        "start_time": "2023-07-21T20:20:49.228Z"
      },
      {
        "duration": 20,
        "start_time": "2023-07-21T20:21:02.446Z"
      },
      {
        "duration": 21,
        "start_time": "2023-07-21T20:21:34.806Z"
      },
      {
        "duration": 51,
        "start_time": "2023-07-21T20:21:39.606Z"
      },
      {
        "duration": 61,
        "start_time": "2023-07-21T20:23:10.591Z"
      },
      {
        "duration": 6,
        "start_time": "2023-07-21T20:23:50.747Z"
      },
      {
        "duration": 9,
        "start_time": "2023-07-21T20:24:01.862Z"
      },
      {
        "duration": 103,
        "start_time": "2023-07-21T20:28:33.149Z"
      },
      {
        "duration": 9,
        "start_time": "2023-07-21T20:29:04.920Z"
      },
      {
        "duration": 93,
        "start_time": "2023-07-21T20:29:16.718Z"
      },
      {
        "duration": 90,
        "start_time": "2023-07-21T20:30:35.786Z"
      },
      {
        "duration": 8,
        "start_time": "2023-07-21T20:30:50.413Z"
      },
      {
        "duration": 31,
        "start_time": "2023-07-21T20:31:24.067Z"
      },
      {
        "duration": 97,
        "start_time": "2023-07-21T20:31:55.436Z"
      },
      {
        "duration": 189,
        "start_time": "2023-07-21T20:32:10.011Z"
      },
      {
        "duration": 127,
        "start_time": "2023-07-21T20:33:04.655Z"
      },
      {
        "duration": 8,
        "start_time": "2023-07-21T20:33:09.904Z"
      },
      {
        "duration": 9,
        "start_time": "2023-07-21T20:33:23.008Z"
      },
      {
        "duration": 11,
        "start_time": "2023-07-21T20:33:39.966Z"
      },
      {
        "duration": 119,
        "start_time": "2023-07-21T20:34:05.113Z"
      },
      {
        "duration": 9,
        "start_time": "2023-07-21T20:34:18.743Z"
      },
      {
        "duration": 65,
        "start_time": "2023-07-21T20:35:23.941Z"
      },
      {
        "duration": 56,
        "start_time": "2023-07-21T20:35:37.244Z"
      },
      {
        "duration": 29,
        "start_time": "2023-07-21T20:35:49.130Z"
      },
      {
        "duration": 18,
        "start_time": "2023-07-21T20:35:59.306Z"
      },
      {
        "duration": 27,
        "start_time": "2023-07-21T20:36:05.041Z"
      },
      {
        "duration": 23,
        "start_time": "2023-07-21T20:54:51.687Z"
      },
      {
        "duration": 5,
        "start_time": "2023-07-21T20:59:04.609Z"
      },
      {
        "duration": 295,
        "start_time": "2023-07-21T21:03:36.336Z"
      },
      {
        "duration": 73,
        "start_time": "2023-07-21T21:03:46.260Z"
      },
      {
        "duration": 47,
        "start_time": "2023-07-21T21:04:26.788Z"
      },
      {
        "duration": 489,
        "start_time": "2023-07-21T21:05:37.785Z"
      },
      {
        "duration": 435,
        "start_time": "2023-07-21T21:07:00.195Z"
      },
      {
        "duration": 47,
        "start_time": "2023-07-21T21:07:50.816Z"
      },
      {
        "duration": 50,
        "start_time": "2023-07-21T21:08:37.292Z"
      },
      {
        "duration": 64,
        "start_time": "2023-07-21T21:08:47.572Z"
      },
      {
        "duration": 51,
        "start_time": "2023-07-21T21:09:26.061Z"
      },
      {
        "duration": 219,
        "start_time": "2023-07-21T21:15:09.305Z"
      },
      {
        "duration": 13,
        "start_time": "2023-07-21T21:19:52.900Z"
      },
      {
        "duration": 5,
        "start_time": "2023-07-21T21:20:02.764Z"
      },
      {
        "duration": 21,
        "start_time": "2023-07-21T21:20:09.395Z"
      },
      {
        "duration": 1498,
        "start_time": "2023-07-21T21:21:02.327Z"
      },
      {
        "duration": 1680,
        "start_time": "2023-07-21T21:21:14.437Z"
      },
      {
        "duration": 6,
        "start_time": "2023-07-21T21:21:39.682Z"
      },
      {
        "duration": 6,
        "start_time": "2023-07-21T21:21:42.415Z"
      },
      {
        "duration": 13,
        "start_time": "2023-07-21T21:22:44.329Z"
      },
      {
        "duration": 13,
        "start_time": "2023-07-21T21:23:21.801Z"
      },
      {
        "duration": 10,
        "start_time": "2023-07-21T21:23:33.389Z"
      },
      {
        "duration": 19,
        "start_time": "2023-07-21T21:23:46.865Z"
      },
      {
        "duration": 29,
        "start_time": "2023-07-21T21:27:27.423Z"
      },
      {
        "duration": 314,
        "start_time": "2023-07-21T21:28:57.945Z"
      },
      {
        "duration": 221,
        "start_time": "2023-07-21T21:29:01.296Z"
      },
      {
        "duration": 9,
        "start_time": "2023-07-21T21:29:01.817Z"
      },
      {
        "duration": 24,
        "start_time": "2023-07-21T21:29:02.416Z"
      },
      {
        "duration": 5,
        "start_time": "2023-07-21T21:29:12.476Z"
      },
      {
        "duration": 216,
        "start_time": "2023-07-21T21:29:12.939Z"
      },
      {
        "duration": 9,
        "start_time": "2023-07-21T21:29:13.428Z"
      },
      {
        "duration": 20,
        "start_time": "2023-07-21T21:29:14.148Z"
      },
      {
        "duration": 7,
        "start_time": "2023-07-21T21:29:53.539Z"
      },
      {
        "duration": 5,
        "start_time": "2023-07-21T21:30:25.101Z"
      },
      {
        "duration": 5,
        "start_time": "2023-07-21T21:30:25.618Z"
      },
      {
        "duration": 5,
        "start_time": "2023-07-21T21:30:26.004Z"
      },
      {
        "duration": 199,
        "start_time": "2023-07-21T21:30:26.505Z"
      },
      {
        "duration": 12,
        "start_time": "2023-07-21T21:30:26.928Z"
      },
      {
        "duration": 26,
        "start_time": "2023-07-21T21:30:27.519Z"
      },
      {
        "duration": 170,
        "start_time": "2023-07-21T21:34:21.988Z"
      },
      {
        "duration": 225,
        "start_time": "2023-07-21T21:34:27.501Z"
      },
      {
        "duration": 278,
        "start_time": "2023-07-21T21:34:36.832Z"
      },
      {
        "duration": 249,
        "start_time": "2023-07-21T21:34:48.514Z"
      },
      {
        "duration": 159,
        "start_time": "2023-07-21T21:34:50.692Z"
      },
      {
        "duration": 198,
        "start_time": "2023-07-21T21:36:50.648Z"
      },
      {
        "duration": 561,
        "start_time": "2023-07-21T21:37:19.951Z"
      },
      {
        "duration": 591,
        "start_time": "2023-07-21T21:37:52.598Z"
      },
      {
        "duration": 853,
        "start_time": "2023-07-21T21:40:08.461Z"
      },
      {
        "duration": 570,
        "start_time": "2023-07-21T21:40:32.394Z"
      },
      {
        "duration": 243,
        "start_time": "2023-07-21T21:42:48.145Z"
      },
      {
        "duration": 213,
        "start_time": "2023-07-21T21:45:39.660Z"
      },
      {
        "duration": 172,
        "start_time": "2023-07-21T21:45:52.277Z"
      },
      {
        "duration": 334,
        "start_time": "2023-07-21T21:45:56.121Z"
      },
      {
        "duration": 471,
        "start_time": "2023-07-21T21:46:04.275Z"
      },
      {
        "duration": 0,
        "start_time": "2023-07-21T21:46:39.818Z"
      },
      {
        "duration": 631,
        "start_time": "2023-07-21T21:46:45.682Z"
      },
      {
        "duration": 361,
        "start_time": "2023-07-21T21:47:05.945Z"
      },
      {
        "duration": 233,
        "start_time": "2023-07-21T21:47:09.446Z"
      },
      {
        "duration": 269,
        "start_time": "2023-07-21T21:48:34.619Z"
      },
      {
        "duration": 239,
        "start_time": "2023-07-21T21:48:54.395Z"
      },
      {
        "duration": 578,
        "start_time": "2023-07-21T21:49:33.215Z"
      },
      {
        "duration": 277,
        "start_time": "2023-07-21T22:08:44.649Z"
      },
      {
        "duration": 172,
        "start_time": "2023-07-21T22:08:49.925Z"
      },
      {
        "duration": 229,
        "start_time": "2023-07-21T22:08:54.410Z"
      },
      {
        "duration": 228,
        "start_time": "2023-07-21T22:09:03.691Z"
      },
      {
        "duration": 197,
        "start_time": "2023-07-21T22:09:08.944Z"
      },
      {
        "duration": 246,
        "start_time": "2023-07-21T22:09:17.755Z"
      },
      {
        "duration": 129,
        "start_time": "2023-07-21T22:12:13.102Z"
      },
      {
        "duration": 136,
        "start_time": "2023-07-21T22:12:22.090Z"
      },
      {
        "duration": 226,
        "start_time": "2023-07-21T22:13:23.013Z"
      },
      {
        "duration": 253,
        "start_time": "2023-07-21T22:13:50.591Z"
      },
      {
        "duration": 241,
        "start_time": "2023-07-21T22:15:31.080Z"
      },
      {
        "duration": 2183,
        "start_time": "2023-07-21T22:15:50.397Z"
      },
      {
        "duration": 171,
        "start_time": "2023-07-21T22:21:55.348Z"
      },
      {
        "duration": 102,
        "start_time": "2023-07-21T22:28:29.062Z"
      },
      {
        "duration": 13,
        "start_time": "2023-07-21T22:28:29.166Z"
      },
      {
        "duration": 1708,
        "start_time": "2023-07-21T22:28:29.180Z"
      },
      {
        "duration": 9,
        "start_time": "2023-07-21T22:28:30.890Z"
      },
      {
        "duration": 45,
        "start_time": "2023-07-21T22:28:30.900Z"
      },
      {
        "duration": 58,
        "start_time": "2023-07-21T22:28:30.947Z"
      },
      {
        "duration": 60,
        "start_time": "2023-07-21T22:28:31.007Z"
      },
      {
        "duration": 54,
        "start_time": "2023-07-21T22:28:31.068Z"
      },
      {
        "duration": 29,
        "start_time": "2023-07-21T22:28:31.123Z"
      },
      {
        "duration": 39,
        "start_time": "2023-07-21T22:28:31.154Z"
      },
      {
        "duration": 38,
        "start_time": "2023-07-21T22:28:31.194Z"
      },
      {
        "duration": 33,
        "start_time": "2023-07-21T22:28:31.234Z"
      },
      {
        "duration": 46,
        "start_time": "2023-07-21T22:28:31.269Z"
      },
      {
        "duration": 26,
        "start_time": "2023-07-21T22:28:31.317Z"
      },
      {
        "duration": 47,
        "start_time": "2023-07-21T22:28:31.345Z"
      },
      {
        "duration": 40,
        "start_time": "2023-07-21T22:28:31.394Z"
      },
      {
        "duration": 131,
        "start_time": "2023-07-21T22:28:31.436Z"
      },
      {
        "duration": 103,
        "start_time": "2023-07-21T22:28:31.569Z"
      },
      {
        "duration": 8,
        "start_time": "2023-07-21T22:28:31.674Z"
      },
      {
        "duration": 53,
        "start_time": "2023-07-21T22:28:31.684Z"
      },
      {
        "duration": 10,
        "start_time": "2023-07-21T22:28:31.738Z"
      },
      {
        "duration": 1632,
        "start_time": "2023-07-21T22:28:31.749Z"
      },
      {
        "duration": 63,
        "start_time": "2023-07-21T22:28:33.383Z"
      },
      {
        "duration": 4,
        "start_time": "2023-07-21T22:28:33.448Z"
      },
      {
        "duration": 23,
        "start_time": "2023-07-21T22:28:33.454Z"
      },
      {
        "duration": 5,
        "start_time": "2023-07-21T22:28:33.479Z"
      },
      {
        "duration": 16,
        "start_time": "2023-07-21T22:28:33.485Z"
      },
      {
        "duration": 211,
        "start_time": "2023-07-21T22:28:33.505Z"
      },
      {
        "duration": 15,
        "start_time": "2023-07-21T22:28:33.717Z"
      },
      {
        "duration": 19,
        "start_time": "2023-07-21T22:28:33.733Z"
      },
      {
        "duration": 272,
        "start_time": "2023-07-21T22:28:33.754Z"
      },
      {
        "duration": 261,
        "start_time": "2023-07-21T22:28:34.027Z"
      },
      {
        "duration": 186,
        "start_time": "2023-07-21T22:28:34.289Z"
      },
      {
        "duration": 106,
        "start_time": "2023-07-21T22:34:49.511Z"
      },
      {
        "duration": 21,
        "start_time": "2023-07-21T22:34:49.618Z"
      },
      {
        "duration": 1751,
        "start_time": "2023-07-21T22:34:49.641Z"
      },
      {
        "duration": 9,
        "start_time": "2023-07-21T22:34:51.393Z"
      },
      {
        "duration": 40,
        "start_time": "2023-07-21T22:34:51.404Z"
      },
      {
        "duration": 44,
        "start_time": "2023-07-21T22:34:51.446Z"
      },
      {
        "duration": 38,
        "start_time": "2023-07-21T22:34:51.492Z"
      },
      {
        "duration": 24,
        "start_time": "2023-07-21T22:34:51.531Z"
      },
      {
        "duration": 6,
        "start_time": "2023-07-21T22:34:51.557Z"
      },
      {
        "duration": 15,
        "start_time": "2023-07-21T22:34:51.566Z"
      },
      {
        "duration": 35,
        "start_time": "2023-07-21T22:34:51.582Z"
      },
      {
        "duration": 20,
        "start_time": "2023-07-21T22:34:51.618Z"
      },
      {
        "duration": 49,
        "start_time": "2023-07-21T22:34:51.639Z"
      },
      {
        "duration": 28,
        "start_time": "2023-07-21T22:34:51.689Z"
      },
      {
        "duration": 40,
        "start_time": "2023-07-21T22:34:51.719Z"
      },
      {
        "duration": 38,
        "start_time": "2023-07-21T22:34:51.761Z"
      },
      {
        "duration": 113,
        "start_time": "2023-07-21T22:34:51.801Z"
      },
      {
        "duration": 96,
        "start_time": "2023-07-21T22:34:51.916Z"
      },
      {
        "duration": 17,
        "start_time": "2023-07-21T22:34:52.014Z"
      },
      {
        "duration": 7,
        "start_time": "2023-07-21T22:34:52.033Z"
      },
      {
        "duration": 19,
        "start_time": "2023-07-21T22:34:52.042Z"
      },
      {
        "duration": 1307,
        "start_time": "2023-07-21T22:34:52.063Z"
      },
      {
        "duration": 61,
        "start_time": "2023-07-21T22:34:53.372Z"
      },
      {
        "duration": 4,
        "start_time": "2023-07-21T22:34:53.434Z"
      },
      {
        "duration": 19,
        "start_time": "2023-07-21T22:34:53.439Z"
      },
      {
        "duration": 14,
        "start_time": "2023-07-21T22:34:53.460Z"
      },
      {
        "duration": 19,
        "start_time": "2023-07-21T22:34:53.475Z"
      },
      {
        "duration": 219,
        "start_time": "2023-07-21T22:34:53.497Z"
      },
      {
        "duration": 18,
        "start_time": "2023-07-21T22:34:53.718Z"
      },
      {
        "duration": 40,
        "start_time": "2023-07-21T22:34:53.737Z"
      },
      {
        "duration": 240,
        "start_time": "2023-07-21T22:34:53.778Z"
      },
      {
        "duration": 245,
        "start_time": "2023-07-21T22:34:54.020Z"
      },
      {
        "duration": 171,
        "start_time": "2023-07-21T22:34:54.267Z"
      },
      {
        "duration": 113,
        "start_time": "2023-07-21T22:35:31.119Z"
      },
      {
        "duration": 13,
        "start_time": "2023-07-21T22:35:31.234Z"
      },
      {
        "duration": 1771,
        "start_time": "2023-07-21T22:35:31.249Z"
      },
      {
        "duration": 13,
        "start_time": "2023-07-21T22:35:33.022Z"
      },
      {
        "duration": 20,
        "start_time": "2023-07-21T22:35:33.036Z"
      },
      {
        "duration": 19,
        "start_time": "2023-07-21T22:35:33.058Z"
      },
      {
        "duration": 17,
        "start_time": "2023-07-21T22:35:33.078Z"
      },
      {
        "duration": 13,
        "start_time": "2023-07-21T22:35:33.097Z"
      },
      {
        "duration": 6,
        "start_time": "2023-07-21T22:35:33.111Z"
      },
      {
        "duration": 14,
        "start_time": "2023-07-21T22:35:33.119Z"
      },
      {
        "duration": 8,
        "start_time": "2023-07-21T22:35:33.135Z"
      },
      {
        "duration": 16,
        "start_time": "2023-07-21T22:35:33.145Z"
      },
      {
        "duration": 24,
        "start_time": "2023-07-21T22:35:33.163Z"
      },
      {
        "duration": 5,
        "start_time": "2023-07-21T22:35:33.189Z"
      },
      {
        "duration": 15,
        "start_time": "2023-07-21T22:35:33.196Z"
      },
      {
        "duration": 14,
        "start_time": "2023-07-21T22:35:33.232Z"
      },
      {
        "duration": 98,
        "start_time": "2023-07-21T22:35:33.248Z"
      },
      {
        "duration": 117,
        "start_time": "2023-07-21T22:35:33.348Z"
      },
      {
        "duration": 7,
        "start_time": "2023-07-21T22:35:33.466Z"
      },
      {
        "duration": 17,
        "start_time": "2023-07-21T22:35:33.474Z"
      },
      {
        "duration": 6,
        "start_time": "2023-07-21T22:35:33.492Z"
      },
      {
        "duration": 1654,
        "start_time": "2023-07-21T22:35:33.500Z"
      },
      {
        "duration": 48,
        "start_time": "2023-07-21T22:35:35.156Z"
      },
      {
        "duration": 9,
        "start_time": "2023-07-21T22:35:35.205Z"
      },
      {
        "duration": 15,
        "start_time": "2023-07-21T22:35:35.216Z"
      },
      {
        "duration": 12,
        "start_time": "2023-07-21T22:35:35.233Z"
      },
      {
        "duration": 23,
        "start_time": "2023-07-21T22:35:35.246Z"
      },
      {
        "duration": 199,
        "start_time": "2023-07-21T22:35:35.272Z"
      },
      {
        "duration": 10,
        "start_time": "2023-07-21T22:35:35.472Z"
      },
      {
        "duration": 19,
        "start_time": "2023-07-21T22:35:35.484Z"
      },
      {
        "duration": 261,
        "start_time": "2023-07-21T22:35:35.505Z"
      },
      {
        "duration": 245,
        "start_time": "2023-07-21T22:35:35.768Z"
      },
      {
        "duration": 174,
        "start_time": "2023-07-21T22:35:36.015Z"
      },
      {
        "duration": 15,
        "start_time": "2023-07-21T22:39:13.222Z"
      },
      {
        "duration": 1215,
        "start_time": "2023-07-21T22:40:20.767Z"
      },
      {
        "duration": 111,
        "start_time": "2023-07-21T22:40:50.893Z"
      },
      {
        "duration": 26,
        "start_time": "2023-07-21T22:40:51.006Z"
      },
      {
        "duration": 1726,
        "start_time": "2023-07-21T22:40:51.033Z"
      },
      {
        "duration": 9,
        "start_time": "2023-07-21T22:40:52.761Z"
      },
      {
        "duration": 12,
        "start_time": "2023-07-21T22:40:52.771Z"
      },
      {
        "duration": 6,
        "start_time": "2023-07-21T22:40:52.784Z"
      },
      {
        "duration": 12,
        "start_time": "2023-07-21T22:40:52.792Z"
      },
      {
        "duration": 16,
        "start_time": "2023-07-21T22:40:52.806Z"
      },
      {
        "duration": 11,
        "start_time": "2023-07-21T22:40:52.823Z"
      },
      {
        "duration": 11,
        "start_time": "2023-07-21T22:40:52.836Z"
      },
      {
        "duration": 11,
        "start_time": "2023-07-21T22:40:52.848Z"
      },
      {
        "duration": 13,
        "start_time": "2023-07-21T22:40:52.860Z"
      },
      {
        "duration": 23,
        "start_time": "2023-07-21T22:40:52.874Z"
      },
      {
        "duration": 6,
        "start_time": "2023-07-21T22:40:52.898Z"
      },
      {
        "duration": 26,
        "start_time": "2023-07-21T22:40:52.905Z"
      },
      {
        "duration": 14,
        "start_time": "2023-07-21T22:40:52.933Z"
      },
      {
        "duration": 107,
        "start_time": "2023-07-21T22:40:52.948Z"
      },
      {
        "duration": 102,
        "start_time": "2023-07-21T22:40:53.056Z"
      },
      {
        "duration": 6,
        "start_time": "2023-07-21T22:40:53.160Z"
      },
      {
        "duration": 33,
        "start_time": "2023-07-21T22:40:53.168Z"
      },
      {
        "duration": 8,
        "start_time": "2023-07-21T22:40:53.202Z"
      },
      {
        "duration": 1591,
        "start_time": "2023-07-21T22:40:53.211Z"
      },
      {
        "duration": 55,
        "start_time": "2023-07-21T22:40:54.803Z"
      },
      {
        "duration": 3,
        "start_time": "2023-07-21T22:40:54.860Z"
      },
      {
        "duration": 11,
        "start_time": "2023-07-21T22:40:54.865Z"
      },
      {
        "duration": 12,
        "start_time": "2023-07-21T22:40:54.878Z"
      },
      {
        "duration": 7,
        "start_time": "2023-07-21T22:40:54.892Z"
      },
      {
        "duration": 195,
        "start_time": "2023-07-21T22:40:54.902Z"
      },
      {
        "duration": 10,
        "start_time": "2023-07-21T22:40:55.099Z"
      },
      {
        "duration": 46,
        "start_time": "2023-07-21T22:40:55.110Z"
      },
      {
        "duration": 259,
        "start_time": "2023-07-21T22:40:55.157Z"
      },
      {
        "duration": 260,
        "start_time": "2023-07-21T22:40:55.418Z"
      },
      {
        "duration": 180,
        "start_time": "2023-07-21T22:40:55.679Z"
      },
      {
        "duration": 105,
        "start_time": "2023-07-21T22:41:29.804Z"
      },
      {
        "duration": 29,
        "start_time": "2023-07-21T22:41:29.911Z"
      },
      {
        "duration": 1711,
        "start_time": "2023-07-21T22:41:29.942Z"
      },
      {
        "duration": 11,
        "start_time": "2023-07-21T22:41:31.655Z"
      },
      {
        "duration": 27,
        "start_time": "2023-07-21T22:41:31.668Z"
      },
      {
        "duration": 31,
        "start_time": "2023-07-21T22:41:31.697Z"
      },
      {
        "duration": 24,
        "start_time": "2023-07-21T22:41:31.730Z"
      },
      {
        "duration": 35,
        "start_time": "2023-07-21T22:41:31.755Z"
      },
      {
        "duration": 12,
        "start_time": "2023-07-21T22:41:31.791Z"
      },
      {
        "duration": 12,
        "start_time": "2023-07-21T22:41:31.805Z"
      },
      {
        "duration": 21,
        "start_time": "2023-07-21T22:41:31.818Z"
      },
      {
        "duration": 15,
        "start_time": "2023-07-21T22:41:31.840Z"
      },
      {
        "duration": 30,
        "start_time": "2023-07-21T22:41:31.856Z"
      },
      {
        "duration": 5,
        "start_time": "2023-07-21T22:41:31.887Z"
      },
      {
        "duration": 9,
        "start_time": "2023-07-21T22:41:31.893Z"
      },
      {
        "duration": 19,
        "start_time": "2023-07-21T22:41:31.903Z"
      },
      {
        "duration": 90,
        "start_time": "2023-07-21T22:41:31.932Z"
      },
      {
        "duration": 109,
        "start_time": "2023-07-21T22:41:32.023Z"
      },
      {
        "duration": 7,
        "start_time": "2023-07-21T22:41:32.133Z"
      },
      {
        "duration": 8,
        "start_time": "2023-07-21T22:41:32.141Z"
      },
      {
        "duration": 9,
        "start_time": "2023-07-21T22:41:32.150Z"
      },
      {
        "duration": 1623,
        "start_time": "2023-07-21T22:41:32.160Z"
      },
      {
        "duration": 53,
        "start_time": "2023-07-21T22:41:33.785Z"
      },
      {
        "duration": 4,
        "start_time": "2023-07-21T22:41:33.839Z"
      },
      {
        "duration": 9,
        "start_time": "2023-07-21T22:41:33.845Z"
      },
      {
        "duration": 4,
        "start_time": "2023-07-21T22:41:33.856Z"
      },
      {
        "duration": 15,
        "start_time": "2023-07-21T22:41:33.862Z"
      },
      {
        "duration": 208,
        "start_time": "2023-07-21T22:41:33.879Z"
      },
      {
        "duration": 10,
        "start_time": "2023-07-21T22:41:34.089Z"
      },
      {
        "duration": 45,
        "start_time": "2023-07-21T22:41:34.101Z"
      },
      {
        "duration": 236,
        "start_time": "2023-07-21T22:41:34.147Z"
      },
      {
        "duration": 284,
        "start_time": "2023-07-21T22:41:34.385Z"
      },
      {
        "duration": 195,
        "start_time": "2023-07-21T22:41:34.671Z"
      },
      {
        "duration": 268,
        "start_time": "2023-07-21T22:44:45.575Z"
      },
      {
        "duration": 245,
        "start_time": "2023-07-21T22:49:00.665Z"
      },
      {
        "duration": 226,
        "start_time": "2023-07-21T22:51:25.011Z"
      },
      {
        "duration": 239,
        "start_time": "2023-07-21T22:51:46.856Z"
      },
      {
        "duration": 577,
        "start_time": "2023-07-21T22:51:57.558Z"
      },
      {
        "duration": 202,
        "start_time": "2023-07-21T22:52:07.038Z"
      },
      {
        "duration": 128,
        "start_time": "2023-07-21T22:52:31.009Z"
      },
      {
        "duration": 2099,
        "start_time": "2023-07-21T22:53:12.078Z"
      },
      {
        "duration": 204,
        "start_time": "2023-07-21T22:53:35.473Z"
      },
      {
        "duration": 650,
        "start_time": "2023-07-21T22:54:04.942Z"
      },
      {
        "duration": 534,
        "start_time": "2023-07-21T22:54:35.265Z"
      },
      {
        "duration": 565,
        "start_time": "2023-07-21T22:54:56.270Z"
      },
      {
        "duration": 549,
        "start_time": "2023-07-21T22:55:08.534Z"
      },
      {
        "duration": 151,
        "start_time": "2023-07-21T22:55:17.482Z"
      },
      {
        "duration": 155,
        "start_time": "2023-07-21T22:55:59.217Z"
      },
      {
        "duration": 263,
        "start_time": "2023-07-21T22:56:04.812Z"
      },
      {
        "duration": 204,
        "start_time": "2023-07-21T22:57:04.904Z"
      },
      {
        "duration": 4857,
        "start_time": "2023-07-21T22:57:08.619Z"
      },
      {
        "duration": 362,
        "start_time": "2023-07-21T22:57:17.445Z"
      },
      {
        "duration": 220,
        "start_time": "2023-07-21T22:57:23.536Z"
      },
      {
        "duration": 341,
        "start_time": "2023-07-21T22:57:28.364Z"
      },
      {
        "duration": 554,
        "start_time": "2023-07-21T22:57:33.831Z"
      },
      {
        "duration": 346,
        "start_time": "2023-07-21T22:57:39.501Z"
      },
      {
        "duration": 303,
        "start_time": "2023-07-21T22:57:43.557Z"
      },
      {
        "duration": 614,
        "start_time": "2023-07-23T07:02:36.953Z"
      },
      {
        "duration": 383,
        "start_time": "2023-07-23T07:02:41.649Z"
      },
      {
        "duration": 16,
        "start_time": "2023-07-23T07:02:42.034Z"
      },
      {
        "duration": 2063,
        "start_time": "2023-07-23T07:02:42.052Z"
      },
      {
        "duration": 10,
        "start_time": "2023-07-23T07:02:44.117Z"
      },
      {
        "duration": 13,
        "start_time": "2023-07-23T07:02:44.129Z"
      },
      {
        "duration": 8,
        "start_time": "2023-07-23T07:02:44.144Z"
      },
      {
        "duration": 15,
        "start_time": "2023-07-23T07:02:44.153Z"
      },
      {
        "duration": 14,
        "start_time": "2023-07-23T07:02:44.169Z"
      },
      {
        "duration": 21,
        "start_time": "2023-07-23T07:02:44.185Z"
      },
      {
        "duration": 11,
        "start_time": "2023-07-23T07:02:44.209Z"
      },
      {
        "duration": 18,
        "start_time": "2023-07-23T07:02:44.221Z"
      },
      {
        "duration": 17,
        "start_time": "2023-07-23T07:02:44.241Z"
      },
      {
        "duration": 27,
        "start_time": "2023-07-23T07:02:44.260Z"
      },
      {
        "duration": 7,
        "start_time": "2023-07-23T07:02:44.288Z"
      },
      {
        "duration": 23,
        "start_time": "2023-07-23T07:02:44.297Z"
      },
      {
        "duration": 30,
        "start_time": "2023-07-23T07:02:44.322Z"
      },
      {
        "duration": 159,
        "start_time": "2023-07-23T07:02:44.354Z"
      },
      {
        "duration": 137,
        "start_time": "2023-07-23T07:02:44.515Z"
      },
      {
        "duration": 8,
        "start_time": "2023-07-23T07:02:44.654Z"
      },
      {
        "duration": 11,
        "start_time": "2023-07-23T07:02:44.663Z"
      },
      {
        "duration": 7,
        "start_time": "2023-07-23T07:02:44.676Z"
      },
      {
        "duration": 2244,
        "start_time": "2023-07-23T07:02:44.684Z"
      },
      {
        "duration": 67,
        "start_time": "2023-07-23T07:02:46.934Z"
      },
      {
        "duration": 12,
        "start_time": "2023-07-23T07:02:47.003Z"
      },
      {
        "duration": 9,
        "start_time": "2023-07-23T07:02:47.017Z"
      },
      {
        "duration": 6,
        "start_time": "2023-07-23T07:02:47.028Z"
      },
      {
        "duration": 11,
        "start_time": "2023-07-23T07:02:47.036Z"
      },
      {
        "duration": 498,
        "start_time": "2023-07-23T07:02:47.052Z"
      },
      {
        "duration": 16,
        "start_time": "2023-07-23T07:02:47.553Z"
      },
      {
        "duration": 52,
        "start_time": "2023-07-23T07:02:47.572Z"
      },
      {
        "duration": 361,
        "start_time": "2023-07-23T07:02:47.627Z"
      },
      {
        "duration": 358,
        "start_time": "2023-07-23T07:02:47.990Z"
      },
      {
        "duration": 324,
        "start_time": "2023-07-23T07:02:48.349Z"
      },
      {
        "duration": 417,
        "start_time": "2023-07-23T07:02:48.675Z"
      },
      {
        "duration": 196,
        "start_time": "2023-07-23T07:11:09.901Z"
      },
      {
        "duration": 383,
        "start_time": "2023-07-23T07:11:15.476Z"
      },
      {
        "duration": 235,
        "start_time": "2023-07-23T07:11:24.074Z"
      },
      {
        "duration": 321,
        "start_time": "2023-07-23T07:11:32.072Z"
      },
      {
        "duration": 164,
        "start_time": "2023-07-23T07:14:56.724Z"
      },
      {
        "duration": 240,
        "start_time": "2023-07-23T07:15:02.312Z"
      },
      {
        "duration": 309,
        "start_time": "2023-07-23T07:15:13.540Z"
      },
      {
        "duration": 220,
        "start_time": "2023-07-23T07:15:20.449Z"
      },
      {
        "duration": 386,
        "start_time": "2023-07-23T07:15:26.470Z"
      },
      {
        "duration": 2439,
        "start_time": "2023-07-23T07:15:59.304Z"
      },
      {
        "duration": 115,
        "start_time": "2023-07-23T07:18:14.803Z"
      },
      {
        "duration": 108,
        "start_time": "2023-07-23T07:18:43.692Z"
      },
      {
        "duration": 2645,
        "start_time": "2023-07-23T07:19:02.600Z"
      },
      {
        "duration": 183,
        "start_time": "2023-07-23T07:19:24.377Z"
      },
      {
        "duration": 3385,
        "start_time": "2023-07-23T07:20:15.700Z"
      },
      {
        "duration": 526,
        "start_time": "2023-07-23T07:21:10.751Z"
      },
      {
        "duration": 234,
        "start_time": "2023-07-23T07:21:51.518Z"
      },
      {
        "duration": 229,
        "start_time": "2023-07-23T07:22:04.213Z"
      },
      {
        "duration": 307,
        "start_time": "2023-07-23T07:22:12.864Z"
      },
      {
        "duration": 220,
        "start_time": "2023-07-23T07:22:25.619Z"
      },
      {
        "duration": 238,
        "start_time": "2023-07-23T07:22:57.134Z"
      },
      {
        "duration": 111,
        "start_time": "2023-07-23T07:25:00.234Z"
      },
      {
        "duration": 283,
        "start_time": "2023-07-23T07:25:50.743Z"
      },
      {
        "duration": 268,
        "start_time": "2023-07-23T07:27:25.682Z"
      },
      {
        "duration": 265,
        "start_time": "2023-07-23T07:32:55.222Z"
      },
      {
        "duration": 265,
        "start_time": "2023-07-23T07:36:37.071Z"
      },
      {
        "duration": 206,
        "start_time": "2023-07-23T07:36:43.366Z"
      },
      {
        "duration": 160,
        "start_time": "2023-07-23T07:36:57.849Z"
      },
      {
        "duration": 180,
        "start_time": "2023-07-23T07:37:02.461Z"
      },
      {
        "duration": 213,
        "start_time": "2023-07-23T07:37:09.560Z"
      },
      {
        "duration": 147,
        "start_time": "2023-07-23T07:37:28.728Z"
      },
      {
        "duration": 169,
        "start_time": "2023-07-23T07:37:32.248Z"
      },
      {
        "duration": 155,
        "start_time": "2023-07-23T07:37:36.172Z"
      },
      {
        "duration": 191,
        "start_time": "2023-07-23T07:37:43.776Z"
      },
      {
        "duration": 182,
        "start_time": "2023-07-23T07:38:10.427Z"
      },
      {
        "duration": 178,
        "start_time": "2023-07-23T07:41:58.292Z"
      },
      {
        "duration": 179,
        "start_time": "2023-07-23T07:42:04.277Z"
      },
      {
        "duration": 164,
        "start_time": "2023-07-23T07:42:14.878Z"
      },
      {
        "duration": 164,
        "start_time": "2023-07-23T07:42:18.531Z"
      },
      {
        "duration": 197,
        "start_time": "2023-07-23T07:42:21.731Z"
      },
      {
        "duration": 276,
        "start_time": "2023-07-23T07:42:56.879Z"
      },
      {
        "duration": 652,
        "start_time": "2023-07-23T07:43:36.857Z"
      },
      {
        "duration": 224,
        "start_time": "2023-07-23T07:44:06.346Z"
      },
      {
        "duration": 233,
        "start_time": "2023-07-23T07:44:25.833Z"
      },
      {
        "duration": 229,
        "start_time": "2023-07-23T07:46:44.942Z"
      },
      {
        "duration": 239,
        "start_time": "2023-07-23T07:46:56.036Z"
      },
      {
        "duration": 208,
        "start_time": "2023-07-23T07:51:37.203Z"
      },
      {
        "duration": 207,
        "start_time": "2023-07-23T07:52:44.686Z"
      },
      {
        "duration": 207,
        "start_time": "2023-07-23T07:52:49.345Z"
      },
      {
        "duration": 243,
        "start_time": "2023-07-23T07:52:52.702Z"
      },
      {
        "duration": 23,
        "start_time": "2023-07-23T07:55:05.667Z"
      },
      {
        "duration": 16,
        "start_time": "2023-07-23T07:55:22.685Z"
      },
      {
        "duration": 15,
        "start_time": "2023-07-23T08:36:34.125Z"
      },
      {
        "duration": 183,
        "start_time": "2023-07-23T08:37:46.507Z"
      },
      {
        "duration": 153,
        "start_time": "2023-07-23T08:37:54.350Z"
      },
      {
        "duration": 196,
        "start_time": "2023-07-23T08:38:02.251Z"
      },
      {
        "duration": 140,
        "start_time": "2023-07-23T08:38:07.447Z"
      },
      {
        "duration": 223,
        "start_time": "2023-07-23T08:46:37.830Z"
      },
      {
        "duration": 191,
        "start_time": "2023-07-23T08:46:46.600Z"
      },
      {
        "duration": 203,
        "start_time": "2023-07-23T08:46:52.804Z"
      },
      {
        "duration": 253,
        "start_time": "2023-07-23T08:46:58.296Z"
      },
      {
        "duration": 213,
        "start_time": "2023-07-23T08:47:17.671Z"
      },
      {
        "duration": 219,
        "start_time": "2023-07-23T08:47:32.525Z"
      },
      {
        "duration": 165,
        "start_time": "2023-07-23T08:47:43.362Z"
      },
      {
        "duration": 213,
        "start_time": "2023-07-23T08:47:47.252Z"
      },
      {
        "duration": 223,
        "start_time": "2023-07-23T09:06:50.365Z"
      },
      {
        "duration": 222,
        "start_time": "2023-07-23T09:06:56.281Z"
      },
      {
        "duration": 273,
        "start_time": "2023-07-23T09:07:00.191Z"
      },
      {
        "duration": 280,
        "start_time": "2023-07-23T09:07:07.268Z"
      },
      {
        "duration": 218,
        "start_time": "2023-07-23T09:07:42.814Z"
      },
      {
        "duration": 688,
        "start_time": "2023-07-23T09:08:04.554Z"
      },
      {
        "duration": 216,
        "start_time": "2023-07-23T09:08:11.973Z"
      },
      {
        "duration": 253,
        "start_time": "2023-07-23T09:08:35.148Z"
      },
      {
        "duration": 175,
        "start_time": "2023-07-23T09:08:45.317Z"
      },
      {
        "duration": 294,
        "start_time": "2023-07-23T09:09:09.852Z"
      },
      {
        "duration": 274,
        "start_time": "2023-07-23T09:09:30.857Z"
      },
      {
        "duration": 268,
        "start_time": "2023-07-23T09:09:45.320Z"
      },
      {
        "duration": 283,
        "start_time": "2023-07-23T09:09:59.077Z"
      },
      {
        "duration": 299,
        "start_time": "2023-07-23T09:20:21.002Z"
      },
      {
        "duration": 393,
        "start_time": "2023-07-23T09:20:56.399Z"
      },
      {
        "duration": 257,
        "start_time": "2023-07-23T09:21:17.096Z"
      },
      {
        "duration": 294,
        "start_time": "2023-07-23T09:22:28.687Z"
      },
      {
        "duration": 303,
        "start_time": "2023-07-23T09:22:48.099Z"
      },
      {
        "duration": 275,
        "start_time": "2023-07-23T09:22:55.924Z"
      },
      {
        "duration": 269,
        "start_time": "2023-07-23T09:29:36.288Z"
      },
      {
        "duration": 292,
        "start_time": "2023-07-23T09:31:38.264Z"
      },
      {
        "duration": 291,
        "start_time": "2023-07-23T09:31:54.598Z"
      },
      {
        "duration": 286,
        "start_time": "2023-07-23T09:34:29.111Z"
      },
      {
        "duration": 231,
        "start_time": "2023-07-23T09:34:38.891Z"
      },
      {
        "duration": 266,
        "start_time": "2023-07-23T09:34:41.940Z"
      },
      {
        "duration": 365,
        "start_time": "2023-07-23T09:38:03.689Z"
      },
      {
        "duration": 1179,
        "start_time": "2023-07-23T09:38:48.837Z"
      },
      {
        "duration": 555,
        "start_time": "2023-07-23T09:44:22.099Z"
      },
      {
        "duration": 56,
        "start_time": "2023-07-23T09:45:16.263Z"
      },
      {
        "duration": 215,
        "start_time": "2023-07-23T09:46:03.717Z"
      },
      {
        "duration": 362,
        "start_time": "2023-07-23T09:46:37.051Z"
      },
      {
        "duration": 321,
        "start_time": "2023-07-23T09:47:33.180Z"
      },
      {
        "duration": 223,
        "start_time": "2023-07-23T13:18:50.774Z"
      },
      {
        "duration": 177,
        "start_time": "2023-07-23T13:18:55.655Z"
      },
      {
        "duration": 239,
        "start_time": "2023-07-23T13:18:59.168Z"
      },
      {
        "duration": 269,
        "start_time": "2023-07-23T13:19:08.244Z"
      },
      {
        "duration": 195,
        "start_time": "2023-07-23T13:19:12.144Z"
      },
      {
        "duration": 303,
        "start_time": "2023-07-23T13:19:53.106Z"
      },
      {
        "duration": 210,
        "start_time": "2023-07-23T13:20:00.558Z"
      },
      {
        "duration": 204,
        "start_time": "2023-07-23T13:20:31.915Z"
      },
      {
        "duration": 233,
        "start_time": "2023-07-23T13:23:30.949Z"
      },
      {
        "duration": 124,
        "start_time": "2023-07-23T13:23:36.172Z"
      },
      {
        "duration": 286,
        "start_time": "2023-07-23T13:25:17.174Z"
      },
      {
        "duration": 300,
        "start_time": "2023-07-23T13:25:48.928Z"
      },
      {
        "duration": 326,
        "start_time": "2023-07-23T13:28:05.947Z"
      },
      {
        "duration": 47,
        "start_time": "2023-07-23T18:06:53.004Z"
      },
      {
        "duration": 1134,
        "start_time": "2023-07-23T18:06:57.995Z"
      },
      {
        "duration": 14,
        "start_time": "2023-07-23T18:06:59.131Z"
      },
      {
        "duration": 2773,
        "start_time": "2023-07-23T18:06:59.146Z"
      },
      {
        "duration": 9,
        "start_time": "2023-07-23T18:07:01.921Z"
      },
      {
        "duration": 40,
        "start_time": "2023-07-23T18:07:01.933Z"
      },
      {
        "duration": 39,
        "start_time": "2023-07-23T18:07:01.976Z"
      },
      {
        "duration": 37,
        "start_time": "2023-07-23T18:07:02.017Z"
      },
      {
        "duration": 27,
        "start_time": "2023-07-23T18:07:02.057Z"
      },
      {
        "duration": 41,
        "start_time": "2023-07-23T18:07:02.086Z"
      },
      {
        "duration": 40,
        "start_time": "2023-07-23T18:07:02.128Z"
      },
      {
        "duration": 50,
        "start_time": "2023-07-23T18:07:02.170Z"
      },
      {
        "duration": 46,
        "start_time": "2023-07-23T18:07:02.221Z"
      },
      {
        "duration": 48,
        "start_time": "2023-07-23T18:07:02.269Z"
      },
      {
        "duration": 7,
        "start_time": "2023-07-23T18:07:02.321Z"
      },
      {
        "duration": 27,
        "start_time": "2023-07-23T18:07:02.330Z"
      },
      {
        "duration": 53,
        "start_time": "2023-07-23T18:07:02.359Z"
      },
      {
        "duration": 142,
        "start_time": "2023-07-23T18:07:02.414Z"
      },
      {
        "duration": 141,
        "start_time": "2023-07-23T18:07:02.558Z"
      },
      {
        "duration": 8,
        "start_time": "2023-07-23T18:07:02.700Z"
      },
      {
        "duration": 38,
        "start_time": "2023-07-23T18:07:02.709Z"
      },
      {
        "duration": 18,
        "start_time": "2023-07-23T18:07:02.749Z"
      },
      {
        "duration": 1882,
        "start_time": "2023-07-23T18:07:02.770Z"
      },
      {
        "duration": 60,
        "start_time": "2023-07-23T18:07:04.654Z"
      },
      {
        "duration": 149,
        "start_time": "2023-07-23T18:07:04.716Z"
      },
      {
        "duration": 5,
        "start_time": "2023-07-23T18:07:04.867Z"
      },
      {
        "duration": 19,
        "start_time": "2023-07-23T18:07:04.873Z"
      },
      {
        "duration": 9,
        "start_time": "2023-07-23T18:07:04.894Z"
      },
      {
        "duration": 11,
        "start_time": "2023-07-23T18:07:04.905Z"
      },
      {
        "duration": 297,
        "start_time": "2023-07-23T18:07:04.918Z"
      },
      {
        "duration": 11,
        "start_time": "2023-07-23T18:07:05.217Z"
      },
      {
        "duration": 33,
        "start_time": "2023-07-23T18:07:05.230Z"
      },
      {
        "duration": 298,
        "start_time": "2023-07-23T18:07:05.266Z"
      },
      {
        "duration": 309,
        "start_time": "2023-07-23T18:07:05.567Z"
      },
      {
        "duration": 260,
        "start_time": "2023-07-23T18:07:05.878Z"
      },
      {
        "duration": 285,
        "start_time": "2023-07-23T18:07:06.140Z"
      },
      {
        "duration": 173,
        "start_time": "2023-07-23T18:07:06.427Z"
      },
      {
        "duration": 363,
        "start_time": "2023-07-23T18:07:06.602Z"
      },
      {
        "duration": 245,
        "start_time": "2023-07-23T18:07:06.967Z"
      },
      {
        "duration": 175,
        "start_time": "2023-07-23T18:07:07.214Z"
      },
      {
        "duration": 252,
        "start_time": "2023-07-23T18:07:07.391Z"
      },
      {
        "duration": 318,
        "start_time": "2023-07-23T18:07:07.651Z"
      },
      {
        "duration": 350,
        "start_time": "2023-07-23T18:07:07.972Z"
      },
      {
        "duration": 490,
        "start_time": "2023-07-23T18:07:08.324Z"
      },
      {
        "duration": 312,
        "start_time": "2023-07-23T18:07:08.816Z"
      },
      {
        "duration": 287,
        "start_time": "2023-07-23T18:07:09.129Z"
      },
      {
        "duration": 139,
        "start_time": "2023-07-23T18:07:44.899Z"
      },
      {
        "duration": 184,
        "start_time": "2023-07-23T18:08:03.720Z"
      },
      {
        "duration": 329,
        "start_time": "2023-07-23T18:10:34.995Z"
      },
      {
        "duration": 289,
        "start_time": "2023-07-23T18:12:35.598Z"
      },
      {
        "duration": 127,
        "start_time": "2023-07-23T18:12:44.436Z"
      },
      {
        "duration": 16,
        "start_time": "2023-07-23T18:12:44.566Z"
      },
      {
        "duration": 2045,
        "start_time": "2023-07-23T18:12:44.584Z"
      },
      {
        "duration": 9,
        "start_time": "2023-07-23T18:12:46.631Z"
      },
      {
        "duration": 13,
        "start_time": "2023-07-23T18:12:46.641Z"
      },
      {
        "duration": 18,
        "start_time": "2023-07-23T18:12:46.656Z"
      },
      {
        "duration": 12,
        "start_time": "2023-07-23T18:12:46.678Z"
      },
      {
        "duration": 12,
        "start_time": "2023-07-23T18:12:46.692Z"
      },
      {
        "duration": 7,
        "start_time": "2023-07-23T18:12:46.705Z"
      },
      {
        "duration": 20,
        "start_time": "2023-07-23T18:12:46.714Z"
      },
      {
        "duration": 30,
        "start_time": "2023-07-23T18:12:46.736Z"
      },
      {
        "duration": 19,
        "start_time": "2023-07-23T18:12:46.767Z"
      },
      {
        "duration": 27,
        "start_time": "2023-07-23T18:12:46.787Z"
      },
      {
        "duration": 7,
        "start_time": "2023-07-23T18:12:46.815Z"
      },
      {
        "duration": 29,
        "start_time": "2023-07-23T18:12:46.823Z"
      },
      {
        "duration": 25,
        "start_time": "2023-07-23T18:12:46.855Z"
      },
      {
        "duration": 127,
        "start_time": "2023-07-23T18:12:46.882Z"
      },
      {
        "duration": 121,
        "start_time": "2023-07-23T18:12:47.010Z"
      },
      {
        "duration": 19,
        "start_time": "2023-07-23T18:12:47.133Z"
      },
      {
        "duration": 10,
        "start_time": "2023-07-23T18:12:47.154Z"
      },
      {
        "duration": 12,
        "start_time": "2023-07-23T18:12:47.166Z"
      },
      {
        "duration": 2123,
        "start_time": "2023-07-23T18:12:47.180Z"
      },
      {
        "duration": 80,
        "start_time": "2023-07-23T18:12:49.304Z"
      },
      {
        "duration": 268,
        "start_time": "2023-07-23T18:12:49.386Z"
      },
      {
        "duration": 6,
        "start_time": "2023-07-23T18:12:49.656Z"
      },
      {
        "duration": 16,
        "start_time": "2023-07-23T18:12:49.665Z"
      },
      {
        "duration": 9,
        "start_time": "2023-07-23T18:12:49.683Z"
      },
      {
        "duration": 7,
        "start_time": "2023-07-23T18:12:49.696Z"
      },
      {
        "duration": 370,
        "start_time": "2023-07-23T18:12:49.705Z"
      },
      {
        "duration": 12,
        "start_time": "2023-07-23T18:12:50.076Z"
      },
      {
        "duration": 22,
        "start_time": "2023-07-23T18:12:50.090Z"
      },
      {
        "duration": 298,
        "start_time": "2023-07-23T18:12:50.114Z"
      },
      {
        "duration": 325,
        "start_time": "2023-07-23T18:12:50.415Z"
      },
      {
        "duration": 275,
        "start_time": "2023-07-23T18:12:50.742Z"
      },
      {
        "duration": 284,
        "start_time": "2023-07-23T18:12:51.019Z"
      },
      {
        "duration": 175,
        "start_time": "2023-07-23T18:12:51.305Z"
      },
      {
        "duration": 269,
        "start_time": "2023-07-23T18:12:51.482Z"
      },
      {
        "duration": 245,
        "start_time": "2023-07-23T18:12:51.753Z"
      },
      {
        "duration": 141,
        "start_time": "2023-07-23T18:12:52.000Z"
      },
      {
        "duration": 495,
        "start_time": "2023-07-23T18:12:52.152Z"
      },
      {
        "duration": 299,
        "start_time": "2023-07-23T18:12:52.648Z"
      },
      {
        "duration": 303,
        "start_time": "2023-07-23T18:12:52.952Z"
      },
      {
        "duration": 282,
        "start_time": "2023-07-23T18:12:53.257Z"
      },
      {
        "duration": 307,
        "start_time": "2023-07-23T18:12:53.541Z"
      },
      {
        "duration": 248,
        "start_time": "2023-07-23T18:12:53.853Z"
      },
      {
        "duration": 133,
        "start_time": "2023-07-23T18:16:17.605Z"
      },
      {
        "duration": 241,
        "start_time": "2023-07-23T18:17:11.649Z"
      },
      {
        "duration": 229,
        "start_time": "2023-07-23T18:17:22.774Z"
      },
      {
        "duration": 240,
        "start_time": "2023-07-23T18:18:40.599Z"
      },
      {
        "duration": 375,
        "start_time": "2023-07-23T18:21:07.324Z"
      },
      {
        "duration": 115,
        "start_time": "2023-07-23T18:22:00.739Z"
      },
      {
        "duration": 236,
        "start_time": "2023-07-23T18:22:04.567Z"
      },
      {
        "duration": 35,
        "start_time": "2023-07-23T18:23:11.993Z"
      },
      {
        "duration": 8,
        "start_time": "2023-07-23T18:23:36.599Z"
      },
      {
        "duration": 217,
        "start_time": "2023-07-23T18:23:42.493Z"
      },
      {
        "duration": 224,
        "start_time": "2023-07-23T18:24:06.027Z"
      },
      {
        "duration": 9,
        "start_time": "2023-07-23T18:30:42.345Z"
      },
      {
        "duration": 9,
        "start_time": "2023-07-23T18:30:54.200Z"
      },
      {
        "duration": 484,
        "start_time": "2023-07-23T18:32:46.036Z"
      },
      {
        "duration": 575,
        "start_time": "2023-07-23T18:34:40.186Z"
      },
      {
        "duration": 165,
        "start_time": "2023-07-23T18:35:29.568Z"
      },
      {
        "duration": 39,
        "start_time": "2023-07-23T18:38:03.912Z"
      },
      {
        "duration": 121,
        "start_time": "2023-07-23T18:38:12.298Z"
      },
      {
        "duration": 149,
        "start_time": "2023-07-23T18:38:30.199Z"
      },
      {
        "duration": 123,
        "start_time": "2023-07-23T18:39:22.809Z"
      },
      {
        "duration": 50,
        "start_time": "2023-07-23T19:51:05.010Z"
      },
      {
        "duration": 748,
        "start_time": "2023-07-23T19:51:08.923Z"
      },
      {
        "duration": 13,
        "start_time": "2023-07-23T19:51:09.672Z"
      },
      {
        "duration": 2528,
        "start_time": "2023-07-23T19:51:09.687Z"
      },
      {
        "duration": 9,
        "start_time": "2023-07-23T19:51:12.217Z"
      },
      {
        "duration": 8,
        "start_time": "2023-07-23T19:51:12.229Z"
      },
      {
        "duration": 4,
        "start_time": "2023-07-23T19:51:12.239Z"
      },
      {
        "duration": 12,
        "start_time": "2023-07-23T19:51:12.245Z"
      },
      {
        "duration": 14,
        "start_time": "2023-07-23T19:51:12.259Z"
      },
      {
        "duration": 8,
        "start_time": "2023-07-23T19:51:12.274Z"
      },
      {
        "duration": 7,
        "start_time": "2023-07-23T19:51:12.284Z"
      },
      {
        "duration": 12,
        "start_time": "2023-07-23T19:51:12.292Z"
      },
      {
        "duration": 12,
        "start_time": "2023-07-23T19:51:12.306Z"
      },
      {
        "duration": 51,
        "start_time": "2023-07-23T19:51:12.320Z"
      },
      {
        "duration": 6,
        "start_time": "2023-07-23T19:51:12.374Z"
      },
      {
        "duration": 11,
        "start_time": "2023-07-23T19:51:12.382Z"
      },
      {
        "duration": 19,
        "start_time": "2023-07-23T19:51:12.395Z"
      },
      {
        "duration": 116,
        "start_time": "2023-07-23T19:51:12.415Z"
      },
      {
        "duration": 109,
        "start_time": "2023-07-23T19:51:12.533Z"
      },
      {
        "duration": 55,
        "start_time": "2023-07-23T19:51:12.643Z"
      },
      {
        "duration": 17,
        "start_time": "2023-07-23T19:51:12.700Z"
      },
      {
        "duration": 10,
        "start_time": "2023-07-23T19:51:12.719Z"
      },
      {
        "duration": 1722,
        "start_time": "2023-07-23T19:51:12.731Z"
      },
      {
        "duration": 54,
        "start_time": "2023-07-23T19:51:14.455Z"
      },
      {
        "duration": 346,
        "start_time": "2023-07-23T19:51:14.511Z"
      },
      {
        "duration": 5,
        "start_time": "2023-07-23T19:51:14.859Z"
      },
      {
        "duration": 8,
        "start_time": "2023-07-23T19:51:14.866Z"
      },
      {
        "duration": 7,
        "start_time": "2023-07-23T19:51:14.876Z"
      },
      {
        "duration": 30,
        "start_time": "2023-07-23T19:51:14.884Z"
      },
      {
        "duration": 178,
        "start_time": "2023-07-23T19:51:14.916Z"
      },
      {
        "duration": 11,
        "start_time": "2023-07-23T19:51:15.095Z"
      },
      {
        "duration": 51,
        "start_time": "2023-07-23T19:51:15.108Z"
      },
      {
        "duration": 266,
        "start_time": "2023-07-23T19:51:15.160Z"
      },
      {
        "duration": 258,
        "start_time": "2023-07-23T19:51:15.427Z"
      },
      {
        "duration": 245,
        "start_time": "2023-07-23T19:51:15.687Z"
      },
      {
        "duration": 256,
        "start_time": "2023-07-23T19:51:15.934Z"
      },
      {
        "duration": 262,
        "start_time": "2023-07-23T19:51:16.192Z"
      },
      {
        "duration": 229,
        "start_time": "2023-07-23T19:51:16.455Z"
      },
      {
        "duration": 222,
        "start_time": "2023-07-23T19:51:16.686Z"
      },
      {
        "duration": 122,
        "start_time": "2023-07-23T19:51:16.910Z"
      },
      {
        "duration": 238,
        "start_time": "2023-07-23T19:51:17.034Z"
      },
      {
        "duration": 261,
        "start_time": "2023-07-23T19:51:17.276Z"
      },
      {
        "duration": 373,
        "start_time": "2023-07-23T19:51:17.539Z"
      },
      {
        "duration": 262,
        "start_time": "2023-07-23T19:51:17.913Z"
      },
      {
        "duration": 349,
        "start_time": "2023-07-23T19:51:18.177Z"
      },
      {
        "duration": 233,
        "start_time": "2023-07-23T19:51:18.528Z"
      },
      {
        "duration": 44,
        "start_time": "2023-07-23T19:51:18.763Z"
      },
      {
        "duration": 0,
        "start_time": "2023-07-23T19:51:18.809Z"
      },
      {
        "duration": 138,
        "start_time": "2023-07-23T19:52:26.701Z"
      },
      {
        "duration": 16,
        "start_time": "2023-07-23T19:52:57.559Z"
      },
      {
        "duration": 15,
        "start_time": "2023-07-23T19:54:04.202Z"
      },
      {
        "duration": 145,
        "start_time": "2023-07-23T19:56:01.499Z"
      },
      {
        "duration": 143,
        "start_time": "2023-07-23T19:56:45.873Z"
      },
      {
        "duration": 167,
        "start_time": "2023-07-23T20:01:52.111Z"
      },
      {
        "duration": 158,
        "start_time": "2023-07-23T20:02:10.365Z"
      },
      {
        "duration": 161,
        "start_time": "2023-07-23T20:02:28.099Z"
      },
      {
        "duration": 153,
        "start_time": "2023-07-23T20:04:40.096Z"
      },
      {
        "duration": 139,
        "start_time": "2023-07-23T20:04:46.327Z"
      },
      {
        "duration": 142,
        "start_time": "2023-07-23T20:05:17.407Z"
      },
      {
        "duration": 132,
        "start_time": "2023-07-23T20:05:24.011Z"
      },
      {
        "duration": 152,
        "start_time": "2023-07-23T20:05:39.355Z"
      },
      {
        "duration": 181,
        "start_time": "2023-07-23T20:06:02.238Z"
      },
      {
        "duration": 323,
        "start_time": "2023-07-23T20:06:06.965Z"
      },
      {
        "duration": 137,
        "start_time": "2023-07-23T20:12:02.058Z"
      },
      {
        "duration": 31,
        "start_time": "2023-07-23T20:16:05.128Z"
      },
      {
        "duration": 115,
        "start_time": "2023-07-23T20:16:11.647Z"
      },
      {
        "duration": 345,
        "start_time": "2023-07-23T20:16:39.908Z"
      },
      {
        "duration": 160,
        "start_time": "2023-07-23T20:17:21.051Z"
      },
      {
        "duration": 104,
        "start_time": "2023-07-23T20:18:15.904Z"
      },
      {
        "duration": 127,
        "start_time": "2023-07-23T20:22:27.159Z"
      },
      {
        "duration": 14,
        "start_time": "2023-07-23T20:25:43.259Z"
      },
      {
        "duration": 1705,
        "start_time": "2023-07-23T20:28:19.030Z"
      },
      {
        "duration": 126,
        "start_time": "2023-07-23T20:29:01.065Z"
      },
      {
        "duration": 109,
        "start_time": "2023-07-23T20:29:14.796Z"
      },
      {
        "duration": 157,
        "start_time": "2023-07-23T20:31:03.231Z"
      },
      {
        "duration": 184,
        "start_time": "2023-07-23T20:31:05.447Z"
      },
      {
        "duration": 177,
        "start_time": "2023-07-23T20:31:07.460Z"
      },
      {
        "duration": 158,
        "start_time": "2023-07-23T20:31:10.026Z"
      },
      {
        "duration": 115,
        "start_time": "2023-07-23T20:31:12.038Z"
      },
      {
        "duration": 428,
        "start_time": "2023-07-23T20:32:29.500Z"
      },
      {
        "duration": 495,
        "start_time": "2023-07-23T20:37:28.192Z"
      },
      {
        "duration": 462,
        "start_time": "2023-07-23T20:37:49.193Z"
      },
      {
        "duration": 1034,
        "start_time": "2023-07-23T20:39:50.605Z"
      },
      {
        "duration": 17,
        "start_time": "2023-07-23T20:40:39.997Z"
      },
      {
        "duration": 940,
        "start_time": "2023-07-23T20:40:43.441Z"
      },
      {
        "duration": 17,
        "start_time": "2023-07-23T20:40:57.358Z"
      },
      {
        "duration": 18,
        "start_time": "2023-07-23T20:41:46.508Z"
      },
      {
        "duration": 132,
        "start_time": "2023-07-23T20:41:56.024Z"
      },
      {
        "duration": 864,
        "start_time": "2023-07-23T20:43:15.055Z"
      },
      {
        "duration": 14,
        "start_time": "2023-07-23T20:46:47.805Z"
      },
      {
        "duration": 9,
        "start_time": "2023-07-23T20:47:13.124Z"
      },
      {
        "duration": 14,
        "start_time": "2023-07-23T20:47:27.092Z"
      },
      {
        "duration": 14,
        "start_time": "2023-07-23T20:47:51.513Z"
      },
      {
        "duration": 3531,
        "start_time": "2023-07-23T20:48:12.354Z"
      },
      {
        "duration": 21,
        "start_time": "2023-07-23T20:48:35.904Z"
      },
      {
        "duration": 202,
        "start_time": "2023-07-23T20:49:52.502Z"
      },
      {
        "duration": 214,
        "start_time": "2023-07-23T20:50:12.993Z"
      },
      {
        "duration": 199,
        "start_time": "2023-07-23T20:50:42.408Z"
      },
      {
        "duration": 894,
        "start_time": "2023-07-23T20:52:34.030Z"
      },
      {
        "duration": 958,
        "start_time": "2023-07-23T20:53:05.908Z"
      },
      {
        "duration": 864,
        "start_time": "2023-07-23T20:53:20.851Z"
      },
      {
        "duration": 441,
        "start_time": "2023-07-23T20:55:14.335Z"
      },
      {
        "duration": 108,
        "start_time": "2023-07-23T20:57:08.461Z"
      },
      {
        "duration": 118,
        "start_time": "2023-07-23T20:57:21.351Z"
      },
      {
        "duration": 49,
        "start_time": "2023-07-24T08:37:09.246Z"
      },
      {
        "duration": 1256,
        "start_time": "2023-07-24T08:37:14.029Z"
      },
      {
        "duration": 26,
        "start_time": "2023-07-24T08:37:15.287Z"
      },
      {
        "duration": 2853,
        "start_time": "2023-07-24T08:37:15.322Z"
      },
      {
        "duration": 11,
        "start_time": "2023-07-24T08:37:18.177Z"
      },
      {
        "duration": 6,
        "start_time": "2023-07-24T08:37:18.190Z"
      },
      {
        "duration": 56,
        "start_time": "2023-07-24T08:37:18.198Z"
      },
      {
        "duration": 25,
        "start_time": "2023-07-24T08:37:18.256Z"
      },
      {
        "duration": 15,
        "start_time": "2023-07-24T08:37:18.283Z"
      },
      {
        "duration": 28,
        "start_time": "2023-07-24T08:37:18.300Z"
      },
      {
        "duration": 22,
        "start_time": "2023-07-24T08:37:18.330Z"
      },
      {
        "duration": 13,
        "start_time": "2023-07-24T08:37:18.354Z"
      },
      {
        "duration": 15,
        "start_time": "2023-07-24T08:37:18.368Z"
      },
      {
        "duration": 34,
        "start_time": "2023-07-24T08:37:18.385Z"
      },
      {
        "duration": 13,
        "start_time": "2023-07-24T08:37:18.425Z"
      },
      {
        "duration": 8,
        "start_time": "2023-07-24T08:37:18.440Z"
      },
      {
        "duration": 25,
        "start_time": "2023-07-24T08:37:18.449Z"
      },
      {
        "duration": 150,
        "start_time": "2023-07-24T08:37:18.475Z"
      },
      {
        "duration": 133,
        "start_time": "2023-07-24T08:37:18.632Z"
      },
      {
        "duration": 8,
        "start_time": "2023-07-24T08:37:18.767Z"
      },
      {
        "duration": 8,
        "start_time": "2023-07-24T08:37:18.777Z"
      },
      {
        "duration": 22,
        "start_time": "2023-07-24T08:37:18.787Z"
      },
      {
        "duration": 2070,
        "start_time": "2023-07-24T08:37:18.810Z"
      },
      {
        "duration": 81,
        "start_time": "2023-07-24T08:37:20.883Z"
      },
      {
        "duration": 404,
        "start_time": "2023-07-24T08:37:20.966Z"
      },
      {
        "duration": 6,
        "start_time": "2023-07-24T08:37:21.372Z"
      },
      {
        "duration": 77,
        "start_time": "2023-07-24T08:37:21.379Z"
      },
      {
        "duration": 24,
        "start_time": "2023-07-24T08:37:21.459Z"
      },
      {
        "duration": 6,
        "start_time": "2023-07-24T08:37:21.485Z"
      },
      {
        "duration": 231,
        "start_time": "2023-07-24T08:37:21.493Z"
      },
      {
        "duration": 12,
        "start_time": "2023-07-24T08:37:21.734Z"
      },
      {
        "duration": 38,
        "start_time": "2023-07-24T08:37:21.748Z"
      },
      {
        "duration": 361,
        "start_time": "2023-07-24T08:37:21.788Z"
      },
      {
        "duration": 320,
        "start_time": "2023-07-24T08:37:22.151Z"
      },
      {
        "duration": 315,
        "start_time": "2023-07-24T08:37:22.473Z"
      },
      {
        "duration": 308,
        "start_time": "2023-07-24T08:37:22.789Z"
      },
      {
        "duration": 302,
        "start_time": "2023-07-24T08:37:23.102Z"
      },
      {
        "duration": 315,
        "start_time": "2023-07-24T08:37:23.411Z"
      },
      {
        "duration": 285,
        "start_time": "2023-07-24T08:37:23.729Z"
      },
      {
        "duration": 142,
        "start_time": "2023-07-24T08:37:24.018Z"
      },
      {
        "duration": 277,
        "start_time": "2023-07-24T08:37:24.162Z"
      },
      {
        "duration": 321,
        "start_time": "2023-07-24T08:37:24.445Z"
      },
      {
        "duration": 469,
        "start_time": "2023-07-24T08:37:24.767Z"
      },
      {
        "duration": 299,
        "start_time": "2023-07-24T08:37:25.238Z"
      },
      {
        "duration": 325,
        "start_time": "2023-07-24T08:37:25.539Z"
      },
      {
        "duration": 275,
        "start_time": "2023-07-24T08:37:25.866Z"
      },
      {
        "duration": 197,
        "start_time": "2023-07-24T08:37:26.142Z"
      },
      {
        "duration": 201,
        "start_time": "2023-07-24T08:37:26.341Z"
      },
      {
        "duration": 192,
        "start_time": "2023-07-24T08:37:26.544Z"
      },
      {
        "duration": 251,
        "start_time": "2023-07-24T08:37:26.738Z"
      },
      {
        "duration": 171,
        "start_time": "2023-07-24T08:37:26.991Z"
      },
      {
        "duration": 557,
        "start_time": "2023-07-24T08:37:27.164Z"
      },
      {
        "duration": 564,
        "start_time": "2023-07-24T08:37:53.180Z"
      },
      {
        "duration": 249,
        "start_time": "2023-07-24T08:38:17.502Z"
      },
      {
        "duration": 59,
        "start_time": "2023-07-24T08:42:25.530Z"
      },
      {
        "duration": 944,
        "start_time": "2023-07-24T08:42:29.844Z"
      },
      {
        "duration": 22,
        "start_time": "2023-07-24T08:42:30.790Z"
      },
      {
        "duration": 2899,
        "start_time": "2023-07-24T08:42:30.819Z"
      },
      {
        "duration": 18,
        "start_time": "2023-07-24T08:42:33.720Z"
      },
      {
        "duration": 15,
        "start_time": "2023-07-24T08:42:33.745Z"
      },
      {
        "duration": 24,
        "start_time": "2023-07-24T08:42:33.762Z"
      },
      {
        "duration": 25,
        "start_time": "2023-07-24T08:42:33.788Z"
      },
      {
        "duration": 66,
        "start_time": "2023-07-24T08:42:33.815Z"
      },
      {
        "duration": 13,
        "start_time": "2023-07-24T08:42:33.884Z"
      },
      {
        "duration": 55,
        "start_time": "2023-07-24T08:42:33.899Z"
      },
      {
        "duration": 29,
        "start_time": "2023-07-24T08:42:33.956Z"
      },
      {
        "duration": 36,
        "start_time": "2023-07-24T08:42:33.987Z"
      },
      {
        "duration": 40,
        "start_time": "2023-07-24T08:42:34.030Z"
      },
      {
        "duration": 8,
        "start_time": "2023-07-24T08:42:34.073Z"
      },
      {
        "duration": 43,
        "start_time": "2023-07-24T08:42:34.083Z"
      },
      {
        "duration": 36,
        "start_time": "2023-07-24T08:42:34.128Z"
      },
      {
        "duration": 121,
        "start_time": "2023-07-24T08:42:34.165Z"
      },
      {
        "duration": 137,
        "start_time": "2023-07-24T08:42:34.289Z"
      },
      {
        "duration": 8,
        "start_time": "2023-07-24T08:42:34.428Z"
      },
      {
        "duration": 41,
        "start_time": "2023-07-24T08:42:34.438Z"
      },
      {
        "duration": 10,
        "start_time": "2023-07-24T08:42:34.481Z"
      },
      {
        "duration": 2088,
        "start_time": "2023-07-24T08:42:34.493Z"
      },
      {
        "duration": 79,
        "start_time": "2023-07-24T08:42:36.583Z"
      },
      {
        "duration": 297,
        "start_time": "2023-07-24T08:42:36.664Z"
      },
      {
        "duration": 4,
        "start_time": "2023-07-24T08:42:36.964Z"
      },
      {
        "duration": 14,
        "start_time": "2023-07-24T08:42:36.971Z"
      },
      {
        "duration": 15,
        "start_time": "2023-07-24T08:42:36.987Z"
      },
      {
        "duration": 11,
        "start_time": "2023-07-24T08:42:37.010Z"
      },
      {
        "duration": 383,
        "start_time": "2023-07-24T08:42:37.025Z"
      },
      {
        "duration": 23,
        "start_time": "2023-07-24T08:42:37.409Z"
      },
      {
        "duration": 31,
        "start_time": "2023-07-24T08:42:37.434Z"
      },
      {
        "duration": 292,
        "start_time": "2023-07-24T08:42:37.467Z"
      },
      {
        "duration": 337,
        "start_time": "2023-07-24T08:42:37.761Z"
      },
      {
        "duration": 316,
        "start_time": "2023-07-24T08:42:38.100Z"
      },
      {
        "duration": 316,
        "start_time": "2023-07-24T08:42:38.418Z"
      },
      {
        "duration": 189,
        "start_time": "2023-07-24T08:42:38.736Z"
      },
      {
        "duration": 409,
        "start_time": "2023-07-24T08:42:38.926Z"
      },
      {
        "duration": 282,
        "start_time": "2023-07-24T08:42:39.341Z"
      },
      {
        "duration": 137,
        "start_time": "2023-07-24T08:42:39.630Z"
      },
      {
        "duration": 293,
        "start_time": "2023-07-24T08:42:39.769Z"
      },
      {
        "duration": 335,
        "start_time": "2023-07-24T08:42:40.064Z"
      },
      {
        "duration": 384,
        "start_time": "2023-07-24T08:42:40.402Z"
      },
      {
        "duration": 444,
        "start_time": "2023-07-24T08:42:40.788Z"
      },
      {
        "duration": 330,
        "start_time": "2023-07-24T08:42:41.234Z"
      },
      {
        "duration": 280,
        "start_time": "2023-07-24T08:42:41.565Z"
      },
      {
        "duration": 184,
        "start_time": "2023-07-24T08:42:41.847Z"
      },
      {
        "duration": 207,
        "start_time": "2023-07-24T08:42:42.034Z"
      },
      {
        "duration": 197,
        "start_time": "2023-07-24T08:42:42.244Z"
      },
      {
        "duration": 131,
        "start_time": "2023-07-24T08:46:21.516Z"
      },
      {
        "duration": 16,
        "start_time": "2023-07-24T08:46:21.649Z"
      },
      {
        "duration": 2368,
        "start_time": "2023-07-24T08:46:21.667Z"
      },
      {
        "duration": 13,
        "start_time": "2023-07-24T08:46:24.037Z"
      },
      {
        "duration": 48,
        "start_time": "2023-07-24T08:46:24.052Z"
      },
      {
        "duration": 46,
        "start_time": "2023-07-24T08:46:24.101Z"
      },
      {
        "duration": 39,
        "start_time": "2023-07-24T08:46:24.149Z"
      },
      {
        "duration": 50,
        "start_time": "2023-07-24T08:46:24.190Z"
      },
      {
        "duration": 11,
        "start_time": "2023-07-24T08:46:24.242Z"
      },
      {
        "duration": 15,
        "start_time": "2023-07-24T08:46:24.256Z"
      },
      {
        "duration": 17,
        "start_time": "2023-07-24T08:46:24.273Z"
      },
      {
        "duration": 23,
        "start_time": "2023-07-24T08:46:24.293Z"
      },
      {
        "duration": 53,
        "start_time": "2023-07-24T08:46:24.320Z"
      },
      {
        "duration": 7,
        "start_time": "2023-07-24T08:46:24.376Z"
      },
      {
        "duration": 10,
        "start_time": "2023-07-24T08:46:24.385Z"
      },
      {
        "duration": 63,
        "start_time": "2023-07-24T08:46:24.397Z"
      },
      {
        "duration": 127,
        "start_time": "2023-07-24T08:46:24.463Z"
      },
      {
        "duration": 147,
        "start_time": "2023-07-24T08:46:24.593Z"
      },
      {
        "duration": 9,
        "start_time": "2023-07-24T08:46:24.742Z"
      },
      {
        "duration": 37,
        "start_time": "2023-07-24T08:46:24.756Z"
      },
      {
        "duration": 28,
        "start_time": "2023-07-24T08:46:24.795Z"
      },
      {
        "duration": 2042,
        "start_time": "2023-07-24T08:46:24.831Z"
      },
      {
        "duration": 80,
        "start_time": "2023-07-24T08:46:26.875Z"
      },
      {
        "duration": 309,
        "start_time": "2023-07-24T08:46:26.957Z"
      },
      {
        "duration": 5,
        "start_time": "2023-07-24T08:46:27.268Z"
      },
      {
        "duration": 24,
        "start_time": "2023-07-24T08:46:27.274Z"
      },
      {
        "duration": 54,
        "start_time": "2023-07-24T08:46:27.300Z"
      },
      {
        "duration": 11,
        "start_time": "2023-07-24T08:46:27.356Z"
      },
      {
        "duration": 240,
        "start_time": "2023-07-24T08:46:27.369Z"
      },
      {
        "duration": 21,
        "start_time": "2023-07-24T08:46:27.614Z"
      },
      {
        "duration": 25,
        "start_time": "2023-07-24T08:46:27.637Z"
      },
      {
        "duration": 298,
        "start_time": "2023-07-24T08:46:27.664Z"
      },
      {
        "duration": 322,
        "start_time": "2023-07-24T08:46:27.964Z"
      },
      {
        "duration": 314,
        "start_time": "2023-07-24T08:46:28.288Z"
      },
      {
        "duration": 317,
        "start_time": "2023-07-24T08:46:28.604Z"
      },
      {
        "duration": 198,
        "start_time": "2023-07-24T08:46:28.923Z"
      },
      {
        "duration": 291,
        "start_time": "2023-07-24T08:46:29.123Z"
      },
      {
        "duration": 285,
        "start_time": "2023-07-24T08:46:29.416Z"
      },
      {
        "duration": 158,
        "start_time": "2023-07-24T08:46:29.703Z"
      },
      {
        "duration": 285,
        "start_time": "2023-07-24T08:46:29.863Z"
      },
      {
        "duration": 326,
        "start_time": "2023-07-24T08:46:30.150Z"
      },
      {
        "duration": 382,
        "start_time": "2023-07-24T08:46:30.479Z"
      },
      {
        "duration": 357,
        "start_time": "2023-07-24T08:46:30.864Z"
      },
      {
        "duration": 323,
        "start_time": "2023-07-24T08:46:31.226Z"
      },
      {
        "duration": 273,
        "start_time": "2023-07-24T08:46:31.550Z"
      },
      {
        "duration": 192,
        "start_time": "2023-07-24T08:46:31.825Z"
      },
      {
        "duration": 228,
        "start_time": "2023-07-24T08:46:32.023Z"
      },
      {
        "duration": 254,
        "start_time": "2023-07-24T08:46:32.253Z"
      },
      {
        "duration": 236,
        "start_time": "2023-07-24T08:46:32.509Z"
      },
      {
        "duration": 141,
        "start_time": "2023-07-24T08:46:32.746Z"
      },
      {
        "duration": 510,
        "start_time": "2023-07-24T08:46:32.893Z"
      },
      {
        "duration": 216,
        "start_time": "2023-07-24T08:48:54.234Z"
      },
      {
        "duration": 264,
        "start_time": "2023-07-24T08:49:26.465Z"
      },
      {
        "duration": 217,
        "start_time": "2023-07-24T08:50:34.529Z"
      },
      {
        "duration": 215,
        "start_time": "2023-07-24T08:51:47.263Z"
      },
      {
        "duration": 219,
        "start_time": "2023-07-24T08:54:51.374Z"
      },
      {
        "duration": 132,
        "start_time": "2023-07-24T08:55:50.435Z"
      },
      {
        "duration": 18,
        "start_time": "2023-07-24T08:55:50.570Z"
      },
      {
        "duration": 3267,
        "start_time": "2023-07-24T08:55:50.605Z"
      },
      {
        "duration": 9,
        "start_time": "2023-07-24T08:55:53.875Z"
      },
      {
        "duration": 27,
        "start_time": "2023-07-24T08:55:53.886Z"
      },
      {
        "duration": 26,
        "start_time": "2023-07-24T08:55:53.920Z"
      },
      {
        "duration": 11,
        "start_time": "2023-07-24T08:55:53.948Z"
      },
      {
        "duration": 13,
        "start_time": "2023-07-24T08:55:53.960Z"
      },
      {
        "duration": 12,
        "start_time": "2023-07-24T08:55:53.975Z"
      },
      {
        "duration": 7,
        "start_time": "2023-07-24T08:55:53.990Z"
      },
      {
        "duration": 29,
        "start_time": "2023-07-24T08:55:53.999Z"
      },
      {
        "duration": 23,
        "start_time": "2023-07-24T08:55:54.031Z"
      },
      {
        "duration": 28,
        "start_time": "2023-07-24T08:55:54.056Z"
      },
      {
        "duration": 6,
        "start_time": "2023-07-24T08:55:54.086Z"
      },
      {
        "duration": 18,
        "start_time": "2023-07-24T08:55:54.093Z"
      },
      {
        "duration": 58,
        "start_time": "2023-07-24T08:55:54.112Z"
      },
      {
        "duration": 111,
        "start_time": "2023-07-24T08:55:54.172Z"
      },
      {
        "duration": 133,
        "start_time": "2023-07-24T08:55:54.286Z"
      },
      {
        "duration": 9,
        "start_time": "2023-07-24T08:55:54.421Z"
      },
      {
        "duration": 15,
        "start_time": "2023-07-24T08:55:54.432Z"
      },
      {
        "duration": 218,
        "start_time": "2023-07-24T08:55:54.449Z"
      },
      {
        "duration": 1901,
        "start_time": "2023-07-24T08:55:54.669Z"
      },
      {
        "duration": 76,
        "start_time": "2023-07-24T08:55:56.571Z"
      },
      {
        "duration": 303,
        "start_time": "2023-07-24T08:55:56.649Z"
      },
      {
        "duration": 5,
        "start_time": "2023-07-24T08:55:56.953Z"
      },
      {
        "duration": 14,
        "start_time": "2023-07-24T08:55:56.960Z"
      },
      {
        "duration": 5,
        "start_time": "2023-07-24T08:55:56.975Z"
      },
      {
        "duration": 25,
        "start_time": "2023-07-24T08:55:56.985Z"
      },
      {
        "duration": 221,
        "start_time": "2023-07-24T08:55:57.012Z"
      },
      {
        "duration": 13,
        "start_time": "2023-07-24T08:55:57.235Z"
      },
      {
        "duration": 23,
        "start_time": "2023-07-24T08:55:57.250Z"
      },
      {
        "duration": 312,
        "start_time": "2023-07-24T08:55:57.275Z"
      },
      {
        "duration": 290,
        "start_time": "2023-07-24T08:55:57.588Z"
      },
      {
        "duration": 275,
        "start_time": "2023-07-24T08:55:57.880Z"
      },
      {
        "duration": 294,
        "start_time": "2023-07-24T08:55:58.157Z"
      },
      {
        "duration": 198,
        "start_time": "2023-07-24T08:55:58.452Z"
      },
      {
        "duration": 283,
        "start_time": "2023-07-24T08:55:58.652Z"
      },
      {
        "duration": 273,
        "start_time": "2023-07-24T08:55:58.940Z"
      },
      {
        "duration": 139,
        "start_time": "2023-07-24T08:55:59.214Z"
      },
      {
        "duration": 263,
        "start_time": "2023-07-24T08:55:59.355Z"
      },
      {
        "duration": 293,
        "start_time": "2023-07-24T08:55:59.620Z"
      },
      {
        "duration": 307,
        "start_time": "2023-07-24T08:55:59.915Z"
      },
      {
        "duration": 308,
        "start_time": "2023-07-24T08:56:00.232Z"
      },
      {
        "duration": 383,
        "start_time": "2023-07-24T08:56:00.545Z"
      },
      {
        "duration": 285,
        "start_time": "2023-07-24T08:56:00.931Z"
      },
      {
        "duration": 221,
        "start_time": "2023-07-24T08:56:01.222Z"
      },
      {
        "duration": 223,
        "start_time": "2023-07-24T08:56:01.445Z"
      },
      {
        "duration": 208,
        "start_time": "2023-07-24T08:56:01.670Z"
      },
      {
        "duration": 210,
        "start_time": "2023-07-24T08:56:01.880Z"
      },
      {
        "duration": 147,
        "start_time": "2023-07-24T08:56:02.092Z"
      },
      {
        "duration": 516,
        "start_time": "2023-07-24T08:56:02.242Z"
      },
      {
        "duration": 210,
        "start_time": "2023-07-24T08:57:31.593Z"
      },
      {
        "duration": 11,
        "start_time": "2023-07-24T09:03:40.288Z"
      },
      {
        "duration": 266,
        "start_time": "2023-07-24T09:03:53.565Z"
      },
      {
        "duration": 36,
        "start_time": "2023-07-24T09:03:56.662Z"
      },
      {
        "duration": 11,
        "start_time": "2023-07-24T09:04:07.434Z"
      },
      {
        "duration": 11,
        "start_time": "2023-07-24T09:04:23.241Z"
      },
      {
        "duration": 29,
        "start_time": "2023-07-24T09:04:44.517Z"
      },
      {
        "duration": 10,
        "start_time": "2023-07-24T09:05:24.028Z"
      },
      {
        "duration": 9,
        "start_time": "2023-07-24T09:07:23.661Z"
      },
      {
        "duration": 28,
        "start_time": "2023-07-24T09:10:52.093Z"
      },
      {
        "duration": 8,
        "start_time": "2023-07-24T09:11:59.287Z"
      },
      {
        "duration": 10,
        "start_time": "2023-07-24T09:12:19.332Z"
      },
      {
        "duration": 12,
        "start_time": "2023-07-24T09:14:07.049Z"
      },
      {
        "duration": 6,
        "start_time": "2023-07-24T09:17:05.240Z"
      },
      {
        "duration": 9,
        "start_time": "2023-07-24T09:17:13.748Z"
      },
      {
        "duration": 6,
        "start_time": "2023-07-24T09:17:14.672Z"
      },
      {
        "duration": 40,
        "start_time": "2023-07-24T09:21:37.819Z"
      },
      {
        "duration": 11,
        "start_time": "2023-07-24T09:21:39.221Z"
      },
      {
        "duration": 72,
        "start_time": "2023-07-24T09:22:43.890Z"
      },
      {
        "duration": 7,
        "start_time": "2023-07-24T09:22:47.742Z"
      },
      {
        "duration": 66,
        "start_time": "2023-07-24T09:23:34.087Z"
      },
      {
        "duration": 7,
        "start_time": "2023-07-24T09:23:35.560Z"
      },
      {
        "duration": 136,
        "start_time": "2023-07-24T09:23:55.998Z"
      },
      {
        "duration": 16,
        "start_time": "2023-07-24T09:23:56.137Z"
      },
      {
        "duration": 2105,
        "start_time": "2023-07-24T09:23:56.154Z"
      },
      {
        "duration": 11,
        "start_time": "2023-07-24T09:23:58.261Z"
      },
      {
        "duration": 5,
        "start_time": "2023-07-24T09:23:58.274Z"
      },
      {
        "duration": 36,
        "start_time": "2023-07-24T09:23:58.280Z"
      },
      {
        "duration": 19,
        "start_time": "2023-07-24T09:23:58.319Z"
      },
      {
        "duration": 13,
        "start_time": "2023-07-24T09:23:58.340Z"
      },
      {
        "duration": 40,
        "start_time": "2023-07-24T09:23:58.354Z"
      },
      {
        "duration": 14,
        "start_time": "2023-07-24T09:23:58.396Z"
      },
      {
        "duration": 35,
        "start_time": "2023-07-24T09:23:58.417Z"
      },
      {
        "duration": 14,
        "start_time": "2023-07-24T09:23:58.454Z"
      },
      {
        "duration": 26,
        "start_time": "2023-07-24T09:23:58.470Z"
      },
      {
        "duration": 16,
        "start_time": "2023-07-24T09:23:58.500Z"
      },
      {
        "duration": 95,
        "start_time": "2023-07-24T09:23:58.518Z"
      },
      {
        "duration": 19,
        "start_time": "2023-07-24T09:23:58.627Z"
      },
      {
        "duration": 112,
        "start_time": "2023-07-24T09:23:58.648Z"
      },
      {
        "duration": 126,
        "start_time": "2023-07-24T09:23:58.761Z"
      },
      {
        "duration": 25,
        "start_time": "2023-07-24T09:23:58.889Z"
      },
      {
        "duration": 8,
        "start_time": "2023-07-24T09:23:58.917Z"
      },
      {
        "duration": 225,
        "start_time": "2023-07-24T09:23:58.927Z"
      },
      {
        "duration": 2011,
        "start_time": "2023-07-24T09:23:59.153Z"
      },
      {
        "duration": 101,
        "start_time": "2023-07-24T09:24:01.168Z"
      },
      {
        "duration": 321,
        "start_time": "2023-07-24T09:24:01.271Z"
      },
      {
        "duration": 12,
        "start_time": "2023-07-24T09:24:01.593Z"
      },
      {
        "duration": 93,
        "start_time": "2023-07-24T09:24:01.606Z"
      },
      {
        "duration": 93,
        "start_time": "2023-07-24T09:24:01.703Z"
      },
      {
        "duration": 169,
        "start_time": "2023-07-24T09:24:01.797Z"
      },
      {
        "duration": 219,
        "start_time": "2023-07-24T09:24:01.968Z"
      },
      {
        "duration": 17,
        "start_time": "2023-07-24T09:24:02.189Z"
      },
      {
        "duration": 58,
        "start_time": "2023-07-24T09:24:02.208Z"
      },
      {
        "duration": 374,
        "start_time": "2023-07-24T09:24:02.269Z"
      },
      {
        "duration": 292,
        "start_time": "2023-07-24T09:24:02.645Z"
      },
      {
        "duration": 295,
        "start_time": "2023-07-24T09:24:02.939Z"
      },
      {
        "duration": 310,
        "start_time": "2023-07-24T09:24:03.236Z"
      },
      {
        "duration": 211,
        "start_time": "2023-07-24T09:24:03.548Z"
      },
      {
        "duration": 300,
        "start_time": "2023-07-24T09:24:03.761Z"
      },
      {
        "duration": 320,
        "start_time": "2023-07-24T09:24:04.063Z"
      },
      {
        "duration": 150,
        "start_time": "2023-07-24T09:24:04.384Z"
      },
      {
        "duration": 295,
        "start_time": "2023-07-24T09:24:04.536Z"
      },
      {
        "duration": 332,
        "start_time": "2023-07-24T09:24:04.835Z"
      },
      {
        "duration": 346,
        "start_time": "2023-07-24T09:24:05.170Z"
      },
      {
        "duration": 288,
        "start_time": "2023-07-24T09:24:05.518Z"
      },
      {
        "duration": 336,
        "start_time": "2023-07-24T09:24:05.810Z"
      },
      {
        "duration": 277,
        "start_time": "2023-07-24T09:24:06.147Z"
      },
      {
        "duration": 213,
        "start_time": "2023-07-24T09:24:06.427Z"
      },
      {
        "duration": 212,
        "start_time": "2023-07-24T09:24:06.642Z"
      },
      {
        "duration": 200,
        "start_time": "2023-07-24T09:24:06.856Z"
      },
      {
        "duration": 230,
        "start_time": "2023-07-24T09:24:07.058Z"
      },
      {
        "duration": 147,
        "start_time": "2023-07-24T09:24:07.290Z"
      },
      {
        "duration": 519,
        "start_time": "2023-07-24T09:24:07.438Z"
      },
      {
        "duration": 16,
        "start_time": "2023-07-24T09:24:07.959Z"
      },
      {
        "duration": 13,
        "start_time": "2023-07-24T09:24:35.868Z"
      },
      {
        "duration": 15,
        "start_time": "2023-07-24T09:24:47.084Z"
      },
      {
        "duration": 13,
        "start_time": "2023-07-24T09:29:09.340Z"
      },
      {
        "duration": 13,
        "start_time": "2023-07-24T09:29:11.529Z"
      },
      {
        "duration": 14,
        "start_time": "2023-07-24T09:29:40.867Z"
      },
      {
        "duration": 8,
        "start_time": "2023-07-24T09:31:49.726Z"
      },
      {
        "duration": 13,
        "start_time": "2023-07-24T09:32:40.451Z"
      },
      {
        "duration": 10,
        "start_time": "2023-07-24T09:32:49.931Z"
      },
      {
        "duration": 287,
        "start_time": "2023-07-24T09:33:31.045Z"
      },
      {
        "duration": 25,
        "start_time": "2023-07-24T09:33:40.838Z"
      },
      {
        "duration": 9,
        "start_time": "2023-07-24T09:35:32.087Z"
      },
      {
        "duration": 10,
        "start_time": "2023-07-24T09:38:16.397Z"
      },
      {
        "duration": 10,
        "start_time": "2023-07-24T09:45:53.044Z"
      },
      {
        "duration": 14,
        "start_time": "2023-07-24T09:47:16.309Z"
      },
      {
        "duration": 18,
        "start_time": "2023-07-24T09:48:09.391Z"
      },
      {
        "duration": 321,
        "start_time": "2023-07-24T09:49:37.430Z"
      },
      {
        "duration": 15,
        "start_time": "2023-07-24T09:55:05.740Z"
      },
      {
        "duration": 9,
        "start_time": "2023-07-24T09:56:41.624Z"
      },
      {
        "duration": 4526,
        "start_time": "2023-07-24T18:05:14.841Z"
      },
      {
        "duration": 51,
        "start_time": "2023-07-24T18:05:19.375Z"
      },
      {
        "duration": 6162,
        "start_time": "2023-07-24T18:05:19.431Z"
      },
      {
        "duration": 3091,
        "start_time": "2023-07-24T18:05:25.595Z"
      },
      {
        "duration": 19,
        "start_time": "2023-07-24T18:05:28.691Z"
      },
      {
        "duration": 133,
        "start_time": "2023-07-24T18:05:28.714Z"
      },
      {
        "duration": 191,
        "start_time": "2023-07-24T18:05:28.852Z"
      },
      {
        "duration": 130,
        "start_time": "2023-07-24T18:05:29.049Z"
      },
      {
        "duration": 135,
        "start_time": "2023-07-24T18:05:29.188Z"
      },
      {
        "duration": 245,
        "start_time": "2023-07-24T18:05:29.339Z"
      },
      {
        "duration": 147,
        "start_time": "2023-07-24T18:05:29.596Z"
      },
      {
        "duration": 130,
        "start_time": "2023-07-24T18:05:29.753Z"
      },
      {
        "duration": 127,
        "start_time": "2023-07-24T18:05:29.888Z"
      },
      {
        "duration": 255,
        "start_time": "2023-07-24T18:05:30.020Z"
      },
      {
        "duration": 162,
        "start_time": "2023-07-24T18:05:30.280Z"
      },
      {
        "duration": 315,
        "start_time": "2023-07-24T18:05:30.451Z"
      },
      {
        "duration": 48,
        "start_time": "2023-07-24T18:05:30.771Z"
      },
      {
        "duration": 469,
        "start_time": "2023-07-24T18:05:30.826Z"
      },
      {
        "duration": 257,
        "start_time": "2023-07-24T18:05:31.302Z"
      },
      {
        "duration": 20,
        "start_time": "2023-07-24T18:05:31.568Z"
      },
      {
        "duration": 209,
        "start_time": "2023-07-24T18:05:31.594Z"
      },
      {
        "duration": 589,
        "start_time": "2023-07-24T18:05:31.813Z"
      },
      {
        "duration": 2637,
        "start_time": "2023-07-24T18:05:32.410Z"
      },
      {
        "duration": 112,
        "start_time": "2023-07-24T18:05:35.060Z"
      },
      {
        "duration": 601,
        "start_time": "2023-07-24T18:05:35.174Z"
      },
      {
        "duration": 10,
        "start_time": "2023-07-24T18:05:35.780Z"
      },
      {
        "duration": 226,
        "start_time": "2023-07-24T18:05:35.794Z"
      },
      {
        "duration": 121,
        "start_time": "2023-07-24T18:05:36.032Z"
      },
      {
        "duration": 250,
        "start_time": "2023-07-24T18:05:36.163Z"
      },
      {
        "duration": 826,
        "start_time": "2023-07-24T18:05:36.427Z"
      },
      {
        "duration": 25,
        "start_time": "2023-07-24T18:05:37.261Z"
      },
      {
        "duration": 222,
        "start_time": "2023-07-24T18:05:37.293Z"
      },
      {
        "duration": 911,
        "start_time": "2023-07-24T18:05:37.531Z"
      },
      {
        "duration": 630,
        "start_time": "2023-07-24T18:05:38.452Z"
      },
      {
        "duration": 552,
        "start_time": "2023-07-24T18:05:39.104Z"
      },
      {
        "duration": 518,
        "start_time": "2023-07-24T18:05:39.661Z"
      },
      {
        "duration": 283,
        "start_time": "2023-07-24T18:05:40.186Z"
      },
      {
        "duration": 612,
        "start_time": "2023-07-24T18:05:40.475Z"
      },
      {
        "duration": 400,
        "start_time": "2023-07-24T18:05:41.095Z"
      },
      {
        "duration": 255,
        "start_time": "2023-07-24T18:05:41.503Z"
      },
      {
        "duration": 438,
        "start_time": "2023-07-24T18:05:41.765Z"
      },
      {
        "duration": 517,
        "start_time": "2023-07-24T18:05:42.210Z"
      },
      {
        "duration": 429,
        "start_time": "2023-07-24T18:05:42.734Z"
      },
      {
        "duration": 569,
        "start_time": "2023-07-24T18:05:43.169Z"
      },
      {
        "duration": 390,
        "start_time": "2023-07-24T18:05:43.746Z"
      },
      {
        "duration": 446,
        "start_time": "2023-07-24T18:05:44.141Z"
      },
      {
        "duration": 314,
        "start_time": "2023-07-24T18:05:44.593Z"
      },
      {
        "duration": 316,
        "start_time": "2023-07-24T18:05:44.912Z"
      },
      {
        "duration": 275,
        "start_time": "2023-07-24T18:05:45.235Z"
      },
      {
        "duration": 285,
        "start_time": "2023-07-24T18:05:45.516Z"
      },
      {
        "duration": 186,
        "start_time": "2023-07-24T18:05:45.807Z"
      },
      {
        "duration": 848,
        "start_time": "2023-07-24T18:05:45.999Z"
      },
      {
        "duration": 42,
        "start_time": "2023-07-24T18:05:46.853Z"
      },
      {
        "duration": 78,
        "start_time": "2023-07-24T18:05:46.901Z"
      },
      {
        "duration": 716,
        "start_time": "2023-07-24T18:05:46.985Z"
      },
      {
        "duration": 46,
        "start_time": "2023-07-25T09:30:05.612Z"
      },
      {
        "duration": 832,
        "start_time": "2023-07-25T09:30:38.896Z"
      },
      {
        "duration": 333,
        "start_time": "2023-07-25T09:30:39.730Z"
      },
      {
        "duration": 16,
        "start_time": "2023-07-25T09:30:40.065Z"
      },
      {
        "duration": 2085,
        "start_time": "2023-07-25T09:30:40.083Z"
      },
      {
        "duration": 1965,
        "start_time": "2023-07-25T09:30:42.169Z"
      },
      {
        "duration": 10,
        "start_time": "2023-07-25T09:30:44.136Z"
      },
      {
        "duration": 9,
        "start_time": "2023-07-25T09:30:44.148Z"
      },
      {
        "duration": 35,
        "start_time": "2023-07-25T09:30:44.158Z"
      },
      {
        "duration": 19,
        "start_time": "2023-07-25T09:30:44.195Z"
      },
      {
        "duration": 41,
        "start_time": "2023-07-25T09:30:44.217Z"
      },
      {
        "duration": 110,
        "start_time": "2023-07-25T09:30:44.260Z"
      },
      {
        "duration": 23,
        "start_time": "2023-07-25T09:30:44.372Z"
      },
      {
        "duration": 32,
        "start_time": "2023-07-25T09:30:44.397Z"
      },
      {
        "duration": 32,
        "start_time": "2023-07-25T09:30:44.431Z"
      },
      {
        "duration": 36,
        "start_time": "2023-07-25T09:30:44.465Z"
      },
      {
        "duration": 23,
        "start_time": "2023-07-25T09:30:44.502Z"
      },
      {
        "duration": 81,
        "start_time": "2023-07-25T09:30:44.527Z"
      },
      {
        "duration": 17,
        "start_time": "2023-07-25T09:30:44.610Z"
      },
      {
        "duration": 123,
        "start_time": "2023-07-25T09:30:44.628Z"
      },
      {
        "duration": 122,
        "start_time": "2023-07-25T09:30:44.753Z"
      },
      {
        "duration": 7,
        "start_time": "2023-07-25T09:30:44.877Z"
      },
      {
        "duration": 23,
        "start_time": "2023-07-25T09:30:44.885Z"
      },
      {
        "duration": 210,
        "start_time": "2023-07-25T09:30:44.909Z"
      },
      {
        "duration": 1794,
        "start_time": "2023-07-25T09:30:45.121Z"
      },
      {
        "duration": 60,
        "start_time": "2023-07-25T09:30:46.917Z"
      },
      {
        "duration": 274,
        "start_time": "2023-07-25T09:30:46.979Z"
      },
      {
        "duration": 6,
        "start_time": "2023-07-25T09:30:47.255Z"
      },
      {
        "duration": 63,
        "start_time": "2023-07-25T09:30:47.274Z"
      },
      {
        "duration": 26,
        "start_time": "2023-07-25T09:30:47.339Z"
      },
      {
        "duration": 49,
        "start_time": "2023-07-25T09:30:47.366Z"
      },
      {
        "duration": 314,
        "start_time": "2023-07-25T09:30:47.417Z"
      },
      {
        "duration": 10,
        "start_time": "2023-07-25T09:30:47.733Z"
      },
      {
        "duration": 32,
        "start_time": "2023-07-25T09:30:47.744Z"
      },
      {
        "duration": 246,
        "start_time": "2023-07-25T09:30:47.778Z"
      },
      {
        "duration": 279,
        "start_time": "2023-07-25T09:30:48.026Z"
      },
      {
        "duration": 245,
        "start_time": "2023-07-25T09:30:48.307Z"
      },
      {
        "duration": 268,
        "start_time": "2023-07-25T09:30:48.554Z"
      },
      {
        "duration": 171,
        "start_time": "2023-07-25T09:30:48.824Z"
      },
      {
        "duration": 347,
        "start_time": "2023-07-25T09:30:48.996Z"
      },
      {
        "duration": 235,
        "start_time": "2023-07-25T09:30:49.346Z"
      },
      {
        "duration": 129,
        "start_time": "2023-07-25T09:30:49.583Z"
      },
      {
        "duration": 231,
        "start_time": "2023-07-25T09:30:49.714Z"
      },
      {
        "duration": 307,
        "start_time": "2023-07-25T09:30:49.947Z"
      },
      {
        "duration": 277,
        "start_time": "2023-07-25T09:30:50.256Z"
      },
      {
        "duration": 272,
        "start_time": "2023-07-25T09:30:50.535Z"
      },
      {
        "duration": 418,
        "start_time": "2023-07-25T09:30:50.809Z"
      },
      {
        "duration": 252,
        "start_time": "2023-07-25T09:30:51.229Z"
      },
      {
        "duration": 213,
        "start_time": "2023-07-25T09:30:51.483Z"
      },
      {
        "duration": 206,
        "start_time": "2023-07-25T09:30:51.697Z"
      },
      {
        "duration": 190,
        "start_time": "2023-07-25T09:30:51.905Z"
      },
      {
        "duration": 198,
        "start_time": "2023-07-25T09:30:52.096Z"
      },
      {
        "duration": 126,
        "start_time": "2023-07-25T09:30:52.295Z"
      },
      {
        "duration": 497,
        "start_time": "2023-07-25T09:30:52.423Z"
      },
      {
        "duration": 14,
        "start_time": "2023-07-25T09:30:52.922Z"
      },
      {
        "duration": 15,
        "start_time": "2023-07-25T09:30:52.938Z"
      },
      {
        "duration": 310,
        "start_time": "2023-07-25T09:30:52.954Z"
      },
      {
        "duration": 2696,
        "start_time": "2023-07-25T09:33:51.984Z"
      },
      {
        "duration": 11,
        "start_time": "2023-07-25T09:44:58.334Z"
      },
      {
        "duration": 3,
        "start_time": "2023-07-25T09:49:11.807Z"
      },
      {
        "duration": 129,
        "start_time": "2023-07-25T09:49:11.814Z"
      },
      {
        "duration": 37,
        "start_time": "2023-07-25T09:49:11.945Z"
      },
      {
        "duration": 2067,
        "start_time": "2023-07-25T09:49:11.984Z"
      },
      {
        "duration": 2001,
        "start_time": "2023-07-25T09:49:14.053Z"
      },
      {
        "duration": 19,
        "start_time": "2023-07-25T09:49:16.056Z"
      },
      {
        "duration": 11,
        "start_time": "2023-07-25T09:49:16.076Z"
      },
      {
        "duration": 16,
        "start_time": "2023-07-25T09:49:16.088Z"
      },
      {
        "duration": 13,
        "start_time": "2023-07-25T09:49:16.106Z"
      },
      {
        "duration": 14,
        "start_time": "2023-07-25T09:49:16.120Z"
      },
      {
        "duration": 13,
        "start_time": "2023-07-25T09:49:16.137Z"
      },
      {
        "duration": 50,
        "start_time": "2023-07-25T09:49:16.151Z"
      },
      {
        "duration": 7,
        "start_time": "2023-07-25T09:49:16.202Z"
      },
      {
        "duration": 9,
        "start_time": "2023-07-25T09:49:16.210Z"
      },
      {
        "duration": 15,
        "start_time": "2023-07-25T09:49:16.221Z"
      },
      {
        "duration": 17,
        "start_time": "2023-07-25T09:49:16.239Z"
      },
      {
        "duration": 37,
        "start_time": "2023-07-25T09:49:16.258Z"
      },
      {
        "duration": 43,
        "start_time": "2023-07-25T09:49:16.297Z"
      },
      {
        "duration": 109,
        "start_time": "2023-07-25T09:49:16.342Z"
      },
      {
        "duration": 22,
        "start_time": "2023-07-25T09:49:16.453Z"
      },
      {
        "duration": 116,
        "start_time": "2023-07-25T09:49:16.478Z"
      },
      {
        "duration": 121,
        "start_time": "2023-07-25T09:49:16.595Z"
      },
      {
        "duration": 7,
        "start_time": "2023-07-25T09:49:16.717Z"
      },
      {
        "duration": 25,
        "start_time": "2023-07-25T09:49:16.726Z"
      },
      {
        "duration": 213,
        "start_time": "2023-07-25T09:49:16.752Z"
      },
      {
        "duration": 1761,
        "start_time": "2023-07-25T09:49:16.967Z"
      },
      {
        "duration": 61,
        "start_time": "2023-07-25T09:49:18.730Z"
      },
      {
        "duration": 262,
        "start_time": "2023-07-25T09:49:18.793Z"
      },
      {
        "duration": 4,
        "start_time": "2023-07-25T09:49:19.060Z"
      },
      {
        "duration": 6,
        "start_time": "2023-07-25T09:49:19.075Z"
      },
      {
        "duration": 7,
        "start_time": "2023-07-25T09:49:19.082Z"
      },
      {
        "duration": 12,
        "start_time": "2023-07-25T09:49:19.090Z"
      },
      {
        "duration": 204,
        "start_time": "2023-07-25T09:49:19.103Z"
      },
      {
        "duration": 13,
        "start_time": "2023-07-25T09:49:19.309Z"
      },
      {
        "duration": 43,
        "start_time": "2023-07-25T09:49:19.324Z"
      },
      {
        "duration": 475,
        "start_time": "2023-07-25T09:49:19.369Z"
      },
      {
        "duration": 271,
        "start_time": "2023-07-25T09:49:19.845Z"
      },
      {
        "duration": 239,
        "start_time": "2023-07-25T09:49:20.118Z"
      },
      {
        "duration": 255,
        "start_time": "2023-07-25T09:49:20.359Z"
      },
      {
        "duration": 172,
        "start_time": "2023-07-25T09:49:20.616Z"
      },
      {
        "duration": 234,
        "start_time": "2023-07-25T09:49:20.790Z"
      },
      {
        "duration": 241,
        "start_time": "2023-07-25T09:49:21.025Z"
      },
      {
        "duration": 126,
        "start_time": "2023-07-25T09:49:21.268Z"
      },
      {
        "duration": 233,
        "start_time": "2023-07-25T09:49:21.396Z"
      },
      {
        "duration": 445,
        "start_time": "2023-07-25T09:49:21.630Z"
      },
      {
        "duration": 264,
        "start_time": "2023-07-25T09:49:22.077Z"
      },
      {
        "duration": 248,
        "start_time": "2023-07-25T09:49:22.343Z"
      },
      {
        "duration": 278,
        "start_time": "2023-07-25T09:49:22.593Z"
      },
      {
        "duration": 235,
        "start_time": "2023-07-25T09:49:22.876Z"
      },
      {
        "duration": 200,
        "start_time": "2023-07-25T09:49:23.113Z"
      },
      {
        "duration": 196,
        "start_time": "2023-07-25T09:49:23.314Z"
      },
      {
        "duration": 182,
        "start_time": "2023-07-25T09:49:23.512Z"
      },
      {
        "duration": 199,
        "start_time": "2023-07-25T09:49:23.696Z"
      },
      {
        "duration": 132,
        "start_time": "2023-07-25T09:49:23.897Z"
      },
      {
        "duration": 454,
        "start_time": "2023-07-25T09:49:24.030Z"
      },
      {
        "duration": 14,
        "start_time": "2023-07-25T09:49:24.485Z"
      },
      {
        "duration": 20,
        "start_time": "2023-07-25T09:49:24.500Z"
      },
      {
        "duration": 285,
        "start_time": "2023-07-25T09:49:24.522Z"
      },
      {
        "duration": 9,
        "start_time": "2023-07-25T09:50:07.310Z"
      },
      {
        "duration": 8,
        "start_time": "2023-07-25T09:50:54.065Z"
      },
      {
        "duration": 3,
        "start_time": "2023-07-25T09:51:01.416Z"
      },
      {
        "duration": 196,
        "start_time": "2023-07-25T09:51:01.421Z"
      },
      {
        "duration": 15,
        "start_time": "2023-07-25T09:51:01.620Z"
      },
      {
        "duration": 2242,
        "start_time": "2023-07-25T09:51:01.637Z"
      },
      {
        "duration": 1830,
        "start_time": "2023-07-25T09:51:03.881Z"
      },
      {
        "duration": 10,
        "start_time": "2023-07-25T09:51:05.713Z"
      },
      {
        "duration": 13,
        "start_time": "2023-07-25T09:51:05.724Z"
      },
      {
        "duration": 5,
        "start_time": "2023-07-25T09:51:05.738Z"
      },
      {
        "duration": 40,
        "start_time": "2023-07-25T09:51:05.745Z"
      },
      {
        "duration": 27,
        "start_time": "2023-07-25T09:51:05.787Z"
      },
      {
        "duration": 11,
        "start_time": "2023-07-25T09:51:05.817Z"
      },
      {
        "duration": 30,
        "start_time": "2023-07-25T09:51:05.829Z"
      },
      {
        "duration": 19,
        "start_time": "2023-07-25T09:51:05.860Z"
      },
      {
        "duration": 18,
        "start_time": "2023-07-25T09:51:05.881Z"
      },
      {
        "duration": 26,
        "start_time": "2023-07-25T09:51:05.900Z"
      },
      {
        "duration": 48,
        "start_time": "2023-07-25T09:51:05.927Z"
      },
      {
        "duration": 56,
        "start_time": "2023-07-25T09:51:05.977Z"
      },
      {
        "duration": 7,
        "start_time": "2023-07-25T09:51:06.035Z"
      },
      {
        "duration": 91,
        "start_time": "2023-07-25T09:51:06.043Z"
      },
      {
        "duration": 17,
        "start_time": "2023-07-25T09:51:06.136Z"
      },
      {
        "duration": 140,
        "start_time": "2023-07-25T09:51:06.154Z"
      },
      {
        "duration": 148,
        "start_time": "2023-07-25T09:51:06.296Z"
      },
      {
        "duration": 9,
        "start_time": "2023-07-25T09:51:06.446Z"
      },
      {
        "duration": 29,
        "start_time": "2023-07-25T09:51:06.457Z"
      },
      {
        "duration": 509,
        "start_time": "2023-07-25T09:51:06.488Z"
      },
      {
        "duration": 1780,
        "start_time": "2023-07-25T09:51:06.999Z"
      },
      {
        "duration": 50,
        "start_time": "2023-07-25T09:51:08.781Z"
      },
      {
        "duration": 255,
        "start_time": "2023-07-25T09:51:08.833Z"
      },
      {
        "duration": 4,
        "start_time": "2023-07-25T09:51:09.092Z"
      },
      {
        "duration": 26,
        "start_time": "2023-07-25T09:51:09.098Z"
      },
      {
        "duration": 7,
        "start_time": "2023-07-25T09:51:09.126Z"
      },
      {
        "duration": 11,
        "start_time": "2023-07-25T09:51:09.135Z"
      },
      {
        "duration": 172,
        "start_time": "2023-07-25T09:51:09.147Z"
      },
      {
        "duration": 11,
        "start_time": "2023-07-25T09:51:09.321Z"
      },
      {
        "duration": 19,
        "start_time": "2023-07-25T09:51:09.334Z"
      },
      {
        "duration": 241,
        "start_time": "2023-07-25T09:51:09.375Z"
      },
      {
        "duration": 260,
        "start_time": "2023-07-25T09:51:09.617Z"
      },
      {
        "duration": 239,
        "start_time": "2023-07-25T09:51:09.879Z"
      },
      {
        "duration": 259,
        "start_time": "2023-07-25T09:51:10.120Z"
      },
      {
        "duration": 177,
        "start_time": "2023-07-25T09:51:10.381Z"
      },
      {
        "duration": 251,
        "start_time": "2023-07-25T09:51:10.559Z"
      },
      {
        "duration": 500,
        "start_time": "2023-07-25T09:51:10.811Z"
      },
      {
        "duration": 135,
        "start_time": "2023-07-25T09:51:11.313Z"
      },
      {
        "duration": 247,
        "start_time": "2023-07-25T09:51:11.449Z"
      },
      {
        "duration": 280,
        "start_time": "2023-07-25T09:51:11.699Z"
      },
      {
        "duration": 288,
        "start_time": "2023-07-25T09:51:11.981Z"
      },
      {
        "duration": 256,
        "start_time": "2023-07-25T09:51:12.274Z"
      },
      {
        "duration": 305,
        "start_time": "2023-07-25T09:51:12.532Z"
      },
      {
        "duration": 241,
        "start_time": "2023-07-25T09:51:12.839Z"
      },
      {
        "duration": 188,
        "start_time": "2023-07-25T09:51:13.082Z"
      },
      {
        "duration": 199,
        "start_time": "2023-07-25T09:51:13.275Z"
      },
      {
        "duration": 178,
        "start_time": "2023-07-25T09:51:13.477Z"
      },
      {
        "duration": 199,
        "start_time": "2023-07-25T09:51:13.657Z"
      },
      {
        "duration": 125,
        "start_time": "2023-07-25T09:51:13.858Z"
      },
      {
        "duration": 439,
        "start_time": "2023-07-25T09:51:13.984Z"
      },
      {
        "duration": 14,
        "start_time": "2023-07-25T09:51:14.425Z"
      },
      {
        "duration": 9,
        "start_time": "2023-07-25T09:51:14.440Z"
      },
      {
        "duration": 284,
        "start_time": "2023-07-25T09:51:14.451Z"
      },
      {
        "duration": 7,
        "start_time": "2023-07-25T09:51:46.523Z"
      },
      {
        "duration": 7,
        "start_time": "2023-07-25T09:51:59.434Z"
      },
      {
        "duration": 8,
        "start_time": "2023-07-25T09:52:01.713Z"
      },
      {
        "duration": 4,
        "start_time": "2023-07-25T09:52:05.670Z"
      },
      {
        "duration": 132,
        "start_time": "2023-07-25T09:52:05.689Z"
      },
      {
        "duration": 15,
        "start_time": "2023-07-25T09:52:05.823Z"
      },
      {
        "duration": 2283,
        "start_time": "2023-07-25T09:52:05.839Z"
      },
      {
        "duration": 1810,
        "start_time": "2023-07-25T09:52:08.123Z"
      },
      {
        "duration": 10,
        "start_time": "2023-07-25T09:52:09.935Z"
      },
      {
        "duration": 26,
        "start_time": "2023-07-25T09:52:09.946Z"
      },
      {
        "duration": 14,
        "start_time": "2023-07-25T09:52:09.975Z"
      },
      {
        "duration": 19,
        "start_time": "2023-07-25T09:52:09.991Z"
      },
      {
        "duration": 37,
        "start_time": "2023-07-25T09:52:10.012Z"
      },
      {
        "duration": 40,
        "start_time": "2023-07-25T09:52:10.051Z"
      },
      {
        "duration": 19,
        "start_time": "2023-07-25T09:52:10.093Z"
      },
      {
        "duration": 31,
        "start_time": "2023-07-25T09:52:10.113Z"
      },
      {
        "duration": 8,
        "start_time": "2023-07-25T09:52:10.145Z"
      },
      {
        "duration": 40,
        "start_time": "2023-07-25T09:52:10.156Z"
      },
      {
        "duration": 16,
        "start_time": "2023-07-25T09:52:10.198Z"
      },
      {
        "duration": 30,
        "start_time": "2023-07-25T09:52:10.216Z"
      },
      {
        "duration": 5,
        "start_time": "2023-07-25T09:52:10.248Z"
      },
      {
        "duration": 104,
        "start_time": "2023-07-25T09:52:10.255Z"
      },
      {
        "duration": 30,
        "start_time": "2023-07-25T09:52:10.361Z"
      },
      {
        "duration": 105,
        "start_time": "2023-07-25T09:52:10.393Z"
      },
      {
        "duration": 142,
        "start_time": "2023-07-25T09:52:10.500Z"
      },
      {
        "duration": 7,
        "start_time": "2023-07-25T09:52:10.644Z"
      },
      {
        "duration": 11,
        "start_time": "2023-07-25T09:52:10.653Z"
      },
      {
        "duration": 251,
        "start_time": "2023-07-25T09:52:10.665Z"
      },
      {
        "duration": 2231,
        "start_time": "2023-07-25T09:52:10.918Z"
      },
      {
        "duration": 70,
        "start_time": "2023-07-25T09:52:13.151Z"
      },
      {
        "duration": 695,
        "start_time": "2023-07-25T09:52:13.223Z"
      },
      {
        "duration": 5,
        "start_time": "2023-07-25T09:52:13.921Z"
      },
      {
        "duration": 30,
        "start_time": "2023-07-25T09:52:13.928Z"
      },
      {
        "duration": 25,
        "start_time": "2023-07-25T09:52:13.959Z"
      },
      {
        "duration": 119,
        "start_time": "2023-07-25T09:52:13.986Z"
      },
      {
        "duration": 223,
        "start_time": "2023-07-25T09:52:14.107Z"
      },
      {
        "duration": 15,
        "start_time": "2023-07-25T09:52:14.333Z"
      },
      {
        "duration": 43,
        "start_time": "2023-07-25T09:52:14.349Z"
      },
      {
        "duration": 274,
        "start_time": "2023-07-25T09:52:14.395Z"
      },
      {
        "duration": 283,
        "start_time": "2023-07-25T09:52:14.671Z"
      },
      {
        "duration": 290,
        "start_time": "2023-07-25T09:52:14.956Z"
      },
      {
        "duration": 278,
        "start_time": "2023-07-25T09:52:15.248Z"
      },
      {
        "duration": 181,
        "start_time": "2023-07-25T09:52:15.528Z"
      },
      {
        "duration": 278,
        "start_time": "2023-07-25T09:52:15.711Z"
      },
      {
        "duration": 216,
        "start_time": "2023-07-25T09:52:15.994Z"
      },
      {
        "duration": 180,
        "start_time": "2023-07-25T09:52:16.213Z"
      },
      {
        "duration": 300,
        "start_time": "2023-07-25T09:52:16.394Z"
      },
      {
        "duration": 267,
        "start_time": "2023-07-25T09:52:16.695Z"
      },
      {
        "duration": 279,
        "start_time": "2023-07-25T09:52:16.964Z"
      },
      {
        "duration": 596,
        "start_time": "2023-07-25T09:52:17.244Z"
      },
      {
        "duration": 304,
        "start_time": "2023-07-25T09:52:17.842Z"
      },
      {
        "duration": 251,
        "start_time": "2023-07-25T09:52:18.147Z"
      },
      {
        "duration": 203,
        "start_time": "2023-07-25T09:52:18.400Z"
      },
      {
        "duration": 201,
        "start_time": "2023-07-25T09:52:18.605Z"
      },
      {
        "duration": 195,
        "start_time": "2023-07-25T09:52:18.808Z"
      },
      {
        "duration": 190,
        "start_time": "2023-07-25T09:52:19.005Z"
      },
      {
        "duration": 141,
        "start_time": "2023-07-25T09:52:19.197Z"
      },
      {
        "duration": 473,
        "start_time": "2023-07-25T09:52:19.340Z"
      },
      {
        "duration": 13,
        "start_time": "2023-07-25T09:52:19.816Z"
      },
      {
        "duration": 20,
        "start_time": "2023-07-25T09:52:19.830Z"
      },
      {
        "duration": 292,
        "start_time": "2023-07-25T09:52:19.852Z"
      },
      {
        "duration": 9,
        "start_time": "2023-07-25T09:52:34.615Z"
      },
      {
        "duration": 9,
        "start_time": "2023-07-25T09:52:46.352Z"
      },
      {
        "duration": 21,
        "start_time": "2023-07-25T09:53:08.768Z"
      },
      {
        "duration": 710,
        "start_time": "2023-07-25T09:53:34.045Z"
      },
      {
        "duration": 135,
        "start_time": "2023-07-25T09:53:34.757Z"
      },
      {
        "duration": 15,
        "start_time": "2023-07-25T09:53:34.894Z"
      },
      {
        "duration": 2105,
        "start_time": "2023-07-25T09:53:34.911Z"
      },
      {
        "duration": 1948,
        "start_time": "2023-07-25T09:53:37.018Z"
      },
      {
        "duration": 24,
        "start_time": "2023-07-25T09:53:38.968Z"
      },
      {
        "duration": 17,
        "start_time": "2023-07-25T09:53:38.994Z"
      },
      {
        "duration": 5,
        "start_time": "2023-07-25T09:53:39.012Z"
      },
      {
        "duration": 8,
        "start_time": "2023-07-25T09:53:39.018Z"
      },
      {
        "duration": 12,
        "start_time": "2023-07-25T09:53:39.028Z"
      },
      {
        "duration": 37,
        "start_time": "2023-07-25T09:53:39.042Z"
      },
      {
        "duration": 11,
        "start_time": "2023-07-25T09:53:39.082Z"
      },
      {
        "duration": 27,
        "start_time": "2023-07-25T09:53:39.095Z"
      },
      {
        "duration": 14,
        "start_time": "2023-07-25T09:53:39.124Z"
      },
      {
        "duration": 28,
        "start_time": "2023-07-25T09:53:39.139Z"
      },
      {
        "duration": 24,
        "start_time": "2023-07-25T09:53:39.169Z"
      },
      {
        "duration": 52,
        "start_time": "2023-07-25T09:53:39.195Z"
      },
      {
        "duration": 7,
        "start_time": "2023-07-25T09:53:39.249Z"
      },
      {
        "duration": 102,
        "start_time": "2023-07-25T09:53:39.258Z"
      },
      {
        "duration": 23,
        "start_time": "2023-07-25T09:53:39.362Z"
      },
      {
        "duration": 106,
        "start_time": "2023-07-25T09:53:39.393Z"
      },
      {
        "duration": 132,
        "start_time": "2023-07-25T09:53:39.500Z"
      },
      {
        "duration": 7,
        "start_time": "2023-07-25T09:53:39.634Z"
      },
      {
        "duration": 19,
        "start_time": "2023-07-25T09:53:39.642Z"
      },
      {
        "duration": 207,
        "start_time": "2023-07-25T09:53:39.662Z"
      },
      {
        "duration": 1939,
        "start_time": "2023-07-25T09:53:39.874Z"
      },
      {
        "duration": 65,
        "start_time": "2023-07-25T09:53:41.815Z"
      },
      {
        "duration": 259,
        "start_time": "2023-07-25T09:53:41.888Z"
      },
      {
        "duration": 5,
        "start_time": "2023-07-25T09:53:42.149Z"
      },
      {
        "duration": 47,
        "start_time": "2023-07-25T09:53:42.155Z"
      },
      {
        "duration": 9,
        "start_time": "2023-07-25T09:53:42.203Z"
      },
      {
        "duration": 21,
        "start_time": "2023-07-25T09:53:42.214Z"
      },
      {
        "duration": 305,
        "start_time": "2023-07-25T09:53:42.237Z"
      },
      {
        "duration": 11,
        "start_time": "2023-07-25T09:53:42.544Z"
      },
      {
        "duration": 32,
        "start_time": "2023-07-25T09:53:42.556Z"
      },
      {
        "duration": 278,
        "start_time": "2023-07-25T09:53:42.590Z"
      },
      {
        "duration": 279,
        "start_time": "2023-07-25T09:53:42.869Z"
      },
      {
        "duration": 269,
        "start_time": "2023-07-25T09:53:43.149Z"
      },
      {
        "duration": 271,
        "start_time": "2023-07-25T09:53:43.419Z"
      },
      {
        "duration": 177,
        "start_time": "2023-07-25T09:53:43.692Z"
      },
      {
        "duration": 344,
        "start_time": "2023-07-25T09:53:43.870Z"
      },
      {
        "duration": 220,
        "start_time": "2023-07-25T09:53:44.216Z"
      },
      {
        "duration": 149,
        "start_time": "2023-07-25T09:53:44.438Z"
      },
      {
        "duration": 248,
        "start_time": "2023-07-25T09:53:44.589Z"
      },
      {
        "duration": 299,
        "start_time": "2023-07-25T09:53:44.839Z"
      },
      {
        "duration": 289,
        "start_time": "2023-07-25T09:53:45.139Z"
      },
      {
        "duration": 398,
        "start_time": "2023-07-25T09:53:45.430Z"
      },
      {
        "duration": 303,
        "start_time": "2023-07-25T09:53:45.830Z"
      },
      {
        "duration": 276,
        "start_time": "2023-07-25T09:53:46.135Z"
      },
      {
        "duration": 221,
        "start_time": "2023-07-25T09:53:46.413Z"
      },
      {
        "duration": 207,
        "start_time": "2023-07-25T09:53:46.635Z"
      },
      {
        "duration": 200,
        "start_time": "2023-07-25T09:53:46.844Z"
      },
      {
        "duration": 203,
        "start_time": "2023-07-25T09:53:47.045Z"
      },
      {
        "duration": 139,
        "start_time": "2023-07-25T09:53:47.250Z"
      },
      {
        "duration": 446,
        "start_time": "2023-07-25T09:53:47.390Z"
      },
      {
        "duration": 13,
        "start_time": "2023-07-25T09:53:47.837Z"
      },
      {
        "duration": 24,
        "start_time": "2023-07-25T09:53:47.851Z"
      },
      {
        "duration": 324,
        "start_time": "2023-07-25T09:53:47.877Z"
      },
      {
        "duration": 10,
        "start_time": "2023-07-25T09:53:53.191Z"
      },
      {
        "duration": 639,
        "start_time": "2023-07-25T09:54:08.922Z"
      },
      {
        "duration": 121,
        "start_time": "2023-07-25T09:54:09.574Z"
      },
      {
        "duration": 14,
        "start_time": "2023-07-25T09:54:09.696Z"
      },
      {
        "duration": 1974,
        "start_time": "2023-07-25T09:54:09.712Z"
      },
      {
        "duration": 1938,
        "start_time": "2023-07-25T09:54:11.692Z"
      },
      {
        "duration": 11,
        "start_time": "2023-07-25T09:54:13.631Z"
      },
      {
        "duration": 47,
        "start_time": "2023-07-25T09:54:13.644Z"
      },
      {
        "duration": 12,
        "start_time": "2023-07-25T09:54:13.693Z"
      },
      {
        "duration": 18,
        "start_time": "2023-07-25T09:54:13.707Z"
      },
      {
        "duration": 39,
        "start_time": "2023-07-25T09:54:13.727Z"
      },
      {
        "duration": 28,
        "start_time": "2023-07-25T09:54:13.768Z"
      },
      {
        "duration": 18,
        "start_time": "2023-07-25T09:54:13.798Z"
      },
      {
        "duration": 17,
        "start_time": "2023-07-25T09:54:13.818Z"
      },
      {
        "duration": 34,
        "start_time": "2023-07-25T09:54:13.836Z"
      },
      {
        "duration": 34,
        "start_time": "2023-07-25T09:54:13.871Z"
      },
      {
        "duration": 22,
        "start_time": "2023-07-25T09:54:13.907Z"
      },
      {
        "duration": 65,
        "start_time": "2023-07-25T09:54:13.931Z"
      },
      {
        "duration": 10,
        "start_time": "2023-07-25T09:54:13.997Z"
      },
      {
        "duration": 97,
        "start_time": "2023-07-25T09:54:14.008Z"
      },
      {
        "duration": 17,
        "start_time": "2023-07-25T09:54:14.107Z"
      },
      {
        "duration": 113,
        "start_time": "2023-07-25T09:54:14.126Z"
      },
      {
        "duration": 143,
        "start_time": "2023-07-25T09:54:14.241Z"
      },
      {
        "duration": 10,
        "start_time": "2023-07-25T09:54:14.385Z"
      },
      {
        "duration": 23,
        "start_time": "2023-07-25T09:54:14.397Z"
      },
      {
        "duration": 218,
        "start_time": "2023-07-25T09:54:14.422Z"
      },
      {
        "duration": 2084,
        "start_time": "2023-07-25T09:54:14.642Z"
      },
      {
        "duration": 78,
        "start_time": "2023-07-25T09:54:16.728Z"
      },
      {
        "duration": 268,
        "start_time": "2023-07-25T09:54:16.810Z"
      },
      {
        "duration": 4,
        "start_time": "2023-07-25T09:54:17.088Z"
      },
      {
        "duration": 31,
        "start_time": "2023-07-25T09:54:17.094Z"
      },
      {
        "duration": 9,
        "start_time": "2023-07-25T09:54:17.127Z"
      },
      {
        "duration": 20,
        "start_time": "2023-07-25T09:54:17.138Z"
      },
      {
        "duration": 301,
        "start_time": "2023-07-25T09:54:17.159Z"
      },
      {
        "duration": 25,
        "start_time": "2023-07-25T09:54:17.461Z"
      },
      {
        "duration": 20,
        "start_time": "2023-07-25T09:54:17.488Z"
      },
      {
        "duration": 264,
        "start_time": "2023-07-25T09:54:17.509Z"
      },
      {
        "duration": 269,
        "start_time": "2023-07-25T09:54:17.775Z"
      },
      {
        "duration": 262,
        "start_time": "2023-07-25T09:54:18.047Z"
      },
      {
        "duration": 263,
        "start_time": "2023-07-25T09:54:18.311Z"
      },
      {
        "duration": 177,
        "start_time": "2023-07-25T09:54:18.581Z"
      },
      {
        "duration": 334,
        "start_time": "2023-07-25T09:54:18.760Z"
      },
      {
        "duration": 218,
        "start_time": "2023-07-25T09:54:19.096Z"
      },
      {
        "duration": 133,
        "start_time": "2023-07-25T09:54:19.315Z"
      },
      {
        "duration": 257,
        "start_time": "2023-07-25T09:54:19.449Z"
      },
      {
        "duration": 291,
        "start_time": "2023-07-25T09:54:19.709Z"
      },
      {
        "duration": 286,
        "start_time": "2023-07-25T09:54:20.002Z"
      },
      {
        "duration": 361,
        "start_time": "2023-07-25T09:54:20.290Z"
      },
      {
        "duration": 302,
        "start_time": "2023-07-25T09:54:20.652Z"
      },
      {
        "duration": 247,
        "start_time": "2023-07-25T09:54:20.956Z"
      },
      {
        "duration": 195,
        "start_time": "2023-07-25T09:54:21.208Z"
      },
      {
        "duration": 197,
        "start_time": "2023-07-25T09:54:21.404Z"
      },
      {
        "duration": 200,
        "start_time": "2023-07-25T09:54:21.604Z"
      },
      {
        "duration": 201,
        "start_time": "2023-07-25T09:54:21.806Z"
      },
      {
        "duration": 130,
        "start_time": "2023-07-25T09:54:22.009Z"
      },
      {
        "duration": 453,
        "start_time": "2023-07-25T09:54:22.140Z"
      },
      {
        "duration": 13,
        "start_time": "2023-07-25T09:54:22.595Z"
      },
      {
        "duration": 8,
        "start_time": "2023-07-25T09:54:22.610Z"
      },
      {
        "duration": 285,
        "start_time": "2023-07-25T09:54:22.619Z"
      },
      {
        "duration": 231,
        "start_time": "2023-07-25T10:06:12.729Z"
      },
      {
        "duration": 40,
        "start_time": "2023-07-25T10:07:23.390Z"
      },
      {
        "duration": 20,
        "start_time": "2023-07-25T10:18:26.012Z"
      },
      {
        "duration": 8,
        "start_time": "2023-07-25T10:20:00.646Z"
      },
      {
        "duration": 780,
        "start_time": "2023-07-25T10:20:30.500Z"
      },
      {
        "duration": 120,
        "start_time": "2023-07-25T10:20:31.282Z"
      },
      {
        "duration": 16,
        "start_time": "2023-07-25T10:20:31.403Z"
      },
      {
        "duration": 2119,
        "start_time": "2023-07-25T10:20:31.421Z"
      },
      {
        "duration": 1973,
        "start_time": "2023-07-25T10:20:33.541Z"
      },
      {
        "duration": 12,
        "start_time": "2023-07-25T10:20:35.516Z"
      },
      {
        "duration": 16,
        "start_time": "2023-07-25T10:20:35.529Z"
      },
      {
        "duration": 14,
        "start_time": "2023-07-25T10:20:35.547Z"
      },
      {
        "duration": 7,
        "start_time": "2023-07-25T10:20:35.574Z"
      },
      {
        "duration": 26,
        "start_time": "2023-07-25T10:20:35.584Z"
      },
      {
        "duration": 45,
        "start_time": "2023-07-25T10:20:35.612Z"
      },
      {
        "duration": 40,
        "start_time": "2023-07-25T10:20:35.659Z"
      },
      {
        "duration": 47,
        "start_time": "2023-07-25T10:20:35.701Z"
      },
      {
        "duration": 11,
        "start_time": "2023-07-25T10:20:35.750Z"
      },
      {
        "duration": 39,
        "start_time": "2023-07-25T10:20:35.763Z"
      },
      {
        "duration": 46,
        "start_time": "2023-07-25T10:20:35.804Z"
      },
      {
        "duration": 54,
        "start_time": "2023-07-25T10:20:35.852Z"
      },
      {
        "duration": 9,
        "start_time": "2023-07-25T10:20:35.908Z"
      },
      {
        "duration": 87,
        "start_time": "2023-07-25T10:20:35.919Z"
      },
      {
        "duration": 20,
        "start_time": "2023-07-25T10:20:36.008Z"
      },
      {
        "duration": 125,
        "start_time": "2023-07-25T10:20:36.030Z"
      },
      {
        "duration": 143,
        "start_time": "2023-07-25T10:20:36.157Z"
      },
      {
        "duration": 11,
        "start_time": "2023-07-25T10:20:36.302Z"
      },
      {
        "duration": 33,
        "start_time": "2023-07-25T10:20:36.315Z"
      },
      {
        "duration": 290,
        "start_time": "2023-07-25T10:20:36.350Z"
      },
      {
        "duration": 1891,
        "start_time": "2023-07-25T10:20:36.642Z"
      },
      {
        "duration": 62,
        "start_time": "2023-07-25T10:20:38.535Z"
      },
      {
        "duration": 269,
        "start_time": "2023-07-25T10:20:38.601Z"
      },
      {
        "duration": 5,
        "start_time": "2023-07-25T10:20:38.874Z"
      },
      {
        "duration": 13,
        "start_time": "2023-07-25T10:20:38.880Z"
      },
      {
        "duration": 31,
        "start_time": "2023-07-25T10:20:38.895Z"
      },
      {
        "duration": 36,
        "start_time": "2023-07-25T10:20:38.927Z"
      },
      {
        "duration": 295,
        "start_time": "2023-07-25T10:20:38.965Z"
      },
      {
        "duration": 14,
        "start_time": "2023-07-25T10:20:39.262Z"
      },
      {
        "duration": 22,
        "start_time": "2023-07-25T10:20:39.277Z"
      },
      {
        "duration": 280,
        "start_time": "2023-07-25T10:20:39.301Z"
      },
      {
        "duration": 270,
        "start_time": "2023-07-25T10:20:39.583Z"
      },
      {
        "duration": 260,
        "start_time": "2023-07-25T10:20:39.855Z"
      },
      {
        "duration": 260,
        "start_time": "2023-07-25T10:20:40.117Z"
      },
      {
        "duration": 171,
        "start_time": "2023-07-25T10:20:40.379Z"
      },
      {
        "duration": 325,
        "start_time": "2023-07-25T10:20:40.552Z"
      },
      {
        "duration": 226,
        "start_time": "2023-07-25T10:20:40.879Z"
      },
      {
        "duration": 152,
        "start_time": "2023-07-25T10:20:41.107Z"
      },
      {
        "duration": 227,
        "start_time": "2023-07-25T10:20:41.261Z"
      },
      {
        "duration": 295,
        "start_time": "2023-07-25T10:20:41.490Z"
      },
      {
        "duration": 347,
        "start_time": "2023-07-25T10:20:41.786Z"
      },
      {
        "duration": 361,
        "start_time": "2023-07-25T10:20:42.135Z"
      },
      {
        "duration": 321,
        "start_time": "2023-07-25T10:20:42.498Z"
      },
      {
        "duration": 319,
        "start_time": "2023-07-25T10:20:42.820Z"
      },
      {
        "duration": 233,
        "start_time": "2023-07-25T10:20:43.140Z"
      },
      {
        "duration": 202,
        "start_time": "2023-07-25T10:20:43.375Z"
      },
      {
        "duration": 196,
        "start_time": "2023-07-25T10:20:43.580Z"
      },
      {
        "duration": 221,
        "start_time": "2023-07-25T10:20:43.778Z"
      },
      {
        "duration": 143,
        "start_time": "2023-07-25T10:20:44.002Z"
      },
      {
        "duration": 465,
        "start_time": "2023-07-25T10:20:44.147Z"
      },
      {
        "duration": 15,
        "start_time": "2023-07-25T10:20:44.615Z"
      },
      {
        "duration": 15,
        "start_time": "2023-07-25T10:20:44.632Z"
      },
      {
        "duration": 306,
        "start_time": "2023-07-25T10:20:44.650Z"
      },
      {
        "duration": 17,
        "start_time": "2023-07-25T10:24:21.413Z"
      },
      {
        "duration": 4,
        "start_time": "2023-07-25T10:25:23.838Z"
      },
      {
        "duration": 150,
        "start_time": "2023-07-25T10:25:23.844Z"
      },
      {
        "duration": 14,
        "start_time": "2023-07-25T10:25:23.996Z"
      },
      {
        "duration": 2037,
        "start_time": "2023-07-25T10:25:24.012Z"
      },
      {
        "duration": 2040,
        "start_time": "2023-07-25T10:25:26.051Z"
      },
      {
        "duration": 10,
        "start_time": "2023-07-25T10:25:28.093Z"
      },
      {
        "duration": 35,
        "start_time": "2023-07-25T10:25:28.104Z"
      },
      {
        "duration": 5,
        "start_time": "2023-07-25T10:25:28.141Z"
      },
      {
        "duration": 9,
        "start_time": "2023-07-25T10:25:28.147Z"
      },
      {
        "duration": 24,
        "start_time": "2023-07-25T10:25:28.158Z"
      },
      {
        "duration": 8,
        "start_time": "2023-07-25T10:25:28.186Z"
      },
      {
        "duration": 16,
        "start_time": "2023-07-25T10:25:28.195Z"
      },
      {
        "duration": 14,
        "start_time": "2023-07-25T10:25:28.213Z"
      },
      {
        "duration": 7,
        "start_time": "2023-07-25T10:25:28.229Z"
      },
      {
        "duration": 22,
        "start_time": "2023-07-25T10:25:28.238Z"
      },
      {
        "duration": 22,
        "start_time": "2023-07-25T10:25:28.261Z"
      },
      {
        "duration": 27,
        "start_time": "2023-07-25T10:25:28.284Z"
      },
      {
        "duration": 7,
        "start_time": "2023-07-25T10:25:28.312Z"
      },
      {
        "duration": 95,
        "start_time": "2023-07-25T10:25:28.320Z"
      },
      {
        "duration": 17,
        "start_time": "2023-07-25T10:25:28.417Z"
      },
      {
        "duration": 108,
        "start_time": "2023-07-25T10:25:28.436Z"
      },
      {
        "duration": 136,
        "start_time": "2023-07-25T10:25:28.546Z"
      },
      {
        "duration": 8,
        "start_time": "2023-07-25T10:25:28.683Z"
      },
      {
        "duration": 29,
        "start_time": "2023-07-25T10:25:28.693Z"
      },
      {
        "duration": 229,
        "start_time": "2023-07-25T10:25:28.724Z"
      },
      {
        "duration": 2054,
        "start_time": "2023-07-25T10:25:28.956Z"
      },
      {
        "duration": 70,
        "start_time": "2023-07-25T10:25:31.012Z"
      },
      {
        "duration": 277,
        "start_time": "2023-07-25T10:25:31.084Z"
      },
      {
        "duration": 12,
        "start_time": "2023-07-25T10:25:31.365Z"
      },
      {
        "duration": 54,
        "start_time": "2023-07-25T10:25:31.379Z"
      },
      {
        "duration": 50,
        "start_time": "2023-07-25T10:25:31.434Z"
      },
      {
        "duration": 63,
        "start_time": "2023-07-25T10:25:31.485Z"
      },
      {
        "duration": 246,
        "start_time": "2023-07-25T10:25:31.550Z"
      },
      {
        "duration": 13,
        "start_time": "2023-07-25T10:25:31.798Z"
      },
      {
        "duration": 54,
        "start_time": "2023-07-25T10:25:31.812Z"
      },
      {
        "duration": 288,
        "start_time": "2023-07-25T10:25:31.868Z"
      },
      {
        "duration": 298,
        "start_time": "2023-07-25T10:25:32.159Z"
      },
      {
        "duration": 257,
        "start_time": "2023-07-25T10:25:32.459Z"
      },
      {
        "duration": 412,
        "start_time": "2023-07-25T10:25:32.717Z"
      },
      {
        "duration": 172,
        "start_time": "2023-07-25T10:25:33.131Z"
      },
      {
        "duration": 236,
        "start_time": "2023-07-25T10:25:33.305Z"
      },
      {
        "duration": 211,
        "start_time": "2023-07-25T10:25:33.542Z"
      },
      {
        "duration": 151,
        "start_time": "2023-07-25T10:25:33.755Z"
      },
      {
        "duration": 253,
        "start_time": "2023-07-25T10:25:33.908Z"
      },
      {
        "duration": 337,
        "start_time": "2023-07-25T10:25:34.164Z"
      },
      {
        "duration": 367,
        "start_time": "2023-07-25T10:25:34.503Z"
      },
      {
        "duration": 534,
        "start_time": "2023-07-25T10:25:34.872Z"
      },
      {
        "duration": 334,
        "start_time": "2023-07-25T10:25:35.408Z"
      },
      {
        "duration": 249,
        "start_time": "2023-07-25T10:25:35.744Z"
      },
      {
        "duration": 208,
        "start_time": "2023-07-25T10:25:35.996Z"
      },
      {
        "duration": 252,
        "start_time": "2023-07-25T10:25:36.206Z"
      },
      {
        "duration": 197,
        "start_time": "2023-07-25T10:25:36.460Z"
      },
      {
        "duration": 197,
        "start_time": "2023-07-25T10:25:36.659Z"
      },
      {
        "duration": 125,
        "start_time": "2023-07-25T10:25:36.857Z"
      },
      {
        "duration": 447,
        "start_time": "2023-07-25T10:25:36.983Z"
      },
      {
        "duration": 14,
        "start_time": "2023-07-25T10:25:37.432Z"
      },
      {
        "duration": 12,
        "start_time": "2023-07-25T10:25:37.448Z"
      },
      {
        "duration": 309,
        "start_time": "2023-07-25T10:25:37.461Z"
      },
      {
        "duration": 116,
        "start_time": "2023-07-25T10:33:43.750Z"
      },
      {
        "duration": 141,
        "start_time": "2023-07-25T10:34:05.253Z"
      },
      {
        "duration": 116,
        "start_time": "2023-07-25T10:34:10.780Z"
      },
      {
        "duration": 98,
        "start_time": "2023-07-25T10:34:26.516Z"
      },
      {
        "duration": 98,
        "start_time": "2023-07-25T10:37:01.138Z"
      },
      {
        "duration": 119,
        "start_time": "2023-07-25T10:37:16.175Z"
      },
      {
        "duration": 110,
        "start_time": "2023-07-25T10:37:51.239Z"
      },
      {
        "duration": 36,
        "start_time": "2023-07-25T10:38:42.280Z"
      },
      {
        "duration": 11,
        "start_time": "2023-07-25T10:38:52.283Z"
      },
      {
        "duration": 3,
        "start_time": "2023-07-25T10:38:57.964Z"
      },
      {
        "duration": 115,
        "start_time": "2023-07-25T10:38:57.969Z"
      },
      {
        "duration": 13,
        "start_time": "2023-07-25T10:38:58.086Z"
      },
      {
        "duration": 2067,
        "start_time": "2023-07-25T10:38:58.100Z"
      },
      {
        "duration": 2101,
        "start_time": "2023-07-25T10:39:00.174Z"
      },
      {
        "duration": 10,
        "start_time": "2023-07-25T10:39:02.277Z"
      },
      {
        "duration": 39,
        "start_time": "2023-07-25T10:39:02.288Z"
      },
      {
        "duration": 19,
        "start_time": "2023-07-25T10:39:02.328Z"
      },
      {
        "duration": 53,
        "start_time": "2023-07-25T10:39:02.349Z"
      },
      {
        "duration": 26,
        "start_time": "2023-07-25T10:39:02.404Z"
      },
      {
        "duration": 31,
        "start_time": "2023-07-25T10:39:02.433Z"
      },
      {
        "duration": 35,
        "start_time": "2023-07-25T10:39:02.465Z"
      },
      {
        "duration": 43,
        "start_time": "2023-07-25T10:39:02.501Z"
      },
      {
        "duration": 17,
        "start_time": "2023-07-25T10:39:02.546Z"
      },
      {
        "duration": 20,
        "start_time": "2023-07-25T10:39:02.564Z"
      },
      {
        "duration": 22,
        "start_time": "2023-07-25T10:39:02.586Z"
      },
      {
        "duration": 30,
        "start_time": "2023-07-25T10:39:02.609Z"
      },
      {
        "duration": 7,
        "start_time": "2023-07-25T10:39:02.640Z"
      },
      {
        "duration": 99,
        "start_time": "2023-07-25T10:39:02.648Z"
      },
      {
        "duration": 17,
        "start_time": "2023-07-25T10:39:02.749Z"
      },
      {
        "duration": 107,
        "start_time": "2023-07-25T10:39:02.777Z"
      },
      {
        "duration": 128,
        "start_time": "2023-07-25T10:39:02.886Z"
      },
      {
        "duration": 117,
        "start_time": "2023-07-25T10:39:03.016Z"
      },
      {
        "duration": 27,
        "start_time": "2023-07-25T10:39:03.134Z"
      },
      {
        "duration": 26,
        "start_time": "2023-07-25T10:39:03.163Z"
      },
      {
        "duration": 47,
        "start_time": "2023-07-25T10:39:03.190Z"
      },
      {
        "duration": 213,
        "start_time": "2023-07-25T10:39:03.238Z"
      },
      {
        "duration": 1894,
        "start_time": "2023-07-25T10:39:03.453Z"
      },
      {
        "duration": 57,
        "start_time": "2023-07-25T10:39:05.351Z"
      },
      {
        "duration": 252,
        "start_time": "2023-07-25T10:39:05.411Z"
      },
      {
        "duration": 11,
        "start_time": "2023-07-25T10:39:05.665Z"
      },
      {
        "duration": 23,
        "start_time": "2023-07-25T10:39:05.678Z"
      },
      {
        "duration": 12,
        "start_time": "2023-07-25T10:39:05.702Z"
      },
      {
        "duration": 27,
        "start_time": "2023-07-25T10:39:05.716Z"
      },
      {
        "duration": 191,
        "start_time": "2023-07-25T10:39:05.745Z"
      },
      {
        "duration": 12,
        "start_time": "2023-07-25T10:39:05.938Z"
      },
      {
        "duration": 32,
        "start_time": "2023-07-25T10:39:05.951Z"
      },
      {
        "duration": 266,
        "start_time": "2023-07-25T10:39:05.985Z"
      },
      {
        "duration": 311,
        "start_time": "2023-07-25T10:39:06.254Z"
      },
      {
        "duration": 513,
        "start_time": "2023-07-25T10:39:06.575Z"
      },
      {
        "duration": 285,
        "start_time": "2023-07-25T10:39:07.090Z"
      },
      {
        "duration": 171,
        "start_time": "2023-07-25T10:39:07.377Z"
      },
      {
        "duration": 235,
        "start_time": "2023-07-25T10:39:07.550Z"
      },
      {
        "duration": 213,
        "start_time": "2023-07-25T10:39:07.787Z"
      },
      {
        "duration": 148,
        "start_time": "2023-07-25T10:39:08.003Z"
      },
      {
        "duration": 235,
        "start_time": "2023-07-25T10:39:08.154Z"
      },
      {
        "duration": 269,
        "start_time": "2023-07-25T10:39:08.391Z"
      },
      {
        "duration": 276,
        "start_time": "2023-07-25T10:39:08.662Z"
      },
      {
        "duration": 285,
        "start_time": "2023-07-25T10:39:08.940Z"
      },
      {
        "duration": 289,
        "start_time": "2023-07-25T10:39:09.228Z"
      },
      {
        "duration": 527,
        "start_time": "2023-07-25T10:39:09.519Z"
      },
      {
        "duration": 197,
        "start_time": "2023-07-25T10:39:10.048Z"
      },
      {
        "duration": 193,
        "start_time": "2023-07-25T10:39:10.247Z"
      },
      {
        "duration": 188,
        "start_time": "2023-07-25T10:39:10.442Z"
      },
      {
        "duration": 207,
        "start_time": "2023-07-25T10:39:10.632Z"
      },
      {
        "duration": 132,
        "start_time": "2023-07-25T10:39:10.840Z"
      },
      {
        "duration": 470,
        "start_time": "2023-07-25T10:39:10.975Z"
      },
      {
        "duration": 13,
        "start_time": "2023-07-25T10:39:11.447Z"
      },
      {
        "duration": 19,
        "start_time": "2023-07-25T10:39:11.462Z"
      },
      {
        "duration": 310,
        "start_time": "2023-07-25T10:39:11.482Z"
      },
      {
        "duration": 15,
        "start_time": "2023-07-25T10:39:38.797Z"
      },
      {
        "duration": 49,
        "start_time": "2023-07-25T10:40:43.325Z"
      },
      {
        "duration": 8,
        "start_time": "2023-07-25T10:40:54.212Z"
      },
      {
        "duration": 52,
        "start_time": "2023-07-25T17:32:00.737Z"
      },
      {
        "duration": 1025,
        "start_time": "2023-07-25T17:32:06.849Z"
      },
      {
        "duration": 460,
        "start_time": "2023-07-25T17:32:07.876Z"
      },
      {
        "duration": 18,
        "start_time": "2023-07-25T17:32:08.343Z"
      },
      {
        "duration": 2267,
        "start_time": "2023-07-25T17:32:08.364Z"
      },
      {
        "duration": 2324,
        "start_time": "2023-07-25T17:32:10.634Z"
      },
      {
        "duration": 14,
        "start_time": "2023-07-25T17:32:12.960Z"
      },
      {
        "duration": 79,
        "start_time": "2023-07-25T17:32:12.976Z"
      },
      {
        "duration": 6,
        "start_time": "2023-07-25T17:32:13.057Z"
      },
      {
        "duration": 7,
        "start_time": "2023-07-25T17:32:13.065Z"
      },
      {
        "duration": 27,
        "start_time": "2023-07-25T17:32:13.074Z"
      },
      {
        "duration": 34,
        "start_time": "2023-07-25T17:32:13.103Z"
      },
      {
        "duration": 15,
        "start_time": "2023-07-25T17:32:13.139Z"
      },
      {
        "duration": 10,
        "start_time": "2023-07-25T17:32:13.156Z"
      },
      {
        "duration": 14,
        "start_time": "2023-07-25T17:32:13.169Z"
      },
      {
        "duration": 12,
        "start_time": "2023-07-25T17:32:13.185Z"
      },
      {
        "duration": 60,
        "start_time": "2023-07-25T17:32:13.198Z"
      },
      {
        "duration": 28,
        "start_time": "2023-07-25T17:32:13.260Z"
      },
      {
        "duration": 18,
        "start_time": "2023-07-25T17:32:13.290Z"
      },
      {
        "duration": 124,
        "start_time": "2023-07-25T17:32:13.316Z"
      },
      {
        "duration": 20,
        "start_time": "2023-07-25T17:32:13.442Z"
      },
      {
        "duration": 131,
        "start_time": "2023-07-25T17:32:13.464Z"
      },
      {
        "duration": 146,
        "start_time": "2023-07-25T17:32:13.601Z"
      },
      {
        "duration": 131,
        "start_time": "2023-07-25T17:32:13.749Z"
      },
      {
        "duration": 54,
        "start_time": "2023-07-25T17:32:13.881Z"
      },
      {
        "duration": 9,
        "start_time": "2023-07-25T17:32:13.937Z"
      },
      {
        "duration": 19,
        "start_time": "2023-07-25T17:32:13.947Z"
      },
      {
        "duration": 252,
        "start_time": "2023-07-25T17:32:13.968Z"
      },
      {
        "duration": 2379,
        "start_time": "2023-07-25T17:32:14.222Z"
      },
      {
        "duration": 100,
        "start_time": "2023-07-25T17:32:16.603Z"
      },
      {
        "duration": 353,
        "start_time": "2023-07-25T17:32:16.705Z"
      },
      {
        "duration": 9,
        "start_time": "2023-07-25T17:32:17.060Z"
      },
      {
        "duration": 68,
        "start_time": "2023-07-25T17:32:17.071Z"
      },
      {
        "duration": 13,
        "start_time": "2023-07-25T17:32:17.141Z"
      },
      {
        "duration": 10,
        "start_time": "2023-07-25T17:32:17.156Z"
      },
      {
        "duration": 331,
        "start_time": "2023-07-25T17:32:17.168Z"
      },
      {
        "duration": 13,
        "start_time": "2023-07-25T17:32:17.501Z"
      },
      {
        "duration": 38,
        "start_time": "2023-07-25T17:32:17.521Z"
      },
      {
        "duration": 292,
        "start_time": "2023-07-25T17:32:17.561Z"
      },
      {
        "duration": 314,
        "start_time": "2023-07-25T17:32:17.854Z"
      },
      {
        "duration": 336,
        "start_time": "2023-07-25T17:32:18.170Z"
      },
      {
        "duration": 313,
        "start_time": "2023-07-25T17:32:18.511Z"
      },
      {
        "duration": 196,
        "start_time": "2023-07-25T17:32:18.829Z"
      },
      {
        "duration": 346,
        "start_time": "2023-07-25T17:32:19.034Z"
      },
      {
        "duration": 258,
        "start_time": "2023-07-25T17:32:19.382Z"
      },
      {
        "duration": 146,
        "start_time": "2023-07-25T17:32:19.641Z"
      },
      {
        "duration": 287,
        "start_time": "2023-07-25T17:32:19.788Z"
      },
      {
        "duration": 339,
        "start_time": "2023-07-25T17:32:20.077Z"
      },
      {
        "duration": 329,
        "start_time": "2023-07-25T17:32:20.418Z"
      },
      {
        "duration": 408,
        "start_time": "2023-07-25T17:32:20.748Z"
      },
      {
        "duration": 342,
        "start_time": "2023-07-25T17:32:21.157Z"
      },
      {
        "duration": 269,
        "start_time": "2023-07-25T17:32:21.507Z"
      },
      {
        "duration": 243,
        "start_time": "2023-07-25T17:32:21.778Z"
      },
      {
        "duration": 226,
        "start_time": "2023-07-25T17:32:22.023Z"
      },
      {
        "duration": 244,
        "start_time": "2023-07-25T17:32:22.251Z"
      },
      {
        "duration": 239,
        "start_time": "2023-07-25T17:32:22.497Z"
      },
      {
        "duration": 149,
        "start_time": "2023-07-25T17:32:22.738Z"
      },
      {
        "duration": 548,
        "start_time": "2023-07-25T17:32:22.890Z"
      },
      {
        "duration": 25,
        "start_time": "2023-07-25T17:32:23.440Z"
      },
      {
        "duration": 31,
        "start_time": "2023-07-25T17:32:23.467Z"
      },
      {
        "duration": 495,
        "start_time": "2023-07-25T17:32:23.503Z"
      },
      {
        "duration": 245,
        "start_time": "2023-07-25T17:32:28.027Z"
      },
      {
        "duration": 223,
        "start_time": "2023-07-25T17:32:33.233Z"
      },
      {
        "duration": 211,
        "start_time": "2023-07-25T17:32:40.712Z"
      },
      {
        "duration": 195,
        "start_time": "2023-07-25T17:32:44.831Z"
      },
      {
        "duration": 229,
        "start_time": "2023-07-25T17:32:52.195Z"
      },
      {
        "duration": 270,
        "start_time": "2023-07-25T17:33:04.330Z"
      },
      {
        "duration": 270,
        "start_time": "2023-07-25T17:33:08.715Z"
      },
      {
        "duration": 213,
        "start_time": "2023-07-25T17:33:12.314Z"
      },
      {
        "duration": 583,
        "start_time": "2023-07-25T17:34:52.011Z"
      },
      {
        "duration": 255,
        "start_time": "2023-07-25T17:35:10.238Z"
      },
      {
        "duration": 412,
        "start_time": "2023-07-25T17:36:05.469Z"
      },
      {
        "duration": 415,
        "start_time": "2023-07-25T17:36:13.412Z"
      },
      {
        "duration": 387,
        "start_time": "2023-07-25T17:36:33.514Z"
      },
      {
        "duration": 389,
        "start_time": "2023-07-25T17:39:00.727Z"
      },
      {
        "duration": 395,
        "start_time": "2023-07-25T17:39:17.012Z"
      },
      {
        "duration": 5,
        "start_time": "2023-07-25T17:46:16.771Z"
      },
      {
        "duration": 454,
        "start_time": "2023-07-25T17:46:28.548Z"
      },
      {
        "duration": 433,
        "start_time": "2023-07-25T17:46:46.321Z"
      },
      {
        "duration": 375,
        "start_time": "2023-07-25T17:47:17.124Z"
      },
      {
        "duration": 509,
        "start_time": "2023-07-25T17:47:22.924Z"
      },
      {
        "duration": 419,
        "start_time": "2023-07-25T17:48:18.370Z"
      },
      {
        "duration": 253,
        "start_time": "2023-07-25T17:48:33.691Z"
      },
      {
        "duration": 203,
        "start_time": "2023-07-25T17:49:49.974Z"
      },
      {
        "duration": 195,
        "start_time": "2023-07-25T17:49:55.754Z"
      },
      {
        "duration": 286,
        "start_time": "2023-07-25T17:50:02.359Z"
      },
      {
        "duration": 439,
        "start_time": "2023-07-25T17:51:23.418Z"
      },
      {
        "duration": 703,
        "start_time": "2023-07-25T17:51:46.135Z"
      },
      {
        "duration": 215,
        "start_time": "2023-07-25T17:53:48.457Z"
      },
      {
        "duration": 197,
        "start_time": "2023-07-25T17:54:09.320Z"
      },
      {
        "duration": 6,
        "start_time": "2023-07-25T17:59:55.932Z"
      },
      {
        "duration": 6,
        "start_time": "2023-07-25T18:03:18.642Z"
      },
      {
        "duration": 11,
        "start_time": "2023-07-25T18:04:04.906Z"
      },
      {
        "duration": 8,
        "start_time": "2023-07-25T18:06:28.416Z"
      },
      {
        "duration": 788,
        "start_time": "2023-07-25T18:07:33.869Z"
      },
      {
        "duration": 428,
        "start_time": "2023-07-25T18:09:51.015Z"
      },
      {
        "duration": 209,
        "start_time": "2023-07-25T18:10:04.440Z"
      },
      {
        "duration": 126,
        "start_time": "2023-07-25T18:13:46.333Z"
      },
      {
        "duration": 169,
        "start_time": "2023-07-25T18:14:00.335Z"
      },
      {
        "duration": 188,
        "start_time": "2023-07-25T18:14:23.469Z"
      },
      {
        "duration": 356,
        "start_time": "2023-07-25T18:17:16.020Z"
      },
      {
        "duration": 23,
        "start_time": "2023-07-25T18:17:55.725Z"
      },
      {
        "duration": 23,
        "start_time": "2023-07-25T18:19:01.536Z"
      },
      {
        "duration": 19,
        "start_time": "2023-07-25T18:19:59.466Z"
      },
      {
        "duration": 42,
        "start_time": "2023-07-25T18:21:37.849Z"
      },
      {
        "duration": 21,
        "start_time": "2023-07-25T18:22:02.527Z"
      },
      {
        "duration": 23,
        "start_time": "2023-07-25T18:24:12.714Z"
      },
      {
        "duration": 193,
        "start_time": "2023-07-25T18:24:25.367Z"
      },
      {
        "duration": 318,
        "start_time": "2023-07-25T18:28:11.818Z"
      },
      {
        "duration": 331,
        "start_time": "2023-07-25T18:31:50.564Z"
      },
      {
        "duration": 305,
        "start_time": "2023-07-25T18:47:58.519Z"
      },
      {
        "duration": 688,
        "start_time": "2023-07-25T19:35:53.352Z"
      },
      {
        "duration": 124,
        "start_time": "2023-07-25T19:35:54.042Z"
      },
      {
        "duration": 16,
        "start_time": "2023-07-25T19:35:54.167Z"
      },
      {
        "duration": 2133,
        "start_time": "2023-07-25T19:35:54.186Z"
      },
      {
        "duration": 2150,
        "start_time": "2023-07-25T19:35:56.321Z"
      },
      {
        "duration": 10,
        "start_time": "2023-07-25T19:35:58.472Z"
      },
      {
        "duration": 24,
        "start_time": "2023-07-25T19:35:58.484Z"
      },
      {
        "duration": 5,
        "start_time": "2023-07-25T19:35:58.510Z"
      },
      {
        "duration": 7,
        "start_time": "2023-07-25T19:35:58.517Z"
      },
      {
        "duration": 17,
        "start_time": "2023-07-25T19:35:58.526Z"
      },
      {
        "duration": 15,
        "start_time": "2023-07-25T19:35:58.545Z"
      },
      {
        "duration": 11,
        "start_time": "2023-07-25T19:35:58.562Z"
      },
      {
        "duration": 25,
        "start_time": "2023-07-25T19:35:58.575Z"
      },
      {
        "duration": 11,
        "start_time": "2023-07-25T19:35:58.602Z"
      },
      {
        "duration": 20,
        "start_time": "2023-07-25T19:35:58.615Z"
      },
      {
        "duration": 21,
        "start_time": "2023-07-25T19:35:58.637Z"
      },
      {
        "duration": 59,
        "start_time": "2023-07-25T19:35:58.661Z"
      },
      {
        "duration": 10,
        "start_time": "2023-07-25T19:35:58.722Z"
      },
      {
        "duration": 117,
        "start_time": "2023-07-25T19:35:58.734Z"
      },
      {
        "duration": 18,
        "start_time": "2023-07-25T19:35:58.853Z"
      },
      {
        "duration": 121,
        "start_time": "2023-07-25T19:35:58.873Z"
      },
      {
        "duration": 145,
        "start_time": "2023-07-25T19:35:58.996Z"
      },
      {
        "duration": 126,
        "start_time": "2023-07-25T19:35:59.143Z"
      },
      {
        "duration": 42,
        "start_time": "2023-07-25T19:35:59.270Z"
      },
      {
        "duration": 11,
        "start_time": "2023-07-25T19:35:59.314Z"
      },
      {
        "duration": 14,
        "start_time": "2023-07-25T19:35:59.327Z"
      },
      {
        "duration": 238,
        "start_time": "2023-07-25T19:35:59.343Z"
      },
      {
        "duration": 2029,
        "start_time": "2023-07-25T19:35:59.587Z"
      },
      {
        "duration": 57,
        "start_time": "2023-07-25T19:36:01.618Z"
      },
      {
        "duration": 288,
        "start_time": "2023-07-25T19:36:01.677Z"
      },
      {
        "duration": 6,
        "start_time": "2023-07-25T19:36:01.967Z"
      },
      {
        "duration": 47,
        "start_time": "2023-07-25T19:36:01.974Z"
      },
      {
        "duration": 32,
        "start_time": "2023-07-25T19:36:02.023Z"
      },
      {
        "duration": 15,
        "start_time": "2023-07-25T19:36:02.057Z"
      },
      {
        "duration": 383,
        "start_time": "2023-07-25T19:36:02.074Z"
      },
      {
        "duration": 15,
        "start_time": "2023-07-25T19:36:02.459Z"
      },
      {
        "duration": 39,
        "start_time": "2023-07-25T19:36:02.477Z"
      },
      {
        "duration": 348,
        "start_time": "2023-07-25T19:36:02.518Z"
      },
      {
        "duration": 294,
        "start_time": "2023-07-25T19:36:02.867Z"
      },
      {
        "duration": 278,
        "start_time": "2023-07-25T19:36:03.162Z"
      },
      {
        "duration": 285,
        "start_time": "2023-07-25T19:36:03.442Z"
      },
      {
        "duration": 178,
        "start_time": "2023-07-25T19:36:03.728Z"
      },
      {
        "duration": 329,
        "start_time": "2023-07-25T19:36:03.907Z"
      },
      {
        "duration": 252,
        "start_time": "2023-07-25T19:36:04.237Z"
      },
      {
        "duration": 144,
        "start_time": "2023-07-25T19:36:04.494Z"
      },
      {
        "duration": 237,
        "start_time": "2023-07-25T19:36:04.640Z"
      },
      {
        "duration": 285,
        "start_time": "2023-07-25T19:36:04.879Z"
      },
      {
        "duration": 317,
        "start_time": "2023-07-25T19:36:05.166Z"
      },
      {
        "duration": 373,
        "start_time": "2023-07-25T19:36:05.485Z"
      },
      {
        "duration": 309,
        "start_time": "2023-07-25T19:36:05.860Z"
      },
      {
        "duration": 298,
        "start_time": "2023-07-25T19:36:06.171Z"
      },
      {
        "duration": 456,
        "start_time": "2023-07-25T19:36:06.471Z"
      },
      {
        "duration": 6,
        "start_time": "2023-07-25T19:36:06.929Z"
      },
      {
        "duration": 215,
        "start_time": "2023-07-25T19:36:06.937Z"
      },
      {
        "duration": 6,
        "start_time": "2023-07-25T19:36:07.154Z"
      },
      {
        "duration": 204,
        "start_time": "2023-07-25T19:36:07.161Z"
      },
      {
        "duration": 6,
        "start_time": "2023-07-25T19:36:07.367Z"
      },
      {
        "duration": 211,
        "start_time": "2023-07-25T19:36:07.374Z"
      },
      {
        "duration": 130,
        "start_time": "2023-07-25T19:36:07.587Z"
      },
      {
        "duration": 566,
        "start_time": "2023-07-25T19:36:07.719Z"
      },
      {
        "duration": 21,
        "start_time": "2023-07-25T19:36:08.287Z"
      },
      {
        "duration": 185,
        "start_time": "2023-07-25T19:36:08.311Z"
      },
      {
        "duration": 9,
        "start_time": "2023-07-25T19:36:08.498Z"
      },
      {
        "duration": 338,
        "start_time": "2023-07-25T19:36:08.509Z"
      },
      {
        "duration": 295,
        "start_time": "2023-07-25T19:36:08.849Z"
      },
      {
        "duration": 725,
        "start_time": "2023-07-25T21:40:19.241Z"
      },
      {
        "duration": 121,
        "start_time": "2023-07-25T21:40:19.969Z"
      },
      {
        "duration": 19,
        "start_time": "2023-07-25T21:40:20.091Z"
      },
      {
        "duration": 2391,
        "start_time": "2023-07-25T21:40:20.112Z"
      },
      {
        "duration": 2073,
        "start_time": "2023-07-25T21:40:22.505Z"
      },
      {
        "duration": 10,
        "start_time": "2023-07-25T21:40:24.580Z"
      },
      {
        "duration": 37,
        "start_time": "2023-07-25T21:40:24.592Z"
      },
      {
        "duration": 57,
        "start_time": "2023-07-25T21:40:24.631Z"
      },
      {
        "duration": 14,
        "start_time": "2023-07-25T21:40:24.690Z"
      },
      {
        "duration": 37,
        "start_time": "2023-07-25T21:40:24.706Z"
      },
      {
        "duration": 29,
        "start_time": "2023-07-25T21:40:24.745Z"
      },
      {
        "duration": 27,
        "start_time": "2023-07-25T21:40:24.776Z"
      },
      {
        "duration": 28,
        "start_time": "2023-07-25T21:40:24.805Z"
      },
      {
        "duration": 12,
        "start_time": "2023-07-25T21:40:24.837Z"
      },
      {
        "duration": 24,
        "start_time": "2023-07-25T21:40:24.851Z"
      },
      {
        "duration": 16,
        "start_time": "2023-07-25T21:40:24.877Z"
      },
      {
        "duration": 34,
        "start_time": "2023-07-25T21:40:24.894Z"
      },
      {
        "duration": 42,
        "start_time": "2023-07-25T21:40:24.930Z"
      },
      {
        "duration": 101,
        "start_time": "2023-07-25T21:40:24.974Z"
      },
      {
        "duration": 19,
        "start_time": "2023-07-25T21:40:25.077Z"
      },
      {
        "duration": 119,
        "start_time": "2023-07-25T21:40:25.098Z"
      },
      {
        "duration": 150,
        "start_time": "2023-07-25T21:40:25.219Z"
      },
      {
        "duration": 124,
        "start_time": "2023-07-25T21:40:25.370Z"
      },
      {
        "duration": 31,
        "start_time": "2023-07-25T21:40:25.496Z"
      },
      {
        "duration": 23,
        "start_time": "2023-07-25T21:40:25.529Z"
      },
      {
        "duration": 14,
        "start_time": "2023-07-25T21:40:25.554Z"
      },
      {
        "duration": 13,
        "start_time": "2023-07-25T21:40:25.570Z"
      },
      {
        "duration": 401,
        "start_time": "2023-07-25T21:40:25.585Z"
      },
      {
        "duration": 3987,
        "start_time": "2023-07-25T21:40:25.989Z"
      },
      {
        "duration": 107,
        "start_time": "2023-07-25T21:40:29.978Z"
      },
      {
        "duration": 587,
        "start_time": "2023-07-25T21:40:30.087Z"
      },
      {
        "duration": 5,
        "start_time": "2023-07-25T21:40:30.675Z"
      },
      {
        "duration": 72,
        "start_time": "2023-07-25T21:40:30.682Z"
      },
      {
        "duration": 5,
        "start_time": "2023-07-25T21:40:30.755Z"
      },
      {
        "duration": 40,
        "start_time": "2023-07-25T21:40:30.762Z"
      },
      {
        "duration": 680,
        "start_time": "2023-07-25T21:40:30.804Z"
      },
      {
        "duration": 11,
        "start_time": "2023-07-25T21:40:31.486Z"
      },
      {
        "duration": 191,
        "start_time": "2023-07-25T21:40:31.553Z"
      },
      {
        "duration": 280,
        "start_time": "2023-07-25T21:40:31.745Z"
      },
      {
        "duration": 298,
        "start_time": "2023-07-25T21:40:32.027Z"
      },
      {
        "duration": 298,
        "start_time": "2023-07-25T21:40:32.331Z"
      },
      {
        "duration": 284,
        "start_time": "2023-07-25T21:40:32.631Z"
      },
      {
        "duration": 183,
        "start_time": "2023-07-25T21:40:32.917Z"
      },
      {
        "duration": 348,
        "start_time": "2023-07-25T21:40:33.102Z"
      },
      {
        "duration": 230,
        "start_time": "2023-07-25T21:40:33.452Z"
      },
      {
        "duration": 144,
        "start_time": "2023-07-25T21:40:33.684Z"
      },
      {
        "duration": 252,
        "start_time": "2023-07-25T21:40:33.830Z"
      },
      {
        "duration": 413,
        "start_time": "2023-07-25T21:40:34.084Z"
      },
      {
        "duration": 599,
        "start_time": "2023-07-25T21:40:34.499Z"
      },
      {
        "duration": 859,
        "start_time": "2023-07-25T21:40:35.100Z"
      },
      {
        "duration": 438,
        "start_time": "2023-07-25T21:40:35.961Z"
      },
      {
        "duration": 253,
        "start_time": "2023-07-25T21:40:36.401Z"
      },
      {
        "duration": 399,
        "start_time": "2023-07-25T21:40:36.655Z"
      },
      {
        "duration": 5,
        "start_time": "2023-07-25T21:40:37.056Z"
      },
      {
        "duration": 208,
        "start_time": "2023-07-25T21:40:37.062Z"
      },
      {
        "duration": 6,
        "start_time": "2023-07-25T21:40:37.271Z"
      },
      {
        "duration": 204,
        "start_time": "2023-07-25T21:40:37.278Z"
      },
      {
        "duration": 7,
        "start_time": "2023-07-25T21:40:37.483Z"
      },
      {
        "duration": 210,
        "start_time": "2023-07-25T21:40:37.492Z"
      },
      {
        "duration": 141,
        "start_time": "2023-07-25T21:40:37.704Z"
      },
      {
        "duration": 685,
        "start_time": "2023-07-25T21:40:37.846Z"
      },
      {
        "duration": 20,
        "start_time": "2023-07-25T21:40:38.533Z"
      },
      {
        "duration": 171,
        "start_time": "2023-07-25T21:40:38.554Z"
      },
      {
        "duration": 9,
        "start_time": "2023-07-25T21:40:38.727Z"
      },
      {
        "duration": 299,
        "start_time": "2023-07-25T21:40:38.737Z"
      },
      {
        "duration": 300,
        "start_time": "2023-07-25T21:40:39.038Z"
      },
      {
        "duration": 690,
        "start_time": "2023-07-25T21:40:57.221Z"
      },
      {
        "duration": 123,
        "start_time": "2023-07-25T21:40:57.913Z"
      },
      {
        "duration": 18,
        "start_time": "2023-07-25T21:40:58.037Z"
      },
      {
        "duration": 2088,
        "start_time": "2023-07-25T21:40:58.056Z"
      },
      {
        "duration": 2142,
        "start_time": "2023-07-25T21:41:00.151Z"
      },
      {
        "duration": 11,
        "start_time": "2023-07-25T21:41:02.294Z"
      },
      {
        "duration": 23,
        "start_time": "2023-07-25T21:41:02.307Z"
      },
      {
        "duration": 20,
        "start_time": "2023-07-25T21:41:02.332Z"
      },
      {
        "duration": 14,
        "start_time": "2023-07-25T21:41:02.354Z"
      },
      {
        "duration": 17,
        "start_time": "2023-07-25T21:41:02.370Z"
      },
      {
        "duration": 21,
        "start_time": "2023-07-25T21:41:02.389Z"
      },
      {
        "duration": 20,
        "start_time": "2023-07-25T21:41:02.412Z"
      },
      {
        "duration": 22,
        "start_time": "2023-07-25T21:41:02.435Z"
      },
      {
        "duration": 41,
        "start_time": "2023-07-25T21:41:02.460Z"
      },
      {
        "duration": 34,
        "start_time": "2023-07-25T21:41:02.503Z"
      },
      {
        "duration": 37,
        "start_time": "2023-07-25T21:41:02.539Z"
      },
      {
        "duration": 41,
        "start_time": "2023-07-25T21:41:02.578Z"
      },
      {
        "duration": 7,
        "start_time": "2023-07-25T21:41:02.620Z"
      },
      {
        "duration": 89,
        "start_time": "2023-07-25T21:41:02.628Z"
      },
      {
        "duration": 19,
        "start_time": "2023-07-25T21:41:02.718Z"
      },
      {
        "duration": 118,
        "start_time": "2023-07-25T21:41:02.739Z"
      },
      {
        "duration": 148,
        "start_time": "2023-07-25T21:41:02.859Z"
      },
      {
        "duration": 121,
        "start_time": "2023-07-25T21:41:03.009Z"
      },
      {
        "duration": 38,
        "start_time": "2023-07-25T21:41:03.132Z"
      },
      {
        "duration": 10,
        "start_time": "2023-07-25T21:41:03.172Z"
      },
      {
        "duration": 13,
        "start_time": "2023-07-25T21:41:03.184Z"
      },
      {
        "duration": 11,
        "start_time": "2023-07-25T21:41:03.199Z"
      },
      {
        "duration": 244,
        "start_time": "2023-07-25T21:41:03.211Z"
      },
      {
        "duration": 2034,
        "start_time": "2023-07-25T21:41:03.456Z"
      },
      {
        "duration": 62,
        "start_time": "2023-07-25T21:41:05.492Z"
      },
      {
        "duration": 268,
        "start_time": "2023-07-25T21:41:05.556Z"
      },
      {
        "duration": 6,
        "start_time": "2023-07-25T21:41:05.826Z"
      },
      {
        "duration": 27,
        "start_time": "2023-07-25T21:41:05.834Z"
      },
      {
        "duration": 24,
        "start_time": "2023-07-25T21:41:05.863Z"
      },
      {
        "duration": 21,
        "start_time": "2023-07-25T21:41:05.889Z"
      },
      {
        "duration": 325,
        "start_time": "2023-07-25T21:41:05.912Z"
      },
      {
        "duration": 18,
        "start_time": "2023-07-25T21:41:06.238Z"
      },
      {
        "duration": 45,
        "start_time": "2023-07-25T21:41:06.258Z"
      },
      {
        "duration": 279,
        "start_time": "2023-07-25T21:41:06.305Z"
      },
      {
        "duration": 282,
        "start_time": "2023-07-25T21:41:06.586Z"
      },
      {
        "duration": 284,
        "start_time": "2023-07-25T21:41:06.873Z"
      },
      {
        "duration": 290,
        "start_time": "2023-07-25T21:41:07.159Z"
      },
      {
        "duration": 183,
        "start_time": "2023-07-25T21:41:07.451Z"
      },
      {
        "duration": 337,
        "start_time": "2023-07-25T21:41:07.635Z"
      },
      {
        "duration": 238,
        "start_time": "2023-07-25T21:41:07.973Z"
      },
      {
        "duration": 192,
        "start_time": "2023-07-25T21:41:08.213Z"
      },
      {
        "duration": 264,
        "start_time": "2023-07-25T21:41:08.407Z"
      },
      {
        "duration": 289,
        "start_time": "2023-07-25T21:41:08.673Z"
      },
      {
        "duration": 294,
        "start_time": "2023-07-25T21:41:08.964Z"
      },
      {
        "duration": 410,
        "start_time": "2023-07-25T21:41:09.259Z"
      },
      {
        "duration": 313,
        "start_time": "2023-07-25T21:41:09.671Z"
      },
      {
        "duration": 278,
        "start_time": "2023-07-25T21:41:09.986Z"
      },
      {
        "duration": 408,
        "start_time": "2023-07-25T21:41:10.266Z"
      },
      {
        "duration": 5,
        "start_time": "2023-07-25T21:41:10.676Z"
      },
      {
        "duration": 210,
        "start_time": "2023-07-25T21:41:10.683Z"
      },
      {
        "duration": 5,
        "start_time": "2023-07-25T21:41:10.895Z"
      },
      {
        "duration": 198,
        "start_time": "2023-07-25T21:41:10.901Z"
      },
      {
        "duration": 7,
        "start_time": "2023-07-25T21:41:11.100Z"
      },
      {
        "duration": 218,
        "start_time": "2023-07-25T21:41:11.110Z"
      },
      {
        "duration": 149,
        "start_time": "2023-07-25T21:41:11.331Z"
      },
      {
        "duration": 626,
        "start_time": "2023-07-25T21:41:11.482Z"
      },
      {
        "duration": 17,
        "start_time": "2023-07-25T21:41:12.110Z"
      },
      {
        "duration": 196,
        "start_time": "2023-07-25T21:41:12.129Z"
      },
      {
        "duration": 12,
        "start_time": "2023-07-25T21:41:12.327Z"
      },
      {
        "duration": 293,
        "start_time": "2023-07-25T21:41:12.353Z"
      },
      {
        "duration": 293,
        "start_time": "2023-07-25T21:41:12.651Z"
      }
    ],
    "kernelspec": {
      "display_name": "Python 3 (ipykernel)",
      "language": "python",
      "name": "python3"
    },
    "language_info": {
      "codemirror_mode": {
        "name": "ipython",
        "version": 3
      },
      "file_extension": ".py",
      "mimetype": "text/x-python",
      "name": "python",
      "nbconvert_exporter": "python",
      "pygments_lexer": "ipython3",
      "version": "3.9.5"
    },
    "toc": {
      "base_numbering": 1,
      "nav_menu": {},
      "number_sections": true,
      "sideBar": true,
      "skip_h1_title": true,
      "title_cell": "Table of Contents",
      "title_sidebar": "Contents",
      "toc_cell": false,
      "toc_position": {
        "height": "calc(100% - 180px)",
        "left": "10px",
        "top": "150px",
        "width": "465.4px"
      },
      "toc_section_display": true,
      "toc_window_display": false
    },
    "colab": {
      "provenance": []
    }
  },
  "nbformat": 4,
  "nbformat_minor": 0
}