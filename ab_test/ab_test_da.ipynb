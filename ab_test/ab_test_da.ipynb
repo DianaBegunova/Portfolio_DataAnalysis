{
  "cells": [
    {
      "cell_type": "markdown",
      "metadata": {
        "id": "BUVJSjszHJPg"
      },
      "source": [
        "# Принятие решений в бизнесе\n",
        "\n",
        "В рамках данного проекта, мы сотрудничаем с отделом маркетинга крупного интернет-магазина с целью увеличения выручки. Совместными усилиями мы подготовили список гипотез, предполагая потенциальные изменения, способные положительно сказаться на эффективности работы платформы.\n",
        "\n",
        "Далее, мы приступили к этапу приоритизации этих гипотез, используя методы ICE и RICE, чтобы выявить те, которые обещают наибольший потенциал для улучшения показателей. Затем, с целью проверки и подтверждения эффективности выбранных изменений, был запущен A/B-тест.\n",
        "\n",
        "В данном контексте, наша цель - анализировать результаты тестирования.\n",
        "\n",
        "Наши исследования будут базироваться на наборах данных, которые включают в себя информацию о:\n",
        "\n",
        "1. гипотезах (9 гипотез с оценкой Reach, Impact, Confidence и Efforts)\n",
        "2. заказах (1197 строк по столбцам с id заказа, id пользователя, датой и стоимостью заказа, а также с распределением по группе А или В)\n",
        "3. пользователях (62 строки с датой, группой и количеством пользователей, входящих в нее)\n",
        "\n",
        "## План работы\n",
        "\n",
        "**Часть 1. Приоритизация гипотез**\n",
        "1. Загрузка данных и ознакомление с ними\n",
        "2. Применение фреймворка ICE для приоритизации гипотез\n",
        "3. Применение фреймворка RICE для приоритизации гипотез\n",
        "4. Сравнение результатов приоритизации по ICE и RICE, объяснение изменений\n",
        "\n",
        "**Часть 2. Анализ A/B-теста**\n",
        "1. Загрузка данных о заказах и посетителях\n",
        "2. Подготовка данных: создание кумулятивных метрик\n",
        "3. Построение графика кумулятивной выручки по группам и анализ\n",
        "4. Построение графика кумулятивного среднего чека по группам и анализ\n",
        "5. Построение графика относительного изменения кумулятивного среднего чека группы B к группе A и анализ\n",
        "6. Построение графика кумулятивного среднего количества заказов на посетителя по группам и анализ\n",
        "7. Построение графика относительного изменения кумулятивного среднего количества заказов на посетителя группы B к группе A и анализ\n",
        "8. Построение точечного графика количества заказов по пользователям и анализ\n",
        "9. Расчет 95-го и 99-го перцентилей количества заказов на пользователя и выбор границы аномалий\n",
        "10. Построение точечного графика стоимостей заказов и анализ\n",
        "11. Расчет 95-го и 99-го перцентилей стоимостей заказов и выбор границы аномалий\n",
        "12. Расчет статистической значимости различий в среднем количестве заказов на посетителя между группами по \"сырым\" данным и анализ\n",
        "13. Расчет статистической значимости различий в среднем чеке заказа между группами по \"сырым\" данным и анализ\n",
        "14. Расчет статистической значимости различий в среднем количестве заказов на посетителя между группами по \"очищенным\" данным и анализ\n",
        "15. Расчет статистической значимости различий в среднем чеке заказа между группами по \"очищенным\" данным и анализ\n",
        "16. Принятие решения по результатам теста\n",
        "\n",
        "На основе этого плана мы приступим к приоритизации гипотез и анализу результатов А/В-теста."
      ]
    },
    {
      "cell_type": "code",
      "execution_count": null,
      "metadata": {
        "id": "vt2HFfmbHJPk"
      },
      "outputs": [],
      "source": [
        "# импортируем библиотеки\n",
        "import pandas as pd\n",
        "import datetime as dt\n",
        "import numpy as np\n",
        "import matplotlib.pyplot as plt\n",
        "import scipy.stats as stats"
      ]
    },
    {
      "cell_type": "code",
      "execution_count": null,
      "metadata": {
        "id": "M4Z2aaYAHJPo"
      },
      "outputs": [],
      "source": [
        "# установим показ всей информации без обрезания\n",
        "pd.set_option('display.max_columns', None)"
      ]
    },
    {
      "cell_type": "markdown",
      "metadata": {
        "id": "M8OMbp2HHJPq"
      },
      "source": [
        "## Приоритизация гипотез."
      ]
    },
    {
      "cell_type": "code",
      "execution_count": null,
      "metadata": {
        "id": "p0va3XreHJPr",
        "outputId": "739cd3f9-a622-41f8-fe29-227d4dc9d9b1"
      },
      "outputs": [
        {
          "name": "stdout",
          "output_type": "stream",
          "text": [
            "<class 'pandas.core.frame.DataFrame'>\n",
            "RangeIndex: 9 entries, 0 to 8\n",
            "Data columns (total 5 columns):\n",
            " #   Column      Non-Null Count  Dtype \n",
            "---  ------      --------------  ----- \n",
            " 0   Hypothesis  9 non-null      object\n",
            " 1   Reach       9 non-null      int64 \n",
            " 2   Impact      9 non-null      int64 \n",
            " 3   Confidence  9 non-null      int64 \n",
            " 4   Efforts     9 non-null      int64 \n",
            "dtypes: int64(4), object(1)\n",
            "memory usage: 488.0+ bytes\n"
          ]
        },
        {
          "data": {
            "text/html": [
              "<div>\n",
              "<style scoped>\n",
              "    .dataframe tbody tr th:only-of-type {\n",
              "        vertical-align: middle;\n",
              "    }\n",
              "\n",
              "    .dataframe tbody tr th {\n",
              "        vertical-align: top;\n",
              "    }\n",
              "\n",
              "    .dataframe thead th {\n",
              "        text-align: right;\n",
              "    }\n",
              "</style>\n",
              "<table border=\"1\" class=\"dataframe\">\n",
              "  <thead>\n",
              "    <tr style=\"text-align: right;\">\n",
              "      <th></th>\n",
              "      <th>Hypothesis</th>\n",
              "      <th>Reach</th>\n",
              "      <th>Impact</th>\n",
              "      <th>Confidence</th>\n",
              "      <th>Efforts</th>\n",
              "    </tr>\n",
              "  </thead>\n",
              "  <tbody>\n",
              "    <tr>\n",
              "      <th>0</th>\n",
              "      <td>Добавить два новых канала привлечения трафика, что позволит привлекать на 30% больше пользователей</td>\n",
              "      <td>3</td>\n",
              "      <td>10</td>\n",
              "      <td>8</td>\n",
              "      <td>6</td>\n",
              "    </tr>\n",
              "    <tr>\n",
              "      <th>1</th>\n",
              "      <td>Запустить собственную службу доставки, что сократит срок доставки заказов</td>\n",
              "      <td>2</td>\n",
              "      <td>5</td>\n",
              "      <td>4</td>\n",
              "      <td>10</td>\n",
              "    </tr>\n",
              "    <tr>\n",
              "      <th>2</th>\n",
              "      <td>Добавить блоки рекомендаций товаров на сайт интернет магазина, чтобы повысить конверсию и средний чек заказа</td>\n",
              "      <td>8</td>\n",
              "      <td>3</td>\n",
              "      <td>7</td>\n",
              "      <td>3</td>\n",
              "    </tr>\n",
              "    <tr>\n",
              "      <th>3</th>\n",
              "      <td>Изменить структура категорий, что увеличит конверсию, т.к. пользователи быстрее найдут нужный товар</td>\n",
              "      <td>8</td>\n",
              "      <td>3</td>\n",
              "      <td>3</td>\n",
              "      <td>8</td>\n",
              "    </tr>\n",
              "    <tr>\n",
              "      <th>4</th>\n",
              "      <td>Изменить цвет фона главной страницы, чтобы увеличить вовлеченность пользователей</td>\n",
              "      <td>3</td>\n",
              "      <td>1</td>\n",
              "      <td>1</td>\n",
              "      <td>1</td>\n",
              "    </tr>\n",
              "    <tr>\n",
              "      <th>5</th>\n",
              "      <td>Добавить страницу отзывов клиентов о магазине, что позволит увеличить количество заказов</td>\n",
              "      <td>3</td>\n",
              "      <td>2</td>\n",
              "      <td>2</td>\n",
              "      <td>3</td>\n",
              "    </tr>\n",
              "    <tr>\n",
              "      <th>6</th>\n",
              "      <td>Показать на главной странице баннеры с актуальными акциями и распродажами, чтобы увеличить конверсию</td>\n",
              "      <td>5</td>\n",
              "      <td>3</td>\n",
              "      <td>8</td>\n",
              "      <td>3</td>\n",
              "    </tr>\n",
              "    <tr>\n",
              "      <th>7</th>\n",
              "      <td>Добавить форму подписки на все основные страницы, чтобы собрать базу клиентов для email-рассылок</td>\n",
              "      <td>10</td>\n",
              "      <td>7</td>\n",
              "      <td>8</td>\n",
              "      <td>5</td>\n",
              "    </tr>\n",
              "    <tr>\n",
              "      <th>8</th>\n",
              "      <td>Запустить акцию, дающую скидку на товар в день рождения</td>\n",
              "      <td>1</td>\n",
              "      <td>9</td>\n",
              "      <td>9</td>\n",
              "      <td>5</td>\n",
              "    </tr>\n",
              "  </tbody>\n",
              "</table>\n",
              "</div>"
            ],
            "text/plain": [
              "                                                                                                     Hypothesis  \\\n",
              "0            Добавить два новых канала привлечения трафика, что позволит привлекать на 30% больше пользователей   \n",
              "1                                     Запустить собственную службу доставки, что сократит срок доставки заказов   \n",
              "2  Добавить блоки рекомендаций товаров на сайт интернет магазина, чтобы повысить конверсию и средний чек заказа   \n",
              "3           Изменить структура категорий, что увеличит конверсию, т.к. пользователи быстрее найдут нужный товар   \n",
              "4                              Изменить цвет фона главной страницы, чтобы увеличить вовлеченность пользователей   \n",
              "5                      Добавить страницу отзывов клиентов о магазине, что позволит увеличить количество заказов   \n",
              "6          Показать на главной странице баннеры с актуальными акциями и распродажами, чтобы увеличить конверсию   \n",
              "7              Добавить форму подписки на все основные страницы, чтобы собрать базу клиентов для email-рассылок   \n",
              "8                                                       Запустить акцию, дающую скидку на товар в день рождения   \n",
              "\n",
              "   Reach  Impact  Confidence  Efforts  \n",
              "0      3      10           8        6  \n",
              "1      2       5           4       10  \n",
              "2      8       3           7        3  \n",
              "3      8       3           3        8  \n",
              "4      3       1           1        1  \n",
              "5      3       2           2        3  \n",
              "6      5       3           8        3  \n",
              "7     10       7           8        5  \n",
              "8      1       9           9        5  "
            ]
          },
          "execution_count": 3,
          "metadata": {},
          "output_type": "execute_result"
        }
      ],
      "source": [
        "pd.set_option(\"max_colwidth\", 999)\n",
        "hyp_data = pd.read_csv('/datasets/hypothesis.csv')\n",
        "hyp_data.info()\n",
        "hyp_data"
      ]
    },
    {
      "cell_type": "markdown",
      "metadata": {
        "id": "FO4gYQXzHJPu"
      },
      "source": [
        "Визуальная проверка показала, что пропусков, аномалий в данных первого датасета нет."
      ]
    },
    {
      "cell_type": "code",
      "execution_count": null,
      "metadata": {
        "id": "_Ap8HncJHJPv",
        "outputId": "f379dbd3-899a-42e4-dcb6-65c706181390"
      },
      "outputs": [
        {
          "data": {
            "text/plain": [
              "8    16.200\n",
              "0    13.333\n",
              "7    11.200\n",
              "6     8.000\n",
              "2     7.000\n",
              "1     2.000\n",
              "5     1.333\n",
              "3     1.125\n",
              "4     1.000\n",
              "Name: ICE, dtype: float64"
            ]
          },
          "execution_count": 4,
          "metadata": {},
          "output_type": "execute_result"
        }
      ],
      "source": [
        "# приоритезируем гипотезы методом ICE\n",
        "hyp_data['ICE'] = hyp_data['Impact'] * hyp_data['Confidence'] / hyp_data['Efforts']\n",
        "hyp_data['ICE'] = hyp_data['ICE'].round(3)\n",
        "hyp_data['ICE'].sort_values(ascending=False)"
      ]
    },
    {
      "cell_type": "code",
      "execution_count": null,
      "metadata": {
        "id": "Yay-YiGtHJPx",
        "outputId": "fa059dae-ef4e-485b-dea6-90b6b66ae030"
      },
      "outputs": [
        {
          "data": {
            "text/plain": [
              "7    112.0\n",
              "2     56.0\n",
              "0     40.0\n",
              "6     40.0\n",
              "8     16.2\n",
              "3      9.0\n",
              "1      4.0\n",
              "5      4.0\n",
              "4      3.0\n",
              "Name: RICE, dtype: float64"
            ]
          },
          "execution_count": 5,
          "metadata": {},
          "output_type": "execute_result"
        }
      ],
      "source": [
        "# приоритезируем гипотезы методом RICE\n",
        "hyp_data['RICE'] = hyp_data['Reach'] * hyp_data['Impact'] * hyp_data['Confidence'] / hyp_data['Efforts']\n",
        "hyp_data['RICE'].sort_values(ascending=False)"
      ]
    },
    {
      "cell_type": "code",
      "execution_count": null,
      "metadata": {
        "id": "54SXgpdHHJPy",
        "outputId": "73140606-7f5f-4450-829b-94338d4b92b6"
      },
      "outputs": [
        {
          "data": {
            "text/html": [
              "<div>\n",
              "<style scoped>\n",
              "    .dataframe tbody tr th:only-of-type {\n",
              "        vertical-align: middle;\n",
              "    }\n",
              "\n",
              "    .dataframe tbody tr th {\n",
              "        vertical-align: top;\n",
              "    }\n",
              "\n",
              "    .dataframe thead th {\n",
              "        text-align: right;\n",
              "    }\n",
              "</style>\n",
              "<table border=\"1\" class=\"dataframe\">\n",
              "  <thead>\n",
              "    <tr style=\"text-align: right;\">\n",
              "      <th></th>\n",
              "      <th>Hypothesis</th>\n",
              "      <th>Reach</th>\n",
              "      <th>Impact</th>\n",
              "      <th>Confidence</th>\n",
              "      <th>Efforts</th>\n",
              "      <th>ICE</th>\n",
              "      <th>RICE</th>\n",
              "    </tr>\n",
              "  </thead>\n",
              "  <tbody>\n",
              "    <tr>\n",
              "      <th>0</th>\n",
              "      <td>Добавить два новых канала привлечения трафика, что позволит привлекать на 30% больше пользователей</td>\n",
              "      <td>3</td>\n",
              "      <td>10</td>\n",
              "      <td>8</td>\n",
              "      <td>6</td>\n",
              "      <td>13.333</td>\n",
              "      <td>40.0</td>\n",
              "    </tr>\n",
              "    <tr>\n",
              "      <th>1</th>\n",
              "      <td>Запустить собственную службу доставки, что сократит срок доставки заказов</td>\n",
              "      <td>2</td>\n",
              "      <td>5</td>\n",
              "      <td>4</td>\n",
              "      <td>10</td>\n",
              "      <td>2.000</td>\n",
              "      <td>4.0</td>\n",
              "    </tr>\n",
              "    <tr>\n",
              "      <th>2</th>\n",
              "      <td>Добавить блоки рекомендаций товаров на сайт интернет магазина, чтобы повысить конверсию и средний чек заказа</td>\n",
              "      <td>8</td>\n",
              "      <td>3</td>\n",
              "      <td>7</td>\n",
              "      <td>3</td>\n",
              "      <td>7.000</td>\n",
              "      <td>56.0</td>\n",
              "    </tr>\n",
              "    <tr>\n",
              "      <th>3</th>\n",
              "      <td>Изменить структура категорий, что увеличит конверсию, т.к. пользователи быстрее найдут нужный товар</td>\n",
              "      <td>8</td>\n",
              "      <td>3</td>\n",
              "      <td>3</td>\n",
              "      <td>8</td>\n",
              "      <td>1.125</td>\n",
              "      <td>9.0</td>\n",
              "    </tr>\n",
              "    <tr>\n",
              "      <th>4</th>\n",
              "      <td>Изменить цвет фона главной страницы, чтобы увеличить вовлеченность пользователей</td>\n",
              "      <td>3</td>\n",
              "      <td>1</td>\n",
              "      <td>1</td>\n",
              "      <td>1</td>\n",
              "      <td>1.000</td>\n",
              "      <td>3.0</td>\n",
              "    </tr>\n",
              "    <tr>\n",
              "      <th>5</th>\n",
              "      <td>Добавить страницу отзывов клиентов о магазине, что позволит увеличить количество заказов</td>\n",
              "      <td>3</td>\n",
              "      <td>2</td>\n",
              "      <td>2</td>\n",
              "      <td>3</td>\n",
              "      <td>1.333</td>\n",
              "      <td>4.0</td>\n",
              "    </tr>\n",
              "    <tr>\n",
              "      <th>6</th>\n",
              "      <td>Показать на главной странице баннеры с актуальными акциями и распродажами, чтобы увеличить конверсию</td>\n",
              "      <td>5</td>\n",
              "      <td>3</td>\n",
              "      <td>8</td>\n",
              "      <td>3</td>\n",
              "      <td>8.000</td>\n",
              "      <td>40.0</td>\n",
              "    </tr>\n",
              "    <tr>\n",
              "      <th>7</th>\n",
              "      <td>Добавить форму подписки на все основные страницы, чтобы собрать базу клиентов для email-рассылок</td>\n",
              "      <td>10</td>\n",
              "      <td>7</td>\n",
              "      <td>8</td>\n",
              "      <td>5</td>\n",
              "      <td>11.200</td>\n",
              "      <td>112.0</td>\n",
              "    </tr>\n",
              "    <tr>\n",
              "      <th>8</th>\n",
              "      <td>Запустить акцию, дающую скидку на товар в день рождения</td>\n",
              "      <td>1</td>\n",
              "      <td>9</td>\n",
              "      <td>9</td>\n",
              "      <td>5</td>\n",
              "      <td>16.200</td>\n",
              "      <td>16.2</td>\n",
              "    </tr>\n",
              "  </tbody>\n",
              "</table>\n",
              "</div>"
            ],
            "text/plain": [
              "                                                                                                     Hypothesis  \\\n",
              "0            Добавить два новых канала привлечения трафика, что позволит привлекать на 30% больше пользователей   \n",
              "1                                     Запустить собственную службу доставки, что сократит срок доставки заказов   \n",
              "2  Добавить блоки рекомендаций товаров на сайт интернет магазина, чтобы повысить конверсию и средний чек заказа   \n",
              "3           Изменить структура категорий, что увеличит конверсию, т.к. пользователи быстрее найдут нужный товар   \n",
              "4                              Изменить цвет фона главной страницы, чтобы увеличить вовлеченность пользователей   \n",
              "5                      Добавить страницу отзывов клиентов о магазине, что позволит увеличить количество заказов   \n",
              "6          Показать на главной странице баннеры с актуальными акциями и распродажами, чтобы увеличить конверсию   \n",
              "7              Добавить форму подписки на все основные страницы, чтобы собрать базу клиентов для email-рассылок   \n",
              "8                                                       Запустить акцию, дающую скидку на товар в день рождения   \n",
              "\n",
              "   Reach  Impact  Confidence  Efforts     ICE   RICE  \n",
              "0      3      10           8        6  13.333   40.0  \n",
              "1      2       5           4       10   2.000    4.0  \n",
              "2      8       3           7        3   7.000   56.0  \n",
              "3      8       3           3        8   1.125    9.0  \n",
              "4      3       1           1        1   1.000    3.0  \n",
              "5      3       2           2        3   1.333    4.0  \n",
              "6      5       3           8        3   8.000   40.0  \n",
              "7     10       7           8        5  11.200  112.0  \n",
              "8      1       9           9        5  16.200   16.2  "
            ]
          },
          "execution_count": 6,
          "metadata": {},
          "output_type": "execute_result"
        }
      ],
      "source": [
        "hyp_data"
      ]
    },
    {
      "cell_type": "markdown",
      "metadata": {
        "id": "QITrsy90HJPz"
      },
      "source": [
        "Изменение в приоритизации гипотез произошло из-за того, что методы ICE и RICE учитывают разные аспекты при оценке приоритетности гипотез.\n",
        "\n",
        "Метод ICE оценивает гипотезы на основе трех параметров: Impact (влияние), Confidence (уверенность) и Effort (усилия). Оценка ICE вычисляется по формуле:\n",
        "\n",
        "ICE = Impact×Confidence / Efforts\n",
        "\n",
        "Гипотезы с высокими оценками ICE считаются более приоритетными. В данном случае, **гипотезы с индексами 8, 0 и 7 имеют самые высокие оценки ICE**, что означает, что они имеют большое влияние, высокую уверенность и/или малые усилия.\n",
        "\n",
        "Метод RICE, в отличие от ICE, также учитывает Reach (охват), то есть, скольких пользователей затронет изменение. Формула RICE выглядит так: RICE = Reach×Impact×Confidence / Efforts\n",
        "\n",
        "Из-за добавления параметра Reach, гипотезы с высоким охватом получают более высокие оценки RICE. В данном случае, **гипотеза с индексом 7 имеет самую высокую оценку RICE**, так как она имеет большой охват пользователей.\n",
        "\n",
        "Таким образом, приоритизация гипотез изменяется в зависимости от того, какие аспекты важны для проекта в данный момент: если важен охват пользователей, то RICE может быть более информативным, а если более важны уверенность и влияние, то ICE может быть предпочтительнее."
      ]
    },
    {
      "cell_type": "markdown",
      "metadata": {
        "id": "Jvk43V6EHJP0"
      },
      "source": [
        "## Анализ A/B-теста"
      ]
    },
    {
      "cell_type": "markdown",
      "metadata": {
        "id": "nL6Y7nOOHJP0"
      },
      "source": [
        "Был проведен A/B-тест и получены результаты, которые описаны в файлах /datasets/orders.csv и /datasets/visitors.csv."
      ]
    },
    {
      "cell_type": "code",
      "execution_count": null,
      "metadata": {
        "id": "Ln-nDYpNHJP1",
        "outputId": "23f0f712-06bc-4fb4-c6bf-120d19e1ba10"
      },
      "outputs": [
        {
          "name": "stdout",
          "output_type": "stream",
          "text": [
            "<class 'pandas.core.frame.DataFrame'>\n",
            "RangeIndex: 1197 entries, 0 to 1196\n",
            "Data columns (total 5 columns):\n",
            " #   Column         Non-Null Count  Dtype \n",
            "---  ------         --------------  ----- \n",
            " 0   transactionId  1197 non-null   int64 \n",
            " 1   visitorId      1197 non-null   int64 \n",
            " 2   date           1197 non-null   object\n",
            " 3   revenue        1197 non-null   int64 \n",
            " 4   group          1197 non-null   object\n",
            "dtypes: int64(3), object(2)\n",
            "memory usage: 46.9+ KB\n"
          ]
        },
        {
          "data": {
            "text/html": [
              "<div>\n",
              "<style scoped>\n",
              "    .dataframe tbody tr th:only-of-type {\n",
              "        vertical-align: middle;\n",
              "    }\n",
              "\n",
              "    .dataframe tbody tr th {\n",
              "        vertical-align: top;\n",
              "    }\n",
              "\n",
              "    .dataframe thead th {\n",
              "        text-align: right;\n",
              "    }\n",
              "</style>\n",
              "<table border=\"1\" class=\"dataframe\">\n",
              "  <thead>\n",
              "    <tr style=\"text-align: right;\">\n",
              "      <th></th>\n",
              "      <th>transactionId</th>\n",
              "      <th>visitorId</th>\n",
              "      <th>date</th>\n",
              "      <th>revenue</th>\n",
              "      <th>group</th>\n",
              "    </tr>\n",
              "  </thead>\n",
              "  <tbody>\n",
              "    <tr>\n",
              "      <th>0</th>\n",
              "      <td>3667963787</td>\n",
              "      <td>3312258926</td>\n",
              "      <td>2019-08-15</td>\n",
              "      <td>1650</td>\n",
              "      <td>B</td>\n",
              "    </tr>\n",
              "    <tr>\n",
              "      <th>1</th>\n",
              "      <td>2804400009</td>\n",
              "      <td>3642806036</td>\n",
              "      <td>2019-08-15</td>\n",
              "      <td>730</td>\n",
              "      <td>B</td>\n",
              "    </tr>\n",
              "    <tr>\n",
              "      <th>2</th>\n",
              "      <td>2961555356</td>\n",
              "      <td>4069496402</td>\n",
              "      <td>2019-08-15</td>\n",
              "      <td>400</td>\n",
              "      <td>A</td>\n",
              "    </tr>\n",
              "    <tr>\n",
              "      <th>3</th>\n",
              "      <td>3797467345</td>\n",
              "      <td>1196621759</td>\n",
              "      <td>2019-08-15</td>\n",
              "      <td>9759</td>\n",
              "      <td>B</td>\n",
              "    </tr>\n",
              "    <tr>\n",
              "      <th>4</th>\n",
              "      <td>2282983706</td>\n",
              "      <td>2322279887</td>\n",
              "      <td>2019-08-15</td>\n",
              "      <td>2308</td>\n",
              "      <td>B</td>\n",
              "    </tr>\n",
              "    <tr>\n",
              "      <th>5</th>\n",
              "      <td>182168103</td>\n",
              "      <td>935554773</td>\n",
              "      <td>2019-08-15</td>\n",
              "      <td>2210</td>\n",
              "      <td>B</td>\n",
              "    </tr>\n",
              "    <tr>\n",
              "      <th>6</th>\n",
              "      <td>398296753</td>\n",
              "      <td>2900797465</td>\n",
              "      <td>2019-08-15</td>\n",
              "      <td>1860</td>\n",
              "      <td>B</td>\n",
              "    </tr>\n",
              "    <tr>\n",
              "      <th>7</th>\n",
              "      <td>2626614568</td>\n",
              "      <td>78758296</td>\n",
              "      <td>2019-08-15</td>\n",
              "      <td>1044</td>\n",
              "      <td>A</td>\n",
              "    </tr>\n",
              "    <tr>\n",
              "      <th>8</th>\n",
              "      <td>1576988021</td>\n",
              "      <td>295230930</td>\n",
              "      <td>2019-08-15</td>\n",
              "      <td>13710</td>\n",
              "      <td>A</td>\n",
              "    </tr>\n",
              "    <tr>\n",
              "      <th>9</th>\n",
              "      <td>1506739906</td>\n",
              "      <td>1882260405</td>\n",
              "      <td>2019-08-15</td>\n",
              "      <td>1855</td>\n",
              "      <td>B</td>\n",
              "    </tr>\n",
              "  </tbody>\n",
              "</table>\n",
              "</div>"
            ],
            "text/plain": [
              "   transactionId   visitorId        date  revenue group\n",
              "0     3667963787  3312258926  2019-08-15     1650     B\n",
              "1     2804400009  3642806036  2019-08-15      730     B\n",
              "2     2961555356  4069496402  2019-08-15      400     A\n",
              "3     3797467345  1196621759  2019-08-15     9759     B\n",
              "4     2282983706  2322279887  2019-08-15     2308     B\n",
              "5      182168103   935554773  2019-08-15     2210     B\n",
              "6      398296753  2900797465  2019-08-15     1860     B\n",
              "7     2626614568    78758296  2019-08-15     1044     A\n",
              "8     1576988021   295230930  2019-08-15    13710     A\n",
              "9     1506739906  1882260405  2019-08-15     1855     B"
            ]
          },
          "execution_count": 7,
          "metadata": {},
          "output_type": "execute_result"
        }
      ],
      "source": [
        "orders = pd.read_csv('/datasets/orders.csv')\n",
        "orders.info()\n",
        "orders.head(10)"
      ]
    },
    {
      "cell_type": "code",
      "execution_count": null,
      "metadata": {
        "id": "4wva_HwRHJP1"
      },
      "outputs": [],
      "source": [
        "# приведем названия столбцов к корректному варианту\n",
        "orders = orders.rename(columns={'transactionId': 'transaction_id', 'visitorId': 'visitor_id'})"
      ]
    },
    {
      "cell_type": "code",
      "execution_count": null,
      "metadata": {
        "id": "BZuAVFwWHJP2",
        "outputId": "5ae9b6a5-3076-4f2a-9870-e5728a34e595"
      },
      "outputs": [
        {
          "data": {
            "text/html": [
              "<div>\n",
              "<style scoped>\n",
              "    .dataframe tbody tr th:only-of-type {\n",
              "        vertical-align: middle;\n",
              "    }\n",
              "\n",
              "    .dataframe tbody tr th {\n",
              "        vertical-align: top;\n",
              "    }\n",
              "\n",
              "    .dataframe thead th {\n",
              "        text-align: right;\n",
              "    }\n",
              "</style>\n",
              "<table border=\"1\" class=\"dataframe\">\n",
              "  <thead>\n",
              "    <tr style=\"text-align: right;\">\n",
              "      <th></th>\n",
              "      <th>transaction_id</th>\n",
              "      <th>visitor_id</th>\n",
              "      <th>revenue</th>\n",
              "    </tr>\n",
              "  </thead>\n",
              "  <tbody>\n",
              "    <tr>\n",
              "      <th>count</th>\n",
              "      <td>1.197000e+03</td>\n",
              "      <td>1.197000e+03</td>\n",
              "      <td>1.197000e+03</td>\n",
              "    </tr>\n",
              "    <tr>\n",
              "      <th>mean</th>\n",
              "      <td>2.155621e+09</td>\n",
              "      <td>2.165960e+09</td>\n",
              "      <td>8.348006e+03</td>\n",
              "    </tr>\n",
              "    <tr>\n",
              "      <th>std</th>\n",
              "      <td>1.229085e+09</td>\n",
              "      <td>1.236014e+09</td>\n",
              "      <td>3.919113e+04</td>\n",
              "    </tr>\n",
              "    <tr>\n",
              "      <th>min</th>\n",
              "      <td>1.062393e+06</td>\n",
              "      <td>5.114589e+06</td>\n",
              "      <td>5.000000e+01</td>\n",
              "    </tr>\n",
              "    <tr>\n",
              "      <th>25%</th>\n",
              "      <td>1.166776e+09</td>\n",
              "      <td>1.111826e+09</td>\n",
              "      <td>1.220000e+03</td>\n",
              "    </tr>\n",
              "    <tr>\n",
              "      <th>50%</th>\n",
              "      <td>2.145194e+09</td>\n",
              "      <td>2.217985e+09</td>\n",
              "      <td>2.978000e+03</td>\n",
              "    </tr>\n",
              "    <tr>\n",
              "      <th>75%</th>\n",
              "      <td>3.237740e+09</td>\n",
              "      <td>3.177606e+09</td>\n",
              "      <td>8.290000e+03</td>\n",
              "    </tr>\n",
              "    <tr>\n",
              "      <th>max</th>\n",
              "      <td>4.293856e+09</td>\n",
              "      <td>4.283872e+09</td>\n",
              "      <td>1.294500e+06</td>\n",
              "    </tr>\n",
              "  </tbody>\n",
              "</table>\n",
              "</div>"
            ],
            "text/plain": [
              "       transaction_id    visitor_id       revenue\n",
              "count    1.197000e+03  1.197000e+03  1.197000e+03\n",
              "mean     2.155621e+09  2.165960e+09  8.348006e+03\n",
              "std      1.229085e+09  1.236014e+09  3.919113e+04\n",
              "min      1.062393e+06  5.114589e+06  5.000000e+01\n",
              "25%      1.166776e+09  1.111826e+09  1.220000e+03\n",
              "50%      2.145194e+09  2.217985e+09  2.978000e+03\n",
              "75%      3.237740e+09  3.177606e+09  8.290000e+03\n",
              "max      4.293856e+09  4.283872e+09  1.294500e+06"
            ]
          },
          "execution_count": 9,
          "metadata": {},
          "output_type": "execute_result"
        }
      ],
      "source": [
        "orders.describe()"
      ]
    },
    {
      "cell_type": "code",
      "execution_count": null,
      "metadata": {
        "id": "RFSE1Qb2HJP3",
        "outputId": "bf16bfae-6809-4a79-b173-c767484e8a75"
      },
      "outputs": [
        {
          "data": {
            "text/plain": [
              "0"
            ]
          },
          "execution_count": 10,
          "metadata": {},
          "output_type": "execute_result"
        }
      ],
      "source": [
        "# проверим на явные дубликаты\n",
        "orders.duplicated().sum()"
      ]
    },
    {
      "cell_type": "code",
      "execution_count": null,
      "metadata": {
        "id": "3ENf8xyOHJP4",
        "outputId": "bfd7f045-b75b-43ce-bd24-d28ccdd541dc"
      },
      "outputs": [
        {
          "data": {
            "text/plain": [
              "transaction_id    0\n",
              "visitor_id        0\n",
              "date              0\n",
              "revenue           0\n",
              "group             0\n",
              "dtype: int64"
            ]
          },
          "execution_count": 11,
          "metadata": {},
          "output_type": "execute_result"
        }
      ],
      "source": [
        "# проверим на пропуски\n",
        "orders.isna().sum()"
      ]
    },
    {
      "cell_type": "code",
      "execution_count": null,
      "metadata": {
        "id": "qIds807gHJP5",
        "outputId": "e58660d8-695e-4146-dbc5-1e6f0b6a7785"
      },
      "outputs": [
        {
          "name": "stdout",
          "output_type": "stream",
          "text": [
            "<class 'pandas.core.frame.DataFrame'>\n",
            "RangeIndex: 62 entries, 0 to 61\n",
            "Data columns (total 3 columns):\n",
            " #   Column    Non-Null Count  Dtype \n",
            "---  ------    --------------  ----- \n",
            " 0   date      62 non-null     object\n",
            " 1   group     62 non-null     object\n",
            " 2   visitors  62 non-null     int64 \n",
            "dtypes: int64(1), object(2)\n",
            "memory usage: 1.6+ KB\n"
          ]
        },
        {
          "data": {
            "text/html": [
              "<div>\n",
              "<style scoped>\n",
              "    .dataframe tbody tr th:only-of-type {\n",
              "        vertical-align: middle;\n",
              "    }\n",
              "\n",
              "    .dataframe tbody tr th {\n",
              "        vertical-align: top;\n",
              "    }\n",
              "\n",
              "    .dataframe thead th {\n",
              "        text-align: right;\n",
              "    }\n",
              "</style>\n",
              "<table border=\"1\" class=\"dataframe\">\n",
              "  <thead>\n",
              "    <tr style=\"text-align: right;\">\n",
              "      <th></th>\n",
              "      <th>date</th>\n",
              "      <th>group</th>\n",
              "      <th>visitors</th>\n",
              "    </tr>\n",
              "  </thead>\n",
              "  <tbody>\n",
              "    <tr>\n",
              "      <th>0</th>\n",
              "      <td>2019-08-01</td>\n",
              "      <td>A</td>\n",
              "      <td>719</td>\n",
              "    </tr>\n",
              "    <tr>\n",
              "      <th>1</th>\n",
              "      <td>2019-08-02</td>\n",
              "      <td>A</td>\n",
              "      <td>619</td>\n",
              "    </tr>\n",
              "    <tr>\n",
              "      <th>2</th>\n",
              "      <td>2019-08-03</td>\n",
              "      <td>A</td>\n",
              "      <td>507</td>\n",
              "    </tr>\n",
              "    <tr>\n",
              "      <th>3</th>\n",
              "      <td>2019-08-04</td>\n",
              "      <td>A</td>\n",
              "      <td>717</td>\n",
              "    </tr>\n",
              "    <tr>\n",
              "      <th>4</th>\n",
              "      <td>2019-08-05</td>\n",
              "      <td>A</td>\n",
              "      <td>756</td>\n",
              "    </tr>\n",
              "    <tr>\n",
              "      <th>5</th>\n",
              "      <td>2019-08-06</td>\n",
              "      <td>A</td>\n",
              "      <td>667</td>\n",
              "    </tr>\n",
              "    <tr>\n",
              "      <th>6</th>\n",
              "      <td>2019-08-07</td>\n",
              "      <td>A</td>\n",
              "      <td>644</td>\n",
              "    </tr>\n",
              "    <tr>\n",
              "      <th>7</th>\n",
              "      <td>2019-08-08</td>\n",
              "      <td>A</td>\n",
              "      <td>610</td>\n",
              "    </tr>\n",
              "    <tr>\n",
              "      <th>8</th>\n",
              "      <td>2019-08-09</td>\n",
              "      <td>A</td>\n",
              "      <td>617</td>\n",
              "    </tr>\n",
              "    <tr>\n",
              "      <th>9</th>\n",
              "      <td>2019-08-10</td>\n",
              "      <td>A</td>\n",
              "      <td>406</td>\n",
              "    </tr>\n",
              "  </tbody>\n",
              "</table>\n",
              "</div>"
            ],
            "text/plain": [
              "         date group  visitors\n",
              "0  2019-08-01     A       719\n",
              "1  2019-08-02     A       619\n",
              "2  2019-08-03     A       507\n",
              "3  2019-08-04     A       717\n",
              "4  2019-08-05     A       756\n",
              "5  2019-08-06     A       667\n",
              "6  2019-08-07     A       644\n",
              "7  2019-08-08     A       610\n",
              "8  2019-08-09     A       617\n",
              "9  2019-08-10     A       406"
            ]
          },
          "execution_count": 12,
          "metadata": {},
          "output_type": "execute_result"
        }
      ],
      "source": [
        "visitors = pd.read_csv('/datasets/visitors.csv')\n",
        "visitors.info()\n",
        "visitors.head(10)"
      ]
    },
    {
      "cell_type": "code",
      "execution_count": null,
      "metadata": {
        "id": "gzyqkOqKHJP6",
        "outputId": "53065601-12ff-4cd9-b24c-8d73b0d138b9"
      },
      "outputs": [
        {
          "data": {
            "text/html": [
              "<div>\n",
              "<style scoped>\n",
              "    .dataframe tbody tr th:only-of-type {\n",
              "        vertical-align: middle;\n",
              "    }\n",
              "\n",
              "    .dataframe tbody tr th {\n",
              "        vertical-align: top;\n",
              "    }\n",
              "\n",
              "    .dataframe thead th {\n",
              "        text-align: right;\n",
              "    }\n",
              "</style>\n",
              "<table border=\"1\" class=\"dataframe\">\n",
              "  <thead>\n",
              "    <tr style=\"text-align: right;\">\n",
              "      <th></th>\n",
              "      <th>visitors</th>\n",
              "    </tr>\n",
              "  </thead>\n",
              "  <tbody>\n",
              "    <tr>\n",
              "      <th>count</th>\n",
              "      <td>62.000000</td>\n",
              "    </tr>\n",
              "    <tr>\n",
              "      <th>mean</th>\n",
              "      <td>607.290323</td>\n",
              "    </tr>\n",
              "    <tr>\n",
              "      <th>std</th>\n",
              "      <td>114.400560</td>\n",
              "    </tr>\n",
              "    <tr>\n",
              "      <th>min</th>\n",
              "      <td>361.000000</td>\n",
              "    </tr>\n",
              "    <tr>\n",
              "      <th>25%</th>\n",
              "      <td>534.000000</td>\n",
              "    </tr>\n",
              "    <tr>\n",
              "      <th>50%</th>\n",
              "      <td>624.500000</td>\n",
              "    </tr>\n",
              "    <tr>\n",
              "      <th>75%</th>\n",
              "      <td>710.500000</td>\n",
              "    </tr>\n",
              "    <tr>\n",
              "      <th>max</th>\n",
              "      <td>770.000000</td>\n",
              "    </tr>\n",
              "  </tbody>\n",
              "</table>\n",
              "</div>"
            ],
            "text/plain": [
              "         visitors\n",
              "count   62.000000\n",
              "mean   607.290323\n",
              "std    114.400560\n",
              "min    361.000000\n",
              "25%    534.000000\n",
              "50%    624.500000\n",
              "75%    710.500000\n",
              "max    770.000000"
            ]
          },
          "execution_count": 13,
          "metadata": {},
          "output_type": "execute_result"
        }
      ],
      "source": [
        "visitors.describe()"
      ]
    },
    {
      "cell_type": "code",
      "execution_count": null,
      "metadata": {
        "id": "eyB4lPMKHJP7",
        "outputId": "98ea8198-0172-4c39-b4a3-36a664c57b0f"
      },
      "outputs": [
        {
          "data": {
            "text/plain": [
              "0"
            ]
          },
          "execution_count": 14,
          "metadata": {},
          "output_type": "execute_result"
        }
      ],
      "source": [
        "# проверим на явные дубликаты\n",
        "visitors.duplicated().sum()"
      ]
    },
    {
      "cell_type": "code",
      "execution_count": null,
      "metadata": {
        "id": "f1O_ASKMHJP8",
        "outputId": "61c155fc-13ab-4578-e265-769c527e547a"
      },
      "outputs": [
        {
          "data": {
            "text/plain": [
              "date        0\n",
              "group       0\n",
              "visitors    0\n",
              "dtype: int64"
            ]
          },
          "execution_count": 15,
          "metadata": {},
          "output_type": "execute_result"
        }
      ],
      "source": [
        "# проверим на пропуски\n",
        "visitors.isna().sum()"
      ]
    },
    {
      "cell_type": "code",
      "execution_count": null,
      "metadata": {
        "id": "1xgbffWiHJP8"
      },
      "outputs": [],
      "source": [
        "# преобразуем данные по времени\n",
        "visitors['date'] = visitors['date'].map(\n",
        "    lambda x: dt.datetime.strptime(x, '%Y-%m-%d')\n",
        ")\n",
        "\n",
        "orders['date'] = orders['date'].map(\n",
        "    lambda x: dt.datetime.strptime(x, '%Y-%m-%d')\n",
        ")"
      ]
    },
    {
      "cell_type": "markdown",
      "metadata": {
        "id": "7aY35CgUHJP-"
      },
      "source": [
        "В файле по заказам (`orders`) 1197 строк, пропуски и дубликаты отсутствуют. В файле `visitors` с информацией по участникам теста 62 строки, также отсутствуют пропуски и дубликаты. Для дальнейшей работы были изменены названия столбцов, формат даты."
      ]
    },
    {
      "cell_type": "markdown",
      "metadata": {
        "id": "FeDHx1KDHJP_"
      },
      "source": [
        "### Построим график куммулятивной выручки по группам"
      ]
    },
    {
      "cell_type": "code",
      "execution_count": null,
      "metadata": {
        "scrolled": true,
        "id": "JfTM0TlvHJP_",
        "outputId": "8068080b-e062-4254-a0b2-b615b67124e8"
      },
      "outputs": [
        {
          "data": {
            "text/plain": [
              "array([   8300375,  199603092,  232979603,  237748145,  276558944,\n",
              "        351125977,  393266494,  457167155,  471551937,  477780734,\n",
              "        818047933,  963407295, 1230306981, 1294878855, 1316129916,\n",
              "       1333886533, 1404934699, 1602967004, 1614305549, 1648269707,\n",
              "       1668030113, 1738359350, 1801183820, 1959144690, 2038680547,\n",
              "       2044997962, 2378935119, 2458001652, 2579882178, 2587333274,\n",
              "       2600415354, 2654030115, 2686716486, 2712142231, 2716752286,\n",
              "       2780786433, 2927087541, 2949041841, 2954449915, 3062433592,\n",
              "       3202540741, 3234906277, 3656415546, 3717692402, 3766097110,\n",
              "       3803269165, 3891541246, 3941795274, 3951559397, 3957174400,\n",
              "       3963646447, 3972127743, 3984495233, 4069496402, 4120364173,\n",
              "       4186807279, 4256040402, 4266935830])"
            ]
          },
          "execution_count": 17,
          "metadata": {},
          "output_type": "execute_result"
        }
      ],
      "source": [
        "# проверим есть ли пользователи-дублеры в группах\n",
        "dupl_users = np.intersect1d(orders.query('group == \"A\"')['visitor_id'].unique(), orders.query('group == \"B\"')['visitor_id'].unique())\n",
        "dupl_users"
      ]
    },
    {
      "cell_type": "code",
      "execution_count": null,
      "metadata": {
        "id": "RcdSerW1HJQA"
      },
      "outputs": [],
      "source": [
        "# удалим таких пользователей из таблицы orders\n",
        "orders = orders[~orders['visitor_id'].isin(dupl_users)]"
      ]
    },
    {
      "cell_type": "code",
      "execution_count": null,
      "metadata": {
        "id": "6naw7C2YHJQR",
        "outputId": "7102710a-2d6e-4e2a-96a9-c682d56e3533"
      },
      "outputs": [
        {
          "data": {
            "text/html": [
              "<div>\n",
              "<style scoped>\n",
              "    .dataframe tbody tr th:only-of-type {\n",
              "        vertical-align: middle;\n",
              "    }\n",
              "\n",
              "    .dataframe tbody tr th {\n",
              "        vertical-align: top;\n",
              "    }\n",
              "\n",
              "    .dataframe thead th {\n",
              "        text-align: right;\n",
              "    }\n",
              "</style>\n",
              "<table border=\"1\" class=\"dataframe\">\n",
              "  <thead>\n",
              "    <tr style=\"text-align: right;\">\n",
              "      <th></th>\n",
              "      <th>date</th>\n",
              "      <th>group</th>\n",
              "      <th>orders</th>\n",
              "      <th>buyers</th>\n",
              "      <th>revenue</th>\n",
              "      <th>visitors</th>\n",
              "    </tr>\n",
              "  </thead>\n",
              "  <tbody>\n",
              "    <tr>\n",
              "      <th>0</th>\n",
              "      <td>2019-08-01</td>\n",
              "      <td>A</td>\n",
              "      <td>23</td>\n",
              "      <td>19</td>\n",
              "      <td>142779</td>\n",
              "      <td>719</td>\n",
              "    </tr>\n",
              "    <tr>\n",
              "      <th>1</th>\n",
              "      <td>2019-08-01</td>\n",
              "      <td>B</td>\n",
              "      <td>17</td>\n",
              "      <td>17</td>\n",
              "      <td>59758</td>\n",
              "      <td>713</td>\n",
              "    </tr>\n",
              "    <tr>\n",
              "      <th>2</th>\n",
              "      <td>2019-08-02</td>\n",
              "      <td>A</td>\n",
              "      <td>42</td>\n",
              "      <td>36</td>\n",
              "      <td>234381</td>\n",
              "      <td>1338</td>\n",
              "    </tr>\n",
              "    <tr>\n",
              "      <th>3</th>\n",
              "      <td>2019-08-02</td>\n",
              "      <td>B</td>\n",
              "      <td>40</td>\n",
              "      <td>39</td>\n",
              "      <td>221801</td>\n",
              "      <td>1294</td>\n",
              "    </tr>\n",
              "    <tr>\n",
              "      <th>4</th>\n",
              "      <td>2019-08-03</td>\n",
              "      <td>A</td>\n",
              "      <td>66</td>\n",
              "      <td>60</td>\n",
              "      <td>346854</td>\n",
              "      <td>1845</td>\n",
              "    </tr>\n",
              "  </tbody>\n",
              "</table>\n",
              "</div>"
            ],
            "text/plain": [
              "        date group  orders  buyers  revenue  visitors\n",
              "0 2019-08-01     A      23      19   142779       719\n",
              "1 2019-08-01     B      17      17    59758       713\n",
              "2 2019-08-02     A      42      36   234381      1338\n",
              "3 2019-08-02     B      40      39   221801      1294\n",
              "4 2019-08-03     A      66      60   346854      1845"
            ]
          },
          "execution_count": 19,
          "metadata": {},
          "output_type": "execute_result"
        }
      ],
      "source": [
        "# создаем массив уникальных пар значений дат и групп теста\n",
        "datesGroups = orders[['date','group']].drop_duplicates()\n",
        "\n",
        "# получаем агрегированные кумулятивные по дням данные о заказах\n",
        "ordersAggregated = datesGroups.apply(lambda x: orders[np.logical_and(orders['date'] <= x['date'], orders['group'] == x['group'])].agg({\n",
        "    'date' : 'max',\n",
        "    'group' : 'max',\n",
        "    'transaction_id' : 'nunique',\n",
        "    'visitor_id' : 'nunique',\n",
        "    'revenue' : 'sum'}), axis=1).sort_values(by=['date','group'])\n",
        "\n",
        "# получаем агрегированные кумулятивные по дням данные о посетителях интернет-магазина\n",
        "visitorsAggregated = datesGroups.apply(lambda x: visitors[np.logical_and(visitors['date'] <= x['date'], visitors['group'] == x['group'])].agg({\n",
        "    'date' : 'max',\n",
        "    'group' : 'max',\n",
        "    'visitors' : 'sum'}), axis=1).sort_values(by=['date','group'])\n",
        "\n",
        "# объединяем кумулятивные данные в одной таблице и присваиваем ее столбцам понятные названия\n",
        "cumulativeData = ordersAggregated.merge(visitorsAggregated, left_on=['date', 'group'], right_on=['date', 'group'])\n",
        "cumulativeData.columns = ['date', 'group', 'orders', 'buyers', 'revenue', 'visitors']\n",
        "\n",
        "cumulativeData.head(5)"
      ]
    },
    {
      "cell_type": "code",
      "execution_count": null,
      "metadata": {
        "id": "ycmC2oYFHJQU",
        "outputId": "d9889cf2-ee24-4b1f-a9a3-a5370fc45995"
      },
      "outputs": [
        {
          "data": {
            "image/png": "[encoded data removed]",
            "text/plain": [
              "<Figure size 864x360 with 1 Axes>"
            ]
          },
          "metadata": {
            "needs_background": "light"
          },
          "output_type": "display_data"
        }
      ],
      "source": [
        "# построим график\n",
        "# датафрейм с кумулятивным количеством заказов и кумулятивной выручкой по дням в группе А\n",
        "cumulativeRevenueA = cumulativeData[cumulativeData['group']=='A'][['date','revenue', 'orders', 'visitors']]\n",
        "\n",
        "# датафрейм с кумулятивным количеством заказов и кумулятивной выручкой по дням в группе B\n",
        "cumulativeRevenueB = cumulativeData[cumulativeData['group']=='B'][['date','revenue', 'orders', 'visitors']]\n",
        "\n",
        "# задаем размер\n",
        "plt.figure(figsize=(12,5))\n",
        "\n",
        "# строим график выручки группы А\n",
        "plt.plot(cumulativeRevenueA['date'], cumulativeRevenueA['revenue'], label='A')\n",
        "\n",
        "# строим график выручки группы B\n",
        "plt.plot(cumulativeRevenueB['date'], cumulativeRevenueB['revenue'], label='B')\n",
        "\n",
        "# задаем параметры\n",
        "plt.title('График кумулятивной выручки по группам')\n",
        "plt.xlabel('Дата')\n",
        "plt.ylabel('Выручка')\n",
        "plt.grid()\n",
        "plt.legend()\n",
        "plt.show()"
      ]
    },
    {
      "cell_type": "markdown",
      "metadata": {
        "id": "GLsgbspkHJQW"
      },
      "source": [
        "Большую выручку показывает группа В, особенно, начиная с 13 августа. Резкий скачок повышения выручки произошел 18 августа."
      ]
    },
    {
      "cell_type": "markdown",
      "metadata": {
        "id": "3NOS_--xHJQY"
      },
      "source": [
        "### Построим график кумулятивного среднего чека по группам"
      ]
    },
    {
      "cell_type": "code",
      "execution_count": null,
      "metadata": {
        "id": "MhxjpQqtHJQY",
        "outputId": "1cb40ffc-1642-44c5-ba3d-5cdca4dc8c41"
      },
      "outputs": [
        {
          "data": {
            "image/png": "[encoded data removed]",
            "text/plain": [
              "<Figure size 864x360 with 1 Axes>"
            ]
          },
          "metadata": {
            "needs_background": "light"
          },
          "output_type": "display_data"
        }
      ],
      "source": [
        "# задаем размер\n",
        "plt.figure(figsize=(12,5))\n",
        "\n",
        "# строим график\n",
        "plt.plot(cumulativeRevenueA['date'], cumulativeRevenueA['revenue']/cumulativeRevenueA['orders'], label='A')\n",
        "plt.plot(cumulativeRevenueB['date'], cumulativeRevenueB['revenue']/cumulativeRevenueB['orders'], label='B')\n",
        "\n",
        "# задаем параметры\n",
        "plt.title('График кумулятивного среднего чека по группам')\n",
        "plt.xlabel('Дата')\n",
        "plt.ylabel('Средний чек')\n",
        "plt.grid()\n",
        "plt.legend()\n",
        "plt.show()"
      ]
    },
    {
      "cell_type": "markdown",
      "metadata": {
        "id": "3iyl5XA7HJQZ"
      },
      "source": [
        "До 18 августа график не был стабилен, сначала средний чек группы В был выше, затем группы А, однако 18 числа произошел резкий скачок среднего чека группы В и оставался на более высоком уровне, чем чек группы А."
      ]
    },
    {
      "cell_type": "markdown",
      "metadata": {
        "id": "sYd0OYOaHJQa"
      },
      "source": [
        "### Построим график относительного изменения кумулятивного среднего чека группы B к группе A"
      ]
    },
    {
      "cell_type": "code",
      "execution_count": null,
      "metadata": {
        "id": "uT48cgGaHJQa",
        "outputId": "44704041-6f32-433f-8ae5-5c635b5d7b3a"
      },
      "outputs": [
        {
          "data": {
            "image/png": "[encoded data removed]",
            "text/plain": [
              "<Figure size 864x360 with 1 Axes>"
            ]
          },
          "metadata": {
            "needs_background": "light"
          },
          "output_type": "display_data"
        }
      ],
      "source": [
        "# собираем данные в одном датафрейме\n",
        "mergedCumulativeRevenue = cumulativeRevenueA.merge(cumulativeRevenueB, left_on='date', right_on='date', how='left', suffixes=['A', 'B'])\n",
        "\n",
        "# задаем размер\n",
        "plt.figure(figsize=(12,5))\n",
        "\n",
        "# cтроим отношение средних чеков\n",
        "plt.plot(mergedCumulativeRevenue['date'], (mergedCumulativeRevenue['revenueB']/mergedCumulativeRevenue['ordersB'])/(mergedCumulativeRevenue['revenueA']/mergedCumulativeRevenue['ordersA'])-1)\n",
        "\n",
        "# добавляем ось X\n",
        "plt.axhline(y=0, color='black', linestyle='--')\n",
        "\n",
        "# задаем параметры\n",
        "plt.title('График относительного изменения кумулятивного среднего чека группы B к группе A')\n",
        "plt.xlabel('Дата')\n",
        "plt.ylabel('Изменение среднего чека')\n",
        "plt.grid()\n",
        "plt.show()"
      ]
    },
    {
      "cell_type": "markdown",
      "metadata": {
        "id": "GYAWWUmqHJQb"
      },
      "source": [
        "График относительного изменения кумулятивного среднего чека не стабилен, это вероятно означает, что в данных есть дорогие заказы и выбросы."
      ]
    },
    {
      "cell_type": "markdown",
      "metadata": {
        "id": "uNu1K8AkHJQe"
      },
      "source": [
        "### Построим график кумулятивного среднего количества заказов на посетителя по группам"
      ]
    },
    {
      "cell_type": "code",
      "execution_count": null,
      "metadata": {
        "id": "Gu4M25JTHJQf",
        "outputId": "14e15472-e862-48a6-a8c2-df9b3a3382c3"
      },
      "outputs": [
        {
          "data": {
            "image/png": "[encoded data removed]",
            "text/plain": [
              "<Figure size 864x360 with 1 Axes>"
            ]
          },
          "metadata": {
            "needs_background": "light"
          },
          "output_type": "display_data"
        }
      ],
      "source": [
        "# задаем размер\n",
        "plt.figure(figsize=(12,5))\n",
        "\n",
        "# строим график\n",
        "plt.plot(cumulativeRevenueA['date'], cumulativeRevenueA['orders']/cumulativeRevenueA['visitors'], label='A')\n",
        "plt.plot(cumulativeRevenueB['date'], cumulativeRevenueB['orders']/cumulativeRevenueB['visitors'], label='B')\n",
        "\n",
        "# задаем параметры\n",
        "plt.title('График кумулятивного среднего количества заказов на посетителя по группам')\n",
        "plt.xlabel('Дата')\n",
        "plt.ylabel('Среднее количество заказов на посетителей')\n",
        "plt.grid()\n",
        "plt.legend()\n",
        "plt.show()"
      ]
    },
    {
      "cell_type": "markdown",
      "metadata": {
        "id": "5WwsC4USHJQg"
      },
      "source": [
        "До 6 августа среднее количество заказов группы А превышало количество заказов группы В, однако начиная с этого числа ситуация изменилась, и группа В стала лидировать, количество заказов после повышения держалось относительно на одном уровне."
      ]
    },
    {
      "cell_type": "markdown",
      "metadata": {
        "id": "2SvuXvj4HJQh"
      },
      "source": [
        "### Построим график относительного изменения кумулятивного среднего количества заказов на посетителя группы B к группе A"
      ]
    },
    {
      "cell_type": "code",
      "execution_count": null,
      "metadata": {
        "id": "jHgV7FVIHJQi",
        "outputId": "4bc1e28c-15e6-4312-edb1-8d888199a143"
      },
      "outputs": [
        {
          "data": {
            "image/png": "[encoded data removed]",
            "text/plain": [
              "<Figure size 864x360 with 1 Axes>"
            ]
          },
          "metadata": {
            "needs_background": "light"
          },
          "output_type": "display_data"
        }
      ],
      "source": [
        "# собираем данные в одном датафрейме\n",
        "mergedCumulativeRevenue = cumulativeRevenueA.merge(cumulativeRevenueB, left_on='date', right_on='date', how='left', suffixes=['A', 'B'])\n",
        "\n",
        "# задаем размер\n",
        "plt.figure(figsize=(12,5))\n",
        "\n",
        "# cтроим отношение средних чеков\n",
        "plt.plot(mergedCumulativeRevenue['date'], (mergedCumulativeRevenue['ordersB']/mergedCumulativeRevenue['visitorsB'])/(mergedCumulativeRevenue['ordersA']/mergedCumulativeRevenue['visitorsA'])-1)\n",
        "\n",
        "# добавляем ось X\n",
        "plt.axhline(y=0, color='black', linestyle='--')\n",
        "\n",
        "# задаем параметры\n",
        "plt.title('График относительного изменения кумулятивного количества заказов на посетителя группы B к группе A')\n",
        "plt.xlabel('Дата')\n",
        "plt.ylabel('Изменение среднего количества заказов')\n",
        "plt.grid()\n",
        "plt.show()"
      ]
    },
    {
      "cell_type": "markdown",
      "metadata": {
        "id": "Mkd24iYuHJQj"
      },
      "source": [
        "График также не стабилен, поэтому необходимо узнать, какие выбросы влияют на резкие скачки вверх (после 1 августа) и вниз (после 2 августа)."
      ]
    },
    {
      "cell_type": "markdown",
      "metadata": {
        "id": "Ad_j7zDnHJQr"
      },
      "source": [
        "### Построим точечный график количества заказов по пользователям"
      ]
    },
    {
      "cell_type": "code",
      "execution_count": null,
      "metadata": {
        "id": "-I67JiR1HJQr",
        "outputId": "6c205143-0acf-49fc-90a5-0ce2b3ea04fd"
      },
      "outputs": [
        {
          "data": {
            "image/png": "[encoded data removed]",
            "text/plain": [
              "<Figure size 720x360 with 1 Axes>"
            ]
          },
          "metadata": {
            "needs_background": "light"
          },
          "output_type": "display_data"
        }
      ],
      "source": [
        "ordersByUsers = orders.drop(['group', 'revenue', 'date'], axis=1).groupby('visitor_id', as_index=False).agg({'transaction_id' : pd.Series.nunique})\n",
        "\n",
        "ordersByUsers.columns = ['user_id','orders']\n",
        "\n",
        "ordersByUsers.sort_values(by='orders',ascending=False).head(10)\n",
        "\n",
        "# задаем размер\n",
        "plt.figure(figsize=(10,5))\n",
        "\n",
        "# строим график\n",
        "x_values = pd.Series(range(0, len(ordersByUsers)))\n",
        "plt.scatter(x_values, ordersByUsers['orders'])\n",
        "\n",
        "# задаем параметры\n",
        "plt.grid()\n",
        "plt.title('График количества заказов по пользователям')\n",
        "plt.xlabel('Количество пользователей')\n",
        "plt.ylabel('Количество заказов')\n",
        "plt.show()"
      ]
    },
    {
      "cell_type": "markdown",
      "metadata": {
        "id": "FS6hnAptHJQs"
      },
      "source": [
        "Наибольшее количество пользователей делает количество заказов = 1, наименьшее = 3."
      ]
    },
    {
      "cell_type": "markdown",
      "metadata": {
        "id": "g3skZE_jHJQt"
      },
      "source": [
        "### Посчитаем 95-й и 99-й перцентили количества заказов на пользователя и выберем границу для определения аномальных пользователей"
      ]
    },
    {
      "cell_type": "code",
      "execution_count": null,
      "metadata": {
        "id": "WYwOt241HJQt",
        "outputId": "d1f31fc1-a74e-47db-92a8-cedd1315c23c"
      },
      "outputs": [
        {
          "data": {
            "text/plain": [
              "array([1., 2.])"
            ]
          },
          "execution_count": 26,
          "metadata": {},
          "output_type": "execute_result"
        }
      ],
      "source": [
        "np.percentile(ordersByUsers['orders'], [95, 99])"
      ]
    },
    {
      "cell_type": "markdown",
      "metadata": {
        "id": "czduZWoAHJQu"
      },
      "source": [
        "95% пользователей делают 1 заказ, а 99% пользователей делают 2 заказа или меньше. Это означает, что большинство пользователей совершают небольшое количество заказов.\n",
        "\n",
        "Выбор границы для определения аномальных пользователей зависит от целей и контекста проекта. В данном случае считаем корректным выбрать границу по 95 перцентилю, с целью минимизировать отнесение нормального пользователя к аномальному. Граница по количеству заказа = меньше 2."
      ]
    },
    {
      "cell_type": "markdown",
      "metadata": {
        "id": "ax8MNtAJHJQv"
      },
      "source": [
        "### Построим точечный график стоимостей заказов"
      ]
    },
    {
      "cell_type": "code",
      "execution_count": null,
      "metadata": {
        "id": "mcjjBh6IHJQv",
        "outputId": "27ab8d53-4965-4b7a-cdce-ec0e20466597"
      },
      "outputs": [
        {
          "data": {
            "image/png": "[encoded data removed]",
            "text/plain": [
              "<Figure size 720x360 with 1 Axes>"
            ]
          },
          "metadata": {
            "needs_background": "light"
          },
          "output_type": "display_data"
        }
      ],
      "source": [
        "# задаем размер\n",
        "plt.figure(figsize=(10,5))\n",
        "\n",
        "# строим график\n",
        "x_values = pd.Series(range(0,len(orders['revenue'])))\n",
        "plt.scatter(x_values, orders['revenue'], alpha=0.3)\n",
        "\n",
        "# задаем параметры\n",
        "plt.grid()\n",
        "plt.title('График стоимостей заказов')\n",
        "plt.xlabel('Количество пользователей')\n",
        "plt.ylabel('Стоимость заказов')\n",
        "plt.show()"
      ]
    },
    {
      "cell_type": "markdown",
      "metadata": {
        "id": "tsqF0nAFHJQw"
      },
      "source": [
        "Из-за выбросов график не является наглядным, создадим временный массив без аномалий и построим новый график. Нижняя аномалия находится на 0.2 в 1е6, что равняется 200 000, поэтому выберем все заказы, в которых стоимость меньше этого числа."
      ]
    },
    {
      "cell_type": "code",
      "execution_count": null,
      "metadata": {
        "id": "j7xUXC23HJQw",
        "outputId": "63892c73-de2e-4b3f-ee4a-bd00da87e022"
      },
      "outputs": [
        {
          "data": {
            "image/png": "[encoded data removed]",
            "text/plain": [
              "<Figure size 720x360 with 1 Axes>"
            ]
          },
          "metadata": {
            "needs_background": "light"
          },
          "output_type": "display_data"
        }
      ],
      "source": [
        "good_orders = orders.query('revenue < 200000')\n",
        "\n",
        "# задаем размер\n",
        "plt.figure(figsize=(10,5))\n",
        "\n",
        "# строим график\n",
        "x_values = pd.Series(range(0,len(good_orders['revenue'])))\n",
        "plt.scatter(x_values, good_orders['revenue'], alpha=0.3)\n",
        "\n",
        "# задаем параметры\n",
        "plt.grid()\n",
        "plt.title('График стоимостей заказов без выбросов')\n",
        "plt.xlabel('Количество пользователей')\n",
        "plt.ylabel('Стоимость заказов')\n",
        "plt.show()"
      ]
    },
    {
      "cell_type": "markdown",
      "metadata": {
        "id": "vE3TiEcHHJQx"
      },
      "source": [
        "Большое число пользователей делает заказы стоимостью ниже 20 000 (наибольшее стремится к диапазону менее 10 000), однако есть нормально количество пользователей, стоимость заказов которых находится в между 20 000 и 40 000. Стоить также заметить, что были отброшены 2 заказа, стоимость которых выше 200 000, наибольший из которых стоит около 1.3 млн."
      ]
    },
    {
      "cell_type": "markdown",
      "metadata": {
        "id": "VPF5Gf2hHJQy"
      },
      "source": [
        "### Посчитаем 95-й и 99-й перцентили стоимости заказов и выберем границу для определения аномальных заказов"
      ]
    },
    {
      "cell_type": "code",
      "execution_count": null,
      "metadata": {
        "id": "qHbiRHpTHJQz",
        "outputId": "05d30ecf-69c3-4a7f-98fe-279313280d4a"
      },
      "outputs": [
        {
          "data": {
            "text/plain": [
              "array([26785., 53904.])"
            ]
          },
          "execution_count": 29,
          "metadata": {},
          "output_type": "execute_result"
        }
      ],
      "source": [
        "np.percentile(orders['revenue'], [95, 99])"
      ]
    },
    {
      "cell_type": "markdown",
      "metadata": {
        "id": "nFtgoB21HJQ0"
      },
      "source": [
        "95% заказов имеют стоимость не выше 26 785, а 99% заказов - не выше 53 904.\n",
        "\n",
        "Эти значения представляют собой границы, выше которых заказы могут считаться аномальными.\n",
        "\n",
        "Выбор границы аномалий зависит от контекста проекта и бизнес-задач. В данном случае более важно выявить заказы, стоимость которых значительно превышает среднюю, то можно взять 95-й перцентиль (26 785) в качестве границы аномалий."
      ]
    },
    {
      "cell_type": "markdown",
      "metadata": {
        "id": "ti82TKlZHJQ3"
      },
      "source": [
        "### Посчитаем статистическую значимость различий в среднем количестве заказов на посетителя между группами по «сырым» данным"
      ]
    },
    {
      "cell_type": "code",
      "execution_count": null,
      "metadata": {
        "id": "QQBdAvqkHJQ8"
      },
      "outputs": [],
      "source": [
        "visitorsADaily = visitors[visitors['group'] == 'A'][['date', 'visitors']]\n",
        "visitorsADaily.columns = ['date', 'visitorsPerDateA']\n",
        "\n",
        "visitorsBDaily = visitors[visitors['group'] == 'B'][['date', 'visitors']]\n",
        "visitorsBDaily.columns = ['date', 'visitorsPerDateB']"
      ]
    },
    {
      "cell_type": "code",
      "execution_count": null,
      "metadata": {
        "id": "GwpQpmgAHJQ8"
      },
      "outputs": [],
      "source": [
        "ordersByUsersA = (\n",
        "    orders[orders['group'] == 'A']\n",
        "    .groupby('visitor_id', as_index=False)\n",
        "    .agg({'transaction_id': pd.Series.nunique})\n",
        ")\n",
        "ordersByUsersA.columns = ['visitor_id', 'orders']\n",
        "\n",
        "ordersByUsersB = (\n",
        "    orders[orders['group'] == 'B']\n",
        "    .groupby('visitor_id', as_index=False)\n",
        "    .agg({'transaction_id': pd.Series.nunique})\n",
        ")\n",
        "ordersByUsersB.columns = ['visitor_id', 'orders']\n",
        "\n",
        "sampleA = pd.concat([ordersByUsersA['orders'],pd.Series(0, index=np.arange(visitorsADaily['visitorsPerDateA'].sum() - len(ordersByUsersA['orders'])), name='orders')],axis=0)\n",
        "\n",
        "sampleB = pd.concat([ordersByUsersB['orders'],pd.Series(0, index=np.arange(visitorsBDaily['visitorsPerDateB'].sum() - len(ordersByUsersB['orders'])), name='orders')],axis=0)"
      ]
    },
    {
      "cell_type": "markdown",
      "metadata": {
        "id": "gKnwzKTnHJQ9"
      },
      "source": [
        "Посчитаем статистическую значимость различия в среднем количестве заказов между группами.\n",
        "\n",
        "**Нулевая гипотеза:** различий в среднем количестве заказов между группами нет.\n",
        "\n",
        "**Альтернативная гипотеза:** различия в среднем количестве заказов между группами есть.\n",
        "\n",
        "Уровень статистической значимости: 0.05.\n",
        "\n",
        "Тест (критерий) проверки гипотез: U-критерий Манна-Уитни."
      ]
    },
    {
      "cell_type": "code",
      "execution_count": null,
      "metadata": {
        "id": "PZ9wTPf5HJQ_"
      },
      "outputs": [],
      "source": [
        "# print(\"{0:.3f}\".format(stats.mannwhitneyu(sampleA, sampleB)[1]))\n",
        "\n",
        "# print(\"{0:.3f}\".format(sampleB.mean() / sampleA.mean() - 1))"
      ]
    },
    {
      "cell_type": "code",
      "execution_count": null,
      "metadata": {
        "id": "zAQwq9JmHJQ_",
        "outputId": "20ff3e3a-f864-4b7d-ebee-2f010206550a"
      },
      "outputs": [
        {
          "name": "stdout",
          "output_type": "stream",
          "text": [
            "P-value: 0.011\n",
            "Различие в среднем количестве заказов: 0.160\n",
            "Нулевую гипотезу можно отвергнуть\n"
          ]
        }
      ],
      "source": [
        "# проводим статистический тест (U-критерий Манна-Уитни)\n",
        "p_value = stats.mannwhitneyu(sampleA, sampleB)[1]\n",
        "alpha = .05\n",
        "# вычисляем различие в среднем количестве заказов\n",
        "difference = sampleB.mean() / sampleA.mean() - 1\n",
        "\n",
        "# выводим результаты\n",
        "print(f\"P-value: {p_value:.3f}\")\n",
        "print(f\"Различие в среднем количестве заказов: {difference:.3f}\")\n",
        "\n",
        "# принимаем решение о нулевой гипотезе\n",
        "if p_value < alpha:\n",
        "    print(\"Нулевую гипотезу можно отвергнуть\")\n",
        "else:\n",
        "    print(\"Нулевую гипотезу нельзя отвергнуть\")"
      ]
    },
    {
      "cell_type": "markdown",
      "metadata": {
        "id": "rdsyd0TeHJRB"
      },
      "source": [
        "Вывод: По «сырым» данным различия в среднем числе заказов групп A и B есть.\n",
        "\n",
        "Первое число — p-value = 0.011 меньше 0.05. Значит, нулевую гипотезу о том, что статистически значимых различий в среднем числе заказов между группами нет, отвергаем. Относительный выигрыш группы B равен 16% — второе число в выводе."
      ]
    },
    {
      "cell_type": "markdown",
      "metadata": {
        "id": "0xjQdIWvHJRC"
      },
      "source": [
        "### Посчитаем статистическую значимость различий в среднем чеке заказа между группами по «сырым» данным"
      ]
    },
    {
      "cell_type": "markdown",
      "metadata": {
        "id": "lMI53gzYHJRC"
      },
      "source": [
        "**Нулевая гипотеза:** различий в среднем чеке между группами нет.\n",
        "\n",
        "**Альтернативная гипотеза:** различия в среднем чеке между группами есть.\n",
        "\n",
        "Уровень статистической значимости: 0.05.\n",
        "\n",
        "Тест (критерий) проверки гипотез: U-критерий Манна-Уитни."
      ]
    },
    {
      "cell_type": "code",
      "execution_count": null,
      "metadata": {
        "scrolled": true,
        "id": "W8ZN_T5eHJRD",
        "outputId": "c8b92831-740a-4c8c-bfda-ae9d63b0136a"
      },
      "outputs": [
        {
          "name": "stdout",
          "output_type": "stream",
          "text": [
            "P-value (выручка): 0.829\n",
            "Различие в среднем чеке: 0.287\n",
            "Нулевую гипотезу нельзя отвергнуть\n"
          ]
        }
      ],
      "source": [
        "# print('{0:.3f}'.format(stats.mannwhitneyu(orders[orders['group']=='A']['revenue'], orders[orders['group']=='B']['revenue'])[1]))\n",
        "# print('{0:.3f}'.format(orders[orders['group']=='B']['revenue'].mean()/orders[orders['group']=='A']['revenue'].mean()-1))\n",
        "\n",
        "# проводим статистический тест (U-критерий Манна-Уитни)\n",
        "p_value_revenue = stats.mannwhitneyu(orders[orders['group']=='A']['revenue'], orders[orders['group']=='B']['revenue'])[1]\n",
        "\n",
        "# вычисляем различие в средней выручке\n",
        "difference_revenue = orders[orders['group']=='B']['revenue'].mean() / orders[orders['group']=='A']['revenue'].mean() - 1\n",
        "\n",
        "# выводим результаты\n",
        "print(f\"P-value (выручка): {p_value_revenue:.3f}\")\n",
        "print(f\"Различие в среднем чеке: {difference_revenue:.3f}\")\n",
        "\n",
        "# принимаем решение о нулевой гипотезе\n",
        "if p_value_revenue < alpha:\n",
        "    print(\"Нулевую гипотезу можно отвергнуть\")\n",
        "else:\n",
        "    print(\"Нулевую гипотезу нельзя отвергнуть\")\n"
      ]
    },
    {
      "cell_type": "markdown",
      "metadata": {
        "id": "05bPkPtLHJRE"
      },
      "source": [
        "Вывод: По «сырым» данным различий в среднем чеке заказа между группами A и B нет.\n",
        "\n",
        "P-value значительно больше 0.05. Значит, причин отвергать нулевую гипотезу и считать, что в среднем чеке есть различия, нет. Впрочем, средний чек группы B выше среднего чека группы A."
      ]
    },
    {
      "cell_type": "markdown",
      "metadata": {
        "id": "BRiD61GLHJRF"
      },
      "source": [
        "### Посчитаем статистическую значимость различий в среднем количестве заказов на посетителя между группами по «очищенным» данным"
      ]
    },
    {
      "cell_type": "markdown",
      "metadata": {
        "id": "uLA6gXQDHJRF"
      },
      "source": [
        "По количеству заказов 95% пользователей оплачивают 1 заказ, а 99% пользователей 2 или менее.\n",
        "\n",
        "По стоимости заказов 95% - 26 785, а 99% - 53 904.\n",
        "\n",
        "На основании этих данных аномальными будем считать:\n",
        "- количество заказов больше 1 (5%)\n",
        "- стоимость заказов больше 30 000 (1-5%)"
      ]
    },
    {
      "cell_type": "code",
      "execution_count": null,
      "metadata": {
        "id": "j-3McTegHJRG",
        "outputId": "30341745-6497-469e-a01a-4519dc9d193a"
      },
      "outputs": [
        {
          "name": "stdout",
          "output_type": "stream",
          "text": [
            "1099    148427295\n",
            "928     204675465\n",
            "33      249864742\n",
            "684     358944393\n",
            "36      366673373\n",
            "Name: visitor_id, dtype: int64\n",
            "77\n"
          ]
        }
      ],
      "source": [
        "# узнаем, сколько всего аномальных пользователей атрибутом shape.\n",
        "\n",
        "usersWithManyOrders = pd.concat(\n",
        "    [\n",
        "        ordersByUsersA[ordersByUsersA['orders'] > 1]['visitor_id'],\n",
        "        ordersByUsersB[ordersByUsersB['orders'] > 1]['visitor_id'],\n",
        "    ],\n",
        "    axis=0,\n",
        ")\n",
        "usersWithExpensiveOrders = orders[orders['revenue'] > 30000]['visitor_id']\n",
        "abnormalUsers = (\n",
        "    pd.concat([usersWithManyOrders, usersWithExpensiveOrders], axis=0)\n",
        "    .drop_duplicates()\n",
        "    .sort_values()\n",
        ")\n",
        "print(abnormalUsers.head(5))\n",
        "print(abnormalUsers.shape[0])"
      ]
    },
    {
      "cell_type": "markdown",
      "metadata": {
        "id": "fxEWDu6qHJRH"
      },
      "source": [
        "77 аномальных значений - это не маленькое количество."
      ]
    },
    {
      "cell_type": "code",
      "execution_count": null,
      "metadata": {
        "id": "vwtr9oa_HJRI"
      },
      "outputs": [],
      "source": [
        "# подготовим выборки количества заказов по пользователям по группам теста:\n",
        "\n",
        "sampleAFiltered = pd.concat(\n",
        "    [\n",
        "        ordersByUsersA[\n",
        "            np.logical_not(ordersByUsersA['visitor_id'].isin(abnormalUsers))\n",
        "        ]['orders'],\n",
        "        pd.Series(\n",
        "            0,\n",
        "            index=np.arange(\n",
        "                visitorsADaily['visitorsPerDateA'].sum() - len(ordersByUsersA['orders'])\n",
        "            ),\n",
        "            name='orders',\n",
        "        ),\n",
        "    ],\n",
        "    axis=0,\n",
        ")\n",
        "\n",
        "sampleBFiltered = pd.concat(\n",
        "    [\n",
        "        ordersByUsersB[\n",
        "            np.logical_not(ordersByUsersB['visitor_id'].isin(abnormalUsers))\n",
        "        ]['orders'],\n",
        "        pd.Series(\n",
        "            0,\n",
        "            index=np.arange(\n",
        "                visitorsBDaily['visitorsPerDateB'].sum() - len(ordersByUsersB['orders'])\n",
        "            ),\n",
        "            name='orders',\n",
        "        ),\n",
        "    ],\n",
        "    axis=0,\n",
        ")"
      ]
    },
    {
      "cell_type": "code",
      "execution_count": null,
      "metadata": {
        "id": "eDHsld5yHJRI",
        "outputId": "05e5c063-1599-451f-f105-08402591f32a"
      },
      "outputs": [
        {
          "name": "stdout",
          "output_type": "stream",
          "text": [
            "P-value (фильтрованные данные): 0.013\n",
            "Различие в среднем количестве заказов (фильтрованные данные): 0.180\n",
            "Нулевую гипотезу также можно отвергнуть\n"
          ]
        }
      ],
      "source": [
        "# применим статистический критерий Манна-Уитни к полученным выборкам:\n",
        "# print('{0:.3f}'.format(stats.mannwhitneyu(sampleAFiltered, sampleBFiltered)[1]))\n",
        "# print('{0:.3f}'.format(sampleBFiltered.mean()/sampleAFiltered.mean()-1))\n",
        "\n",
        "# проводим статистический тест (U-критерий Манна-Уитни)\n",
        "p_value_filtered = stats.mannwhitneyu(sampleAFiltered, sampleBFiltered)[1]\n",
        "\n",
        "# вычисляем различие в среднем количестве заказов с учетом фильтрации\n",
        "difference_filtered = sampleBFiltered.mean() / sampleAFiltered.mean() - 1\n",
        "\n",
        "# выводим результаты\n",
        "print(f\"P-value (фильтрованные данные): {p_value_filtered:.3f}\")\n",
        "print(f\"Различие в среднем количестве заказов (фильтрованные данные): {difference_filtered:.3f}\")\n",
        "\n",
        "# принимаем решение о нулевой гипотезе для фильтрованных данных\n",
        "if p_value_filtered < alpha:\n",
        "    print(\"Нулевую гипотезу также можно отвергнуть\")\n",
        "else:\n",
        "    print(\"Нулевую гипотезу также нельзя отвергнуть\")\n"
      ]
    },
    {
      "cell_type": "markdown",
      "metadata": {
        "id": "6tBiUVFfHJRJ"
      },
      "source": [
        "Результаты по среднему количеству заказов в \"сырых\" и \"обработанных\" данных практически не изменились."
      ]
    },
    {
      "cell_type": "markdown",
      "metadata": {
        "id": "PxOmsuxvHJRK"
      },
      "source": [
        "### Посчитаем статистическую значимость различий в среднем чеке заказа между группами по «очищенным» данным"
      ]
    },
    {
      "cell_type": "code",
      "execution_count": null,
      "metadata": {
        "id": "zZ2PgkQjHJRK",
        "outputId": "2fc4c4e8-17c6-40fa-cf06-6a79de5cc9e5"
      },
      "outputs": [
        {
          "name": "stdout",
          "output_type": "stream",
          "text": [
            "P-value (фильтрованные данные): 0.829\n",
            "Различие в среднем чеке (фильтрованные данные): -0.011\n",
            "Нулевую гипотезу также нельзя отвергнуть\n"
          ]
        }
      ],
      "source": [
        "# Проводим статистический тест (U-критерий Манна-Уитни) с учетом фильтрации\n",
        "p_value_revenue_filtered = stats.mannwhitneyu(\n",
        "    orders[\n",
        "        np.logical_and(\n",
        "            orders['group'] == 'A',\n",
        "            np.logical_not(orders['visitor_id'].isin(abnormalUsers)),\n",
        "        )\n",
        "    ]['revenue'],\n",
        "    orders[\n",
        "        np.logical_and(\n",
        "            orders['group'] == 'B',\n",
        "            np.logical_not(orders['visitor_id'].isin(abnormalUsers)),\n",
        "        )\n",
        "    ]['revenue'],\n",
        ")[1]\n",
        "\n",
        "# Вычисляем различие в средней выручке с учетом фильтрации\n",
        "difference_revenue_filtered = (\n",
        "    orders[\n",
        "        np.logical_and(\n",
        "            orders['group'] == 'B',\n",
        "            np.logical_not(orders['visitor_id'].isin(abnormalUsers)),\n",
        "        )\n",
        "    ]['revenue'].mean()\n",
        "    / orders[\n",
        "        np.logical_and(\n",
        "            orders['group'] == 'A',\n",
        "            np.logical_not(orders['visitor_id'].isin(abnormalUsers)),\n",
        "        )\n",
        "    ]['revenue'].mean()\n",
        "    - 1\n",
        ")\n",
        "\n",
        "# Выводим результаты\n",
        "print(f\"P-value (фильтрованные данные): {p_value_revenue_filtered:.3f}\")\n",
        "print(f\"Различие в среднем чеке (фильтрованные данные): {difference_revenue_filtered:.3f}\")\n",
        "\n",
        "# Принимаем решение о нулевой гипотезе для фильтрованных данных\n",
        "if p_value_revenue_filtered < alpha:\n",
        "    print(\"Нулевую гипотезу также можно отвергнуть\")\n",
        "else:\n",
        "    print(\"Нулевую гипотезу также нельзя отвергнуть\")\n"
      ]
    },
    {
      "cell_type": "markdown",
      "metadata": {
        "id": "lvW_hbWMHJRL"
      },
      "source": [
        "P-value не изменился, однако средний чек группы В стал ниже на 29 процентных пунктов."
      ]
    },
    {
      "cell_type": "markdown",
      "metadata": {
        "id": "JcVMfj_1HJRN"
      },
      "source": [
        "### Примем решение по результатам теста\n",
        "Варианты решений:\n",
        "1. Остановить тест, зафиксировать победу одной из групп.\n",
        "2. Остановить тест, зафиксировать отсутствие различий между группами.\n",
        "3. Продолжить тест."
      ]
    },
    {
      "cell_type": "markdown",
      "metadata": {
        "id": "OdYwIFB-HJRN"
      },
      "source": [
        "Промежуточные выводы, влияющие на принятие решения:\n",
        "- Есть статистически значимое различие по среднему количеству заказов между группами по «сырым» и по данным после фильтрации аномалий, в числе заказов группа В выигрывает;\n",
        "- Нет статистически значимого различия по среднему чеку между группами ни по «сырым», ни по данным после фильтрации аномалий;\n",
        "- В целом по всем графикам у группы В наблюдается выигрыш и прирост относительно группы А."
      ]
    },
    {
      "cell_type": "markdown",
      "metadata": {
        "id": "tQWG81_nHJRO"
      },
      "source": [
        "На основании анализа рекомендуется остановить тест и зафиксировать победу группы В. Несмотря на то, что средний чек не показал статистически значимых изменений, увеличение среднего количества заказов в группе B может существенно повлиять на общую выручку. Таким образом, можно считать, что цель теста — увеличение выручки — была достигнута."
      ]
    },
    {
      "cell_type": "markdown",
      "metadata": {
        "id": "aydeOQP_HJRQ"
      },
      "source": [
        "## Общий вывод\n",
        "\n",
        "В рамках данного проекта мы стояли перед задачей увеличения выручки интернет-магазина. Мы провели анализ гипотез и запустили A/B-тест для проверки эффективности выбранных изменений. В файле по заказам (`orders`) 1197 строк, пропуски и дубликаты отсутствуют. В файле `visitors` с информацией по участникам теста 62 строки, также отсутствуют пропуски и дубликаты. Для дальнейшей работы были изменены названия столбцов, формат даты.\n",
        "\n",
        "**Промежуточные выводы**\n",
        "\n",
        "1. Приоритизация гипотез:\n",
        "   - Гипотезы с высокими оценками ICE (8, 0, 7) считаются наиболее приоритетными. Оценка RICE также подтвердила приоритет гипотезы 7. Гипотеза с индексом 7 звучит следующим образом: Добавить форму подписки на все основные страницы, чтобы собрать базу клиентов для email-рассылок.\n",
        "\n",
        "\n",
        "2. Анализ A/B-теста:\n",
        "   - График кумулятивной выручки показал, что группа B начала выигрывать с 13 августа. Резкое увеличение выручки в группе B произошло 18 августа.\n",
        "   - Кумулятивный средний чек группы B резко возрос после 18 августа, превысив средний чек группы A.\n",
        "   - График относительного изменения кумулятивного среднего чека указывает на наличие выбросов в данных.\n",
        "   - Среднее количество заказов на посетителя сначала превышало в группе A, но после 6 августа ситуация изменилась в пользу группы B.\n",
        "   - График относительного изменения среднего количества заказов также указывает на наличие выбросов.\n",
        "   - Большинство пользователей совершает 1 заказ, что подтверждается 95-м и 99-м перцентилями.\n",
        "\n",
        "**Рекомендации для отдела маркетинга**\n",
        "\n",
        "1. Продолжить мониторинг выручки и среднего чека для более точного понимания долгосрочного влияния изменений.\n",
        "\n",
        "2. Обратить внимание на аномалии, особенно в контексте заказов большой стоимости.\n",
        "\n",
        "3. Пересмотреть гипотезу 7, так как она имеет высший приоритет согласно фреймворку RICE, рекомендуется более детальное рассмотрение и возможная реализация.\n",
        "\n",
        "4. На основании анализа рекомендуется остановить тест и зафиксировать победу группы В. Несмотря на то, что средний чек не показал статистически значимых изменений, увеличение среднего количества заказов в группе B может существенно повлиять на общую выручку. Таким образом, можно считать, что цель теста — увеличение выручки — была достигнута."
      ]
    }
  ],
  "metadata": {
    "ExecuteTimeLog": [
      {
        "duration": 411,
        "start_time": "2023-10-15T17:57:09.372Z"
      },
      {
        "duration": 71,
        "start_time": "2023-10-15T17:57:54.430Z"
      },
      {
        "duration": 42,
        "start_time": "2023-10-15T17:58:03.225Z"
      },
      {
        "duration": 24,
        "start_time": "2023-10-15T17:58:28.047Z"
      },
      {
        "duration": 33,
        "start_time": "2023-10-15T17:58:38.586Z"
      },
      {
        "duration": 44,
        "start_time": "2023-10-15T17:58:44.170Z"
      },
      {
        "duration": 63,
        "start_time": "2023-10-15T18:09:02.165Z"
      },
      {
        "duration": 2,
        "start_time": "2023-10-15T18:09:06.798Z"
      },
      {
        "duration": 44,
        "start_time": "2023-10-15T18:09:06.802Z"
      },
      {
        "duration": 7,
        "start_time": "2023-10-15T18:09:06.848Z"
      },
      {
        "duration": 12,
        "start_time": "2023-10-15T18:09:52.161Z"
      },
      {
        "duration": 12,
        "start_time": "2023-10-15T18:10:09.158Z"
      },
      {
        "duration": 1413,
        "start_time": "2023-10-15T18:10:49.459Z"
      },
      {
        "duration": 15,
        "start_time": "2023-10-15T18:11:01.451Z"
      },
      {
        "duration": 87,
        "start_time": "2023-10-15T18:19:19.780Z"
      },
      {
        "duration": 59,
        "start_time": "2023-10-15T18:19:38.679Z"
      },
      {
        "duration": 2,
        "start_time": "2023-10-15T18:20:21.956Z"
      },
      {
        "duration": 91,
        "start_time": "2023-10-15T18:21:09.952Z"
      },
      {
        "duration": 7,
        "start_time": "2023-10-15T18:21:14.317Z"
      },
      {
        "duration": 14,
        "start_time": "2023-10-15T18:21:21.481Z"
      },
      {
        "duration": 64,
        "start_time": "2023-10-16T18:22:13.306Z"
      },
      {
        "duration": 424,
        "start_time": "2023-10-16T18:22:17.901Z"
      },
      {
        "duration": 84,
        "start_time": "2023-10-16T18:22:18.328Z"
      },
      {
        "duration": 8,
        "start_time": "2023-10-16T18:22:18.414Z"
      },
      {
        "duration": 30,
        "start_time": "2023-10-16T18:22:18.424Z"
      },
      {
        "duration": 125,
        "start_time": "2023-10-16T18:22:18.456Z"
      },
      {
        "duration": 3,
        "start_time": "2023-10-16T18:22:18.583Z"
      },
      {
        "duration": 16,
        "start_time": "2023-10-16T18:22:58.235Z"
      },
      {
        "duration": 3,
        "start_time": "2023-10-16T18:24:23.135Z"
      },
      {
        "duration": 83,
        "start_time": "2023-10-16T18:24:23.140Z"
      },
      {
        "duration": 59,
        "start_time": "2023-10-16T18:24:23.225Z"
      },
      {
        "duration": 8,
        "start_time": "2023-10-16T18:24:23.286Z"
      },
      {
        "duration": 24,
        "start_time": "2023-10-16T18:24:23.296Z"
      },
      {
        "duration": 54,
        "start_time": "2023-10-16T18:24:23.322Z"
      },
      {
        "duration": 3,
        "start_time": "2023-10-16T18:24:23.377Z"
      },
      {
        "duration": 33,
        "start_time": "2023-10-16T18:24:23.382Z"
      },
      {
        "duration": 41,
        "start_time": "2023-10-16T20:09:13.577Z"
      },
      {
        "duration": 65,
        "start_time": "2023-10-16T20:10:58.910Z"
      },
      {
        "duration": 38,
        "start_time": "2023-10-16T20:11:30.210Z"
      },
      {
        "duration": 12,
        "start_time": "2023-10-16T20:11:46.195Z"
      },
      {
        "duration": 29,
        "start_time": "2023-10-16T20:14:23.736Z"
      },
      {
        "duration": 3,
        "start_time": "2023-10-16T20:14:51.533Z"
      },
      {
        "duration": 12,
        "start_time": "2023-10-16T20:14:51.537Z"
      },
      {
        "duration": 57,
        "start_time": "2023-10-16T20:14:51.551Z"
      },
      {
        "duration": 7,
        "start_time": "2023-10-16T20:14:51.609Z"
      },
      {
        "duration": 8,
        "start_time": "2023-10-16T20:14:51.619Z"
      },
      {
        "duration": 54,
        "start_time": "2023-10-16T20:14:51.628Z"
      },
      {
        "duration": 4,
        "start_time": "2023-10-16T20:14:51.684Z"
      },
      {
        "duration": 32,
        "start_time": "2023-10-16T20:14:51.690Z"
      },
      {
        "duration": 32,
        "start_time": "2023-10-16T20:14:51.724Z"
      },
      {
        "duration": 11,
        "start_time": "2023-10-16T20:14:51.758Z"
      },
      {
        "duration": 39,
        "start_time": "2023-10-16T20:14:51.771Z"
      },
      {
        "duration": 7,
        "start_time": "2023-10-16T20:16:43.603Z"
      },
      {
        "duration": 4,
        "start_time": "2023-10-16T20:16:50.374Z"
      },
      {
        "duration": 31,
        "start_time": "2023-10-16T20:29:42.255Z"
      },
      {
        "duration": 322,
        "start_time": "2023-10-16T20:30:55.677Z"
      },
      {
        "duration": 12,
        "start_time": "2023-10-16T20:31:50.370Z"
      },
      {
        "duration": 405,
        "start_time": "2023-10-16T20:31:56.036Z"
      },
      {
        "duration": 3,
        "start_time": "2023-10-16T20:31:56.443Z"
      },
      {
        "duration": 235,
        "start_time": "2023-10-16T20:31:56.447Z"
      },
      {
        "duration": 144,
        "start_time": "2023-10-16T20:31:56.683Z"
      },
      {
        "duration": 53,
        "start_time": "2023-10-16T20:31:56.829Z"
      },
      {
        "duration": 139,
        "start_time": "2023-10-16T20:31:56.884Z"
      },
      {
        "duration": 4,
        "start_time": "2023-10-16T20:31:57.024Z"
      },
      {
        "duration": 24,
        "start_time": "2023-10-16T20:31:57.029Z"
      },
      {
        "duration": 46,
        "start_time": "2023-10-16T20:31:57.055Z"
      },
      {
        "duration": 9,
        "start_time": "2023-10-16T20:31:57.103Z"
      },
      {
        "duration": 16,
        "start_time": "2023-10-16T20:31:57.114Z"
      },
      {
        "duration": 3,
        "start_time": "2023-10-16T20:31:57.132Z"
      },
      {
        "duration": 274,
        "start_time": "2023-10-16T20:31:57.136Z"
      },
      {
        "duration": 266,
        "start_time": "2023-10-16T20:31:57.412Z"
      },
      {
        "duration": 246,
        "start_time": "2023-10-16T20:32:08.203Z"
      },
      {
        "duration": 272,
        "start_time": "2023-10-16T20:32:45.196Z"
      },
      {
        "duration": 358,
        "start_time": "2023-10-16T20:33:08.581Z"
      },
      {
        "duration": 313,
        "start_time": "2023-10-16T20:34:46.956Z"
      },
      {
        "duration": 308,
        "start_time": "2023-10-16T20:35:11.009Z"
      },
      {
        "duration": 304,
        "start_time": "2023-10-16T20:35:14.911Z"
      },
      {
        "duration": 292,
        "start_time": "2023-10-16T20:35:19.065Z"
      },
      {
        "duration": 278,
        "start_time": "2023-10-16T20:36:10.813Z"
      },
      {
        "duration": 2,
        "start_time": "2023-10-16T20:36:14.240Z"
      },
      {
        "duration": 10,
        "start_time": "2023-10-16T20:36:14.244Z"
      },
      {
        "duration": 43,
        "start_time": "2023-10-16T20:36:14.255Z"
      },
      {
        "duration": 6,
        "start_time": "2023-10-16T20:36:14.300Z"
      },
      {
        "duration": 121,
        "start_time": "2023-10-16T20:36:14.308Z"
      },
      {
        "duration": 110,
        "start_time": "2023-10-16T20:36:14.431Z"
      },
      {
        "duration": 3,
        "start_time": "2023-10-16T20:36:14.543Z"
      },
      {
        "duration": 26,
        "start_time": "2023-10-16T20:36:14.548Z"
      },
      {
        "duration": 26,
        "start_time": "2023-10-16T20:36:14.576Z"
      },
      {
        "duration": 10,
        "start_time": "2023-10-16T20:36:14.605Z"
      },
      {
        "duration": 8,
        "start_time": "2023-10-16T20:36:14.624Z"
      },
      {
        "duration": 11,
        "start_time": "2023-10-16T20:36:14.634Z"
      },
      {
        "duration": 277,
        "start_time": "2023-10-16T20:36:14.646Z"
      },
      {
        "duration": 304,
        "start_time": "2023-10-16T20:36:14.926Z"
      },
      {
        "duration": 316,
        "start_time": "2023-10-16T20:38:10.941Z"
      },
      {
        "duration": 3,
        "start_time": "2023-10-16T20:38:31.343Z"
      },
      {
        "duration": 35,
        "start_time": "2023-10-16T20:38:31.348Z"
      },
      {
        "duration": 66,
        "start_time": "2023-10-16T20:38:31.384Z"
      },
      {
        "duration": 28,
        "start_time": "2023-10-16T20:38:31.452Z"
      },
      {
        "duration": 46,
        "start_time": "2023-10-16T20:38:31.483Z"
      },
      {
        "duration": 149,
        "start_time": "2023-10-16T20:38:31.532Z"
      },
      {
        "duration": 4,
        "start_time": "2023-10-16T20:38:31.683Z"
      },
      {
        "duration": 47,
        "start_time": "2023-10-16T20:38:31.688Z"
      },
      {
        "duration": 61,
        "start_time": "2023-10-16T20:38:31.737Z"
      },
      {
        "duration": 15,
        "start_time": "2023-10-16T20:38:31.800Z"
      },
      {
        "duration": 29,
        "start_time": "2023-10-16T20:38:31.817Z"
      },
      {
        "duration": 35,
        "start_time": "2023-10-16T20:38:31.848Z"
      },
      {
        "duration": 31,
        "start_time": "2023-10-16T20:38:31.884Z"
      },
      {
        "duration": 327,
        "start_time": "2023-10-16T20:38:31.919Z"
      },
      {
        "duration": 329,
        "start_time": "2023-10-16T20:38:32.249Z"
      },
      {
        "duration": 203,
        "start_time": "2023-10-16T20:39:10.365Z"
      },
      {
        "duration": 201,
        "start_time": "2023-10-16T20:39:17.270Z"
      },
      {
        "duration": 262,
        "start_time": "2023-10-16T20:42:51.367Z"
      },
      {
        "duration": 214,
        "start_time": "2023-10-16T20:43:27.761Z"
      },
      {
        "duration": 303,
        "start_time": "2023-10-16T20:45:28.452Z"
      },
      {
        "duration": 352,
        "start_time": "2023-10-16T20:46:19.907Z"
      },
      {
        "duration": 293,
        "start_time": "2023-10-16T20:46:39.264Z"
      },
      {
        "duration": 217,
        "start_time": "2023-10-16T20:51:21.248Z"
      },
      {
        "duration": 202,
        "start_time": "2023-10-16T20:53:42.025Z"
      },
      {
        "duration": 295,
        "start_time": "2023-10-16T21:22:24.232Z"
      },
      {
        "duration": 296,
        "start_time": "2023-10-16T21:22:27.304Z"
      },
      {
        "duration": 351,
        "start_time": "2023-10-16T21:22:32.347Z"
      },
      {
        "duration": 353,
        "start_time": "2023-10-16T21:25:44.257Z"
      },
      {
        "duration": 9,
        "start_time": "2023-10-16T21:27:49.518Z"
      },
      {
        "duration": 7,
        "start_time": "2023-10-16T21:28:06.901Z"
      },
      {
        "duration": 232,
        "start_time": "2023-10-16T21:31:34.471Z"
      },
      {
        "duration": 363,
        "start_time": "2023-10-16T21:32:08.079Z"
      },
      {
        "duration": 288,
        "start_time": "2023-10-16T21:32:13.760Z"
      },
      {
        "duration": 147,
        "start_time": "2023-10-16T21:36:41.579Z"
      },
      {
        "duration": 281,
        "start_time": "2023-10-16T21:36:53.559Z"
      },
      {
        "duration": 1440,
        "start_time": "2023-10-16T21:38:01.638Z"
      },
      {
        "duration": 5,
        "start_time": "2023-10-16T21:38:33.857Z"
      },
      {
        "duration": 82,
        "start_time": "2023-10-16T21:39:21.706Z"
      },
      {
        "duration": 151,
        "start_time": "2023-10-16T21:42:19.725Z"
      },
      {
        "duration": 157,
        "start_time": "2023-10-16T21:43:42.793Z"
      },
      {
        "duration": 321,
        "start_time": "2023-10-16T22:04:49.288Z"
      },
      {
        "duration": 225,
        "start_time": "2023-10-16T22:10:13.537Z"
      },
      {
        "duration": 1417,
        "start_time": "2023-10-16T22:11:57.838Z"
      },
      {
        "duration": 5,
        "start_time": "2023-10-16T22:12:40.670Z"
      },
      {
        "duration": 5,
        "start_time": "2023-10-16T22:12:40.679Z"
      },
      {
        "duration": 62,
        "start_time": "2023-10-16T22:12:40.685Z"
      },
      {
        "duration": 9,
        "start_time": "2023-10-16T22:12:40.750Z"
      },
      {
        "duration": 15,
        "start_time": "2023-10-16T22:12:40.761Z"
      },
      {
        "duration": 59,
        "start_time": "2023-10-16T22:12:40.778Z"
      },
      {
        "duration": 4,
        "start_time": "2023-10-16T22:12:40.840Z"
      },
      {
        "duration": 22,
        "start_time": "2023-10-16T22:12:40.846Z"
      },
      {
        "duration": 30,
        "start_time": "2023-10-16T22:12:40.870Z"
      },
      {
        "duration": 27,
        "start_time": "2023-10-16T22:12:40.904Z"
      },
      {
        "duration": 20,
        "start_time": "2023-10-16T22:12:40.933Z"
      },
      {
        "duration": 14,
        "start_time": "2023-10-16T22:12:40.955Z"
      },
      {
        "duration": 6,
        "start_time": "2023-10-16T22:12:40.973Z"
      },
      {
        "duration": 308,
        "start_time": "2023-10-16T22:12:40.980Z"
      },
      {
        "duration": 221,
        "start_time": "2023-10-16T22:12:41.290Z"
      },
      {
        "duration": 285,
        "start_time": "2023-10-16T22:12:41.512Z"
      },
      {
        "duration": 346,
        "start_time": "2023-10-16T22:12:41.799Z"
      },
      {
        "duration": 224,
        "start_time": "2023-10-16T22:12:42.147Z"
      },
      {
        "duration": 304,
        "start_time": "2023-10-16T22:12:42.373Z"
      },
      {
        "duration": 285,
        "start_time": "2023-10-16T22:12:42.679Z"
      },
      {
        "duration": 5,
        "start_time": "2023-10-16T22:12:42.966Z"
      },
      {
        "duration": 164,
        "start_time": "2023-10-16T22:12:42.973Z"
      },
      {
        "duration": 177,
        "start_time": "2023-10-16T22:12:43.138Z"
      },
      {
        "duration": 10,
        "start_time": "2023-10-16T22:12:43.317Z"
      },
      {
        "duration": 344,
        "start_time": "2023-10-16T22:14:30.282Z"
      },
      {
        "duration": 15,
        "start_time": "2023-10-16T22:27:55.957Z"
      },
      {
        "duration": 126,
        "start_time": "2023-10-16T22:28:32.661Z"
      },
      {
        "duration": 107,
        "start_time": "2023-10-16T22:36:46.438Z"
      },
      {
        "duration": 107,
        "start_time": "2023-10-16T22:38:14.588Z"
      },
      {
        "duration": 228,
        "start_time": "2023-10-16T22:38:30.610Z"
      },
      {
        "duration": 129,
        "start_time": "2023-10-16T22:41:36.699Z"
      },
      {
        "duration": 544,
        "start_time": "2023-10-16T22:41:41.873Z"
      },
      {
        "duration": 6,
        "start_time": "2023-10-16T22:41:42.419Z"
      },
      {
        "duration": 139,
        "start_time": "2023-10-16T22:41:42.427Z"
      },
      {
        "duration": 8,
        "start_time": "2023-10-16T22:41:42.569Z"
      },
      {
        "duration": 40,
        "start_time": "2023-10-16T22:41:42.579Z"
      },
      {
        "duration": 68,
        "start_time": "2023-10-16T22:41:42.621Z"
      },
      {
        "duration": 4,
        "start_time": "2023-10-16T22:41:42.690Z"
      },
      {
        "duration": 87,
        "start_time": "2023-10-16T22:41:42.695Z"
      },
      {
        "duration": 64,
        "start_time": "2023-10-16T22:41:42.784Z"
      },
      {
        "duration": 18,
        "start_time": "2023-10-16T22:41:42.851Z"
      },
      {
        "duration": 46,
        "start_time": "2023-10-16T22:41:42.871Z"
      },
      {
        "duration": 18,
        "start_time": "2023-10-16T22:41:42.919Z"
      },
      {
        "duration": 34,
        "start_time": "2023-10-16T22:41:42.939Z"
      },
      {
        "duration": 315,
        "start_time": "2023-10-16T22:41:42.976Z"
      },
      {
        "duration": 237,
        "start_time": "2023-10-16T22:41:43.292Z"
      },
      {
        "duration": 234,
        "start_time": "2023-10-16T22:41:43.531Z"
      },
      {
        "duration": 275,
        "start_time": "2023-10-16T22:41:43.767Z"
      },
      {
        "duration": 240,
        "start_time": "2023-10-16T22:41:44.043Z"
      },
      {
        "duration": 343,
        "start_time": "2023-10-16T22:41:44.285Z"
      },
      {
        "duration": 311,
        "start_time": "2023-10-16T22:41:44.630Z"
      },
      {
        "duration": 5,
        "start_time": "2023-10-16T22:41:44.943Z"
      },
      {
        "duration": 224,
        "start_time": "2023-10-16T22:41:44.950Z"
      },
      {
        "duration": 248,
        "start_time": "2023-10-16T22:41:45.176Z"
      },
      {
        "duration": 6,
        "start_time": "2023-10-16T22:41:45.425Z"
      },
      {
        "duration": 256,
        "start_time": "2023-10-16T22:41:45.432Z"
      },
      {
        "duration": 205,
        "start_time": "2023-10-16T22:41:45.690Z"
      },
      {
        "duration": 11,
        "start_time": "2023-10-16T22:45:14.109Z"
      },
      {
        "duration": 52,
        "start_time": "2023-10-17T22:21:53.714Z"
      },
      {
        "duration": 1377,
        "start_time": "2023-10-17T22:22:01.506Z"
      },
      {
        "duration": 3,
        "start_time": "2023-10-17T22:22:02.885Z"
      },
      {
        "duration": 99,
        "start_time": "2023-10-17T22:22:02.889Z"
      },
      {
        "duration": 9,
        "start_time": "2023-10-17T22:22:02.990Z"
      },
      {
        "duration": 56,
        "start_time": "2023-10-17T22:22:03.002Z"
      },
      {
        "duration": 99,
        "start_time": "2023-10-17T22:22:03.060Z"
      },
      {
        "duration": 4,
        "start_time": "2023-10-17T22:22:03.161Z"
      },
      {
        "duration": 49,
        "start_time": "2023-10-17T22:22:03.167Z"
      },
      {
        "duration": 66,
        "start_time": "2023-10-17T22:22:03.218Z"
      },
      {
        "duration": 13,
        "start_time": "2023-10-17T22:22:03.286Z"
      },
      {
        "duration": 26,
        "start_time": "2023-10-17T22:22:03.301Z"
      },
      {
        "duration": 34,
        "start_time": "2023-10-17T22:22:03.329Z"
      },
      {
        "duration": 23,
        "start_time": "2023-10-17T22:22:03.365Z"
      },
      {
        "duration": 283,
        "start_time": "2023-10-17T22:22:03.391Z"
      },
      {
        "duration": 307,
        "start_time": "2023-10-17T22:22:03.676Z"
      },
      {
        "duration": 228,
        "start_time": "2023-10-17T22:22:03.985Z"
      },
      {
        "duration": 346,
        "start_time": "2023-10-17T22:22:04.215Z"
      },
      {
        "duration": 266,
        "start_time": "2023-10-17T22:22:04.563Z"
      },
      {
        "duration": 303,
        "start_time": "2023-10-17T22:22:04.831Z"
      },
      {
        "duration": 318,
        "start_time": "2023-10-17T22:22:05.136Z"
      },
      {
        "duration": 5,
        "start_time": "2023-10-17T22:22:05.455Z"
      },
      {
        "duration": 181,
        "start_time": "2023-10-17T22:22:05.461Z"
      },
      {
        "duration": 170,
        "start_time": "2023-10-17T22:22:05.644Z"
      },
      {
        "duration": 5,
        "start_time": "2023-10-17T22:22:05.816Z"
      },
      {
        "duration": 321,
        "start_time": "2023-10-17T22:22:05.823Z"
      },
      {
        "duration": 164,
        "start_time": "2023-10-17T22:22:06.145Z"
      },
      {
        "duration": 12,
        "start_time": "2023-10-17T22:22:06.311Z"
      },
      {
        "duration": 1642,
        "start_time": "2023-10-17T22:22:06.325Z"
      },
      {
        "duration": 1875,
        "start_time": "2023-10-17T22:22:41.119Z"
      },
      {
        "duration": 9,
        "start_time": "2023-10-17T22:22:57.164Z"
      },
      {
        "duration": 1555,
        "start_time": "2023-10-17T22:27:08.953Z"
      },
      {
        "duration": 9,
        "start_time": "2023-10-17T22:27:31.821Z"
      },
      {
        "duration": 27,
        "start_time": "2023-10-17T22:28:03.724Z"
      },
      {
        "duration": 14,
        "start_time": "2023-10-17T22:30:25.386Z"
      },
      {
        "duration": 1353,
        "start_time": "2023-10-18T17:16:20.851Z"
      },
      {
        "duration": 3,
        "start_time": "2023-10-18T17:16:22.206Z"
      },
      {
        "duration": 93,
        "start_time": "2023-10-18T17:16:22.211Z"
      },
      {
        "duration": 10,
        "start_time": "2023-10-18T17:16:22.305Z"
      },
      {
        "duration": 6,
        "start_time": "2023-10-18T17:16:22.318Z"
      },
      {
        "duration": 106,
        "start_time": "2023-10-18T17:16:22.326Z"
      },
      {
        "duration": 4,
        "start_time": "2023-10-18T17:16:22.434Z"
      },
      {
        "duration": 30,
        "start_time": "2023-10-18T17:16:22.440Z"
      },
      {
        "duration": 89,
        "start_time": "2023-10-18T17:16:22.472Z"
      },
      {
        "duration": 12,
        "start_time": "2023-10-18T17:16:22.563Z"
      },
      {
        "duration": 19,
        "start_time": "2023-10-18T17:16:22.577Z"
      },
      {
        "duration": 11,
        "start_time": "2023-10-18T17:16:22.598Z"
      },
      {
        "duration": 5,
        "start_time": "2023-10-18T17:16:22.611Z"
      },
      {
        "duration": 349,
        "start_time": "2023-10-18T17:16:22.619Z"
      },
      {
        "duration": 290,
        "start_time": "2023-10-18T17:16:22.970Z"
      },
      {
        "duration": 310,
        "start_time": "2023-10-18T17:16:23.262Z"
      },
      {
        "duration": 342,
        "start_time": "2023-10-18T17:16:23.578Z"
      },
      {
        "duration": 200,
        "start_time": "2023-10-18T17:16:23.921Z"
      },
      {
        "duration": 209,
        "start_time": "2023-10-18T17:16:24.123Z"
      },
      {
        "duration": 320,
        "start_time": "2023-10-18T17:16:24.334Z"
      },
      {
        "duration": 264,
        "start_time": "2023-10-18T17:16:24.658Z"
      },
      {
        "duration": 4,
        "start_time": "2023-10-18T17:16:24.923Z"
      },
      {
        "duration": 140,
        "start_time": "2023-10-18T17:16:24.939Z"
      },
      {
        "duration": 203,
        "start_time": "2023-10-18T17:16:25.080Z"
      },
      {
        "duration": 5,
        "start_time": "2023-10-18T17:16:25.285Z"
      },
      {
        "duration": 220,
        "start_time": "2023-10-18T17:16:25.291Z"
      },
      {
        "duration": 150,
        "start_time": "2023-10-18T17:16:25.512Z"
      },
      {
        "duration": 10,
        "start_time": "2023-10-18T17:16:25.663Z"
      },
      {
        "duration": 18,
        "start_time": "2023-10-18T17:16:25.675Z"
      },
      {
        "duration": 14,
        "start_time": "2023-10-18T17:16:25.695Z"
      },
      {
        "duration": 26,
        "start_time": "2023-10-18T17:16:25.710Z"
      },
      {
        "duration": 17,
        "start_time": "2023-10-18T17:16:25.739Z"
      },
      {
        "duration": 14,
        "start_time": "2023-10-18T17:28:25.763Z"
      },
      {
        "duration": 6,
        "start_time": "2023-10-18T17:41:39.479Z"
      },
      {
        "duration": 6,
        "start_time": "2023-10-18T17:41:45.468Z"
      },
      {
        "duration": 1316,
        "start_time": "2023-10-18T22:16:00.385Z"
      },
      {
        "duration": 3,
        "start_time": "2023-10-18T22:16:01.703Z"
      },
      {
        "duration": 138,
        "start_time": "2023-10-18T22:16:01.707Z"
      },
      {
        "duration": 8,
        "start_time": "2023-10-18T22:16:01.847Z"
      },
      {
        "duration": 56,
        "start_time": "2023-10-18T22:16:01.857Z"
      },
      {
        "duration": 46,
        "start_time": "2023-10-18T22:16:01.915Z"
      },
      {
        "duration": 144,
        "start_time": "2023-10-18T22:16:01.962Z"
      },
      {
        "duration": 3,
        "start_time": "2023-10-18T22:16:02.108Z"
      },
      {
        "duration": 68,
        "start_time": "2023-10-18T22:16:02.113Z"
      },
      {
        "duration": 103,
        "start_time": "2023-10-18T22:16:02.183Z"
      },
      {
        "duration": 11,
        "start_time": "2023-10-18T22:16:02.288Z"
      },
      {
        "duration": 26,
        "start_time": "2023-10-18T22:16:02.301Z"
      },
      {
        "duration": 33,
        "start_time": "2023-10-18T22:16:02.329Z"
      },
      {
        "duration": 17,
        "start_time": "2023-10-18T22:16:02.364Z"
      },
      {
        "duration": 312,
        "start_time": "2023-10-18T22:16:02.383Z"
      },
      {
        "duration": 297,
        "start_time": "2023-10-18T22:16:02.697Z"
      },
      {
        "duration": 236,
        "start_time": "2023-10-18T22:16:02.996Z"
      },
      {
        "duration": 388,
        "start_time": "2023-10-18T22:16:03.234Z"
      },
      {
        "duration": 220,
        "start_time": "2023-10-18T22:16:03.623Z"
      },
      {
        "duration": 280,
        "start_time": "2023-10-18T22:16:03.845Z"
      },
      {
        "duration": 341,
        "start_time": "2023-10-18T22:16:04.126Z"
      },
      {
        "duration": 5,
        "start_time": "2023-10-18T22:16:04.469Z"
      },
      {
        "duration": 205,
        "start_time": "2023-10-18T22:16:04.476Z"
      },
      {
        "duration": 179,
        "start_time": "2023-10-18T22:16:04.684Z"
      },
      {
        "duration": 6,
        "start_time": "2023-10-18T22:16:04.865Z"
      },
      {
        "duration": 318,
        "start_time": "2023-10-18T22:16:04.873Z"
      },
      {
        "duration": 149,
        "start_time": "2023-10-18T22:16:05.192Z"
      },
      {
        "duration": 10,
        "start_time": "2023-10-18T22:16:05.344Z"
      },
      {
        "duration": 22,
        "start_time": "2023-10-18T22:16:05.355Z"
      },
      {
        "duration": 10,
        "start_time": "2023-10-18T22:16:05.379Z"
      },
      {
        "duration": 35,
        "start_time": "2023-10-18T22:16:05.391Z"
      },
      {
        "duration": 13,
        "start_time": "2023-10-18T22:16:05.428Z"
      },
      {
        "duration": 1299,
        "start_time": "2023-10-19T01:27:42.877Z"
      },
      {
        "duration": 2,
        "start_time": "2023-10-19T01:27:44.178Z"
      },
      {
        "duration": 101,
        "start_time": "2023-10-19T01:27:44.182Z"
      },
      {
        "duration": 9,
        "start_time": "2023-10-19T01:27:44.285Z"
      },
      {
        "duration": 17,
        "start_time": "2023-10-19T01:27:44.297Z"
      },
      {
        "duration": 24,
        "start_time": "2023-10-19T01:27:44.316Z"
      },
      {
        "duration": 100,
        "start_time": "2023-10-19T01:27:44.341Z"
      },
      {
        "duration": 4,
        "start_time": "2023-10-19T01:27:44.442Z"
      },
      {
        "duration": 37,
        "start_time": "2023-10-19T01:27:44.447Z"
      },
      {
        "duration": 73,
        "start_time": "2023-10-19T01:27:44.486Z"
      },
      {
        "duration": 15,
        "start_time": "2023-10-19T01:27:44.561Z"
      },
      {
        "duration": 22,
        "start_time": "2023-10-19T01:27:44.578Z"
      },
      {
        "duration": 25,
        "start_time": "2023-10-19T01:27:44.603Z"
      },
      {
        "duration": 6,
        "start_time": "2023-10-19T01:27:44.631Z"
      },
      {
        "duration": 313,
        "start_time": "2023-10-19T01:27:44.639Z"
      },
      {
        "duration": 301,
        "start_time": "2023-10-19T01:27:44.953Z"
      },
      {
        "duration": 222,
        "start_time": "2023-10-19T01:27:45.256Z"
      },
      {
        "duration": 373,
        "start_time": "2023-10-19T01:27:45.480Z"
      },
      {
        "duration": 225,
        "start_time": "2023-10-19T01:27:45.855Z"
      },
      {
        "duration": 335,
        "start_time": "2023-10-19T01:27:46.082Z"
      },
      {
        "duration": 313,
        "start_time": "2023-10-19T01:27:46.419Z"
      },
      {
        "duration": 4,
        "start_time": "2023-10-19T01:27:46.734Z"
      },
      {
        "duration": 282,
        "start_time": "2023-10-19T01:27:46.740Z"
      },
      {
        "duration": 169,
        "start_time": "2023-10-19T01:27:47.024Z"
      },
      {
        "duration": 9,
        "start_time": "2023-10-19T01:27:47.195Z"
      },
      {
        "duration": 320,
        "start_time": "2023-10-19T01:27:47.205Z"
      },
      {
        "duration": 194,
        "start_time": "2023-10-19T01:27:47.526Z"
      },
      {
        "duration": 10,
        "start_time": "2023-10-19T01:27:47.722Z"
      },
      {
        "duration": 9,
        "start_time": "2023-10-19T01:27:47.734Z"
      },
      {
        "duration": 11,
        "start_time": "2023-10-19T01:27:47.745Z"
      },
      {
        "duration": 47,
        "start_time": "2023-10-19T01:27:47.758Z"
      },
      {
        "duration": 13,
        "start_time": "2023-10-19T01:27:47.807Z"
      },
      {
        "duration": 10,
        "start_time": "2023-10-19T02:13:40.165Z"
      },
      {
        "duration": 1140,
        "start_time": "2023-10-19T02:13:47.265Z"
      },
      {
        "duration": 2,
        "start_time": "2023-10-19T02:13:48.407Z"
      },
      {
        "duration": 58,
        "start_time": "2023-10-19T02:13:48.411Z"
      },
      {
        "duration": 8,
        "start_time": "2023-10-19T02:13:48.471Z"
      },
      {
        "duration": 5,
        "start_time": "2023-10-19T02:13:48.481Z"
      },
      {
        "duration": 20,
        "start_time": "2023-10-19T02:13:48.488Z"
      },
      {
        "duration": 68,
        "start_time": "2023-10-19T02:13:48.510Z"
      },
      {
        "duration": 3,
        "start_time": "2023-10-19T02:13:48.579Z"
      },
      {
        "duration": 36,
        "start_time": "2023-10-19T02:13:48.584Z"
      },
      {
        "duration": 29,
        "start_time": "2023-10-19T02:13:48.622Z"
      },
      {
        "duration": 11,
        "start_time": "2023-10-19T02:13:48.653Z"
      },
      {
        "duration": 31,
        "start_time": "2023-10-19T02:13:48.666Z"
      },
      {
        "duration": 22,
        "start_time": "2023-10-19T02:13:48.699Z"
      },
      {
        "duration": 25,
        "start_time": "2023-10-19T02:13:48.723Z"
      },
      {
        "duration": 285,
        "start_time": "2023-10-19T02:13:48.750Z"
      },
      {
        "duration": 300,
        "start_time": "2023-10-19T02:13:49.037Z"
      },
      {
        "duration": 215,
        "start_time": "2023-10-19T02:13:49.338Z"
      },
      {
        "duration": 303,
        "start_time": "2023-10-19T02:13:49.554Z"
      },
      {
        "duration": 222,
        "start_time": "2023-10-19T02:13:49.860Z"
      },
      {
        "duration": 322,
        "start_time": "2023-10-19T02:13:50.084Z"
      },
      {
        "duration": 282,
        "start_time": "2023-10-19T02:13:50.408Z"
      },
      {
        "duration": 11,
        "start_time": "2023-10-19T02:13:50.692Z"
      },
      {
        "duration": 164,
        "start_time": "2023-10-19T02:13:50.705Z"
      },
      {
        "duration": 173,
        "start_time": "2023-10-19T02:13:50.871Z"
      },
      {
        "duration": 7,
        "start_time": "2023-10-19T02:13:51.047Z"
      },
      {
        "duration": 317,
        "start_time": "2023-10-19T02:13:51.056Z"
      },
      {
        "duration": 150,
        "start_time": "2023-10-19T02:13:51.375Z"
      },
      {
        "duration": 10,
        "start_time": "2023-10-19T02:13:51.528Z"
      },
      {
        "duration": 11,
        "start_time": "2023-10-19T02:13:51.540Z"
      },
      {
        "duration": 15,
        "start_time": "2023-10-19T02:13:51.553Z"
      },
      {
        "duration": 40,
        "start_time": "2023-10-19T02:13:51.570Z"
      },
      {
        "duration": 13,
        "start_time": "2023-10-19T02:13:51.612Z"
      },
      {
        "duration": 1110,
        "start_time": "2023-10-19T02:30:21.267Z"
      },
      {
        "duration": 3,
        "start_time": "2023-10-19T02:30:22.379Z"
      },
      {
        "duration": 55,
        "start_time": "2023-10-19T02:30:22.383Z"
      },
      {
        "duration": 8,
        "start_time": "2023-10-19T02:30:22.440Z"
      },
      {
        "duration": 9,
        "start_time": "2023-10-19T02:30:22.450Z"
      },
      {
        "duration": 19,
        "start_time": "2023-10-19T02:30:22.460Z"
      },
      {
        "duration": 64,
        "start_time": "2023-10-19T02:30:22.481Z"
      },
      {
        "duration": 6,
        "start_time": "2023-10-19T02:30:22.549Z"
      },
      {
        "duration": 30,
        "start_time": "2023-10-19T02:30:22.557Z"
      },
      {
        "duration": 28,
        "start_time": "2023-10-19T02:30:22.589Z"
      },
      {
        "duration": 10,
        "start_time": "2023-10-19T02:30:22.619Z"
      },
      {
        "duration": 17,
        "start_time": "2023-10-19T02:30:22.631Z"
      },
      {
        "duration": 20,
        "start_time": "2023-10-19T02:30:22.650Z"
      },
      {
        "duration": 26,
        "start_time": "2023-10-19T02:30:22.673Z"
      },
      {
        "duration": 276,
        "start_time": "2023-10-19T02:30:22.701Z"
      },
      {
        "duration": 281,
        "start_time": "2023-10-19T02:30:22.979Z"
      },
      {
        "duration": 231,
        "start_time": "2023-10-19T02:30:23.262Z"
      },
      {
        "duration": 321,
        "start_time": "2023-10-19T02:30:23.495Z"
      },
      {
        "duration": 222,
        "start_time": "2023-10-19T02:30:23.818Z"
      },
      {
        "duration": 306,
        "start_time": "2023-10-19T02:30:24.041Z"
      },
      {
        "duration": 293,
        "start_time": "2023-10-19T02:30:24.349Z"
      },
      {
        "duration": 7,
        "start_time": "2023-10-19T02:30:24.644Z"
      },
      {
        "duration": 183,
        "start_time": "2023-10-19T02:30:24.653Z"
      },
      {
        "duration": 171,
        "start_time": "2023-10-19T02:30:24.838Z"
      },
      {
        "duration": 6,
        "start_time": "2023-10-19T02:30:25.010Z"
      },
      {
        "duration": 313,
        "start_time": "2023-10-19T02:30:25.017Z"
      },
      {
        "duration": 176,
        "start_time": "2023-10-19T02:30:25.331Z"
      },
      {
        "duration": 10,
        "start_time": "2023-10-19T02:30:25.509Z"
      },
      {
        "duration": 10,
        "start_time": "2023-10-19T02:30:25.521Z"
      },
      {
        "duration": 11,
        "start_time": "2023-10-19T02:30:25.532Z"
      },
      {
        "duration": 45,
        "start_time": "2023-10-19T02:30:25.545Z"
      },
      {
        "duration": 19,
        "start_time": "2023-10-19T02:30:25.592Z"
      },
      {
        "duration": 1164,
        "start_time": "2023-10-19T02:31:14.206Z"
      },
      {
        "duration": 3,
        "start_time": "2023-10-19T02:31:15.372Z"
      },
      {
        "duration": 82,
        "start_time": "2023-10-19T02:31:15.377Z"
      },
      {
        "duration": 8,
        "start_time": "2023-10-19T02:31:15.461Z"
      },
      {
        "duration": 25,
        "start_time": "2023-10-19T02:31:15.471Z"
      },
      {
        "duration": 24,
        "start_time": "2023-10-19T02:31:15.498Z"
      },
      {
        "duration": 97,
        "start_time": "2023-10-19T02:31:15.524Z"
      },
      {
        "duration": 3,
        "start_time": "2023-10-19T02:31:15.623Z"
      },
      {
        "duration": 41,
        "start_time": "2023-10-19T02:31:15.628Z"
      },
      {
        "duration": 49,
        "start_time": "2023-10-19T02:31:15.671Z"
      },
      {
        "duration": 10,
        "start_time": "2023-10-19T02:31:15.721Z"
      },
      {
        "duration": 27,
        "start_time": "2023-10-19T02:31:15.733Z"
      },
      {
        "duration": 26,
        "start_time": "2023-10-19T02:31:15.762Z"
      },
      {
        "duration": 16,
        "start_time": "2023-10-19T02:31:15.791Z"
      },
      {
        "duration": 278,
        "start_time": "2023-10-19T02:31:15.808Z"
      },
      {
        "duration": 294,
        "start_time": "2023-10-19T02:31:16.088Z"
      },
      {
        "duration": 219,
        "start_time": "2023-10-19T02:31:16.384Z"
      },
      {
        "duration": 305,
        "start_time": "2023-10-19T02:31:16.605Z"
      },
      {
        "duration": 226,
        "start_time": "2023-10-19T02:31:16.912Z"
      },
      {
        "duration": 289,
        "start_time": "2023-10-19T02:31:17.139Z"
      },
      {
        "duration": 290,
        "start_time": "2023-10-19T02:31:17.430Z"
      },
      {
        "duration": 4,
        "start_time": "2023-10-19T02:31:17.722Z"
      },
      {
        "duration": 179,
        "start_time": "2023-10-19T02:31:17.728Z"
      },
      {
        "duration": 168,
        "start_time": "2023-10-19T02:31:17.909Z"
      },
      {
        "duration": 5,
        "start_time": "2023-10-19T02:31:18.079Z"
      },
      {
        "duration": 318,
        "start_time": "2023-10-19T02:31:18.085Z"
      },
      {
        "duration": 171,
        "start_time": "2023-10-19T02:31:18.405Z"
      },
      {
        "duration": 10,
        "start_time": "2023-10-19T02:31:18.578Z"
      },
      {
        "duration": 18,
        "start_time": "2023-10-19T02:31:18.590Z"
      },
      {
        "duration": 10,
        "start_time": "2023-10-19T02:31:18.609Z"
      },
      {
        "duration": 29,
        "start_time": "2023-10-19T02:31:18.621Z"
      },
      {
        "duration": 13,
        "start_time": "2023-10-19T02:31:18.652Z"
      },
      {
        "duration": 54,
        "start_time": "2023-10-19T16:47:09.403Z"
      },
      {
        "duration": 1273,
        "start_time": "2023-10-19T16:47:14.511Z"
      },
      {
        "duration": 2,
        "start_time": "2023-10-19T16:47:15.786Z"
      },
      {
        "duration": 109,
        "start_time": "2023-10-19T16:47:15.790Z"
      },
      {
        "duration": 9,
        "start_time": "2023-10-19T16:47:15.901Z"
      },
      {
        "duration": 32,
        "start_time": "2023-10-19T16:47:15.912Z"
      },
      {
        "duration": 22,
        "start_time": "2023-10-19T16:47:15.946Z"
      },
      {
        "duration": 116,
        "start_time": "2023-10-19T16:47:15.970Z"
      },
      {
        "duration": 4,
        "start_time": "2023-10-19T16:47:16.089Z"
      },
      {
        "duration": 23,
        "start_time": "2023-10-19T16:47:16.095Z"
      },
      {
        "duration": 72,
        "start_time": "2023-10-19T16:47:16.122Z"
      },
      {
        "duration": 10,
        "start_time": "2023-10-19T16:47:16.196Z"
      },
      {
        "duration": 24,
        "start_time": "2023-10-19T16:47:16.208Z"
      },
      {
        "duration": 12,
        "start_time": "2023-10-19T16:47:16.233Z"
      },
      {
        "duration": 19,
        "start_time": "2023-10-19T16:47:16.246Z"
      },
      {
        "duration": 286,
        "start_time": "2023-10-19T16:47:16.266Z"
      },
      {
        "duration": 286,
        "start_time": "2023-10-19T16:47:16.554Z"
      },
      {
        "duration": 214,
        "start_time": "2023-10-19T16:47:16.842Z"
      },
      {
        "duration": 397,
        "start_time": "2023-10-19T16:47:17.057Z"
      },
      {
        "duration": 207,
        "start_time": "2023-10-19T16:47:17.456Z"
      },
      {
        "duration": 278,
        "start_time": "2023-10-19T16:47:17.664Z"
      },
      {
        "duration": 273,
        "start_time": "2023-10-19T16:47:17.943Z"
      },
      {
        "duration": 5,
        "start_time": "2023-10-19T16:47:18.217Z"
      },
      {
        "duration": 145,
        "start_time": "2023-10-19T16:47:18.223Z"
      },
      {
        "duration": 159,
        "start_time": "2023-10-19T16:47:18.369Z"
      },
      {
        "duration": 5,
        "start_time": "2023-10-19T16:47:18.529Z"
      },
      {
        "duration": 299,
        "start_time": "2023-10-19T16:47:18.536Z"
      },
      {
        "duration": 150,
        "start_time": "2023-10-19T16:47:18.836Z"
      },
      {
        "duration": 19,
        "start_time": "2023-10-19T16:47:18.989Z"
      },
      {
        "duration": 8,
        "start_time": "2023-10-19T16:47:19.010Z"
      },
      {
        "duration": 10,
        "start_time": "2023-10-19T16:47:19.020Z"
      },
      {
        "duration": 27,
        "start_time": "2023-10-19T16:47:19.032Z"
      },
      {
        "duration": 14,
        "start_time": "2023-10-19T16:47:19.060Z"
      },
      {
        "duration": 10,
        "start_time": "2023-10-19T17:20:25.407Z"
      },
      {
        "duration": 7,
        "start_time": "2023-10-19T17:21:45.405Z"
      },
      {
        "duration": 5,
        "start_time": "2023-10-19T17:22:32.002Z"
      },
      {
        "duration": 6,
        "start_time": "2023-10-19T17:22:48.853Z"
      },
      {
        "duration": 3,
        "start_time": "2023-10-19T17:37:07.366Z"
      },
      {
        "duration": 12,
        "start_time": "2023-10-19T17:37:07.375Z"
      },
      {
        "duration": 50,
        "start_time": "2023-10-19T17:37:07.389Z"
      },
      {
        "duration": 8,
        "start_time": "2023-10-19T17:37:07.441Z"
      },
      {
        "duration": 16,
        "start_time": "2023-10-19T17:37:07.450Z"
      },
      {
        "duration": 21,
        "start_time": "2023-10-19T17:37:07.468Z"
      },
      {
        "duration": 51,
        "start_time": "2023-10-19T17:37:07.491Z"
      },
      {
        "duration": 4,
        "start_time": "2023-10-19T17:37:07.544Z"
      },
      {
        "duration": 19,
        "start_time": "2023-10-19T17:37:07.549Z"
      },
      {
        "duration": 6,
        "start_time": "2023-10-19T17:37:07.569Z"
      },
      {
        "duration": 14,
        "start_time": "2023-10-19T17:37:07.577Z"
      },
      {
        "duration": 45,
        "start_time": "2023-10-19T17:37:07.593Z"
      },
      {
        "duration": 10,
        "start_time": "2023-10-19T17:37:07.640Z"
      },
      {
        "duration": 9,
        "start_time": "2023-10-19T17:37:07.652Z"
      },
      {
        "duration": 35,
        "start_time": "2023-10-19T17:37:07.663Z"
      },
      {
        "duration": 21,
        "start_time": "2023-10-19T17:37:07.700Z"
      },
      {
        "duration": 54,
        "start_time": "2023-10-19T17:37:07.723Z"
      },
      {
        "duration": 10,
        "start_time": "2023-10-19T17:37:07.779Z"
      },
      {
        "duration": 286,
        "start_time": "2023-10-19T17:37:07.790Z"
      },
      {
        "duration": 200,
        "start_time": "2023-10-19T17:37:08.078Z"
      },
      {
        "duration": 211,
        "start_time": "2023-10-19T17:37:08.280Z"
      },
      {
        "duration": 317,
        "start_time": "2023-10-19T17:37:08.492Z"
      },
      {
        "duration": 234,
        "start_time": "2023-10-19T17:37:08.811Z"
      },
      {
        "duration": 305,
        "start_time": "2023-10-19T17:37:09.046Z"
      },
      {
        "duration": 307,
        "start_time": "2023-10-19T17:37:09.353Z"
      },
      {
        "duration": 5,
        "start_time": "2023-10-19T17:37:09.662Z"
      },
      {
        "duration": 183,
        "start_time": "2023-10-19T17:37:09.668Z"
      },
      {
        "duration": 160,
        "start_time": "2023-10-19T17:37:09.853Z"
      },
      {
        "duration": 7,
        "start_time": "2023-10-19T17:37:10.015Z"
      },
      {
        "duration": 237,
        "start_time": "2023-10-19T17:37:10.026Z"
      },
      {
        "duration": 11,
        "start_time": "2023-10-19T17:37:10.265Z"
      },
      {
        "duration": 20,
        "start_time": "2023-10-19T17:37:10.278Z"
      },
      {
        "duration": 17,
        "start_time": "2023-10-19T17:37:10.307Z"
      },
      {
        "duration": 38,
        "start_time": "2023-10-19T17:37:10.326Z"
      },
      {
        "duration": 18,
        "start_time": "2023-10-19T17:37:10.366Z"
      },
      {
        "duration": 222,
        "start_time": "2023-10-19T17:37:56.966Z"
      },
      {
        "duration": 26,
        "start_time": "2023-10-19T17:47:25.251Z"
      },
      {
        "duration": 23,
        "start_time": "2023-10-19T17:47:45.326Z"
      },
      {
        "duration": 3,
        "start_time": "2023-10-19T17:47:55.006Z"
      },
      {
        "duration": 8,
        "start_time": "2023-10-19T17:47:55.013Z"
      },
      {
        "duration": 64,
        "start_time": "2023-10-19T17:47:55.022Z"
      },
      {
        "duration": 7,
        "start_time": "2023-10-19T17:47:55.087Z"
      },
      {
        "duration": 26,
        "start_time": "2023-10-19T17:47:55.095Z"
      },
      {
        "duration": 19,
        "start_time": "2023-10-19T17:47:55.122Z"
      },
      {
        "duration": 53,
        "start_time": "2023-10-19T17:47:55.143Z"
      },
      {
        "duration": 3,
        "start_time": "2023-10-19T17:47:55.198Z"
      },
      {
        "duration": 23,
        "start_time": "2023-10-19T17:47:55.203Z"
      },
      {
        "duration": 7,
        "start_time": "2023-10-19T17:47:55.228Z"
      },
      {
        "duration": 8,
        "start_time": "2023-10-19T17:47:55.237Z"
      },
      {
        "duration": 38,
        "start_time": "2023-10-19T17:47:55.247Z"
      },
      {
        "duration": 10,
        "start_time": "2023-10-19T17:47:55.287Z"
      },
      {
        "duration": 15,
        "start_time": "2023-10-19T17:47:55.299Z"
      },
      {
        "duration": 11,
        "start_time": "2023-10-19T17:47:55.315Z"
      },
      {
        "duration": 18,
        "start_time": "2023-10-19T17:47:55.328Z"
      },
      {
        "duration": 17,
        "start_time": "2023-10-19T17:47:55.347Z"
      },
      {
        "duration": 21,
        "start_time": "2023-10-19T17:47:55.365Z"
      },
      {
        "duration": 283,
        "start_time": "2023-10-19T17:47:55.388Z"
      },
      {
        "duration": 209,
        "start_time": "2023-10-19T17:47:55.673Z"
      },
      {
        "duration": 331,
        "start_time": "2023-10-19T17:47:55.885Z"
      },
      {
        "duration": 314,
        "start_time": "2023-10-19T17:47:56.217Z"
      },
      {
        "duration": 237,
        "start_time": "2023-10-19T17:47:56.533Z"
      },
      {
        "duration": 329,
        "start_time": "2023-10-19T17:47:56.772Z"
      },
      {
        "duration": 281,
        "start_time": "2023-10-19T17:47:57.107Z"
      },
      {
        "duration": 5,
        "start_time": "2023-10-19T17:47:57.389Z"
      },
      {
        "duration": 172,
        "start_time": "2023-10-19T17:47:57.395Z"
      },
      {
        "duration": 160,
        "start_time": "2023-10-19T17:47:57.569Z"
      },
      {
        "duration": 4,
        "start_time": "2023-10-19T17:47:57.731Z"
      },
      {
        "duration": 24,
        "start_time": "2023-10-19T17:47:57.738Z"
      },
      {
        "duration": 10,
        "start_time": "2023-10-19T17:47:57.763Z"
      },
      {
        "duration": 34,
        "start_time": "2023-10-19T17:47:57.774Z"
      },
      {
        "duration": 9,
        "start_time": "2023-10-19T17:47:57.810Z"
      },
      {
        "duration": 25,
        "start_time": "2023-10-19T17:47:57.821Z"
      },
      {
        "duration": 13,
        "start_time": "2023-10-19T17:47:57.847Z"
      },
      {
        "duration": 71,
        "start_time": "2023-10-19T18:02:43.217Z"
      },
      {
        "duration": 42,
        "start_time": "2023-10-19T18:02:57.416Z"
      },
      {
        "duration": 27,
        "start_time": "2023-10-19T18:07:01.771Z"
      },
      {
        "duration": 2,
        "start_time": "2023-10-19T18:07:52.879Z"
      },
      {
        "duration": 11,
        "start_time": "2023-10-19T18:10:35.160Z"
      },
      {
        "duration": 12,
        "start_time": "2023-10-19T18:11:02.921Z"
      },
      {
        "duration": 26,
        "start_time": "2023-10-19T18:13:13.361Z"
      },
      {
        "duration": 17,
        "start_time": "2023-10-19T18:14:39.407Z"
      },
      {
        "duration": 13,
        "start_time": "2023-10-19T18:15:12.672Z"
      },
      {
        "duration": 11,
        "start_time": "2023-10-19T18:15:42.593Z"
      },
      {
        "duration": 1159,
        "start_time": "2023-10-20T10:48:42.776Z"
      },
      {
        "duration": 3,
        "start_time": "2023-10-20T10:48:43.937Z"
      },
      {
        "duration": 56,
        "start_time": "2023-10-20T10:48:43.943Z"
      },
      {
        "duration": 8,
        "start_time": "2023-10-20T10:48:44.001Z"
      },
      {
        "duration": 28,
        "start_time": "2023-10-20T10:48:44.011Z"
      },
      {
        "duration": 21,
        "start_time": "2023-10-20T10:48:44.040Z"
      },
      {
        "duration": 51,
        "start_time": "2023-10-20T10:48:44.063Z"
      },
      {
        "duration": 3,
        "start_time": "2023-10-20T10:48:44.116Z"
      },
      {
        "duration": 37,
        "start_time": "2023-10-20T10:48:44.120Z"
      },
      {
        "duration": 8,
        "start_time": "2023-10-20T10:48:44.159Z"
      },
      {
        "duration": 25,
        "start_time": "2023-10-20T10:48:44.169Z"
      },
      {
        "duration": 28,
        "start_time": "2023-10-20T10:48:44.195Z"
      },
      {
        "duration": 10,
        "start_time": "2023-10-20T10:48:44.225Z"
      },
      {
        "duration": 5,
        "start_time": "2023-10-20T10:48:44.238Z"
      },
      {
        "duration": 13,
        "start_time": "2023-10-20T10:48:44.244Z"
      },
      {
        "duration": 23,
        "start_time": "2023-10-20T10:48:44.258Z"
      },
      {
        "duration": 24,
        "start_time": "2023-10-20T10:48:44.283Z"
      },
      {
        "duration": 25,
        "start_time": "2023-10-20T10:48:44.309Z"
      },
      {
        "duration": 350,
        "start_time": "2023-10-20T10:48:44.336Z"
      },
      {
        "duration": 291,
        "start_time": "2023-10-20T10:48:44.687Z"
      },
      {
        "duration": 233,
        "start_time": "2023-10-20T10:48:44.980Z"
      },
      {
        "duration": 334,
        "start_time": "2023-10-20T10:48:45.214Z"
      },
      {
        "duration": 240,
        "start_time": "2023-10-20T10:48:45.550Z"
      },
      {
        "duration": 290,
        "start_time": "2023-10-20T10:48:45.791Z"
      },
      {
        "duration": 319,
        "start_time": "2023-10-20T10:48:46.083Z"
      },
      {
        "duration": 8,
        "start_time": "2023-10-20T10:48:46.405Z"
      },
      {
        "duration": 179,
        "start_time": "2023-10-20T10:48:46.416Z"
      },
      {
        "duration": 174,
        "start_time": "2023-10-20T10:48:46.597Z"
      },
      {
        "duration": 6,
        "start_time": "2023-10-20T10:48:46.773Z"
      },
      {
        "duration": 39,
        "start_time": "2023-10-20T10:48:46.782Z"
      },
      {
        "duration": 139,
        "start_time": "2023-10-20T10:48:46.823Z"
      },
      {
        "duration": 0,
        "start_time": "2023-10-20T10:48:46.964Z"
      },
      {
        "duration": 0,
        "start_time": "2023-10-20T10:48:46.966Z"
      },
      {
        "duration": 0,
        "start_time": "2023-10-20T10:48:46.967Z"
      },
      {
        "duration": 0,
        "start_time": "2023-10-20T10:48:46.968Z"
      },
      {
        "duration": 0,
        "start_time": "2023-10-20T10:48:46.970Z"
      },
      {
        "duration": 4,
        "start_time": "2023-10-20T10:50:09.083Z"
      },
      {
        "duration": 14,
        "start_time": "2023-10-20T11:07:01.557Z"
      },
      {
        "duration": 15,
        "start_time": "2023-10-20T11:07:09.900Z"
      },
      {
        "duration": 76,
        "start_time": "2023-10-20T11:07:15.383Z"
      },
      {
        "duration": 59,
        "start_time": "2023-10-20T11:07:32.269Z"
      },
      {
        "duration": 89,
        "start_time": "2023-10-20T11:07:37.389Z"
      },
      {
        "duration": 1180,
        "start_time": "2023-10-20T11:24:53.919Z"
      },
      {
        "duration": 3,
        "start_time": "2023-10-20T11:24:55.101Z"
      },
      {
        "duration": 139,
        "start_time": "2023-10-20T11:24:55.105Z"
      },
      {
        "duration": 9,
        "start_time": "2023-10-20T11:24:55.246Z"
      },
      {
        "duration": 11,
        "start_time": "2023-10-20T11:24:55.256Z"
      },
      {
        "duration": 24,
        "start_time": "2023-10-20T11:24:55.269Z"
      },
      {
        "duration": 89,
        "start_time": "2023-10-20T11:24:55.294Z"
      },
      {
        "duration": 3,
        "start_time": "2023-10-20T11:24:55.384Z"
      },
      {
        "duration": 54,
        "start_time": "2023-10-20T11:24:55.389Z"
      },
      {
        "duration": 30,
        "start_time": "2023-10-20T11:24:55.445Z"
      },
      {
        "duration": 40,
        "start_time": "2023-10-20T11:24:55.477Z"
      },
      {
        "duration": 55,
        "start_time": "2023-10-20T11:24:55.519Z"
      },
      {
        "duration": 12,
        "start_time": "2023-10-20T11:24:55.576Z"
      },
      {
        "duration": 12,
        "start_time": "2023-10-20T11:24:55.592Z"
      },
      {
        "duration": 36,
        "start_time": "2023-10-20T11:24:55.606Z"
      },
      {
        "duration": 21,
        "start_time": "2023-10-20T11:24:55.643Z"
      },
      {
        "duration": 20,
        "start_time": "2023-10-20T11:24:55.665Z"
      },
      {
        "duration": 59,
        "start_time": "2023-10-20T11:24:55.687Z"
      },
      {
        "duration": 277,
        "start_time": "2023-10-20T11:24:55.748Z"
      },
      {
        "duration": 289,
        "start_time": "2023-10-20T11:24:56.027Z"
      },
      {
        "duration": 251,
        "start_time": "2023-10-20T11:24:56.318Z"
      },
      {
        "duration": 294,
        "start_time": "2023-10-20T11:24:56.570Z"
      },
      {
        "duration": 223,
        "start_time": "2023-10-20T11:24:56.865Z"
      },
      {
        "duration": 274,
        "start_time": "2023-10-20T11:24:57.089Z"
      },
      {
        "duration": 288,
        "start_time": "2023-10-20T11:24:57.365Z"
      },
      {
        "duration": 5,
        "start_time": "2023-10-20T11:24:57.654Z"
      },
      {
        "duration": 165,
        "start_time": "2023-10-20T11:24:57.660Z"
      },
      {
        "duration": 161,
        "start_time": "2023-10-20T11:24:57.827Z"
      },
      {
        "duration": 5,
        "start_time": "2023-10-20T11:24:57.990Z"
      },
      {
        "duration": 15,
        "start_time": "2023-10-20T11:24:57.997Z"
      },
      {
        "duration": 102,
        "start_time": "2023-10-20T11:24:58.014Z"
      },
      {
        "duration": 0,
        "start_time": "2023-10-20T11:24:58.118Z"
      },
      {
        "duration": 0,
        "start_time": "2023-10-20T11:24:58.119Z"
      },
      {
        "duration": 0,
        "start_time": "2023-10-20T11:24:58.120Z"
      },
      {
        "duration": 0,
        "start_time": "2023-10-20T11:24:58.121Z"
      },
      {
        "duration": 0,
        "start_time": "2023-10-20T11:24:58.122Z"
      },
      {
        "duration": 1156,
        "start_time": "2023-10-20T11:25:32.214Z"
      },
      {
        "duration": 3,
        "start_time": "2023-10-20T11:25:33.372Z"
      },
      {
        "duration": 82,
        "start_time": "2023-10-20T11:25:33.376Z"
      },
      {
        "duration": 11,
        "start_time": "2023-10-20T11:25:33.460Z"
      },
      {
        "duration": 33,
        "start_time": "2023-10-20T11:25:33.473Z"
      },
      {
        "duration": 38,
        "start_time": "2023-10-20T11:25:33.508Z"
      },
      {
        "duration": 82,
        "start_time": "2023-10-20T11:25:33.548Z"
      },
      {
        "duration": 4,
        "start_time": "2023-10-20T11:25:33.632Z"
      },
      {
        "duration": 41,
        "start_time": "2023-10-20T11:25:33.638Z"
      },
      {
        "duration": 11,
        "start_time": "2023-10-20T11:25:33.681Z"
      },
      {
        "duration": 21,
        "start_time": "2023-10-20T11:25:33.694Z"
      },
      {
        "duration": 41,
        "start_time": "2023-10-20T11:25:33.718Z"
      },
      {
        "duration": 12,
        "start_time": "2023-10-20T11:25:33.760Z"
      },
      {
        "duration": 34,
        "start_time": "2023-10-20T11:25:33.776Z"
      },
      {
        "duration": 27,
        "start_time": "2023-10-20T11:25:33.813Z"
      },
      {
        "duration": 33,
        "start_time": "2023-10-20T11:25:33.842Z"
      },
      {
        "duration": 34,
        "start_time": "2023-10-20T11:25:33.876Z"
      },
      {
        "duration": 23,
        "start_time": "2023-10-20T11:25:33.912Z"
      },
      {
        "duration": 292,
        "start_time": "2023-10-20T11:25:33.936Z"
      },
      {
        "duration": 325,
        "start_time": "2023-10-20T11:25:34.230Z"
      },
      {
        "duration": 253,
        "start_time": "2023-10-20T11:25:34.557Z"
      },
      {
        "duration": 370,
        "start_time": "2023-10-20T11:25:34.812Z"
      },
      {
        "duration": 219,
        "start_time": "2023-10-20T11:25:35.184Z"
      },
      {
        "duration": 312,
        "start_time": "2023-10-20T11:25:35.405Z"
      },
      {
        "duration": 301,
        "start_time": "2023-10-20T11:25:35.719Z"
      },
      {
        "duration": 5,
        "start_time": "2023-10-20T11:25:36.022Z"
      },
      {
        "duration": 165,
        "start_time": "2023-10-20T11:25:36.029Z"
      },
      {
        "duration": 161,
        "start_time": "2023-10-20T11:25:36.196Z"
      },
      {
        "duration": 6,
        "start_time": "2023-10-20T11:25:36.359Z"
      },
      {
        "duration": 13,
        "start_time": "2023-10-20T11:25:36.367Z"
      },
      {
        "duration": 107,
        "start_time": "2023-10-20T11:25:36.381Z"
      },
      {
        "duration": 0,
        "start_time": "2023-10-20T11:25:36.489Z"
      },
      {
        "duration": 0,
        "start_time": "2023-10-20T11:25:36.491Z"
      },
      {
        "duration": 0,
        "start_time": "2023-10-20T11:25:36.492Z"
      },
      {
        "duration": 0,
        "start_time": "2023-10-20T11:25:36.494Z"
      },
      {
        "duration": 0,
        "start_time": "2023-10-20T11:25:36.495Z"
      },
      {
        "duration": 1267,
        "start_time": "2023-10-20T18:19:35.244Z"
      },
      {
        "duration": 3,
        "start_time": "2023-10-20T18:19:36.513Z"
      },
      {
        "duration": 83,
        "start_time": "2023-10-20T18:19:36.517Z"
      },
      {
        "duration": 8,
        "start_time": "2023-10-20T18:19:36.602Z"
      },
      {
        "duration": 6,
        "start_time": "2023-10-20T18:19:36.613Z"
      },
      {
        "duration": 10,
        "start_time": "2023-10-20T18:19:36.620Z"
      },
      {
        "duration": 91,
        "start_time": "2023-10-20T18:19:36.631Z"
      },
      {
        "duration": 2,
        "start_time": "2023-10-20T18:19:36.723Z"
      },
      {
        "duration": 19,
        "start_time": "2023-10-20T18:19:36.726Z"
      },
      {
        "duration": 5,
        "start_time": "2023-10-20T18:19:36.746Z"
      },
      {
        "duration": 6,
        "start_time": "2023-10-20T18:19:36.752Z"
      },
      {
        "duration": 65,
        "start_time": "2023-10-20T18:19:36.759Z"
      },
      {
        "duration": 12,
        "start_time": "2023-10-20T18:19:36.826Z"
      },
      {
        "duration": 5,
        "start_time": "2023-10-20T18:19:36.842Z"
      },
      {
        "duration": 6,
        "start_time": "2023-10-20T18:19:36.849Z"
      },
      {
        "duration": 21,
        "start_time": "2023-10-20T18:19:36.857Z"
      },
      {
        "duration": 16,
        "start_time": "2023-10-20T18:19:36.880Z"
      },
      {
        "duration": 4,
        "start_time": "2023-10-20T18:19:36.898Z"
      },
      {
        "duration": 286,
        "start_time": "2023-10-20T18:19:36.904Z"
      },
      {
        "duration": 263,
        "start_time": "2023-10-20T18:19:37.191Z"
      },
      {
        "duration": 178,
        "start_time": "2023-10-20T18:19:37.455Z"
      },
      {
        "duration": 321,
        "start_time": "2023-10-20T18:19:37.634Z"
      },
      {
        "duration": 191,
        "start_time": "2023-10-20T18:19:37.957Z"
      },
      {
        "duration": 283,
        "start_time": "2023-10-20T18:19:38.150Z"
      },
      {
        "duration": 255,
        "start_time": "2023-10-20T18:19:38.440Z"
      },
      {
        "duration": 4,
        "start_time": "2023-10-20T18:19:38.696Z"
      },
      {
        "duration": 140,
        "start_time": "2023-10-20T18:19:38.701Z"
      },
      {
        "duration": 145,
        "start_time": "2023-10-20T18:19:38.843Z"
      },
      {
        "duration": 4,
        "start_time": "2023-10-20T18:19:38.989Z"
      },
      {
        "duration": 100,
        "start_time": "2023-10-20T18:19:38.994Z"
      },
      {
        "duration": 0,
        "start_time": "2023-10-20T18:19:39.096Z"
      },
      {
        "duration": 0,
        "start_time": "2023-10-20T18:19:39.096Z"
      },
      {
        "duration": 0,
        "start_time": "2023-10-20T18:19:39.097Z"
      },
      {
        "duration": 0,
        "start_time": "2023-10-20T18:19:39.098Z"
      },
      {
        "duration": 0,
        "start_time": "2023-10-20T18:19:39.100Z"
      },
      {
        "duration": 0,
        "start_time": "2023-10-20T18:19:39.101Z"
      },
      {
        "duration": 0,
        "start_time": "2023-10-20T18:19:39.101Z"
      },
      {
        "duration": 15,
        "start_time": "2023-10-20T18:22:02.092Z"
      },
      {
        "duration": 2,
        "start_time": "2023-10-20T18:23:44.694Z"
      },
      {
        "duration": 3,
        "start_time": "2023-10-20T18:23:44.700Z"
      },
      {
        "duration": 35,
        "start_time": "2023-10-20T18:23:44.713Z"
      },
      {
        "duration": 6,
        "start_time": "2023-10-20T18:23:44.749Z"
      },
      {
        "duration": 6,
        "start_time": "2023-10-20T18:23:44.756Z"
      },
      {
        "duration": 10,
        "start_time": "2023-10-20T18:23:44.763Z"
      },
      {
        "duration": 53,
        "start_time": "2023-10-20T18:23:44.774Z"
      },
      {
        "duration": 3,
        "start_time": "2023-10-20T18:23:44.828Z"
      },
      {
        "duration": 73,
        "start_time": "2023-10-20T18:23:44.833Z"
      },
      {
        "duration": 5,
        "start_time": "2023-10-20T18:23:44.908Z"
      },
      {
        "duration": 6,
        "start_time": "2023-10-20T18:23:44.914Z"
      },
      {
        "duration": 28,
        "start_time": "2023-10-20T18:23:44.921Z"
      },
      {
        "duration": 9,
        "start_time": "2023-10-20T18:23:44.950Z"
      },
      {
        "duration": 4,
        "start_time": "2023-10-20T18:23:44.960Z"
      },
      {
        "duration": 11,
        "start_time": "2023-10-20T18:23:44.966Z"
      },
      {
        "duration": 17,
        "start_time": "2023-10-20T18:23:44.978Z"
      },
      {
        "duration": 19,
        "start_time": "2023-10-20T18:23:44.996Z"
      },
      {
        "duration": 41,
        "start_time": "2023-10-20T18:23:45.016Z"
      },
      {
        "duration": 291,
        "start_time": "2023-10-20T18:23:45.058Z"
      },
      {
        "duration": 176,
        "start_time": "2023-10-20T18:23:45.350Z"
      },
      {
        "duration": 192,
        "start_time": "2023-10-20T18:23:45.527Z"
      },
      {
        "duration": 293,
        "start_time": "2023-10-20T18:23:45.720Z"
      },
      {
        "duration": 195,
        "start_time": "2023-10-20T18:23:46.015Z"
      },
      {
        "duration": 316,
        "start_time": "2023-10-20T18:23:46.212Z"
      },
      {
        "duration": 253,
        "start_time": "2023-10-20T18:23:46.529Z"
      },
      {
        "duration": 5,
        "start_time": "2023-10-20T18:23:46.784Z"
      },
      {
        "duration": 146,
        "start_time": "2023-10-20T18:23:46.791Z"
      },
      {
        "duration": 141,
        "start_time": "2023-10-20T18:23:46.939Z"
      },
      {
        "duration": 4,
        "start_time": "2023-10-20T18:23:47.082Z"
      },
      {
        "duration": 130,
        "start_time": "2023-10-20T18:23:47.087Z"
      },
      {
        "duration": 0,
        "start_time": "2023-10-20T18:23:47.219Z"
      },
      {
        "duration": 0,
        "start_time": "2023-10-20T18:23:47.220Z"
      },
      {
        "duration": 0,
        "start_time": "2023-10-20T18:23:47.221Z"
      },
      {
        "duration": 0,
        "start_time": "2023-10-20T18:23:47.222Z"
      },
      {
        "duration": 0,
        "start_time": "2023-10-20T18:23:47.224Z"
      },
      {
        "duration": 0,
        "start_time": "2023-10-20T18:23:47.240Z"
      },
      {
        "duration": 0,
        "start_time": "2023-10-20T18:23:47.241Z"
      },
      {
        "duration": 3,
        "start_time": "2023-10-20T18:27:22.680Z"
      },
      {
        "duration": 26,
        "start_time": "2023-10-20T18:27:22.688Z"
      },
      {
        "duration": 37,
        "start_time": "2023-10-20T18:27:22.716Z"
      },
      {
        "duration": 7,
        "start_time": "2023-10-20T18:27:22.755Z"
      },
      {
        "duration": 7,
        "start_time": "2023-10-20T18:27:22.764Z"
      },
      {
        "duration": 10,
        "start_time": "2023-10-20T18:27:22.772Z"
      },
      {
        "duration": 52,
        "start_time": "2023-10-20T18:27:22.784Z"
      },
      {
        "duration": 3,
        "start_time": "2023-10-20T18:27:22.838Z"
      },
      {
        "duration": 21,
        "start_time": "2023-10-20T18:27:22.843Z"
      },
      {
        "duration": 5,
        "start_time": "2023-10-20T18:27:22.866Z"
      },
      {
        "duration": 7,
        "start_time": "2023-10-20T18:27:22.872Z"
      },
      {
        "duration": 30,
        "start_time": "2023-10-20T18:27:22.880Z"
      },
      {
        "duration": 9,
        "start_time": "2023-10-20T18:27:22.911Z"
      },
      {
        "duration": 4,
        "start_time": "2023-10-20T18:27:22.940Z"
      },
      {
        "duration": 7,
        "start_time": "2023-10-20T18:27:22.945Z"
      },
      {
        "duration": 12,
        "start_time": "2023-10-20T18:27:22.953Z"
      },
      {
        "duration": 19,
        "start_time": "2023-10-20T18:27:22.966Z"
      },
      {
        "duration": 19,
        "start_time": "2023-10-20T18:27:22.986Z"
      },
      {
        "duration": 237,
        "start_time": "2023-10-20T18:27:23.006Z"
      },
      {
        "duration": 179,
        "start_time": "2023-10-20T18:27:23.245Z"
      },
      {
        "duration": 244,
        "start_time": "2023-10-20T18:27:23.425Z"
      },
      {
        "duration": 273,
        "start_time": "2023-10-20T18:27:23.671Z"
      },
      {
        "duration": 198,
        "start_time": "2023-10-20T18:27:23.946Z"
      },
      {
        "duration": 295,
        "start_time": "2023-10-20T18:27:24.146Z"
      },
      {
        "duration": 257,
        "start_time": "2023-10-20T18:27:24.443Z"
      },
      {
        "duration": 4,
        "start_time": "2023-10-20T18:27:24.702Z"
      },
      {
        "duration": 136,
        "start_time": "2023-10-20T18:27:24.707Z"
      },
      {
        "duration": 136,
        "start_time": "2023-10-20T18:27:24.844Z"
      },
      {
        "duration": 4,
        "start_time": "2023-10-20T18:27:24.982Z"
      },
      {
        "duration": 25,
        "start_time": "2023-10-20T18:27:24.987Z"
      },
      {
        "duration": 0,
        "start_time": "2023-10-20T18:27:25.013Z"
      },
      {
        "duration": 0,
        "start_time": "2023-10-20T18:27:25.014Z"
      },
      {
        "duration": 0,
        "start_time": "2023-10-20T18:27:25.015Z"
      },
      {
        "duration": 0,
        "start_time": "2023-10-20T18:27:25.017Z"
      },
      {
        "duration": 0,
        "start_time": "2023-10-20T18:27:25.018Z"
      },
      {
        "duration": 0,
        "start_time": "2023-10-20T18:27:25.018Z"
      },
      {
        "duration": 0,
        "start_time": "2023-10-20T18:27:25.019Z"
      },
      {
        "duration": 2,
        "start_time": "2023-10-20T18:28:15.569Z"
      },
      {
        "duration": 4,
        "start_time": "2023-10-20T18:28:15.575Z"
      },
      {
        "duration": 37,
        "start_time": "2023-10-20T18:28:15.585Z"
      },
      {
        "duration": 5,
        "start_time": "2023-10-20T18:28:15.624Z"
      },
      {
        "duration": 12,
        "start_time": "2023-10-20T18:28:15.631Z"
      },
      {
        "duration": 10,
        "start_time": "2023-10-20T18:28:15.644Z"
      },
      {
        "duration": 59,
        "start_time": "2023-10-20T18:28:15.655Z"
      },
      {
        "duration": 3,
        "start_time": "2023-10-20T18:28:15.716Z"
      },
      {
        "duration": 19,
        "start_time": "2023-10-20T18:28:15.721Z"
      },
      {
        "duration": 5,
        "start_time": "2023-10-20T18:28:15.742Z"
      },
      {
        "duration": 5,
        "start_time": "2023-10-20T18:28:15.748Z"
      },
      {
        "duration": 30,
        "start_time": "2023-10-20T18:28:15.754Z"
      },
      {
        "duration": 9,
        "start_time": "2023-10-20T18:28:15.786Z"
      },
      {
        "duration": 5,
        "start_time": "2023-10-20T18:28:15.796Z"
      },
      {
        "duration": 5,
        "start_time": "2023-10-20T18:28:15.802Z"
      },
      {
        "duration": 41,
        "start_time": "2023-10-20T18:28:15.808Z"
      },
      {
        "duration": 9,
        "start_time": "2023-10-20T18:28:15.850Z"
      },
      {
        "duration": 9,
        "start_time": "2023-10-20T18:28:15.860Z"
      },
      {
        "duration": 261,
        "start_time": "2023-10-20T18:28:15.870Z"
      },
      {
        "duration": 190,
        "start_time": "2023-10-20T18:28:16.132Z"
      },
      {
        "duration": 196,
        "start_time": "2023-10-20T18:28:16.326Z"
      },
      {
        "duration": 291,
        "start_time": "2023-10-20T18:28:16.523Z"
      },
      {
        "duration": 258,
        "start_time": "2023-10-20T18:28:16.816Z"
      },
      {
        "duration": 266,
        "start_time": "2023-10-20T18:28:17.075Z"
      },
      {
        "duration": 264,
        "start_time": "2023-10-20T18:28:17.343Z"
      },
      {
        "duration": 5,
        "start_time": "2023-10-20T18:28:17.609Z"
      },
      {
        "duration": 143,
        "start_time": "2023-10-20T18:28:17.615Z"
      },
      {
        "duration": 138,
        "start_time": "2023-10-20T18:28:17.760Z"
      },
      {
        "duration": 4,
        "start_time": "2023-10-20T18:28:17.900Z"
      },
      {
        "duration": 18,
        "start_time": "2023-10-20T18:28:17.905Z"
      },
      {
        "duration": 0,
        "start_time": "2023-10-20T18:28:17.939Z"
      },
      {
        "duration": 0,
        "start_time": "2023-10-20T18:28:17.941Z"
      },
      {
        "duration": 0,
        "start_time": "2023-10-20T18:28:17.942Z"
      },
      {
        "duration": 0,
        "start_time": "2023-10-20T18:28:17.943Z"
      },
      {
        "duration": 0,
        "start_time": "2023-10-20T18:28:17.943Z"
      },
      {
        "duration": 0,
        "start_time": "2023-10-20T18:28:17.944Z"
      },
      {
        "duration": 0,
        "start_time": "2023-10-20T18:28:17.945Z"
      },
      {
        "duration": 3,
        "start_time": "2023-10-20T18:31:40.244Z"
      },
      {
        "duration": 7,
        "start_time": "2023-10-20T18:31:40.249Z"
      },
      {
        "duration": 41,
        "start_time": "2023-10-20T18:31:40.258Z"
      },
      {
        "duration": 7,
        "start_time": "2023-10-20T18:31:40.301Z"
      },
      {
        "duration": 12,
        "start_time": "2023-10-20T18:31:40.310Z"
      },
      {
        "duration": 18,
        "start_time": "2023-10-20T18:31:40.323Z"
      },
      {
        "duration": 51,
        "start_time": "2023-10-20T18:31:40.342Z"
      },
      {
        "duration": 4,
        "start_time": "2023-10-20T18:31:40.396Z"
      },
      {
        "duration": 27,
        "start_time": "2023-10-20T18:31:40.402Z"
      },
      {
        "duration": 5,
        "start_time": "2023-10-20T18:31:40.431Z"
      },
      {
        "duration": 13,
        "start_time": "2023-10-20T18:31:40.440Z"
      },
      {
        "duration": 33,
        "start_time": "2023-10-20T18:31:40.455Z"
      },
      {
        "duration": 9,
        "start_time": "2023-10-20T18:31:40.490Z"
      },
      {
        "duration": 15,
        "start_time": "2023-10-20T18:31:40.500Z"
      },
      {
        "duration": 27,
        "start_time": "2023-10-20T18:31:40.517Z"
      },
      {
        "duration": 22,
        "start_time": "2023-10-20T18:31:40.546Z"
      },
      {
        "duration": 11,
        "start_time": "2023-10-20T18:31:40.569Z"
      },
      {
        "duration": 6,
        "start_time": "2023-10-20T18:31:40.581Z"
      },
      {
        "duration": 286,
        "start_time": "2023-10-20T18:31:40.589Z"
      },
      {
        "duration": 284,
        "start_time": "2023-10-20T18:31:40.877Z"
      },
      {
        "duration": 288,
        "start_time": "2023-10-20T18:31:41.163Z"
      },
      {
        "duration": 329,
        "start_time": "2023-10-20T18:31:41.453Z"
      },
      {
        "duration": 195,
        "start_time": "2023-10-20T18:31:41.784Z"
      },
      {
        "duration": 273,
        "start_time": "2023-10-20T18:31:41.981Z"
      },
      {
        "duration": 374,
        "start_time": "2023-10-20T18:31:42.256Z"
      },
      {
        "duration": 10,
        "start_time": "2023-10-20T18:31:42.632Z"
      },
      {
        "duration": 204,
        "start_time": "2023-10-20T18:31:42.644Z"
      },
      {
        "duration": 184,
        "start_time": "2023-10-20T18:31:42.850Z"
      },
      {
        "duration": 4,
        "start_time": "2023-10-20T18:31:43.039Z"
      },
      {
        "duration": 117,
        "start_time": "2023-10-20T18:31:43.044Z"
      },
      {
        "duration": 0,
        "start_time": "2023-10-20T18:31:43.163Z"
      },
      {
        "duration": 0,
        "start_time": "2023-10-20T18:31:43.165Z"
      },
      {
        "duration": 0,
        "start_time": "2023-10-20T18:31:43.166Z"
      },
      {
        "duration": 0,
        "start_time": "2023-10-20T18:31:43.167Z"
      },
      {
        "duration": 0,
        "start_time": "2023-10-20T18:31:43.168Z"
      },
      {
        "duration": 0,
        "start_time": "2023-10-20T18:31:43.169Z"
      },
      {
        "duration": 0,
        "start_time": "2023-10-20T18:31:43.170Z"
      },
      {
        "duration": 3,
        "start_time": "2023-10-20T18:32:09.137Z"
      },
      {
        "duration": 3,
        "start_time": "2023-10-20T18:32:09.146Z"
      },
      {
        "duration": 47,
        "start_time": "2023-10-20T18:32:09.151Z"
      },
      {
        "duration": 10,
        "start_time": "2023-10-20T18:32:09.201Z"
      },
      {
        "duration": 10,
        "start_time": "2023-10-20T18:32:09.213Z"
      },
      {
        "duration": 14,
        "start_time": "2023-10-20T18:32:09.241Z"
      },
      {
        "duration": 55,
        "start_time": "2023-10-20T18:32:09.256Z"
      },
      {
        "duration": 7,
        "start_time": "2023-10-20T18:32:09.313Z"
      },
      {
        "duration": 23,
        "start_time": "2023-10-20T18:32:09.323Z"
      },
      {
        "duration": 10,
        "start_time": "2023-10-20T18:32:09.348Z"
      },
      {
        "duration": 7,
        "start_time": "2023-10-20T18:32:09.360Z"
      },
      {
        "duration": 36,
        "start_time": "2023-10-20T18:32:09.370Z"
      },
      {
        "duration": 33,
        "start_time": "2023-10-20T18:32:09.408Z"
      },
      {
        "duration": 5,
        "start_time": "2023-10-20T18:32:09.443Z"
      },
      {
        "duration": 6,
        "start_time": "2023-10-20T18:32:09.451Z"
      },
      {
        "duration": 27,
        "start_time": "2023-10-20T18:32:09.459Z"
      },
      {
        "duration": 11,
        "start_time": "2023-10-20T18:32:09.488Z"
      },
      {
        "duration": 4,
        "start_time": "2023-10-20T18:32:09.501Z"
      },
      {
        "duration": 392,
        "start_time": "2023-10-20T18:32:09.507Z"
      },
      {
        "duration": 284,
        "start_time": "2023-10-20T18:32:09.901Z"
      },
      {
        "duration": 297,
        "start_time": "2023-10-20T18:32:10.187Z"
      },
      {
        "duration": 361,
        "start_time": "2023-10-20T18:32:10.486Z"
      },
      {
        "duration": 300,
        "start_time": "2023-10-20T18:32:10.848Z"
      },
      {
        "duration": 380,
        "start_time": "2023-10-20T18:32:11.149Z"
      },
      {
        "duration": 419,
        "start_time": "2023-10-20T18:32:11.532Z"
      },
      {
        "duration": 6,
        "start_time": "2023-10-20T18:32:11.953Z"
      },
      {
        "duration": 210,
        "start_time": "2023-10-20T18:32:11.961Z"
      },
      {
        "duration": 294,
        "start_time": "2023-10-20T18:32:12.173Z"
      },
      {
        "duration": 6,
        "start_time": "2023-10-20T18:32:12.469Z"
      },
      {
        "duration": 187,
        "start_time": "2023-10-20T18:32:12.476Z"
      },
      {
        "duration": 0,
        "start_time": "2023-10-20T18:32:12.664Z"
      },
      {
        "duration": 0,
        "start_time": "2023-10-20T18:32:12.666Z"
      },
      {
        "duration": 0,
        "start_time": "2023-10-20T18:32:12.667Z"
      },
      {
        "duration": 0,
        "start_time": "2023-10-20T18:32:12.668Z"
      },
      {
        "duration": 0,
        "start_time": "2023-10-20T18:32:12.669Z"
      },
      {
        "duration": 0,
        "start_time": "2023-10-20T18:32:12.671Z"
      },
      {
        "duration": 0,
        "start_time": "2023-10-20T18:32:12.672Z"
      },
      {
        "duration": 286,
        "start_time": "2023-10-20T18:39:00.577Z"
      },
      {
        "duration": 3,
        "start_time": "2023-10-20T18:43:00.786Z"
      },
      {
        "duration": 29,
        "start_time": "2023-10-20T18:43:00.792Z"
      },
      {
        "duration": 59,
        "start_time": "2023-10-20T18:43:00.823Z"
      },
      {
        "duration": 6,
        "start_time": "2023-10-20T18:43:00.884Z"
      },
      {
        "duration": 49,
        "start_time": "2023-10-20T18:43:00.893Z"
      },
      {
        "duration": 25,
        "start_time": "2023-10-20T18:43:00.943Z"
      },
      {
        "duration": 64,
        "start_time": "2023-10-20T18:43:00.970Z"
      },
      {
        "duration": 3,
        "start_time": "2023-10-20T18:43:01.036Z"
      },
      {
        "duration": 57,
        "start_time": "2023-10-20T18:43:01.040Z"
      },
      {
        "duration": 29,
        "start_time": "2023-10-20T18:43:01.100Z"
      },
      {
        "duration": 22,
        "start_time": "2023-10-20T18:43:01.130Z"
      },
      {
        "duration": 62,
        "start_time": "2023-10-20T18:43:01.153Z"
      },
      {
        "duration": 32,
        "start_time": "2023-10-20T18:43:01.216Z"
      },
      {
        "duration": 27,
        "start_time": "2023-10-20T18:43:01.249Z"
      },
      {
        "duration": 49,
        "start_time": "2023-10-20T18:43:01.278Z"
      },
      {
        "duration": 49,
        "start_time": "2023-10-20T18:43:01.329Z"
      },
      {
        "duration": 37,
        "start_time": "2023-10-20T18:43:01.380Z"
      },
      {
        "duration": 34,
        "start_time": "2023-10-20T18:43:01.418Z"
      },
      {
        "duration": 310,
        "start_time": "2023-10-20T18:43:01.454Z"
      },
      {
        "duration": 200,
        "start_time": "2023-10-20T18:43:01.766Z"
      },
      {
        "duration": 182,
        "start_time": "2023-10-20T18:43:01.967Z"
      },
      {
        "duration": 288,
        "start_time": "2023-10-20T18:43:02.151Z"
      },
      {
        "duration": 256,
        "start_time": "2023-10-20T18:43:02.441Z"
      },
      {
        "duration": 351,
        "start_time": "2023-10-20T18:43:02.698Z"
      },
      {
        "duration": 265,
        "start_time": "2023-10-20T18:43:03.052Z"
      },
      {
        "duration": 5,
        "start_time": "2023-10-20T18:43:03.318Z"
      },
      {
        "duration": 141,
        "start_time": "2023-10-20T18:43:03.324Z"
      },
      {
        "duration": 148,
        "start_time": "2023-10-20T18:43:03.467Z"
      },
      {
        "duration": 5,
        "start_time": "2023-10-20T18:43:03.617Z"
      },
      {
        "duration": 1314,
        "start_time": "2023-10-20T18:43:03.623Z"
      },
      {
        "duration": 0,
        "start_time": "2023-10-20T18:43:04.938Z"
      },
      {
        "duration": 0,
        "start_time": "2023-10-20T18:43:04.939Z"
      },
      {
        "duration": 0,
        "start_time": "2023-10-20T18:43:04.940Z"
      },
      {
        "duration": 0,
        "start_time": "2023-10-20T18:43:04.941Z"
      },
      {
        "duration": 0,
        "start_time": "2023-10-20T18:43:04.942Z"
      },
      {
        "duration": 0,
        "start_time": "2023-10-20T18:43:04.943Z"
      },
      {
        "duration": 0,
        "start_time": "2023-10-20T18:43:04.944Z"
      },
      {
        "duration": 1153,
        "start_time": "2023-10-20T18:43:28.013Z"
      },
      {
        "duration": 10,
        "start_time": "2023-10-20T18:43:32.908Z"
      },
      {
        "duration": 19,
        "start_time": "2023-10-20T18:44:43.078Z"
      },
      {
        "duration": 2,
        "start_time": "2023-10-20T18:44:46.390Z"
      },
      {
        "duration": 12,
        "start_time": "2023-10-20T18:44:46.395Z"
      },
      {
        "duration": 50,
        "start_time": "2023-10-20T18:44:46.409Z"
      },
      {
        "duration": 7,
        "start_time": "2023-10-20T18:44:46.461Z"
      },
      {
        "duration": 15,
        "start_time": "2023-10-20T18:44:46.471Z"
      },
      {
        "duration": 11,
        "start_time": "2023-10-20T18:44:46.487Z"
      },
      {
        "duration": 49,
        "start_time": "2023-10-20T18:44:46.499Z"
      },
      {
        "duration": 3,
        "start_time": "2023-10-20T18:44:46.549Z"
      },
      {
        "duration": 22,
        "start_time": "2023-10-20T18:44:46.553Z"
      },
      {
        "duration": 5,
        "start_time": "2023-10-20T18:44:46.577Z"
      },
      {
        "duration": 10,
        "start_time": "2023-10-20T18:44:46.585Z"
      },
      {
        "duration": 31,
        "start_time": "2023-10-20T18:44:46.597Z"
      },
      {
        "duration": 12,
        "start_time": "2023-10-20T18:44:46.629Z"
      },
      {
        "duration": 6,
        "start_time": "2023-10-20T18:44:46.642Z"
      },
      {
        "duration": 18,
        "start_time": "2023-10-20T18:44:46.649Z"
      },
      {
        "duration": 34,
        "start_time": "2023-10-20T18:44:46.668Z"
      },
      {
        "duration": 14,
        "start_time": "2023-10-20T18:44:46.703Z"
      },
      {
        "duration": 3,
        "start_time": "2023-10-20T18:44:46.718Z"
      },
      {
        "duration": 256,
        "start_time": "2023-10-20T18:44:46.722Z"
      },
      {
        "duration": 200,
        "start_time": "2023-10-20T18:44:46.980Z"
      },
      {
        "duration": 262,
        "start_time": "2023-10-20T18:44:47.181Z"
      },
      {
        "duration": 284,
        "start_time": "2023-10-20T18:44:47.444Z"
      },
      {
        "duration": 195,
        "start_time": "2023-10-20T18:44:47.729Z"
      },
      {
        "duration": 302,
        "start_time": "2023-10-20T18:44:47.925Z"
      },
      {
        "duration": 260,
        "start_time": "2023-10-20T18:44:48.229Z"
      },
      {
        "duration": 4,
        "start_time": "2023-10-20T18:44:48.491Z"
      },
      {
        "duration": 153,
        "start_time": "2023-10-20T18:44:48.496Z"
      },
      {
        "duration": 147,
        "start_time": "2023-10-20T18:44:48.650Z"
      },
      {
        "duration": 4,
        "start_time": "2023-10-20T18:44:48.800Z"
      },
      {
        "duration": 18,
        "start_time": "2023-10-20T18:44:48.805Z"
      },
      {
        "duration": 15,
        "start_time": "2023-10-20T18:44:48.825Z"
      },
      {
        "duration": 403,
        "start_time": "2023-10-20T18:44:48.841Z"
      },
      {
        "duration": 0,
        "start_time": "2023-10-20T18:44:49.245Z"
      },
      {
        "duration": 1,
        "start_time": "2023-10-20T18:44:49.246Z"
      },
      {
        "duration": 0,
        "start_time": "2023-10-20T18:44:49.247Z"
      },
      {
        "duration": 0,
        "start_time": "2023-10-20T18:44:49.248Z"
      },
      {
        "duration": 0,
        "start_time": "2023-10-20T18:44:49.249Z"
      },
      {
        "duration": 330,
        "start_time": "2023-10-20T18:45:12.072Z"
      },
      {
        "duration": 300,
        "start_time": "2023-10-20T18:45:16.783Z"
      },
      {
        "duration": 15,
        "start_time": "2023-10-20T18:46:46.134Z"
      },
      {
        "duration": 132,
        "start_time": "2023-10-20T18:47:03.676Z"
      },
      {
        "duration": 48,
        "start_time": "2023-10-20T20:06:55.284Z"
      },
      {
        "duration": 1163,
        "start_time": "2023-10-20T20:07:17.824Z"
      },
      {
        "duration": 2,
        "start_time": "2023-10-20T20:07:18.989Z"
      },
      {
        "duration": 78,
        "start_time": "2023-10-20T20:07:18.993Z"
      },
      {
        "duration": 8,
        "start_time": "2023-10-20T20:07:19.073Z"
      },
      {
        "duration": 7,
        "start_time": "2023-10-20T20:07:19.083Z"
      },
      {
        "duration": 24,
        "start_time": "2023-10-20T20:07:19.092Z"
      },
      {
        "duration": 105,
        "start_time": "2023-10-20T20:07:19.118Z"
      },
      {
        "duration": 3,
        "start_time": "2023-10-20T20:07:19.225Z"
      },
      {
        "duration": 30,
        "start_time": "2023-10-20T20:07:19.229Z"
      },
      {
        "duration": 5,
        "start_time": "2023-10-20T20:07:19.261Z"
      },
      {
        "duration": 18,
        "start_time": "2023-10-20T20:07:19.267Z"
      },
      {
        "duration": 68,
        "start_time": "2023-10-20T20:07:19.286Z"
      },
      {
        "duration": 8,
        "start_time": "2023-10-20T20:07:19.356Z"
      },
      {
        "duration": 11,
        "start_time": "2023-10-20T20:07:19.365Z"
      },
      {
        "duration": 9,
        "start_time": "2023-10-20T20:07:19.378Z"
      },
      {
        "duration": 14,
        "start_time": "2023-10-20T20:07:19.389Z"
      },
      {
        "duration": 10,
        "start_time": "2023-10-20T20:07:19.405Z"
      },
      {
        "duration": 34,
        "start_time": "2023-10-20T20:07:19.416Z"
      },
      {
        "duration": 246,
        "start_time": "2023-10-20T20:07:19.452Z"
      },
      {
        "duration": 251,
        "start_time": "2023-10-20T20:07:19.700Z"
      },
      {
        "duration": 189,
        "start_time": "2023-10-20T20:07:19.952Z"
      },
      {
        "duration": 321,
        "start_time": "2023-10-20T20:07:20.143Z"
      },
      {
        "duration": 191,
        "start_time": "2023-10-20T20:07:20.465Z"
      },
      {
        "duration": 292,
        "start_time": "2023-10-20T20:07:20.657Z"
      },
      {
        "duration": 265,
        "start_time": "2023-10-20T20:07:20.950Z"
      },
      {
        "duration": 5,
        "start_time": "2023-10-20T20:07:21.216Z"
      },
      {
        "duration": 143,
        "start_time": "2023-10-20T20:07:21.222Z"
      },
      {
        "duration": 194,
        "start_time": "2023-10-20T20:07:21.368Z"
      },
      {
        "duration": 6,
        "start_time": "2023-10-20T20:07:21.563Z"
      },
      {
        "duration": 195,
        "start_time": "2023-10-20T20:07:21.571Z"
      },
      {
        "duration": 2,
        "start_time": "2023-10-20T20:07:21.768Z"
      },
      {
        "duration": 81,
        "start_time": "2023-10-20T20:07:21.772Z"
      },
      {
        "duration": 0,
        "start_time": "2023-10-20T20:07:21.855Z"
      },
      {
        "duration": 0,
        "start_time": "2023-10-20T20:07:21.856Z"
      },
      {
        "duration": 0,
        "start_time": "2023-10-20T20:07:21.857Z"
      },
      {
        "duration": 0,
        "start_time": "2023-10-20T20:07:21.859Z"
      },
      {
        "duration": 0,
        "start_time": "2023-10-20T20:07:21.860Z"
      },
      {
        "duration": 10,
        "start_time": "2023-10-20T20:07:41.707Z"
      },
      {
        "duration": 12,
        "start_time": "2023-10-20T20:11:24.531Z"
      },
      {
        "duration": 70,
        "start_time": "2023-10-20T20:11:42.044Z"
      },
      {
        "duration": 119,
        "start_time": "2023-10-20T20:41:14.055Z"
      },
      {
        "duration": 7,
        "start_time": "2023-10-20T20:41:19.590Z"
      },
      {
        "duration": 3,
        "start_time": "2023-10-20T20:41:30.860Z"
      },
      {
        "duration": 39,
        "start_time": "2023-10-20T20:41:30.868Z"
      },
      {
        "duration": 98,
        "start_time": "2023-10-20T20:41:30.909Z"
      },
      {
        "duration": 9,
        "start_time": "2023-10-20T20:41:31.008Z"
      },
      {
        "duration": 55,
        "start_time": "2023-10-20T20:41:31.018Z"
      },
      {
        "duration": 46,
        "start_time": "2023-10-20T20:41:31.074Z"
      },
      {
        "duration": 99,
        "start_time": "2023-10-20T20:41:31.121Z"
      },
      {
        "duration": 3,
        "start_time": "2023-10-20T20:41:31.222Z"
      },
      {
        "duration": 34,
        "start_time": "2023-10-20T20:41:31.226Z"
      },
      {
        "duration": 12,
        "start_time": "2023-10-20T20:41:31.261Z"
      },
      {
        "duration": 28,
        "start_time": "2023-10-20T20:41:31.276Z"
      },
      {
        "duration": 50,
        "start_time": "2023-10-20T20:41:31.305Z"
      },
      {
        "duration": 13,
        "start_time": "2023-10-20T20:41:31.357Z"
      },
      {
        "duration": 38,
        "start_time": "2023-10-20T20:41:31.372Z"
      },
      {
        "duration": 21,
        "start_time": "2023-10-20T20:41:31.411Z"
      },
      {
        "duration": 42,
        "start_time": "2023-10-20T20:41:31.434Z"
      },
      {
        "duration": 41,
        "start_time": "2023-10-20T20:41:31.478Z"
      },
      {
        "duration": 19,
        "start_time": "2023-10-20T20:41:31.521Z"
      },
      {
        "duration": 278,
        "start_time": "2023-10-20T20:41:31.541Z"
      },
      {
        "duration": 183,
        "start_time": "2023-10-20T20:41:31.820Z"
      },
      {
        "duration": 192,
        "start_time": "2023-10-20T20:41:32.005Z"
      },
      {
        "duration": 311,
        "start_time": "2023-10-20T20:41:32.198Z"
      },
      {
        "duration": 212,
        "start_time": "2023-10-20T20:41:32.511Z"
      },
      {
        "duration": 317,
        "start_time": "2023-10-20T20:41:32.724Z"
      },
      {
        "duration": 270,
        "start_time": "2023-10-20T20:41:33.043Z"
      },
      {
        "duration": 5,
        "start_time": "2023-10-20T20:41:33.314Z"
      },
      {
        "duration": 151,
        "start_time": "2023-10-20T20:41:33.321Z"
      },
      {
        "duration": 183,
        "start_time": "2023-10-20T20:41:33.474Z"
      },
      {
        "duration": 5,
        "start_time": "2023-10-20T20:41:33.661Z"
      },
      {
        "duration": 8,
        "start_time": "2023-10-20T20:41:33.668Z"
      },
      {
        "duration": 302,
        "start_time": "2023-10-20T20:41:33.677Z"
      },
      {
        "duration": 2,
        "start_time": "2023-10-20T20:41:33.980Z"
      },
      {
        "duration": 75,
        "start_time": "2023-10-20T20:41:33.983Z"
      },
      {
        "duration": 10,
        "start_time": "2023-10-20T20:41:34.059Z"
      },
      {
        "duration": 1565,
        "start_time": "2023-10-20T20:41:34.070Z"
      },
      {
        "duration": 0,
        "start_time": "2023-10-20T20:41:35.637Z"
      },
      {
        "duration": 0,
        "start_time": "2023-10-20T20:41:35.638Z"
      },
      {
        "duration": 0,
        "start_time": "2023-10-20T20:41:35.640Z"
      },
      {
        "duration": 1007,
        "start_time": "2023-10-20T20:46:40.398Z"
      },
      {
        "duration": 2,
        "start_time": "2023-10-20T20:46:41.407Z"
      },
      {
        "duration": 50,
        "start_time": "2023-10-20T20:46:41.410Z"
      },
      {
        "duration": 8,
        "start_time": "2023-10-20T20:46:41.462Z"
      },
      {
        "duration": 7,
        "start_time": "2023-10-20T20:46:41.471Z"
      },
      {
        "duration": 9,
        "start_time": "2023-10-20T20:46:41.479Z"
      },
      {
        "duration": 50,
        "start_time": "2023-10-20T20:46:41.489Z"
      },
      {
        "duration": 3,
        "start_time": "2023-10-20T20:46:41.541Z"
      },
      {
        "duration": 19,
        "start_time": "2023-10-20T20:46:41.545Z"
      },
      {
        "duration": 5,
        "start_time": "2023-10-20T20:46:41.566Z"
      },
      {
        "duration": 6,
        "start_time": "2023-10-20T20:46:41.572Z"
      },
      {
        "duration": 27,
        "start_time": "2023-10-20T20:46:41.579Z"
      },
      {
        "duration": 12,
        "start_time": "2023-10-20T20:46:41.607Z"
      },
      {
        "duration": 20,
        "start_time": "2023-10-20T20:46:41.620Z"
      },
      {
        "duration": 4,
        "start_time": "2023-10-20T20:46:41.643Z"
      },
      {
        "duration": 12,
        "start_time": "2023-10-20T20:46:41.649Z"
      },
      {
        "duration": 21,
        "start_time": "2023-10-20T20:46:41.662Z"
      },
      {
        "duration": 3,
        "start_time": "2023-10-20T20:46:41.685Z"
      },
      {
        "duration": 258,
        "start_time": "2023-10-20T20:46:41.690Z"
      },
      {
        "duration": 270,
        "start_time": "2023-10-20T20:46:41.950Z"
      },
      {
        "duration": 185,
        "start_time": "2023-10-20T20:46:42.222Z"
      },
      {
        "duration": 321,
        "start_time": "2023-10-20T20:46:42.409Z"
      },
      {
        "duration": 195,
        "start_time": "2023-10-20T20:46:42.731Z"
      },
      {
        "duration": 306,
        "start_time": "2023-10-20T20:46:42.928Z"
      },
      {
        "duration": 256,
        "start_time": "2023-10-20T20:46:43.239Z"
      },
      {
        "duration": 4,
        "start_time": "2023-10-20T20:46:43.497Z"
      },
      {
        "duration": 177,
        "start_time": "2023-10-20T20:46:43.502Z"
      },
      {
        "duration": 146,
        "start_time": "2023-10-20T20:46:43.682Z"
      },
      {
        "duration": 5,
        "start_time": "2023-10-20T20:46:43.829Z"
      },
      {
        "duration": 7,
        "start_time": "2023-10-20T20:46:43.839Z"
      },
      {
        "duration": 178,
        "start_time": "2023-10-20T20:46:43.847Z"
      },
      {
        "duration": 3,
        "start_time": "2023-10-20T20:46:44.026Z"
      },
      {
        "duration": 28,
        "start_time": "2023-10-20T20:46:44.030Z"
      },
      {
        "duration": 11,
        "start_time": "2023-10-20T20:46:44.060Z"
      },
      {
        "duration": 8,
        "start_time": "2023-10-20T20:46:44.072Z"
      },
      {
        "duration": 110,
        "start_time": "2023-10-20T20:46:44.082Z"
      },
      {
        "duration": 0,
        "start_time": "2023-10-20T20:46:44.193Z"
      },
      {
        "duration": 0,
        "start_time": "2023-10-20T20:46:44.195Z"
      },
      {
        "duration": 3,
        "start_time": "2023-10-20T20:48:03.055Z"
      },
      {
        "duration": 2,
        "start_time": "2023-10-20T20:48:03.067Z"
      },
      {
        "duration": 36,
        "start_time": "2023-10-20T20:48:03.091Z"
      },
      {
        "duration": 7,
        "start_time": "2023-10-20T20:48:03.130Z"
      },
      {
        "duration": 19,
        "start_time": "2023-10-20T20:48:03.139Z"
      },
      {
        "duration": 24,
        "start_time": "2023-10-20T20:48:03.160Z"
      },
      {
        "duration": 56,
        "start_time": "2023-10-20T20:48:03.186Z"
      },
      {
        "duration": 3,
        "start_time": "2023-10-20T20:48:03.244Z"
      },
      {
        "duration": 21,
        "start_time": "2023-10-20T20:48:03.250Z"
      },
      {
        "duration": 7,
        "start_time": "2023-10-20T20:48:03.273Z"
      },
      {
        "duration": 19,
        "start_time": "2023-10-20T20:48:03.282Z"
      },
      {
        "duration": 36,
        "start_time": "2023-10-20T20:48:03.302Z"
      },
      {
        "duration": 10,
        "start_time": "2023-10-20T20:48:03.340Z"
      },
      {
        "duration": 21,
        "start_time": "2023-10-20T20:48:03.351Z"
      },
      {
        "duration": 13,
        "start_time": "2023-10-20T20:48:03.373Z"
      },
      {
        "duration": 37,
        "start_time": "2023-10-20T20:48:03.387Z"
      },
      {
        "duration": 15,
        "start_time": "2023-10-20T20:48:03.426Z"
      },
      {
        "duration": 10,
        "start_time": "2023-10-20T20:48:03.442Z"
      },
      {
        "duration": 281,
        "start_time": "2023-10-20T20:48:03.453Z"
      },
      {
        "duration": 176,
        "start_time": "2023-10-20T20:48:03.736Z"
      },
      {
        "duration": 185,
        "start_time": "2023-10-20T20:48:03.914Z"
      },
      {
        "duration": 276,
        "start_time": "2023-10-20T20:48:04.100Z"
      },
      {
        "duration": 194,
        "start_time": "2023-10-20T20:48:04.378Z"
      },
      {
        "duration": 277,
        "start_time": "2023-10-20T20:48:04.573Z"
      },
      {
        "duration": 271,
        "start_time": "2023-10-20T20:48:04.851Z"
      },
      {
        "duration": 15,
        "start_time": "2023-10-20T20:48:05.124Z"
      },
      {
        "duration": 137,
        "start_time": "2023-10-20T20:48:05.141Z"
      },
      {
        "duration": 147,
        "start_time": "2023-10-20T20:48:05.280Z"
      },
      {
        "duration": 14,
        "start_time": "2023-10-20T20:48:05.428Z"
      },
      {
        "duration": 11,
        "start_time": "2023-10-20T20:48:05.443Z"
      },
      {
        "duration": 122,
        "start_time": "2023-10-20T20:48:05.456Z"
      },
      {
        "duration": 2,
        "start_time": "2023-10-20T20:48:05.581Z"
      },
      {
        "duration": 49,
        "start_time": "2023-10-20T20:48:05.584Z"
      },
      {
        "duration": 10,
        "start_time": "2023-10-20T20:48:05.634Z"
      },
      {
        "duration": 10,
        "start_time": "2023-10-20T20:48:05.646Z"
      },
      {
        "duration": 10,
        "start_time": "2023-10-20T20:48:05.658Z"
      },
      {
        "duration": 35,
        "start_time": "2023-10-20T20:48:05.670Z"
      },
      {
        "duration": 33,
        "start_time": "2023-10-20T20:48:05.707Z"
      },
      {
        "duration": 982,
        "start_time": "2023-10-20T20:48:50.167Z"
      },
      {
        "duration": 2,
        "start_time": "2023-10-20T20:48:51.151Z"
      },
      {
        "duration": 45,
        "start_time": "2023-10-20T20:48:51.154Z"
      },
      {
        "duration": 8,
        "start_time": "2023-10-20T20:48:51.200Z"
      },
      {
        "duration": 6,
        "start_time": "2023-10-20T20:48:51.209Z"
      },
      {
        "duration": 9,
        "start_time": "2023-10-20T20:48:51.217Z"
      },
      {
        "duration": 50,
        "start_time": "2023-10-20T20:48:51.227Z"
      },
      {
        "duration": 3,
        "start_time": "2023-10-20T20:48:51.279Z"
      },
      {
        "duration": 15,
        "start_time": "2023-10-20T20:48:51.284Z"
      },
      {
        "duration": 6,
        "start_time": "2023-10-20T20:48:51.302Z"
      },
      {
        "duration": 5,
        "start_time": "2023-10-20T20:48:51.309Z"
      },
      {
        "duration": 26,
        "start_time": "2023-10-20T20:48:51.315Z"
      },
      {
        "duration": 9,
        "start_time": "2023-10-20T20:48:51.342Z"
      },
      {
        "duration": 7,
        "start_time": "2023-10-20T20:48:51.352Z"
      },
      {
        "duration": 10,
        "start_time": "2023-10-20T20:48:51.361Z"
      },
      {
        "duration": 12,
        "start_time": "2023-10-20T20:48:51.372Z"
      },
      {
        "duration": 10,
        "start_time": "2023-10-20T20:48:51.385Z"
      },
      {
        "duration": 3,
        "start_time": "2023-10-20T20:48:51.396Z"
      },
      {
        "duration": 286,
        "start_time": "2023-10-20T20:48:51.400Z"
      },
      {
        "duration": 258,
        "start_time": "2023-10-20T20:48:51.687Z"
      },
      {
        "duration": 185,
        "start_time": "2023-10-20T20:48:51.946Z"
      },
      {
        "duration": 310,
        "start_time": "2023-10-20T20:48:52.132Z"
      },
      {
        "duration": 276,
        "start_time": "2023-10-20T20:48:52.443Z"
      },
      {
        "duration": 318,
        "start_time": "2023-10-20T20:48:52.721Z"
      },
      {
        "duration": 260,
        "start_time": "2023-10-20T20:48:53.041Z"
      },
      {
        "duration": 4,
        "start_time": "2023-10-20T20:48:53.302Z"
      },
      {
        "duration": 138,
        "start_time": "2023-10-20T20:48:53.307Z"
      },
      {
        "duration": 142,
        "start_time": "2023-10-20T20:48:53.448Z"
      },
      {
        "duration": 4,
        "start_time": "2023-10-20T20:48:53.591Z"
      },
      {
        "duration": 6,
        "start_time": "2023-10-20T20:48:53.597Z"
      },
      {
        "duration": 197,
        "start_time": "2023-10-20T20:48:53.604Z"
      },
      {
        "duration": 2,
        "start_time": "2023-10-20T20:48:53.803Z"
      },
      {
        "duration": 33,
        "start_time": "2023-10-20T20:48:53.807Z"
      },
      {
        "duration": 10,
        "start_time": "2023-10-20T20:48:53.841Z"
      },
      {
        "duration": 8,
        "start_time": "2023-10-20T20:48:53.853Z"
      },
      {
        "duration": 8,
        "start_time": "2023-10-20T20:48:53.862Z"
      },
      {
        "duration": 19,
        "start_time": "2023-10-20T20:48:53.872Z"
      },
      {
        "duration": 12,
        "start_time": "2023-10-20T20:48:53.892Z"
      },
      {
        "duration": 1145,
        "start_time": "2023-10-21T14:09:01.231Z"
      },
      {
        "duration": 2,
        "start_time": "2023-10-21T14:09:02.378Z"
      },
      {
        "duration": 73,
        "start_time": "2023-10-21T14:09:02.382Z"
      },
      {
        "duration": 8,
        "start_time": "2023-10-21T14:09:02.456Z"
      },
      {
        "duration": 58,
        "start_time": "2023-10-21T14:09:02.466Z"
      },
      {
        "duration": 47,
        "start_time": "2023-10-21T14:09:02.525Z"
      },
      {
        "duration": 67,
        "start_time": "2023-10-21T14:09:02.574Z"
      },
      {
        "duration": 3,
        "start_time": "2023-10-21T14:09:02.642Z"
      },
      {
        "duration": 49,
        "start_time": "2023-10-21T14:09:02.647Z"
      },
      {
        "duration": 6,
        "start_time": "2023-10-21T14:09:02.699Z"
      },
      {
        "duration": 14,
        "start_time": "2023-10-21T14:09:02.706Z"
      },
      {
        "duration": 58,
        "start_time": "2023-10-21T14:09:02.721Z"
      },
      {
        "duration": 41,
        "start_time": "2023-10-21T14:09:02.780Z"
      },
      {
        "duration": 115,
        "start_time": "2023-10-21T14:09:02.822Z"
      },
      {
        "duration": 234,
        "start_time": "2023-10-21T14:09:02.938Z"
      },
      {
        "duration": 21,
        "start_time": "2023-10-21T14:09:03.174Z"
      },
      {
        "duration": 15,
        "start_time": "2023-10-21T14:09:03.197Z"
      },
      {
        "duration": 7,
        "start_time": "2023-10-21T14:09:03.214Z"
      },
      {
        "duration": 302,
        "start_time": "2023-10-21T14:09:03.223Z"
      },
      {
        "duration": 284,
        "start_time": "2023-10-21T14:09:03.526Z"
      },
      {
        "duration": 207,
        "start_time": "2023-10-21T14:09:03.812Z"
      },
      {
        "duration": 303,
        "start_time": "2023-10-21T14:09:04.023Z"
      },
      {
        "duration": 209,
        "start_time": "2023-10-21T14:09:04.327Z"
      },
      {
        "duration": 299,
        "start_time": "2023-10-21T14:09:04.537Z"
      },
      {
        "duration": 302,
        "start_time": "2023-10-21T14:09:04.838Z"
      },
      {
        "duration": 4,
        "start_time": "2023-10-21T14:09:05.142Z"
      },
      {
        "duration": 166,
        "start_time": "2023-10-21T14:09:05.148Z"
      },
      {
        "duration": 158,
        "start_time": "2023-10-21T14:09:05.324Z"
      },
      {
        "duration": 4,
        "start_time": "2023-10-21T14:09:05.484Z"
      },
      {
        "duration": 11,
        "start_time": "2023-10-21T14:09:05.490Z"
      },
      {
        "duration": 200,
        "start_time": "2023-10-21T14:09:05.502Z"
      },
      {
        "duration": 2,
        "start_time": "2023-10-21T14:09:05.704Z"
      },
      {
        "duration": 63,
        "start_time": "2023-10-21T14:09:05.708Z"
      },
      {
        "duration": 15,
        "start_time": "2023-10-21T14:09:05.773Z"
      },
      {
        "duration": 10,
        "start_time": "2023-10-21T14:09:05.790Z"
      },
      {
        "duration": 14,
        "start_time": "2023-10-21T14:09:05.802Z"
      },
      {
        "duration": 30,
        "start_time": "2023-10-21T14:09:05.825Z"
      },
      {
        "duration": 18,
        "start_time": "2023-10-21T14:09:05.857Z"
      },
      {
        "duration": 1099,
        "start_time": "2023-10-21T14:14:36.694Z"
      },
      {
        "duration": 3,
        "start_time": "2023-10-21T14:14:37.795Z"
      },
      {
        "duration": 58,
        "start_time": "2023-10-21T14:14:37.799Z"
      },
      {
        "duration": 7,
        "start_time": "2023-10-21T14:14:37.859Z"
      },
      {
        "duration": 7,
        "start_time": "2023-10-21T14:14:37.868Z"
      },
      {
        "duration": 12,
        "start_time": "2023-10-21T14:14:37.876Z"
      },
      {
        "duration": 55,
        "start_time": "2023-10-21T14:14:37.890Z"
      },
      {
        "duration": 3,
        "start_time": "2023-10-21T14:14:37.947Z"
      },
      {
        "duration": 20,
        "start_time": "2023-10-21T14:14:37.951Z"
      },
      {
        "duration": 7,
        "start_time": "2023-10-21T14:14:37.973Z"
      },
      {
        "duration": 11,
        "start_time": "2023-10-21T14:14:37.981Z"
      },
      {
        "duration": 32,
        "start_time": "2023-10-21T14:14:37.994Z"
      },
      {
        "duration": 12,
        "start_time": "2023-10-21T14:14:38.027Z"
      },
      {
        "duration": 5,
        "start_time": "2023-10-21T14:14:38.042Z"
      },
      {
        "duration": 12,
        "start_time": "2023-10-21T14:14:38.049Z"
      },
      {
        "duration": 16,
        "start_time": "2023-10-21T14:14:38.063Z"
      },
      {
        "duration": 23,
        "start_time": "2023-10-21T14:14:38.080Z"
      },
      {
        "duration": 30,
        "start_time": "2023-10-21T14:14:38.104Z"
      },
      {
        "duration": 277,
        "start_time": "2023-10-21T14:14:38.136Z"
      },
      {
        "duration": 311,
        "start_time": "2023-10-21T14:14:38.415Z"
      },
      {
        "duration": 232,
        "start_time": "2023-10-21T14:14:38.728Z"
      },
      {
        "duration": 287,
        "start_time": "2023-10-21T14:14:38.962Z"
      },
      {
        "duration": 221,
        "start_time": "2023-10-21T14:14:39.251Z"
      },
      {
        "duration": 270,
        "start_time": "2023-10-21T14:14:39.474Z"
      },
      {
        "duration": 324,
        "start_time": "2023-10-21T14:14:39.746Z"
      },
      {
        "duration": 6,
        "start_time": "2023-10-21T14:14:40.071Z"
      },
      {
        "duration": 220,
        "start_time": "2023-10-21T14:14:40.079Z"
      },
      {
        "duration": 190,
        "start_time": "2023-10-21T14:14:40.301Z"
      },
      {
        "duration": 31,
        "start_time": "2023-10-21T14:14:40.493Z"
      },
      {
        "duration": 20,
        "start_time": "2023-10-21T14:14:40.526Z"
      },
      {
        "duration": 320,
        "start_time": "2023-10-21T14:14:40.548Z"
      },
      {
        "duration": 2,
        "start_time": "2023-10-21T14:14:40.870Z"
      },
      {
        "duration": 32,
        "start_time": "2023-10-21T14:14:40.874Z"
      },
      {
        "duration": 23,
        "start_time": "2023-10-21T14:14:40.908Z"
      },
      {
        "duration": 10,
        "start_time": "2023-10-21T14:14:40.933Z"
      },
      {
        "duration": 9,
        "start_time": "2023-10-21T14:14:40.944Z"
      },
      {
        "duration": 28,
        "start_time": "2023-10-21T14:14:40.955Z"
      },
      {
        "duration": 45,
        "start_time": "2023-10-21T14:14:40.985Z"
      },
      {
        "duration": 1049,
        "start_time": "2023-10-21T14:17:56.372Z"
      },
      {
        "duration": 3,
        "start_time": "2023-10-21T14:17:57.424Z"
      },
      {
        "duration": 48,
        "start_time": "2023-10-21T14:17:57.428Z"
      },
      {
        "duration": 8,
        "start_time": "2023-10-21T14:17:57.478Z"
      },
      {
        "duration": 7,
        "start_time": "2023-10-21T14:17:57.488Z"
      },
      {
        "duration": 25,
        "start_time": "2023-10-21T14:17:57.497Z"
      },
      {
        "duration": 52,
        "start_time": "2023-10-21T14:17:57.523Z"
      },
      {
        "duration": 3,
        "start_time": "2023-10-21T14:17:57.576Z"
      },
      {
        "duration": 32,
        "start_time": "2023-10-21T14:17:57.581Z"
      },
      {
        "duration": 6,
        "start_time": "2023-10-21T14:17:57.614Z"
      },
      {
        "duration": 15,
        "start_time": "2023-10-21T14:17:57.621Z"
      },
      {
        "duration": 59,
        "start_time": "2023-10-21T14:17:57.638Z"
      },
      {
        "duration": 38,
        "start_time": "2023-10-21T14:17:57.698Z"
      },
      {
        "duration": 51,
        "start_time": "2023-10-21T14:17:57.739Z"
      },
      {
        "duration": 65,
        "start_time": "2023-10-21T14:17:57.792Z"
      },
      {
        "duration": 107,
        "start_time": "2023-10-21T14:17:57.859Z"
      },
      {
        "duration": 62,
        "start_time": "2023-10-21T14:17:57.967Z"
      },
      {
        "duration": 21,
        "start_time": "2023-10-21T14:17:58.031Z"
      },
      {
        "duration": 263,
        "start_time": "2023-10-21T14:17:58.053Z"
      },
      {
        "duration": 277,
        "start_time": "2023-10-21T14:17:58.317Z"
      },
      {
        "duration": 204,
        "start_time": "2023-10-21T14:17:58.596Z"
      },
      {
        "duration": 356,
        "start_time": "2023-10-21T14:17:58.802Z"
      },
      {
        "duration": 223,
        "start_time": "2023-10-21T14:17:59.160Z"
      },
      {
        "duration": 291,
        "start_time": "2023-10-21T14:17:59.384Z"
      },
      {
        "duration": 278,
        "start_time": "2023-10-21T14:17:59.676Z"
      },
      {
        "duration": 4,
        "start_time": "2023-10-21T14:17:59.956Z"
      },
      {
        "duration": 158,
        "start_time": "2023-10-21T14:17:59.961Z"
      },
      {
        "duration": 162,
        "start_time": "2023-10-21T14:18:00.120Z"
      },
      {
        "duration": 5,
        "start_time": "2023-10-21T14:18:00.284Z"
      },
      {
        "duration": 76,
        "start_time": "2023-10-21T14:18:00.291Z"
      },
      {
        "duration": 194,
        "start_time": "2023-10-21T14:18:00.369Z"
      },
      {
        "duration": 194,
        "start_time": "2023-10-21T14:18:00.565Z"
      },
      {
        "duration": 114,
        "start_time": "2023-10-21T14:18:00.761Z"
      },
      {
        "duration": 101,
        "start_time": "2023-10-21T14:18:00.877Z"
      },
      {
        "duration": 144,
        "start_time": "2023-10-21T14:18:00.980Z"
      },
      {
        "duration": 79,
        "start_time": "2023-10-21T14:18:01.126Z"
      },
      {
        "duration": 71,
        "start_time": "2023-10-21T14:18:01.207Z"
      },
      {
        "duration": 124,
        "start_time": "2023-10-21T14:18:01.280Z"
      },
      {
        "duration": 1164,
        "start_time": "2023-10-21T14:18:54.015Z"
      },
      {
        "duration": 3,
        "start_time": "2023-10-21T14:18:55.181Z"
      },
      {
        "duration": 65,
        "start_time": "2023-10-21T14:18:55.185Z"
      },
      {
        "duration": 9,
        "start_time": "2023-10-21T14:18:55.251Z"
      },
      {
        "duration": 10,
        "start_time": "2023-10-21T14:18:55.262Z"
      },
      {
        "duration": 40,
        "start_time": "2023-10-21T14:18:55.274Z"
      },
      {
        "duration": 68,
        "start_time": "2023-10-21T14:18:55.315Z"
      },
      {
        "duration": 3,
        "start_time": "2023-10-21T14:18:55.384Z"
      },
      {
        "duration": 46,
        "start_time": "2023-10-21T14:18:55.388Z"
      },
      {
        "duration": 6,
        "start_time": "2023-10-21T14:18:55.435Z"
      },
      {
        "duration": 28,
        "start_time": "2023-10-21T14:18:55.443Z"
      },
      {
        "duration": 36,
        "start_time": "2023-10-21T14:18:55.472Z"
      },
      {
        "duration": 11,
        "start_time": "2023-10-21T14:18:55.510Z"
      },
      {
        "duration": 21,
        "start_time": "2023-10-21T14:18:55.525Z"
      },
      {
        "duration": 35,
        "start_time": "2023-10-21T14:18:55.549Z"
      },
      {
        "duration": 16,
        "start_time": "2023-10-21T14:18:55.586Z"
      },
      {
        "duration": 40,
        "start_time": "2023-10-21T14:18:55.603Z"
      },
      {
        "duration": 17,
        "start_time": "2023-10-21T14:18:55.645Z"
      },
      {
        "duration": 369,
        "start_time": "2023-10-21T14:18:55.664Z"
      },
      {
        "duration": 290,
        "start_time": "2023-10-21T14:18:56.034Z"
      },
      {
        "duration": 199,
        "start_time": "2023-10-21T14:18:56.325Z"
      },
      {
        "duration": 301,
        "start_time": "2023-10-21T14:18:56.525Z"
      },
      {
        "duration": 225,
        "start_time": "2023-10-21T14:18:56.827Z"
      },
      {
        "duration": 280,
        "start_time": "2023-10-21T14:18:57.053Z"
      },
      {
        "duration": 294,
        "start_time": "2023-10-21T14:18:57.335Z"
      },
      {
        "duration": 5,
        "start_time": "2023-10-21T14:18:57.631Z"
      },
      {
        "duration": 162,
        "start_time": "2023-10-21T14:18:57.638Z"
      },
      {
        "duration": 157,
        "start_time": "2023-10-21T14:18:57.802Z"
      },
      {
        "duration": 6,
        "start_time": "2023-10-21T14:18:57.961Z"
      },
      {
        "duration": 7,
        "start_time": "2023-10-21T14:18:57.969Z"
      },
      {
        "duration": 206,
        "start_time": "2023-10-21T14:18:57.978Z"
      },
      {
        "duration": 3,
        "start_time": "2023-10-21T14:18:58.185Z"
      },
      {
        "duration": 65,
        "start_time": "2023-10-21T14:18:58.189Z"
      },
      {
        "duration": 10,
        "start_time": "2023-10-21T14:18:58.255Z"
      },
      {
        "duration": 9,
        "start_time": "2023-10-21T14:18:58.267Z"
      },
      {
        "duration": 45,
        "start_time": "2023-10-21T14:18:58.278Z"
      },
      {
        "duration": 44,
        "start_time": "2023-10-21T14:18:58.325Z"
      },
      {
        "duration": 13,
        "start_time": "2023-10-21T14:18:58.371Z"
      }
    ],
    "kernelspec": {
      "display_name": "Python 3 (ipykernel)",
      "language": "python",
      "name": "python3"
    },
    "language_info": {
      "codemirror_mode": {
        "name": "ipython",
        "version": 3
      },
      "file_extension": ".py",
      "mimetype": "text/x-python",
      "name": "python",
      "nbconvert_exporter": "python",
      "pygments_lexer": "ipython3",
      "version": "3.9.5"
    },
    "toc": {
      "base_numbering": 1,
      "nav_menu": {},
      "number_sections": true,
      "sideBar": true,
      "skip_h1_title": true,
      "title_cell": "Table of Contents",
      "title_sidebar": "Contents",
      "toc_cell": false,
      "toc_position": {
        "height": "calc(100% - 180px)",
        "left": "10px",
        "top": "150px",
        "width": "429.2px"
      },
      "toc_section_display": true,
      "toc_window_display": false
    },
    "colab": {
      "provenance": []
    }
  },
  "nbformat": 4,
  "nbformat_minor": 0
}