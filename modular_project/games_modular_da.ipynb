{
  "cells": [
    {
      "cell_type": "markdown",
      "metadata": {
        "id": "Xs_RebpzEAuW"
      },
      "source": [
        "# Анализ успешности компьютерных игр в интернет-магазине \"Стримчик\"\n",
        "\n",
        "В рамках данного проекта, мы проведем анализ данных о продажах компьютерных игр, оценках пользователей и экспертов, жанрах, платформах и возрастных рейтингах в интернет-магазине \"Стримчик\". Наша задача заключается в выявлении факторов, которые влияют на успешность игры и позволяют прогнозировать будущие популярные продукты, а также эффективно планировать рекламные кампании.\n",
        "\n",
        "## Краткое резюме проекта:\n",
        "\n",
        "Наши исследования будут базироваться на наборе данных, который включает в себя информацию о 16715 играх, выпущенных до 2016 года. Мы располагаем данными о названии игры, платформе, годе выпуска, жанре, объемах продаж в различных регионах (Северная Америка, Европа, Япония, другие страны), оценках критиков и пользователей, а также возрастном рейтинге, присвоенном организацией ESRB.\n",
        "\n",
        "Этот анализ имеет особое значение в свете текущей ситуации: предполагается, что мы находимся в декабре 2016 года, и нам необходимо подготовиться к кампании на 2017 год. Наша цель - разработать работающий принцип работы с данными, который может быть использован как для прогнозирования продаж в следующем году на основе данных текущего года, так и для будущих прогнозов, если нам потребуются данные на другой временной горизонт.\n",
        "\n",
        "Наша основная цель - провести анализ, выделить ключевые тренды и закономерности в данных, которые позволят нам принимать обоснованные решения в планировании продаж и маркетинговых стратегий. В конечном итоге, эффективное использование данных может существенно повлиять на успех продаж и развитие нашего интернет-магазина.\n",
        "\n",
        "## План работы:\n",
        "\n",
        "1. **Загрузка данных и первичный просмотр:**\n",
        "   - Прочитаем и ознакомимся с данными для дальнейшего анализа.\n",
        "\n",
        "\n",
        "2. **Предобработка данных:**\n",
        "   - Изменим типы данных в столбцах, где это необходимо, для более удобного анализа.\n",
        "   - Обработаем дубликаты и пропущенные значения, где это возможно.\n",
        "   - Создадим новый столбец с общим количеством проданных игр, сложив продажи рарзных регионов\n",
        "\n",
        "\n",
        "3. **Исследовательский анализ данных (EDA):**\n",
        "   - Посмотрим, сколько игр выпускалось в разные годы. Ответим на вопрос, важны ли данные за все периоды?\n",
        "   - Посмотрим, как менялись продажи по платформам. Выберем платформы с наибольшими суммарными продажами и построим распределение по годам. Ответим на вопрос, за какой характерный срок появляются новые и исчезают старые платформы?\n",
        "   - Возьмем данные за соответствующий актуальный период.\n",
        "   - Какие платформы лидируют по продажам, растут или падают? Выберем несколько потенциально прибыльных платформ.\n",
        "   - Посмотрим, как влияют на продажи внутри одной популярной платформы отзывы пользователей и критиков.\n",
        "   - Посмотрим на общее распределение игр по жанрам. Что можно сказать о самых прибыльных жанрах? Выделяются ли жанры с высокими и низкими продажами?\n",
        "\n",
        "\n",
        "4. **Портрет пользователя каждого региона:**\n",
        "    \n",
        "    Определим для пользователя каждого региона (NA, EU, JP):\n",
        "    - Самые популярные платформы (топ-5).\n",
        "    - Самые популярные жанры (топ-5).\n",
        "    - Влияет ли рейтинг ESRB на продажи в отдельном регионе?\n",
        "\n",
        "\n",
        "5. **Проверка гипотез:**\n",
        "   - Одинаковы ли средние пользовательские рейтинги платформ Xbox One и PC?\n",
        "   - Средние пользовательские рейтинги жанров Action (англ. «действие», экшен-игры) и Sports (англ. «спортивные соревнования») разные или нет?\n",
        "   \n",
        "   \n",
        "На основе этого плана мы приступим к анализу данных интернет-магазина \"Стримчик\" и выявим полезные инсайты, которые помогут улучшить работу бизнеса и обеспечить правдивые данные для будущего года."
      ]
    },
    {
      "cell_type": "markdown",
      "metadata": {
        "id": "wVt_72J7EAua"
      },
      "source": [
        "## Загрузим библиотеки, откроем файлы и просмотрим данные."
      ]
    },
    {
      "cell_type": "code",
      "execution_count": null,
      "metadata": {
        "id": "BgrHGZ-WEAuc"
      },
      "outputs": [],
      "source": [
        "import pandas as pd\n",
        "import matplotlib.pyplot as plt\n",
        "import seaborn as sns\n",
        "import scipy.stats as st\n",
        "import numpy as np"
      ]
    },
    {
      "cell_type": "code",
      "execution_count": null,
      "metadata": {
        "id": "w40hoUu_EAuf",
        "outputId": "2f28f5db-8946-40eb-9ce7-708a84f6afef"
      },
      "outputs": [
        {
          "name": "stdout",
          "output_type": "stream",
          "text": [
            "<class 'pandas.core.frame.DataFrame'>\n",
            "RangeIndex: 16715 entries, 0 to 16714\n",
            "Data columns (total 11 columns):\n",
            " #   Column           Non-Null Count  Dtype  \n",
            "---  ------           --------------  -----  \n",
            " 0   Name             16713 non-null  object \n",
            " 1   Platform         16715 non-null  object \n",
            " 2   Year_of_Release  16446 non-null  float64\n",
            " 3   Genre            16713 non-null  object \n",
            " 4   NA_sales         16715 non-null  float64\n",
            " 5   EU_sales         16715 non-null  float64\n",
            " 6   JP_sales         16715 non-null  float64\n",
            " 7   Other_sales      16715 non-null  float64\n",
            " 8   Critic_Score     8137 non-null   float64\n",
            " 9   User_Score       10014 non-null  object \n",
            " 10  Rating           9949 non-null   object \n",
            "dtypes: float64(6), object(5)\n",
            "memory usage: 1.4+ MB\n"
          ]
        },
        {
          "data": {
            "text/html": [
              "<div>\n",
              "<style scoped>\n",
              "    .dataframe tbody tr th:only-of-type {\n",
              "        vertical-align: middle;\n",
              "    }\n",
              "\n",
              "    .dataframe tbody tr th {\n",
              "        vertical-align: top;\n",
              "    }\n",
              "\n",
              "    .dataframe thead th {\n",
              "        text-align: right;\n",
              "    }\n",
              "</style>\n",
              "<table border=\"1\" class=\"dataframe\">\n",
              "  <thead>\n",
              "    <tr style=\"text-align: right;\">\n",
              "      <th></th>\n",
              "      <th>Name</th>\n",
              "      <th>Platform</th>\n",
              "      <th>Year_of_Release</th>\n",
              "      <th>Genre</th>\n",
              "      <th>NA_sales</th>\n",
              "      <th>EU_sales</th>\n",
              "      <th>JP_sales</th>\n",
              "      <th>Other_sales</th>\n",
              "      <th>Critic_Score</th>\n",
              "      <th>User_Score</th>\n",
              "      <th>Rating</th>\n",
              "    </tr>\n",
              "  </thead>\n",
              "  <tbody>\n",
              "    <tr>\n",
              "      <th>0</th>\n",
              "      <td>Wii Sports</td>\n",
              "      <td>Wii</td>\n",
              "      <td>2006.0</td>\n",
              "      <td>Sports</td>\n",
              "      <td>41.36</td>\n",
              "      <td>28.96</td>\n",
              "      <td>3.77</td>\n",
              "      <td>8.45</td>\n",
              "      <td>76.0</td>\n",
              "      <td>8</td>\n",
              "      <td>E</td>\n",
              "    </tr>\n",
              "    <tr>\n",
              "      <th>1</th>\n",
              "      <td>Super Mario Bros.</td>\n",
              "      <td>NES</td>\n",
              "      <td>1985.0</td>\n",
              "      <td>Platform</td>\n",
              "      <td>29.08</td>\n",
              "      <td>3.58</td>\n",
              "      <td>6.81</td>\n",
              "      <td>0.77</td>\n",
              "      <td>NaN</td>\n",
              "      <td>NaN</td>\n",
              "      <td>NaN</td>\n",
              "    </tr>\n",
              "    <tr>\n",
              "      <th>2</th>\n",
              "      <td>Mario Kart Wii</td>\n",
              "      <td>Wii</td>\n",
              "      <td>2008.0</td>\n",
              "      <td>Racing</td>\n",
              "      <td>15.68</td>\n",
              "      <td>12.76</td>\n",
              "      <td>3.79</td>\n",
              "      <td>3.29</td>\n",
              "      <td>82.0</td>\n",
              "      <td>8.3</td>\n",
              "      <td>E</td>\n",
              "    </tr>\n",
              "    <tr>\n",
              "      <th>3</th>\n",
              "      <td>Wii Sports Resort</td>\n",
              "      <td>Wii</td>\n",
              "      <td>2009.0</td>\n",
              "      <td>Sports</td>\n",
              "      <td>15.61</td>\n",
              "      <td>10.93</td>\n",
              "      <td>3.28</td>\n",
              "      <td>2.95</td>\n",
              "      <td>80.0</td>\n",
              "      <td>8</td>\n",
              "      <td>E</td>\n",
              "    </tr>\n",
              "    <tr>\n",
              "      <th>4</th>\n",
              "      <td>Pokemon Red/Pokemon Blue</td>\n",
              "      <td>GB</td>\n",
              "      <td>1996.0</td>\n",
              "      <td>Role-Playing</td>\n",
              "      <td>11.27</td>\n",
              "      <td>8.89</td>\n",
              "      <td>10.22</td>\n",
              "      <td>1.00</td>\n",
              "      <td>NaN</td>\n",
              "      <td>NaN</td>\n",
              "      <td>NaN</td>\n",
              "    </tr>\n",
              "  </tbody>\n",
              "</table>\n",
              "</div>"
            ],
            "text/plain": [
              "                       Name Platform  Year_of_Release         Genre  NA_sales  \\\n",
              "0                Wii Sports      Wii           2006.0        Sports     41.36   \n",
              "1         Super Mario Bros.      NES           1985.0      Platform     29.08   \n",
              "2            Mario Kart Wii      Wii           2008.0        Racing     15.68   \n",
              "3         Wii Sports Resort      Wii           2009.0        Sports     15.61   \n",
              "4  Pokemon Red/Pokemon Blue       GB           1996.0  Role-Playing     11.27   \n",
              "\n",
              "   EU_sales  JP_sales  Other_sales  Critic_Score User_Score Rating  \n",
              "0     28.96      3.77         8.45          76.0          8      E  \n",
              "1      3.58      6.81         0.77           NaN        NaN    NaN  \n",
              "2     12.76      3.79         3.29          82.0        8.3      E  \n",
              "3     10.93      3.28         2.95          80.0          8      E  \n",
              "4      8.89     10.22         1.00           NaN        NaN    NaN  "
            ]
          },
          "execution_count": 2,
          "metadata": {},
          "output_type": "execute_result"
        }
      ],
      "source": [
        "data = pd.read_csv('/datasets/games.csv')\n",
        "data.info()\n",
        "data.head()"
      ]
    },
    {
      "cell_type": "markdown",
      "metadata": {
        "id": "BOKrH9cEEAui"
      },
      "source": [
        "**Вывод:**\n",
        "\n",
        "Наш DataFrame имеет следующие характеристики:\n",
        "\n",
        "Общее количество строк: 16715\n",
        "\n",
        "Количество столбцов: 11\n",
        "\n",
        "Столбцы и их описание:\n",
        "\n",
        "- `Name`: Название игры.\n",
        "- `Platform`: Платформа, на которой выпущена игра.\n",
        "- `Year_of_Release`: Год выпуска игры.\n",
        "- `Genre`: Жанр игры.\n",
        "- `NA_sales`: Продажи в Северной Америке (в миллионах проданных копий).\n",
        "- `EU_sales`: Продажи в Европе (в миллионах проданных копий).\n",
        "- `JP_sales`: Продажи в Японии (в миллионах проданных копий).\n",
        "- `Other_sales`: Продажи в других странах (в миллионах проданных копий).\n",
        "- `Critic_Score`: Оценка критиков (максимум 100).\n",
        "- `User_Score`: Оценка пользователей (максимум 10).\n",
        "- `Rating`: Рейтинг от организации ESRB (англ. Entertainment Software Rating Board). ESRB присваивает играм возрастные категории в соответствии с их содержанием."
      ]
    },
    {
      "cell_type": "markdown",
      "metadata": {
        "id": "MGNE7TxOEAuk"
      },
      "source": [
        "## Предобработка"
      ]
    },
    {
      "cell_type": "code",
      "execution_count": null,
      "metadata": {
        "id": "x5u2sX0KEAul"
      },
      "outputs": [],
      "source": [
        "# приведем названия столбцов к нижнему регистру\n",
        "data.columns = data.columns.str.lower()"
      ]
    },
    {
      "cell_type": "code",
      "execution_count": null,
      "metadata": {
        "scrolled": false,
        "id": "nOsZCF5VEAun",
        "outputId": "dedc9342-74f6-46b2-87dc-5e806547859f"
      },
      "outputs": [
        {
          "data": {
            "text/plain": [
              "0"
            ]
          },
          "execution_count": 4,
          "metadata": {},
          "output_type": "execute_result"
        }
      ],
      "source": [
        "# проверим на дубликаты\n",
        "data.duplicated().sum() # дубликатов нет"
      ]
    },
    {
      "cell_type": "code",
      "execution_count": null,
      "metadata": {
        "id": "7vt9Ml7BEAuo",
        "outputId": "78e574ce-5de8-4a67-eb8f-82f8ca441e46"
      },
      "outputs": [
        {
          "data": {
            "text/plain": [
              "2"
            ]
          },
          "execution_count": 5,
          "metadata": {},
          "output_type": "execute_result"
        }
      ],
      "source": [
        "# обработаем пропущенные значения\n",
        "data['name'].isna().sum() # 2 пропуска, это 0.1%, можно удалить"
      ]
    },
    {
      "cell_type": "code",
      "execution_count": null,
      "metadata": {
        "id": "ZcEFfPfSEAup"
      },
      "outputs": [],
      "source": [
        "# удалим пропущенные значения в столбце названия игры\n",
        "data = data.dropna(subset=['name'])"
      ]
    },
    {
      "cell_type": "code",
      "execution_count": null,
      "metadata": {
        "id": "0-lQMTfOEAuq",
        "outputId": "b6f3c52e-1b7b-4255-f52c-1d46e3a44b8f"
      },
      "outputs": [
        {
          "data": {
            "text/plain": [
              "1"
            ]
          },
          "execution_count": 7,
          "metadata": {},
          "output_type": "execute_result"
        }
      ],
      "source": [
        "# проверим на неявные дубликаты\n",
        "duplicate_columns = ['name', 'platform', 'year_of_release']\n",
        "data[duplicate_columns].duplicated().sum()"
      ]
    },
    {
      "cell_type": "code",
      "execution_count": null,
      "metadata": {
        "id": "iyc0_zdHEAuq"
      },
      "outputs": [],
      "source": [
        "# удалим неявные дубликаты\n",
        "duplicates = data[duplicate_columns].duplicated()\n",
        "data = data[~duplicates]"
      ]
    },
    {
      "cell_type": "code",
      "execution_count": null,
      "metadata": {
        "scrolled": true,
        "id": "5tM6tPaeEAut",
        "outputId": "85251c5d-f63c-4aea-b600-0faab8c670e3"
      },
      "outputs": [
        {
          "data": {
            "text/plain": [
              "269"
            ]
          },
          "execution_count": 9,
          "metadata": {},
          "output_type": "execute_result"
        }
      ],
      "source": [
        "# рассмотрим столбец с информацией о годах выпуска игр\n",
        "data['year_of_release'].isna().sum()"
      ]
    },
    {
      "cell_type": "code",
      "execution_count": null,
      "metadata": {
        "id": "tOmNxV-REAut"
      },
      "outputs": [],
      "source": [
        "# некоторые игры выходят сразу на нескольких платформах в один и тот же год, поэтому заменим некоторые пропуски\n",
        "max_year_per_game = data.groupby('name')['year_of_release'].max()\n",
        "\n",
        "# Заполняем пропущенные значения в столбце 'год' на основе данных из группировки\n",
        "data['year_of_release'] = data.apply(lambda row: max_year_per_game[row['name']] if pd.isna(row['year_of_release']) else row['year_of_release'], axis=1)"
      ]
    },
    {
      "cell_type": "code",
      "execution_count": null,
      "metadata": {
        "id": "fx2ZNXEIEAuv",
        "outputId": "142e56b2-2ed5-4f1c-e418-4155e38354e3"
      },
      "outputs": [
        {
          "data": {
            "text/plain": [
              "146"
            ]
          },
          "execution_count": 11,
          "metadata": {},
          "output_type": "execute_result"
        }
      ],
      "source": [
        "data['year_of_release'].isna().sum() # осталось 146 пропусков, это 0.8%"
      ]
    },
    {
      "cell_type": "code",
      "execution_count": null,
      "metadata": {
        "id": "hE_Ic9v4EAuw"
      },
      "outputs": [],
      "source": [
        "# удалим пропуски в столбце о годе релиза игры\n",
        "data = data.dropna(subset=['year_of_release'])"
      ]
    },
    {
      "cell_type": "markdown",
      "metadata": {
        "id": "1JJi5-dbEAux"
      },
      "source": [
        "**Вывод:**\n",
        "\n",
        "На данном этапе анализа были проведены первичные операции с данными. Важно отметить, что в исходном датасете не было обнаружено явных дубликатов строк. Однако из-за наличия пропущенных значений было принято решение удалить 0.1% строк, где были пропуски в столбце с названием игр, и 0.8% строк, содержащих пропуски в столбце с годом выпуска игры. Также стоит отметить, что удалось восстановить часть пропусков в столбце с годом выпуска благодаря тому, что игры на разных платформах часто выходят в один и тот же год. Это позволило нам восстановить часть данных и снизить количество пропусков."
      ]
    },
    {
      "cell_type": "code",
      "execution_count": null,
      "metadata": {
        "id": "5uLxniSuEAux"
      },
      "outputs": [],
      "source": [
        "# Комментарий ревьюера\n",
        "# Создадим копию датасета перед преобразованием\n",
        "temp = data.copy()"
      ]
    },
    {
      "cell_type": "code",
      "execution_count": null,
      "metadata": {
        "id": "LwgUOSz6EAuy",
        "outputId": "b80f351e-cb82-4150-b134-882f530e99e1"
      },
      "outputs": [
        {
          "data": {
            "text/plain": [
              "array(['8', nan, '8.3', '8.5', '6.6', '8.4', '8.6', '7.7', '6.3', '7.4',\n",
              "       '8.2', '9', '7.9', '8.1', '8.7', '7.1', '3.4', '5.3', '4.8', '3.2',\n",
              "       '8.9', '6.4', '7.8', '7.5', '2.6', '7.2', '9.2', '7', '7.3', '4.3',\n",
              "       '7.6', '5.7', '5', '9.1', '6.5', 'tbd', '8.8', '6.9', '9.4', '6.8',\n",
              "       '6.1', '6.7', '5.4', '4', '4.9', '4.5', '9.3', '6.2', '4.2', '6',\n",
              "       '3.7', '4.1', '5.8', '5.6', '5.5', '4.4', '4.6', '5.9', '3.9',\n",
              "       '3.1', '2.9', '5.2', '3.3', '4.7', '5.1', '3.5', '2.5', '1.9', '3',\n",
              "       '2.7', '2.2', '2', '9.5', '2.1', '3.6', '2.8', '1.8', '3.8', '0',\n",
              "       '1.6', '9.6', '2.4', '1.7', '1.1', '0.3', '1.5', '0.7', '1.2',\n",
              "       '2.3', '0.5', '1.3', '0.2', '0.6', '1.4', '0.9', '1', '9.7'],\n",
              "      dtype=object)"
            ]
          },
          "execution_count": 14,
          "metadata": {},
          "output_type": "execute_result"
        }
      ],
      "source": [
        "data['user_score'].unique()"
      ]
    },
    {
      "cell_type": "code",
      "execution_count": null,
      "metadata": {
        "id": "90CNUePiEAuz"
      },
      "outputs": [],
      "source": [
        "# заменим строковое nan в user_score на пропуск\n",
        "# data['user_score'] = data['user_score'].replace('nan', None)\n",
        "\n",
        "# заменим строковое tbd в user_score на пропуск\n",
        "# data['user_score'] = data['user_score'].replace('tbd', None)"
      ]
    },
    {
      "cell_type": "code",
      "execution_count": null,
      "metadata": {
        "id": "JXJmTDRlEAuz"
      },
      "outputs": [],
      "source": [
        "# заменим строковое tbd в user_score на пропуск\n",
        "data['user_score'] = data['user_score'].replace('tbd', np.nan)"
      ]
    },
    {
      "cell_type": "markdown",
      "metadata": {
        "id": "-14C5-mSEAu2"
      },
      "source": [
        "Среди оценок присутствует значение tbd, которое обозначает \"to be determined/decided\", значит, что оценка от пользователей еще не определена. Заменили ее также на None."
      ]
    },
    {
      "cell_type": "code",
      "execution_count": null,
      "metadata": {
        "id": "22GaAZkbEAu4"
      },
      "outputs": [],
      "source": [
        "# изменим тип данных, где это нужно\n",
        "data['year_of_release'] = data['year_of_release'].astype(int)\n",
        "data['user_score'] = pd.to_numeric(data['user_score'], errors='ignore')"
      ]
    },
    {
      "cell_type": "markdown",
      "metadata": {
        "id": "8lk675pYEAvJ"
      },
      "source": [
        "Теперь посчитаем суммарные продажи во всех регионах и запишем их в отдельный столбец."
      ]
    },
    {
      "cell_type": "code",
      "execution_count": null,
      "metadata": {
        "id": "sw9pyP5xEAvK",
        "outputId": "b77fed9d-f032-4fc2-cc5f-af094cb4180a"
      },
      "outputs": [
        {
          "name": "stdout",
          "output_type": "stream",
          "text": [
            "<class 'pandas.core.frame.DataFrame'>\n",
            "Int64Index: 16566 entries, 0 to 16714\n",
            "Data columns (total 12 columns):\n",
            " #   Column           Non-Null Count  Dtype  \n",
            "---  ------           --------------  -----  \n",
            " 0   name             16566 non-null  object \n",
            " 1   platform         16566 non-null  object \n",
            " 2   year_of_release  16566 non-null  int64  \n",
            " 3   genre            16566 non-null  object \n",
            " 4   na_sales         16566 non-null  float64\n",
            " 5   eu_sales         16566 non-null  float64\n",
            " 6   jp_sales         16566 non-null  float64\n",
            " 7   other_sales      16566 non-null  float64\n",
            " 8   critic_score     8074 non-null   float64\n",
            " 9   user_score       7539 non-null   float64\n",
            " 10  rating           9867 non-null   object \n",
            " 11  total_sales      16566 non-null  float64\n",
            "dtypes: float64(7), int64(1), object(4)\n",
            "memory usage: 1.6+ MB\n"
          ]
        },
        {
          "data": {
            "text/html": [
              "<div>\n",
              "<style scoped>\n",
              "    .dataframe tbody tr th:only-of-type {\n",
              "        vertical-align: middle;\n",
              "    }\n",
              "\n",
              "    .dataframe tbody tr th {\n",
              "        vertical-align: top;\n",
              "    }\n",
              "\n",
              "    .dataframe thead th {\n",
              "        text-align: right;\n",
              "    }\n",
              "</style>\n",
              "<table border=\"1\" class=\"dataframe\">\n",
              "  <thead>\n",
              "    <tr style=\"text-align: right;\">\n",
              "      <th></th>\n",
              "      <th>name</th>\n",
              "      <th>platform</th>\n",
              "      <th>year_of_release</th>\n",
              "      <th>genre</th>\n",
              "      <th>na_sales</th>\n",
              "      <th>eu_sales</th>\n",
              "      <th>jp_sales</th>\n",
              "      <th>other_sales</th>\n",
              "      <th>critic_score</th>\n",
              "      <th>user_score</th>\n",
              "      <th>rating</th>\n",
              "      <th>total_sales</th>\n",
              "    </tr>\n",
              "  </thead>\n",
              "  <tbody>\n",
              "    <tr>\n",
              "      <th>0</th>\n",
              "      <td>Wii Sports</td>\n",
              "      <td>Wii</td>\n",
              "      <td>2006</td>\n",
              "      <td>Sports</td>\n",
              "      <td>41.36</td>\n",
              "      <td>28.96</td>\n",
              "      <td>3.77</td>\n",
              "      <td>8.45</td>\n",
              "      <td>76.0</td>\n",
              "      <td>8.0</td>\n",
              "      <td>E</td>\n",
              "      <td>82.54</td>\n",
              "    </tr>\n",
              "    <tr>\n",
              "      <th>1</th>\n",
              "      <td>Super Mario Bros.</td>\n",
              "      <td>NES</td>\n",
              "      <td>1985</td>\n",
              "      <td>Platform</td>\n",
              "      <td>29.08</td>\n",
              "      <td>3.58</td>\n",
              "      <td>6.81</td>\n",
              "      <td>0.77</td>\n",
              "      <td>NaN</td>\n",
              "      <td>NaN</td>\n",
              "      <td>NaN</td>\n",
              "      <td>40.24</td>\n",
              "    </tr>\n",
              "    <tr>\n",
              "      <th>2</th>\n",
              "      <td>Mario Kart Wii</td>\n",
              "      <td>Wii</td>\n",
              "      <td>2008</td>\n",
              "      <td>Racing</td>\n",
              "      <td>15.68</td>\n",
              "      <td>12.76</td>\n",
              "      <td>3.79</td>\n",
              "      <td>3.29</td>\n",
              "      <td>82.0</td>\n",
              "      <td>8.3</td>\n",
              "      <td>E</td>\n",
              "      <td>35.52</td>\n",
              "    </tr>\n",
              "    <tr>\n",
              "      <th>3</th>\n",
              "      <td>Wii Sports Resort</td>\n",
              "      <td>Wii</td>\n",
              "      <td>2009</td>\n",
              "      <td>Sports</td>\n",
              "      <td>15.61</td>\n",
              "      <td>10.93</td>\n",
              "      <td>3.28</td>\n",
              "      <td>2.95</td>\n",
              "      <td>80.0</td>\n",
              "      <td>8.0</td>\n",
              "      <td>E</td>\n",
              "      <td>32.77</td>\n",
              "    </tr>\n",
              "    <tr>\n",
              "      <th>4</th>\n",
              "      <td>Pokemon Red/Pokemon Blue</td>\n",
              "      <td>GB</td>\n",
              "      <td>1996</td>\n",
              "      <td>Role-Playing</td>\n",
              "      <td>11.27</td>\n",
              "      <td>8.89</td>\n",
              "      <td>10.22</td>\n",
              "      <td>1.00</td>\n",
              "      <td>NaN</td>\n",
              "      <td>NaN</td>\n",
              "      <td>NaN</td>\n",
              "      <td>31.38</td>\n",
              "    </tr>\n",
              "  </tbody>\n",
              "</table>\n",
              "</div>"
            ],
            "text/plain": [
              "                       name platform  year_of_release         genre  na_sales  \\\n",
              "0                Wii Sports      Wii             2006        Sports     41.36   \n",
              "1         Super Mario Bros.      NES             1985      Platform     29.08   \n",
              "2            Mario Kart Wii      Wii             2008        Racing     15.68   \n",
              "3         Wii Sports Resort      Wii             2009        Sports     15.61   \n",
              "4  Pokemon Red/Pokemon Blue       GB             1996  Role-Playing     11.27   \n",
              "\n",
              "   eu_sales  jp_sales  other_sales  critic_score  user_score rating  \\\n",
              "0     28.96      3.77         8.45          76.0         8.0      E   \n",
              "1      3.58      6.81         0.77           NaN         NaN    NaN   \n",
              "2     12.76      3.79         3.29          82.0         8.3      E   \n",
              "3     10.93      3.28         2.95          80.0         8.0      E   \n",
              "4      8.89     10.22         1.00           NaN         NaN    NaN   \n",
              "\n",
              "   total_sales  \n",
              "0        82.54  \n",
              "1        40.24  \n",
              "2        35.52  \n",
              "3        32.77  \n",
              "4        31.38  "
            ]
          },
          "execution_count": 19,
          "metadata": {},
          "output_type": "execute_result"
        }
      ],
      "source": [
        "data['total_sales'] = data['na_sales'] + data['eu_sales'] + data['jp_sales'] + data['other_sales']\n",
        "\n",
        "# посмотрим на результат\n",
        "data.info()\n",
        "data.head()"
      ]
    },
    {
      "cell_type": "markdown",
      "metadata": {
        "id": "N9jRpMcYEAvM"
      },
      "source": [
        "Пропуски в столбце `rating` объясняются тем, что рейтинг ESRB предназначен для маркировки игр для США и Канады, а для других регионов он часто не заполняется, мы можем использовать значение, которое отражает отсутствие рейтинга вне США и Канады. Например, можно использовать \"NR\" (Not Rated) в качестве заглушки для пропущенных значений в столбце рейтингов.\n",
        "\n",
        "Этот подход поможет сохранить данные о рейтингах для США и Канады, а также позволит нам учитывать игры без рейтинга в других регионах при анализе. Это дает возможность извлечь полезную информацию из данных о продажах, даже если рейтинг для некоторых регионов отсутствует."
      ]
    },
    {
      "cell_type": "code",
      "execution_count": null,
      "metadata": {
        "id": "986Jud25EAvN"
      },
      "outputs": [],
      "source": [
        "data['rating'] = data['rating'].fillna('NR')"
      ]
    },
    {
      "cell_type": "markdown",
      "metadata": {
        "id": "eCaWy6NLEAvO"
      },
      "source": [
        "**Вывод:**\n",
        "\n",
        "Дополнительно в процессе очистки данных мы столкнулись с особенностью столбца `user_score`, который содержал значение \"tbd\" (to be determined/decided). Это обозначение указывает на то, что оценка от пользователей еще не определена. Было принято решение заменить такие значения на пропуски.\n",
        "\n",
        "Также была поставлена заглушка на пропусках столбца `rating` со значением NR = not rated.\n",
        "\n",
        "Кроме того, для удобства анализа и расчетов, был добавлен дополнительный столбец `total_sales`, который для каждой строки суммирует продажи игр во всех регионах. Это позволило создать единый показатель общих продаж игры в миллионах копий, что упрощает сравнение и анализ успешности игр на различных платформах и в разных регионах."
      ]
    },
    {
      "cell_type": "markdown",
      "metadata": {
        "id": "jWjWczuwEAvO"
      },
      "source": [
        "**+ к выводу:**\n",
        "\n",
        "Пропуски в данных могли появиться по разным причинам:\n",
        "\n",
        "- **Недостаточные записи:** Возможно, не все игры были полностью зарегистрированы в базе данных, поэтому названия, годы релиза и оценки могли быть упущены.\n",
        "\n",
        "- **Технические проблемы:** При сборе или хранении данных могли возникнуть технические проблемы, которые могли привести к потере информации.\n",
        "\n",
        "- **Отсутствие данных:** Иногда разработчики игр или издатели не предоставляют полную информацию о названиях, годах выпуска и рейтингах.\n",
        "\n",
        "- **Исторические изменения:** Время от времени критерии оценок и рейтингов могут меняться. Некоторые старые игры могли быть оценены, но данные не были сохранены или они были утеряны.\n",
        "\n",
        "- **Человеческий фактор:** Ошибки при внесении данных вручную или автоматически могли привести к пропускам.\n",
        "\n",
        "- **Неполные данные:** Возможно, часть данных была утеряна или не была включена в исходный набор из-за ограничений на сбор данных."
      ]
    },
    {
      "cell_type": "markdown",
      "metadata": {
        "id": "bRKdd5VTEAvU"
      },
      "source": [
        "## Исследовательский анализ данных\n",
        "\n",
        "### Сколько игр выпускалось в разные годы? Важны ли данные за все периоды?"
      ]
    },
    {
      "cell_type": "code",
      "execution_count": null,
      "metadata": {
        "id": "m5e8y-FCEAvU"
      },
      "outputs": [],
      "source": [
        "# data['year_of_release'].plot(kind='hist', bins=35)"
      ]
    },
    {
      "cell_type": "code",
      "execution_count": null,
      "metadata": {
        "id": "zYJCWC8QEAvV",
        "outputId": "2d3a9c0a-025a-4ad2-d6ff-789c95c52d55"
      },
      "outputs": [
        {
          "data": {
            "image/png": "[encoded data removed]",
            "text/plain": [
              "<Figure size 864x432 with 1 Axes>"
            ]
          },
          "metadata": {
            "needs_background": "light"
          },
          "output_type": "display_data"
        }
      ],
      "source": [
        "plt.figure(figsize=(12, 6))\n",
        "\n",
        "data.groupby(by=data['year_of_release'])['name'].count().plot(kind='bar')\n",
        "plt.title('Количество игр выпущенных в разные года')\n",
        "plt.xlabel('Год выпуска игр')\n",
        "plt.ylabel('Количество проданных игр в млн')\n",
        "plt.show()"
      ]
    },
    {
      "cell_type": "markdown",
      "metadata": {
        "id": "0IVyyul_EAva"
      },
      "source": [
        "Большинство игр выпускалось в 2008 и 2009 год. До 2002 года количество проданных игр было совсем низким (вероятно это связано с кризисом игровой индустрии), после этого года замечен рост игровой индустрии. Также замечен спад продаж после 2011 года, который так и остался на данном уровне по 2016 год. Исходя из этого данные до 2002 года не важны для нашего исследования.  "
      ]
    },
    {
      "cell_type": "markdown",
      "metadata": {
        "id": "MVF8ZaNMEAvb"
      },
      "source": [
        "### Как менялись продажи по платформам? Выберем платформы с наибольшими суммарными продажами и построим распределение по годам. Ответим на вопрос, за какой характерный срок появляются новые и исчезают старые платформы?"
      ]
    },
    {
      "cell_type": "code",
      "execution_count": null,
      "metadata": {
        "scrolled": false,
        "id": "C3WqAc-5EAvb",
        "outputId": "0760cf69-19a8-4181-d807-ee881c6c9cbf"
      },
      "outputs": [
        {
          "data": {
            "image/png": "[encoded data removed]",
            "text/plain": [
              "<Figure size 864x432 with 1 Axes>"
            ]
          },
          "metadata": {
            "needs_background": "light"
          },
          "output_type": "display_data"
        }
      ],
      "source": [
        "# просмотирм какие платформы имеют наибольшие суммарные продажи\n",
        "plt.figure(figsize=(12, 6))\n",
        "sales_by_platform = data.groupby(by=data['platform'])['total_sales'].sum().sort_values(ascending=False)\n",
        "sales_by_platform.plot(kind='bar')\n",
        "plt.title('Суммарные продажи платформ')\n",
        "plt.xlabel('Платформы')\n",
        "plt.ylabel('Количество проданных игр в млн')\n",
        "plt.show()"
      ]
    },
    {
      "cell_type": "markdown",
      "metadata": {
        "id": "9OgLMhZaEAvd"
      },
      "source": [
        "Лучшими по продажам являются 6 платформ (продано игр включительно больше 727.58 млн): PS2, X360, PS3, Wii, DS и PS, построим распределение продаж этих платформ по годам."
      ]
    },
    {
      "cell_type": "code",
      "execution_count": null,
      "metadata": {
        "scrolled": false,
        "id": "sj0KjwaIEAvd",
        "outputId": "da977c23-9f9a-4474-94ad-1e9d3b24e701"
      },
      "outputs": [
        {
          "data": {
            "image/png": "[encoded data removed]",
            "text/plain": [
              "<Figure size 648x288 with 1 Axes>"
            ]
          },
          "metadata": {
            "needs_background": "light"
          },
          "output_type": "display_data"
        },
        {
          "data": {
            "image/png": "[encoded data removed]",
            "text/plain": [
              "<Figure size 648x288 with 1 Axes>"
            ]
          },
          "metadata": {
            "needs_background": "light"
          },
          "output_type": "display_data"
        },
        {
          "data": {
            "image/png": "[encoded data removed]",
            "text/plain": [
              "<Figure size 648x288 with 1 Axes>"
            ]
          },
          "metadata": {
            "needs_background": "light"
          },
          "output_type": "display_data"
        },
        {
          "data": {
            "image/png": "[encoded data removed]",
            "text/plain": [
              "<Figure size 648x288 with 1 Axes>"
            ]
          },
          "metadata": {
            "needs_background": "light"
          },
          "output_type": "display_data"
        },
        {
          "data": {
            "image/png": "[encoded data removed]",
            "text/plain": [
              "<Figure size 648x288 with 1 Axes>"
            ]
          },
          "metadata": {
            "needs_background": "light"
          },
          "output_type": "display_data"
        },
        {
          "data": {
            "image/png": "[encoded data removed]",
            "text/plain": [
              "<Figure size 648x288 with 1 Axes>"
            ]
          },
          "metadata": {
            "needs_background": "light"
          },
          "output_type": "display_data"
        }
      ],
      "source": [
        "top_sales = sales_by_platform.head(6).reset_index()\n",
        "top_platforms_list = top_sales['platform'].unique()\n",
        "for platform in top_platforms_list:\n",
        "    data[data['platform'] == platform].pivot_table(index='year_of_release',\n",
        "        values='total_sales', aggfunc='sum').plot(kind='bar', figsize=(9,4))\n",
        "    plt.title(platform)\n",
        "    plt.xlabel('Год')\n",
        "    plt.ylabel('Количество проданных копий')"
      ]
    },
    {
      "cell_type": "markdown",
      "metadata": {
        "id": "b_b3FCprEAvf"
      },
      "source": [
        "По графикам видно, что \"жизненный цикл\" платформ начинается и завершается в период за ~6-~ 8 лет, также нужно отметить, что самые популярные платформы уже потеряли свою значимость, продажи PS сильно упали еще к 2003, PS2 и DS к 2011-2013, а X360, Wii и PS3 к 2016 году."
      ]
    },
    {
      "cell_type": "markdown",
      "metadata": {
        "id": "gUn6uKvIEAvi"
      },
      "source": [
        "### Возьмем данные за соответствующий актуальный период. Актуальный период определим самостоятельно в результате исследования предыдущих вопросов. Основной фактор — эти данные помогут построить прогноз на 2017 год. Отбросим неактуальные данные.\n",
        "\n",
        "Выбирая акутальный период для прогнозирования в индустрии компьютерных игр нельзя брать слишком большой временной интервал, среднее количество лет 2-5, по графику \"Количество игр выпущенных в разные года\" (этап 5.1) заметен спад выпущенных игр с 2012, и еще больший спад в 2013, поэтому возьмем данные за 4 года: 2013, 2014, 2015 и 2016."
      ]
    },
    {
      "cell_type": "code",
      "execution_count": null,
      "metadata": {
        "id": "aSqG1-CDEAvj"
      },
      "outputs": [],
      "source": [
        "# actual_data = data.query('year_of_release >= 2010 and platform != \"DS\" and platform != \"PS2\"')"
      ]
    },
    {
      "cell_type": "code",
      "execution_count": null,
      "metadata": {
        "id": "xH29cWmFEAvj"
      },
      "outputs": [],
      "source": [
        "actual_data = data.query('year_of_release >= 2013')"
      ]
    },
    {
      "cell_type": "markdown",
      "metadata": {
        "id": "9QxoUeZoEAvm"
      },
      "source": [
        "### Какие платформы лидируют по продажам, растут или падают? Выберем несколько потенциально прибыльных платформ."
      ]
    },
    {
      "cell_type": "code",
      "execution_count": null,
      "metadata": {
        "id": "CkFbplsIEAvn",
        "outputId": "9ec50b57-3eea-4232-afa8-4ff993919694"
      },
      "outputs": [
        {
          "data": {
            "text/plain": [
              "platform\n",
              "PS4     314.14\n",
              "PS3     181.43\n",
              "XOne    159.32\n",
              "3DS     143.25\n",
              "X360    136.80\n",
              "WiiU     64.63\n",
              "PC       40.06\n",
              "PSV      32.99\n",
              "Wii      13.66\n",
              "PSP       3.74\n",
              "DS        1.54\n",
              "Name: total_sales, dtype: float64"
            ]
          },
          "execution_count": 29,
          "metadata": {},
          "output_type": "execute_result"
        }
      ],
      "source": [
        "actual_data.groupby(by=data['platform'])['total_sales'].sum().sort_values(ascending=False)"
      ]
    },
    {
      "cell_type": "code",
      "execution_count": null,
      "metadata": {
        "id": "tGtOBJM_EAvn",
        "outputId": "da9f4ea2-b6e8-41d7-fbf4-aa1f93d0c701"
      },
      "outputs": [
        {
          "data": {
            "image/png": "[encoded data removed]",
            "text/plain": [
              "<Figure size 864x432 with 1 Axes>"
            ]
          },
          "metadata": {
            "needs_background": "light"
          },
          "output_type": "display_data"
        }
      ],
      "source": [
        "actual_platforms_list = actual_data['platform'].unique()\n",
        "plt.figure(figsize=(12, 6))  # установка размера графика\n",
        "\n",
        "# создание палитры цветов для разных платформ\n",
        "colors = sns.color_palette('husl', n_colors=len(actual_platforms_list))\n",
        "\n",
        "for platform, color in zip(actual_platforms_list, colors):\n",
        "    platform_data = actual_data[actual_data['platform'] == platform]\n",
        "    platform_sales = platform_data.pivot_table(index='year_of_release', values='total_sales', aggfunc='sum')\n",
        "    sns.lineplot(data=platform_sales, x=platform_sales.index, y='total_sales', label=platform, color=color)\n",
        "\n",
        "plt.title('Суммарные продажи по платформам (с 2013 года)')\n",
        "plt.xlabel('Год выпуска')\n",
        "plt.ylabel('Суммарные продажи, млн')\n",
        "plt.legend()\n",
        "plt.show()"
      ]
    },
    {
      "cell_type": "markdown",
      "metadata": {
        "id": "TdlHXcRoEAvo"
      },
      "source": [
        "**Лидируют по продажам:** PS4 (314.14 млн копий)\n",
        "\n",
        "**Растут по продажам:** растущих по продажам плафторм нет, однако есть те, кто держатся на 1 уровне (PSV, Wii, PC)\n",
        "\n",
        "**Падают по продажам:** XOne, PS3, X360, PS4."
      ]
    },
    {
      "cell_type": "markdown",
      "metadata": {
        "id": "I8Qvoj3GEAvp"
      },
      "source": [
        "### Построим график «ящик с усами» по глобальным продажам игр в разбивке по платформам."
      ]
    },
    {
      "cell_type": "code",
      "execution_count": null,
      "metadata": {
        "id": "AyePUvekEAvq",
        "outputId": "5b2e1c81-cf0b-41b6-db93-9be092d42517"
      },
      "outputs": [
        {
          "data": {
            "image/png": "[encoded data removed]",
            "text/plain": [
              "<Figure size 432x288 with 1 Axes>"
            ]
          },
          "metadata": {
            "needs_background": "light"
          },
          "output_type": "display_data"
        },
        {
          "data": {
            "image/png": "[encoded data removed]",
            "text/plain": [
              "<Figure size 432x288 with 1 Axes>"
            ]
          },
          "metadata": {
            "needs_background": "light"
          },
          "output_type": "display_data"
        }
      ],
      "source": [
        "sns.boxplot(data=actual_data, x='platform', y='total_sales')\n",
        "plt.title('Глобальные продажи по платформам')\n",
        "plt.xlabel('Платформы')\n",
        "plt.ylabel('Количество продаж в млн')\n",
        "plt.ylim(0, 2)\n",
        "plt.show()\n",
        "\n",
        "# тот же график но без ограничения по у, чтобы рассмотреть выбросы\n",
        "sns.boxplot(data=actual_data, x='platform', y='total_sales')\n",
        "plt.title('Глобальные продажи по платформам с выбросами')\n",
        "plt.xlabel('Платформы')\n",
        "plt.ylabel('Количество продаж в млн')\n",
        "plt.show()"
      ]
    },
    {
      "cell_type": "markdown",
      "metadata": {
        "id": "Ya1f0qvMEAvs"
      },
      "source": [
        "Медиана продаж у большинства платформ находится у значения 0.2-0.27 - X360, PS3, PS4, Wii, XOne, WiiU, есть платформы с медианой 0.05-0.1 - 3DS, PC, PSP, PSV. Выбросы есть в максимуме значений."
      ]
    },
    {
      "cell_type": "markdown",
      "metadata": {
        "id": "T-7RcuZrEAvt"
      },
      "source": [
        "### Как влияют на продажи внутри одной популярной платформы отзывы пользователей и критиков. Построим диаграмму рассеяния и посчитаем корреляцию между отзывами и продажами.\n",
        "\n",
        "Возьмем 1 популярную платформу - например, X360, эта платформа находится на втором месте в лидирующих по продажам платформах, также ее межквартильный размах шире."
      ]
    },
    {
      "cell_type": "code",
      "execution_count": null,
      "metadata": {
        "id": "wG55x8MVEAvt",
        "outputId": "f14562ab-a35b-480b-fd3b-ff64ebd54be7"
      },
      "outputs": [
        {
          "data": {
            "image/png": "[encoded data removed]",
            "text/plain": [
              "<Figure size 432x288 with 1 Axes>"
            ]
          },
          "metadata": {
            "needs_background": "light"
          },
          "output_type": "display_data"
        },
        {
          "data": {
            "image/png": "[encoded data removed]",
            "text/plain": [
              "<Figure size 432x288 with 1 Axes>"
            ]
          },
          "metadata": {
            "needs_background": "light"
          },
          "output_type": "display_data"
        }
      ],
      "source": [
        "actual_data_xbox = data.query('platform == \"X360\"')\n",
        "\n",
        "# график зависимости продаж от отзывов пользователей\n",
        "actual_data_xbox.plot(kind='scatter', x='user_score', y='total_sales', grid=True, edgecolor='white', linewidth=0.5)\n",
        "plt.title('Зависимость продаж от отзывов пользователей')\n",
        "plt.xlabel('Оценка пользователей')\n",
        "plt.ylabel('Продажи')\n",
        "plt.show()\n",
        "\n",
        "# график зависимости продаж от отзывов критиков\n",
        "actual_data_xbox.plot(kind='scatter', x='critic_score', y='total_sales', grid=True, edgecolor='white', linewidth=0.5)\n",
        "plt.xlabel('Оценка критиков')\n",
        "plt.ylabel('Продажи')\n",
        "plt.title('Зависимость продаж от оценок критиков')\n",
        "plt.show()"
      ]
    },
    {
      "cell_type": "code",
      "execution_count": null,
      "metadata": {
        "id": "JUXnYS3cEAvu",
        "outputId": "70d715ca-38b8-4c43-d972-67a073c45ccc"
      },
      "outputs": [
        {
          "data": {
            "text/plain": [
              "-0.00260461720256464"
            ]
          },
          "execution_count": 33,
          "metadata": {},
          "output_type": "execute_result"
        }
      ],
      "source": [
        "# подсчет корреляции между продажами и отзывами пользователей\n",
        "actual_data['total_sales'].corr(actual_data['user_score'])"
      ]
    },
    {
      "cell_type": "code",
      "execution_count": null,
      "metadata": {
        "id": "3Ki-H01lEAvv",
        "outputId": "6e7b05b3-734f-4f8b-c056-b0aa5f0b0f72"
      },
      "outputs": [
        {
          "data": {
            "text/plain": [
              "0.3132340515415155"
            ]
          },
          "execution_count": 34,
          "metadata": {},
          "output_type": "execute_result"
        }
      ],
      "source": [
        "# подсчет корреляции между продажами и отзывами критиков\n",
        "actual_data['total_sales'].corr(actual_data['critic_score'])"
      ]
    },
    {
      "cell_type": "markdown",
      "metadata": {
        "id": "g90SGDXPEAvw"
      },
      "source": [
        "**Вывод:** Корреляция между продажами и отзывами пользователей очень слабая (0.05), это обозначает, что переменные не связаны между собой. Корреляция между продажами и оценкой критиков слабая (0.31), что обозначает, что переменные не сильно связаны между собой."
      ]
    },
    {
      "cell_type": "markdown",
      "metadata": {
        "id": "0mGxVSKWEAvx"
      },
      "source": [
        "### Соотнесем выводы с продажами игр на других платформах."
      ]
    },
    {
      "cell_type": "code",
      "execution_count": null,
      "metadata": {
        "id": "NW2Ol6s5EAvy",
        "outputId": "3fad8133-e85d-4613-9cc7-fe4c789ba9a7"
      },
      "outputs": [
        {
          "data": {
            "text/plain": [
              "array(['PS3', 'X360', 'PS4', '3DS', 'XOne', 'WiiU', 'Wii', 'PC', 'PSV',\n",
              "       'DS', 'PSP'], dtype=object)"
            ]
          },
          "execution_count": 35,
          "metadata": {},
          "output_type": "execute_result"
        }
      ],
      "source": [
        "actual_data['platform'].unique()"
      ]
    },
    {
      "cell_type": "code",
      "execution_count": null,
      "metadata": {
        "scrolled": false,
        "id": "S_uc6Qf6EAvy",
        "outputId": "e9a77834-50c5-4520-d316-93449029977d"
      },
      "outputs": [
        {
          "name": "stdout",
          "output_type": "stream",
          "text": [
            "Корреляция между PS3 - user_score: 0.00\n",
            "Корреляция между PS3 - critic_score: 0.33\n"
          ]
        },
        {
          "data": {
            "image/png": "[encoded data removed]",
            "text/plain": [
              "<Figure size 720x288 with 2 Axes>"
            ]
          },
          "metadata": {
            "needs_background": "light"
          },
          "output_type": "display_data"
        },
        {
          "name": "stdout",
          "output_type": "stream",
          "text": [
            "Корреляция между X360 - user_score: -0.01\n",
            "Корреляция между X360 - critic_score: 0.35\n"
          ]
        },
        {
          "data": {
            "image/png": "[encoded data removed]",
            "text/plain": [
              "<Figure size 720x288 with 2 Axes>"
            ]
          },
          "metadata": {
            "needs_background": "light"
          },
          "output_type": "display_data"
        },
        {
          "name": "stdout",
          "output_type": "stream",
          "text": [
            "Корреляция между PS4 - user_score: -0.03\n",
            "Корреляция между PS4 - critic_score: 0.41\n"
          ]
        },
        {
          "data": {
            "image/png": "[encoded data removed]",
            "text/plain": [
              "<Figure size 720x288 with 2 Axes>"
            ]
          },
          "metadata": {
            "needs_background": "light"
          },
          "output_type": "display_data"
        },
        {
          "name": "stdout",
          "output_type": "stream",
          "text": [
            "Корреляция между 3DS - user_score: 0.24\n",
            "Корреляция между 3DS - critic_score: 0.36\n"
          ]
        },
        {
          "data": {
            "image/png": "[encoded data removed]",
            "text/plain": [
              "<Figure size 720x288 with 2 Axes>"
            ]
          },
          "metadata": {
            "needs_background": "light"
          },
          "output_type": "display_data"
        },
        {
          "name": "stdout",
          "output_type": "stream",
          "text": [
            "Корреляция между XOne - user_score: -0.07\n",
            "Корреляция между XOne - critic_score: 0.42\n"
          ]
        },
        {
          "data": {
            "image/png": "[encoded data removed]",
            "text/plain": [
              "<Figure size 720x288 with 2 Axes>"
            ]
          },
          "metadata": {
            "needs_background": "light"
          },
          "output_type": "display_data"
        },
        {
          "name": "stdout",
          "output_type": "stream",
          "text": [
            "Корреляция между WiiU - user_score: 0.42\n",
            "Корреляция между WiiU - critic_score: 0.38\n"
          ]
        },
        {
          "data": {
            "image/png": "[encoded data removed]",
            "text/plain": [
              "<Figure size 720x288 with 2 Axes>"
            ]
          },
          "metadata": {
            "needs_background": "light"
          },
          "output_type": "display_data"
        },
        {
          "name": "stdout",
          "output_type": "stream",
          "text": [
            "Корреляция между Wii - user_score: 0.68\n",
            "Корреляция между Wii - critic_score: 0.00\n"
          ]
        },
        {
          "data": {
            "image/png": "[encoded data removed]",
            "text/plain": [
              "<Figure size 720x288 with 2 Axes>"
            ]
          },
          "metadata": {
            "needs_background": "light"
          },
          "output_type": "display_data"
        },
        {
          "name": "stdout",
          "output_type": "stream",
          "text": [
            "Корреляция между PC - user_score: -0.09\n",
            "Корреляция между PC - critic_score: 0.20\n"
          ]
        },
        {
          "data": {
            "image/png": "[encoded data removed]",
            "text/plain": [
              "<Figure size 720x288 with 2 Axes>"
            ]
          },
          "metadata": {
            "needs_background": "light"
          },
          "output_type": "display_data"
        },
        {
          "name": "stdout",
          "output_type": "stream",
          "text": [
            "Корреляция между PSV - user_score: 0.00\n",
            "Корреляция между PSV - critic_score: 0.25\n"
          ]
        },
        {
          "data": {
            "image/png": "[encoded data removed]",
            "text/plain": [
              "<Figure size 720x288 with 2 Axes>"
            ]
          },
          "metadata": {
            "needs_background": "light"
          },
          "output_type": "display_data"
        },
        {
          "name": "stderr",
          "output_type": "stream",
          "text": [
            "/opt/conda/lib/python3.9/site-packages/numpy/lib/function_base.py:2683: RuntimeWarning: Degrees of freedom <= 0 for slice\n",
            "  c = cov(x, y, rowvar, dtype=dtype)\n",
            "/opt/conda/lib/python3.9/site-packages/numpy/lib/function_base.py:2542: RuntimeWarning: divide by zero encountered in true_divide\n",
            "  c *= np.true_divide(1, fact)\n"
          ]
        },
        {
          "name": "stdout",
          "output_type": "stream",
          "text": [
            "Корреляция между DS - user_score: 0.00\n",
            "Корреляция между DS - critic_score: 0.00\n"
          ]
        },
        {
          "data": {
            "image/png": "[encoded data removed]",
            "text/plain": [
              "<Figure size 720x288 with 2 Axes>"
            ]
          },
          "metadata": {
            "needs_background": "light"
          },
          "output_type": "display_data"
        },
        {
          "name": "stdout",
          "output_type": "stream",
          "text": [
            "Корреляция между PSP - user_score: -1.00\n",
            "Корреляция между PSP - critic_score: 0.00\n"
          ]
        },
        {
          "data": {
            "image/png": "[encoded data removed]",
            "text/plain": [
              "<Figure size 720x288 with 2 Axes>"
            ]
          },
          "metadata": {
            "needs_background": "light"
          },
          "output_type": "display_data"
        }
      ],
      "source": [
        "def plot_scatter_and_correlation(actual_data, platform_column, value_columns):\n",
        "    platforms = actual_data[platform_column].unique()\n",
        "\n",
        "    for platform in platforms:\n",
        "        platform_data = actual_data[actual_data[platform_column] == platform]\n",
        "        if len(platform_data) > 1:\n",
        "            plt.figure(figsize=(10, 4))\n",
        "\n",
        "            for idx, value_column in enumerate(value_columns, start=1):\n",
        "                plt.subplot(1, len(value_columns), idx)\n",
        "                plt.scatter(platform_data[value_column], platform_data['total_sales'], alpha=0.5)\n",
        "                plt.title(f'График корреляции продаж {platform} и оценок')\n",
        "                plt.xlabel('Оценка пользователей')\n",
        "                plt.ylabel('Продажи')\n",
        "\n",
        "                correlation = platform_data[value_column].corr(platform_data['total_sales'])\n",
        "                if np.isnan(correlation):\n",
        "                    correlation = 0\n",
        "                print(f'Корреляция между {platform} - {value_column}: {correlation:.2f}')\n",
        "\n",
        "            plt.tight_layout()\n",
        "            plt.show()\n",
        "\n",
        "plot_scatter_and_correlation(actual_data, platform_column='platform', value_columns=['user_score', 'critic_score'])"
      ]
    },
    {
      "cell_type": "markdown",
      "metadata": {
        "id": "VVrFZgAHEAvz"
      },
      "source": [
        "**Вывод:** В целом корреляция между продажами и **пользовательской оценкой** очень слабая, в случае PC, XOne, PS4 даже отрицательная, однако почти во всех случаях корреляция между продажами и **оценкой критиков** находится на среднем уровне (кроме PSV - в данном случае корреляция является очень слабой). По графикам и корреляции Wii, DS и PSP видно, что с 2013 года почти все игры, выпущенные на этих платформах, не имют оценок пользователей и критиков."
      ]
    },
    {
      "cell_type": "markdown",
      "metadata": {
        "id": "CHKjDyTMEAv0"
      },
      "source": [
        "### Посмотрим на общее распределение игр по жанрам. Что можно сказать о самых прибыльных жанрах? Выделяются ли жанры с высокими и низкими продажами?"
      ]
    },
    {
      "cell_type": "code",
      "execution_count": null,
      "metadata": {
        "id": "KQZIExi1EAv1"
      },
      "outputs": [],
      "source": [
        "# actual_data.groupby(by=actual_data['genre'])['total_sales'].sum().sort_values(ascending=False).plot(kind='bar', grid=True)\n",
        "# plt.xlabel('Жанр')\n",
        "# plt.ylabel('Продажи в млн')\n",
        "# plt.title('Распределение игр по жанрам')\n",
        "# plt.show()"
      ]
    },
    {
      "cell_type": "code",
      "execution_count": null,
      "metadata": {
        "id": "jE35Uhs6EAv2",
        "outputId": "98c0624e-739d-4067-ae5a-b56c99675b94"
      },
      "outputs": [
        {
          "data": {
            "image/png": "[encoded data removed]",
            "text/plain": [
              "<Figure size 864x432 with 1 Axes>"
            ]
          },
          "metadata": {
            "needs_background": "light"
          },
          "output_type": "display_data"
        }
      ],
      "source": [
        "plt.figure(figsize=(12, 6))\n",
        "sns.boxplot(data=actual_data, x='genre', y='total_sales')\n",
        "plt.xlabel('Жанр')\n",
        "plt.ylabel('Продажи в млн')\n",
        "plt.title('Распределение игр по жанрам')\n",
        "plt.show()"
      ]
    },
    {
      "cell_type": "code",
      "execution_count": null,
      "metadata": {
        "id": "kRRT3w_fEAv3",
        "outputId": "180b1fbd-4fe8-43e7-e433-f3fa6503b94e"
      },
      "outputs": [
        {
          "data": {
            "image/png": "[encoded data removed]",
            "text/plain": [
              "<Figure size 432x288 with 1 Axes>"
            ]
          },
          "metadata": {
            "needs_background": "light"
          },
          "output_type": "display_data"
        }
      ],
      "source": [
        "actual_data.groupby(by=actual_data['genre'])['total_sales'].median().sort_values(ascending=False).plot(kind='bar', grid=True)\n",
        "plt.xlabel('Жанр')\n",
        "plt.ylabel('Продажи в млн')\n",
        "plt.title('Распределение игр по жанрам')\n",
        "plt.show()"
      ]
    },
    {
      "cell_type": "markdown",
      "metadata": {
        "id": "Ok46JG_BEAv5"
      },
      "source": [
        "**Вывод:** По диаграммам размаха видно, что максимальные продажи игр у жанра Action, однако это произошло благодаря отдельным особо \"выстрелившим\" играм. Самым прибыльным жанром тем не менее является Shooter, после него идут Sports и Platform. Минимальные продажи у Puzzle, а наименее прибыльный жанр - Adventure."
      ]
    },
    {
      "cell_type": "markdown",
      "metadata": {
        "id": "2BRr8hY0EAv8"
      },
      "source": [
        "**ВЫВОД по EDA:**\n",
        "\n",
        "Анализ показал, что наибольшее количество игр выпущено в период с 2008 по 2009 год, с заметным паденим продаж начиная с 2012 года. Тем не менее, данные об играх, выпущенных до 2002 года, не имеют большой значимости из-за небольшого количества записей.\n",
        "\n",
        "По результатам анализа платформ выявлено, что наиболее успешными с точки зрения продаж оказались PS2, X360, PS3, Wii, DS и PS. Также наблюдается характерный \"жизненный цикл\" платформ, составляющий 8 лет. Популярные платформы с течением времени начинают утрачивать свою значимость.\n",
        "\n",
        "Среди анализируемых платформ наибольший объем продаж продемонстрировала PS4. В то же время роста по продажам ни у одной из платформ не наблюдается. Платформы, которые удерживаются на одном уровне, включают PSV, Wii и PC. Падают по продажам следующим платформы: XOne, PS3, X360, и PS4.\n",
        "\n",
        "Оценки пользователей оказали очень слабое влияние на продажи, как для наиболее популярных, так и для менее популярных платформ. В то время как оценки критиков имеют слабую или среднюю корреляцию с продажами в зависимости от платформы.\n",
        "\n",
        "Анализ данных также позволяет выделить жанры игр, наиболее прибыльные для продаж. Так, игры в жанре Shooter являются наиболее успешными, а жанры Adventure, Puzzle, Strategy показали себя менее прибыльными."
      ]
    },
    {
      "cell_type": "markdown",
      "metadata": {
        "id": "XlSqvXItEAv9"
      },
      "source": [
        "## Портрет пользователя каждого региона\n",
        "\n",
        "Определим для пользователя каждого региона (NA - Северная Америка, EU - Европа, JP - Япония):\n",
        "- Самые популярные платформы (топ-5).\n",
        "- Самые популярные жанры (топ-5).\n",
        "- Влияет ли рейтинг ESRB на продажи в отдельном регионе?"
      ]
    },
    {
      "cell_type": "code",
      "execution_count": null,
      "metadata": {
        "id": "MFjP__ZhEAv9"
      },
      "outputs": [],
      "source": [
        "# actual_data.groupby(by=actual_data['platform'])['na_sales'].sum().sort_values(ascending=False).head().plot(kind='bar')\n",
        "# plt.title('Топ-5 популярных платформ в Северной Америке')\n",
        "# plt.xlabel('Платформы')\n",
        "# plt.ylabel('Количество проданных копий в млн')\n",
        "# plt.show()\n",
        "\n",
        "# actual_data.groupby(by=actual_data['platform'])['eu_sales'].sum().sort_values(ascending=False).head().plot(kind='bar')\n",
        "# plt.title('Топ-5 популярных платформ в Европе')\n",
        "# plt.xlabel('Платформы')\n",
        "# plt.ylabel('Количество проданных копий в млн')\n",
        "# plt.show()\n",
        "\n",
        "# actual_data.groupby(by=actual_data['platform'])['jp_sales'].sum().sort_values(ascending=False).head().plot(kind='bar')\n",
        "# plt.title('Топ-5 популярных платформ в Японии')\n",
        "# plt.xlabel('Платформы')\n",
        "# plt.ylabel('Количество проданных копий в млн')\n",
        "# plt.show()"
      ]
    },
    {
      "cell_type": "code",
      "execution_count": null,
      "metadata": {
        "id": "F2XVZSixEAv-",
        "outputId": "743aaefb-e89e-4ac7-b8a6-1d5d621b0806"
      },
      "outputs": [
        {
          "data": {
            "image/png": "[encoded data removed]",
            "text/plain": [
              "<Figure size 1296x360 with 3 Axes>"
            ]
          },
          "metadata": {},
          "output_type": "display_data"
        }
      ],
      "source": [
        "# группировка данных и суммирование продаж по платформам\n",
        "na_platform_sales = actual_data.groupby('platform')['na_sales'].sum().sort_values(ascending=False)\n",
        "eu_platform_sales = actual_data.groupby('platform')['eu_sales'].sum().sort_values(ascending=False)\n",
        "jp_platform_sales = actual_data.groupby('platform')['jp_sales'].sum().sort_values(ascending=False)\n",
        "\n",
        "# определение топ-5 платформ\n",
        "top_n = 5\n",
        "top_na_platform = na_platform_sales.head(top_n)\n",
        "top_eu_platform = eu_platform_sales.head(top_n)\n",
        "top_jp_platform = jp_platform_sales.head(top_n)\n",
        "\n",
        "# добавление \"другие платформы\"\n",
        "other_platform_sales = na_platform_sales.iloc[top_n:].sum()\n",
        "top_na_platform['Other'] = other_platform_sales\n",
        "\n",
        "other_platform_sales = eu_platform_sales.iloc[top_n:].sum()\n",
        "top_eu_platform['Other'] = other_platform_sales\n",
        "\n",
        "other_platform_sales = jp_platform_sales.iloc[top_n:].sum()\n",
        "top_jp_platform['Other'] = other_platform_sales\n",
        "\n",
        "# создание подходящих подписей и данных для круговых диаграмм\n",
        "na_pl_labels = top_na_platform.index\n",
        "na_pl_sizes = top_na_platform.values\n",
        "\n",
        "eu_pl_labels = top_eu_platform.index\n",
        "eu_pl_sizes = top_eu_platform.values\n",
        "\n",
        "jp_pl_labels = top_jp_platform.index\n",
        "jp_pl_sizes = top_jp_platform.values\n",
        "\n",
        "# создание круговых диаграмм для каждой зоны\n",
        "plt.figure(figsize=(18, 5))\n",
        "\n",
        "plt.subplot(1, 3, 1)\n",
        "plt.pie(na_pl_sizes, labels=na_pl_labels, autopct='%1.1f%%', startangle=140)\n",
        "plt.title('Топ-5 платформ в Северной Америке')\n",
        "\n",
        "plt.subplot(1, 3, 2)\n",
        "plt.pie(eu_pl_sizes, labels=eu_pl_labels, autopct='%1.1f%%', startangle=140)\n",
        "plt.title('Топ-5 платформ в Европе')\n",
        "\n",
        "plt.subplot(1, 3, 3)\n",
        "plt.pie(jp_pl_sizes, labels=jp_pl_labels, autopct='%1.1f%%', startangle=140)\n",
        "plt.title('Топ-5 платформ в Японии')\n",
        "\n",
        "plt.tight_layout()\n",
        "plt.show()"
      ]
    },
    {
      "cell_type": "markdown",
      "metadata": {
        "id": "JxfzM0e8EAwA"
      },
      "source": [
        "Топ платформ в Северной Америке и Европе не сильно отличается друг от друга, тем не менее в Японии совсем другая ситуация с популярными платформами, это может быть связано, со следующими факторами:\n",
        "- Локализация: Игры, которые учитывают особенности локальной культуры и языка, могут быть более привлекательными для местных игроков.\n",
        "- Маркетинг и реклама: Маркетинговые кампании и реклама игр и платформ могут быть ориентированы на конкретные регионы, учитывая местные предпочтения и тенденции.\n",
        "- Географические особенности: Некоторые игровые платформы могут быть более популярны в определенных регионах из-за доступности и локальных условий. Например, наличие конкретных магазинов, поддержка языков и технические аспекты могут влиять на выбор игроков.\n",
        "\n",
        "Так платформа 3DS, а именно портативная консоль Nintendo 3DS, самая популярная платформа в Японии, в то время как в других регионах она занимает последнее место в топ-5. Это связано с тем, что Япония стала портативной страной, и как минимум из-за того времени, которые японцы проводят вне дома, но хотят поиграть, она вырывается в лидеры именно в этом регионе."
      ]
    },
    {
      "cell_type": "code",
      "execution_count": null,
      "metadata": {
        "id": "slTa2kU8EAwB"
      },
      "outputs": [],
      "source": [
        "# actual_data.groupby(by=actual_data['genre'])['na_sales'].sum().sort_values(ascending=False).head().plot(kind='bar')\n",
        "# plt.title('Топ-5 популярных жанров в Северной Америке')\n",
        "# plt.xlabel('Жанры')\n",
        "# plt.ylabel('Количество проданных копий в млн')\n",
        "# plt.show()\n",
        "\n",
        "# actual_data.groupby(by=actual_data['genre'])['eu_sales'].sum().sort_values(ascending=False).head().plot(kind='bar')\n",
        "# plt.title('Топ-5 популярных жанров в Европе')\n",
        "# plt.xlabel('Жанры')\n",
        "# plt.ylabel('Количество проданных копий в млн')\n",
        "# plt.show()\n",
        "\n",
        "# actual_data.groupby(by=actual_data['genre'])['jp_sales'].sum().sort_values(ascending=False).head().plot(kind='bar')\n",
        "# plt.title('Топ-5 популярных жанров в Японии')\n",
        "# plt.xlabel('Жанры')\n",
        "# plt.ylabel('Количество проданных копий в млн')\n",
        "# plt.show()"
      ]
    },
    {
      "cell_type": "code",
      "execution_count": null,
      "metadata": {
        "id": "a3Qz5I2REAwC",
        "outputId": "e632c7e3-69eb-4b43-9a66-18fdf2a78a5c"
      },
      "outputs": [
        {
          "data": {
            "image/png": "[encoded data removed]",
            "text/plain": [
              "<Figure size 1296x360 with 3 Axes>"
            ]
          },
          "metadata": {},
          "output_type": "display_data"
        }
      ],
      "source": [
        "# группировка данных и суммирование продаж по жанрам\n",
        "na_genre_sales = actual_data.groupby('genre')['na_sales'].sum().sort_values(ascending=False)\n",
        "eu_genre_sales = actual_data.groupby('genre')['eu_sales'].sum().sort_values(ascending=False)\n",
        "jp_genre_sales = actual_data.groupby('genre')['jp_sales'].sum().sort_values(ascending=False)\n",
        "\n",
        "# определение топ-5 жанров\n",
        "top_n = 5\n",
        "top_na_genres = na_genre_sales.head(top_n)\n",
        "top_eu_genres = eu_genre_sales.head(top_n)\n",
        "top_jp_genres = jp_genre_sales.head(top_n)\n",
        "\n",
        "# добавление \"другие жанры\"\n",
        "other_genre_sales = na_genre_sales.iloc[top_n:].sum()\n",
        "top_na_genres['Other'] = other_genre_sales\n",
        "\n",
        "other_genre_sales = eu_genre_sales.iloc[top_n:].sum()\n",
        "top_eu_genres['Other'] = other_genre_sales\n",
        "\n",
        "other_genre_sales = jp_genre_sales.iloc[top_n:].sum()\n",
        "top_jp_genres['Other'] = other_genre_sales\n",
        "\n",
        "# создание подходящих подписей и данных для круговых диаграмм\n",
        "na_labels = top_na_genres.index\n",
        "na_sizes = top_na_genres.values\n",
        "\n",
        "eu_labels = top_eu_genres.index\n",
        "eu_sizes = top_eu_genres.values\n",
        "\n",
        "jp_labels = top_jp_genres.index\n",
        "jp_sizes = top_jp_genres.values\n",
        "\n",
        "# создание круговых диаграмм для каждой рыночной зоны\n",
        "plt.figure(figsize=(18, 5))\n",
        "\n",
        "plt.subplot(1, 3, 1)\n",
        "plt.pie(na_sizes, labels=na_labels, autopct='%1.1f%%', startangle=140)\n",
        "plt.title('Топ-5 жанров в Северной Америке')\n",
        "\n",
        "plt.subplot(1, 3, 2)\n",
        "plt.pie(eu_sizes, labels=eu_labels, autopct='%1.1f%%', startangle=140)\n",
        "plt.title('Топ-5 жанров в Европе')\n",
        "\n",
        "plt.subplot(1, 3, 3)\n",
        "plt.pie(jp_sizes, labels=jp_labels, autopct='%1.1f%%', startangle=140)\n",
        "plt.title('Топ-5 жанров в Японии')\n",
        "\n",
        "plt.tight_layout()\n",
        "plt.show()"
      ]
    },
    {
      "cell_type": "markdown",
      "metadata": {
        "id": "TGvchPVlEAwE"
      },
      "source": [
        "Расшифровка жанров игр:\n",
        "- Action (Экшен): Игры этого жанра акцентируют внимание на физических действиях персонажей, таких как бег, прыжки, драки и стрельба. Они обычно представляют собой быстрые и динамичные игровые процессы.\n",
        "\n",
        "- Shooter (Шутер): В играх этого жанра игрок управляет персонажем, который стреляет оружием во врагов или цели. Шутеры могут быть от первого или третьего лица.\n",
        "\n",
        "- Sports (Спорт): Этот жанр включает игры, которые имитируют реальные виды спорта или физические соревнования. В них игроки могут участвовать в виртуальных спортивных мероприятиях.\n",
        "\n",
        "- Misc (Разное): Этот жанр включает игры, которые не легко классифицировать в другие категории. Они могут быть разнообразными и включать в себя элементы разных жанров.\n",
        "\n",
        "- Role-Playing (Ролевая игра): В ролевых играх игроки управляют персонажами, развивают их навыки, выполняют квесты и принимают решения, влияющие на сюжет. Они обычно охватывают фэнтезийные или научно-фантастические миры.\n",
        "\n",
        "- Platform (Платформер): Этот жанр включает игры, где игроки управляют персонажем, который прыгает и бегает по платформам и уровням, преодолевая препятствия и врагов.\n",
        "\n",
        "Топы популярных жанров в Северной Америке и Европе не сильно отличаются друг от друга (в лидерах Action-игры - это жанр компьютерных игр, в которых важна реакция и своевременные действия), в то время как у Японии отличился жанр Role-playing, игры в жанре Action в Японии являются вторыми по популярности. Такие различия могут быть связаны со следующими факторами:\n",
        "\n",
        "- Культурные предпочтения: В каждом регионе могут существовать уникальные культурные предпочтения по жанрам. Например, в Северной Америке и Европе жанры Action, Shooter и Sports могут быть популярными из-за акцента на динамичную игровую механику, соревновательные аспекты и многопользовательские режимы. В Японии, где сильно развиты ролевые игры и аниме-культура, жанр Role-Playing может быть более привлекательным.\n",
        "\n",
        "- Исторические факторы: Игровая индустрия имеет свои исторические особенности в каждом регионе. Например, в Японии ролевые игры (Role-Playing) всегда были популярными и имели долгую историю. Это может отразиться на предпочтениях игроков и влиять на топы жанров."
      ]
    },
    {
      "cell_type": "code",
      "execution_count": null,
      "metadata": {
        "id": "Xalucxi8EAwF",
        "outputId": "fd671d2f-772e-4963-9cbf-01961e764748"
      },
      "outputs": [
        {
          "data": {
            "image/png": "[encoded data removed]",
            "text/plain": [
              "<Figure size 432x288 with 1 Axes>"
            ]
          },
          "metadata": {
            "needs_background": "light"
          },
          "output_type": "display_data"
        },
        {
          "data": {
            "image/png": "[encoded data removed]",
            "text/plain": [
              "<Figure size 432x288 with 1 Axes>"
            ]
          },
          "metadata": {
            "needs_background": "light"
          },
          "output_type": "display_data"
        },
        {
          "data": {
            "image/png": "[encoded data removed]",
            "text/plain": [
              "<Figure size 432x288 with 1 Axes>"
            ]
          },
          "metadata": {
            "needs_background": "light"
          },
          "output_type": "display_data"
        }
      ],
      "source": [
        "actual_data.groupby(by=actual_data['rating'])['na_sales'].sum().sort_values(ascending=False).plot(kind='bar')\n",
        "plt.title('Топ популярных рейтингов игр в Северной Америке')\n",
        "plt.xlabel('Рейтинг')\n",
        "plt.ylabel('Количество проданных копий в млн')\n",
        "plt.show()\n",
        "\n",
        "actual_data.groupby(by=actual_data['rating'])['eu_sales'].sum().sort_values(ascending=False).plot(kind='bar')\n",
        "plt.title('Топ популярных рейтингов игр в Европе')\n",
        "plt.xlabel('Рейтинг')\n",
        "plt.ylabel('Количество проданных копий в млн')\n",
        "plt.show()\n",
        "\n",
        "actual_data.groupby(by=actual_data['rating'])['jp_sales'].sum().sort_values(ascending=False).plot(kind='bar')\n",
        "plt.title('Топ популярных рейтингов игр в Японии')\n",
        "plt.xlabel('Рейтинг')\n",
        "plt.ylabel('Количество проданных копий в млн')\n",
        "plt.show()"
      ]
    },
    {
      "cell_type": "markdown",
      "metadata": {
        "id": "xVg51HRJEAwI"
      },
      "source": [
        "Расшифровка рейтингов:\n",
        "- M (Mature): Рекомендуется для лиц старше 17 лет.\n",
        "\n",
        "- E (Everyone): Подходит для всех возрастов.\n",
        "\n",
        "- T (Teen): Рекомендуется для лиц старше 13 лет.\n",
        "\n",
        "- E10+ (Everyone 10 and older): Подходит для всех от 10 лет и старше.\n",
        "\n",
        "- NR (Not Rated): Игры без рейтинга по системе ESRB.\n",
        "\n",
        "По всем регионам был отмечен низкий спрос на игры для детей 10+ лет и подростков. В Европе и Северной америке чаще всего играют в игры рейтинга М, в то время как в Японии игры с таким рейтингом занимают четвертое место. Самыми часто встречающимися в Японии являются игры с рейтингом NR - то есть игры без рейтинга ESRB, это связано с тем, что в данной стране ESRB не маркирует игры."
      ]
    },
    {
      "cell_type": "markdown",
      "metadata": {
        "id": "MoMjgzLYEAwJ"
      },
      "source": [
        "**Вывод:**\n",
        "\n",
        "На основе проведенного анализа, мы можем составить портреты типичных пользователей из Северной Америки, Европы и Японии, которые могут быть интересны интернет-магазину \"Стримчик\" для более эффективной стратегии продаж и рекламы:\n",
        "\n",
        "**Пользователь из Северной Америки:**\n",
        "- Популярные платформы: X360, PS3, Wii.\n",
        "- Популярные жанры: Action, Shooter, Sports.\n",
        "- Популярные рейтинги: M (Mature), NR (Not rated), E (Everyone).\n",
        "- Вероятно, предпочитает игры с более взрослым контентом, так как популярен рейтинг \"Mature\".\n",
        "\n",
        "**Пользователь из Европы:**\n",
        "- Популярные платформы: PS3, X360, PS4.\n",
        "- Популярные жанры: Action, Shooter, Sports.\n",
        "- Популярные рейтинги: M (Mature), E (Everyone), NR (Not rated).\n",
        "- Сходные предпочтения с пользователями из Северной Америки, возможно, из-за схожей культурной среды.\n",
        "\n",
        "**Пользователь из Японии:**\n",
        "- Популярные платформы: 3DS, PS3, PSP.\n",
        "- Популярные жанры: Role-Playing, Action, Misc (разные).\n",
        "- Популярные рейтинги: N (Not Rated), с заметным отставанием T (Teen) и E (Everyone).\n",
        "- Заметно выделяется предпочтение к платформе \"Nintendo 3DS\" и к жанру \"Role-Playing\", что может быть связано с культурными особенностями японского рынка игр.\n",
        "\n",
        "Стоит отметить, что хотя некоторые предпочтения схожи, все три региона также имеют свои уникальные вкусы и предпочтения в платформах, жанрах и рейтингах. Эти портреты помогут \"Стримчику\" лучше адаптировать свои продажи и рекламные кампании под особенности каждого региона."
      ]
    },
    {
      "cell_type": "markdown",
      "metadata": {
        "id": "wZx9xmavEAwJ"
      },
      "source": [
        "## Проверка гипотез"
      ]
    },
    {
      "cell_type": "markdown",
      "metadata": {
        "id": "gL5_4DskEAwK"
      },
      "source": [
        "### Средние пользовательские рейтинги платформ Xbox One и PC одинаковые.\n",
        "\n",
        "Для решения данного вопроса необходимо проверить гипотезу о равенстве средних двух генеральных совокупностей. За нулевую гипотезу обычно берется выражение со знаком равно. За альтернативную выберем не равно.\n",
        "\n",
        "H0: Пользовательский рейтинг платформы Xbox One = пользовательский рейтинг платформы PC\n",
        "\n",
        "H1: Пользовательский рейтинг платформы Xbox One != пользовательский рейтинг платформы PC\n",
        "\n",
        "За alpha возьмем 0.05"
      ]
    },
    {
      "cell_type": "code",
      "execution_count": null,
      "metadata": {
        "id": "jrsKd4UlEAwN",
        "outputId": "10c234ab-cb1f-4cc7-e8bb-2040f97729ad"
      },
      "outputs": [
        {
          "name": "stdout",
          "output_type": "stream",
          "text": [
            "pvalue = 0.15503167687396294\n",
            "Не отвергаем нулевую гипотезу\n"
          ]
        }
      ],
      "source": [
        "xbox = actual_data.query('platform == \"XOne\"')['user_score']\n",
        "pc = actual_data.query('platform == \"PC\"')['user_score']\n",
        "\n",
        "# удалим пропущенные значения для проверки\n",
        "xbox_cleaned = xbox.dropna()\n",
        "pc_cleaned = pc.dropna()\n",
        "\n",
        "alpha = .05\n",
        "\n",
        "results = st.ttest_ind(xbox_cleaned, pc_cleaned)\n",
        "\n",
        "print('pvalue =', results.pvalue)\n",
        "\n",
        "if results.pvalue < alpha:\n",
        "    print('Отвергаем нулевую гипотезу')\n",
        "else:\n",
        "    print('Не отвергаем нулевую гипотезу')"
      ]
    },
    {
      "cell_type": "markdown",
      "metadata": {
        "id": "WXH9dfOSEAwO"
      },
      "source": [
        "Значение pvalue говорит нам, что отвергнуть нулевую гипотезу нельзя, средние пользовательские рейтинги почти польностью равны."
      ]
    },
    {
      "cell_type": "code",
      "execution_count": null,
      "metadata": {
        "id": "FdPT4o8qEAwP",
        "outputId": "4d188edb-4908-411e-9e41-8d226498a714"
      },
      "outputs": [
        {
          "data": {
            "text/plain": [
              "6.521428571428572"
            ]
          },
          "execution_count": 47,
          "metadata": {},
          "output_type": "execute_result"
        }
      ],
      "source": [
        "xbox.mean()"
      ]
    },
    {
      "cell_type": "code",
      "execution_count": null,
      "metadata": {
        "id": "wvxYGPWcEAwP",
        "outputId": "77702c1d-f702-45b6-d85e-f27283aaed83"
      },
      "outputs": [
        {
          "data": {
            "text/plain": [
              "6.280379746835442"
            ]
          },
          "execution_count": 48,
          "metadata": {},
          "output_type": "execute_result"
        }
      ],
      "source": [
        "pc.mean()"
      ]
    },
    {
      "cell_type": "markdown",
      "metadata": {
        "id": "Uu0nDeZKEAwQ"
      },
      "source": [
        "Средние значения подтверждают, что проверка гипотезы обоснована, 6.52 и 6.28 близки к тому, чтобы быть равными."
      ]
    },
    {
      "cell_type": "markdown",
      "metadata": {
        "id": "PHisrltSEAwR"
      },
      "source": [
        "### Средние пользовательские рейтинги жанров Action (англ. «действие», экшен-игры) и Sports (англ. «спортивные соревнования») разные.\n",
        "\n",
        "За нулевую гипотезу возьмем выражение со знаком равно, за альтернативную - неравно.\n",
        "\n",
        "H0: Пользовательский рейтинг жанра Action = пользовательский рейтинг жанра Sports\n",
        "\n",
        "H1: Пользовательский рейтинг жанра Action != пользовательский рейтинг жанра Sports\n",
        "\n",
        "За alpha возьмем 0.05"
      ]
    },
    {
      "cell_type": "code",
      "execution_count": null,
      "metadata": {
        "id": "-NUcIBLQEAwS",
        "outputId": "c6d9dc20-540c-4d77-85f5-f04ae15fafcd"
      },
      "outputs": [
        {
          "name": "stdout",
          "output_type": "stream",
          "text": [
            "pvalue = 8.11729623919141e-28\n",
            "Отвергаем нулевую гипотезу\n"
          ]
        }
      ],
      "source": [
        "action = actual_data.query('genre == \"Action\"')['user_score']\n",
        "sports = actual_data.query('genre == \"Sports\"')['user_score']\n",
        "\n",
        "# удалим пропущенные значения\n",
        "action_cleaned = action.dropna()\n",
        "sports_cleaned = sports.dropna()\n",
        "\n",
        "alpha = .05\n",
        "\n",
        "results = st.ttest_ind(action_cleaned, sports_cleaned)\n",
        "\n",
        "print('pvalue =', results.pvalue)\n",
        "\n",
        "if results.pvalue < alpha:\n",
        "    print('Отвергаем нулевую гипотезу')\n",
        "else:\n",
        "    print('Не отвергаем нулевую гипотезу')"
      ]
    },
    {
      "cell_type": "markdown",
      "metadata": {
        "id": "TDmwymOLEAwT"
      },
      "source": [
        "Значение pvalue доказывает, что можно отвергнуть нулевую гипотезу, значит, высока вероятность, что пользовательский рейтинг жанров Action и Sports сильно различается."
      ]
    },
    {
      "cell_type": "code",
      "execution_count": null,
      "metadata": {
        "id": "BQv7_IeIEAwU",
        "outputId": "b4c58b0f-698f-4412-8acf-c452b18b91ff"
      },
      "outputs": [
        {
          "data": {
            "text/plain": [
              "6.8374999999999995"
            ]
          },
          "execution_count": 50,
          "metadata": {},
          "output_type": "execute_result"
        }
      ],
      "source": [
        "action.mean()"
      ]
    },
    {
      "cell_type": "code",
      "execution_count": null,
      "metadata": {
        "id": "nxxbZ7hbEAwU",
        "outputId": "08b438cc-b034-4235-ff8f-e859899a4048"
      },
      "outputs": [
        {
          "data": {
            "text/plain": [
              "5.238124999999999"
            ]
          },
          "execution_count": 51,
          "metadata": {},
          "output_type": "execute_result"
        }
      ],
      "source": [
        "sports.mean()"
      ]
    },
    {
      "cell_type": "markdown",
      "metadata": {
        "id": "eJs7L7F0EAwV"
      },
      "source": [
        "Средние значения доказывают, что проверка гипотезы прошла верно, так как значения 6.83 и 5.23 различаются."
      ]
    },
    {
      "cell_type": "markdown",
      "metadata": {
        "id": "oCnDTiCpEAwW"
      },
      "source": [
        "**Вывод:**\n",
        "Результаты проверки гипотез дают нам важную информацию о сравнении пользовательских рейтингов платформ и жанров. Давайте подробнее рассмотрим каждую из гипотез:\n",
        "\n",
        "1. **Сравнение пользовательских рейтингов платформ Xbox One и PC**:\n",
        "   В случае сравнения средних пользовательских рейтингов между платформами Xbox One и PC, значение p-value равное 0.545 говорит нам о том, что средние рейтинги на этих платформах не сильно различаются. Это может подразумевать, что пользовательская оценка игр на обеих платформах стабильно схожа. Однако следует учесть, что наличие небольшой разницы не обязательно делает эти платформы одинаковыми во всех аспектах.\n",
        "\n",
        "2. **Сравнение пользовательских рейтингов жанров Action и Sports**:\n",
        "   В случае сравнения средних пользовательских рейтингов между жанрами Action и Sports, очень низкое значение p-value (практически ноль) говорит о том, что существует статистически значимое различие в рейтингах между этими жанрами. Это означает, что пользователи воспринимают игры жанра Action и Sports по-разному, и этот результат не мог быть получен случайно. Вероятно, различия связаны с индивидуальными предпочтениями пользователей и характером игр в этих жанрах.\n",
        "\n",
        "Таким образом, результаты анализа гипотез позволяют нам делать выводы о сходстве и различии между рейтингами на разных платформах и в разных жанрах. Эти результаты могут быть полезными для принятия решений о разработке и маркетинговой стратегии игр, учитывая предпочтения пользователей в разных регионах."
      ]
    },
    {
      "cell_type": "markdown",
      "metadata": {
        "id": "hLQvt2n5EAwW"
      },
      "source": [
        "**Доп.вывод по 1 проверке:**\n",
        "\n",
        "**Формулирование гипотез:**\n",
        "- Нулевая гипотеза (H0): Средние пользовательские рейтинги платформ Xbox One и PC одинаковые.\n",
        "- Альтернативная гипотеза (H1): Средние пользовательские рейтинги платформ Xbox One и PC различаются.\n",
        "\n",
        "Нулевую гипотезу часто формулируют так, чтобы именно она содержала знак равенства. Альтернативная гипотеза - это утверждение, которое принимается верным, если отвергается H0.\n",
        "\n",
        "\n",
        "**Обоснование выбора t-критерия:**\n",
        "Для решения данного вопроса о сравнении средних пользовательских рейтингов двух платформ, был выбран t-критерий для независимых выборок, а именно ttest_ind. Этот выбор обоснован следующими факторами:\n",
        "\n",
        "- Независимые выборки: Пользовательские рейтинги для платформ Xbox One и PC являются независимыми выборками, так как они относятся к разным платформам и могут изменяться независимо друг от друга.\n",
        "\n",
        "- Сравнение средних: В данной задаче интерес состоит в сравнении средних значений рейтингов для двух групп (платформ), чтобы определить, есть ли статистически значимые различия.\n",
        "\n",
        "- Распределение данных: T-критерий подходит для данных, которые приближаются к нормальному распределению. Если распределение данных приемлемо близко к нормальному, то t-критерий будет давать хорошие результаты.\n",
        "\n",
        "- Достаточный объем выборок: Для применения t-критерия важно, чтобы выборки были достаточно большими, чтобы применять аппроксимации нормального распределения.\n",
        "\n",
        "Таким образом, t-критерий для независимых выборок является подходящим инструментом для проверки гипотезы о равенстве средних пользовательских рейтингов платформ Xbox One и PC.\n",
        "\n",
        "**Доп.вывод по 2 проверке:**\n",
        "\n",
        "**Формулирование гипотез:**\n",
        "- Нулевая гипотеза (H0): Средние пользовательские рейтинги жанров Action и Sports одинаковые.\n",
        "- Альтернативная гипотеза (H1): Средние пользовательские рейтинги жанров Action и Sports различаются.\n",
        "\n",
        "**Обоснование выбора t-критерия:**\n",
        "Для анализа сравнения средних пользовательских рейтингов двух жанров – Action и Sports, был выбран t-критерий для независимых выборок ttest_ind. Этот выбор обосновывается следующими факторами:\n",
        "\n",
        "- Независимые выборки: Пользовательские рейтинги для жанров Action и Sports являются независимыми выборками, так как они относятся к разным жанрам и могут изменяться независимо друг от друга.\n",
        "\n",
        "- Сравнение средних: В данном случае интерес заключается в сравнении средних значений рейтингов для двух групп (жанров), чтобы определить, есть ли статистически значимые различия.\n",
        "\n",
        "- Распределение данных: T-критерий подходит для данных, которые приближаются к нормальному распределению. Если распределение данных приемлемо близко к нормальному, то t-критерий будет давать надежные результаты.\n",
        "\n",
        "- Достаточный объем выборок: Для применения t-критерия важно, чтобы выборки были достаточно большими, чтобы применять аппроксимации нормального распределения.\n",
        "\n",
        "Таким образом, t-критерий для независимых выборок является подходящим методом для проверки гипотезы о различии средних пользовательских рейтингов жанров Action и Sports."
      ]
    },
    {
      "cell_type": "markdown",
      "metadata": {
        "id": "YsAQr-DlEAwY"
      },
      "source": [
        "## Общий вывод"
      ]
    },
    {
      "cell_type": "markdown",
      "metadata": {
        "id": "IajxwYYnEAwZ"
      },
      "source": [
        "В рамках данного проекта мы провели анализ данных о продажах компьютерных игр, чтобы выявить ключевые факторы, влияющие на успех игр и определить предпочтения игроков в разных регионах. Начнем с обзора обработки и анализа данных:\n",
        "\n",
        "Начальные данные представляли собой таблицу с 16715 строками и 11 столбцами, содержащими информацию о названиях игр, платформах, годах выпуска, жанрах, продажах в разных регионах, оценках критиков и пользователей, а также рейтингах ESRB. Первоначальный анализ позволил обнаружить пропущенные значения и аномалии в данных.\n",
        "\n",
        "Мы провели предобработку данных, заполнив пропущенные значения там, где это было возможно, и удалив неполные данные, не повлиявшие на итоговый анализ. Были добавлены столбцы для суммарных продаж и корректированы типы данных.\n",
        "\n",
        "Исследовательский анализ данных выявил следующие закономерности:\n",
        "\n",
        "1. **Темпы развития игровой индустрии:** Мы наблюдаем пик активности в индустрии с 2008 по 2009 год, с последующим снижением количества выпущенных игр. Также замечен спад продаж после 2011 года, который так и остался на данном уровне по 2016 год.\n",
        "\n",
        "2. **Циклы жизни платформ:** Жизненный цикл платформ составляет 8 лет. Топовые платформы, такие как PS2, X360 и PS3, постепенно утрачивают свою популярность. Во время анализа были отброшены данные до 2013 года, как неактуальные.\n",
        "\n",
        "3. **Влияние оценок на продажи:** Оценки пользователей имеют очень слабую корреляцию с продажами, в то время как оценки критиков оказывают более значимое влияние, но все еще недостаточное.\n",
        "\n",
        "4. **Популярные жанры:** Жанры Shooter, Sports, Platform, Role-Playing пользуются большой популярностью.\n",
        "\n",
        "5. **Региональные предпочтения:** В разных регионах топовые платформы, жанры и рейтинги могут значительно различаться. Например, платформа 3DS пользуется большой популярностью в Японии. А популярные рейтинги в Северной Америке и Европе не являются популярными в Японии, так как рейтинговая система не распространяется на данный регион.\n",
        "\n",
        "На основании проведенного анализа, мы можем сделать следующие портреты пользователей из разных регионов:\n",
        "\n",
        "1. **Пользователь из Северной Америки:**\n",
        "   - Популярные платформы: X360, PS3, Wii.\n",
        "   - Жанры: Action, Shooter, Sports.\n",
        "   - Рейтинги: M (Для взрослых), NR (Отсутствует рейтинг), E (Для всех).\n",
        "\n",
        "2. **Пользователь из Европы:**\n",
        "   - Популярные платформы: PS3, X360, PS4.\n",
        "   - Жанры: Action, Shooter, Sports.\n",
        "   - Рейтинги: M (Для взрослых), E (Для всех), NR (Отсутствует рейтинг).\n",
        "\n",
        "3. **Пользователь из Японии:**\n",
        "   - Популярные платформы: 3DS, PS3, PSP.\n",
        "   - Жанры: Role-Playing, Action, Misc.\n",
        "   - Рейтинги: NR (Отсутствует рейтинг), T (Подростки), E (Для всех).\n",
        "\n",
        "Также проверка гипотез позволяет нам утверждать, что средние пользовательские рейтинги платформ Xbox One и PC почти одинаковы, а средние пользовательские рейтинги жанров Action (англ. «действие», экшен-игры) и Sports (англ. «спортивные соревнования») сильно отличаются.\n",
        "\n",
        "**Рекомендации:**\n",
        "   - Внимание стоит обратить на платформы с высокими продажами и популярностью в каждом регионе, чтобы сосредоточиться на разработке и продвижении игр именно для этих платформ.\n",
        "   - Игры жанров Action, Shooter и Sports обещают наибольший успех, поэтому стоит акцентировать внимание на их разработку.\n",
        "   - Рейтинги M, NR и E наиболее востребованы в регионах Северной Америке, следует соблюдать соответствие рейтингов целевой аудитории игр, однако следует обратить внимание, что очень большое число игр не имеют рейтинга в связи с тем, что ESRB-рейтинг не работает в Японии (и не только).\n",
        "   \n",
        "Результаты анализа данных позволяют сформировать стратегический подход к разработке и продвижению игр, учитывая предпочтения и поведение игроков в разных регионах. На основе анализа данных можно назвать некоторые рекомендации для интернет-магазина \"Стримчик\":\n",
        "\n",
        "1. **Выбор платформ и регионов для продвижения игр:**\n",
        "   - Для Северной Америки и Европы следует уделить внимание платформам X360, PS3, PS4 и XOne, а также жанрам Action, Shooter и Sports. Рейтинги M (Для взрослых) и E (Для всех) также актуальны для этих регионов.\n",
        "   - В Японии стоит ориентироваться на платформу 3DS и жанр Role-Playing. ESRB не работает в данном регионе, поэтому игры без рейтинга чаще всего встречаются в Японии, от этого следует, что рейтинги NR (отсутствие рейтинга) и T (Подростки) наиболее популярны.\n",
        "\n",
        "\n",
        "2. **Анализ оценок и продаж:**\n",
        "   - Оценки пользователей имеют меньшее влияние на продажи, нежели оценки критиков. Однако стоит обратить внимание на платформы с отрицательной корреляцией между оценками критиков и продажами (например, PSV) и провести анализ, почему это может происходить.\n",
        "   - Продажи сильно зависят от жанра игры. Игры жанра Shooter и Sports имеют наибольший потенциал для высоких продаж.\n",
        "\n",
        "\n",
        "3. **Учет возрастных рейтингов:**\n",
        "   - Важно соблюдать соответствие возрастных рейтингов игр целевой аудитории в разных регионах. В Северной Америке и Европе более востребованы рейтинги M (Для взрослых) и E (Для всех).\n",
        "\n",
        "\n",
        "4. **Сезонность и циклы жизни платформ:**\n",
        "   - Необходимо обратить внимание на циклы жизни платформ. Платформы, находящиеся на пике популярности, могут быть более перспективными для размещения новых игр.\n",
        "\n",
        "Итак, анализ данных о продажах компьютерных игр позволяет выявить определяющие успешность закономерности и сформировать рекомендации, направленные на максимизацию прибыли и эффективное продвижение игр в различных регионах."
      ]
    }
  ],
  "metadata": {
    "ExecuteTimeLog": [
      {
        "duration": 446,
        "start_time": "2023-08-07T10:33:45.696Z"
      },
      {
        "duration": 222,
        "start_time": "2023-08-07T10:34:27.213Z"
      },
      {
        "duration": 64,
        "start_time": "2023-08-07T10:37:40.396Z"
      },
      {
        "duration": 82,
        "start_time": "2023-08-07T10:42:24.841Z"
      },
      {
        "duration": 79,
        "start_time": "2023-08-07T10:43:02.938Z"
      },
      {
        "duration": 3,
        "start_time": "2023-08-07T10:47:40.412Z"
      },
      {
        "duration": 3,
        "start_time": "2023-08-07T10:47:45.029Z"
      },
      {
        "duration": 59,
        "start_time": "2023-08-07T10:47:55.784Z"
      },
      {
        "duration": 7,
        "start_time": "2023-08-07T10:48:06.184Z"
      },
      {
        "duration": 7,
        "start_time": "2023-08-07T10:48:14.736Z"
      },
      {
        "duration": 3,
        "start_time": "2023-08-07T10:48:19.480Z"
      },
      {
        "duration": 79,
        "start_time": "2023-08-07T10:48:19.486Z"
      },
      {
        "duration": 6,
        "start_time": "2023-08-07T10:48:19.570Z"
      },
      {
        "duration": 17,
        "start_time": "2023-08-07T10:48:19.581Z"
      },
      {
        "duration": 81,
        "start_time": "2023-08-07T10:51:27.706Z"
      },
      {
        "duration": 2112,
        "start_time": "2023-08-07T10:58:16.884Z"
      },
      {
        "duration": 2275,
        "start_time": "2023-08-07T11:02:23.409Z"
      },
      {
        "duration": 16,
        "start_time": "2023-08-07T11:02:40.285Z"
      },
      {
        "duration": 3,
        "start_time": "2023-08-07T11:02:46.276Z"
      },
      {
        "duration": 14,
        "start_time": "2023-08-07T11:02:50.813Z"
      },
      {
        "duration": 3,
        "start_time": "2023-08-07T11:02:56.605Z"
      },
      {
        "duration": 85,
        "start_time": "2023-08-07T11:02:56.611Z"
      },
      {
        "duration": 3,
        "start_time": "2023-08-07T11:02:56.698Z"
      },
      {
        "duration": 8,
        "start_time": "2023-08-07T11:02:56.703Z"
      },
      {
        "duration": 28,
        "start_time": "2023-08-07T11:02:56.713Z"
      },
      {
        "duration": 6,
        "start_time": "2023-08-07T11:03:46.387Z"
      },
      {
        "duration": 14,
        "start_time": "2023-08-07T11:03:48.084Z"
      },
      {
        "duration": 3,
        "start_time": "2023-08-07T11:03:58.686Z"
      },
      {
        "duration": 84,
        "start_time": "2023-08-07T11:03:58.691Z"
      },
      {
        "duration": 4,
        "start_time": "2023-08-07T11:03:58.776Z"
      },
      {
        "duration": 5,
        "start_time": "2023-08-07T11:03:58.782Z"
      },
      {
        "duration": 24,
        "start_time": "2023-08-07T11:03:58.789Z"
      },
      {
        "duration": 14,
        "start_time": "2023-08-07T11:04:46.989Z"
      },
      {
        "duration": 13,
        "start_time": "2023-08-07T11:06:11.386Z"
      },
      {
        "duration": 9,
        "start_time": "2023-08-07T11:07:31.314Z"
      },
      {
        "duration": 17,
        "start_time": "2023-08-07T11:08:03.787Z"
      },
      {
        "duration": 15,
        "start_time": "2023-08-07T11:08:51.733Z"
      },
      {
        "duration": 39,
        "start_time": "2023-08-07T11:12:00.772Z"
      },
      {
        "duration": 19,
        "start_time": "2023-08-07T11:14:21.639Z"
      },
      {
        "duration": 16,
        "start_time": "2023-08-07T11:14:27.070Z"
      },
      {
        "duration": 3,
        "start_time": "2023-08-07T11:16:32.027Z"
      },
      {
        "duration": 118,
        "start_time": "2023-08-07T11:16:32.034Z"
      },
      {
        "duration": 3,
        "start_time": "2023-08-07T11:16:32.154Z"
      },
      {
        "duration": 41,
        "start_time": "2023-08-07T11:16:32.158Z"
      },
      {
        "duration": 35,
        "start_time": "2023-08-07T11:16:32.201Z"
      },
      {
        "duration": 24,
        "start_time": "2023-08-07T11:25:31.733Z"
      },
      {
        "duration": 14,
        "start_time": "2023-08-07T11:25:33.931Z"
      },
      {
        "duration": 3,
        "start_time": "2023-08-07T11:28:10.726Z"
      },
      {
        "duration": 60,
        "start_time": "2023-08-08T15:26:45.914Z"
      },
      {
        "duration": 433,
        "start_time": "2023-08-08T15:26:49.638Z"
      },
      {
        "duration": 224,
        "start_time": "2023-08-08T15:26:50.073Z"
      },
      {
        "duration": 3,
        "start_time": "2023-08-08T15:26:50.299Z"
      },
      {
        "duration": 65,
        "start_time": "2023-08-08T15:26:50.304Z"
      },
      {
        "duration": 31,
        "start_time": "2023-08-08T15:26:50.371Z"
      },
      {
        "duration": 13,
        "start_time": "2023-08-08T15:26:50.403Z"
      },
      {
        "duration": 31,
        "start_time": "2023-08-08T15:27:27.546Z"
      },
      {
        "duration": 11,
        "start_time": "2023-08-08T15:27:41.109Z"
      },
      {
        "duration": 29,
        "start_time": "2023-08-08T15:27:48.962Z"
      },
      {
        "duration": 24,
        "start_time": "2023-08-08T15:28:00.670Z"
      },
      {
        "duration": 9,
        "start_time": "2023-08-08T15:28:42.742Z"
      },
      {
        "duration": 17,
        "start_time": "2023-08-08T15:29:22.675Z"
      },
      {
        "duration": 71,
        "start_time": "2023-08-08T15:29:26.648Z"
      },
      {
        "duration": 50,
        "start_time": "2023-08-08T15:29:30.475Z"
      },
      {
        "duration": 6,
        "start_time": "2023-08-08T15:29:34.620Z"
      },
      {
        "duration": 25,
        "start_time": "2023-08-08T15:31:26.694Z"
      },
      {
        "duration": 3,
        "start_time": "2023-08-08T17:59:41.851Z"
      },
      {
        "duration": 84,
        "start_time": "2023-08-08T17:59:41.858Z"
      },
      {
        "duration": 4,
        "start_time": "2023-08-08T17:59:41.945Z"
      },
      {
        "duration": 33,
        "start_time": "2023-08-08T17:59:41.951Z"
      },
      {
        "duration": 0,
        "start_time": "2023-08-08T17:59:41.986Z"
      },
      {
        "duration": 0,
        "start_time": "2023-08-08T17:59:41.991Z"
      },
      {
        "duration": 3,
        "start_time": "2023-08-08T17:59:56.683Z"
      },
      {
        "duration": 101,
        "start_time": "2023-08-08T17:59:56.688Z"
      },
      {
        "duration": 4,
        "start_time": "2023-08-08T17:59:56.791Z"
      },
      {
        "duration": 39,
        "start_time": "2023-08-08T17:59:56.797Z"
      },
      {
        "duration": 28,
        "start_time": "2023-08-08T17:59:56.840Z"
      },
      {
        "duration": 37,
        "start_time": "2023-08-08T17:59:56.879Z"
      },
      {
        "duration": 15,
        "start_time": "2023-08-08T18:03:08.644Z"
      },
      {
        "duration": 28,
        "start_time": "2023-08-08T18:03:21.115Z"
      },
      {
        "duration": 11,
        "start_time": "2023-08-08T18:03:51.335Z"
      },
      {
        "duration": 3,
        "start_time": "2023-08-08T18:03:54.481Z"
      },
      {
        "duration": 85,
        "start_time": "2023-08-08T18:03:54.490Z"
      },
      {
        "duration": 3,
        "start_time": "2023-08-08T18:03:54.578Z"
      },
      {
        "duration": 25,
        "start_time": "2023-08-08T18:03:54.583Z"
      },
      {
        "duration": 496,
        "start_time": "2023-08-08T18:03:54.610Z"
      },
      {
        "duration": 4,
        "start_time": "2023-08-08T18:03:55.108Z"
      },
      {
        "duration": 26,
        "start_time": "2023-08-08T18:03:55.113Z"
      },
      {
        "duration": 237,
        "start_time": "2023-08-08T18:09:37.461Z"
      },
      {
        "duration": 248,
        "start_time": "2023-08-08T18:09:42.952Z"
      },
      {
        "duration": 220,
        "start_time": "2023-08-08T18:09:52.894Z"
      },
      {
        "duration": 3,
        "start_time": "2023-08-08T18:09:56.276Z"
      },
      {
        "duration": 101,
        "start_time": "2023-08-08T18:09:56.282Z"
      },
      {
        "duration": 5,
        "start_time": "2023-08-08T18:09:56.389Z"
      },
      {
        "duration": 24,
        "start_time": "2023-08-08T18:09:56.397Z"
      },
      {
        "duration": 209,
        "start_time": "2023-08-08T18:09:56.423Z"
      },
      {
        "duration": 13,
        "start_time": "2023-08-08T18:09:56.635Z"
      },
      {
        "duration": 0,
        "start_time": "2023-08-08T18:09:56.661Z"
      },
      {
        "duration": 202,
        "start_time": "2023-08-08T18:10:34.937Z"
      },
      {
        "duration": 5,
        "start_time": "2023-08-08T18:10:36.600Z"
      },
      {
        "duration": 18,
        "start_time": "2023-08-08T18:11:42.116Z"
      },
      {
        "duration": 12,
        "start_time": "2023-08-08T18:12:35.139Z"
      },
      {
        "duration": 8,
        "start_time": "2023-08-08T18:13:06.700Z"
      },
      {
        "duration": 22,
        "start_time": "2023-08-08T18:13:54.425Z"
      },
      {
        "duration": 8,
        "start_time": "2023-08-08T18:17:56.121Z"
      },
      {
        "duration": 8,
        "start_time": "2023-08-08T18:18:09.310Z"
      },
      {
        "duration": 31,
        "start_time": "2023-08-08T18:18:15.459Z"
      },
      {
        "duration": 8,
        "start_time": "2023-08-08T18:18:57.429Z"
      },
      {
        "duration": 25,
        "start_time": "2023-08-08T20:01:42.390Z"
      },
      {
        "duration": 5,
        "start_time": "2023-08-08T20:02:21.736Z"
      },
      {
        "duration": 34,
        "start_time": "2023-08-08T20:02:25.353Z"
      },
      {
        "duration": 8,
        "start_time": "2023-08-08T20:02:46.804Z"
      },
      {
        "duration": 134,
        "start_time": "2023-08-08T20:03:18.983Z"
      },
      {
        "duration": 85,
        "start_time": "2023-08-08T20:03:33.489Z"
      },
      {
        "duration": 139,
        "start_time": "2023-08-08T20:04:08.445Z"
      },
      {
        "duration": 81,
        "start_time": "2023-08-08T20:04:18.291Z"
      },
      {
        "duration": 50,
        "start_time": "2023-08-09T13:58:26.785Z"
      },
      {
        "duration": 413,
        "start_time": "2023-08-09T13:58:30.596Z"
      },
      {
        "duration": 128,
        "start_time": "2023-08-09T13:58:31.011Z"
      },
      {
        "duration": 4,
        "start_time": "2023-08-09T13:58:31.141Z"
      },
      {
        "duration": 105,
        "start_time": "2023-08-09T13:58:31.147Z"
      },
      {
        "duration": 274,
        "start_time": "2023-08-09T13:58:31.254Z"
      },
      {
        "duration": 79,
        "start_time": "2023-08-09T13:58:31.529Z"
      },
      {
        "duration": 45,
        "start_time": "2023-08-09T13:58:31.610Z"
      },
      {
        "duration": 43,
        "start_time": "2023-08-09T13:58:31.657Z"
      },
      {
        "duration": 367,
        "start_time": "2023-08-09T13:59:11.521Z"
      },
      {
        "duration": 2,
        "start_time": "2023-08-09T13:59:20.858Z"
      },
      {
        "duration": 77,
        "start_time": "2023-08-09T13:59:20.862Z"
      },
      {
        "duration": 3,
        "start_time": "2023-08-09T13:59:20.941Z"
      },
      {
        "duration": 35,
        "start_time": "2023-08-09T13:59:20.946Z"
      },
      {
        "duration": 172,
        "start_time": "2023-08-09T13:59:20.983Z"
      },
      {
        "duration": 6,
        "start_time": "2023-08-09T13:59:21.157Z"
      },
      {
        "duration": 338,
        "start_time": "2023-08-09T13:59:21.165Z"
      },
      {
        "duration": 0,
        "start_time": "2023-08-09T13:59:21.505Z"
      },
      {
        "duration": 9,
        "start_time": "2023-08-09T14:18:38.168Z"
      },
      {
        "duration": 8,
        "start_time": "2023-08-09T14:20:12.154Z"
      },
      {
        "duration": 22,
        "start_time": "2023-08-09T14:21:22.011Z"
      },
      {
        "duration": 412,
        "start_time": "2023-08-09T14:21:28.058Z"
      },
      {
        "duration": 77,
        "start_time": "2023-08-09T14:21:28.472Z"
      },
      {
        "duration": 3,
        "start_time": "2023-08-09T14:21:28.551Z"
      },
      {
        "duration": 30,
        "start_time": "2023-08-09T14:21:28.557Z"
      },
      {
        "duration": 191,
        "start_time": "2023-08-09T14:21:28.589Z"
      },
      {
        "duration": 7,
        "start_time": "2023-08-09T14:21:28.781Z"
      },
      {
        "duration": 11,
        "start_time": "2023-08-09T14:21:28.795Z"
      },
      {
        "duration": 20,
        "start_time": "2023-08-09T14:21:28.808Z"
      },
      {
        "duration": 4,
        "start_time": "2023-08-09T14:21:29.917Z"
      },
      {
        "duration": 80,
        "start_time": "2023-08-09T14:21:29.923Z"
      },
      {
        "duration": 3,
        "start_time": "2023-08-09T14:21:30.004Z"
      },
      {
        "duration": 66,
        "start_time": "2023-08-09T14:21:30.009Z"
      },
      {
        "duration": 200,
        "start_time": "2023-08-09T14:21:30.077Z"
      },
      {
        "duration": 7,
        "start_time": "2023-08-09T14:21:30.279Z"
      },
      {
        "duration": 76,
        "start_time": "2023-08-09T14:21:30.294Z"
      },
      {
        "duration": 37,
        "start_time": "2023-08-09T14:21:30.372Z"
      },
      {
        "duration": 28,
        "start_time": "2023-08-09T14:21:47.534Z"
      },
      {
        "duration": 152,
        "start_time": "2023-08-09T14:25:20.499Z"
      },
      {
        "duration": 146,
        "start_time": "2023-08-09T14:25:53.536Z"
      },
      {
        "duration": 197,
        "start_time": "2023-08-09T14:26:04.786Z"
      },
      {
        "duration": 145,
        "start_time": "2023-08-09T14:29:43.150Z"
      },
      {
        "duration": 177,
        "start_time": "2023-08-09T14:30:05.242Z"
      },
      {
        "duration": 199,
        "start_time": "2023-08-09T14:30:19.657Z"
      },
      {
        "duration": 34,
        "start_time": "2023-08-09T14:30:56.620Z"
      },
      {
        "duration": 25,
        "start_time": "2023-08-09T14:31:20.596Z"
      },
      {
        "duration": 174,
        "start_time": "2023-08-09T14:31:35.741Z"
      },
      {
        "duration": 21,
        "start_time": "2023-08-09T14:37:44.402Z"
      },
      {
        "duration": 1431,
        "start_time": "2023-08-09T14:37:52.205Z"
      },
      {
        "duration": 8,
        "start_time": "2023-08-09T14:38:02.043Z"
      },
      {
        "duration": 17,
        "start_time": "2023-08-09T14:38:31.674Z"
      },
      {
        "duration": 10,
        "start_time": "2023-08-09T14:39:07.741Z"
      },
      {
        "duration": 9,
        "start_time": "2023-08-09T14:39:29.750Z"
      },
      {
        "duration": 21,
        "start_time": "2023-08-09T14:40:39.707Z"
      },
      {
        "duration": 11,
        "start_time": "2023-08-09T15:01:04.312Z"
      },
      {
        "duration": 124,
        "start_time": "2023-08-09T15:01:34.863Z"
      },
      {
        "duration": 122,
        "start_time": "2023-08-09T15:02:07.855Z"
      },
      {
        "duration": 141,
        "start_time": "2023-08-09T15:02:35.019Z"
      },
      {
        "duration": 149,
        "start_time": "2023-08-09T15:04:24.310Z"
      },
      {
        "duration": 151,
        "start_time": "2023-08-09T15:06:14.859Z"
      },
      {
        "duration": 133,
        "start_time": "2023-08-09T15:06:31.574Z"
      },
      {
        "duration": 137,
        "start_time": "2023-08-09T15:06:58.924Z"
      },
      {
        "duration": 1392,
        "start_time": "2023-08-09T15:08:05.077Z"
      },
      {
        "duration": 1288,
        "start_time": "2023-08-09T15:08:15.371Z"
      },
      {
        "duration": 8,
        "start_time": "2023-08-09T15:08:21.338Z"
      },
      {
        "duration": 13,
        "start_time": "2023-08-09T15:08:45.366Z"
      },
      {
        "duration": 8,
        "start_time": "2023-08-09T15:08:52.734Z"
      },
      {
        "duration": 117,
        "start_time": "2023-08-10T08:56:11.271Z"
      },
      {
        "duration": 46,
        "start_time": "2023-08-10T08:56:50.319Z"
      },
      {
        "duration": 827,
        "start_time": "2023-08-10T08:56:54.503Z"
      },
      {
        "duration": 214,
        "start_time": "2023-08-10T08:56:55.332Z"
      },
      {
        "duration": 4,
        "start_time": "2023-08-10T08:56:55.547Z"
      },
      {
        "duration": 32,
        "start_time": "2023-08-10T08:56:55.553Z"
      },
      {
        "duration": 198,
        "start_time": "2023-08-10T08:56:55.587Z"
      },
      {
        "duration": 7,
        "start_time": "2023-08-10T08:56:55.786Z"
      },
      {
        "duration": 16,
        "start_time": "2023-08-10T08:56:55.796Z"
      },
      {
        "duration": 29,
        "start_time": "2023-08-10T08:56:55.814Z"
      },
      {
        "duration": 206,
        "start_time": "2023-08-10T08:56:55.868Z"
      },
      {
        "duration": 10,
        "start_time": "2023-08-10T08:56:56.077Z"
      },
      {
        "duration": 58,
        "start_time": "2023-08-10T08:56:56.088Z"
      },
      {
        "duration": 177,
        "start_time": "2023-08-10T09:03:41.464Z"
      },
      {
        "duration": 273,
        "start_time": "2023-08-10T09:03:57.754Z"
      },
      {
        "duration": 21,
        "start_time": "2023-08-10T09:08:47.182Z"
      },
      {
        "duration": 1313,
        "start_time": "2023-08-10T09:13:23.287Z"
      },
      {
        "duration": 8,
        "start_time": "2023-08-10T09:25:42.824Z"
      },
      {
        "duration": 304,
        "start_time": "2023-08-10T09:38:44.470Z"
      },
      {
        "duration": 337,
        "start_time": "2023-08-10T09:38:53.967Z"
      },
      {
        "duration": 10,
        "start_time": "2023-08-10T09:54:14.501Z"
      },
      {
        "duration": 9,
        "start_time": "2023-08-10T10:02:22.541Z"
      },
      {
        "duration": 605,
        "start_time": "2023-08-10T10:02:43.026Z"
      },
      {
        "duration": 156,
        "start_time": "2023-08-10T10:04:13.505Z"
      },
      {
        "duration": 131,
        "start_time": "2023-08-10T10:08:56.997Z"
      },
      {
        "duration": 24,
        "start_time": "2023-08-10T10:09:24.630Z"
      },
      {
        "duration": 11,
        "start_time": "2023-08-10T10:09:31.577Z"
      },
      {
        "duration": 139,
        "start_time": "2023-08-10T10:09:45.576Z"
      },
      {
        "duration": 2137,
        "start_time": "2023-08-10T10:10:34.098Z"
      },
      {
        "duration": 1896,
        "start_time": "2023-08-10T10:10:46.862Z"
      },
      {
        "duration": 9,
        "start_time": "2023-08-10T10:30:03.450Z"
      },
      {
        "duration": 11,
        "start_time": "2023-08-10T10:30:04.892Z"
      },
      {
        "duration": 1640,
        "start_time": "2023-08-10T10:30:07.587Z"
      },
      {
        "duration": 484,
        "start_time": "2023-08-10T10:33:09.077Z"
      },
      {
        "duration": 458,
        "start_time": "2023-08-10T10:34:17.745Z"
      },
      {
        "duration": 246,
        "start_time": "2023-08-10T11:11:43.343Z"
      },
      {
        "duration": 129,
        "start_time": "2023-08-10T11:11:51.480Z"
      },
      {
        "duration": 111,
        "start_time": "2023-08-10T11:11:58.855Z"
      },
      {
        "duration": 114,
        "start_time": "2023-08-10T11:12:16.807Z"
      },
      {
        "duration": 256,
        "start_time": "2023-08-10T11:14:52.875Z"
      },
      {
        "duration": 360,
        "start_time": "2023-08-10T11:15:23.534Z"
      },
      {
        "duration": 268,
        "start_time": "2023-08-10T11:15:31.600Z"
      },
      {
        "duration": 271,
        "start_time": "2023-08-10T11:15:57.683Z"
      },
      {
        "duration": 251,
        "start_time": "2023-08-10T11:16:57.003Z"
      },
      {
        "duration": 240,
        "start_time": "2023-08-10T11:21:55.384Z"
      },
      {
        "duration": 391,
        "start_time": "2023-08-10T11:24:04.183Z"
      },
      {
        "duration": 478,
        "start_time": "2023-08-10T11:24:39.038Z"
      },
      {
        "duration": 499,
        "start_time": "2023-08-10T11:30:15.375Z"
      },
      {
        "duration": 44,
        "start_time": "2023-08-10T12:55:12.447Z"
      },
      {
        "duration": 1268,
        "start_time": "2023-08-10T12:55:19.111Z"
      },
      {
        "duration": 121,
        "start_time": "2023-08-10T12:55:20.382Z"
      },
      {
        "duration": 3,
        "start_time": "2023-08-10T12:55:20.505Z"
      },
      {
        "duration": 55,
        "start_time": "2023-08-10T12:55:20.509Z"
      },
      {
        "duration": 171,
        "start_time": "2023-08-10T12:55:20.566Z"
      },
      {
        "duration": 6,
        "start_time": "2023-08-10T12:55:20.738Z"
      },
      {
        "duration": 43,
        "start_time": "2023-08-10T12:55:20.746Z"
      },
      {
        "duration": 70,
        "start_time": "2023-08-10T12:55:20.790Z"
      },
      {
        "duration": 182,
        "start_time": "2023-08-10T12:55:20.861Z"
      },
      {
        "duration": 277,
        "start_time": "2023-08-10T12:55:21.045Z"
      },
      {
        "duration": 892,
        "start_time": "2023-08-10T12:55:21.324Z"
      },
      {
        "duration": 7,
        "start_time": "2023-08-10T12:55:22.217Z"
      },
      {
        "duration": 39,
        "start_time": "2023-08-10T12:55:22.225Z"
      },
      {
        "duration": 464,
        "start_time": "2023-08-10T12:55:22.266Z"
      },
      {
        "duration": 408,
        "start_time": "2023-08-10T12:55:22.732Z"
      },
      {
        "duration": 115,
        "start_time": "2023-08-10T12:55:23.141Z"
      },
      {
        "duration": 238,
        "start_time": "2023-08-10T12:57:18.201Z"
      },
      {
        "duration": 7,
        "start_time": "2023-08-10T13:01:00.288Z"
      },
      {
        "duration": 5,
        "start_time": "2023-08-10T13:01:14.829Z"
      },
      {
        "duration": 5,
        "start_time": "2023-08-10T13:01:39.186Z"
      },
      {
        "duration": 4,
        "start_time": "2023-08-10T13:12:50.252Z"
      },
      {
        "duration": 69,
        "start_time": "2023-08-10T13:12:53.362Z"
      },
      {
        "duration": 9,
        "start_time": "2023-08-10T13:13:04.562Z"
      },
      {
        "duration": 11,
        "start_time": "2023-08-10T13:19:07.627Z"
      },
      {
        "duration": 151,
        "start_time": "2023-08-10T13:19:24.364Z"
      },
      {
        "duration": 5,
        "start_time": "2023-08-10T13:23:23.485Z"
      },
      {
        "duration": 5,
        "start_time": "2023-08-10T13:23:58.785Z"
      },
      {
        "duration": 5,
        "start_time": "2023-08-10T13:45:42.556Z"
      },
      {
        "duration": 10,
        "start_time": "2023-08-10T13:46:05.456Z"
      },
      {
        "duration": 11,
        "start_time": "2023-08-10T13:48:07.357Z"
      },
      {
        "duration": 781,
        "start_time": "2023-08-10T13:48:51.456Z"
      },
      {
        "duration": 82,
        "start_time": "2023-08-10T13:55:19.961Z"
      },
      {
        "duration": 42483,
        "start_time": "2023-08-10T13:56:21.244Z"
      },
      {
        "duration": 39888,
        "start_time": "2023-08-10T13:58:09.995Z"
      },
      {
        "duration": 39813,
        "start_time": "2023-08-10T13:59:37.660Z"
      },
      {
        "duration": 83,
        "start_time": "2023-08-10T14:01:49.109Z"
      },
      {
        "duration": 3632,
        "start_time": "2023-08-10T14:02:01.940Z"
      },
      {
        "duration": 8387,
        "start_time": "2023-08-10T14:03:14.965Z"
      },
      {
        "duration": 11800,
        "start_time": "2023-08-10T14:07:13.551Z"
      },
      {
        "duration": 5,
        "start_time": "2023-08-10T14:08:23.103Z"
      },
      {
        "duration": 3,
        "start_time": "2023-08-10T14:40:10.111Z"
      },
      {
        "duration": 64,
        "start_time": "2023-08-10T14:40:11.014Z"
      },
      {
        "duration": 3,
        "start_time": "2023-08-10T14:40:11.982Z"
      },
      {
        "duration": 16,
        "start_time": "2023-08-10T14:40:12.364Z"
      },
      {
        "duration": 150,
        "start_time": "2023-08-10T14:40:12.664Z"
      },
      {
        "duration": 7,
        "start_time": "2023-08-10T14:40:13.660Z"
      },
      {
        "duration": 8,
        "start_time": "2023-08-10T14:40:14.390Z"
      },
      {
        "duration": 29,
        "start_time": "2023-08-10T14:40:16.106Z"
      },
      {
        "duration": 241,
        "start_time": "2023-08-10T14:40:17.560Z"
      },
      {
        "duration": 242,
        "start_time": "2023-08-10T14:40:22.069Z"
      },
      {
        "duration": 973,
        "start_time": "2023-08-10T14:40:25.053Z"
      },
      {
        "duration": 7,
        "start_time": "2023-08-10T14:40:30.853Z"
      },
      {
        "duration": 8,
        "start_time": "2023-08-10T14:40:31.767Z"
      },
      {
        "duration": 402,
        "start_time": "2023-08-10T14:40:32.342Z"
      },
      {
        "duration": 477,
        "start_time": "2023-08-10T14:40:33.905Z"
      },
      {
        "duration": 280,
        "start_time": "2023-08-10T14:40:38.004Z"
      },
      {
        "duration": 5,
        "start_time": "2023-08-10T14:40:41.120Z"
      },
      {
        "duration": 4,
        "start_time": "2023-08-10T14:40:43.556Z"
      },
      {
        "duration": 13,
        "start_time": "2023-08-10T14:40:46.777Z"
      },
      {
        "duration": 3978,
        "start_time": "2023-08-10T14:40:58.815Z"
      },
      {
        "duration": 3771,
        "start_time": "2023-08-10T14:45:14.577Z"
      },
      {
        "duration": 3983,
        "start_time": "2023-08-10T14:45:27.589Z"
      },
      {
        "duration": 4212,
        "start_time": "2023-08-10T14:45:58.357Z"
      },
      {
        "duration": 3884,
        "start_time": "2023-08-10T14:46:41.871Z"
      },
      {
        "duration": 297,
        "start_time": "2023-08-10T14:54:59.085Z"
      },
      {
        "duration": 12,
        "start_time": "2023-08-10T14:59:23.875Z"
      },
      {
        "duration": 12,
        "start_time": "2023-08-10T14:59:33.474Z"
      },
      {
        "duration": 466,
        "start_time": "2023-08-10T14:59:44.151Z"
      },
      {
        "duration": 154,
        "start_time": "2023-08-10T15:00:15.454Z"
      },
      {
        "duration": 172,
        "start_time": "2023-08-10T15:00:32.071Z"
      },
      {
        "duration": 177,
        "start_time": "2023-08-10T15:01:11.459Z"
      },
      {
        "duration": 169,
        "start_time": "2023-08-10T15:01:50.955Z"
      },
      {
        "duration": 176,
        "start_time": "2023-08-10T15:02:38.051Z"
      },
      {
        "duration": 168,
        "start_time": "2023-08-10T15:02:51.913Z"
      },
      {
        "duration": 19,
        "start_time": "2023-08-10T15:53:43.980Z"
      },
      {
        "duration": 9,
        "start_time": "2023-08-10T16:00:54.300Z"
      },
      {
        "duration": 7,
        "start_time": "2023-08-10T16:01:04.250Z"
      },
      {
        "duration": 175,
        "start_time": "2023-08-10T16:02:03.194Z"
      },
      {
        "duration": 109,
        "start_time": "2023-08-10T16:02:46.604Z"
      },
      {
        "duration": 118,
        "start_time": "2023-08-10T16:04:45.582Z"
      },
      {
        "duration": 126,
        "start_time": "2023-08-10T16:05:20.754Z"
      },
      {
        "duration": 458,
        "start_time": "2023-08-10T16:05:28.685Z"
      },
      {
        "duration": 347,
        "start_time": "2023-08-10T16:07:06.143Z"
      },
      {
        "duration": 390,
        "start_time": "2023-08-10T16:13:02.692Z"
      },
      {
        "duration": 347,
        "start_time": "2023-08-10T16:13:21.394Z"
      },
      {
        "duration": 1041,
        "start_time": "2023-08-10T16:25:41.011Z"
      },
      {
        "duration": 6,
        "start_time": "2023-08-10T16:29:30.477Z"
      },
      {
        "duration": 13,
        "start_time": "2023-08-10T16:31:43.815Z"
      },
      {
        "duration": 3,
        "start_time": "2023-08-10T16:32:35.164Z"
      },
      {
        "duration": 96,
        "start_time": "2023-08-10T16:32:35.171Z"
      },
      {
        "duration": 3,
        "start_time": "2023-08-10T16:32:35.269Z"
      },
      {
        "duration": 41,
        "start_time": "2023-08-10T16:32:35.273Z"
      },
      {
        "duration": 172,
        "start_time": "2023-08-10T16:32:35.316Z"
      },
      {
        "duration": 7,
        "start_time": "2023-08-10T16:32:35.489Z"
      },
      {
        "duration": 27,
        "start_time": "2023-08-10T16:32:35.501Z"
      },
      {
        "duration": 33,
        "start_time": "2023-08-10T16:32:35.529Z"
      },
      {
        "duration": 182,
        "start_time": "2023-08-10T16:32:35.563Z"
      },
      {
        "duration": 274,
        "start_time": "2023-08-10T16:32:35.747Z"
      },
      {
        "duration": 1246,
        "start_time": "2023-08-10T16:32:36.025Z"
      },
      {
        "duration": 7,
        "start_time": "2023-08-10T16:32:37.273Z"
      },
      {
        "duration": 9,
        "start_time": "2023-08-10T16:32:37.282Z"
      },
      {
        "duration": 430,
        "start_time": "2023-08-10T16:32:37.305Z"
      },
      {
        "duration": 433,
        "start_time": "2023-08-10T16:32:37.737Z"
      },
      {
        "duration": 304,
        "start_time": "2023-08-10T16:32:38.172Z"
      },
      {
        "duration": 6,
        "start_time": "2023-08-10T16:32:38.477Z"
      },
      {
        "duration": 19,
        "start_time": "2023-08-10T16:32:38.484Z"
      },
      {
        "duration": 4037,
        "start_time": "2023-08-10T16:32:38.514Z"
      },
      {
        "duration": 179,
        "start_time": "2023-08-10T16:32:42.552Z"
      },
      {
        "duration": 19,
        "start_time": "2023-08-10T16:32:42.733Z"
      },
      {
        "duration": 375,
        "start_time": "2023-08-10T16:32:42.753Z"
      },
      {
        "duration": 357,
        "start_time": "2023-08-10T16:32:43.130Z"
      },
      {
        "duration": 516,
        "start_time": "2023-08-10T16:32:43.489Z"
      },
      {
        "duration": 15,
        "start_time": "2023-08-10T16:32:44.006Z"
      },
      {
        "duration": 6,
        "start_time": "2023-08-10T16:32:44.023Z"
      },
      {
        "duration": 9,
        "start_time": "2023-08-10T16:33:17.566Z"
      },
      {
        "duration": 55,
        "start_time": "2023-08-11T12:45:56.050Z"
      },
      {
        "duration": 1357,
        "start_time": "2023-08-11T12:46:00.348Z"
      },
      {
        "duration": 229,
        "start_time": "2023-08-11T12:46:01.708Z"
      },
      {
        "duration": 6,
        "start_time": "2023-08-11T12:46:01.941Z"
      },
      {
        "duration": 69,
        "start_time": "2023-08-11T12:46:01.949Z"
      },
      {
        "duration": 225,
        "start_time": "2023-08-11T12:46:02.021Z"
      },
      {
        "duration": 8,
        "start_time": "2023-08-11T12:46:02.248Z"
      },
      {
        "duration": 68,
        "start_time": "2023-08-11T12:46:02.257Z"
      },
      {
        "duration": 56,
        "start_time": "2023-08-11T12:46:02.327Z"
      },
      {
        "duration": 77,
        "start_time": "2023-08-11T12:46:02.385Z"
      },
      {
        "duration": 216,
        "start_time": "2023-08-11T12:46:02.463Z"
      },
      {
        "duration": 263,
        "start_time": "2023-08-11T12:46:02.681Z"
      },
      {
        "duration": 1199,
        "start_time": "2023-08-11T12:46:02.946Z"
      },
      {
        "duration": 9,
        "start_time": "2023-08-11T12:46:04.147Z"
      },
      {
        "duration": 34,
        "start_time": "2023-08-11T12:46:04.160Z"
      },
      {
        "duration": 575,
        "start_time": "2023-08-11T12:46:04.196Z"
      },
      {
        "duration": 465,
        "start_time": "2023-08-11T12:46:04.772Z"
      },
      {
        "duration": 297,
        "start_time": "2023-08-11T12:46:05.239Z"
      },
      {
        "duration": 6,
        "start_time": "2023-08-11T12:46:05.538Z"
      },
      {
        "duration": 11,
        "start_time": "2023-08-11T12:46:05.546Z"
      },
      {
        "duration": 4007,
        "start_time": "2023-08-11T12:46:05.559Z"
      },
      {
        "duration": 184,
        "start_time": "2023-08-11T12:46:09.569Z"
      },
      {
        "duration": 27,
        "start_time": "2023-08-11T12:46:09.755Z"
      },
      {
        "duration": 478,
        "start_time": "2023-08-11T12:46:09.783Z"
      },
      {
        "duration": 547,
        "start_time": "2023-08-11T12:46:10.263Z"
      },
      {
        "duration": 406,
        "start_time": "2023-08-11T12:46:10.812Z"
      },
      {
        "duration": 9,
        "start_time": "2023-08-11T12:46:11.220Z"
      },
      {
        "duration": 34,
        "start_time": "2023-08-11T12:46:11.230Z"
      },
      {
        "duration": 6,
        "start_time": "2023-08-11T12:46:23.379Z"
      },
      {
        "duration": 5,
        "start_time": "2023-08-11T12:50:38.693Z"
      },
      {
        "duration": 5,
        "start_time": "2023-08-11T12:50:53.997Z"
      },
      {
        "duration": 6,
        "start_time": "2023-08-11T12:51:21.796Z"
      },
      {
        "duration": 63,
        "start_time": "2023-08-11T12:51:26.804Z"
      },
      {
        "duration": 7,
        "start_time": "2023-08-11T12:51:32.932Z"
      },
      {
        "duration": 11,
        "start_time": "2023-08-11T12:51:59.414Z"
      },
      {
        "duration": 17,
        "start_time": "2023-08-11T12:52:03.267Z"
      },
      {
        "duration": 11,
        "start_time": "2023-08-11T12:56:03.234Z"
      },
      {
        "duration": 11,
        "start_time": "2023-08-11T12:59:45.198Z"
      },
      {
        "duration": 10,
        "start_time": "2023-08-11T12:59:56.863Z"
      },
      {
        "duration": 11,
        "start_time": "2023-08-11T13:00:04.201Z"
      },
      {
        "duration": 12,
        "start_time": "2023-08-11T13:01:01.881Z"
      },
      {
        "duration": 20,
        "start_time": "2023-08-11T13:07:05.838Z"
      },
      {
        "duration": 11,
        "start_time": "2023-08-11T13:07:12.735Z"
      },
      {
        "duration": 11,
        "start_time": "2023-08-11T13:08:57.551Z"
      },
      {
        "duration": 16,
        "start_time": "2023-08-11T13:09:06.794Z"
      },
      {
        "duration": 7,
        "start_time": "2023-08-11T13:17:46.465Z"
      },
      {
        "duration": 8,
        "start_time": "2023-08-11T13:17:50.973Z"
      },
      {
        "duration": 11,
        "start_time": "2023-08-11T13:18:02.298Z"
      },
      {
        "duration": 9,
        "start_time": "2023-08-11T13:19:52.518Z"
      },
      {
        "duration": 9,
        "start_time": "2023-08-11T13:20:03.784Z"
      },
      {
        "duration": 9,
        "start_time": "2023-08-11T13:20:23.413Z"
      },
      {
        "duration": 5,
        "start_time": "2023-08-11T13:20:24.326Z"
      },
      {
        "duration": 11,
        "start_time": "2023-08-11T13:22:32.211Z"
      },
      {
        "duration": 3,
        "start_time": "2023-08-11T13:22:36.815Z"
      },
      {
        "duration": 102,
        "start_time": "2023-08-11T13:22:36.823Z"
      },
      {
        "duration": 2,
        "start_time": "2023-08-11T13:22:36.927Z"
      },
      {
        "duration": 48,
        "start_time": "2023-08-11T13:22:36.931Z"
      },
      {
        "duration": 195,
        "start_time": "2023-08-11T13:22:36.981Z"
      },
      {
        "duration": 13,
        "start_time": "2023-08-11T13:22:37.179Z"
      },
      {
        "duration": 50,
        "start_time": "2023-08-11T13:22:37.195Z"
      },
      {
        "duration": 27,
        "start_time": "2023-08-11T13:22:37.247Z"
      },
      {
        "duration": 227,
        "start_time": "2023-08-11T13:22:37.276Z"
      },
      {
        "duration": 284,
        "start_time": "2023-08-11T13:22:37.505Z"
      },
      {
        "duration": 1310,
        "start_time": "2023-08-11T13:22:37.793Z"
      },
      {
        "duration": 8,
        "start_time": "2023-08-11T13:22:39.105Z"
      },
      {
        "duration": 31,
        "start_time": "2023-08-11T13:22:39.115Z"
      },
      {
        "duration": 458,
        "start_time": "2023-08-11T13:22:39.147Z"
      },
      {
        "duration": 497,
        "start_time": "2023-08-11T13:22:39.607Z"
      },
      {
        "duration": 385,
        "start_time": "2023-08-11T13:22:40.106Z"
      },
      {
        "duration": 9,
        "start_time": "2023-08-11T13:22:40.494Z"
      },
      {
        "duration": 26,
        "start_time": "2023-08-11T13:22:40.504Z"
      },
      {
        "duration": 4223,
        "start_time": "2023-08-11T13:22:40.532Z"
      },
      {
        "duration": 208,
        "start_time": "2023-08-11T13:22:44.756Z"
      },
      {
        "duration": 37,
        "start_time": "2023-08-11T13:22:44.965Z"
      },
      {
        "duration": 426,
        "start_time": "2023-08-11T13:22:45.003Z"
      },
      {
        "duration": 504,
        "start_time": "2023-08-11T13:22:45.430Z"
      },
      {
        "duration": 428,
        "start_time": "2023-08-11T13:22:45.936Z"
      },
      {
        "duration": 21,
        "start_time": "2023-08-11T13:22:46.365Z"
      },
      {
        "duration": 12,
        "start_time": "2023-08-11T13:22:46.388Z"
      },
      {
        "duration": 20,
        "start_time": "2023-08-11T13:22:46.402Z"
      },
      {
        "duration": 11,
        "start_time": "2023-08-11T13:23:27.330Z"
      },
      {
        "duration": 10,
        "start_time": "2023-08-11T13:23:37.310Z"
      },
      {
        "duration": 13,
        "start_time": "2023-08-11T13:25:04.742Z"
      },
      {
        "duration": 14,
        "start_time": "2023-08-11T13:25:12.166Z"
      },
      {
        "duration": 13,
        "start_time": "2023-08-11T13:25:16.242Z"
      },
      {
        "duration": 10,
        "start_time": "2023-08-11T13:27:54.406Z"
      },
      {
        "duration": 9,
        "start_time": "2023-08-11T13:28:31.506Z"
      },
      {
        "duration": 16,
        "start_time": "2023-08-11T13:32:55.964Z"
      },
      {
        "duration": 11,
        "start_time": "2023-08-11T13:33:04.653Z"
      },
      {
        "duration": 10,
        "start_time": "2023-08-11T13:34:04.368Z"
      },
      {
        "duration": 24,
        "start_time": "2023-08-11T13:34:08.324Z"
      },
      {
        "duration": 11,
        "start_time": "2023-08-11T13:34:34.723Z"
      },
      {
        "duration": 11,
        "start_time": "2023-08-11T13:34:39.137Z"
      },
      {
        "duration": 1851,
        "start_time": "2023-08-11T13:51:26.620Z"
      },
      {
        "duration": 1893,
        "start_time": "2023-08-11T13:53:06.674Z"
      },
      {
        "duration": 16,
        "start_time": "2023-08-11T13:53:22.897Z"
      },
      {
        "duration": 8,
        "start_time": "2023-08-11T13:53:29.396Z"
      },
      {
        "duration": 12,
        "start_time": "2023-08-11T13:53:47.055Z"
      },
      {
        "duration": 21,
        "start_time": "2023-08-11T13:53:59.352Z"
      },
      {
        "duration": 11,
        "start_time": "2023-08-11T13:54:18.434Z"
      },
      {
        "duration": 164,
        "start_time": "2023-08-11T13:54:49.414Z"
      },
      {
        "duration": 13,
        "start_time": "2023-08-11T13:54:57.472Z"
      },
      {
        "duration": 12,
        "start_time": "2023-08-11T13:57:57.290Z"
      },
      {
        "duration": 3,
        "start_time": "2023-08-11T14:00:14.411Z"
      },
      {
        "duration": 122,
        "start_time": "2023-08-11T14:00:14.416Z"
      },
      {
        "duration": 1776,
        "start_time": "2023-08-11T14:00:14.540Z"
      },
      {
        "duration": 0,
        "start_time": "2023-08-11T14:00:16.318Z"
      },
      {
        "duration": 0,
        "start_time": "2023-08-11T14:00:16.319Z"
      },
      {
        "duration": 0,
        "start_time": "2023-08-11T14:00:16.320Z"
      },
      {
        "duration": 0,
        "start_time": "2023-08-11T14:00:16.321Z"
      },
      {
        "duration": 0,
        "start_time": "2023-08-11T14:00:16.322Z"
      },
      {
        "duration": 0,
        "start_time": "2023-08-11T14:00:16.323Z"
      },
      {
        "duration": 0,
        "start_time": "2023-08-11T14:00:16.324Z"
      },
      {
        "duration": 0,
        "start_time": "2023-08-11T14:00:16.325Z"
      },
      {
        "duration": 0,
        "start_time": "2023-08-11T14:00:16.326Z"
      },
      {
        "duration": 0,
        "start_time": "2023-08-11T14:00:16.327Z"
      },
      {
        "duration": 0,
        "start_time": "2023-08-11T14:00:16.328Z"
      },
      {
        "duration": 0,
        "start_time": "2023-08-11T14:00:16.329Z"
      },
      {
        "duration": 0,
        "start_time": "2023-08-11T14:00:16.330Z"
      },
      {
        "duration": 0,
        "start_time": "2023-08-11T14:00:16.331Z"
      },
      {
        "duration": 0,
        "start_time": "2023-08-11T14:00:16.333Z"
      },
      {
        "duration": 0,
        "start_time": "2023-08-11T14:00:16.334Z"
      },
      {
        "duration": 0,
        "start_time": "2023-08-11T14:00:16.335Z"
      },
      {
        "duration": 0,
        "start_time": "2023-08-11T14:00:16.336Z"
      },
      {
        "duration": 0,
        "start_time": "2023-08-11T14:00:16.337Z"
      },
      {
        "duration": 0,
        "start_time": "2023-08-11T14:00:16.338Z"
      },
      {
        "duration": 0,
        "start_time": "2023-08-11T14:00:16.339Z"
      },
      {
        "duration": 0,
        "start_time": "2023-08-11T14:00:16.340Z"
      },
      {
        "duration": 0,
        "start_time": "2023-08-11T14:00:16.341Z"
      },
      {
        "duration": 13,
        "start_time": "2023-08-11T14:00:45.916Z"
      },
      {
        "duration": 28,
        "start_time": "2023-08-11T14:01:07.739Z"
      },
      {
        "duration": 14,
        "start_time": "2023-08-11T14:01:16.109Z"
      },
      {
        "duration": 14,
        "start_time": "2023-08-11T14:01:20.069Z"
      },
      {
        "duration": 1457,
        "start_time": "2023-08-12T12:36:53.429Z"
      },
      {
        "duration": 136,
        "start_time": "2023-08-12T12:36:54.888Z"
      },
      {
        "duration": 4,
        "start_time": "2023-08-12T12:36:55.026Z"
      },
      {
        "duration": 34,
        "start_time": "2023-08-12T12:36:55.032Z"
      },
      {
        "duration": 212,
        "start_time": "2023-08-12T12:36:55.068Z"
      },
      {
        "duration": 11,
        "start_time": "2023-08-12T12:36:55.282Z"
      },
      {
        "duration": 37,
        "start_time": "2023-08-12T12:36:55.295Z"
      },
      {
        "duration": 41,
        "start_time": "2023-08-12T12:36:55.334Z"
      },
      {
        "duration": 228,
        "start_time": "2023-08-12T12:36:55.377Z"
      },
      {
        "duration": 367,
        "start_time": "2023-08-12T12:36:55.609Z"
      },
      {
        "duration": 1328,
        "start_time": "2023-08-12T12:36:55.978Z"
      },
      {
        "duration": 19,
        "start_time": "2023-08-12T12:36:57.312Z"
      },
      {
        "duration": 37,
        "start_time": "2023-08-12T12:36:57.334Z"
      },
      {
        "duration": 706,
        "start_time": "2023-08-12T12:36:57.373Z"
      },
      {
        "duration": 542,
        "start_time": "2023-08-12T12:36:58.081Z"
      },
      {
        "duration": 319,
        "start_time": "2023-08-12T12:36:58.625Z"
      },
      {
        "duration": 8,
        "start_time": "2023-08-12T12:36:58.946Z"
      },
      {
        "duration": 34,
        "start_time": "2023-08-12T12:36:58.956Z"
      },
      {
        "duration": 4532,
        "start_time": "2023-08-12T12:36:58.992Z"
      },
      {
        "duration": 208,
        "start_time": "2023-08-12T12:37:03.526Z"
      },
      {
        "duration": 446,
        "start_time": "2023-08-12T12:37:03.736Z"
      },
      {
        "duration": 611,
        "start_time": "2023-08-12T12:37:04.192Z"
      },
      {
        "duration": 473,
        "start_time": "2023-08-12T12:37:04.805Z"
      },
      {
        "duration": 14,
        "start_time": "2023-08-12T12:37:05.281Z"
      },
      {
        "duration": 98,
        "start_time": "2023-08-12T12:37:05.310Z"
      },
      {
        "duration": 293,
        "start_time": "2023-08-12T12:52:02.432Z"
      },
      {
        "duration": 430,
        "start_time": "2023-08-12T13:50:02.025Z"
      },
      {
        "duration": 404,
        "start_time": "2023-08-12T13:50:25.396Z"
      },
      {
        "duration": 542,
        "start_time": "2023-08-12T13:50:38.318Z"
      },
      {
        "duration": 596,
        "start_time": "2023-08-12T14:29:13.529Z"
      },
      {
        "duration": 581,
        "start_time": "2023-08-12T14:29:14.127Z"
      },
      {
        "duration": 450,
        "start_time": "2023-08-12T14:29:14.710Z"
      },
      {
        "duration": 14,
        "start_time": "2023-08-12T14:29:15.162Z"
      },
      {
        "duration": 32,
        "start_time": "2023-08-12T14:29:15.178Z"
      },
      {
        "duration": 1628,
        "start_time": "2023-08-12T14:29:25.756Z"
      },
      {
        "duration": 108,
        "start_time": "2023-08-12T14:29:27.387Z"
      },
      {
        "duration": 5,
        "start_time": "2023-08-12T14:29:27.497Z"
      },
      {
        "duration": 153,
        "start_time": "2023-08-12T14:29:27.504Z"
      },
      {
        "duration": 245,
        "start_time": "2023-08-12T14:29:27.661Z"
      },
      {
        "duration": 12,
        "start_time": "2023-08-12T14:29:27.912Z"
      },
      {
        "duration": 20,
        "start_time": "2023-08-12T14:29:27.930Z"
      },
      {
        "duration": 52,
        "start_time": "2023-08-12T14:29:27.952Z"
      },
      {
        "duration": 249,
        "start_time": "2023-08-12T14:29:28.007Z"
      },
      {
        "duration": 315,
        "start_time": "2023-08-12T14:29:28.258Z"
      },
      {
        "duration": 1387,
        "start_time": "2023-08-12T14:29:28.575Z"
      },
      {
        "duration": 10,
        "start_time": "2023-08-12T14:29:29.964Z"
      },
      {
        "duration": 18,
        "start_time": "2023-08-12T14:29:29.976Z"
      },
      {
        "duration": 662,
        "start_time": "2023-08-12T14:29:30.009Z"
      },
      {
        "duration": 552,
        "start_time": "2023-08-12T14:29:30.673Z"
      },
      {
        "duration": 428,
        "start_time": "2023-08-12T14:29:31.228Z"
      },
      {
        "duration": 10,
        "start_time": "2023-08-12T14:29:31.658Z"
      },
      {
        "duration": 72,
        "start_time": "2023-08-12T14:29:31.670Z"
      },
      {
        "duration": 4211,
        "start_time": "2023-08-12T14:29:31.745Z"
      },
      {
        "duration": 232,
        "start_time": "2023-08-12T14:29:35.959Z"
      },
      {
        "duration": 446,
        "start_time": "2023-08-12T14:29:36.194Z"
      },
      {
        "duration": 602,
        "start_time": "2023-08-12T14:29:36.642Z"
      },
      {
        "duration": 463,
        "start_time": "2023-08-12T14:29:37.247Z"
      },
      {
        "duration": 13,
        "start_time": "2023-08-12T14:29:37.713Z"
      },
      {
        "duration": 82,
        "start_time": "2023-08-12T14:29:37.729Z"
      },
      {
        "duration": 1203,
        "start_time": "2023-08-12T14:31:51.575Z"
      },
      {
        "duration": 116,
        "start_time": "2023-08-12T14:31:52.780Z"
      },
      {
        "duration": 3,
        "start_time": "2023-08-12T14:31:52.898Z"
      },
      {
        "duration": 42,
        "start_time": "2023-08-12T14:31:52.903Z"
      },
      {
        "duration": 191,
        "start_time": "2023-08-12T14:31:52.947Z"
      },
      {
        "duration": 6,
        "start_time": "2023-08-12T14:31:53.139Z"
      },
      {
        "duration": 16,
        "start_time": "2023-08-12T14:31:53.146Z"
      },
      {
        "duration": 23,
        "start_time": "2023-08-12T14:31:53.163Z"
      },
      {
        "duration": 153,
        "start_time": "2023-08-12T14:31:53.187Z"
      },
      {
        "duration": 226,
        "start_time": "2023-08-12T14:31:53.343Z"
      },
      {
        "duration": 912,
        "start_time": "2023-08-12T14:31:53.571Z"
      },
      {
        "duration": 14,
        "start_time": "2023-08-12T14:31:54.485Z"
      },
      {
        "duration": 9,
        "start_time": "2023-08-12T14:31:54.500Z"
      },
      {
        "duration": 507,
        "start_time": "2023-08-12T14:31:54.511Z"
      },
      {
        "duration": 376,
        "start_time": "2023-08-12T14:31:55.020Z"
      },
      {
        "duration": 239,
        "start_time": "2023-08-12T14:31:55.399Z"
      },
      {
        "duration": 4,
        "start_time": "2023-08-12T14:31:55.639Z"
      },
      {
        "duration": 4,
        "start_time": "2023-08-12T14:31:55.645Z"
      },
      {
        "duration": 3379,
        "start_time": "2023-08-12T14:31:55.650Z"
      },
      {
        "duration": 142,
        "start_time": "2023-08-12T14:31:59.031Z"
      },
      {
        "duration": 306,
        "start_time": "2023-08-12T14:31:59.175Z"
      },
      {
        "duration": 387,
        "start_time": "2023-08-12T14:31:59.482Z"
      },
      {
        "duration": 322,
        "start_time": "2023-08-12T14:31:59.871Z"
      },
      {
        "duration": 9,
        "start_time": "2023-08-12T14:32:00.199Z"
      },
      {
        "duration": 37,
        "start_time": "2023-08-12T14:32:00.209Z"
      },
      {
        "duration": 1298,
        "start_time": "2023-08-12T20:39:32.687Z"
      },
      {
        "duration": 133,
        "start_time": "2023-08-12T20:39:33.987Z"
      },
      {
        "duration": 3,
        "start_time": "2023-08-12T20:39:34.121Z"
      },
      {
        "duration": 21,
        "start_time": "2023-08-12T20:39:34.125Z"
      },
      {
        "duration": 2,
        "start_time": "2023-08-12T20:39:34.148Z"
      },
      {
        "duration": 177,
        "start_time": "2023-08-12T20:39:34.151Z"
      },
      {
        "duration": 5,
        "start_time": "2023-08-12T20:39:34.330Z"
      },
      {
        "duration": 12,
        "start_time": "2023-08-12T20:39:34.337Z"
      },
      {
        "duration": 26,
        "start_time": "2023-08-12T20:39:34.351Z"
      },
      {
        "duration": 172,
        "start_time": "2023-08-12T20:39:34.379Z"
      },
      {
        "duration": 226,
        "start_time": "2023-08-12T20:39:34.553Z"
      },
      {
        "duration": 966,
        "start_time": "2023-08-12T20:39:34.781Z"
      },
      {
        "duration": 8,
        "start_time": "2023-08-12T20:39:35.748Z"
      },
      {
        "duration": 16,
        "start_time": "2023-08-12T20:39:35.758Z"
      },
      {
        "duration": 530,
        "start_time": "2023-08-12T20:39:35.776Z"
      },
      {
        "duration": 409,
        "start_time": "2023-08-12T20:39:36.327Z"
      },
      {
        "duration": 243,
        "start_time": "2023-08-12T20:39:36.737Z"
      },
      {
        "duration": 6,
        "start_time": "2023-08-12T20:39:36.981Z"
      },
      {
        "duration": 12,
        "start_time": "2023-08-12T20:39:36.988Z"
      },
      {
        "duration": 3433,
        "start_time": "2023-08-12T20:39:37.002Z"
      },
      {
        "duration": 158,
        "start_time": "2023-08-12T20:39:40.437Z"
      },
      {
        "duration": 329,
        "start_time": "2023-08-12T20:39:40.597Z"
      },
      {
        "duration": 411,
        "start_time": "2023-08-12T20:39:40.928Z"
      },
      {
        "duration": 344,
        "start_time": "2023-08-12T20:39:41.341Z"
      },
      {
        "duration": 18,
        "start_time": "2023-08-12T20:39:41.686Z"
      },
      {
        "duration": 15,
        "start_time": "2023-08-12T20:39:41.705Z"
      },
      {
        "duration": 9,
        "start_time": "2023-08-12T20:41:54.514Z"
      },
      {
        "duration": 1352,
        "start_time": "2023-08-12T20:46:33.430Z"
      },
      {
        "duration": 10,
        "start_time": "2023-08-12T20:47:07.444Z"
      },
      {
        "duration": 10,
        "start_time": "2023-08-12T20:47:12.464Z"
      },
      {
        "duration": 10,
        "start_time": "2023-08-12T20:49:17.122Z"
      },
      {
        "duration": 1424,
        "start_time": "2023-08-12T20:49:33.818Z"
      },
      {
        "duration": 11,
        "start_time": "2023-08-12T20:51:07.882Z"
      },
      {
        "duration": 9,
        "start_time": "2023-08-12T20:51:28.593Z"
      },
      {
        "duration": 8,
        "start_time": "2023-08-12T20:51:35.856Z"
      },
      {
        "duration": 13,
        "start_time": "2023-08-12T20:52:17.057Z"
      },
      {
        "duration": 5,
        "start_time": "2023-08-12T20:52:29.348Z"
      },
      {
        "duration": 8,
        "start_time": "2023-08-12T20:52:34.592Z"
      },
      {
        "duration": 3,
        "start_time": "2023-08-12T20:52:38.174Z"
      },
      {
        "duration": 80,
        "start_time": "2023-08-12T20:52:38.179Z"
      },
      {
        "duration": 3,
        "start_time": "2023-08-12T20:52:38.261Z"
      },
      {
        "duration": 16,
        "start_time": "2023-08-12T20:52:38.266Z"
      },
      {
        "duration": 16,
        "start_time": "2023-08-12T20:52:38.284Z"
      },
      {
        "duration": 12,
        "start_time": "2023-08-12T20:52:38.302Z"
      },
      {
        "duration": 16,
        "start_time": "2023-08-12T20:52:38.316Z"
      },
      {
        "duration": 18,
        "start_time": "2023-08-12T20:52:38.334Z"
      },
      {
        "duration": 217,
        "start_time": "2023-08-12T20:52:38.354Z"
      },
      {
        "duration": 7,
        "start_time": "2023-08-12T20:52:38.572Z"
      },
      {
        "duration": 16,
        "start_time": "2023-08-12T20:52:38.583Z"
      },
      {
        "duration": 46,
        "start_time": "2023-08-12T20:52:38.601Z"
      },
      {
        "duration": 162,
        "start_time": "2023-08-12T20:52:38.649Z"
      },
      {
        "duration": 245,
        "start_time": "2023-08-12T20:52:38.813Z"
      },
      {
        "duration": 1066,
        "start_time": "2023-08-12T20:52:39.059Z"
      },
      {
        "duration": 8,
        "start_time": "2023-08-12T20:52:40.126Z"
      },
      {
        "duration": 15,
        "start_time": "2023-08-12T20:52:40.135Z"
      },
      {
        "duration": 381,
        "start_time": "2023-08-12T20:52:40.151Z"
      },
      {
        "duration": 406,
        "start_time": "2023-08-12T20:52:40.534Z"
      },
      {
        "duration": 243,
        "start_time": "2023-08-12T20:52:40.942Z"
      },
      {
        "duration": 15,
        "start_time": "2023-08-12T20:52:41.186Z"
      },
      {
        "duration": 3,
        "start_time": "2023-08-12T20:52:41.202Z"
      },
      {
        "duration": 3322,
        "start_time": "2023-08-12T20:52:41.207Z"
      },
      {
        "duration": 148,
        "start_time": "2023-08-12T20:52:44.530Z"
      },
      {
        "duration": 319,
        "start_time": "2023-08-12T20:52:44.680Z"
      },
      {
        "duration": 435,
        "start_time": "2023-08-12T20:52:45.000Z"
      },
      {
        "duration": 341,
        "start_time": "2023-08-12T20:52:45.436Z"
      },
      {
        "duration": 9,
        "start_time": "2023-08-12T20:52:45.779Z"
      },
      {
        "duration": 9,
        "start_time": "2023-08-12T20:52:45.801Z"
      },
      {
        "duration": 5,
        "start_time": "2023-08-12T20:56:58.855Z"
      },
      {
        "duration": 153,
        "start_time": "2023-08-12T20:56:59.874Z"
      },
      {
        "duration": 4,
        "start_time": "2023-08-12T20:57:00.763Z"
      },
      {
        "duration": 4,
        "start_time": "2023-08-12T20:57:26.814Z"
      },
      {
        "duration": 4,
        "start_time": "2023-08-12T20:57:34.971Z"
      },
      {
        "duration": 5,
        "start_time": "2023-08-12T20:58:24.257Z"
      },
      {
        "duration": 5,
        "start_time": "2023-08-12T20:58:24.951Z"
      },
      {
        "duration": 3,
        "start_time": "2023-08-12T20:58:52.732Z"
      },
      {
        "duration": 107,
        "start_time": "2023-08-12T20:58:52.738Z"
      },
      {
        "duration": 3,
        "start_time": "2023-08-12T20:58:52.846Z"
      },
      {
        "duration": 22,
        "start_time": "2023-08-12T20:58:52.850Z"
      },
      {
        "duration": 26,
        "start_time": "2023-08-12T20:58:52.874Z"
      },
      {
        "duration": 110,
        "start_time": "2023-08-12T20:58:52.902Z"
      },
      {
        "duration": 10,
        "start_time": "2023-08-12T20:58:53.014Z"
      },
      {
        "duration": 10,
        "start_time": "2023-08-12T20:58:53.025Z"
      },
      {
        "duration": 4,
        "start_time": "2023-08-12T20:58:53.036Z"
      },
      {
        "duration": 176,
        "start_time": "2023-08-12T20:58:53.041Z"
      },
      {
        "duration": 4,
        "start_time": "2023-08-12T20:58:53.219Z"
      },
      {
        "duration": 9,
        "start_time": "2023-08-12T20:58:53.224Z"
      },
      {
        "duration": 12,
        "start_time": "2023-08-12T20:58:53.234Z"
      },
      {
        "duration": 6,
        "start_time": "2023-08-12T20:58:53.249Z"
      },
      {
        "duration": 8,
        "start_time": "2023-08-12T20:58:53.256Z"
      },
      {
        "duration": 42,
        "start_time": "2023-08-12T20:58:53.265Z"
      },
      {
        "duration": 151,
        "start_time": "2023-08-12T20:58:53.309Z"
      },
      {
        "duration": 240,
        "start_time": "2023-08-12T20:58:53.462Z"
      },
      {
        "duration": 1039,
        "start_time": "2023-08-12T20:58:53.704Z"
      },
      {
        "duration": 7,
        "start_time": "2023-08-12T20:58:54.745Z"
      },
      {
        "duration": 15,
        "start_time": "2023-08-12T20:58:54.753Z"
      },
      {
        "duration": 399,
        "start_time": "2023-08-12T20:58:54.770Z"
      },
      {
        "duration": 407,
        "start_time": "2023-08-12T20:58:55.170Z"
      },
      {
        "duration": 238,
        "start_time": "2023-08-12T20:58:55.579Z"
      },
      {
        "duration": 4,
        "start_time": "2023-08-12T20:58:55.819Z"
      },
      {
        "duration": 6,
        "start_time": "2023-08-12T20:58:55.825Z"
      },
      {
        "duration": 5,
        "start_time": "2023-08-12T20:58:55.832Z"
      },
      {
        "duration": 3421,
        "start_time": "2023-08-12T20:58:55.838Z"
      },
      {
        "duration": 147,
        "start_time": "2023-08-12T20:58:59.260Z"
      },
      {
        "duration": 326,
        "start_time": "2023-08-12T20:58:59.408Z"
      },
      {
        "duration": 314,
        "start_time": "2023-08-12T20:58:59.736Z"
      },
      {
        "duration": 340,
        "start_time": "2023-08-12T20:59:00.051Z"
      },
      {
        "duration": 9,
        "start_time": "2023-08-12T20:59:00.399Z"
      },
      {
        "duration": 35,
        "start_time": "2023-08-12T20:59:00.409Z"
      },
      {
        "duration": 11,
        "start_time": "2023-08-12T21:03:12.636Z"
      },
      {
        "duration": 9,
        "start_time": "2023-08-12T21:03:16.850Z"
      },
      {
        "duration": 1043,
        "start_time": "2023-08-12T21:03:27.254Z"
      },
      {
        "duration": 74,
        "start_time": "2023-08-12T21:03:28.299Z"
      },
      {
        "duration": 3,
        "start_time": "2023-08-12T21:03:28.374Z"
      },
      {
        "duration": 37,
        "start_time": "2023-08-12T21:03:28.378Z"
      },
      {
        "duration": 4,
        "start_time": "2023-08-12T21:03:28.416Z"
      },
      {
        "duration": 10,
        "start_time": "2023-08-12T21:03:28.421Z"
      },
      {
        "duration": 8,
        "start_time": "2023-08-12T21:03:28.432Z"
      },
      {
        "duration": 8,
        "start_time": "2023-08-12T21:03:28.441Z"
      },
      {
        "duration": 3,
        "start_time": "2023-08-12T21:03:28.450Z"
      },
      {
        "duration": 174,
        "start_time": "2023-08-12T21:03:28.456Z"
      },
      {
        "duration": 4,
        "start_time": "2023-08-12T21:03:28.632Z"
      },
      {
        "duration": 9,
        "start_time": "2023-08-12T21:03:28.637Z"
      },
      {
        "duration": 15,
        "start_time": "2023-08-12T21:03:28.647Z"
      },
      {
        "duration": 6,
        "start_time": "2023-08-12T21:03:28.663Z"
      },
      {
        "duration": 9,
        "start_time": "2023-08-12T21:03:28.671Z"
      },
      {
        "duration": 35,
        "start_time": "2023-08-12T21:03:28.682Z"
      },
      {
        "duration": 162,
        "start_time": "2023-08-12T21:03:28.719Z"
      },
      {
        "duration": 225,
        "start_time": "2023-08-12T21:03:28.882Z"
      },
      {
        "duration": 974,
        "start_time": "2023-08-12T21:03:29.108Z"
      },
      {
        "duration": 19,
        "start_time": "2023-08-12T21:03:30.083Z"
      },
      {
        "duration": 44,
        "start_time": "2023-08-12T21:03:30.103Z"
      },
      {
        "duration": 518,
        "start_time": "2023-08-12T21:03:30.149Z"
      },
      {
        "duration": 398,
        "start_time": "2023-08-12T21:03:30.668Z"
      },
      {
        "duration": 245,
        "start_time": "2023-08-12T21:03:31.067Z"
      },
      {
        "duration": 5,
        "start_time": "2023-08-12T21:03:31.314Z"
      },
      {
        "duration": 39,
        "start_time": "2023-08-12T21:03:31.320Z"
      },
      {
        "duration": 28,
        "start_time": "2023-08-12T21:03:31.361Z"
      },
      {
        "duration": 3360,
        "start_time": "2023-08-12T21:03:31.392Z"
      },
      {
        "duration": 166,
        "start_time": "2023-08-12T21:03:34.754Z"
      },
      {
        "duration": 361,
        "start_time": "2023-08-12T21:03:34.921Z"
      },
      {
        "duration": 450,
        "start_time": "2023-08-12T21:03:35.284Z"
      },
      {
        "duration": 444,
        "start_time": "2023-08-12T21:03:35.735Z"
      },
      {
        "duration": 10,
        "start_time": "2023-08-12T21:03:36.180Z"
      },
      {
        "duration": 10,
        "start_time": "2023-08-12T21:03:36.199Z"
      },
      {
        "duration": 1443,
        "start_time": "2023-08-13T11:50:15.169Z"
      },
      {
        "duration": 224,
        "start_time": "2023-08-13T11:50:16.615Z"
      },
      {
        "duration": 3,
        "start_time": "2023-08-13T11:50:16.841Z"
      },
      {
        "duration": 25,
        "start_time": "2023-08-13T11:50:16.846Z"
      },
      {
        "duration": 6,
        "start_time": "2023-08-13T11:50:16.874Z"
      },
      {
        "duration": 10,
        "start_time": "2023-08-13T11:50:16.881Z"
      },
      {
        "duration": 11,
        "start_time": "2023-08-13T11:50:16.893Z"
      },
      {
        "duration": 12,
        "start_time": "2023-08-13T11:50:16.906Z"
      },
      {
        "duration": 40,
        "start_time": "2023-08-13T11:50:16.919Z"
      },
      {
        "duration": 183,
        "start_time": "2023-08-13T11:50:16.966Z"
      },
      {
        "duration": 10,
        "start_time": "2023-08-13T11:50:17.152Z"
      },
      {
        "duration": 10,
        "start_time": "2023-08-13T11:50:17.166Z"
      },
      {
        "duration": 6,
        "start_time": "2023-08-13T11:50:17.178Z"
      },
      {
        "duration": 5,
        "start_time": "2023-08-13T11:50:17.187Z"
      },
      {
        "duration": 11,
        "start_time": "2023-08-13T11:50:17.194Z"
      },
      {
        "duration": 52,
        "start_time": "2023-08-13T11:50:17.207Z"
      },
      {
        "duration": 228,
        "start_time": "2023-08-13T11:50:17.262Z"
      },
      {
        "duration": 307,
        "start_time": "2023-08-13T11:50:17.492Z"
      },
      {
        "duration": 1259,
        "start_time": "2023-08-13T11:50:17.801Z"
      },
      {
        "duration": 17,
        "start_time": "2023-08-13T11:50:19.064Z"
      },
      {
        "duration": 10,
        "start_time": "2023-08-13T11:50:19.083Z"
      },
      {
        "duration": 642,
        "start_time": "2023-08-13T11:50:19.095Z"
      },
      {
        "duration": 503,
        "start_time": "2023-08-13T11:50:19.739Z"
      },
      {
        "duration": 305,
        "start_time": "2023-08-13T11:50:20.244Z"
      },
      {
        "duration": 23,
        "start_time": "2023-08-13T11:50:20.551Z"
      },
      {
        "duration": 7,
        "start_time": "2023-08-13T11:50:20.576Z"
      },
      {
        "duration": 16,
        "start_time": "2023-08-13T11:50:20.585Z"
      },
      {
        "duration": 4222,
        "start_time": "2023-08-13T11:50:20.603Z"
      },
      {
        "duration": 193,
        "start_time": "2023-08-13T11:50:24.827Z"
      },
      {
        "duration": 405,
        "start_time": "2023-08-13T11:50:25.022Z"
      },
      {
        "duration": 531,
        "start_time": "2023-08-13T11:50:25.429Z"
      },
      {
        "duration": 432,
        "start_time": "2023-08-13T11:50:25.963Z"
      },
      {
        "duration": 11,
        "start_time": "2023-08-13T11:50:26.396Z"
      },
      {
        "duration": 21,
        "start_time": "2023-08-13T11:50:26.408Z"
      },
      {
        "duration": 15,
        "start_time": "2023-08-13T11:58:01.600Z"
      },
      {
        "duration": 25,
        "start_time": "2023-08-13T12:00:24.312Z"
      },
      {
        "duration": 1251,
        "start_time": "2023-08-13T12:00:43.972Z"
      },
      {
        "duration": 85,
        "start_time": "2023-08-13T12:00:45.226Z"
      },
      {
        "duration": 3,
        "start_time": "2023-08-13T12:00:45.313Z"
      },
      {
        "duration": 24,
        "start_time": "2023-08-13T12:00:45.317Z"
      },
      {
        "duration": 7,
        "start_time": "2023-08-13T12:00:45.344Z"
      },
      {
        "duration": 14,
        "start_time": "2023-08-13T12:00:45.361Z"
      },
      {
        "duration": 13,
        "start_time": "2023-08-13T12:00:45.377Z"
      },
      {
        "duration": 10,
        "start_time": "2023-08-13T12:00:45.392Z"
      },
      {
        "duration": 5,
        "start_time": "2023-08-13T12:00:45.404Z"
      },
      {
        "duration": 213,
        "start_time": "2023-08-13T12:00:45.410Z"
      },
      {
        "duration": 5,
        "start_time": "2023-08-13T12:00:45.625Z"
      },
      {
        "duration": 12,
        "start_time": "2023-08-13T12:00:45.631Z"
      },
      {
        "duration": 25,
        "start_time": "2023-08-13T12:00:45.644Z"
      },
      {
        "duration": 6,
        "start_time": "2023-08-13T12:00:45.673Z"
      },
      {
        "duration": 14,
        "start_time": "2023-08-13T12:00:45.681Z"
      },
      {
        "duration": 30,
        "start_time": "2023-08-13T12:00:45.697Z"
      },
      {
        "duration": 7,
        "start_time": "2023-08-13T12:00:45.729Z"
      },
      {
        "duration": 41,
        "start_time": "2023-08-13T12:00:45.738Z"
      },
      {
        "duration": 222,
        "start_time": "2023-08-13T12:00:45.780Z"
      },
      {
        "duration": 289,
        "start_time": "2023-08-13T12:00:46.004Z"
      },
      {
        "duration": 1364,
        "start_time": "2023-08-13T12:00:46.295Z"
      },
      {
        "duration": 13,
        "start_time": "2023-08-13T12:00:47.664Z"
      },
      {
        "duration": 15,
        "start_time": "2023-08-13T12:00:47.679Z"
      },
      {
        "duration": 1499,
        "start_time": "2023-08-13T12:00:47.695Z"
      },
      {
        "duration": 770,
        "start_time": "2023-08-13T12:00:49.196Z"
      },
      {
        "duration": 321,
        "start_time": "2023-08-13T12:00:49.972Z"
      },
      {
        "duration": 6,
        "start_time": "2023-08-13T12:00:50.294Z"
      },
      {
        "duration": 27,
        "start_time": "2023-08-13T12:00:50.302Z"
      },
      {
        "duration": 31,
        "start_time": "2023-08-13T12:00:50.331Z"
      },
      {
        "duration": 5374,
        "start_time": "2023-08-13T12:00:50.366Z"
      },
      {
        "duration": 189,
        "start_time": "2023-08-13T12:00:55.741Z"
      },
      {
        "duration": 400,
        "start_time": "2023-08-13T12:00:55.932Z"
      },
      {
        "duration": 549,
        "start_time": "2023-08-13T12:00:56.333Z"
      },
      {
        "duration": 431,
        "start_time": "2023-08-13T12:00:56.883Z"
      },
      {
        "duration": 11,
        "start_time": "2023-08-13T12:00:57.316Z"
      },
      {
        "duration": 109,
        "start_time": "2023-08-13T12:00:57.328Z"
      },
      {
        "duration": 78,
        "start_time": "2023-08-13T12:11:54.974Z"
      },
      {
        "duration": 28,
        "start_time": "2023-08-13T12:18:56.603Z"
      },
      {
        "duration": 9,
        "start_time": "2023-08-13T12:38:25.416Z"
      },
      {
        "duration": 4,
        "start_time": "2023-08-14T08:58:41.838Z"
      },
      {
        "duration": 1265,
        "start_time": "2023-08-14T08:58:46.486Z"
      },
      {
        "duration": 114,
        "start_time": "2023-08-14T08:58:47.752Z"
      },
      {
        "duration": 3,
        "start_time": "2023-08-14T08:58:47.867Z"
      },
      {
        "duration": 23,
        "start_time": "2023-08-14T08:58:47.872Z"
      },
      {
        "duration": 4,
        "start_time": "2023-08-14T08:58:47.896Z"
      },
      {
        "duration": 18,
        "start_time": "2023-08-14T08:58:47.901Z"
      },
      {
        "duration": 9,
        "start_time": "2023-08-14T08:58:47.921Z"
      },
      {
        "duration": 9,
        "start_time": "2023-08-14T08:58:47.932Z"
      },
      {
        "duration": 4,
        "start_time": "2023-08-14T08:58:47.942Z"
      },
      {
        "duration": 174,
        "start_time": "2023-08-14T08:58:47.949Z"
      },
      {
        "duration": 6,
        "start_time": "2023-08-14T08:58:48.124Z"
      },
      {
        "duration": 16,
        "start_time": "2023-08-14T08:58:48.131Z"
      },
      {
        "duration": 7,
        "start_time": "2023-08-14T08:58:48.148Z"
      },
      {
        "duration": 7,
        "start_time": "2023-08-14T08:58:48.156Z"
      },
      {
        "duration": 13,
        "start_time": "2023-08-14T08:58:48.164Z"
      },
      {
        "duration": 111,
        "start_time": "2023-08-14T08:58:48.178Z"
      },
      {
        "duration": 0,
        "start_time": "2023-08-14T08:58:48.291Z"
      },
      {
        "duration": 0,
        "start_time": "2023-08-14T08:58:48.292Z"
      },
      {
        "duration": 0,
        "start_time": "2023-08-14T08:58:48.293Z"
      },
      {
        "duration": 0,
        "start_time": "2023-08-14T08:58:48.299Z"
      },
      {
        "duration": 0,
        "start_time": "2023-08-14T08:58:48.300Z"
      },
      {
        "duration": 0,
        "start_time": "2023-08-14T08:58:48.300Z"
      },
      {
        "duration": 0,
        "start_time": "2023-08-14T08:58:48.301Z"
      },
      {
        "duration": 0,
        "start_time": "2023-08-14T08:58:48.302Z"
      },
      {
        "duration": 0,
        "start_time": "2023-08-14T08:58:48.303Z"
      },
      {
        "duration": 0,
        "start_time": "2023-08-14T08:58:48.304Z"
      },
      {
        "duration": 0,
        "start_time": "2023-08-14T08:58:48.305Z"
      },
      {
        "duration": 0,
        "start_time": "2023-08-14T08:58:48.305Z"
      },
      {
        "duration": 0,
        "start_time": "2023-08-14T08:58:48.306Z"
      },
      {
        "duration": 0,
        "start_time": "2023-08-14T08:58:48.307Z"
      },
      {
        "duration": 0,
        "start_time": "2023-08-14T08:58:48.308Z"
      },
      {
        "duration": 0,
        "start_time": "2023-08-14T08:58:48.309Z"
      },
      {
        "duration": 0,
        "start_time": "2023-08-14T08:58:48.310Z"
      },
      {
        "duration": 0,
        "start_time": "2023-08-14T08:58:48.310Z"
      },
      {
        "duration": 0,
        "start_time": "2023-08-14T08:58:48.311Z"
      },
      {
        "duration": 0,
        "start_time": "2023-08-14T08:58:48.312Z"
      },
      {
        "duration": 0,
        "start_time": "2023-08-14T08:58:48.312Z"
      },
      {
        "duration": 0,
        "start_time": "2023-08-14T08:58:48.313Z"
      },
      {
        "duration": 0,
        "start_time": "2023-08-14T08:58:48.314Z"
      },
      {
        "duration": 0,
        "start_time": "2023-08-14T08:58:48.315Z"
      },
      {
        "duration": 2,
        "start_time": "2023-08-14T09:00:13.977Z"
      },
      {
        "duration": 73,
        "start_time": "2023-08-14T09:00:13.983Z"
      },
      {
        "duration": 3,
        "start_time": "2023-08-14T09:00:14.058Z"
      },
      {
        "duration": 24,
        "start_time": "2023-08-14T09:00:14.063Z"
      },
      {
        "duration": 5,
        "start_time": "2023-08-14T09:00:14.089Z"
      },
      {
        "duration": 10,
        "start_time": "2023-08-14T09:00:14.096Z"
      },
      {
        "duration": 11,
        "start_time": "2023-08-14T09:00:14.108Z"
      },
      {
        "duration": 14,
        "start_time": "2023-08-14T09:00:14.121Z"
      },
      {
        "duration": 9,
        "start_time": "2023-08-14T09:00:14.137Z"
      },
      {
        "duration": 171,
        "start_time": "2023-08-14T09:00:14.148Z"
      },
      {
        "duration": 4,
        "start_time": "2023-08-14T09:00:14.321Z"
      },
      {
        "duration": 10,
        "start_time": "2023-08-14T09:00:14.326Z"
      },
      {
        "duration": 6,
        "start_time": "2023-08-14T09:00:14.337Z"
      },
      {
        "duration": 13,
        "start_time": "2023-08-14T09:00:14.344Z"
      },
      {
        "duration": 21,
        "start_time": "2023-08-14T09:00:14.358Z"
      },
      {
        "duration": 46,
        "start_time": "2023-08-14T09:00:14.380Z"
      },
      {
        "duration": 147,
        "start_time": "2023-08-14T09:00:14.428Z"
      },
      {
        "duration": 61,
        "start_time": "2023-08-14T09:00:14.577Z"
      },
      {
        "duration": 34,
        "start_time": "2023-08-14T09:00:14.639Z"
      },
      {
        "duration": 72,
        "start_time": "2023-08-14T09:00:14.674Z"
      },
      {
        "duration": 171,
        "start_time": "2023-08-14T09:00:14.747Z"
      },
      {
        "duration": 222,
        "start_time": "2023-08-14T09:00:14.920Z"
      },
      {
        "duration": 941,
        "start_time": "2023-08-14T09:00:15.144Z"
      },
      {
        "duration": 30,
        "start_time": "2023-08-14T09:00:16.087Z"
      },
      {
        "duration": 89,
        "start_time": "2023-08-14T09:00:16.119Z"
      },
      {
        "duration": 30,
        "start_time": "2023-08-14T09:00:16.210Z"
      },
      {
        "duration": 504,
        "start_time": "2023-08-14T09:00:16.242Z"
      },
      {
        "duration": 765,
        "start_time": "2023-08-14T09:00:16.748Z"
      },
      {
        "duration": 485,
        "start_time": "2023-08-14T09:00:17.516Z"
      },
      {
        "duration": 4,
        "start_time": "2023-08-14T09:00:18.003Z"
      },
      {
        "duration": 45,
        "start_time": "2023-08-14T09:00:18.008Z"
      },
      {
        "duration": 24,
        "start_time": "2023-08-14T09:00:18.054Z"
      },
      {
        "duration": 3363,
        "start_time": "2023-08-14T09:00:18.080Z"
      },
      {
        "duration": 159,
        "start_time": "2023-08-14T09:00:21.444Z"
      },
      {
        "duration": 309,
        "start_time": "2023-08-14T09:00:21.605Z"
      },
      {
        "duration": 398,
        "start_time": "2023-08-14T09:00:21.916Z"
      },
      {
        "duration": 336,
        "start_time": "2023-08-14T09:00:22.315Z"
      },
      {
        "duration": 8,
        "start_time": "2023-08-14T09:00:22.653Z"
      },
      {
        "duration": 15,
        "start_time": "2023-08-14T09:00:22.662Z"
      },
      {
        "duration": 22,
        "start_time": "2023-08-14T09:00:22.678Z"
      },
      {
        "duration": 19,
        "start_time": "2023-08-14T09:00:55.784Z"
      },
      {
        "duration": 19,
        "start_time": "2023-08-14T09:01:14.644Z"
      },
      {
        "duration": 168394,
        "start_time": "2023-08-14T09:13:55.339Z"
      },
      {
        "duration": 168963,
        "start_time": "2023-08-14T09:27:24.700Z"
      },
      {
        "duration": 926,
        "start_time": "2023-08-14T09:39:26.355Z"
      },
      {
        "duration": 18248,
        "start_time": "2023-08-14T09:40:52.185Z"
      },
      {
        "duration": 2234,
        "start_time": "2023-08-14T09:41:45.600Z"
      },
      {
        "duration": 177,
        "start_time": "2023-08-14T09:42:16.391Z"
      },
      {
        "duration": 1,
        "start_time": "2023-08-14T09:42:20.327Z"
      },
      {
        "duration": 220,
        "start_time": "2023-08-14T09:42:44.411Z"
      },
      {
        "duration": 278,
        "start_time": "2023-08-14T09:43:31.639Z"
      },
      {
        "duration": 259,
        "start_time": "2023-08-14T09:44:48.375Z"
      },
      {
        "duration": 322,
        "start_time": "2023-08-14T09:44:55.873Z"
      },
      {
        "duration": 271,
        "start_time": "2023-08-14T09:45:01.846Z"
      },
      {
        "duration": 284,
        "start_time": "2023-08-14T09:45:11.347Z"
      },
      {
        "duration": 326,
        "start_time": "2023-08-14T09:45:59.647Z"
      },
      {
        "duration": 368,
        "start_time": "2023-08-14T09:46:08.911Z"
      },
      {
        "duration": 296,
        "start_time": "2023-08-14T09:46:18.125Z"
      },
      {
        "duration": 298,
        "start_time": "2023-08-14T09:46:28.841Z"
      },
      {
        "duration": 294,
        "start_time": "2023-08-14T09:46:34.824Z"
      },
      {
        "duration": 144,
        "start_time": "2023-08-14T09:57:24.911Z"
      },
      {
        "duration": 2,
        "start_time": "2023-08-14T09:58:30.672Z"
      },
      {
        "duration": 245,
        "start_time": "2023-08-14T11:17:47.563Z"
      },
      {
        "duration": 5,
        "start_time": "2023-08-14T11:24:48.254Z"
      },
      {
        "duration": 51,
        "start_time": "2023-08-15T10:07:45.114Z"
      },
      {
        "duration": 1390,
        "start_time": "2023-08-15T10:07:55.494Z"
      },
      {
        "duration": 128,
        "start_time": "2023-08-15T10:07:56.886Z"
      },
      {
        "duration": 3,
        "start_time": "2023-08-15T10:07:57.016Z"
      },
      {
        "duration": 30,
        "start_time": "2023-08-15T10:07:57.021Z"
      },
      {
        "duration": 21,
        "start_time": "2023-08-15T10:07:57.053Z"
      },
      {
        "duration": 16,
        "start_time": "2023-08-15T10:07:57.075Z"
      },
      {
        "duration": 34,
        "start_time": "2023-08-15T10:07:57.092Z"
      },
      {
        "duration": 25,
        "start_time": "2023-08-15T10:07:57.127Z"
      },
      {
        "duration": 42,
        "start_time": "2023-08-15T10:07:57.153Z"
      },
      {
        "duration": 180,
        "start_time": "2023-08-15T10:07:57.198Z"
      },
      {
        "duration": 5,
        "start_time": "2023-08-15T10:07:57.379Z"
      },
      {
        "duration": 195,
        "start_time": "2023-08-15T10:07:57.387Z"
      },
      {
        "duration": 63,
        "start_time": "2023-08-15T10:07:57.584Z"
      },
      {
        "duration": 27,
        "start_time": "2023-08-15T10:07:57.649Z"
      },
      {
        "duration": 16,
        "start_time": "2023-08-15T10:07:57.678Z"
      },
      {
        "duration": 24,
        "start_time": "2023-08-15T10:07:57.696Z"
      },
      {
        "duration": 50,
        "start_time": "2023-08-15T10:07:57.722Z"
      },
      {
        "duration": 24,
        "start_time": "2023-08-15T10:07:57.774Z"
      },
      {
        "duration": 44,
        "start_time": "2023-08-15T10:07:57.800Z"
      },
      {
        "duration": 77,
        "start_time": "2023-08-15T10:07:57.845Z"
      },
      {
        "duration": 3,
        "start_time": "2023-08-15T10:07:57.923Z"
      },
      {
        "duration": 361,
        "start_time": "2023-08-15T10:07:57.927Z"
      },
      {
        "duration": 286,
        "start_time": "2023-08-15T10:07:58.289Z"
      },
      {
        "duration": 1105,
        "start_time": "2023-08-15T10:07:58.577Z"
      },
      {
        "duration": 27,
        "start_time": "2023-08-15T10:07:59.683Z"
      },
      {
        "duration": 2,
        "start_time": "2023-08-15T10:07:59.711Z"
      },
      {
        "duration": 109,
        "start_time": "2023-08-15T10:07:59.715Z"
      },
      {
        "duration": 7,
        "start_time": "2023-08-15T10:07:59.828Z"
      },
      {
        "duration": 517,
        "start_time": "2023-08-15T10:07:59.837Z"
      },
      {
        "duration": 478,
        "start_time": "2023-08-15T10:08:00.356Z"
      },
      {
        "duration": 278,
        "start_time": "2023-08-15T10:08:00.836Z"
      },
      {
        "duration": 5,
        "start_time": "2023-08-15T10:08:01.116Z"
      },
      {
        "duration": 23,
        "start_time": "2023-08-15T10:08:01.122Z"
      },
      {
        "duration": 26,
        "start_time": "2023-08-15T10:08:01.146Z"
      },
      {
        "duration": 4668,
        "start_time": "2023-08-15T10:08:01.174Z"
      },
      {
        "duration": 172,
        "start_time": "2023-08-15T10:08:05.843Z"
      },
      {
        "duration": 465,
        "start_time": "2023-08-15T10:08:06.016Z"
      },
      {
        "duration": 371,
        "start_time": "2023-08-15T10:08:06.486Z"
      },
      {
        "duration": 387,
        "start_time": "2023-08-15T10:08:06.859Z"
      },
      {
        "duration": 8,
        "start_time": "2023-08-15T10:08:07.248Z"
      },
      {
        "duration": 12,
        "start_time": "2023-08-15T10:08:07.257Z"
      },
      {
        "duration": 10,
        "start_time": "2023-08-15T10:08:07.288Z"
      },
      {
        "duration": 31,
        "start_time": "2023-08-15T10:10:07.279Z"
      },
      {
        "duration": 22,
        "start_time": "2023-08-15T10:10:35.559Z"
      },
      {
        "duration": 158,
        "start_time": "2023-08-15T10:13:40.941Z"
      },
      {
        "duration": 159,
        "start_time": "2023-08-15T10:15:27.336Z"
      },
      {
        "duration": 194,
        "start_time": "2023-08-15T10:17:04.965Z"
      },
      {
        "duration": 335,
        "start_time": "2023-08-15T10:18:01.920Z"
      },
      {
        "duration": 254,
        "start_time": "2023-08-15T10:18:38.295Z"
      },
      {
        "duration": 3,
        "start_time": "2023-08-15T10:18:54.831Z"
      },
      {
        "duration": 172,
        "start_time": "2023-08-15T10:19:58.503Z"
      },
      {
        "duration": 486,
        "start_time": "2023-08-15T10:31:41.407Z"
      },
      {
        "duration": 592,
        "start_time": "2023-08-15T11:06:24.742Z"
      },
      {
        "duration": 667,
        "start_time": "2023-08-15T11:06:55.069Z"
      },
      {
        "duration": 638,
        "start_time": "2023-08-15T11:07:02.431Z"
      },
      {
        "duration": 3,
        "start_time": "2023-08-15T11:08:24.463Z"
      },
      {
        "duration": 21,
        "start_time": "2023-08-15T11:28:55.798Z"
      },
      {
        "duration": 20,
        "start_time": "2023-08-15T11:28:58.779Z"
      },
      {
        "duration": 15,
        "start_time": "2023-08-15T11:29:09.952Z"
      },
      {
        "duration": 20,
        "start_time": "2023-08-15T11:29:13.052Z"
      },
      {
        "duration": 7,
        "start_time": "2023-08-15T11:35:53.371Z"
      },
      {
        "duration": 3,
        "start_time": "2023-08-15T11:37:21.267Z"
      },
      {
        "duration": 117,
        "start_time": "2023-08-15T11:37:21.273Z"
      },
      {
        "duration": 4,
        "start_time": "2023-08-15T11:37:21.393Z"
      },
      {
        "duration": 55,
        "start_time": "2023-08-15T11:37:21.399Z"
      },
      {
        "duration": 24,
        "start_time": "2023-08-15T11:37:21.458Z"
      },
      {
        "duration": 16,
        "start_time": "2023-08-15T11:37:21.484Z"
      },
      {
        "duration": 30,
        "start_time": "2023-08-15T11:37:21.502Z"
      },
      {
        "duration": 18,
        "start_time": "2023-08-15T11:37:21.536Z"
      },
      {
        "duration": 7,
        "start_time": "2023-08-15T11:37:21.557Z"
      },
      {
        "duration": 290,
        "start_time": "2023-08-15T11:37:21.567Z"
      },
      {
        "duration": 7,
        "start_time": "2023-08-15T11:37:21.861Z"
      },
      {
        "duration": 21,
        "start_time": "2023-08-15T11:37:21.870Z"
      },
      {
        "duration": 10,
        "start_time": "2023-08-15T11:37:21.893Z"
      },
      {
        "duration": 10,
        "start_time": "2023-08-15T11:37:21.905Z"
      },
      {
        "duration": 10,
        "start_time": "2023-08-15T11:37:21.919Z"
      },
      {
        "duration": 10,
        "start_time": "2023-08-15T11:37:21.932Z"
      },
      {
        "duration": 63,
        "start_time": "2023-08-15T11:37:21.945Z"
      },
      {
        "duration": 42,
        "start_time": "2023-08-15T11:37:22.011Z"
      },
      {
        "duration": 71,
        "start_time": "2023-08-15T11:37:22.056Z"
      },
      {
        "duration": 6,
        "start_time": "2023-08-15T11:37:22.129Z"
      },
      {
        "duration": 150,
        "start_time": "2023-08-15T11:37:22.137Z"
      },
      {
        "duration": 4,
        "start_time": "2023-08-15T11:37:22.292Z"
      },
      {
        "duration": 568,
        "start_time": "2023-08-15T11:37:22.300Z"
      },
      {
        "duration": 485,
        "start_time": "2023-08-15T11:37:22.870Z"
      },
      {
        "duration": 1736,
        "start_time": "2023-08-15T11:37:23.358Z"
      },
      {
        "duration": 38,
        "start_time": "2023-08-15T11:37:25.096Z"
      },
      {
        "duration": 3,
        "start_time": "2023-08-15T11:37:25.136Z"
      },
      {
        "duration": 49,
        "start_time": "2023-08-15T11:37:25.141Z"
      },
      {
        "duration": 15,
        "start_time": "2023-08-15T11:37:25.195Z"
      },
      {
        "duration": 915,
        "start_time": "2023-08-15T11:37:25.212Z"
      },
      {
        "duration": 796,
        "start_time": "2023-08-15T11:37:26.129Z"
      },
      {
        "duration": 486,
        "start_time": "2023-08-15T11:37:26.927Z"
      },
      {
        "duration": 6,
        "start_time": "2023-08-15T11:37:27.415Z"
      },
      {
        "duration": 14,
        "start_time": "2023-08-15T11:37:27.423Z"
      },
      {
        "duration": 20,
        "start_time": "2023-08-15T11:37:27.440Z"
      },
      {
        "duration": 5750,
        "start_time": "2023-08-15T11:37:27.462Z"
      },
      {
        "duration": 3,
        "start_time": "2023-08-15T11:37:33.214Z"
      },
      {
        "duration": 420,
        "start_time": "2023-08-15T11:37:33.219Z"
      },
      {
        "duration": 191,
        "start_time": "2023-08-15T11:37:33.642Z"
      },
      {
        "duration": 755,
        "start_time": "2023-08-15T11:37:33.835Z"
      },
      {
        "duration": 5,
        "start_time": "2023-08-15T11:37:34.593Z"
      },
      {
        "duration": 645,
        "start_time": "2023-08-15T11:37:34.600Z"
      },
      {
        "duration": 467,
        "start_time": "2023-08-15T11:37:35.247Z"
      },
      {
        "duration": 9,
        "start_time": "2023-08-15T11:37:35.716Z"
      },
      {
        "duration": 73,
        "start_time": "2023-08-15T11:37:35.727Z"
      },
      {
        "duration": 53,
        "start_time": "2023-08-15T11:37:35.802Z"
      },
      {
        "duration": 26,
        "start_time": "2023-08-15T11:44:56.394Z"
      },
      {
        "duration": 510,
        "start_time": "2023-08-15T13:39:20.726Z"
      },
      {
        "duration": 621,
        "start_time": "2023-08-15T13:39:51.607Z"
      },
      {
        "duration": 520,
        "start_time": "2023-08-15T13:40:41.085Z"
      },
      {
        "duration": 3,
        "start_time": "2023-08-15T13:40:58.327Z"
      },
      {
        "duration": 11,
        "start_time": "2023-08-15T13:52:17.450Z"
      },
      {
        "duration": 4816,
        "start_time": "2023-08-15T14:07:28.809Z"
      },
      {
        "duration": 21,
        "start_time": "2023-08-15T14:09:57.782Z"
      },
      {
        "duration": 4894,
        "start_time": "2023-08-15T14:10:44.423Z"
      },
      {
        "duration": 8,
        "start_time": "2023-08-15T14:43:09.336Z"
      },
      {
        "duration": 4,
        "start_time": "2023-08-15T14:43:13.767Z"
      },
      {
        "duration": 5,
        "start_time": "2023-08-15T14:45:17.732Z"
      },
      {
        "duration": 6,
        "start_time": "2023-08-15T14:45:26.148Z"
      },
      {
        "duration": 4,
        "start_time": "2023-08-15T14:45:31.070Z"
      },
      {
        "duration": 1393,
        "start_time": "2023-08-15T14:46:29.299Z"
      },
      {
        "duration": 79,
        "start_time": "2023-08-15T14:46:30.698Z"
      },
      {
        "duration": 30,
        "start_time": "2023-08-15T14:46:30.778Z"
      },
      {
        "duration": 105,
        "start_time": "2023-08-15T14:46:30.809Z"
      },
      {
        "duration": 95,
        "start_time": "2023-08-15T14:46:30.916Z"
      },
      {
        "duration": 68,
        "start_time": "2023-08-15T14:46:31.013Z"
      },
      {
        "duration": 34,
        "start_time": "2023-08-15T14:46:31.082Z"
      },
      {
        "duration": 41,
        "start_time": "2023-08-15T14:46:31.118Z"
      },
      {
        "duration": 30,
        "start_time": "2023-08-15T14:46:31.160Z"
      },
      {
        "duration": 216,
        "start_time": "2023-08-15T14:46:31.192Z"
      },
      {
        "duration": 6,
        "start_time": "2023-08-15T14:46:31.409Z"
      },
      {
        "duration": 60,
        "start_time": "2023-08-15T14:46:31.417Z"
      },
      {
        "duration": 53,
        "start_time": "2023-08-15T14:46:31.478Z"
      },
      {
        "duration": 33,
        "start_time": "2023-08-15T14:46:31.534Z"
      },
      {
        "duration": 34,
        "start_time": "2023-08-15T14:46:31.569Z"
      },
      {
        "duration": 25,
        "start_time": "2023-08-15T14:46:31.604Z"
      },
      {
        "duration": 59,
        "start_time": "2023-08-15T14:46:31.630Z"
      },
      {
        "duration": 20,
        "start_time": "2023-08-15T14:46:31.690Z"
      },
      {
        "duration": 43,
        "start_time": "2023-08-15T14:46:31.711Z"
      },
      {
        "duration": 12,
        "start_time": "2023-08-15T14:46:31.755Z"
      },
      {
        "duration": 100,
        "start_time": "2023-08-15T14:46:31.769Z"
      },
      {
        "duration": 3,
        "start_time": "2023-08-15T14:46:31.870Z"
      },
      {
        "duration": 349,
        "start_time": "2023-08-15T14:46:31.874Z"
      },
      {
        "duration": 297,
        "start_time": "2023-08-15T14:46:32.225Z"
      },
      {
        "duration": 1108,
        "start_time": "2023-08-15T14:46:32.524Z"
      },
      {
        "duration": 23,
        "start_time": "2023-08-15T14:46:33.634Z"
      },
      {
        "duration": 2,
        "start_time": "2023-08-15T14:46:33.659Z"
      },
      {
        "duration": 102,
        "start_time": "2023-08-15T14:46:33.662Z"
      },
      {
        "duration": 9,
        "start_time": "2023-08-15T14:46:33.767Z"
      },
      {
        "duration": 509,
        "start_time": "2023-08-15T14:46:33.777Z"
      },
      {
        "duration": 494,
        "start_time": "2023-08-15T14:46:34.291Z"
      },
      {
        "duration": 332,
        "start_time": "2023-08-15T14:46:34.787Z"
      },
      {
        "duration": 6,
        "start_time": "2023-08-15T14:46:35.120Z"
      },
      {
        "duration": 16,
        "start_time": "2023-08-15T14:46:35.127Z"
      },
      {
        "duration": 19,
        "start_time": "2023-08-15T14:46:35.144Z"
      },
      {
        "duration": 4486,
        "start_time": "2023-08-15T14:46:35.164Z"
      },
      {
        "duration": 2,
        "start_time": "2023-08-15T14:46:39.652Z"
      },
      {
        "duration": 294,
        "start_time": "2023-08-15T14:46:39.655Z"
      },
      {
        "duration": 275,
        "start_time": "2023-08-15T14:46:39.950Z"
      },
      {
        "duration": 2,
        "start_time": "2023-08-15T14:46:40.227Z"
      },
      {
        "duration": 482,
        "start_time": "2023-08-15T14:46:40.233Z"
      },
      {
        "duration": 3,
        "start_time": "2023-08-15T14:46:40.717Z"
      },
      {
        "duration": 493,
        "start_time": "2023-08-15T14:46:40.721Z"
      },
      {
        "duration": 411,
        "start_time": "2023-08-15T14:46:41.216Z"
      },
      {
        "duration": 8,
        "start_time": "2023-08-15T14:46:41.629Z"
      },
      {
        "duration": 12,
        "start_time": "2023-08-15T14:46:41.638Z"
      },
      {
        "duration": 7,
        "start_time": "2023-08-15T14:46:41.652Z"
      },
      {
        "duration": 5,
        "start_time": "2023-08-15T14:46:41.661Z"
      },
      {
        "duration": 31,
        "start_time": "2023-08-15T14:46:41.667Z"
      },
      {
        "duration": 5,
        "start_time": "2023-08-15T14:46:41.700Z"
      },
      {
        "duration": 5,
        "start_time": "2023-08-15T14:46:41.706Z"
      },
      {
        "duration": 467,
        "start_time": "2023-08-15T14:47:52.730Z"
      },
      {
        "duration": 330,
        "start_time": "2023-08-15T14:48:05.911Z"
      },
      {
        "duration": 1212,
        "start_time": "2023-08-15T14:48:42.564Z"
      },
      {
        "duration": 85,
        "start_time": "2023-08-15T14:48:43.778Z"
      },
      {
        "duration": 3,
        "start_time": "2023-08-15T14:48:43.864Z"
      },
      {
        "duration": 29,
        "start_time": "2023-08-15T14:48:43.869Z"
      },
      {
        "duration": 6,
        "start_time": "2023-08-15T14:48:43.899Z"
      },
      {
        "duration": 15,
        "start_time": "2023-08-15T14:48:43.907Z"
      },
      {
        "duration": 16,
        "start_time": "2023-08-15T14:48:43.923Z"
      },
      {
        "duration": 20,
        "start_time": "2023-08-15T14:48:43.941Z"
      },
      {
        "duration": 9,
        "start_time": "2023-08-15T14:48:43.963Z"
      },
      {
        "duration": 182,
        "start_time": "2023-08-15T14:48:43.975Z"
      },
      {
        "duration": 5,
        "start_time": "2023-08-15T14:48:44.158Z"
      },
      {
        "duration": 20,
        "start_time": "2023-08-15T14:48:44.164Z"
      },
      {
        "duration": 13,
        "start_time": "2023-08-15T14:48:44.185Z"
      },
      {
        "duration": 13,
        "start_time": "2023-08-15T14:48:44.199Z"
      },
      {
        "duration": 13,
        "start_time": "2023-08-15T14:48:44.213Z"
      },
      {
        "duration": 23,
        "start_time": "2023-08-15T14:48:44.228Z"
      },
      {
        "duration": 36,
        "start_time": "2023-08-15T14:48:44.252Z"
      },
      {
        "duration": 14,
        "start_time": "2023-08-15T14:48:44.290Z"
      },
      {
        "duration": 30,
        "start_time": "2023-08-15T14:48:44.306Z"
      },
      {
        "duration": 4,
        "start_time": "2023-08-15T14:48:44.338Z"
      },
      {
        "duration": 90,
        "start_time": "2023-08-15T14:48:44.343Z"
      },
      {
        "duration": 3,
        "start_time": "2023-08-15T14:48:44.434Z"
      },
      {
        "duration": 354,
        "start_time": "2023-08-15T14:48:44.438Z"
      },
      {
        "duration": 294,
        "start_time": "2023-08-15T14:48:44.794Z"
      },
      {
        "duration": 1131,
        "start_time": "2023-08-15T14:48:45.090Z"
      },
      {
        "duration": 24,
        "start_time": "2023-08-15T14:48:46.223Z"
      },
      {
        "duration": 24,
        "start_time": "2023-08-15T14:48:46.248Z"
      },
      {
        "duration": 45,
        "start_time": "2023-08-15T14:48:46.276Z"
      },
      {
        "duration": 114,
        "start_time": "2023-08-15T14:48:46.322Z"
      },
      {
        "duration": 521,
        "start_time": "2023-08-15T14:48:46.437Z"
      },
      {
        "duration": 482,
        "start_time": "2023-08-15T14:48:46.960Z"
      },
      {
        "duration": 283,
        "start_time": "2023-08-15T14:48:47.443Z"
      },
      {
        "duration": 5,
        "start_time": "2023-08-15T14:48:47.728Z"
      },
      {
        "duration": 46,
        "start_time": "2023-08-15T14:48:47.734Z"
      },
      {
        "duration": 33,
        "start_time": "2023-08-15T14:48:47.781Z"
      },
      {
        "duration": 4239,
        "start_time": "2023-08-15T14:48:47.815Z"
      },
      {
        "duration": 2,
        "start_time": "2023-08-15T14:48:52.056Z"
      },
      {
        "duration": 269,
        "start_time": "2023-08-15T14:48:52.059Z"
      },
      {
        "duration": 252,
        "start_time": "2023-08-15T14:48:52.330Z"
      },
      {
        "duration": 5,
        "start_time": "2023-08-15T14:48:52.583Z"
      },
      {
        "duration": 482,
        "start_time": "2023-08-15T14:48:52.590Z"
      },
      {
        "duration": 3,
        "start_time": "2023-08-15T14:48:53.074Z"
      },
      {
        "duration": 542,
        "start_time": "2023-08-15T14:48:53.078Z"
      },
      {
        "duration": 411,
        "start_time": "2023-08-15T14:48:53.622Z"
      },
      {
        "duration": 8,
        "start_time": "2023-08-15T14:48:54.034Z"
      },
      {
        "duration": 52,
        "start_time": "2023-08-15T14:48:54.044Z"
      },
      {
        "duration": 24,
        "start_time": "2023-08-15T14:48:54.098Z"
      },
      {
        "duration": 38,
        "start_time": "2023-08-15T14:48:54.123Z"
      },
      {
        "duration": 24,
        "start_time": "2023-08-15T14:48:54.162Z"
      },
      {
        "duration": 27,
        "start_time": "2023-08-15T14:48:54.187Z"
      },
      {
        "duration": 29,
        "start_time": "2023-08-15T14:48:54.216Z"
      },
      {
        "duration": 1488,
        "start_time": "2023-08-15T23:07:20.178Z"
      },
      {
        "duration": 138,
        "start_time": "2023-08-15T23:07:21.668Z"
      },
      {
        "duration": 3,
        "start_time": "2023-08-15T23:07:21.808Z"
      },
      {
        "duration": 27,
        "start_time": "2023-08-15T23:07:21.813Z"
      },
      {
        "duration": 5,
        "start_time": "2023-08-15T23:07:21.842Z"
      },
      {
        "duration": 16,
        "start_time": "2023-08-15T23:07:21.849Z"
      },
      {
        "duration": 17,
        "start_time": "2023-08-15T23:07:21.867Z"
      },
      {
        "duration": 28,
        "start_time": "2023-08-15T23:07:21.886Z"
      },
      {
        "duration": 6,
        "start_time": "2023-08-15T23:07:21.917Z"
      },
      {
        "duration": 190,
        "start_time": "2023-08-15T23:07:21.924Z"
      },
      {
        "duration": 5,
        "start_time": "2023-08-15T23:07:22.116Z"
      },
      {
        "duration": 15,
        "start_time": "2023-08-15T23:07:22.123Z"
      },
      {
        "duration": 13,
        "start_time": "2023-08-15T23:07:22.140Z"
      },
      {
        "duration": 28,
        "start_time": "2023-08-15T23:07:22.156Z"
      },
      {
        "duration": 25,
        "start_time": "2023-08-15T23:07:22.187Z"
      },
      {
        "duration": 34,
        "start_time": "2023-08-15T23:07:22.214Z"
      },
      {
        "duration": 31,
        "start_time": "2023-08-15T23:07:22.250Z"
      },
      {
        "duration": 7,
        "start_time": "2023-08-15T23:07:22.283Z"
      },
      {
        "duration": 41,
        "start_time": "2023-08-15T23:07:22.292Z"
      },
      {
        "duration": 4,
        "start_time": "2023-08-15T23:07:22.335Z"
      },
      {
        "duration": 100,
        "start_time": "2023-08-15T23:07:22.341Z"
      },
      {
        "duration": 2,
        "start_time": "2023-08-15T23:07:22.443Z"
      },
      {
        "duration": 390,
        "start_time": "2023-08-15T23:07:22.447Z"
      },
      {
        "duration": 334,
        "start_time": "2023-08-15T23:07:22.839Z"
      },
      {
        "duration": 1262,
        "start_time": "2023-08-15T23:07:23.175Z"
      },
      {
        "duration": 27,
        "start_time": "2023-08-15T23:07:24.439Z"
      },
      {
        "duration": 3,
        "start_time": "2023-08-15T23:07:24.467Z"
      },
      {
        "duration": 105,
        "start_time": "2023-08-15T23:07:24.471Z"
      },
      {
        "duration": 17,
        "start_time": "2023-08-15T23:07:24.578Z"
      },
      {
        "duration": 562,
        "start_time": "2023-08-15T23:07:24.597Z"
      },
      {
        "duration": 531,
        "start_time": "2023-08-15T23:07:25.161Z"
      },
      {
        "duration": 302,
        "start_time": "2023-08-15T23:07:25.695Z"
      },
      {
        "duration": 8,
        "start_time": "2023-08-15T23:07:26.000Z"
      },
      {
        "duration": 32,
        "start_time": "2023-08-15T23:07:26.010Z"
      },
      {
        "duration": 4,
        "start_time": "2023-08-15T23:07:26.044Z"
      },
      {
        "duration": 4582,
        "start_time": "2023-08-15T23:07:26.050Z"
      },
      {
        "duration": 2,
        "start_time": "2023-08-15T23:07:30.634Z"
      },
      {
        "duration": 330,
        "start_time": "2023-08-15T23:07:30.638Z"
      },
      {
        "duration": 279,
        "start_time": "2023-08-15T23:07:30.969Z"
      },
      {
        "duration": 2,
        "start_time": "2023-08-15T23:07:31.250Z"
      },
      {
        "duration": 544,
        "start_time": "2023-08-15T23:07:31.256Z"
      },
      {
        "duration": 4,
        "start_time": "2023-08-15T23:07:31.801Z"
      },
      {
        "duration": 537,
        "start_time": "2023-08-15T23:07:31.806Z"
      },
      {
        "duration": 444,
        "start_time": "2023-08-15T23:07:32.345Z"
      },
      {
        "duration": 13,
        "start_time": "2023-08-15T23:07:32.790Z"
      },
      {
        "duration": 20,
        "start_time": "2023-08-15T23:07:32.805Z"
      },
      {
        "duration": 16,
        "start_time": "2023-08-15T23:07:32.827Z"
      },
      {
        "duration": 11,
        "start_time": "2023-08-15T23:07:32.845Z"
      },
      {
        "duration": 16,
        "start_time": "2023-08-15T23:07:32.858Z"
      },
      {
        "duration": 16,
        "start_time": "2023-08-15T23:07:32.876Z"
      },
      {
        "duration": 7,
        "start_time": "2023-08-15T23:07:32.894Z"
      }
    ],
    "kernelspec": {
      "display_name": "Python 3 (ipykernel)",
      "language": "python",
      "name": "python3"
    },
    "language_info": {
      "codemirror_mode": {
        "name": "ipython",
        "version": 3
      },
      "file_extension": ".py",
      "mimetype": "text/x-python",
      "name": "python",
      "nbconvert_exporter": "python",
      "pygments_lexer": "ipython3",
      "version": "3.9.5"
    },
    "toc": {
      "base_numbering": 1,
      "nav_menu": {},
      "number_sections": true,
      "sideBar": true,
      "skip_h1_title": true,
      "title_cell": "Table of Contents",
      "title_sidebar": "Contents",
      "toc_cell": false,
      "toc_position": {
        "height": "calc(100% - 180px)",
        "left": "10px",
        "top": "150px",
        "width": "165px"
      },
      "toc_section_display": true,
      "toc_window_display": true
    },
    "colab": {
      "provenance": []
    }
  },
  "nbformat": 4,
  "nbformat_minor": 0
}