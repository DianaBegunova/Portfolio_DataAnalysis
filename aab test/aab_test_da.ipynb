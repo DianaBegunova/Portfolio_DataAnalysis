{
  "cells": [
    {
      "cell_type": "markdown",
      "metadata": {
        "id": "4jUQcUbUIltt"
      },
      "source": [
        "# Проект по стартапу, который продает продукты питания\n",
        "\n",
        "Цель проекта - разобраться, как ведут себя пользователи вашего мобильного приложения. Необходимо изучить воронку продаж и исследовать результаты A/A/B-эксперимента. Дизайнеры приложения приняли решение поменять шрифты во всём приложении, поэтому нам нужно проанализировать результаты теста. Пользователей разбили на 3 группы: 2 контрольные со старыми шрифтами и одну экспериментальную — с новыми. Выясним, какой же шрифт лучше.\n",
        "\n",
        "## План:\n",
        "**[1. Изучение файла](#the_destination)**\n",
        "\n",
        "**[2. Предобработка](#the_destination1)**\n",
        "- замена названий столбцов\n",
        "- проверка пропусков, дубликатов\n",
        "- корректировка типов данных\n",
        "- добавление столбца даты\n",
        "\n",
        "**[3. Изучение данных и ответы на вопросы:](#the_destination2)**\n",
        "- Сколько всего событий в логе?\n",
        "- Сколько всего пользователей в логе?\n",
        "- Сколько в среднем событий приходится на пользователя?\n",
        "- Данными за какой период располагаем? А на самом деле?\n",
        "- Много ли событий и пользователей мы потеряли, отбросив старые данные?\n",
        "- Есть ли у нас пользователи из всех трёх экспериментальных групп?\n",
        "\n",
        "**[4. Изучение воронки событий](#the_destination3)**\n",
        "- Какие события есть в логах, как часто они встречаются?\n",
        "- Сколько пользователей совершали каждое из этих событий?\n",
        "- В каком порядке происходят события? Все ли они выстраиваются в последовательную цепочку?\n",
        "- Какая доля пользователей проходит на следующий шаг воронки (от числа пользователей на предыдущем)?\n",
        "- На каком шаге теряем больше всего пользователей?\n",
        "- Какая доля пользователей доходит от первого события до оплаты?\n",
        "\n",
        "**[5. Изучим результаты эксперимента](#the_destination4)**\n",
        "- Сколько пользователей в каждой экспериментальной группе?\n",
        "- Находят ли статистические критерии разницу между выборками 246 и 247?\n",
        "- Можно ли сказать, что разбиение на группы работает корректно?\n",
        "- Аналогично поступим с группой с изменённым шрифтом. Какие выводы из эксперимента можно сделать?\n",
        "- Какой уровень значимости был выбран при проверке статистических гипотез? Какой уровень значимости стоит применить?\n",
        "\n",
        "**[Общий вывод](#the_destination5)**\n",
        "\n",
        "На основе этого плана можно приступить к изучению воронки и А/В тестов."
      ]
    },
    {
      "cell_type": "markdown",
      "metadata": {
        "id": "GOe_HZyzIlt0"
      },
      "source": [
        "## Посмотрим наш датасет\n",
        "<a id='the_destination'></a>"
      ]
    },
    {
      "cell_type": "code",
      "execution_count": null,
      "metadata": {
        "id": "EjUwoXzRIlt1"
      },
      "outputs": [],
      "source": [
        "import pandas as pd\n",
        "import matplotlib.pyplot as plt\n",
        "import seaborn as sns\n",
        "from scipy import stats as st\n",
        "import numpy as np\n",
        "import math"
      ]
    },
    {
      "cell_type": "code",
      "execution_count": null,
      "metadata": {
        "id": "G56cZwS_Ilt5"
      },
      "outputs": [],
      "source": [
        "data = pd.read_csv('/datasets/logs_exp.csv', sep='\\t')"
      ]
    },
    {
      "cell_type": "code",
      "execution_count": null,
      "metadata": {
        "id": "FlPq4mLUIlt6",
        "outputId": "fe1deb11-388b-4c3f-f75c-6d9459b572e9"
      },
      "outputs": [
        {
          "name": "stdout",
          "output_type": "stream",
          "text": [
            "<class 'pandas.core.frame.DataFrame'>\n",
            "RangeIndex: 244126 entries, 0 to 244125\n",
            "Data columns (total 4 columns):\n",
            " #   Column          Non-Null Count   Dtype \n",
            "---  ------          --------------   ----- \n",
            " 0   EventName       244126 non-null  object\n",
            " 1   DeviceIDHash    244126 non-null  int64 \n",
            " 2   EventTimestamp  244126 non-null  int64 \n",
            " 3   ExpId           244126 non-null  int64 \n",
            "dtypes: int64(3), object(1)\n",
            "memory usage: 7.5+ MB\n"
          ]
        },
        {
          "data": {
            "text/html": [
              "<div>\n",
              "<style scoped>\n",
              "    .dataframe tbody tr th:only-of-type {\n",
              "        vertical-align: middle;\n",
              "    }\n",
              "\n",
              "    .dataframe tbody tr th {\n",
              "        vertical-align: top;\n",
              "    }\n",
              "\n",
              "    .dataframe thead th {\n",
              "        text-align: right;\n",
              "    }\n",
              "</style>\n",
              "<table border=\"1\" class=\"dataframe\">\n",
              "  <thead>\n",
              "    <tr style=\"text-align: right;\">\n",
              "      <th></th>\n",
              "      <th>EventName</th>\n",
              "      <th>DeviceIDHash</th>\n",
              "      <th>EventTimestamp</th>\n",
              "      <th>ExpId</th>\n",
              "    </tr>\n",
              "  </thead>\n",
              "  <tbody>\n",
              "    <tr>\n",
              "      <th>0</th>\n",
              "      <td>MainScreenAppear</td>\n",
              "      <td>4575588528974610257</td>\n",
              "      <td>1564029816</td>\n",
              "      <td>246</td>\n",
              "    </tr>\n",
              "    <tr>\n",
              "      <th>1</th>\n",
              "      <td>MainScreenAppear</td>\n",
              "      <td>7416695313311560658</td>\n",
              "      <td>1564053102</td>\n",
              "      <td>246</td>\n",
              "    </tr>\n",
              "    <tr>\n",
              "      <th>2</th>\n",
              "      <td>PaymentScreenSuccessful</td>\n",
              "      <td>3518123091307005509</td>\n",
              "      <td>1564054127</td>\n",
              "      <td>248</td>\n",
              "    </tr>\n",
              "    <tr>\n",
              "      <th>3</th>\n",
              "      <td>CartScreenAppear</td>\n",
              "      <td>3518123091307005509</td>\n",
              "      <td>1564054127</td>\n",
              "      <td>248</td>\n",
              "    </tr>\n",
              "    <tr>\n",
              "      <th>4</th>\n",
              "      <td>PaymentScreenSuccessful</td>\n",
              "      <td>6217807653094995999</td>\n",
              "      <td>1564055322</td>\n",
              "      <td>248</td>\n",
              "    </tr>\n",
              "  </tbody>\n",
              "</table>\n",
              "</div>"
            ],
            "text/plain": [
              "                 EventName         DeviceIDHash  EventTimestamp  ExpId\n",
              "0         MainScreenAppear  4575588528974610257      1564029816    246\n",
              "1         MainScreenAppear  7416695313311560658      1564053102    246\n",
              "2  PaymentScreenSuccessful  3518123091307005509      1564054127    248\n",
              "3         CartScreenAppear  3518123091307005509      1564054127    248\n",
              "4  PaymentScreenSuccessful  6217807653094995999      1564055322    248"
            ]
          },
          "execution_count": 3,
          "metadata": {},
          "output_type": "execute_result"
        }
      ],
      "source": [
        "data.info()\n",
        "data.head(5)"
      ]
    },
    {
      "cell_type": "markdown",
      "metadata": {
        "id": "6p_sQsTLIlt9"
      },
      "source": [
        "В нашем датасете 244 126 строк, 4 столбца:\n",
        "\n",
        "`EventName` — название события;\n",
        "\n",
        "`DeviceIDHash` — уникальный идентификатор пользователя;\n",
        "\n",
        "`EventTimestamp` — время события;\n",
        "\n",
        "`ExpId` — номер эксперимента: 246 и 247 — контрольные группы, а 248 — экспериментальная."
      ]
    },
    {
      "cell_type": "markdown",
      "metadata": {
        "id": "gyTCr-lsIlt-"
      },
      "source": [
        "## Предобработка\n",
        "<a id='the_destination1'></a>"
      ]
    },
    {
      "cell_type": "code",
      "execution_count": null,
      "metadata": {
        "id": "aYHjhrgTIlt_"
      },
      "outputs": [],
      "source": [
        "# изменим названия столбцов\n",
        "data = data.rename(columns={'EventName': 'event_name',\n",
        "                            'DeviceIDHash': 'user_id',\n",
        "                            'EventTimestamp': 'event_time',\n",
        "                            'ExpId': 'exp_id'})"
      ]
    },
    {
      "cell_type": "code",
      "execution_count": null,
      "metadata": {
        "id": "CtC9irNoIluA",
        "outputId": "937c1ea3-5bc8-4c7e-cc56-ee41fc7a968d"
      },
      "outputs": [
        {
          "data": {
            "text/plain": [
              "event_name    0\n",
              "user_id       0\n",
              "event_time    0\n",
              "exp_id        0\n",
              "dtype: int64"
            ]
          },
          "execution_count": 5,
          "metadata": {},
          "output_type": "execute_result"
        }
      ],
      "source": [
        "# проверим пропуски\n",
        "data.isna().sum()"
      ]
    },
    {
      "cell_type": "code",
      "execution_count": null,
      "metadata": {
        "id": "wUFdkKMPIluB",
        "outputId": "ef57f708-ff43-40d3-9640-0191d39eda56"
      },
      "outputs": [
        {
          "data": {
            "text/plain": [
              "413"
            ]
          },
          "execution_count": 6,
          "metadata": {},
          "output_type": "execute_result"
        }
      ],
      "source": [
        "# проверим дубликаты\n",
        "data.duplicated().sum()"
      ]
    },
    {
      "cell_type": "code",
      "execution_count": null,
      "metadata": {
        "id": "TrY6BBbqIluC"
      },
      "outputs": [],
      "source": [
        "# удалим дубликаты\n",
        "data = data.drop_duplicates().reset_index(drop=True)"
      ]
    },
    {
      "cell_type": "code",
      "execution_count": null,
      "metadata": {
        "id": "lJwzYjEwIluD",
        "outputId": "00eb58cd-4e51-4b03-ffd0-af46fcae3680"
      },
      "outputs": [
        {
          "data": {
            "text/html": [
              "<div>\n",
              "<style scoped>\n",
              "    .dataframe tbody tr th:only-of-type {\n",
              "        vertical-align: middle;\n",
              "    }\n",
              "\n",
              "    .dataframe tbody tr th {\n",
              "        vertical-align: top;\n",
              "    }\n",
              "\n",
              "    .dataframe thead th {\n",
              "        text-align: right;\n",
              "    }\n",
              "</style>\n",
              "<table border=\"1\" class=\"dataframe\">\n",
              "  <thead>\n",
              "    <tr style=\"text-align: right;\">\n",
              "      <th></th>\n",
              "      <th>event_name</th>\n",
              "      <th>user_id</th>\n",
              "      <th>event_time</th>\n",
              "      <th>exp_id</th>\n",
              "    </tr>\n",
              "  </thead>\n",
              "  <tbody>\n",
              "    <tr>\n",
              "      <th>0</th>\n",
              "      <td>MainScreenAppear</td>\n",
              "      <td>4575588528974610257</td>\n",
              "      <td>2019-07-25 04:43:36</td>\n",
              "      <td>246</td>\n",
              "    </tr>\n",
              "    <tr>\n",
              "      <th>1</th>\n",
              "      <td>MainScreenAppear</td>\n",
              "      <td>7416695313311560658</td>\n",
              "      <td>2019-07-25 11:11:42</td>\n",
              "      <td>246</td>\n",
              "    </tr>\n",
              "    <tr>\n",
              "      <th>2</th>\n",
              "      <td>PaymentScreenSuccessful</td>\n",
              "      <td>3518123091307005509</td>\n",
              "      <td>2019-07-25 11:28:47</td>\n",
              "      <td>248</td>\n",
              "    </tr>\n",
              "    <tr>\n",
              "      <th>3</th>\n",
              "      <td>CartScreenAppear</td>\n",
              "      <td>3518123091307005509</td>\n",
              "      <td>2019-07-25 11:28:47</td>\n",
              "      <td>248</td>\n",
              "    </tr>\n",
              "    <tr>\n",
              "      <th>4</th>\n",
              "      <td>PaymentScreenSuccessful</td>\n",
              "      <td>6217807653094995999</td>\n",
              "      <td>2019-07-25 11:48:42</td>\n",
              "      <td>248</td>\n",
              "    </tr>\n",
              "  </tbody>\n",
              "</table>\n",
              "</div>"
            ],
            "text/plain": [
              "                event_name              user_id          event_time  exp_id\n",
              "0         MainScreenAppear  4575588528974610257 2019-07-25 04:43:36     246\n",
              "1         MainScreenAppear  7416695313311560658 2019-07-25 11:11:42     246\n",
              "2  PaymentScreenSuccessful  3518123091307005509 2019-07-25 11:28:47     248\n",
              "3         CartScreenAppear  3518123091307005509 2019-07-25 11:28:47     248\n",
              "4  PaymentScreenSuccessful  6217807653094995999 2019-07-25 11:48:42     248"
            ]
          },
          "execution_count": 8,
          "metadata": {},
          "output_type": "execute_result"
        }
      ],
      "source": [
        "# изменим тип данных\n",
        "data['event_time'] = pd.to_datetime(data['event_time'], unit='s')\n",
        "data.head()"
      ]
    },
    {
      "cell_type": "code",
      "execution_count": null,
      "metadata": {
        "id": "fUy7zIjNIluD",
        "outputId": "c04db295-7a14-4363-c236-9bec015b2afa"
      },
      "outputs": [
        {
          "data": {
            "text/html": [
              "<div>\n",
              "<style scoped>\n",
              "    .dataframe tbody tr th:only-of-type {\n",
              "        vertical-align: middle;\n",
              "    }\n",
              "\n",
              "    .dataframe tbody tr th {\n",
              "        vertical-align: top;\n",
              "    }\n",
              "\n",
              "    .dataframe thead th {\n",
              "        text-align: right;\n",
              "    }\n",
              "</style>\n",
              "<table border=\"1\" class=\"dataframe\">\n",
              "  <thead>\n",
              "    <tr style=\"text-align: right;\">\n",
              "      <th></th>\n",
              "      <th>event_name</th>\n",
              "      <th>user_id</th>\n",
              "      <th>event_time</th>\n",
              "      <th>exp_id</th>\n",
              "      <th>event_date</th>\n",
              "    </tr>\n",
              "  </thead>\n",
              "  <tbody>\n",
              "    <tr>\n",
              "      <th>0</th>\n",
              "      <td>MainScreenAppear</td>\n",
              "      <td>4575588528974610257</td>\n",
              "      <td>2019-07-25 04:43:36</td>\n",
              "      <td>246</td>\n",
              "      <td>2019-07-25</td>\n",
              "    </tr>\n",
              "    <tr>\n",
              "      <th>1</th>\n",
              "      <td>MainScreenAppear</td>\n",
              "      <td>7416695313311560658</td>\n",
              "      <td>2019-07-25 11:11:42</td>\n",
              "      <td>246</td>\n",
              "      <td>2019-07-25</td>\n",
              "    </tr>\n",
              "    <tr>\n",
              "      <th>2</th>\n",
              "      <td>PaymentScreenSuccessful</td>\n",
              "      <td>3518123091307005509</td>\n",
              "      <td>2019-07-25 11:28:47</td>\n",
              "      <td>248</td>\n",
              "      <td>2019-07-25</td>\n",
              "    </tr>\n",
              "    <tr>\n",
              "      <th>3</th>\n",
              "      <td>CartScreenAppear</td>\n",
              "      <td>3518123091307005509</td>\n",
              "      <td>2019-07-25 11:28:47</td>\n",
              "      <td>248</td>\n",
              "      <td>2019-07-25</td>\n",
              "    </tr>\n",
              "    <tr>\n",
              "      <th>4</th>\n",
              "      <td>PaymentScreenSuccessful</td>\n",
              "      <td>6217807653094995999</td>\n",
              "      <td>2019-07-25 11:48:42</td>\n",
              "      <td>248</td>\n",
              "      <td>2019-07-25</td>\n",
              "    </tr>\n",
              "  </tbody>\n",
              "</table>\n",
              "</div>"
            ],
            "text/plain": [
              "                event_name              user_id          event_time  exp_id  \\\n",
              "0         MainScreenAppear  4575588528974610257 2019-07-25 04:43:36     246   \n",
              "1         MainScreenAppear  7416695313311560658 2019-07-25 11:11:42     246   \n",
              "2  PaymentScreenSuccessful  3518123091307005509 2019-07-25 11:28:47     248   \n",
              "3         CartScreenAppear  3518123091307005509 2019-07-25 11:28:47     248   \n",
              "4  PaymentScreenSuccessful  6217807653094995999 2019-07-25 11:48:42     248   \n",
              "\n",
              "   event_date  \n",
              "0  2019-07-25  \n",
              "1  2019-07-25  \n",
              "2  2019-07-25  \n",
              "3  2019-07-25  \n",
              "4  2019-07-25  "
            ]
          },
          "execution_count": 9,
          "metadata": {},
          "output_type": "execute_result"
        }
      ],
      "source": [
        "# добавим отдельный столбец по дате\n",
        "data['event_date'] = data['event_time'].astype('datetime64[D]')\n",
        "data['event_date'] = data['event_date'].dt.strftime('%Y-%m-%d')\n",
        "data.head()"
      ]
    },
    {
      "cell_type": "markdown",
      "metadata": {
        "id": "0nW_DUB1IluE"
      },
      "source": [
        "В процессе предобработки лог-файла:\n",
        "- не были обнаружены пропуски\n",
        "- были найдены и удалены 413 дубликатов, которые вероятно появились в связи с технической ошибкой\n",
        "- были изменены названия столбцов (по \"змеиному\" регистру) в более оптимальный вид\n",
        "- формат даты и времени в столбце `event_time` был приведен к правильному варианту\n",
        "- был добавлен новый столбец `event_date` с информацией о дате события"
      ]
    },
    {
      "cell_type": "markdown",
      "metadata": {
        "id": "V9qSpyMfIluF"
      },
      "source": [
        "## Изучим и проверим данные\n",
        "<a id='the_destination2'></a>"
      ]
    },
    {
      "cell_type": "markdown",
      "metadata": {
        "id": "0GLlsDG0IluG"
      },
      "source": [
        "### Сколько всего событий в логе?"
      ]
    },
    {
      "cell_type": "code",
      "execution_count": null,
      "metadata": {
        "id": "1OBAIPYKIluG",
        "outputId": "833d8485-2c3e-400b-c993-d781501f2e14"
      },
      "outputs": [
        {
          "data": {
            "text/plain": [
              "array(['MainScreenAppear', 'PaymentScreenSuccessful', 'CartScreenAppear',\n",
              "       'OffersScreenAppear', 'Tutorial'], dtype=object)"
            ]
          },
          "execution_count": 10,
          "metadata": {},
          "output_type": "execute_result"
        }
      ],
      "source": [
        "# количество событий\n",
        "data['event_name'].unique()"
      ]
    },
    {
      "cell_type": "code",
      "execution_count": null,
      "metadata": {
        "id": "ONNrYAjvIluH",
        "outputId": "a17cc5f2-4c1f-4c99-8c5e-dbdc70c09266"
      },
      "outputs": [
        {
          "data": {
            "text/plain": [
              "243713"
            ]
          },
          "execution_count": 11,
          "metadata": {},
          "output_type": "execute_result"
        }
      ],
      "source": [
        "len(data)"
      ]
    },
    {
      "cell_type": "markdown",
      "metadata": {
        "id": "NbIY430UIluI"
      },
      "source": [
        "Всего в логе 5 видов событий (всего событий 243713):\n",
        "- MainScreenAppear,\n",
        "- PaymentScreenSuccessful,\n",
        "- CartScreenAppear,\n",
        "- OffersScreenAppear,\n",
        "- Tutorial."
      ]
    },
    {
      "cell_type": "markdown",
      "metadata": {
        "id": "t7KVlEpCIluI"
      },
      "source": [
        "### Сколько всего пользователей в логе?"
      ]
    },
    {
      "cell_type": "code",
      "execution_count": null,
      "metadata": {
        "id": "G_Y7rg4gIluJ",
        "outputId": "4d2f7608-d663-4889-b01d-d11df0b13a44"
      },
      "outputs": [
        {
          "data": {
            "text/plain": [
              "7551"
            ]
          },
          "execution_count": 12,
          "metadata": {},
          "output_type": "execute_result"
        }
      ],
      "source": [
        "# количество пользователей\n",
        "data['user_id'].value_counts().count()"
      ]
    },
    {
      "cell_type": "markdown",
      "metadata": {
        "id": "1XKdadF8IluK"
      },
      "source": [
        "В логе 7551 пользователь."
      ]
    },
    {
      "cell_type": "markdown",
      "metadata": {
        "id": "xD_Fu1QOIluK"
      },
      "source": [
        "### Сколько в среднем событий приходится на пользователя?"
      ]
    },
    {
      "cell_type": "code",
      "execution_count": null,
      "metadata": {
        "id": "iws-zzcUIluL",
        "outputId": "4aaff967-eed0-4f4b-c8bd-59dca0266c01"
      },
      "outputs": [
        {
          "data": {
            "text/plain": [
              "32.27559263673685"
            ]
          },
          "execution_count": 13,
          "metadata": {},
          "output_type": "execute_result"
        }
      ],
      "source": [
        "# среднее количество событий на 1 пользователя\n",
        "data.shape[0] / data['user_id'].nunique()"
      ]
    },
    {
      "cell_type": "markdown",
      "metadata": {
        "id": "QEumivbXIluM"
      },
      "source": [
        "На 1 пользователя в среднем приходится 32 события."
      ]
    },
    {
      "cell_type": "markdown",
      "metadata": {
        "id": "a14g8CAXIluM"
      },
      "source": [
        "### За какой период у нас данные? Как меняется количество данных? Данными за какой период мы располагаем на самом деле?"
      ]
    },
    {
      "cell_type": "code",
      "execution_count": null,
      "metadata": {
        "id": "1xnri0fJIluN",
        "outputId": "54df8a92-ccdc-41bf-cdd9-7abd9c3e260b"
      },
      "outputs": [
        {
          "data": {
            "text/plain": [
              "'2019-07-25'"
            ]
          },
          "execution_count": 14,
          "metadata": {},
          "output_type": "execute_result"
        }
      ],
      "source": [
        "data['event_date'].min()"
      ]
    },
    {
      "cell_type": "code",
      "execution_count": null,
      "metadata": {
        "id": "JEEouC59IluO",
        "outputId": "d1ce484c-fa11-4c53-c102-a5da0d194a70"
      },
      "outputs": [
        {
          "data": {
            "text/plain": [
              "'2019-08-07'"
            ]
          },
          "execution_count": 15,
          "metadata": {},
          "output_type": "execute_result"
        }
      ],
      "source": [
        "data['event_date'].max()"
      ]
    },
    {
      "cell_type": "code",
      "execution_count": null,
      "metadata": {
        "scrolled": false,
        "id": "L9UzNA9tIluP",
        "outputId": "8cbe0a93-f761-4b84-ece6-bdac988ac5fd"
      },
      "outputs": [
        {
          "data": {
            "image/png": "[encoded data removed]",
            "text/plain": [
              "<Figure size 720x360 with 1 Axes>"
            ]
          },
          "metadata": {
            "needs_background": "light"
          },
          "output_type": "display_data"
        }
      ],
      "source": [
        "# сгруппируем данные по дате и группе, посчитаем количество событий в каждой группе и построим диаграмму\n",
        "grouped_data = data.groupby(['event_date', 'exp_id']).size().unstack(fill_value=0)\n",
        "grouped_data.plot(kind='bar', figsize=(10, 5))\n",
        "\n",
        "plt.title('Количество событий в зависимости от времени и в разрезе группы')\n",
        "plt.ylabel('Количество событий')\n",
        "plt.xlabel('Дата')\n",
        "plt.xticks(rotation=45)\n",
        "\n",
        "plt.show()"
      ]
    },
    {
      "cell_type": "markdown",
      "metadata": {
        "id": "TzzbfYn-IluQ"
      },
      "source": [
        "Полными являются данные только за период от 1 до 7 августа 2019 года. Данные до 1 августа придется отбросить."
      ]
    },
    {
      "cell_type": "code",
      "execution_count": null,
      "metadata": {
        "id": "2ET0rTymIlui"
      },
      "outputs": [],
      "source": [
        "# выберем нужный период\n",
        "good_data = data.query('event_date >= \"2019-08-01\"')"
      ]
    },
    {
      "cell_type": "markdown",
      "metadata": {
        "id": "11WxJletIluk"
      },
      "source": [
        "### Много ли событий и пользователей было потеряно при отбросе старых данных?"
      ]
    },
    {
      "cell_type": "code",
      "execution_count": null,
      "metadata": {
        "id": "wnQYCyY4Iluk",
        "outputId": "2b842f68-ebdc-4bc7-8850-f78a73a2917c"
      },
      "outputs": [
        {
          "data": {
            "text/plain": [
              "17"
            ]
          },
          "execution_count": 18,
          "metadata": {},
          "output_type": "execute_result"
        }
      ],
      "source": [
        "user_lost = data['user_id'].nunique() - good_data['user_id'].nunique()\n",
        "user_lost"
      ]
    },
    {
      "cell_type": "code",
      "execution_count": null,
      "metadata": {
        "id": "G4URUK2PIlul",
        "outputId": "7806f459-524a-4a81-a2f2-7db6bc140c30"
      },
      "outputs": [
        {
          "data": {
            "text/plain": [
              "0.22513574361011784"
            ]
          },
          "execution_count": 19,
          "metadata": {},
          "output_type": "execute_result"
        }
      ],
      "source": [
        "# посчитаем также долю удаленных пользователей\n",
        "user_lost / data['user_id'].nunique() * 100"
      ]
    },
    {
      "cell_type": "markdown",
      "metadata": {
        "id": "FbbPCjzvIlum"
      },
      "source": [
        "Было потеряно 17 пользователей (= 0.22% от количества пользователей из первичного датасета)."
      ]
    },
    {
      "cell_type": "code",
      "execution_count": null,
      "metadata": {
        "id": "JHd_-JrPIluo",
        "outputId": "046ff840-f15a-45cb-e999-8935d6f95541"
      },
      "outputs": [
        {
          "data": {
            "text/plain": [
              "2826"
            ]
          },
          "execution_count": 20,
          "metadata": {},
          "output_type": "execute_result"
        }
      ],
      "source": [
        "event_lost = len(data) - len(good_data)\n",
        "event_lost"
      ]
    },
    {
      "cell_type": "code",
      "execution_count": null,
      "metadata": {
        "id": "cpxFjX9FIlup",
        "outputId": "83111472-d7b1-4bbf-dc34-26eedd1c885c"
      },
      "outputs": [
        {
          "data": {
            "text/plain": [
              "1.159560630741897"
            ]
          },
          "execution_count": 21,
          "metadata": {},
          "output_type": "execute_result"
        }
      ],
      "source": [
        "event_lost / len(data) * 100"
      ]
    },
    {
      "cell_type": "markdown",
      "metadata": {
        "id": "QB1mT6eBIluq"
      },
      "source": [
        "Было потеряно 2826 событий, что является 1.15% от изначального датасета."
      ]
    },
    {
      "cell_type": "code",
      "execution_count": null,
      "metadata": {
        "id": "xvS-OX_9Iluq",
        "outputId": "a467940a-b0b0-404f-8422-e8d47f8faeab"
      },
      "outputs": [
        {
          "data": {
            "text/plain": [
              "31.97332094504911"
            ]
          },
          "execution_count": 22,
          "metadata": {},
          "output_type": "execute_result"
        }
      ],
      "source": [
        "# среднее количество событий на 1 пользователя\n",
        "good_data.shape[0] / good_data['user_id'].nunique()"
      ]
    },
    {
      "cell_type": "markdown",
      "metadata": {
        "id": "UHtnXVtQIlur"
      },
      "source": [
        "### Проверим, что у нас есть пользователи из всех трёх экспериментальных групп."
      ]
    },
    {
      "cell_type": "code",
      "execution_count": null,
      "metadata": {
        "id": "RU3jiB1jIlus",
        "outputId": "8bfd4cac-c9a1-47b1-ea43-148b14e3c063"
      },
      "outputs": [
        {
          "data": {
            "text/plain": [
              "exp_id\n",
              "246    2484\n",
              "247    2513\n",
              "248    2537\n",
              "Name: user_id, dtype: int64"
            ]
          },
          "execution_count": 23,
          "metadata": {},
          "output_type": "execute_result"
        }
      ],
      "source": [
        "good_data.groupby(by=['exp_id'])['user_id'].nunique()"
      ]
    },
    {
      "cell_type": "markdown",
      "metadata": {
        "id": "U-YtRgn_Ilut"
      },
      "source": [
        "Во всех группах есть приблизительно одинаковое количество пользователей."
      ]
    },
    {
      "cell_type": "markdown",
      "metadata": {
        "id": "kf1rOW47Ilut"
      },
      "source": [
        "**Промежуточный вывод:**\n",
        "\n",
        "В логе 243 713 событий 5 видов, 7551 пользователь, на 1 пользователя в среднем приходится 32 события. Однако датасет пришлось урезать, так как до 1 августа 2019 года данные собирались не полные.\n",
        "\n",
        "В обновленном датасете 240 887 событий, 7534 пользователей, то есть на 1 пользователя в среднем приходится 31.9 события."
      ]
    },
    {
      "cell_type": "markdown",
      "metadata": {
        "id": "aMekn-RjIluv"
      },
      "source": [
        "## Изучим воронку событий\n",
        "<a id='the_destination3'></a>"
      ]
    },
    {
      "cell_type": "markdown",
      "metadata": {
        "id": "iSBh0TSMIluv"
      },
      "source": [
        "### Какие события есть в логах, как часто они встречаются? Отсортируем события по частоте."
      ]
    },
    {
      "cell_type": "code",
      "execution_count": null,
      "metadata": {
        "id": "ksM2S9B9Iluw",
        "outputId": "e9f166cd-a314-4353-a8b0-79048d64023d"
      },
      "outputs": [
        {
          "data": {
            "text/plain": [
              "event_name\n",
              "MainScreenAppear           117328\n",
              "OffersScreenAppear          46333\n",
              "CartScreenAppear            42303\n",
              "PaymentScreenSuccessful     33918\n",
              "Tutorial                     1005\n",
              "Name: event_name, dtype: int64"
            ]
          },
          "execution_count": 24,
          "metadata": {},
          "output_type": "execute_result"
        }
      ],
      "source": [
        "good_data.groupby(by='event_name')['event_name'].count().sort_values(ascending=False)"
      ]
    },
    {
      "cell_type": "markdown",
      "metadata": {
        "id": "c9Kw_ifGIlux"
      },
      "source": [
        "Есть 5 видов событий: MainScreenAppear, OffersScreenAppear, CartScreenAppear, PaymentScreenSuccessful, Tutorial.\n",
        "\n",
        "Чаще всего встречается событие \"MainScreenAppear\" (117 328) - появление главного экрана (или домашней страницы). Реже всего \"Tutorial\" (1005)."
      ]
    },
    {
      "cell_type": "markdown",
      "metadata": {
        "id": "Nujlo0wkIlux"
      },
      "source": [
        "### Посчитаем, сколько пользователей совершали каждое из этих событий. Отсортируем события по числу пользователей. Посчитаем долю пользователей, которые хоть раз совершали событие."
      ]
    },
    {
      "cell_type": "code",
      "execution_count": null,
      "metadata": {
        "id": "2lYuQLbNIluy",
        "outputId": "5927fde2-5fa3-4b60-a411-d8be92cdbc1e"
      },
      "outputs": [
        {
          "data": {
            "text/html": [
              "<div>\n",
              "<style scoped>\n",
              "    .dataframe tbody tr th:only-of-type {\n",
              "        vertical-align: middle;\n",
              "    }\n",
              "\n",
              "    .dataframe tbody tr th {\n",
              "        vertical-align: top;\n",
              "    }\n",
              "\n",
              "    .dataframe thead th {\n",
              "        text-align: right;\n",
              "    }\n",
              "</style>\n",
              "<table border=\"1\" class=\"dataframe\">\n",
              "  <thead>\n",
              "    <tr style=\"text-align: right;\">\n",
              "      <th></th>\n",
              "      <th>event_name</th>\n",
              "      <th>user_count</th>\n",
              "    </tr>\n",
              "  </thead>\n",
              "  <tbody>\n",
              "    <tr>\n",
              "      <th>0</th>\n",
              "      <td>MainScreenAppear</td>\n",
              "      <td>7419</td>\n",
              "    </tr>\n",
              "    <tr>\n",
              "      <th>1</th>\n",
              "      <td>OffersScreenAppear</td>\n",
              "      <td>4593</td>\n",
              "    </tr>\n",
              "    <tr>\n",
              "      <th>2</th>\n",
              "      <td>CartScreenAppear</td>\n",
              "      <td>3734</td>\n",
              "    </tr>\n",
              "    <tr>\n",
              "      <th>3</th>\n",
              "      <td>PaymentScreenSuccessful</td>\n",
              "      <td>3539</td>\n",
              "    </tr>\n",
              "    <tr>\n",
              "      <th>4</th>\n",
              "      <td>Tutorial</td>\n",
              "      <td>840</td>\n",
              "    </tr>\n",
              "  </tbody>\n",
              "</table>\n",
              "</div>"
            ],
            "text/plain": [
              "                event_name  user_count\n",
              "0         MainScreenAppear        7419\n",
              "1       OffersScreenAppear        4593\n",
              "2         CartScreenAppear        3734\n",
              "3  PaymentScreenSuccessful        3539\n",
              "4                 Tutorial         840"
            ]
          },
          "execution_count": 25,
          "metadata": {},
          "output_type": "execute_result"
        }
      ],
      "source": [
        "# создаздим таблицу по событиям и количеству пользователей\n",
        "user_events = good_data.groupby('event_name')['user_id'].nunique().sort_values(ascending=False).to_frame()\n",
        "user_events = user_events.rename(columns={'user_id':'user_count'})\n",
        "user_events.reset_index(inplace=True)\n",
        "\n",
        "user_events"
      ]
    },
    {
      "cell_type": "code",
      "execution_count": null,
      "metadata": {
        "id": "_bBtTJ30Iluz",
        "outputId": "913bbab5-a71f-4811-b721-0d24b966376e"
      },
      "outputs": [
        {
          "data": {
            "text/plain": [
              "7534"
            ]
          },
          "execution_count": 26,
          "metadata": {},
          "output_type": "execute_result"
        }
      ],
      "source": [
        "good_data['user_id'].nunique()"
      ]
    },
    {
      "cell_type": "code",
      "execution_count": null,
      "metadata": {
        "id": "17onC4MMIlu0",
        "outputId": "72284c9e-fa2e-4dfb-b414-d795486ba9af"
      },
      "outputs": [
        {
          "data": {
            "text/html": [
              "<div>\n",
              "<style scoped>\n",
              "    .dataframe tbody tr th:only-of-type {\n",
              "        vertical-align: middle;\n",
              "    }\n",
              "\n",
              "    .dataframe tbody tr th {\n",
              "        vertical-align: top;\n",
              "    }\n",
              "\n",
              "    .dataframe thead th {\n",
              "        text-align: right;\n",
              "    }\n",
              "</style>\n",
              "<table border=\"1\" class=\"dataframe\">\n",
              "  <thead>\n",
              "    <tr style=\"text-align: right;\">\n",
              "      <th></th>\n",
              "      <th>event_name</th>\n",
              "      <th>user_count</th>\n",
              "      <th>percent</th>\n",
              "    </tr>\n",
              "  </thead>\n",
              "  <tbody>\n",
              "    <tr>\n",
              "      <th>0</th>\n",
              "      <td>MainScreenAppear</td>\n",
              "      <td>7419</td>\n",
              "      <td>98.5</td>\n",
              "    </tr>\n",
              "    <tr>\n",
              "      <th>1</th>\n",
              "      <td>OffersScreenAppear</td>\n",
              "      <td>4593</td>\n",
              "      <td>61.0</td>\n",
              "    </tr>\n",
              "    <tr>\n",
              "      <th>2</th>\n",
              "      <td>CartScreenAppear</td>\n",
              "      <td>3734</td>\n",
              "      <td>49.6</td>\n",
              "    </tr>\n",
              "    <tr>\n",
              "      <th>3</th>\n",
              "      <td>PaymentScreenSuccessful</td>\n",
              "      <td>3539</td>\n",
              "      <td>47.0</td>\n",
              "    </tr>\n",
              "    <tr>\n",
              "      <th>4</th>\n",
              "      <td>Tutorial</td>\n",
              "      <td>840</td>\n",
              "      <td>11.1</td>\n",
              "    </tr>\n",
              "  </tbody>\n",
              "</table>\n",
              "</div>"
            ],
            "text/plain": [
              "                event_name  user_count  percent\n",
              "0         MainScreenAppear        7419     98.5\n",
              "1       OffersScreenAppear        4593     61.0\n",
              "2         CartScreenAppear        3734     49.6\n",
              "3  PaymentScreenSuccessful        3539     47.0\n",
              "4                 Tutorial         840     11.1"
            ]
          },
          "execution_count": 27,
          "metadata": {},
          "output_type": "execute_result"
        }
      ],
      "source": [
        "user_events['percent'] = (user_events['user_count'] / good_data['user_id'].nunique()).round(3) * 100\n",
        "user_events"
      ]
    },
    {
      "cell_type": "markdown",
      "metadata": {
        "id": "fqlE9A7MIlu0"
      },
      "source": [
        "Наибольшее количество пользователей проходит через основной экран (7419, 98.5%), затем идет OffersScreenAppear (4593), CartScreenAppear\t(3734), PaymentScreenSuccessful\t(3539), и наименьшее через Tutorial\t(840, 11.1%)."
      ]
    },
    {
      "cell_type": "markdown",
      "metadata": {
        "id": "wmIPgJZKIlu1"
      },
      "source": [
        "### Предположим, в каком порядке происходят события. Все ли они выстраиваются в последовательную цепочку? Их не нужно учитывать при расчёте воронки."
      ]
    },
    {
      "cell_type": "markdown",
      "metadata": {
        "id": "zI3kMI_hIlu2"
      },
      "source": [
        "Исходя из данных прошлого задания, можно предположить, что события происходят в следующем порядке:\n",
        "1. MainScreenAppear - главный экран,\n",
        "2. OffersScreenAppear - экран с предложением товаров/услуг/продуктов,\n",
        "3. CartScreenAppear - корзина с понравившимися товарами,\n",
        "4. PaymentScreenSuccessful - экран совершившейся оплаты покупки.\n",
        "\n",
        "Событие Tutorial не встраивается в эту цепочку, вероятно потому что интерфейс приложения достаточно понятен, чтобы только малому количеству пользователей потребовалось пройти курс обучения перед тем, как совершать покупки. Далее не будем учитывать это событие."
      ]
    },
    {
      "cell_type": "code",
      "execution_count": null,
      "metadata": {
        "id": "IVhWxFcQIlu2"
      },
      "outputs": [],
      "source": [
        "good_data = good_data.query('event_name != \"Tutorial\"')"
      ]
    },
    {
      "cell_type": "markdown",
      "metadata": {
        "id": "lrRLeC9qIlu3"
      },
      "source": [
        "### По воронке событий посчитаем, какая доля пользователей проходит на следующий шаг воронки (от числа пользователей на предыдущем).\n",
        "То есть для последовательности событий A → B → C посчитаем отношение числа пользователей с событием B к количеству пользователей с событием A, а также отношение числа пользователей с событием C к количеству пользователей с событием B."
      ]
    },
    {
      "cell_type": "code",
      "execution_count": null,
      "metadata": {
        "id": "JwGxQcRWIlu4"
      },
      "outputs": [],
      "source": [
        "user_events.drop(user_events.tail(1).index, inplace=True)"
      ]
    },
    {
      "cell_type": "code",
      "execution_count": null,
      "metadata": {
        "id": "7OZzUGbAIlu5",
        "outputId": "f1c2132a-cd8f-4841-c941-f3a9111019a8"
      },
      "outputs": [
        {
          "data": {
            "text/html": [
              "<div>\n",
              "<style scoped>\n",
              "    .dataframe tbody tr th:only-of-type {\n",
              "        vertical-align: middle;\n",
              "    }\n",
              "\n",
              "    .dataframe tbody tr th {\n",
              "        vertical-align: top;\n",
              "    }\n",
              "\n",
              "    .dataframe thead th {\n",
              "        text-align: right;\n",
              "    }\n",
              "</style>\n",
              "<table border=\"1\" class=\"dataframe\">\n",
              "  <thead>\n",
              "    <tr style=\"text-align: right;\">\n",
              "      <th></th>\n",
              "      <th>event_name</th>\n",
              "      <th>user_count</th>\n",
              "      <th>percent</th>\n",
              "      <th>conversion</th>\n",
              "    </tr>\n",
              "  </thead>\n",
              "  <tbody>\n",
              "    <tr>\n",
              "      <th>0</th>\n",
              "      <td>MainScreenAppear</td>\n",
              "      <td>7419</td>\n",
              "      <td>98.5</td>\n",
              "      <td>1.000000</td>\n",
              "    </tr>\n",
              "    <tr>\n",
              "      <th>1</th>\n",
              "      <td>OffersScreenAppear</td>\n",
              "      <td>4593</td>\n",
              "      <td>61.0</td>\n",
              "      <td>0.619086</td>\n",
              "    </tr>\n",
              "    <tr>\n",
              "      <th>2</th>\n",
              "      <td>CartScreenAppear</td>\n",
              "      <td>3734</td>\n",
              "      <td>49.6</td>\n",
              "      <td>0.812976</td>\n",
              "    </tr>\n",
              "    <tr>\n",
              "      <th>3</th>\n",
              "      <td>PaymentScreenSuccessful</td>\n",
              "      <td>3539</td>\n",
              "      <td>47.0</td>\n",
              "      <td>0.947777</td>\n",
              "    </tr>\n",
              "  </tbody>\n",
              "</table>\n",
              "</div>"
            ],
            "text/plain": [
              "                event_name  user_count  percent  conversion\n",
              "0         MainScreenAppear        7419     98.5    1.000000\n",
              "1       OffersScreenAppear        4593     61.0    0.619086\n",
              "2         CartScreenAppear        3734     49.6    0.812976\n",
              "3  PaymentScreenSuccessful        3539     47.0    0.947777"
            ]
          },
          "execution_count": 30,
          "metadata": {},
          "output_type": "execute_result"
        }
      ],
      "source": [
        "user_events['conversion'] = 1\n",
        "for i in range(1, 4):\n",
        "    user_events.iloc[i, user_events.columns.get_loc('conversion')] = user_events.iloc[i, user_events.columns.get_loc('user_count')] / user_events.iloc[i-1, user_events.columns.get_loc('user_count')]\n",
        "\n",
        "user_events"
      ]
    },
    {
      "cell_type": "markdown",
      "metadata": {
        "id": "SXNy3Si_Ilu5"
      },
      "source": [
        "После главного экрана на экран предложений попадает ~62% пользователей. Откуда в корзину переходит 81%, а после нее оплачивают покупку уже ~95% пользователей."
      ]
    },
    {
      "cell_type": "markdown",
      "metadata": {
        "id": "yjRHuUJsIlu6"
      },
      "source": [
        "### На каком шаге теряем больше всего пользователей?"
      ]
    },
    {
      "cell_type": "code",
      "execution_count": null,
      "metadata": {
        "id": "zV1rTAh-Ilu6",
        "outputId": "3d5a9fa0-a467-48b3-af9f-9f8362016e64"
      },
      "outputs": [
        {
          "data": {
            "image/png": "[encoded data removed]",
            "text/plain": [
              "<Figure size 720x360 with 1 Axes>"
            ]
          },
          "metadata": {
            "needs_background": "light"
          },
          "output_type": "display_data"
        }
      ],
      "source": [
        "plt.figure(figsize=(10, 5))\n",
        "plt.bar(user_events['event_name'], user_events['user_count'])\n",
        "plt.title('Количество пользователей по событиям')\n",
        "plt.xlabel('События')\n",
        "plt.ylabel('Количество пользователей')\n",
        "plt.xticks(rotation=45)\n",
        "plt.show()"
      ]
    },
    {
      "cell_type": "markdown",
      "metadata": {
        "id": "twux6nf1Ilu7"
      },
      "source": [
        "Наибольшее количество пользователей теряется на переходе с главного экрана на экран предложений."
      ]
    },
    {
      "cell_type": "markdown",
      "metadata": {
        "id": "zMdTUdbjIlu8"
      },
      "source": [
        "### Какая доля пользователей доходит от первого события до оплаты?"
      ]
    },
    {
      "cell_type": "code",
      "execution_count": null,
      "metadata": {
        "id": "5zBFBXEaIlu9",
        "outputId": "616d7fd0-090c-4d07-e9ca-46fbb8deab7f"
      },
      "outputs": [
        {
          "data": {
            "text/plain": [
              "47.70184661005526"
            ]
          },
          "execution_count": 32,
          "metadata": {},
          "output_type": "execute_result"
        }
      ],
      "source": [
        "# посчитаем долю пользователей\n",
        "user_events.loc[3, 'user_count'] / user_events.loc[0, 'user_count'] * 100"
      ]
    },
    {
      "cell_type": "markdown",
      "metadata": {
        "id": "otE615ERIlu_"
      },
      "source": [
        "От первого события (главный экран) до последнего события (оплата покупки) доходит 47.7% пользователей."
      ]
    },
    {
      "cell_type": "markdown",
      "metadata": {
        "id": "CLIDVDWuIlvA"
      },
      "source": [
        "**Промежуточный вывод:**\n",
        "\n",
        "Наибольшее количество пользователей проходит через основной экран (7419, 98.5%), затем идет OffersScreenAppear (4593), CartScreenAppear (3734), PaymentScreenSuccessful (3539), и наименьшее через Tutorial (840, 11.1%). Из цепочки уберем событие Tutorial, потому что оно не встраивается в эту цепочку.\n",
        "\n",
        "После главного экрана на экран предложений попадает ~62% пользователей. Откуда в корзину переходит 81%, а после нее оплачивают покупку уже ~95% пользователей. Наибольшее количество пользователей теряется на переходе с главного экрана на экран предложений. От первого события (главный экран) до последнего события (оплата покупки) доходит 47.7% пользователей."
      ]
    },
    {
      "cell_type": "markdown",
      "metadata": {
        "id": "AHdohkMrIlvE"
      },
      "source": [
        "##  Изучим результаты эксперимента\n",
        "<a id='the_destination4'></a>"
      ]
    },
    {
      "cell_type": "markdown",
      "metadata": {
        "id": "sT6RFuv7IlvE"
      },
      "source": [
        "### Сколько пользователей в каждой экспериментальной группе?"
      ]
    },
    {
      "cell_type": "code",
      "execution_count": null,
      "metadata": {
        "id": "J7MNdKONIlvF",
        "outputId": "d4127e4c-07c1-4fe0-f8eb-cb260906a64c"
      },
      "outputs": [
        {
          "data": {
            "text/plain": [
              "exp_id\n",
              "246    2483\n",
              "247    2512\n",
              "248    2535\n",
              "Name: user_id, dtype: int64"
            ]
          },
          "execution_count": 33,
          "metadata": {},
          "output_type": "execute_result"
        }
      ],
      "source": [
        "good_data.groupby('exp_id')['user_id'].nunique()"
      ]
    },
    {
      "cell_type": "markdown",
      "metadata": {
        "id": "6YGaFpeDIlvG"
      },
      "source": [
        "В каждой экспериментальной группе около 2500 пользователей."
      ]
    },
    {
      "cell_type": "markdown",
      "metadata": {
        "id": "h06UCz2JIlvG"
      },
      "source": [
        "### Есть 2 контрольные группы для А/А-эксперимента, чтобы проверить корректность всех механизмов и расчётов. Проверим, находят ли статистические критерии разницу между выборками 246 и 247."
      ]
    },
    {
      "cell_type": "code",
      "execution_count": null,
      "metadata": {
        "id": "wKImXLdTIlvH",
        "outputId": "7a43c9b6-b774-4faa-fb74-7c6bbf16f4f6"
      },
      "outputs": [
        {
          "name": "stdout",
          "output_type": "stream",
          "text": [
            "Разница между выборками = 1.15%\n"
          ]
        }
      ],
      "source": [
        "group_246 = good_data[good_data['exp_id'] == 246].groupby('exp_id')['user_id'].nunique().reset_index()\n",
        "group_247 = good_data[good_data['exp_id'] == 247].groupby('exp_id')['user_id'].nunique().reset_index()\n",
        "\n",
        "ratio = 1 - group_246.iloc[0]['user_id'] / group_247.iloc[0]['user_id']\n",
        "print('Разница между выборками = {:.2%}'.format(ratio))"
      ]
    },
    {
      "cell_type": "markdown",
      "metadata": {
        "id": "zE-bVjDPIlvH"
      },
      "source": [
        "Разница между группами незначительная."
      ]
    },
    {
      "cell_type": "markdown",
      "metadata": {
        "id": "oBsBNNekIlvJ"
      },
      "source": [
        "### Выберем самое популярное событие. Посчитаем число пользователей, совершивших это событие в каждой из контрольных групп, и долю пользователей, совершивших это событие. Проверим, будет ли отличие между группами статистически достоверным.\n",
        "\n",
        "Повторим то же самое для всех других событий. Можно ли сказать, что разбиение на группы работает корректно?\n",
        "\n",
        "Самым популярным событием является посещение главной страницы."
      ]
    },
    {
      "cell_type": "code",
      "execution_count": null,
      "metadata": {
        "id": "N7eCtqPNIlvK",
        "outputId": "dd95c836-8387-49a1-ba2d-80c70e6c2ec3"
      },
      "outputs": [
        {
          "data": {
            "text/html": [
              "<div>\n",
              "<style scoped>\n",
              "    .dataframe tbody tr th:only-of-type {\n",
              "        vertical-align: middle;\n",
              "    }\n",
              "\n",
              "    .dataframe tbody tr th {\n",
              "        vertical-align: top;\n",
              "    }\n",
              "\n",
              "    .dataframe thead th {\n",
              "        text-align: right;\n",
              "    }\n",
              "</style>\n",
              "<table border=\"1\" class=\"dataframe\">\n",
              "  <thead>\n",
              "    <tr style=\"text-align: right;\">\n",
              "      <th></th>\n",
              "      <th>exp_id</th>\n",
              "      <th>user_id</th>\n",
              "      <th>percent</th>\n",
              "    </tr>\n",
              "  </thead>\n",
              "  <tbody>\n",
              "    <tr>\n",
              "      <th>0</th>\n",
              "      <td>246</td>\n",
              "      <td>2450</td>\n",
              "      <td>32.5</td>\n",
              "    </tr>\n",
              "    <tr>\n",
              "      <th>1</th>\n",
              "      <td>247</td>\n",
              "      <td>2476</td>\n",
              "      <td>32.9</td>\n",
              "    </tr>\n",
              "    <tr>\n",
              "      <th>2</th>\n",
              "      <td>248</td>\n",
              "      <td>2493</td>\n",
              "      <td>33.1</td>\n",
              "    </tr>\n",
              "  </tbody>\n",
              "</table>\n",
              "</div>"
            ],
            "text/plain": [
              "   exp_id  user_id  percent\n",
              "0     246     2450     32.5\n",
              "1     247     2476     32.9\n",
              "2     248     2493     33.1"
            ]
          },
          "execution_count": 35,
          "metadata": {},
          "output_type": "execute_result"
        }
      ],
      "source": [
        "main_screen = good_data[good_data['event_name'] == \"MainScreenAppear\"].groupby('exp_id')['user_id'].nunique().to_frame().reset_index()\n",
        "main_screen['percent'] = (main_screen['user_id'] / good_data['user_id'].nunique()).round(3) * 100\n",
        "main_screen"
      ]
    },
    {
      "cell_type": "markdown",
      "metadata": {
        "id": "d1qktx1uIlvK"
      },
      "source": [
        "Цифровые значения показывают нам, что в каждой группе около 2450-2500 (32-33%) пользователей совершили самое популярное событие, проверим, будет ли отличие между группами статистически достоверным. Попробуем сделать сразу с проверкой других событий."
      ]
    },
    {
      "cell_type": "markdown",
      "metadata": {
        "id": "8ZKZqk6ZIlvL"
      },
      "source": [
        "Сформулируем гипотезы\n",
        "\n",
        "Н0: Различий между долями пользователей разных групп при совершении события нет.\n",
        "\n",
        "Н1: Различия между долями пользователей разных групп при совершении события есть.\n",
        "\n",
        "alpha возьмем 0.05."
      ]
    },
    {
      "cell_type": "code",
      "execution_count": null,
      "metadata": {
        "id": "hJadUXFyIlvM"
      },
      "outputs": [],
      "source": [
        "#напишем функцию для статистической значимости\n",
        "\n",
        "def z_test(dataframe, exp_group, alpha):\n",
        "    #пользователи в каждой группе\n",
        "    users = [dataframe.query('exp_id == @group')['user_id'].nunique() for group in exp_group]\n",
        "    #перебор экспериментальных групп по событиям и количество пользователей\n",
        "    for event in dataframe.event_name.unique():\n",
        "        events = [dataframe.query('exp_id == %d and event_name == \"%s\"' % (group, event))['user_id'].nunique() for group in exp_group]\n",
        "\n",
        "        p1 = events[0] / users[0]\n",
        "        p2 = events[1] / users[1]\n",
        "\n",
        "        p_combined = sum(events) / sum(users)\n",
        "\n",
        "        difference = p1 - p2\n",
        "\n",
        "        z_value = difference / math.sqrt(p_combined * (1 - p_combined) * (1 / users[0] + 1 / users[1]))\n",
        "\n",
        "        distr = st.norm(0, 1)\n",
        "        p_value = (1 - distr.cdf(abs(z_value))) * 2\n",
        "\n",
        "        print('Проверка групп:', exp_group)\n",
        "        print('Название события:', event)\n",
        "        print('p-value: {p_value:}'.format(p_value=p_value))\n",
        "\n",
        "        if p_value < alpha:\n",
        "            print('Отвергаем нулевую гипотезу: Различия между долями есть')\n",
        "        else:\n",
        "            print('Не получилось отвергнуть нулевую гипотезу: Различий между долями нет')\n",
        "        print(' ')"
      ]
    },
    {
      "cell_type": "markdown",
      "metadata": {
        "id": "N4qTVhnGIlvO"
      },
      "source": [
        "Проверим гипотезы по равенству долей 246 и 247 групп, как равенству двух средних друг другу."
      ]
    },
    {
      "cell_type": "code",
      "execution_count": null,
      "metadata": {
        "scrolled": false,
        "id": "Jjky_diPIlvO",
        "outputId": "99f8de1d-1af1-45f7-95f3-9c40dbac3173"
      },
      "outputs": [
        {
          "name": "stdout",
          "output_type": "stream",
          "text": [
            "Проверка групп: [246, 247]\n",
            "Название события: MainScreenAppear\n",
            "p-value: 0.7526703436483038\n",
            "Не получилось отвергнуть нулевую гипотезу: Различий между долями нет\n",
            " \n",
            "Проверка групп: [246, 247]\n",
            "Название события: OffersScreenAppear\n",
            "p-value: 0.24786096925282264\n",
            "Не получилось отвергнуть нулевую гипотезу: Различий между долями нет\n",
            " \n",
            "Проверка групп: [246, 247]\n",
            "Название события: CartScreenAppear\n",
            "p-value: 0.22867643757335676\n",
            "Не получилось отвергнуть нулевую гипотезу: Различий между долями нет\n",
            " \n",
            "Проверка групп: [246, 247]\n",
            "Название события: PaymentScreenSuccessful\n",
            "p-value: 0.11446627829276612\n",
            "Не получилось отвергнуть нулевую гипотезу: Различий между долями нет\n",
            " \n"
          ]
        }
      ],
      "source": [
        "z_test(good_data, [246, 247], .05)"
      ]
    },
    {
      "cell_type": "markdown",
      "metadata": {
        "id": "inaD0RuSIlvP"
      },
      "source": [
        "Разбиение на группы работает корректно, тест показал, что статистически значимых различий между группами нет."
      ]
    },
    {
      "cell_type": "markdown",
      "metadata": {
        "id": "XcIvls38IlvQ"
      },
      "source": [
        "### Аналогично поступим с группой с изменённым шрифтом.\n",
        "\n",
        "Сравним результаты с каждой из контрольных групп в отдельности по каждому событию. Сравним результаты с объединённой контрольной группой. Какие выводы из эксперимента можно сделать?"
      ]
    },
    {
      "cell_type": "code",
      "execution_count": null,
      "metadata": {
        "id": "6hQcY0OGIlvQ",
        "outputId": "113723a1-eb4b-480d-a35f-2cdd9b2ec963"
      },
      "outputs": [
        {
          "name": "stdout",
          "output_type": "stream",
          "text": [
            "Проверка групп: [246, 248]\n",
            "Название события: MainScreenAppear\n",
            "p-value: 0.3387114076159288\n",
            "Не получилось отвергнуть нулевую гипотезу: Различий между долями нет\n",
            " \n",
            "Проверка групп: [246, 248]\n",
            "Название события: OffersScreenAppear\n",
            "p-value: 0.21442476639710506\n",
            "Не получилось отвергнуть нулевую гипотезу: Различий между долями нет\n",
            " \n",
            "Проверка групп: [246, 248]\n",
            "Название события: CartScreenAppear\n",
            "p-value: 0.08067367598823139\n",
            "Не получилось отвергнуть нулевую гипотезу: Различий между долями нет\n",
            " \n",
            "Проверка групп: [246, 248]\n",
            "Название события: PaymentScreenSuccessful\n",
            "p-value: 0.21693033984516674\n",
            "Не получилось отвергнуть нулевую гипотезу: Различий между долями нет\n",
            " \n"
          ]
        }
      ],
      "source": [
        "# проверим равенство долей 246 и 248\n",
        "z_test(good_data, [246, 248], .05)"
      ]
    },
    {
      "cell_type": "markdown",
      "metadata": {
        "id": "59L5_lZTIlvR"
      },
      "source": [
        "Статистически значимых различий между группами (**первая** контрольная группа и группа с измененным шрифтом) нет."
      ]
    },
    {
      "cell_type": "code",
      "execution_count": null,
      "metadata": {
        "id": "vxAslt6XIlvS",
        "outputId": "2c306df9-3cd1-4fb0-fa30-3084bfab73a5"
      },
      "outputs": [
        {
          "name": "stdout",
          "output_type": "stream",
          "text": [
            "Проверка групп: [247, 248]\n",
            "Название события: MainScreenAppear\n",
            "p-value: 0.5194964354051703\n",
            "Не получилось отвергнуть нулевую гипотезу: Различий между долями нет\n",
            " \n",
            "Проверка групп: [247, 248]\n",
            "Название события: OffersScreenAppear\n",
            "p-value: 0.9333751305879443\n",
            "Не получилось отвергнуть нулевую гипотезу: Различий между долями нет\n",
            " \n",
            "Проверка групп: [247, 248]\n",
            "Название события: CartScreenAppear\n",
            "p-value: 0.5878284605111943\n",
            "Не получилось отвергнуть нулевую гипотезу: Различий между долями нет\n",
            " \n",
            "Проверка групп: [247, 248]\n",
            "Название события: PaymentScreenSuccessful\n",
            "p-value: 0.7275718682261119\n",
            "Не получилось отвергнуть нулевую гипотезу: Различий между долями нет\n",
            " \n"
          ]
        }
      ],
      "source": [
        "# проверим равенство долей 247 и 248\n",
        "z_test(good_data, [247, 248], .05)"
      ]
    },
    {
      "cell_type": "markdown",
      "metadata": {
        "id": "HEKcrkZQIlvT"
      },
      "source": [
        "Статистически значимых различий между группами (**вторая** контрольная группа и группа с измененным шрифтом) нет."
      ]
    },
    {
      "cell_type": "code",
      "execution_count": null,
      "metadata": {
        "id": "DU943DJjIlvT",
        "outputId": "aaad0cbe-4d78-43cc-fd61-2a394724df2c"
      },
      "outputs": [
        {
          "name": "stdout",
          "output_type": "stream",
          "text": [
            "Проверка групп: [246, 248]\n",
            "Название события: MainScreenAppear\n",
            "p-value: 0.3486684291093256\n",
            "Не получилось отвергнуть нулевую гипотезу: Различий между долями нет\n",
            " \n",
            "Проверка групп: [246, 248]\n",
            "Название события: OffersScreenAppear\n",
            "p-value: 0.44582745409482394\n",
            "Не получилось отвергнуть нулевую гипотезу: Различий между долями нет\n",
            " \n",
            "Проверка групп: [246, 248]\n",
            "Название события: CartScreenAppear\n",
            "p-value: 0.18683558686831558\n",
            "Не получилось отвергнуть нулевую гипотезу: Различий между долями нет\n",
            " \n",
            "Проверка групп: [246, 248]\n",
            "Название события: PaymentScreenSuccessful\n",
            "p-value: 0.6107918742187335\n",
            "Не получилось отвергнуть нулевую гипотезу: Различий между долями нет\n",
            " \n"
          ]
        }
      ],
      "source": [
        "# проверим равенство долей объединенных 246+247 и 248\n",
        "\n",
        "exp_groups_together = good_data.copy()\n",
        "exp_groups_together['exp_id'].replace({247: 246}, inplace=True)\n",
        "\n",
        "z_test(exp_groups_together, [246, 248], .05)"
      ]
    },
    {
      "cell_type": "markdown",
      "metadata": {
        "id": "96UQ6TzyIlvU"
      },
      "source": [
        "Статистически значимых различий между группами (**объединенные** контрольные группы и группа с измененным шрифтом) нет."
      ]
    },
    {
      "cell_type": "markdown",
      "metadata": {
        "id": "VAElksS2IlvU"
      },
      "source": [
        "### Какой уровень значимости был выбран при проверке статистических гипотез выше?\n",
        "Посчитаем, сколько проверок статистических гипотез было сделано. При уровне значимости 0.1 в 10% случаев можно ошибочно отклонить нулевую гипотезу при условии, что она верна. Какой уровень значимости стоит применить? Можно изменить его, проделать предыдущие пункты и проверить выводы."
      ]
    },
    {
      "cell_type": "markdown",
      "metadata": {
        "id": "a2WQBZJ6IlvV"
      },
      "source": [
        "**Был выбран уровень значимости 0.05. Всего было проведено 16 проверок статистических гипотез.**\n",
        "\n",
        "Применим метод Бонферрони. Необходимо поделить уровень значимости ɑ на число гипотез.\n",
        "В нашем случае это:"
      ]
    },
    {
      "cell_type": "code",
      "execution_count": null,
      "metadata": {
        "id": "xMsQnMWZIlvW",
        "outputId": "459f258d-6e2d-4bc2-8321-3c653c45c638"
      },
      "outputs": [
        {
          "data": {
            "text/plain": [
              "0.003125"
            ]
          },
          "execution_count": 41,
          "metadata": {},
          "output_type": "execute_result"
        }
      ],
      "source": [
        "0.05 / 16"
      ]
    },
    {
      "cell_type": "markdown",
      "metadata": {
        "id": "48Yu4j2IIlvW"
      },
      "source": [
        "Поэтому уровень значимости, который следует применить, равен 0.003125. Однако во всех проверках за исключением одной (проверка групп 246 и 248 по событию \"CartScreenAppear\", в котором p-value = 0.08) p-value значительно выше изначального уровня значомсти в 0.05."
      ]
    },
    {
      "cell_type": "markdown",
      "metadata": {
        "id": "nx5Xr9xGIlvX"
      },
      "source": [
        "**Промежуточный вывод:**\n",
        "\n",
        "В каждой экспериментальной группе около 2500 пользователей. Между долями всех трех групп по событиям различий нет, изменение шрифта никак не повлияло на пользователей."
      ]
    },
    {
      "cell_type": "markdown",
      "metadata": {
        "id": "vQmSx4s0IlvZ"
      },
      "source": [
        "## Вывод\n",
        "<a id='the_destination5'></a>"
      ]
    },
    {
      "cell_type": "markdown",
      "metadata": {
        "id": "8Fynalz6IlvZ"
      },
      "source": [
        "В рамках данного проекта перед намстояла задача изучения поведения пользователей приложения, а именно групп A/A/B после внедрения измененного шрифта. Изначальный датасет состоял из 244 126 строк, 4 столбцов:\n",
        "\n",
        "- `EventName` — название события;\n",
        "- `DeviceIDHash` — уникальный идентификатор пользователя;\n",
        "- `EventTimestamp` — время события;\n",
        "- `ExpId` — номер эксперимента: 246 и 247 — контрольные группы, а 248 — экспериментальная.\n",
        "\n",
        "Была проведена предобработка, в ходе которой не были обнаружены пропуски, но были найдены и удалены 413 дубликатов, которые вероятно появились в связи с технической ошибкой. Для дальнейшей работы также были изменены названия столбцов, формат даты.\n",
        "\n",
        "**Промежуточные выводы**\n",
        "\n",
        "Информация о логе:\n",
        "1. В логе 243 713 событий 5 видов, 7551 пользователь, на 1 пользователя в среднем приходится 32 события. Однако датасет пришлось урезать, так как до 1 августа 2019 года данные собирались не полные.\n",
        "2. В обновленном датасете 240 887 событий, 7534 пользователей, то есть на 1 пользователя в среднем приходится 31.9 события.\n",
        "\n",
        "Воронка событий:\n",
        "1. Наибольшее количество пользователей проходит через основной экран (7419, 98.5%), затем идет OffersScreenAppear (4593), CartScreenAppear (3734), PaymentScreenSuccessful (3539), и наименьшее через Tutorial (840, 11.1%). Из цепочки уберем событие Tutorial, потому что оно не встраивается в эту цепочку.\n",
        "2. После главного экрана на экран предложений попадает ~62% пользователей. Откуда в корзину переходит 81%, а после нее оплачивают покупку уже ~95% пользователей. Наибольшее количество пользователей теряется на переходе с главного экрана на экран предложений. От первого события (главный экран) до последнего события (оплата покупки) доходит 47.7% пользователей.\n",
        "\n",
        "Результаты A/A/B-теста:\n",
        "- В каждой экспериментальной группе около 2500 пользователей. Между долями всех трех групп по разным события различий нет, изменение шрифта никак не повлияло на поведение пользователей.\n",
        "\n",
        "На основании анализа рекомендуется остановить тест и зафиксировать отсутствие различий между группами."
      ]
    }
  ],
  "metadata": {
    "ExecuteTimeLog": [
      {
        "duration": 48,
        "start_time": "2023-10-21T18:11:34.944Z"
      },
      {
        "duration": 396,
        "start_time": "2023-10-21T18:11:54.834Z"
      },
      {
        "duration": 668,
        "start_time": "2023-10-21T18:11:55.886Z"
      },
      {
        "duration": 24,
        "start_time": "2023-10-21T18:11:57.478Z"
      },
      {
        "duration": 33,
        "start_time": "2023-10-21T18:12:04.858Z"
      },
      {
        "duration": 192,
        "start_time": "2023-10-21T18:14:03.190Z"
      },
      {
        "duration": 25,
        "start_time": "2023-10-21T18:14:03.937Z"
      },
      {
        "duration": 105,
        "start_time": "2023-10-21T18:22:49.030Z"
      },
      {
        "duration": 30,
        "start_time": "2023-10-21T18:24:20.135Z"
      },
      {
        "duration": 23,
        "start_time": "2023-10-21T18:24:24.009Z"
      },
      {
        "duration": 3,
        "start_time": "2023-10-21T18:24:35.907Z"
      },
      {
        "duration": 208,
        "start_time": "2023-10-21T18:24:35.912Z"
      },
      {
        "duration": 26,
        "start_time": "2023-10-21T18:24:36.122Z"
      },
      {
        "duration": 133,
        "start_time": "2023-10-21T18:24:36.150Z"
      },
      {
        "duration": 17,
        "start_time": "2023-10-21T18:24:36.285Z"
      },
      {
        "duration": 47,
        "start_time": "2023-10-21T18:24:36.304Z"
      },
      {
        "duration": 25,
        "start_time": "2023-10-21T18:24:36.353Z"
      },
      {
        "duration": 7,
        "start_time": "2023-10-21T18:25:17.085Z"
      },
      {
        "duration": 18,
        "start_time": "2023-10-21T18:25:17.847Z"
      },
      {
        "duration": 62,
        "start_time": "2023-10-21T18:26:19.028Z"
      },
      {
        "duration": 57,
        "start_time": "2023-10-21T18:26:23.049Z"
      },
      {
        "duration": 57,
        "start_time": "2023-10-21T18:28:17.049Z"
      },
      {
        "duration": 64,
        "start_time": "2023-10-21T18:28:57.519Z"
      },
      {
        "duration": 68,
        "start_time": "2023-10-21T18:29:09.195Z"
      },
      {
        "duration": 94,
        "start_time": "2023-10-21T18:56:11.742Z"
      },
      {
        "duration": 14,
        "start_time": "2023-10-21T18:56:15.577Z"
      },
      {
        "duration": 12,
        "start_time": "2023-10-21T18:58:03.142Z"
      },
      {
        "duration": 19,
        "start_time": "2023-10-21T18:58:09.481Z"
      },
      {
        "duration": 12,
        "start_time": "2023-10-21T18:58:21.748Z"
      },
      {
        "duration": 12,
        "start_time": "2023-10-21T18:59:16.262Z"
      },
      {
        "duration": 22,
        "start_time": "2023-10-21T18:59:37.047Z"
      },
      {
        "duration": 23,
        "start_time": "2023-10-21T19:03:00.656Z"
      },
      {
        "duration": 19,
        "start_time": "2023-10-21T19:06:27.690Z"
      },
      {
        "duration": 9,
        "start_time": "2023-10-21T19:09:03.968Z"
      },
      {
        "duration": 6,
        "start_time": "2023-10-21T19:09:09.359Z"
      },
      {
        "duration": 6,
        "start_time": "2023-10-21T19:09:13.424Z"
      },
      {
        "duration": 6,
        "start_time": "2023-10-21T19:09:18.940Z"
      },
      {
        "duration": 9,
        "start_time": "2023-10-21T19:09:32.868Z"
      },
      {
        "duration": 9,
        "start_time": "2023-10-21T19:11:06.492Z"
      },
      {
        "duration": 7,
        "start_time": "2023-10-21T19:11:13.970Z"
      },
      {
        "duration": 12,
        "start_time": "2023-10-21T19:13:54.541Z"
      },
      {
        "duration": 5,
        "start_time": "2023-10-21T19:18:10.323Z"
      },
      {
        "duration": 6,
        "start_time": "2023-10-21T19:18:20.227Z"
      },
      {
        "duration": 5,
        "start_time": "2023-10-21T19:18:29.130Z"
      },
      {
        "duration": 4,
        "start_time": "2023-10-21T19:18:30.952Z"
      },
      {
        "duration": 695,
        "start_time": "2023-10-21T19:19:32.143Z"
      },
      {
        "duration": 17,
        "start_time": "2023-10-21T19:19:36.984Z"
      },
      {
        "duration": 198,
        "start_time": "2023-10-21T19:19:43.897Z"
      },
      {
        "duration": 49,
        "start_time": "2023-10-21T19:33:27.540Z"
      },
      {
        "duration": 407,
        "start_time": "2023-10-21T19:33:31.729Z"
      },
      {
        "duration": 520,
        "start_time": "2023-10-21T19:33:32.137Z"
      },
      {
        "duration": 32,
        "start_time": "2023-10-21T19:33:32.659Z"
      },
      {
        "duration": 36,
        "start_time": "2023-10-21T19:33:32.693Z"
      },
      {
        "duration": 22,
        "start_time": "2023-10-21T19:33:32.731Z"
      },
      {
        "duration": 66,
        "start_time": "2023-10-21T19:33:32.755Z"
      },
      {
        "duration": 83,
        "start_time": "2023-10-21T19:33:32.823Z"
      },
      {
        "duration": 13,
        "start_time": "2023-10-21T19:33:32.908Z"
      },
      {
        "duration": 20,
        "start_time": "2023-10-21T19:33:32.923Z"
      },
      {
        "duration": 20,
        "start_time": "2023-10-21T19:33:32.945Z"
      },
      {
        "duration": 35,
        "start_time": "2023-10-21T19:33:32.967Z"
      },
      {
        "duration": 21,
        "start_time": "2023-10-21T19:33:33.004Z"
      },
      {
        "duration": 7,
        "start_time": "2023-10-21T19:33:33.026Z"
      },
      {
        "duration": 10,
        "start_time": "2023-10-21T19:33:33.034Z"
      },
      {
        "duration": 39,
        "start_time": "2023-10-21T19:33:33.046Z"
      },
      {
        "duration": 532,
        "start_time": "2023-10-21T19:34:48.571Z"
      },
      {
        "duration": 3,
        "start_time": "2023-10-21T19:35:10.129Z"
      },
      {
        "duration": 16,
        "start_time": "2023-10-21T19:35:42.654Z"
      },
      {
        "duration": 3,
        "start_time": "2023-10-21T19:35:57.481Z"
      },
      {
        "duration": 184,
        "start_time": "2023-10-21T19:35:57.487Z"
      },
      {
        "duration": 33,
        "start_time": "2023-10-21T19:35:57.673Z"
      },
      {
        "duration": 5,
        "start_time": "2023-10-21T19:35:57.708Z"
      },
      {
        "duration": 23,
        "start_time": "2023-10-21T19:35:57.715Z"
      },
      {
        "duration": 80,
        "start_time": "2023-10-21T19:35:57.740Z"
      },
      {
        "duration": 68,
        "start_time": "2023-10-21T19:35:57.822Z"
      },
      {
        "duration": 24,
        "start_time": "2023-10-21T19:35:57.891Z"
      },
      {
        "duration": 40,
        "start_time": "2023-10-21T19:35:57.918Z"
      },
      {
        "duration": 21,
        "start_time": "2023-10-21T19:35:57.960Z"
      },
      {
        "duration": 23,
        "start_time": "2023-10-21T19:35:57.983Z"
      },
      {
        "duration": 9,
        "start_time": "2023-10-21T19:35:58.009Z"
      },
      {
        "duration": 6,
        "start_time": "2023-10-21T19:35:58.020Z"
      },
      {
        "duration": 12,
        "start_time": "2023-10-21T19:35:58.029Z"
      },
      {
        "duration": 19,
        "start_time": "2023-10-21T19:35:58.043Z"
      },
      {
        "duration": 79,
        "start_time": "2023-10-21T19:36:02.563Z"
      },
      {
        "duration": 8,
        "start_time": "2023-10-21T19:36:10.335Z"
      },
      {
        "duration": 8,
        "start_time": "2023-10-21T19:36:17.309Z"
      },
      {
        "duration": 84,
        "start_time": "2023-10-21T19:36:52.000Z"
      },
      {
        "duration": 84,
        "start_time": "2023-10-21T19:37:05.685Z"
      },
      {
        "duration": 75,
        "start_time": "2023-10-21T19:37:36.377Z"
      },
      {
        "duration": 99,
        "start_time": "2023-10-21T19:37:42.198Z"
      },
      {
        "duration": 73,
        "start_time": "2023-10-21T19:38:24.802Z"
      },
      {
        "duration": 135,
        "start_time": "2023-10-21T19:38:43.491Z"
      },
      {
        "duration": 185,
        "start_time": "2023-10-21T19:38:46.433Z"
      },
      {
        "duration": 73,
        "start_time": "2023-10-21T19:39:52.350Z"
      },
      {
        "duration": 3,
        "start_time": "2023-10-21T19:40:18.068Z"
      },
      {
        "duration": 191,
        "start_time": "2023-10-21T19:40:18.072Z"
      },
      {
        "duration": 37,
        "start_time": "2023-10-21T19:40:18.265Z"
      },
      {
        "duration": 5,
        "start_time": "2023-10-21T19:40:18.304Z"
      },
      {
        "duration": 36,
        "start_time": "2023-10-21T19:40:18.311Z"
      },
      {
        "duration": 64,
        "start_time": "2023-10-21T19:40:18.349Z"
      },
      {
        "duration": 69,
        "start_time": "2023-10-21T19:40:18.415Z"
      },
      {
        "duration": 25,
        "start_time": "2023-10-21T19:40:18.486Z"
      },
      {
        "duration": 22,
        "start_time": "2023-10-21T19:40:18.513Z"
      },
      {
        "duration": 21,
        "start_time": "2023-10-21T19:40:18.538Z"
      },
      {
        "duration": 19,
        "start_time": "2023-10-21T19:40:18.561Z"
      },
      {
        "duration": 10,
        "start_time": "2023-10-21T19:40:18.602Z"
      },
      {
        "duration": 12,
        "start_time": "2023-10-21T19:40:18.614Z"
      },
      {
        "duration": 26,
        "start_time": "2023-10-21T19:40:18.628Z"
      },
      {
        "duration": 72,
        "start_time": "2023-10-21T19:40:18.655Z"
      },
      {
        "duration": 197,
        "start_time": "2023-10-21T19:40:29.071Z"
      },
      {
        "duration": 222,
        "start_time": "2023-10-21T19:40:58.482Z"
      },
      {
        "duration": 257,
        "start_time": "2023-10-21T19:41:09.872Z"
      },
      {
        "duration": 178,
        "start_time": "2023-10-21T19:41:17.515Z"
      },
      {
        "duration": 198,
        "start_time": "2023-10-21T19:41:51.714Z"
      },
      {
        "duration": 212,
        "start_time": "2023-10-21T19:42:36.008Z"
      },
      {
        "duration": 5716,
        "start_time": "2023-10-21T19:43:21.706Z"
      },
      {
        "duration": 50,
        "start_time": "2023-10-21T19:47:03.930Z"
      },
      {
        "duration": 681,
        "start_time": "2023-10-21T19:47:09.288Z"
      },
      {
        "duration": 546,
        "start_time": "2023-10-21T19:47:09.970Z"
      },
      {
        "duration": 30,
        "start_time": "2023-10-21T19:47:10.518Z"
      },
      {
        "duration": 7,
        "start_time": "2023-10-21T19:47:10.550Z"
      },
      {
        "duration": 23,
        "start_time": "2023-10-21T19:47:10.559Z"
      },
      {
        "duration": 80,
        "start_time": "2023-10-21T19:47:10.584Z"
      },
      {
        "duration": 84,
        "start_time": "2023-10-21T19:47:10.666Z"
      },
      {
        "duration": 14,
        "start_time": "2023-10-21T19:47:10.752Z"
      },
      {
        "duration": 53,
        "start_time": "2023-10-21T19:47:10.768Z"
      },
      {
        "duration": 51,
        "start_time": "2023-10-21T19:47:10.823Z"
      },
      {
        "duration": 41,
        "start_time": "2023-10-21T19:47:10.876Z"
      },
      {
        "duration": 27,
        "start_time": "2023-10-21T19:47:10.919Z"
      },
      {
        "duration": 5,
        "start_time": "2023-10-21T19:47:10.949Z"
      },
      {
        "duration": 11,
        "start_time": "2023-10-21T19:47:10.957Z"
      },
      {
        "duration": 5800,
        "start_time": "2023-10-21T19:47:10.969Z"
      },
      {
        "duration": 331,
        "start_time": "2023-10-21T19:48:59.827Z"
      },
      {
        "duration": 328,
        "start_time": "2023-10-21T19:49:32.779Z"
      },
      {
        "duration": 304,
        "start_time": "2023-10-21T19:50:07.622Z"
      },
      {
        "duration": 3,
        "start_time": "2023-10-21T19:50:12.240Z"
      },
      {
        "duration": 178,
        "start_time": "2023-10-21T19:50:12.245Z"
      },
      {
        "duration": 32,
        "start_time": "2023-10-21T19:50:12.425Z"
      },
      {
        "duration": 6,
        "start_time": "2023-10-21T19:50:12.458Z"
      },
      {
        "duration": 40,
        "start_time": "2023-10-21T19:50:12.466Z"
      },
      {
        "duration": 67,
        "start_time": "2023-10-21T19:50:12.507Z"
      },
      {
        "duration": 77,
        "start_time": "2023-10-21T19:50:12.575Z"
      },
      {
        "duration": 14,
        "start_time": "2023-10-21T19:50:12.653Z"
      },
      {
        "duration": 37,
        "start_time": "2023-10-21T19:50:12.668Z"
      },
      {
        "duration": 19,
        "start_time": "2023-10-21T19:50:12.707Z"
      },
      {
        "duration": 9,
        "start_time": "2023-10-21T19:50:12.728Z"
      },
      {
        "duration": 26,
        "start_time": "2023-10-21T19:50:12.738Z"
      },
      {
        "duration": 5,
        "start_time": "2023-10-21T19:50:12.766Z"
      },
      {
        "duration": 16,
        "start_time": "2023-10-21T19:50:12.772Z"
      },
      {
        "duration": 393,
        "start_time": "2023-10-21T19:50:12.789Z"
      },
      {
        "duration": 342,
        "start_time": "2023-10-21T19:50:18.237Z"
      },
      {
        "duration": 322,
        "start_time": "2023-10-21T19:50:25.446Z"
      },
      {
        "duration": 321,
        "start_time": "2023-10-21T19:52:20.028Z"
      },
      {
        "duration": 304,
        "start_time": "2023-10-21T19:53:36.326Z"
      },
      {
        "duration": 372,
        "start_time": "2023-10-21T19:53:43.732Z"
      },
      {
        "duration": 4,
        "start_time": "2023-10-21T19:55:44.709Z"
      },
      {
        "duration": 189,
        "start_time": "2023-10-21T19:55:44.715Z"
      },
      {
        "duration": 25,
        "start_time": "2023-10-21T19:55:44.905Z"
      },
      {
        "duration": 6,
        "start_time": "2023-10-21T19:55:44.932Z"
      },
      {
        "duration": 39,
        "start_time": "2023-10-21T19:55:44.940Z"
      },
      {
        "duration": 119,
        "start_time": "2023-10-21T19:55:44.981Z"
      },
      {
        "duration": 70,
        "start_time": "2023-10-21T19:55:45.102Z"
      },
      {
        "duration": 27,
        "start_time": "2023-10-21T19:55:45.175Z"
      },
      {
        "duration": 974,
        "start_time": "2023-10-21T19:55:45.204Z"
      },
      {
        "duration": 25,
        "start_time": "2023-10-21T19:55:46.181Z"
      },
      {
        "duration": 12,
        "start_time": "2023-10-21T19:55:46.208Z"
      },
      {
        "duration": 20,
        "start_time": "2023-10-21T19:55:46.221Z"
      },
      {
        "duration": 21,
        "start_time": "2023-10-21T19:55:46.242Z"
      },
      {
        "duration": 37,
        "start_time": "2023-10-21T19:55:46.265Z"
      },
      {
        "duration": 321,
        "start_time": "2023-10-21T19:55:46.304Z"
      },
      {
        "duration": 104,
        "start_time": "2023-10-21T20:00:57.999Z"
      },
      {
        "duration": 36,
        "start_time": "2023-10-21T20:01:16.028Z"
      },
      {
        "duration": 50,
        "start_time": "2023-10-21T20:01:32.339Z"
      },
      {
        "duration": 27,
        "start_time": "2023-10-21T20:01:52.349Z"
      },
      {
        "duration": 3,
        "start_time": "2023-10-21T20:03:07.297Z"
      },
      {
        "duration": 196,
        "start_time": "2023-10-21T20:03:07.302Z"
      },
      {
        "duration": 26,
        "start_time": "2023-10-21T20:03:07.499Z"
      },
      {
        "duration": 29,
        "start_time": "2023-10-21T20:03:07.527Z"
      },
      {
        "duration": 30,
        "start_time": "2023-10-21T20:03:07.558Z"
      },
      {
        "duration": 57,
        "start_time": "2023-10-21T20:03:07.590Z"
      },
      {
        "duration": 66,
        "start_time": "2023-10-21T20:03:07.649Z"
      },
      {
        "duration": 13,
        "start_time": "2023-10-21T20:03:07.716Z"
      },
      {
        "duration": 1040,
        "start_time": "2023-10-21T20:03:07.731Z"
      },
      {
        "duration": 29,
        "start_time": "2023-10-21T20:03:08.773Z"
      },
      {
        "duration": 22,
        "start_time": "2023-10-21T20:03:08.804Z"
      },
      {
        "duration": 16,
        "start_time": "2023-10-21T20:03:08.828Z"
      },
      {
        "duration": 36,
        "start_time": "2023-10-21T20:03:08.846Z"
      },
      {
        "duration": 38,
        "start_time": "2023-10-21T20:03:08.884Z"
      },
      {
        "duration": 306,
        "start_time": "2023-10-21T20:03:08.924Z"
      },
      {
        "duration": 34,
        "start_time": "2023-10-21T20:03:09.231Z"
      },
      {
        "duration": 9,
        "start_time": "2023-10-21T20:04:22.720Z"
      },
      {
        "duration": 4,
        "start_time": "2023-10-21T20:06:45.145Z"
      },
      {
        "duration": 14,
        "start_time": "2023-10-21T20:06:47.920Z"
      },
      {
        "duration": 8,
        "start_time": "2023-10-21T20:07:31.595Z"
      },
      {
        "duration": 4,
        "start_time": "2023-10-21T20:07:45.460Z"
      },
      {
        "duration": 4,
        "start_time": "2023-10-21T20:08:28.305Z"
      },
      {
        "duration": 4,
        "start_time": "2023-10-21T20:08:50.720Z"
      },
      {
        "duration": 11,
        "start_time": "2023-10-21T20:11:05.161Z"
      },
      {
        "duration": 8,
        "start_time": "2023-10-21T20:11:31.534Z"
      },
      {
        "duration": 11,
        "start_time": "2023-10-21T20:11:52.192Z"
      },
      {
        "duration": 158,
        "start_time": "2023-10-21T20:12:40.757Z"
      },
      {
        "duration": 12,
        "start_time": "2023-10-21T20:12:53.718Z"
      },
      {
        "duration": 651,
        "start_time": "2023-10-21T20:14:38.132Z"
      },
      {
        "duration": 177,
        "start_time": "2023-10-21T20:14:38.785Z"
      },
      {
        "duration": 39,
        "start_time": "2023-10-21T20:14:38.963Z"
      },
      {
        "duration": 7,
        "start_time": "2023-10-21T20:14:39.004Z"
      },
      {
        "duration": 22,
        "start_time": "2023-10-21T20:14:39.012Z"
      },
      {
        "duration": 78,
        "start_time": "2023-10-21T20:14:39.035Z"
      },
      {
        "duration": 94,
        "start_time": "2023-10-21T20:14:39.115Z"
      },
      {
        "duration": 15,
        "start_time": "2023-10-21T20:14:39.211Z"
      },
      {
        "duration": 923,
        "start_time": "2023-10-21T20:14:39.228Z"
      },
      {
        "duration": 19,
        "start_time": "2023-10-21T20:14:40.153Z"
      },
      {
        "duration": 10,
        "start_time": "2023-10-21T20:14:40.173Z"
      },
      {
        "duration": 24,
        "start_time": "2023-10-21T20:14:40.184Z"
      },
      {
        "duration": 29,
        "start_time": "2023-10-21T20:14:40.210Z"
      },
      {
        "duration": 23,
        "start_time": "2023-10-21T20:14:40.241Z"
      },
      {
        "duration": 318,
        "start_time": "2023-10-21T20:14:40.265Z"
      },
      {
        "duration": 43,
        "start_time": "2023-10-21T20:14:40.584Z"
      },
      {
        "duration": 13,
        "start_time": "2023-10-21T20:14:40.629Z"
      },
      {
        "duration": 6,
        "start_time": "2023-10-21T20:14:40.643Z"
      },
      {
        "duration": 19,
        "start_time": "2023-10-21T20:14:40.652Z"
      },
      {
        "duration": 229,
        "start_time": "2023-10-21T20:14:40.673Z"
      },
      {
        "duration": 211,
        "start_time": "2023-10-21T20:14:57.863Z"
      },
      {
        "duration": 68,
        "start_time": "2023-10-21T20:15:01.055Z"
      },
      {
        "duration": 5,
        "start_time": "2023-10-21T20:15:08.347Z"
      },
      {
        "duration": 12,
        "start_time": "2023-10-21T20:15:24.292Z"
      },
      {
        "duration": 7,
        "start_time": "2023-10-21T20:15:44.195Z"
      },
      {
        "duration": 40,
        "start_time": "2023-10-21T20:15:58.571Z"
      },
      {
        "duration": 9,
        "start_time": "2023-10-21T20:16:18.147Z"
      },
      {
        "duration": 33,
        "start_time": "2023-10-21T20:17:01.739Z"
      },
      {
        "duration": 5,
        "start_time": "2023-10-21T20:18:20.536Z"
      },
      {
        "duration": 4,
        "start_time": "2023-10-21T20:20:19.435Z"
      },
      {
        "duration": 6,
        "start_time": "2023-10-21T20:20:42.000Z"
      },
      {
        "duration": 11,
        "start_time": "2023-10-21T20:20:51.605Z"
      },
      {
        "duration": 9,
        "start_time": "2023-10-21T20:21:58.770Z"
      },
      {
        "duration": 5,
        "start_time": "2023-10-21T20:43:54.734Z"
      },
      {
        "duration": 8,
        "start_time": "2023-10-21T20:44:24.248Z"
      },
      {
        "duration": 159,
        "start_time": "2023-10-21T20:44:29.781Z"
      },
      {
        "duration": 4,
        "start_time": "2023-10-21T20:44:59.140Z"
      },
      {
        "duration": 21,
        "start_time": "2023-10-21T20:45:13.172Z"
      },
      {
        "duration": 25,
        "start_time": "2023-10-21T20:45:38.089Z"
      },
      {
        "duration": 32,
        "start_time": "2023-10-21T20:48:45.512Z"
      },
      {
        "duration": 57,
        "start_time": "2023-10-22T14:37:37.864Z"
      },
      {
        "duration": 948,
        "start_time": "2023-10-22T14:37:42.622Z"
      },
      {
        "duration": 687,
        "start_time": "2023-10-22T14:37:43.572Z"
      },
      {
        "duration": 31,
        "start_time": "2023-10-22T14:37:44.261Z"
      },
      {
        "duration": 6,
        "start_time": "2023-10-22T14:37:44.294Z"
      },
      {
        "duration": 54,
        "start_time": "2023-10-22T14:37:44.302Z"
      },
      {
        "duration": 79,
        "start_time": "2023-10-22T14:37:44.358Z"
      },
      {
        "duration": 95,
        "start_time": "2023-10-22T14:37:44.439Z"
      },
      {
        "duration": 18,
        "start_time": "2023-10-22T14:37:44.536Z"
      },
      {
        "duration": 1125,
        "start_time": "2023-10-22T14:37:44.557Z"
      },
      {
        "duration": 19,
        "start_time": "2023-10-22T14:37:45.684Z"
      },
      {
        "duration": 41,
        "start_time": "2023-10-22T14:37:45.705Z"
      },
      {
        "duration": 16,
        "start_time": "2023-10-22T14:37:45.748Z"
      },
      {
        "duration": 36,
        "start_time": "2023-10-22T14:37:45.766Z"
      },
      {
        "duration": 57,
        "start_time": "2023-10-22T14:37:45.804Z"
      },
      {
        "duration": 32,
        "start_time": "2023-10-22T14:37:45.864Z"
      },
      {
        "duration": 494,
        "start_time": "2023-10-22T14:37:45.898Z"
      },
      {
        "duration": 51,
        "start_time": "2023-10-22T14:37:46.393Z"
      },
      {
        "duration": 25,
        "start_time": "2023-10-22T14:37:46.450Z"
      },
      {
        "duration": 23,
        "start_time": "2023-10-22T14:37:46.477Z"
      },
      {
        "duration": 39,
        "start_time": "2023-10-22T14:37:46.502Z"
      },
      {
        "duration": 46,
        "start_time": "2023-10-22T14:37:46.545Z"
      },
      {
        "duration": 83,
        "start_time": "2023-10-22T14:37:46.593Z"
      },
      {
        "duration": 34,
        "start_time": "2023-10-22T14:37:46.678Z"
      },
      {
        "duration": 84,
        "start_time": "2023-10-22T14:37:46.714Z"
      },
      {
        "duration": 53,
        "start_time": "2023-10-22T14:47:27.147Z"
      },
      {
        "duration": 16,
        "start_time": "2023-10-22T14:49:51.716Z"
      },
      {
        "duration": 1576,
        "start_time": "2023-10-22T14:50:19.180Z"
      },
      {
        "duration": 59,
        "start_time": "2023-10-22T14:51:03.077Z"
      },
      {
        "duration": 8,
        "start_time": "2023-10-22T14:51:04.244Z"
      },
      {
        "duration": 13,
        "start_time": "2023-10-22T14:51:06.760Z"
      },
      {
        "duration": 1791,
        "start_time": "2023-10-22T14:52:46.055Z"
      },
      {
        "duration": 52,
        "start_time": "2023-10-22T14:53:47.938Z"
      },
      {
        "duration": 8,
        "start_time": "2023-10-22T14:53:49.301Z"
      },
      {
        "duration": 13,
        "start_time": "2023-10-22T14:53:56.190Z"
      },
      {
        "duration": 12,
        "start_time": "2023-10-22T15:03:01.754Z"
      },
      {
        "duration": 11,
        "start_time": "2023-10-22T15:03:05.708Z"
      },
      {
        "duration": 44,
        "start_time": "2023-10-22T15:21:08.760Z"
      },
      {
        "duration": 901,
        "start_time": "2023-10-22T15:21:13.563Z"
      },
      {
        "duration": 970,
        "start_time": "2023-10-22T15:21:14.466Z"
      },
      {
        "duration": 35,
        "start_time": "2023-10-22T15:21:15.437Z"
      },
      {
        "duration": 8,
        "start_time": "2023-10-22T15:21:15.474Z"
      },
      {
        "duration": 24,
        "start_time": "2023-10-22T15:21:15.483Z"
      },
      {
        "duration": 79,
        "start_time": "2023-10-22T15:21:15.509Z"
      },
      {
        "duration": 88,
        "start_time": "2023-10-22T15:21:15.590Z"
      },
      {
        "duration": 13,
        "start_time": "2023-10-22T15:21:15.680Z"
      },
      {
        "duration": 961,
        "start_time": "2023-10-22T15:21:15.695Z"
      },
      {
        "duration": 18,
        "start_time": "2023-10-22T15:21:16.658Z"
      },
      {
        "duration": 27,
        "start_time": "2023-10-22T15:21:16.678Z"
      },
      {
        "duration": 44,
        "start_time": "2023-10-22T15:21:16.706Z"
      },
      {
        "duration": 72,
        "start_time": "2023-10-22T15:21:16.751Z"
      },
      {
        "duration": 75,
        "start_time": "2023-10-22T15:21:16.825Z"
      },
      {
        "duration": 25,
        "start_time": "2023-10-22T15:21:16.901Z"
      },
      {
        "duration": 321,
        "start_time": "2023-10-22T15:21:16.928Z"
      },
      {
        "duration": 34,
        "start_time": "2023-10-22T15:21:17.251Z"
      },
      {
        "duration": 13,
        "start_time": "2023-10-22T15:21:17.286Z"
      },
      {
        "duration": 4,
        "start_time": "2023-10-22T15:21:17.300Z"
      },
      {
        "duration": 9,
        "start_time": "2023-10-22T15:21:17.305Z"
      },
      {
        "duration": 35,
        "start_time": "2023-10-22T15:21:17.315Z"
      },
      {
        "duration": 38,
        "start_time": "2023-10-22T15:21:17.352Z"
      },
      {
        "duration": 32,
        "start_time": "2023-10-22T15:21:17.391Z"
      },
      {
        "duration": 68,
        "start_time": "2023-10-22T15:21:17.425Z"
      },
      {
        "duration": 6,
        "start_time": "2023-10-22T15:21:17.494Z"
      },
      {
        "duration": 11,
        "start_time": "2023-10-22T15:21:17.502Z"
      },
      {
        "duration": 36,
        "start_time": "2023-10-22T15:21:17.515Z"
      },
      {
        "duration": 53,
        "start_time": "2023-10-22T15:24:49.687Z"
      },
      {
        "duration": 109,
        "start_time": "2023-10-22T15:25:23.590Z"
      },
      {
        "duration": 11,
        "start_time": "2023-10-22T15:25:33.075Z"
      },
      {
        "duration": 12,
        "start_time": "2023-10-22T15:27:06.151Z"
      },
      {
        "duration": 11,
        "start_time": "2023-10-22T15:30:15.292Z"
      },
      {
        "duration": 2,
        "start_time": "2023-10-22T15:30:27.093Z"
      },
      {
        "duration": 194,
        "start_time": "2023-10-22T15:30:27.098Z"
      },
      {
        "duration": 24,
        "start_time": "2023-10-22T15:30:27.293Z"
      },
      {
        "duration": 26,
        "start_time": "2023-10-22T15:30:27.319Z"
      },
      {
        "duration": 36,
        "start_time": "2023-10-22T15:30:27.347Z"
      },
      {
        "duration": 59,
        "start_time": "2023-10-22T15:30:27.385Z"
      },
      {
        "duration": 63,
        "start_time": "2023-10-22T15:30:27.446Z"
      },
      {
        "duration": 12,
        "start_time": "2023-10-22T15:30:27.511Z"
      },
      {
        "duration": 943,
        "start_time": "2023-10-22T15:30:27.525Z"
      },
      {
        "duration": 18,
        "start_time": "2023-10-22T15:30:28.470Z"
      },
      {
        "duration": 10,
        "start_time": "2023-10-22T15:30:28.490Z"
      },
      {
        "duration": 11,
        "start_time": "2023-10-22T15:30:28.502Z"
      },
      {
        "duration": 31,
        "start_time": "2023-10-22T15:30:28.515Z"
      },
      {
        "duration": 19,
        "start_time": "2023-10-22T15:30:28.548Z"
      },
      {
        "duration": 21,
        "start_time": "2023-10-22T15:30:28.569Z"
      },
      {
        "duration": 327,
        "start_time": "2023-10-22T15:30:28.592Z"
      },
      {
        "duration": 46,
        "start_time": "2023-10-22T15:30:28.921Z"
      },
      {
        "duration": 10,
        "start_time": "2023-10-22T15:30:28.969Z"
      },
      {
        "duration": 4,
        "start_time": "2023-10-22T15:30:28.980Z"
      },
      {
        "duration": 12,
        "start_time": "2023-10-22T15:30:28.986Z"
      },
      {
        "duration": 17,
        "start_time": "2023-10-22T15:30:29.000Z"
      },
      {
        "duration": 52,
        "start_time": "2023-10-22T15:30:29.018Z"
      },
      {
        "duration": 30,
        "start_time": "2023-10-22T15:30:29.072Z"
      },
      {
        "duration": 71,
        "start_time": "2023-10-22T15:30:29.104Z"
      },
      {
        "duration": 6,
        "start_time": "2023-10-22T15:30:29.177Z"
      },
      {
        "duration": 15,
        "start_time": "2023-10-22T15:30:29.185Z"
      },
      {
        "duration": 27,
        "start_time": "2023-10-22T15:30:29.202Z"
      },
      {
        "duration": 10,
        "start_time": "2023-10-22T15:30:36.905Z"
      },
      {
        "duration": 13,
        "start_time": "2023-10-22T15:32:31.239Z"
      },
      {
        "duration": 2,
        "start_time": "2023-10-22T15:32:36.524Z"
      },
      {
        "duration": 192,
        "start_time": "2023-10-22T15:32:36.530Z"
      },
      {
        "duration": 35,
        "start_time": "2023-10-22T15:32:36.724Z"
      },
      {
        "duration": 7,
        "start_time": "2023-10-22T15:32:36.760Z"
      },
      {
        "duration": 15,
        "start_time": "2023-10-22T15:32:36.769Z"
      },
      {
        "duration": 79,
        "start_time": "2023-10-22T15:32:36.786Z"
      },
      {
        "duration": 64,
        "start_time": "2023-10-22T15:32:36.867Z"
      },
      {
        "duration": 23,
        "start_time": "2023-10-22T15:32:36.933Z"
      },
      {
        "duration": 975,
        "start_time": "2023-10-22T15:32:36.958Z"
      },
      {
        "duration": 23,
        "start_time": "2023-10-22T15:32:37.934Z"
      },
      {
        "duration": 56,
        "start_time": "2023-10-22T15:32:37.960Z"
      },
      {
        "duration": 27,
        "start_time": "2023-10-22T15:32:38.018Z"
      },
      {
        "duration": 8,
        "start_time": "2023-10-22T15:32:38.047Z"
      },
      {
        "duration": 27,
        "start_time": "2023-10-22T15:32:38.057Z"
      },
      {
        "duration": 24,
        "start_time": "2023-10-22T15:32:38.085Z"
      },
      {
        "duration": 307,
        "start_time": "2023-10-22T15:32:38.111Z"
      },
      {
        "duration": 49,
        "start_time": "2023-10-22T15:32:38.419Z"
      },
      {
        "duration": 10,
        "start_time": "2023-10-22T15:32:38.469Z"
      },
      {
        "duration": 14,
        "start_time": "2023-10-22T15:32:38.481Z"
      },
      {
        "duration": 7,
        "start_time": "2023-10-22T15:32:38.496Z"
      },
      {
        "duration": 20,
        "start_time": "2023-10-22T15:32:38.505Z"
      },
      {
        "duration": 40,
        "start_time": "2023-10-22T15:32:38.526Z"
      },
      {
        "duration": 32,
        "start_time": "2023-10-22T15:32:38.568Z"
      },
      {
        "duration": 72,
        "start_time": "2023-10-22T15:32:38.602Z"
      },
      {
        "duration": 7,
        "start_time": "2023-10-22T15:32:38.676Z"
      },
      {
        "duration": 46,
        "start_time": "2023-10-22T15:32:38.684Z"
      },
      {
        "duration": 16,
        "start_time": "2023-10-22T15:32:38.731Z"
      },
      {
        "duration": 10,
        "start_time": "2023-10-22T15:32:45.753Z"
      },
      {
        "duration": 11,
        "start_time": "2023-10-22T15:32:48.529Z"
      },
      {
        "duration": 10,
        "start_time": "2023-10-22T15:32:50.716Z"
      },
      {
        "duration": 2,
        "start_time": "2023-10-22T15:32:54.486Z"
      },
      {
        "duration": 208,
        "start_time": "2023-10-22T15:32:54.490Z"
      },
      {
        "duration": 25,
        "start_time": "2023-10-22T15:32:54.700Z"
      },
      {
        "duration": 5,
        "start_time": "2023-10-22T15:32:54.727Z"
      },
      {
        "duration": 21,
        "start_time": "2023-10-22T15:32:54.743Z"
      },
      {
        "duration": 84,
        "start_time": "2023-10-22T15:32:54.765Z"
      },
      {
        "duration": 62,
        "start_time": "2023-10-22T15:32:54.850Z"
      },
      {
        "duration": 13,
        "start_time": "2023-10-22T15:32:54.913Z"
      },
      {
        "duration": 928,
        "start_time": "2023-10-22T15:32:54.928Z"
      },
      {
        "duration": 18,
        "start_time": "2023-10-22T15:32:55.858Z"
      },
      {
        "duration": 4,
        "start_time": "2023-10-22T15:32:55.880Z"
      },
      {
        "duration": 11,
        "start_time": "2023-10-22T15:32:55.886Z"
      },
      {
        "duration": 8,
        "start_time": "2023-10-22T15:32:55.899Z"
      },
      {
        "duration": 53,
        "start_time": "2023-10-22T15:32:55.909Z"
      },
      {
        "duration": 21,
        "start_time": "2023-10-22T15:32:55.963Z"
      },
      {
        "duration": 342,
        "start_time": "2023-10-22T15:32:55.986Z"
      },
      {
        "duration": 41,
        "start_time": "2023-10-22T15:32:56.330Z"
      },
      {
        "duration": 11,
        "start_time": "2023-10-22T15:32:56.373Z"
      },
      {
        "duration": 3,
        "start_time": "2023-10-22T15:32:56.386Z"
      },
      {
        "duration": 4,
        "start_time": "2023-10-22T15:32:56.391Z"
      },
      {
        "duration": 8,
        "start_time": "2023-10-22T15:32:56.396Z"
      },
      {
        "duration": 64,
        "start_time": "2023-10-22T15:32:56.406Z"
      },
      {
        "duration": 31,
        "start_time": "2023-10-22T15:32:56.472Z"
      },
      {
        "duration": 75,
        "start_time": "2023-10-22T15:32:56.504Z"
      },
      {
        "duration": 7,
        "start_time": "2023-10-22T15:32:56.580Z"
      },
      {
        "duration": 27,
        "start_time": "2023-10-22T15:32:56.588Z"
      },
      {
        "duration": 9,
        "start_time": "2023-10-22T15:32:56.617Z"
      },
      {
        "duration": 23,
        "start_time": "2023-10-22T15:34:54.098Z"
      },
      {
        "duration": 14,
        "start_time": "2023-10-22T15:35:25.816Z"
      },
      {
        "duration": 3,
        "start_time": "2023-10-22T15:35:35.299Z"
      },
      {
        "duration": 184,
        "start_time": "2023-10-22T15:35:35.304Z"
      },
      {
        "duration": 26,
        "start_time": "2023-10-22T15:35:35.489Z"
      },
      {
        "duration": 7,
        "start_time": "2023-10-22T15:35:35.516Z"
      },
      {
        "duration": 17,
        "start_time": "2023-10-22T15:35:35.546Z"
      },
      {
        "duration": 56,
        "start_time": "2023-10-22T15:35:35.565Z"
      },
      {
        "duration": 86,
        "start_time": "2023-10-22T15:35:35.622Z"
      },
      {
        "duration": 12,
        "start_time": "2023-10-22T15:35:35.710Z"
      },
      {
        "duration": 1025,
        "start_time": "2023-10-22T15:35:35.724Z"
      },
      {
        "duration": 18,
        "start_time": "2023-10-22T15:35:36.750Z"
      },
      {
        "duration": 4,
        "start_time": "2023-10-22T15:35:36.771Z"
      },
      {
        "duration": 12,
        "start_time": "2023-10-22T15:35:36.777Z"
      },
      {
        "duration": 12,
        "start_time": "2023-10-22T15:35:36.791Z"
      },
      {
        "duration": 53,
        "start_time": "2023-10-22T15:35:36.805Z"
      },
      {
        "duration": 23,
        "start_time": "2023-10-22T15:35:36.860Z"
      },
      {
        "duration": 369,
        "start_time": "2023-10-22T15:35:36.885Z"
      },
      {
        "duration": 65,
        "start_time": "2023-10-22T15:35:37.257Z"
      },
      {
        "duration": 23,
        "start_time": "2023-10-22T15:35:37.323Z"
      },
      {
        "duration": 4,
        "start_time": "2023-10-22T15:35:37.348Z"
      },
      {
        "duration": 7,
        "start_time": "2023-10-22T15:35:37.353Z"
      },
      {
        "duration": 7,
        "start_time": "2023-10-22T15:35:37.362Z"
      },
      {
        "duration": 29,
        "start_time": "2023-10-22T15:35:37.371Z"
      },
      {
        "duration": 63,
        "start_time": "2023-10-22T15:35:37.401Z"
      },
      {
        "duration": 53,
        "start_time": "2023-10-22T15:35:37.466Z"
      },
      {
        "duration": 28,
        "start_time": "2023-10-22T15:35:37.521Z"
      },
      {
        "duration": 12,
        "start_time": "2023-10-22T15:35:37.551Z"
      },
      {
        "duration": 41,
        "start_time": "2023-10-22T15:35:37.564Z"
      },
      {
        "duration": 0,
        "start_time": "2023-10-22T15:35:37.606Z"
      },
      {
        "duration": 4,
        "start_time": "2023-10-22T15:36:22.311Z"
      },
      {
        "duration": 1774,
        "start_time": "2023-10-22T15:36:23.317Z"
      },
      {
        "duration": 15,
        "start_time": "2023-10-22T15:37:03.711Z"
      },
      {
        "duration": 17,
        "start_time": "2023-10-22T15:37:20.593Z"
      },
      {
        "duration": 161,
        "start_time": "2023-10-22T15:43:21.223Z"
      },
      {
        "duration": 143,
        "start_time": "2023-10-22T15:43:38.269Z"
      },
      {
        "duration": 177,
        "start_time": "2023-10-22T15:43:50.477Z"
      },
      {
        "duration": 129,
        "start_time": "2023-10-22T15:44:06.804Z"
      },
      {
        "duration": 3,
        "start_time": "2023-10-22T15:44:18.772Z"
      },
      {
        "duration": 200,
        "start_time": "2023-10-22T15:44:18.777Z"
      },
      {
        "duration": 24,
        "start_time": "2023-10-22T15:44:18.979Z"
      },
      {
        "duration": 18,
        "start_time": "2023-10-22T15:44:19.004Z"
      },
      {
        "duration": 43,
        "start_time": "2023-10-22T15:44:19.024Z"
      },
      {
        "duration": 80,
        "start_time": "2023-10-22T15:44:19.070Z"
      },
      {
        "duration": 51,
        "start_time": "2023-10-22T15:44:19.152Z"
      },
      {
        "duration": 12,
        "start_time": "2023-10-22T15:44:19.205Z"
      },
      {
        "duration": 891,
        "start_time": "2023-10-22T15:44:19.219Z"
      },
      {
        "duration": 18,
        "start_time": "2023-10-22T15:44:20.111Z"
      },
      {
        "duration": 28,
        "start_time": "2023-10-22T15:44:20.131Z"
      },
      {
        "duration": 13,
        "start_time": "2023-10-22T15:44:20.161Z"
      },
      {
        "duration": 7,
        "start_time": "2023-10-22T15:44:20.175Z"
      },
      {
        "duration": 22,
        "start_time": "2023-10-22T15:44:20.183Z"
      },
      {
        "duration": 36,
        "start_time": "2023-10-22T15:44:20.207Z"
      },
      {
        "duration": 362,
        "start_time": "2023-10-22T15:44:20.244Z"
      },
      {
        "duration": 39,
        "start_time": "2023-10-22T15:44:20.608Z"
      },
      {
        "duration": 11,
        "start_time": "2023-10-22T15:44:20.649Z"
      },
      {
        "duration": 4,
        "start_time": "2023-10-22T15:44:20.662Z"
      },
      {
        "duration": 7,
        "start_time": "2023-10-22T15:44:20.667Z"
      },
      {
        "duration": 24,
        "start_time": "2023-10-22T15:44:20.675Z"
      },
      {
        "duration": 64,
        "start_time": "2023-10-22T15:44:20.702Z"
      },
      {
        "duration": 33,
        "start_time": "2023-10-22T15:44:20.768Z"
      },
      {
        "duration": 80,
        "start_time": "2023-10-22T15:44:20.803Z"
      },
      {
        "duration": 7,
        "start_time": "2023-10-22T15:44:20.885Z"
      },
      {
        "duration": 20,
        "start_time": "2023-10-22T15:44:20.893Z"
      },
      {
        "duration": 11,
        "start_time": "2023-10-22T15:44:20.915Z"
      },
      {
        "duration": 26,
        "start_time": "2023-10-22T15:44:20.927Z"
      },
      {
        "duration": 152,
        "start_time": "2023-10-22T15:44:20.956Z"
      },
      {
        "duration": 11,
        "start_time": "2023-10-22T15:44:26.261Z"
      },
      {
        "duration": 1616,
        "start_time": "2023-10-22T15:45:49.171Z"
      },
      {
        "duration": 1311,
        "start_time": "2023-10-22T15:47:22.959Z"
      },
      {
        "duration": 215,
        "start_time": "2023-10-22T15:47:37.781Z"
      },
      {
        "duration": 69,
        "start_time": "2023-10-22T15:48:06.351Z"
      },
      {
        "duration": 3,
        "start_time": "2023-10-22T15:48:10.722Z"
      },
      {
        "duration": 182,
        "start_time": "2023-10-22T15:48:10.728Z"
      },
      {
        "duration": 44,
        "start_time": "2023-10-22T15:48:10.912Z"
      },
      {
        "duration": 5,
        "start_time": "2023-10-22T15:48:10.958Z"
      },
      {
        "duration": 32,
        "start_time": "2023-10-22T15:48:10.965Z"
      },
      {
        "duration": 87,
        "start_time": "2023-10-22T15:48:10.998Z"
      },
      {
        "duration": 78,
        "start_time": "2023-10-22T15:48:11.087Z"
      },
      {
        "duration": 16,
        "start_time": "2023-10-22T15:48:11.168Z"
      },
      {
        "duration": 974,
        "start_time": "2023-10-22T15:48:11.186Z"
      },
      {
        "duration": 18,
        "start_time": "2023-10-22T15:48:12.162Z"
      },
      {
        "duration": 4,
        "start_time": "2023-10-22T15:48:12.182Z"
      },
      {
        "duration": 15,
        "start_time": "2023-10-22T15:48:12.187Z"
      },
      {
        "duration": 7,
        "start_time": "2023-10-22T15:48:12.203Z"
      },
      {
        "duration": 53,
        "start_time": "2023-10-22T15:48:12.212Z"
      },
      {
        "duration": 29,
        "start_time": "2023-10-22T15:48:12.267Z"
      },
      {
        "duration": 300,
        "start_time": "2023-10-22T15:48:12.298Z"
      },
      {
        "duration": 32,
        "start_time": "2023-10-22T15:48:12.600Z"
      },
      {
        "duration": 18,
        "start_time": "2023-10-22T15:48:12.633Z"
      },
      {
        "duration": 4,
        "start_time": "2023-10-22T15:48:12.653Z"
      },
      {
        "duration": 9,
        "start_time": "2023-10-22T15:48:12.658Z"
      },
      {
        "duration": 16,
        "start_time": "2023-10-22T15:48:12.669Z"
      },
      {
        "duration": 40,
        "start_time": "2023-10-22T15:48:12.687Z"
      },
      {
        "duration": 39,
        "start_time": "2023-10-22T15:48:12.729Z"
      },
      {
        "duration": 51,
        "start_time": "2023-10-22T15:48:12.769Z"
      },
      {
        "duration": 23,
        "start_time": "2023-10-22T15:48:12.822Z"
      },
      {
        "duration": 27,
        "start_time": "2023-10-22T15:48:12.848Z"
      },
      {
        "duration": 6,
        "start_time": "2023-10-22T15:48:12.877Z"
      },
      {
        "duration": 13,
        "start_time": "2023-10-22T15:48:12.885Z"
      },
      {
        "duration": 231,
        "start_time": "2023-10-22T15:48:12.900Z"
      },
      {
        "duration": 34,
        "start_time": "2023-10-22T15:50:06.710Z"
      },
      {
        "duration": 31,
        "start_time": "2023-10-22T15:50:28.822Z"
      },
      {
        "duration": 21,
        "start_time": "2023-10-22T15:51:09.646Z"
      },
      {
        "duration": 40,
        "start_time": "2023-10-22T15:52:37.609Z"
      },
      {
        "duration": 52,
        "start_time": "2023-10-22T15:52:54.206Z"
      },
      {
        "duration": 3,
        "start_time": "2023-10-22T15:52:57.749Z"
      },
      {
        "duration": 201,
        "start_time": "2023-10-22T15:52:57.755Z"
      },
      {
        "duration": 29,
        "start_time": "2023-10-22T15:52:57.959Z"
      },
      {
        "duration": 6,
        "start_time": "2023-10-22T15:52:57.990Z"
      },
      {
        "duration": 39,
        "start_time": "2023-10-22T15:52:57.998Z"
      },
      {
        "duration": 63,
        "start_time": "2023-10-22T15:52:58.039Z"
      },
      {
        "duration": 81,
        "start_time": "2023-10-22T15:52:58.103Z"
      },
      {
        "duration": 13,
        "start_time": "2023-10-22T15:52:58.185Z"
      },
      {
        "duration": 984,
        "start_time": "2023-10-22T15:52:58.199Z"
      },
      {
        "duration": 19,
        "start_time": "2023-10-22T15:52:59.185Z"
      },
      {
        "duration": 4,
        "start_time": "2023-10-22T15:52:59.206Z"
      },
      {
        "duration": 29,
        "start_time": "2023-10-22T15:52:59.212Z"
      },
      {
        "duration": 14,
        "start_time": "2023-10-22T15:52:59.244Z"
      },
      {
        "duration": 27,
        "start_time": "2023-10-22T15:52:59.264Z"
      },
      {
        "duration": 39,
        "start_time": "2023-10-22T15:52:59.293Z"
      },
      {
        "duration": 387,
        "start_time": "2023-10-22T15:52:59.334Z"
      },
      {
        "duration": 53,
        "start_time": "2023-10-22T15:52:59.723Z"
      },
      {
        "duration": 18,
        "start_time": "2023-10-22T15:52:59.779Z"
      },
      {
        "duration": 4,
        "start_time": "2023-10-22T15:52:59.798Z"
      },
      {
        "duration": 33,
        "start_time": "2023-10-22T15:52:59.804Z"
      },
      {
        "duration": 42,
        "start_time": "2023-10-22T15:52:59.839Z"
      },
      {
        "duration": 71,
        "start_time": "2023-10-22T15:52:59.883Z"
      },
      {
        "duration": 36,
        "start_time": "2023-10-22T15:52:59.956Z"
      },
      {
        "duration": 49,
        "start_time": "2023-10-22T15:52:59.994Z"
      },
      {
        "duration": 0,
        "start_time": "2023-10-22T15:53:00.045Z"
      },
      {
        "duration": 0,
        "start_time": "2023-10-22T15:53:00.047Z"
      },
      {
        "duration": 0,
        "start_time": "2023-10-22T15:53:00.048Z"
      },
      {
        "duration": 0,
        "start_time": "2023-10-22T15:53:00.052Z"
      },
      {
        "duration": 0,
        "start_time": "2023-10-22T15:53:00.053Z"
      },
      {
        "duration": 0,
        "start_time": "2023-10-22T15:53:00.054Z"
      },
      {
        "duration": 0,
        "start_time": "2023-10-22T15:53:00.055Z"
      },
      {
        "duration": 3,
        "start_time": "2023-10-22T15:53:17.019Z"
      },
      {
        "duration": 195,
        "start_time": "2023-10-22T15:53:17.023Z"
      },
      {
        "duration": 47,
        "start_time": "2023-10-22T15:53:17.220Z"
      },
      {
        "duration": 6,
        "start_time": "2023-10-22T15:53:17.270Z"
      },
      {
        "duration": 23,
        "start_time": "2023-10-22T15:53:17.279Z"
      },
      {
        "duration": 89,
        "start_time": "2023-10-22T15:53:17.304Z"
      },
      {
        "duration": 75,
        "start_time": "2023-10-22T15:53:17.395Z"
      },
      {
        "duration": 13,
        "start_time": "2023-10-22T15:53:17.472Z"
      },
      {
        "duration": 1010,
        "start_time": "2023-10-22T15:53:17.486Z"
      },
      {
        "duration": 18,
        "start_time": "2023-10-22T15:53:18.497Z"
      },
      {
        "duration": 4,
        "start_time": "2023-10-22T15:53:18.517Z"
      },
      {
        "duration": 36,
        "start_time": "2023-10-22T15:53:18.523Z"
      },
      {
        "duration": 12,
        "start_time": "2023-10-22T15:53:18.562Z"
      },
      {
        "duration": 20,
        "start_time": "2023-10-22T15:53:18.576Z"
      },
      {
        "duration": 29,
        "start_time": "2023-10-22T15:53:18.598Z"
      },
      {
        "duration": 329,
        "start_time": "2023-10-22T15:53:18.643Z"
      },
      {
        "duration": 41,
        "start_time": "2023-10-22T15:53:18.974Z"
      },
      {
        "duration": 28,
        "start_time": "2023-10-22T15:53:19.017Z"
      },
      {
        "duration": 6,
        "start_time": "2023-10-22T15:53:19.047Z"
      },
      {
        "duration": 26,
        "start_time": "2023-10-22T15:53:19.055Z"
      },
      {
        "duration": 14,
        "start_time": "2023-10-22T15:53:19.083Z"
      },
      {
        "duration": 44,
        "start_time": "2023-10-22T15:53:19.098Z"
      },
      {
        "duration": 35,
        "start_time": "2023-10-22T15:53:19.145Z"
      },
      {
        "duration": 82,
        "start_time": "2023-10-22T15:53:19.182Z"
      },
      {
        "duration": 9,
        "start_time": "2023-10-22T15:53:19.267Z"
      },
      {
        "duration": 15,
        "start_time": "2023-10-22T15:53:19.277Z"
      },
      {
        "duration": 6,
        "start_time": "2023-10-22T15:53:19.294Z"
      },
      {
        "duration": 23,
        "start_time": "2023-10-22T15:53:19.301Z"
      },
      {
        "duration": 43,
        "start_time": "2023-10-22T15:53:19.329Z"
      },
      {
        "duration": 240,
        "start_time": "2023-10-22T15:53:19.373Z"
      },
      {
        "duration": 604,
        "start_time": "2023-10-22T15:54:45.637Z"
      },
      {
        "duration": 186,
        "start_time": "2023-10-22T15:54:46.244Z"
      },
      {
        "duration": 34,
        "start_time": "2023-10-22T15:54:46.432Z"
      },
      {
        "duration": 7,
        "start_time": "2023-10-22T15:54:46.470Z"
      },
      {
        "duration": 23,
        "start_time": "2023-10-22T15:54:46.479Z"
      },
      {
        "duration": 96,
        "start_time": "2023-10-22T15:54:46.503Z"
      },
      {
        "duration": 70,
        "start_time": "2023-10-22T15:54:46.601Z"
      },
      {
        "duration": 13,
        "start_time": "2023-10-22T15:54:46.673Z"
      },
      {
        "duration": 971,
        "start_time": "2023-10-22T15:54:46.688Z"
      },
      {
        "duration": 20,
        "start_time": "2023-10-22T15:54:47.664Z"
      },
      {
        "duration": 16,
        "start_time": "2023-10-22T15:54:47.686Z"
      },
      {
        "duration": 16,
        "start_time": "2023-10-22T15:54:47.703Z"
      },
      {
        "duration": 19,
        "start_time": "2023-10-22T15:54:47.721Z"
      },
      {
        "duration": 35,
        "start_time": "2023-10-22T15:54:47.741Z"
      },
      {
        "duration": 24,
        "start_time": "2023-10-22T15:54:47.778Z"
      },
      {
        "duration": 321,
        "start_time": "2023-10-22T15:54:47.803Z"
      },
      {
        "duration": 59,
        "start_time": "2023-10-22T15:54:48.126Z"
      },
      {
        "duration": 12,
        "start_time": "2023-10-22T15:54:48.187Z"
      },
      {
        "duration": 4,
        "start_time": "2023-10-22T15:54:48.201Z"
      },
      {
        "duration": 6,
        "start_time": "2023-10-22T15:54:48.207Z"
      },
      {
        "duration": 33,
        "start_time": "2023-10-22T15:54:48.215Z"
      },
      {
        "duration": 32,
        "start_time": "2023-10-22T15:54:48.251Z"
      },
      {
        "duration": 30,
        "start_time": "2023-10-22T15:54:48.284Z"
      },
      {
        "duration": 72,
        "start_time": "2023-10-22T15:54:48.315Z"
      },
      {
        "duration": 6,
        "start_time": "2023-10-22T15:54:48.388Z"
      },
      {
        "duration": 24,
        "start_time": "2023-10-22T15:54:48.396Z"
      },
      {
        "duration": 12,
        "start_time": "2023-10-22T15:54:48.421Z"
      },
      {
        "duration": 18,
        "start_time": "2023-10-22T15:54:48.436Z"
      },
      {
        "duration": 62,
        "start_time": "2023-10-22T15:54:48.455Z"
      },
      {
        "duration": 18,
        "start_time": "2023-10-22T15:55:01.902Z"
      },
      {
        "duration": 1518,
        "start_time": "2023-10-22T15:56:43.723Z"
      },
      {
        "duration": 66,
        "start_time": "2023-10-22T15:57:58.736Z"
      },
      {
        "duration": 4,
        "start_time": "2023-10-22T15:58:03.042Z"
      },
      {
        "duration": 192,
        "start_time": "2023-10-22T15:58:03.054Z"
      },
      {
        "duration": 43,
        "start_time": "2023-10-22T15:58:03.250Z"
      },
      {
        "duration": 7,
        "start_time": "2023-10-22T15:58:03.296Z"
      },
      {
        "duration": 54,
        "start_time": "2023-10-22T15:58:03.305Z"
      },
      {
        "duration": 70,
        "start_time": "2023-10-22T15:58:03.363Z"
      },
      {
        "duration": 99,
        "start_time": "2023-10-22T15:58:03.434Z"
      },
      {
        "duration": 25,
        "start_time": "2023-10-22T15:58:03.535Z"
      },
      {
        "duration": 1123,
        "start_time": "2023-10-22T15:58:03.565Z"
      },
      {
        "duration": 16,
        "start_time": "2023-10-22T15:58:04.689Z"
      },
      {
        "duration": 16,
        "start_time": "2023-10-22T15:58:04.707Z"
      },
      {
        "duration": 106,
        "start_time": "2023-10-22T15:58:04.724Z"
      },
      {
        "duration": 18,
        "start_time": "2023-10-22T15:58:04.831Z"
      },
      {
        "duration": 29,
        "start_time": "2023-10-22T15:58:04.851Z"
      },
      {
        "duration": 39,
        "start_time": "2023-10-22T15:58:04.882Z"
      },
      {
        "duration": 315,
        "start_time": "2023-10-22T15:58:04.923Z"
      },
      {
        "duration": 48,
        "start_time": "2023-10-22T15:58:05.240Z"
      },
      {
        "duration": 10,
        "start_time": "2023-10-22T15:58:05.290Z"
      },
      {
        "duration": 4,
        "start_time": "2023-10-22T15:58:05.301Z"
      },
      {
        "duration": 6,
        "start_time": "2023-10-22T15:58:05.306Z"
      },
      {
        "duration": 38,
        "start_time": "2023-10-22T15:58:05.313Z"
      },
      {
        "duration": 36,
        "start_time": "2023-10-22T15:58:05.353Z"
      },
      {
        "duration": 30,
        "start_time": "2023-10-22T15:58:05.391Z"
      },
      {
        "duration": 58,
        "start_time": "2023-10-22T15:58:05.444Z"
      },
      {
        "duration": 7,
        "start_time": "2023-10-22T15:58:05.504Z"
      },
      {
        "duration": 33,
        "start_time": "2023-10-22T15:58:05.512Z"
      },
      {
        "duration": 4,
        "start_time": "2023-10-22T15:58:05.549Z"
      },
      {
        "duration": 30,
        "start_time": "2023-10-22T15:58:05.555Z"
      },
      {
        "duration": 145,
        "start_time": "2023-10-22T15:58:05.587Z"
      },
      {
        "duration": 21,
        "start_time": "2023-10-22T16:00:30.951Z"
      },
      {
        "duration": 16,
        "start_time": "2023-10-22T16:00:39.358Z"
      },
      {
        "duration": 16,
        "start_time": "2023-10-22T16:00:47.571Z"
      },
      {
        "duration": 18,
        "start_time": "2023-10-22T16:01:03.174Z"
      },
      {
        "duration": 3,
        "start_time": "2023-10-22T16:02:27.978Z"
      },
      {
        "duration": 3,
        "start_time": "2023-10-22T16:02:32.608Z"
      },
      {
        "duration": 18,
        "start_time": "2023-10-22T19:58:04.457Z"
      },
      {
        "duration": 34,
        "start_time": "2023-10-22T19:59:14.140Z"
      },
      {
        "duration": 12,
        "start_time": "2023-10-22T20:11:10.837Z"
      },
      {
        "duration": 4,
        "start_time": "2023-10-22T20:11:15.062Z"
      },
      {
        "duration": 210,
        "start_time": "2023-10-22T20:11:15.068Z"
      },
      {
        "duration": 41,
        "start_time": "2023-10-22T20:11:15.280Z"
      },
      {
        "duration": 24,
        "start_time": "2023-10-22T20:11:15.323Z"
      },
      {
        "duration": 20,
        "start_time": "2023-10-22T20:11:15.350Z"
      },
      {
        "duration": 79,
        "start_time": "2023-10-22T20:11:15.372Z"
      },
      {
        "duration": 69,
        "start_time": "2023-10-22T20:11:15.452Z"
      },
      {
        "duration": 28,
        "start_time": "2023-10-22T20:11:15.523Z"
      },
      {
        "duration": 982,
        "start_time": "2023-10-22T20:11:15.553Z"
      },
      {
        "duration": 22,
        "start_time": "2023-10-22T20:11:16.537Z"
      },
      {
        "duration": 4,
        "start_time": "2023-10-22T20:11:16.561Z"
      },
      {
        "duration": 21,
        "start_time": "2023-10-22T20:11:16.566Z"
      },
      {
        "duration": 11,
        "start_time": "2023-10-22T20:11:16.589Z"
      },
      {
        "duration": 42,
        "start_time": "2023-10-22T20:11:16.602Z"
      },
      {
        "duration": 20,
        "start_time": "2023-10-22T20:11:16.646Z"
      },
      {
        "duration": 323,
        "start_time": "2023-10-22T20:11:16.668Z"
      },
      {
        "duration": 57,
        "start_time": "2023-10-22T20:11:16.992Z"
      },
      {
        "duration": 17,
        "start_time": "2023-10-22T20:11:17.051Z"
      },
      {
        "duration": 4,
        "start_time": "2023-10-22T20:11:17.070Z"
      },
      {
        "duration": 10,
        "start_time": "2023-10-22T20:11:17.076Z"
      },
      {
        "duration": 8,
        "start_time": "2023-10-22T20:11:17.088Z"
      },
      {
        "duration": 61,
        "start_time": "2023-10-22T20:11:17.097Z"
      },
      {
        "duration": 31,
        "start_time": "2023-10-22T20:11:17.159Z"
      },
      {
        "duration": 80,
        "start_time": "2023-10-22T20:11:17.191Z"
      },
      {
        "duration": 6,
        "start_time": "2023-10-22T20:11:17.273Z"
      },
      {
        "duration": 12,
        "start_time": "2023-10-22T20:11:17.281Z"
      },
      {
        "duration": 3,
        "start_time": "2023-10-22T20:11:17.295Z"
      },
      {
        "duration": 31,
        "start_time": "2023-10-22T20:11:17.300Z"
      },
      {
        "duration": 145,
        "start_time": "2023-10-22T20:11:17.347Z"
      },
      {
        "duration": 4,
        "start_time": "2023-10-22T20:11:17.493Z"
      },
      {
        "duration": 61,
        "start_time": "2023-10-22T20:11:17.499Z"
      },
      {
        "duration": 12,
        "start_time": "2023-10-22T20:11:17.562Z"
      },
      {
        "duration": 3,
        "start_time": "2023-10-22T20:11:18.585Z"
      },
      {
        "duration": 204,
        "start_time": "2023-10-22T20:11:18.591Z"
      },
      {
        "duration": 26,
        "start_time": "2023-10-22T20:11:18.797Z"
      },
      {
        "duration": 5,
        "start_time": "2023-10-22T20:11:18.845Z"
      },
      {
        "duration": 34,
        "start_time": "2023-10-22T20:11:18.852Z"
      },
      {
        "duration": 69,
        "start_time": "2023-10-22T20:11:18.888Z"
      },
      {
        "duration": 66,
        "start_time": "2023-10-22T20:11:18.959Z"
      },
      {
        "duration": 24,
        "start_time": "2023-10-22T20:11:19.027Z"
      },
      {
        "duration": 928,
        "start_time": "2023-10-22T20:11:19.053Z"
      },
      {
        "duration": 18,
        "start_time": "2023-10-22T20:11:19.983Z"
      },
      {
        "duration": 25,
        "start_time": "2023-10-22T20:11:20.004Z"
      },
      {
        "duration": 17,
        "start_time": "2023-10-22T20:11:20.031Z"
      },
      {
        "duration": 11,
        "start_time": "2023-10-22T20:11:20.049Z"
      },
      {
        "duration": 22,
        "start_time": "2023-10-22T20:11:20.062Z"
      },
      {
        "duration": 22,
        "start_time": "2023-10-22T20:11:20.086Z"
      },
      {
        "duration": 351,
        "start_time": "2023-10-22T20:11:20.109Z"
      },
      {
        "duration": 38,
        "start_time": "2023-10-22T20:11:20.462Z"
      },
      {
        "duration": 14,
        "start_time": "2023-10-22T20:11:20.503Z"
      },
      {
        "duration": 27,
        "start_time": "2023-10-22T20:11:20.520Z"
      },
      {
        "duration": 4,
        "start_time": "2023-10-22T20:11:20.549Z"
      },
      {
        "duration": 20,
        "start_time": "2023-10-22T20:11:20.555Z"
      },
      {
        "duration": 39,
        "start_time": "2023-10-22T20:11:20.577Z"
      },
      {
        "duration": 42,
        "start_time": "2023-10-22T20:11:20.617Z"
      },
      {
        "duration": 57,
        "start_time": "2023-10-22T20:11:20.661Z"
      },
      {
        "duration": 31,
        "start_time": "2023-10-22T20:11:20.720Z"
      },
      {
        "duration": 17,
        "start_time": "2023-10-22T20:11:20.753Z"
      },
      {
        "duration": 4,
        "start_time": "2023-10-22T20:11:20.772Z"
      },
      {
        "duration": 20,
        "start_time": "2023-10-22T20:11:20.778Z"
      },
      {
        "duration": 201,
        "start_time": "2023-10-22T20:11:20.802Z"
      },
      {
        "duration": 4,
        "start_time": "2023-10-22T20:11:21.005Z"
      },
      {
        "duration": 51,
        "start_time": "2023-10-22T20:11:21.010Z"
      },
      {
        "duration": 9,
        "start_time": "2023-10-22T20:11:21.063Z"
      },
      {
        "duration": 28,
        "start_time": "2023-10-22T20:12:21.505Z"
      },
      {
        "duration": 17,
        "start_time": "2023-10-22T20:17:48.965Z"
      },
      {
        "duration": 20,
        "start_time": "2023-10-22T20:18:12.995Z"
      },
      {
        "duration": 43,
        "start_time": "2023-10-22T20:18:45.519Z"
      },
      {
        "duration": 37,
        "start_time": "2023-10-22T20:19:28.590Z"
      },
      {
        "duration": 36,
        "start_time": "2023-10-22T20:19:41.747Z"
      },
      {
        "duration": 23,
        "start_time": "2023-10-22T20:39:39.017Z"
      },
      {
        "duration": 47,
        "start_time": "2023-10-22T20:47:27.064Z"
      },
      {
        "duration": 45,
        "start_time": "2023-10-22T20:54:07.864Z"
      },
      {
        "duration": 48,
        "start_time": "2023-10-22T20:54:17.393Z"
      },
      {
        "duration": 51,
        "start_time": "2023-10-22T20:54:45.032Z"
      },
      {
        "duration": 7,
        "start_time": "2023-10-22T20:57:03.216Z"
      },
      {
        "duration": 12,
        "start_time": "2023-10-22T20:57:09.412Z"
      },
      {
        "duration": 50,
        "start_time": "2023-10-22T20:57:50.344Z"
      },
      {
        "duration": 51,
        "start_time": "2023-10-22T20:58:10.533Z"
      },
      {
        "duration": 6,
        "start_time": "2023-10-22T22:25:28.620Z"
      },
      {
        "duration": 8,
        "start_time": "2023-10-22T22:25:49.385Z"
      },
      {
        "duration": 58,
        "start_time": "2023-10-22T22:26:00.303Z"
      },
      {
        "duration": 3,
        "start_time": "2023-10-22T22:26:09.198Z"
      },
      {
        "duration": 183,
        "start_time": "2023-10-22T22:26:09.203Z"
      },
      {
        "duration": 24,
        "start_time": "2023-10-22T22:26:09.388Z"
      },
      {
        "duration": 7,
        "start_time": "2023-10-22T22:26:09.414Z"
      },
      {
        "duration": 32,
        "start_time": "2023-10-22T22:26:09.423Z"
      },
      {
        "duration": 60,
        "start_time": "2023-10-22T22:26:09.457Z"
      },
      {
        "duration": 74,
        "start_time": "2023-10-22T22:26:09.518Z"
      },
      {
        "duration": 13,
        "start_time": "2023-10-22T22:26:09.593Z"
      },
      {
        "duration": 890,
        "start_time": "2023-10-22T22:26:09.608Z"
      },
      {
        "duration": 17,
        "start_time": "2023-10-22T22:26:10.499Z"
      },
      {
        "duration": 29,
        "start_time": "2023-10-22T22:26:10.518Z"
      },
      {
        "duration": 20,
        "start_time": "2023-10-22T22:26:10.548Z"
      },
      {
        "duration": 31,
        "start_time": "2023-10-22T22:26:10.569Z"
      },
      {
        "duration": 33,
        "start_time": "2023-10-22T22:26:10.601Z"
      },
      {
        "duration": 40,
        "start_time": "2023-10-22T22:26:10.635Z"
      },
      {
        "duration": 292,
        "start_time": "2023-10-22T22:26:10.676Z"
      },
      {
        "duration": 35,
        "start_time": "2023-10-22T22:26:10.970Z"
      },
      {
        "duration": 12,
        "start_time": "2023-10-22T22:26:11.006Z"
      },
      {
        "duration": 26,
        "start_time": "2023-10-22T22:26:11.019Z"
      },
      {
        "duration": 18,
        "start_time": "2023-10-22T22:26:11.047Z"
      },
      {
        "duration": 14,
        "start_time": "2023-10-22T22:26:11.066Z"
      },
      {
        "duration": 74,
        "start_time": "2023-10-22T22:26:11.081Z"
      },
      {
        "duration": 32,
        "start_time": "2023-10-22T22:26:11.157Z"
      },
      {
        "duration": 64,
        "start_time": "2023-10-22T22:26:11.191Z"
      },
      {
        "duration": 6,
        "start_time": "2023-10-22T22:26:11.257Z"
      },
      {
        "duration": 25,
        "start_time": "2023-10-22T22:26:11.264Z"
      },
      {
        "duration": 4,
        "start_time": "2023-10-22T22:26:11.290Z"
      },
      {
        "duration": 15,
        "start_time": "2023-10-22T22:26:11.295Z"
      },
      {
        "duration": 224,
        "start_time": "2023-10-22T22:26:11.313Z"
      },
      {
        "duration": 3,
        "start_time": "2023-10-22T22:26:11.544Z"
      },
      {
        "duration": 29,
        "start_time": "2023-10-22T22:26:11.549Z"
      },
      {
        "duration": 32,
        "start_time": "2023-10-22T22:26:11.580Z"
      },
      {
        "duration": 63,
        "start_time": "2023-10-22T22:26:11.614Z"
      },
      {
        "duration": 5,
        "start_time": "2023-10-22T22:26:11.679Z"
      },
      {
        "duration": 75,
        "start_time": "2023-10-22T22:26:11.686Z"
      },
      {
        "duration": 2,
        "start_time": "2023-10-22T22:26:31.781Z"
      },
      {
        "duration": 214,
        "start_time": "2023-10-22T22:26:31.785Z"
      },
      {
        "duration": 24,
        "start_time": "2023-10-22T22:26:32.001Z"
      },
      {
        "duration": 39,
        "start_time": "2023-10-22T22:26:32.027Z"
      },
      {
        "duration": 16,
        "start_time": "2023-10-22T22:26:32.068Z"
      },
      {
        "duration": 69,
        "start_time": "2023-10-22T22:26:32.086Z"
      },
      {
        "duration": 62,
        "start_time": "2023-10-22T22:26:32.156Z"
      },
      {
        "duration": 27,
        "start_time": "2023-10-22T22:26:32.219Z"
      },
      {
        "duration": 878,
        "start_time": "2023-10-22T22:26:32.248Z"
      },
      {
        "duration": 25,
        "start_time": "2023-10-22T22:26:33.127Z"
      },
      {
        "duration": 4,
        "start_time": "2023-10-22T22:26:33.156Z"
      },
      {
        "duration": 16,
        "start_time": "2023-10-22T22:26:33.162Z"
      },
      {
        "duration": 9,
        "start_time": "2023-10-22T22:26:33.180Z"
      },
      {
        "duration": 33,
        "start_time": "2023-10-22T22:26:33.190Z"
      },
      {
        "duration": 23,
        "start_time": "2023-10-22T22:26:33.245Z"
      },
      {
        "duration": 294,
        "start_time": "2023-10-22T22:26:33.270Z"
      },
      {
        "duration": 31,
        "start_time": "2023-10-22T22:26:33.566Z"
      },
      {
        "duration": 13,
        "start_time": "2023-10-22T22:26:33.598Z"
      },
      {
        "duration": 3,
        "start_time": "2023-10-22T22:26:33.613Z"
      },
      {
        "duration": 27,
        "start_time": "2023-10-22T22:26:33.618Z"
      },
      {
        "duration": 9,
        "start_time": "2023-10-22T22:26:33.646Z"
      },
      {
        "duration": 30,
        "start_time": "2023-10-22T22:26:33.656Z"
      },
      {
        "duration": 29,
        "start_time": "2023-10-22T22:26:33.688Z"
      },
      {
        "duration": 75,
        "start_time": "2023-10-22T22:26:33.719Z"
      },
      {
        "duration": 6,
        "start_time": "2023-10-22T22:26:33.795Z"
      },
      {
        "duration": 10,
        "start_time": "2023-10-22T22:26:33.803Z"
      },
      {
        "duration": 3,
        "start_time": "2023-10-22T22:26:33.815Z"
      },
      {
        "duration": 33,
        "start_time": "2023-10-22T22:26:33.819Z"
      },
      {
        "duration": 137,
        "start_time": "2023-10-22T22:26:33.855Z"
      },
      {
        "duration": 5,
        "start_time": "2023-10-22T22:26:33.994Z"
      },
      {
        "duration": 54,
        "start_time": "2023-10-22T22:26:34.001Z"
      },
      {
        "duration": 39,
        "start_time": "2023-10-22T22:26:34.057Z"
      },
      {
        "duration": 69,
        "start_time": "2023-10-22T22:26:34.099Z"
      },
      {
        "duration": 7,
        "start_time": "2023-10-22T22:26:34.170Z"
      },
      {
        "duration": 156,
        "start_time": "2023-10-22T22:26:34.179Z"
      },
      {
        "duration": 131,
        "start_time": "2023-10-22T22:27:50.314Z"
      },
      {
        "duration": 5,
        "start_time": "2023-10-22T22:28:54.874Z"
      },
      {
        "duration": 127,
        "start_time": "2023-10-22T22:28:55.301Z"
      },
      {
        "duration": 188,
        "start_time": "2023-10-22T22:32:08.100Z"
      },
      {
        "duration": 134,
        "start_time": "2023-10-22T22:32:20.410Z"
      },
      {
        "duration": 181,
        "start_time": "2023-10-22T22:32:34.785Z"
      },
      {
        "duration": 6,
        "start_time": "2023-10-22T22:33:19.594Z"
      },
      {
        "duration": 180,
        "start_time": "2023-10-22T22:33:20.553Z"
      },
      {
        "duration": 129,
        "start_time": "2023-10-22T22:33:43.306Z"
      },
      {
        "duration": 134,
        "start_time": "2023-10-22T22:34:25.839Z"
      },
      {
        "duration": 6,
        "start_time": "2023-10-22T22:38:29.667Z"
      },
      {
        "duration": 132,
        "start_time": "2023-10-22T22:38:31.658Z"
      },
      {
        "duration": 131,
        "start_time": "2023-10-22T22:38:37.905Z"
      },
      {
        "duration": 104,
        "start_time": "2023-10-22T22:38:57.220Z"
      },
      {
        "duration": 133,
        "start_time": "2023-10-22T22:39:01.883Z"
      },
      {
        "duration": 129,
        "start_time": "2023-10-22T22:39:03.021Z"
      },
      {
        "duration": 6,
        "start_time": "2023-10-22T22:39:07.393Z"
      },
      {
        "duration": 135,
        "start_time": "2023-10-22T22:39:11.596Z"
      },
      {
        "duration": 151,
        "start_time": "2023-10-22T22:39:13.913Z"
      },
      {
        "duration": 131,
        "start_time": "2023-10-22T22:40:51.955Z"
      },
      {
        "duration": 50,
        "start_time": "2023-10-22T22:42:31.070Z"
      },
      {
        "duration": 47,
        "start_time": "2023-10-22T22:43:31.645Z"
      },
      {
        "duration": 46,
        "start_time": "2023-10-22T22:43:35.470Z"
      },
      {
        "duration": 59,
        "start_time": "2023-10-22T22:46:03.402Z"
      },
      {
        "duration": 153,
        "start_time": "2023-10-22T22:46:15.394Z"
      },
      {
        "duration": 13,
        "start_time": "2023-10-22T22:46:46.201Z"
      },
      {
        "duration": 150,
        "start_time": "2023-10-22T22:46:50.571Z"
      },
      {
        "duration": 19,
        "start_time": "2023-10-22T23:03:56.747Z"
      },
      {
        "duration": 3,
        "start_time": "2023-10-22T23:03:59.746Z"
      },
      {
        "duration": 203,
        "start_time": "2023-10-22T23:03:59.751Z"
      },
      {
        "duration": 23,
        "start_time": "2023-10-22T23:03:59.956Z"
      },
      {
        "duration": 12,
        "start_time": "2023-10-22T23:03:59.981Z"
      },
      {
        "duration": 43,
        "start_time": "2023-10-22T23:03:59.995Z"
      },
      {
        "duration": 84,
        "start_time": "2023-10-22T23:04:00.039Z"
      },
      {
        "duration": 63,
        "start_time": "2023-10-22T23:04:00.124Z"
      },
      {
        "duration": 14,
        "start_time": "2023-10-22T23:04:00.188Z"
      },
      {
        "duration": 929,
        "start_time": "2023-10-22T23:04:00.204Z"
      },
      {
        "duration": 22,
        "start_time": "2023-10-22T23:04:01.135Z"
      },
      {
        "duration": 50,
        "start_time": "2023-10-22T23:04:01.159Z"
      },
      {
        "duration": 77,
        "start_time": "2023-10-22T23:04:01.210Z"
      },
      {
        "duration": 36,
        "start_time": "2023-10-22T23:04:01.289Z"
      },
      {
        "duration": 53,
        "start_time": "2023-10-22T23:04:01.326Z"
      },
      {
        "duration": 86,
        "start_time": "2023-10-22T23:04:01.381Z"
      },
      {
        "duration": 351,
        "start_time": "2023-10-22T23:04:01.469Z"
      },
      {
        "duration": 54,
        "start_time": "2023-10-22T23:04:01.822Z"
      },
      {
        "duration": 12,
        "start_time": "2023-10-22T23:04:01.878Z"
      },
      {
        "duration": 63,
        "start_time": "2023-10-22T23:04:01.892Z"
      },
      {
        "duration": 66,
        "start_time": "2023-10-22T23:04:01.957Z"
      },
      {
        "duration": 54,
        "start_time": "2023-10-22T23:04:02.025Z"
      },
      {
        "duration": 66,
        "start_time": "2023-10-22T23:04:02.081Z"
      },
      {
        "duration": 32,
        "start_time": "2023-10-22T23:04:02.148Z"
      },
      {
        "duration": 79,
        "start_time": "2023-10-22T23:04:02.182Z"
      },
      {
        "duration": 19,
        "start_time": "2023-10-22T23:04:02.262Z"
      },
      {
        "duration": 51,
        "start_time": "2023-10-22T23:04:02.283Z"
      },
      {
        "duration": 46,
        "start_time": "2023-10-22T23:04:02.335Z"
      },
      {
        "duration": 16,
        "start_time": "2023-10-22T23:04:02.383Z"
      },
      {
        "duration": 36,
        "start_time": "2023-10-22T23:04:02.402Z"
      },
      {
        "duration": 201,
        "start_time": "2023-10-22T23:04:02.439Z"
      },
      {
        "duration": 5,
        "start_time": "2023-10-22T23:04:02.641Z"
      },
      {
        "duration": 56,
        "start_time": "2023-10-22T23:04:02.647Z"
      },
      {
        "duration": 46,
        "start_time": "2023-10-22T23:04:02.705Z"
      },
      {
        "duration": 65,
        "start_time": "2023-10-22T23:04:02.753Z"
      },
      {
        "duration": 24,
        "start_time": "2023-10-22T23:04:02.819Z"
      },
      {
        "duration": 212,
        "start_time": "2023-10-22T23:04:02.844Z"
      },
      {
        "duration": 143,
        "start_time": "2023-10-22T23:04:03.058Z"
      },
      {
        "duration": 149,
        "start_time": "2023-10-22T23:04:03.203Z"
      },
      {
        "duration": 150,
        "start_time": "2023-10-22T23:04:03.354Z"
      },
      {
        "duration": 128,
        "start_time": "2023-10-22T23:04:25.457Z"
      },
      {
        "duration": 146,
        "start_time": "2023-10-22T23:04:26.593Z"
      },
      {
        "duration": 127,
        "start_time": "2023-10-22T23:15:42.054Z"
      },
      {
        "duration": 134,
        "start_time": "2023-10-22T23:15:45.754Z"
      },
      {
        "duration": 125,
        "start_time": "2023-10-22T23:15:49.804Z"
      },
      {
        "duration": 141,
        "start_time": "2023-10-22T23:15:50.826Z"
      },
      {
        "duration": 1433,
        "start_time": "2023-10-23T10:44:49.706Z"
      },
      {
        "duration": 727,
        "start_time": "2023-10-23T10:44:51.142Z"
      },
      {
        "duration": 33,
        "start_time": "2023-10-23T10:44:51.871Z"
      },
      {
        "duration": 28,
        "start_time": "2023-10-23T10:44:51.906Z"
      },
      {
        "duration": 50,
        "start_time": "2023-10-23T10:44:51.936Z"
      },
      {
        "duration": 71,
        "start_time": "2023-10-23T10:44:51.988Z"
      },
      {
        "duration": 83,
        "start_time": "2023-10-23T10:44:52.061Z"
      },
      {
        "duration": 16,
        "start_time": "2023-10-23T10:44:52.157Z"
      },
      {
        "duration": 1036,
        "start_time": "2023-10-23T10:44:52.175Z"
      },
      {
        "duration": 24,
        "start_time": "2023-10-23T10:44:53.215Z"
      },
      {
        "duration": 23,
        "start_time": "2023-10-23T10:44:53.241Z"
      },
      {
        "duration": 31,
        "start_time": "2023-10-23T10:44:53.266Z"
      },
      {
        "duration": 10,
        "start_time": "2023-10-23T10:44:53.299Z"
      },
      {
        "duration": 32,
        "start_time": "2023-10-23T10:44:53.311Z"
      },
      {
        "duration": 34,
        "start_time": "2023-10-23T10:44:53.345Z"
      },
      {
        "duration": 366,
        "start_time": "2023-10-23T10:44:53.381Z"
      },
      {
        "duration": 50,
        "start_time": "2023-10-23T10:44:53.757Z"
      },
      {
        "duration": 20,
        "start_time": "2023-10-23T10:44:53.809Z"
      },
      {
        "duration": 12,
        "start_time": "2023-10-23T10:44:53.831Z"
      },
      {
        "duration": 16,
        "start_time": "2023-10-23T10:44:53.857Z"
      },
      {
        "duration": 40,
        "start_time": "2023-10-23T10:44:53.875Z"
      },
      {
        "duration": 53,
        "start_time": "2023-10-23T10:44:53.917Z"
      },
      {
        "duration": 37,
        "start_time": "2023-10-23T10:44:53.972Z"
      },
      {
        "duration": 78,
        "start_time": "2023-10-23T10:44:54.011Z"
      },
      {
        "duration": 9,
        "start_time": "2023-10-23T10:44:54.091Z"
      },
      {
        "duration": 25,
        "start_time": "2023-10-23T10:44:54.102Z"
      },
      {
        "duration": 38,
        "start_time": "2023-10-23T10:44:54.129Z"
      },
      {
        "duration": 8,
        "start_time": "2023-10-23T10:44:54.172Z"
      },
      {
        "duration": 39,
        "start_time": "2023-10-23T10:44:54.183Z"
      },
      {
        "duration": 192,
        "start_time": "2023-10-23T10:44:54.224Z"
      },
      {
        "duration": 4,
        "start_time": "2023-10-23T10:44:54.419Z"
      },
      {
        "duration": 59,
        "start_time": "2023-10-23T10:44:54.424Z"
      },
      {
        "duration": 45,
        "start_time": "2023-10-23T10:44:54.485Z"
      },
      {
        "duration": 59,
        "start_time": "2023-10-23T10:44:54.532Z"
      },
      {
        "duration": 7,
        "start_time": "2023-10-23T10:44:54.593Z"
      },
      {
        "duration": 209,
        "start_time": "2023-10-23T10:44:54.601Z"
      },
      {
        "duration": 167,
        "start_time": "2023-10-23T10:44:54.812Z"
      },
      {
        "duration": 154,
        "start_time": "2023-10-23T10:44:54.981Z"
      },
      {
        "duration": 182,
        "start_time": "2023-10-23T10:44:55.136Z"
      },
      {
        "duration": 1144,
        "start_time": "2023-10-23T11:17:40.203Z"
      },
      {
        "duration": 164,
        "start_time": "2023-10-23T11:17:41.349Z"
      },
      {
        "duration": 36,
        "start_time": "2023-10-23T11:17:41.515Z"
      },
      {
        "duration": 7,
        "start_time": "2023-10-23T11:17:41.554Z"
      },
      {
        "duration": 39,
        "start_time": "2023-10-23T11:17:41.562Z"
      },
      {
        "duration": 63,
        "start_time": "2023-10-23T11:17:41.603Z"
      },
      {
        "duration": 89,
        "start_time": "2023-10-23T11:17:41.667Z"
      },
      {
        "duration": 14,
        "start_time": "2023-10-23T11:17:41.758Z"
      },
      {
        "duration": 926,
        "start_time": "2023-10-23T11:17:41.773Z"
      },
      {
        "duration": 17,
        "start_time": "2023-10-23T11:17:42.701Z"
      },
      {
        "duration": 5,
        "start_time": "2023-10-23T11:17:42.720Z"
      },
      {
        "duration": 25,
        "start_time": "2023-10-23T11:17:42.726Z"
      },
      {
        "duration": 13,
        "start_time": "2023-10-23T11:17:42.752Z"
      },
      {
        "duration": 24,
        "start_time": "2023-10-23T11:17:42.766Z"
      },
      {
        "duration": 39,
        "start_time": "2023-10-23T11:17:42.792Z"
      },
      {
        "duration": 378,
        "start_time": "2023-10-23T11:17:42.833Z"
      },
      {
        "duration": 41,
        "start_time": "2023-10-23T11:17:43.212Z"
      },
      {
        "duration": 15,
        "start_time": "2023-10-23T11:17:43.255Z"
      },
      {
        "duration": 4,
        "start_time": "2023-10-23T11:17:43.272Z"
      },
      {
        "duration": 32,
        "start_time": "2023-10-23T11:17:43.278Z"
      },
      {
        "duration": 18,
        "start_time": "2023-10-23T11:17:43.312Z"
      },
      {
        "duration": 35,
        "start_time": "2023-10-23T11:17:43.331Z"
      },
      {
        "duration": 30,
        "start_time": "2023-10-23T11:17:43.368Z"
      },
      {
        "duration": 64,
        "start_time": "2023-10-23T11:17:43.400Z"
      },
      {
        "duration": 8,
        "start_time": "2023-10-23T11:17:43.466Z"
      },
      {
        "duration": 18,
        "start_time": "2023-10-23T11:17:43.476Z"
      },
      {
        "duration": 68,
        "start_time": "2023-10-23T11:17:43.496Z"
      },
      {
        "duration": 10,
        "start_time": "2023-10-23T11:17:43.568Z"
      },
      {
        "duration": 38,
        "start_time": "2023-10-23T11:17:43.579Z"
      },
      {
        "duration": 180,
        "start_time": "2023-10-23T11:17:43.619Z"
      },
      {
        "duration": 6,
        "start_time": "2023-10-23T11:17:43.801Z"
      },
      {
        "duration": 81,
        "start_time": "2023-10-23T11:17:43.809Z"
      },
      {
        "duration": 40,
        "start_time": "2023-10-23T11:17:43.892Z"
      },
      {
        "duration": 73,
        "start_time": "2023-10-23T11:17:43.934Z"
      },
      {
        "duration": 6,
        "start_time": "2023-10-23T11:17:44.009Z"
      },
      {
        "duration": 164,
        "start_time": "2023-10-23T11:17:44.017Z"
      },
      {
        "duration": 135,
        "start_time": "2023-10-23T11:17:44.183Z"
      },
      {
        "duration": 127,
        "start_time": "2023-10-23T11:17:44.319Z"
      },
      {
        "duration": 176,
        "start_time": "2023-10-23T11:17:44.447Z"
      },
      {
        "duration": 1683,
        "start_time": "2023-10-23T19:33:32.638Z"
      },
      {
        "duration": 651,
        "start_time": "2023-10-23T19:33:34.325Z"
      },
      {
        "duration": 50,
        "start_time": "2023-10-23T19:33:34.978Z"
      },
      {
        "duration": 8,
        "start_time": "2023-10-23T19:33:35.030Z"
      },
      {
        "duration": 39,
        "start_time": "2023-10-23T19:33:35.039Z"
      },
      {
        "duration": 84,
        "start_time": "2023-10-23T19:33:35.080Z"
      },
      {
        "duration": 89,
        "start_time": "2023-10-23T19:33:35.166Z"
      },
      {
        "duration": 13,
        "start_time": "2023-10-23T19:33:35.257Z"
      },
      {
        "duration": 1079,
        "start_time": "2023-10-23T19:33:35.272Z"
      },
      {
        "duration": 18,
        "start_time": "2023-10-23T19:33:36.354Z"
      },
      {
        "duration": 47,
        "start_time": "2023-10-23T19:33:36.374Z"
      },
      {
        "duration": 27,
        "start_time": "2023-10-23T19:33:36.423Z"
      },
      {
        "duration": 8,
        "start_time": "2023-10-23T19:33:36.452Z"
      },
      {
        "duration": 31,
        "start_time": "2023-10-23T19:33:36.461Z"
      },
      {
        "duration": 48,
        "start_time": "2023-10-23T19:33:36.494Z"
      },
      {
        "duration": 378,
        "start_time": "2023-10-23T19:33:36.544Z"
      },
      {
        "duration": 35,
        "start_time": "2023-10-23T19:33:36.924Z"
      },
      {
        "duration": 102,
        "start_time": "2023-10-23T19:33:36.961Z"
      },
      {
        "duration": 76,
        "start_time": "2023-10-23T19:33:37.064Z"
      },
      {
        "duration": 12,
        "start_time": "2023-10-23T19:33:37.142Z"
      },
      {
        "duration": 16,
        "start_time": "2023-10-23T19:33:37.155Z"
      },
      {
        "duration": 48,
        "start_time": "2023-10-23T19:33:37.173Z"
      },
      {
        "duration": 37,
        "start_time": "2023-10-23T19:33:37.222Z"
      },
      {
        "duration": 56,
        "start_time": "2023-10-23T19:33:37.261Z"
      },
      {
        "duration": 59,
        "start_time": "2023-10-23T19:33:37.322Z"
      },
      {
        "duration": 8,
        "start_time": "2023-10-23T19:33:37.382Z"
      },
      {
        "duration": 41,
        "start_time": "2023-10-23T19:33:37.391Z"
      },
      {
        "duration": 45,
        "start_time": "2023-10-23T19:33:37.435Z"
      },
      {
        "duration": 4,
        "start_time": "2023-10-23T19:33:37.483Z"
      },
      {
        "duration": 38,
        "start_time": "2023-10-23T19:33:37.489Z"
      },
      {
        "duration": 201,
        "start_time": "2023-10-23T19:33:37.528Z"
      },
      {
        "duration": 5,
        "start_time": "2023-10-23T19:33:37.732Z"
      },
      {
        "duration": 89,
        "start_time": "2023-10-23T19:33:37.738Z"
      },
      {
        "duration": 34,
        "start_time": "2023-10-23T19:33:37.833Z"
      },
      {
        "duration": 73,
        "start_time": "2023-10-23T19:33:37.869Z"
      },
      {
        "duration": 7,
        "start_time": "2023-10-23T19:33:37.944Z"
      },
      {
        "duration": 176,
        "start_time": "2023-10-23T19:33:37.952Z"
      },
      {
        "duration": 158,
        "start_time": "2023-10-23T19:33:38.130Z"
      },
      {
        "duration": 173,
        "start_time": "2023-10-23T19:33:38.289Z"
      },
      {
        "duration": 207,
        "start_time": "2023-10-23T19:33:38.464Z"
      },
      {
        "duration": 16,
        "start_time": "2023-10-23T19:33:46.501Z"
      },
      {
        "duration": 7,
        "start_time": "2023-10-23T19:33:49.991Z"
      },
      {
        "duration": 11,
        "start_time": "2023-10-23T19:34:04.172Z"
      },
      {
        "duration": 21,
        "start_time": "2023-10-23T19:34:42.198Z"
      },
      {
        "duration": 12,
        "start_time": "2023-10-23T19:35:08.623Z"
      },
      {
        "duration": 140,
        "start_time": "2023-10-23T19:40:37.698Z"
      },
      {
        "duration": 20,
        "start_time": "2023-10-23T19:41:17.209Z"
      },
      {
        "duration": 16,
        "start_time": "2023-10-23T19:41:28.833Z"
      },
      {
        "duration": 22,
        "start_time": "2023-10-23T19:41:31.218Z"
      },
      {
        "duration": 11,
        "start_time": "2023-10-23T19:41:33.637Z"
      },
      {
        "duration": 31,
        "start_time": "2023-10-23T19:41:42.095Z"
      },
      {
        "duration": 10,
        "start_time": "2023-10-23T19:42:12.137Z"
      },
      {
        "duration": 10,
        "start_time": "2023-10-23T19:42:27.483Z"
      },
      {
        "duration": 7,
        "start_time": "2023-10-23T19:42:38.261Z"
      },
      {
        "duration": 4,
        "start_time": "2023-10-23T19:48:28.674Z"
      },
      {
        "duration": 5,
        "start_time": "2023-10-23T19:48:53.726Z"
      },
      {
        "duration": 1585,
        "start_time": "2023-10-23T20:34:47.883Z"
      },
      {
        "duration": 20,
        "start_time": "2023-10-23T20:35:02.280Z"
      },
      {
        "duration": 30,
        "start_time": "2023-10-23T20:35:30.316Z"
      },
      {
        "duration": 11,
        "start_time": "2023-10-23T20:43:32.905Z"
      },
      {
        "duration": 3,
        "start_time": "2023-10-23T20:43:39.541Z"
      },
      {
        "duration": 139,
        "start_time": "2023-10-23T20:49:20.007Z"
      },
      {
        "duration": 139,
        "start_time": "2023-10-23T20:49:29.720Z"
      },
      {
        "duration": 129,
        "start_time": "2023-10-23T20:49:34.345Z"
      },
      {
        "duration": 163,
        "start_time": "2023-10-23T20:49:38.937Z"
      },
      {
        "duration": 158,
        "start_time": "2023-10-23T20:50:10.309Z"
      },
      {
        "duration": 152,
        "start_time": "2023-10-23T20:50:14.034Z"
      },
      {
        "duration": 133,
        "start_time": "2023-10-23T20:50:17.544Z"
      },
      {
        "duration": 160,
        "start_time": "2023-10-23T20:50:20.569Z"
      },
      {
        "duration": 1230,
        "start_time": "2023-10-23T20:54:31.099Z"
      },
      {
        "duration": 193,
        "start_time": "2023-10-23T20:54:32.331Z"
      },
      {
        "duration": 34,
        "start_time": "2023-10-23T20:54:32.525Z"
      },
      {
        "duration": 8,
        "start_time": "2023-10-23T20:54:32.562Z"
      },
      {
        "duration": 50,
        "start_time": "2023-10-23T20:54:32.572Z"
      },
      {
        "duration": 65,
        "start_time": "2023-10-23T20:54:32.625Z"
      },
      {
        "duration": 86,
        "start_time": "2023-10-23T20:54:32.701Z"
      },
      {
        "duration": 30,
        "start_time": "2023-10-23T20:54:32.789Z"
      },
      {
        "duration": 1012,
        "start_time": "2023-10-23T20:54:32.821Z"
      },
      {
        "duration": 19,
        "start_time": "2023-10-23T20:54:33.836Z"
      },
      {
        "duration": 6,
        "start_time": "2023-10-23T20:54:33.857Z"
      },
      {
        "duration": 10,
        "start_time": "2023-10-23T20:54:33.865Z"
      },
      {
        "duration": 11,
        "start_time": "2023-10-23T20:54:33.901Z"
      },
      {
        "duration": 22,
        "start_time": "2023-10-23T20:54:33.914Z"
      },
      {
        "duration": 31,
        "start_time": "2023-10-23T20:54:33.937Z"
      },
      {
        "duration": 363,
        "start_time": "2023-10-23T20:54:33.969Z"
      },
      {
        "duration": 44,
        "start_time": "2023-10-23T20:54:34.334Z"
      },
      {
        "duration": 28,
        "start_time": "2023-10-23T20:54:34.380Z"
      },
      {
        "duration": 7,
        "start_time": "2023-10-23T20:54:34.410Z"
      },
      {
        "duration": 5,
        "start_time": "2023-10-23T20:54:34.419Z"
      },
      {
        "duration": 8,
        "start_time": "2023-10-23T20:54:34.425Z"
      },
      {
        "duration": 18,
        "start_time": "2023-10-23T20:54:34.435Z"
      },
      {
        "duration": 51,
        "start_time": "2023-10-23T20:54:34.455Z"
      },
      {
        "duration": 43,
        "start_time": "2023-10-23T20:54:34.508Z"
      },
      {
        "duration": 92,
        "start_time": "2023-10-23T20:54:34.553Z"
      },
      {
        "duration": 8,
        "start_time": "2023-10-23T20:54:34.647Z"
      },
      {
        "duration": 18,
        "start_time": "2023-10-23T20:54:34.657Z"
      },
      {
        "duration": 41,
        "start_time": "2023-10-23T20:54:34.678Z"
      },
      {
        "duration": 5,
        "start_time": "2023-10-23T20:54:34.721Z"
      },
      {
        "duration": 21,
        "start_time": "2023-10-23T20:54:34.727Z"
      },
      {
        "duration": 174,
        "start_time": "2023-10-23T20:54:34.751Z"
      },
      {
        "duration": 5,
        "start_time": "2023-10-23T20:54:34.926Z"
      },
      {
        "duration": 37,
        "start_time": "2023-10-23T20:54:34.932Z"
      },
      {
        "duration": 58,
        "start_time": "2023-10-23T20:54:34.971Z"
      },
      {
        "duration": 46,
        "start_time": "2023-10-23T20:54:35.031Z"
      },
      {
        "duration": 17,
        "start_time": "2023-10-23T20:54:35.079Z"
      },
      {
        "duration": 159,
        "start_time": "2023-10-23T20:54:35.098Z"
      },
      {
        "duration": 160,
        "start_time": "2023-10-23T20:54:35.259Z"
      },
      {
        "duration": 140,
        "start_time": "2023-10-23T20:54:35.421Z"
      },
      {
        "duration": 194,
        "start_time": "2023-10-23T20:54:35.563Z"
      },
      {
        "duration": 3,
        "start_time": "2023-10-23T20:54:35.759Z"
      },
      {
        "duration": 1241,
        "start_time": "2023-10-23T21:12:50.813Z"
      },
      {
        "duration": 512,
        "start_time": "2023-10-23T21:12:52.056Z"
      },
      {
        "duration": 30,
        "start_time": "2023-10-23T21:12:52.570Z"
      },
      {
        "duration": 18,
        "start_time": "2023-10-23T21:12:52.601Z"
      },
      {
        "duration": 22,
        "start_time": "2023-10-23T21:12:52.620Z"
      },
      {
        "duration": 63,
        "start_time": "2023-10-23T21:12:52.644Z"
      },
      {
        "duration": 89,
        "start_time": "2023-10-23T21:12:52.709Z"
      },
      {
        "duration": 14,
        "start_time": "2023-10-23T21:12:52.799Z"
      },
      {
        "duration": 949,
        "start_time": "2023-10-23T21:12:52.815Z"
      },
      {
        "duration": 33,
        "start_time": "2023-10-23T21:12:53.768Z"
      },
      {
        "duration": 5,
        "start_time": "2023-10-23T21:12:53.804Z"
      },
      {
        "duration": 24,
        "start_time": "2023-10-23T21:12:53.810Z"
      },
      {
        "duration": 18,
        "start_time": "2023-10-23T21:12:53.836Z"
      },
      {
        "duration": 21,
        "start_time": "2023-10-23T21:12:53.856Z"
      },
      {
        "duration": 25,
        "start_time": "2023-10-23T21:12:53.879Z"
      },
      {
        "duration": 329,
        "start_time": "2023-10-23T21:12:53.905Z"
      },
      {
        "duration": 43,
        "start_time": "2023-10-23T21:12:54.235Z"
      },
      {
        "duration": 14,
        "start_time": "2023-10-23T21:12:54.280Z"
      },
      {
        "duration": 29,
        "start_time": "2023-10-23T21:12:54.296Z"
      },
      {
        "duration": 49,
        "start_time": "2023-10-23T21:12:54.326Z"
      },
      {
        "duration": 16,
        "start_time": "2023-10-23T21:12:54.377Z"
      },
      {
        "duration": 16,
        "start_time": "2023-10-23T21:12:54.394Z"
      },
      {
        "duration": 30,
        "start_time": "2023-10-23T21:12:54.411Z"
      },
      {
        "duration": 39,
        "start_time": "2023-10-23T21:12:54.443Z"
      },
      {
        "duration": 76,
        "start_time": "2023-10-23T21:12:54.484Z"
      },
      {
        "duration": 8,
        "start_time": "2023-10-23T21:12:54.562Z"
      },
      {
        "duration": 13,
        "start_time": "2023-10-23T21:12:54.572Z"
      },
      {
        "duration": 19,
        "start_time": "2023-10-23T21:12:54.588Z"
      },
      {
        "duration": 3,
        "start_time": "2023-10-23T21:12:54.609Z"
      },
      {
        "duration": 38,
        "start_time": "2023-10-23T21:12:54.614Z"
      },
      {
        "duration": 144,
        "start_time": "2023-10-23T21:12:54.654Z"
      },
      {
        "duration": 4,
        "start_time": "2023-10-23T21:12:54.799Z"
      },
      {
        "duration": 49,
        "start_time": "2023-10-23T21:12:54.805Z"
      },
      {
        "duration": 32,
        "start_time": "2023-10-23T21:12:54.856Z"
      },
      {
        "duration": 60,
        "start_time": "2023-10-23T21:12:54.890Z"
      },
      {
        "duration": 6,
        "start_time": "2023-10-23T21:12:54.951Z"
      },
      {
        "duration": 164,
        "start_time": "2023-10-23T21:12:54.958Z"
      },
      {
        "duration": 133,
        "start_time": "2023-10-23T21:12:55.124Z"
      },
      {
        "duration": 137,
        "start_time": "2023-10-23T21:12:55.259Z"
      },
      {
        "duration": 273,
        "start_time": "2023-10-23T21:12:55.398Z"
      },
      {
        "duration": 4,
        "start_time": "2023-10-23T21:12:55.672Z"
      }
    ],
    "kernelspec": {
      "display_name": "Python 3 (ipykernel)",
      "language": "python",
      "name": "python3"
    },
    "language_info": {
      "codemirror_mode": {
        "name": "ipython",
        "version": 3
      },
      "file_extension": ".py",
      "mimetype": "text/x-python",
      "name": "python",
      "nbconvert_exporter": "python",
      "pygments_lexer": "ipython3",
      "version": "3.9.5"
    },
    "toc": {
      "base_numbering": 1,
      "nav_menu": {},
      "number_sections": true,
      "sideBar": true,
      "skip_h1_title": true,
      "title_cell": "Table of Contents",
      "title_sidebar": "Contents",
      "toc_cell": false,
      "toc_position": {},
      "toc_section_display": true,
      "toc_window_display": true
    },
    "colab": {
      "provenance": []
    }
  },
  "nbformat": 4,
  "nbformat_minor": 0
}