{
  "cells": [
    {
      "cell_type": "markdown",
      "metadata": {
        "id": "odKSV7k6PbzF"
      },
      "source": [
        "# Проект по SQL\n",
        "Коронавирус застал мир врасплох, изменив привычный порядок вещей. На какое-то время жители городов перестали выходить на улицу, посещать кафе и торговые центры. Зато стало больше времени для книг. Наша компания решила быть на волне и купила крупный сервис для чтения книг по подписке.\n",
        "\n",
        "Наша задача — проанализировать базу данных. Необходимо изучить данные и сформить первичное представление о том, какими книгами и данными располагает наш сервис.\n",
        "\n",
        "В БД содержится информация о книгах, издательствах, авторах, а также пользовательские обзоры книг. Эти данные помогут сформулировать ценностное предложение для нового продукта.\n",
        "\n",
        "**План проекта:**\n",
        "\n",
        "**1. Загрузить данные;**\n",
        "\n",
        "**2. Ознакомиться с содержимым таблиц;**\n",
        "\n",
        "**3. Задания:**\n",
        "\n",
        "- Посчитаем, сколько книг вышло после 1 января 2000 года;\n",
        "- Для каждой книги посчитаем количество обзоров и среднюю оценку;\n",
        "- Определим издательство, которое выпустило наибольшее число книг толще 50 страниц, исключив из анализа брошюры;\n",
        "- Определим автора с самой высокой средней оценкой книг — с учетом только книг с 50 и более оценками;\n",
        "- Посчитайем среднее количество обзоров от пользователей, которые поставили больше 48 оценок;\n",
        "    \n",
        "**4. Вывод.**"
      ]
    },
    {
      "cell_type": "markdown",
      "metadata": {
        "id": "hBRO5p2zPbzI"
      },
      "source": [
        "## Загрузим данные"
      ]
    },
    {
      "cell_type": "code",
      "execution_count": null,
      "metadata": {
        "id": "SHW_YavGPbzI"
      },
      "outputs": [],
      "source": [
        "# импортируем библиотеки\n",
        "import pandas as pd\n",
        "import sqlalchemy as sa"
      ]
    },
    {
      "cell_type": "code",
      "execution_count": null,
      "metadata": {
        "id": "m97LoqrRPbzL"
      },
      "outputs": [],
      "source": [
        "# устанавливаем параметры\n",
        "db_config = {\n",
        "    'user': 'praktikum_student', # имя пользователя\n",
        "    'pwd': 'Sdf4$2;d-d30pp', # пароль\n",
        "    'host': 'rc1b-wcoijxj3yxfsf3fs.mdb.yandexcloud.net',\n",
        "    'port': 6432, # порт подключения\n",
        "    'db': 'data-analyst-final-project-db' # название базы данных\n",
        "}\n",
        "connection_string = 'postgresql://{user}:{pwd}@{host}:{port}/{db}'.format(**db_config)\n",
        "# сохраняем коннектор\n",
        "engine = sa.create_engine(connection_string, connect_args={'sslmode':'require'})\n",
        "# чтобы выполнить SQL-запрос, пишем функцию с использованием Pandas\n",
        "def get_sql_data(query:str, engine:sa.engine.base.Engine=engine) -> pd.DataFrame:\n",
        "    '''Открываем соединение, получаем данные из sql, закрываем соединение'''\n",
        "    with engine.connect() as con:\n",
        "        return pd.read_sql(sql=sa.text(query), con = con)"
      ]
    },
    {
      "cell_type": "markdown",
      "metadata": {
        "id": "3qxfiy-7PbzM"
      },
      "source": [
        "## Ознакомление с таблицами"
      ]
    },
    {
      "cell_type": "markdown",
      "metadata": {
        "id": "DpqMHGGNPbzN"
      },
      "source": [
        "### Таблица books"
      ]
    },
    {
      "cell_type": "code",
      "execution_count": null,
      "metadata": {
        "id": "JE6vvrihPbzN",
        "outputId": "0f41e999-8cf0-4187-8ae9-ecc3e8521374"
      },
      "outputs": [
        {
          "name": "stdout",
          "output_type": "stream",
          "text": [
            "Первые 5 строк таблицы books:\n"
          ]
        },
        {
          "data": {
            "text/html": [
              "<div>\n",
              "<style scoped>\n",
              "    .dataframe tbody tr th:only-of-type {\n",
              "        vertical-align: middle;\n",
              "    }\n",
              "\n",
              "    .dataframe tbody tr th {\n",
              "        vertical-align: top;\n",
              "    }\n",
              "\n",
              "    .dataframe thead th {\n",
              "        text-align: right;\n",
              "    }\n",
              "</style>\n",
              "<table border=\"1\" class=\"dataframe\">\n",
              "  <thead>\n",
              "    <tr style=\"text-align: right;\">\n",
              "      <th></th>\n",
              "      <th>book_id</th>\n",
              "      <th>author_id</th>\n",
              "      <th>title</th>\n",
              "      <th>num_pages</th>\n",
              "      <th>publication_date</th>\n",
              "      <th>publisher_id</th>\n",
              "    </tr>\n",
              "  </thead>\n",
              "  <tbody>\n",
              "    <tr>\n",
              "      <th>0</th>\n",
              "      <td>1</td>\n",
              "      <td>546</td>\n",
              "      <td>'Salem's Lot</td>\n",
              "      <td>594</td>\n",
              "      <td>2005-11-01</td>\n",
              "      <td>93</td>\n",
              "    </tr>\n",
              "    <tr>\n",
              "      <th>1</th>\n",
              "      <td>2</td>\n",
              "      <td>465</td>\n",
              "      <td>1 000 Places to See Before You Die</td>\n",
              "      <td>992</td>\n",
              "      <td>2003-05-22</td>\n",
              "      <td>336</td>\n",
              "    </tr>\n",
              "    <tr>\n",
              "      <th>2</th>\n",
              "      <td>3</td>\n",
              "      <td>407</td>\n",
              "      <td>13 Little Blue Envelopes (Little Blue Envelope...</td>\n",
              "      <td>322</td>\n",
              "      <td>2010-12-21</td>\n",
              "      <td>135</td>\n",
              "    </tr>\n",
              "    <tr>\n",
              "      <th>3</th>\n",
              "      <td>4</td>\n",
              "      <td>82</td>\n",
              "      <td>1491: New Revelations of the Americas Before C...</td>\n",
              "      <td>541</td>\n",
              "      <td>2006-10-10</td>\n",
              "      <td>309</td>\n",
              "    </tr>\n",
              "    <tr>\n",
              "      <th>4</th>\n",
              "      <td>5</td>\n",
              "      <td>125</td>\n",
              "      <td>1776</td>\n",
              "      <td>386</td>\n",
              "      <td>2006-07-04</td>\n",
              "      <td>268</td>\n",
              "    </tr>\n",
              "  </tbody>\n",
              "</table>\n",
              "</div>"
            ],
            "text/plain": [
              "   book_id  author_id                                              title  \\\n",
              "0        1        546                                       'Salem's Lot   \n",
              "1        2        465                 1 000 Places to See Before You Die   \n",
              "2        3        407  13 Little Blue Envelopes (Little Blue Envelope...   \n",
              "3        4         82  1491: New Revelations of the Americas Before C...   \n",
              "4        5        125                                               1776   \n",
              "\n",
              "   num_pages publication_date  publisher_id  \n",
              "0        594       2005-11-01            93  \n",
              "1        992       2003-05-22           336  \n",
              "2        322       2010-12-21           135  \n",
              "3        541       2006-10-10           309  \n",
              "4        386       2006-07-04           268  "
            ]
          },
          "metadata": {},
          "output_type": "display_data"
        },
        {
          "name": "stdout",
          "output_type": "stream",
          "text": [
            "Общее количество строк в таблице books:\n",
            "   total_rows\n",
            "0        1000\n"
          ]
        }
      ],
      "source": [
        "# Запрос и вывод данных для таблицы books\n",
        "query_books = '''\n",
        "SELECT *\n",
        "FROM books\n",
        "LIMIT 5\n",
        "'''\n",
        "result_books = get_sql_data(query_books)\n",
        "print(\"Первые 5 строк таблицы books:\")\n",
        "display(result_books)\n",
        "\n",
        "query_count_books = '''\n",
        "SELECT COUNT(*) AS total_rows\n",
        "FROM books\n",
        "'''\n",
        "result_count_books = get_sql_data(query_count_books)\n",
        "print(\"Общее количество строк в таблице books:\")\n",
        "print(result_count_books)"
      ]
    },
    {
      "cell_type": "markdown",
      "metadata": {
        "id": "0F2PPcxZPbzP"
      },
      "source": [
        "Таблица **books (1000 строк)** содержит данные о книгах:\n",
        "- `book_id` — идентификатор книги;\n",
        "- `author_id` — идентификатор автора;\n",
        "- `title` — название книги;\n",
        "- `num_pages` — количество страниц;\n",
        "- `publication_date` — дата публикации книги;\n",
        "- `publisher_id` — идентификатор издателя."
      ]
    },
    {
      "cell_type": "markdown",
      "metadata": {
        "id": "pw6EXSPMPbzQ"
      },
      "source": [
        "### Таблица authors"
      ]
    },
    {
      "cell_type": "code",
      "execution_count": null,
      "metadata": {
        "id": "ku_aX8v_PbzR",
        "outputId": "57284983-8538-4fdc-e540-7427039a42b8"
      },
      "outputs": [
        {
          "name": "stdout",
          "output_type": "stream",
          "text": [
            "Первые 5 строк таблицы authors:\n"
          ]
        },
        {
          "data": {
            "text/html": [
              "<div>\n",
              "<style scoped>\n",
              "    .dataframe tbody tr th:only-of-type {\n",
              "        vertical-align: middle;\n",
              "    }\n",
              "\n",
              "    .dataframe tbody tr th {\n",
              "        vertical-align: top;\n",
              "    }\n",
              "\n",
              "    .dataframe thead th {\n",
              "        text-align: right;\n",
              "    }\n",
              "</style>\n",
              "<table border=\"1\" class=\"dataframe\">\n",
              "  <thead>\n",
              "    <tr style=\"text-align: right;\">\n",
              "      <th></th>\n",
              "      <th>author_id</th>\n",
              "      <th>author</th>\n",
              "    </tr>\n",
              "  </thead>\n",
              "  <tbody>\n",
              "    <tr>\n",
              "      <th>0</th>\n",
              "      <td>1</td>\n",
              "      <td>A.S. Byatt</td>\n",
              "    </tr>\n",
              "    <tr>\n",
              "      <th>1</th>\n",
              "      <td>2</td>\n",
              "      <td>Aesop/Laura Harris/Laura Gibbs</td>\n",
              "    </tr>\n",
              "    <tr>\n",
              "      <th>2</th>\n",
              "      <td>3</td>\n",
              "      <td>Agatha Christie</td>\n",
              "    </tr>\n",
              "    <tr>\n",
              "      <th>3</th>\n",
              "      <td>4</td>\n",
              "      <td>Alan Brennert</td>\n",
              "    </tr>\n",
              "    <tr>\n",
              "      <th>4</th>\n",
              "      <td>5</td>\n",
              "      <td>Alan Moore/David   Lloyd</td>\n",
              "    </tr>\n",
              "  </tbody>\n",
              "</table>\n",
              "</div>"
            ],
            "text/plain": [
              "   author_id                          author\n",
              "0          1                      A.S. Byatt\n",
              "1          2  Aesop/Laura Harris/Laura Gibbs\n",
              "2          3                 Agatha Christie\n",
              "3          4                   Alan Brennert\n",
              "4          5        Alan Moore/David   Lloyd"
            ]
          },
          "metadata": {},
          "output_type": "display_data"
        },
        {
          "name": "stdout",
          "output_type": "stream",
          "text": [
            "Общее количество строк в таблице authors:\n",
            "   total_rows\n",
            "0         636\n"
          ]
        }
      ],
      "source": [
        "# Запрос и вывод данных для таблицы authors\n",
        "query_authors = '''\n",
        "SELECT *\n",
        "FROM authors\n",
        "LIMIT 5\n",
        "'''\n",
        "result_authors = get_sql_data(query_authors)\n",
        "print(\"Первые 5 строк таблицы authors:\")\n",
        "display(result_authors)\n",
        "\n",
        "query_count_authors = '''\n",
        "SELECT COUNT(*) AS total_rows\n",
        "FROM authors\n",
        "'''\n",
        "result_count_authors = get_sql_data(query_count_authors)\n",
        "print(\"Общее количество строк в таблице authors:\")\n",
        "print(result_count_authors)"
      ]
    },
    {
      "cell_type": "markdown",
      "metadata": {
        "id": "2A8nugrLPbzR"
      },
      "source": [
        "Таблица **authors (636 строк)** содержит данные об авторах:\n",
        "- `author_id` — идентификатор автора;\n",
        "- `author` — имя автора."
      ]
    },
    {
      "cell_type": "markdown",
      "metadata": {
        "id": "hI4PU3ZKPbzS"
      },
      "source": [
        "### Таблица publishers"
      ]
    },
    {
      "cell_type": "code",
      "execution_count": null,
      "metadata": {
        "id": "zv0cNKjCPbzS",
        "outputId": "f74790a9-d41e-4365-8f3d-a8b6234e785d"
      },
      "outputs": [
        {
          "name": "stdout",
          "output_type": "stream",
          "text": [
            "Первые 5 строк таблицы publishers:\n"
          ]
        },
        {
          "data": {
            "text/html": [
              "<div>\n",
              "<style scoped>\n",
              "    .dataframe tbody tr th:only-of-type {\n",
              "        vertical-align: middle;\n",
              "    }\n",
              "\n",
              "    .dataframe tbody tr th {\n",
              "        vertical-align: top;\n",
              "    }\n",
              "\n",
              "    .dataframe thead th {\n",
              "        text-align: right;\n",
              "    }\n",
              "</style>\n",
              "<table border=\"1\" class=\"dataframe\">\n",
              "  <thead>\n",
              "    <tr style=\"text-align: right;\">\n",
              "      <th></th>\n",
              "      <th>publisher_id</th>\n",
              "      <th>publisher</th>\n",
              "    </tr>\n",
              "  </thead>\n",
              "  <tbody>\n",
              "    <tr>\n",
              "      <th>0</th>\n",
              "      <td>1</td>\n",
              "      <td>Ace</td>\n",
              "    </tr>\n",
              "    <tr>\n",
              "      <th>1</th>\n",
              "      <td>2</td>\n",
              "      <td>Ace Book</td>\n",
              "    </tr>\n",
              "    <tr>\n",
              "      <th>2</th>\n",
              "      <td>3</td>\n",
              "      <td>Ace Books</td>\n",
              "    </tr>\n",
              "    <tr>\n",
              "      <th>3</th>\n",
              "      <td>4</td>\n",
              "      <td>Ace Hardcover</td>\n",
              "    </tr>\n",
              "    <tr>\n",
              "      <th>4</th>\n",
              "      <td>5</td>\n",
              "      <td>Addison Wesley Publishing Company</td>\n",
              "    </tr>\n",
              "  </tbody>\n",
              "</table>\n",
              "</div>"
            ],
            "text/plain": [
              "   publisher_id                          publisher\n",
              "0             1                                Ace\n",
              "1             2                           Ace Book\n",
              "2             3                          Ace Books\n",
              "3             4                      Ace Hardcover\n",
              "4             5  Addison Wesley Publishing Company"
            ]
          },
          "metadata": {},
          "output_type": "display_data"
        },
        {
          "name": "stdout",
          "output_type": "stream",
          "text": [
            "Общее количество строк в таблице publishers:\n",
            "   total_rows\n",
            "0         340\n"
          ]
        }
      ],
      "source": [
        "# Запрос и вывод данных для таблицы publishers\n",
        "query_publishers = '''\n",
        "SELECT *\n",
        "FROM publishers\n",
        "LIMIT 5\n",
        "'''\n",
        "result_publishers = get_sql_data(query_publishers)\n",
        "print(\"Первые 5 строк таблицы publishers:\")\n",
        "display(result_publishers)\n",
        "\n",
        "query_count_publishers = '''\n",
        "SELECT COUNT(*) AS total_rows\n",
        "FROM publishers\n",
        "'''\n",
        "result_count_publishers = get_sql_data(query_count_publishers)\n",
        "print(\"Общее количество строк в таблице publishers:\")\n",
        "print(result_count_publishers)"
      ]
    },
    {
      "cell_type": "markdown",
      "metadata": {
        "id": "L8-jmSFtPbzT"
      },
      "source": [
        "Таблица **publishers (340 строк)** содержит данные об издательствах:\n",
        "- `publisher_id` — идентификатор издательства;\n",
        "- `publisher` — название издательства;"
      ]
    },
    {
      "cell_type": "markdown",
      "metadata": {
        "id": "RUz-tYbjPbzT"
      },
      "source": [
        "### Таблица ratings"
      ]
    },
    {
      "cell_type": "code",
      "execution_count": null,
      "metadata": {
        "id": "aA1dZI0iPbzT",
        "outputId": "7cda14a5-1315-4b46-966a-262a4dd76174"
      },
      "outputs": [
        {
          "name": "stdout",
          "output_type": "stream",
          "text": [
            "Первые 5 строк таблицы ratings:\n"
          ]
        },
        {
          "data": {
            "text/html": [
              "<div>\n",
              "<style scoped>\n",
              "    .dataframe tbody tr th:only-of-type {\n",
              "        vertical-align: middle;\n",
              "    }\n",
              "\n",
              "    .dataframe tbody tr th {\n",
              "        vertical-align: top;\n",
              "    }\n",
              "\n",
              "    .dataframe thead th {\n",
              "        text-align: right;\n",
              "    }\n",
              "</style>\n",
              "<table border=\"1\" class=\"dataframe\">\n",
              "  <thead>\n",
              "    <tr style=\"text-align: right;\">\n",
              "      <th></th>\n",
              "      <th>rating_id</th>\n",
              "      <th>book_id</th>\n",
              "      <th>username</th>\n",
              "      <th>rating</th>\n",
              "    </tr>\n",
              "  </thead>\n",
              "  <tbody>\n",
              "    <tr>\n",
              "      <th>0</th>\n",
              "      <td>1</td>\n",
              "      <td>1</td>\n",
              "      <td>ryanfranco</td>\n",
              "      <td>4</td>\n",
              "    </tr>\n",
              "    <tr>\n",
              "      <th>1</th>\n",
              "      <td>2</td>\n",
              "      <td>1</td>\n",
              "      <td>grantpatricia</td>\n",
              "      <td>2</td>\n",
              "    </tr>\n",
              "    <tr>\n",
              "      <th>2</th>\n",
              "      <td>3</td>\n",
              "      <td>1</td>\n",
              "      <td>brandtandrea</td>\n",
              "      <td>5</td>\n",
              "    </tr>\n",
              "    <tr>\n",
              "      <th>3</th>\n",
              "      <td>4</td>\n",
              "      <td>2</td>\n",
              "      <td>lorichen</td>\n",
              "      <td>3</td>\n",
              "    </tr>\n",
              "    <tr>\n",
              "      <th>4</th>\n",
              "      <td>5</td>\n",
              "      <td>2</td>\n",
              "      <td>mariokeller</td>\n",
              "      <td>2</td>\n",
              "    </tr>\n",
              "  </tbody>\n",
              "</table>\n",
              "</div>"
            ],
            "text/plain": [
              "   rating_id  book_id       username  rating\n",
              "0          1        1     ryanfranco       4\n",
              "1          2        1  grantpatricia       2\n",
              "2          3        1   brandtandrea       5\n",
              "3          4        2       lorichen       3\n",
              "4          5        2    mariokeller       2"
            ]
          },
          "metadata": {},
          "output_type": "display_data"
        },
        {
          "name": "stdout",
          "output_type": "stream",
          "text": [
            "Общее количество строк в таблице ratings:\n",
            "   total_rows\n",
            "0        6456\n"
          ]
        }
      ],
      "source": [
        "# Запрос и вывод данных для таблицы ratings\n",
        "query_ratings = '''\n",
        "SELECT *\n",
        "FROM ratings\n",
        "LIMIT 5\n",
        "'''\n",
        "result_ratings = get_sql_data(query_ratings)\n",
        "print(\"Первые 5 строк таблицы ratings:\")\n",
        "display(result_ratings)\n",
        "\n",
        "query_count_ratings = '''\n",
        "SELECT COUNT(*) AS total_rows\n",
        "FROM ratings\n",
        "'''\n",
        "result_count_ratings = get_sql_data(query_count_ratings)\n",
        "print(\"Общее количество строк в таблице ratings:\")\n",
        "print(result_count_ratings)"
      ]
    },
    {
      "cell_type": "markdown",
      "metadata": {
        "id": "My-eNkOHPbzU"
      },
      "source": [
        "Таблица **ratings (6456 строк)** содержит данные о пользовательских оценках книг:\n",
        "- `rating_id` — идентификатор оценки;\n",
        "- `book_id` — идентификатор книги;\n",
        "- `username` — имя пользователя, оставившего оценку;\n",
        "- `rating` — оценка книги."
      ]
    },
    {
      "cell_type": "markdown",
      "metadata": {
        "id": "4fG5vwmYPbzU"
      },
      "source": [
        "### Таблица reviews"
      ]
    },
    {
      "cell_type": "code",
      "execution_count": null,
      "metadata": {
        "id": "Dv0-ZrcRPbzU",
        "outputId": "5d7b520a-8b7c-4292-ce6e-1b0093f7698d"
      },
      "outputs": [
        {
          "name": "stdout",
          "output_type": "stream",
          "text": [
            "Первые 5 строк таблицы reviews:\n"
          ]
        },
        {
          "data": {
            "text/html": [
              "<div>\n",
              "<style scoped>\n",
              "    .dataframe tbody tr th:only-of-type {\n",
              "        vertical-align: middle;\n",
              "    }\n",
              "\n",
              "    .dataframe tbody tr th {\n",
              "        vertical-align: top;\n",
              "    }\n",
              "\n",
              "    .dataframe thead th {\n",
              "        text-align: right;\n",
              "    }\n",
              "</style>\n",
              "<table border=\"1\" class=\"dataframe\">\n",
              "  <thead>\n",
              "    <tr style=\"text-align: right;\">\n",
              "      <th></th>\n",
              "      <th>review_id</th>\n",
              "      <th>book_id</th>\n",
              "      <th>username</th>\n",
              "      <th>text</th>\n",
              "    </tr>\n",
              "  </thead>\n",
              "  <tbody>\n",
              "    <tr>\n",
              "      <th>0</th>\n",
              "      <td>1</td>\n",
              "      <td>1</td>\n",
              "      <td>brandtandrea</td>\n",
              "      <td>Mention society tell send professor analysis. ...</td>\n",
              "    </tr>\n",
              "    <tr>\n",
              "      <th>1</th>\n",
              "      <td>2</td>\n",
              "      <td>1</td>\n",
              "      <td>ryanfranco</td>\n",
              "      <td>Foot glass pretty audience hit themselves. Amo...</td>\n",
              "    </tr>\n",
              "    <tr>\n",
              "      <th>2</th>\n",
              "      <td>3</td>\n",
              "      <td>2</td>\n",
              "      <td>lorichen</td>\n",
              "      <td>Listen treat keep worry. Miss husband tax but ...</td>\n",
              "    </tr>\n",
              "    <tr>\n",
              "      <th>3</th>\n",
              "      <td>4</td>\n",
              "      <td>3</td>\n",
              "      <td>johnsonamanda</td>\n",
              "      <td>Finally month interesting blue could nature cu...</td>\n",
              "    </tr>\n",
              "    <tr>\n",
              "      <th>4</th>\n",
              "      <td>5</td>\n",
              "      <td>3</td>\n",
              "      <td>scotttamara</td>\n",
              "      <td>Nation purpose heavy give wait song will. List...</td>\n",
              "    </tr>\n",
              "  </tbody>\n",
              "</table>\n",
              "</div>"
            ],
            "text/plain": [
              "   review_id  book_id       username  \\\n",
              "0          1        1   brandtandrea   \n",
              "1          2        1     ryanfranco   \n",
              "2          3        2       lorichen   \n",
              "3          4        3  johnsonamanda   \n",
              "4          5        3    scotttamara   \n",
              "\n",
              "                                                text  \n",
              "0  Mention society tell send professor analysis. ...  \n",
              "1  Foot glass pretty audience hit themselves. Amo...  \n",
              "2  Listen treat keep worry. Miss husband tax but ...  \n",
              "3  Finally month interesting blue could nature cu...  \n",
              "4  Nation purpose heavy give wait song will. List...  "
            ]
          },
          "metadata": {},
          "output_type": "display_data"
        },
        {
          "name": "stdout",
          "output_type": "stream",
          "text": [
            "Общее количество строк в таблице reviews:\n",
            "   total_rows\n",
            "0        2793\n"
          ]
        }
      ],
      "source": [
        "# Запрос и вывод данных для таблицы reviews\n",
        "query_reviews = '''\n",
        "SELECT *\n",
        "FROM reviews\n",
        "LIMIT 5\n",
        "'''\n",
        "result_reviews = get_sql_data(query_reviews)\n",
        "print(\"Первые 5 строк таблицы reviews:\")\n",
        "display(result_reviews)\n",
        "\n",
        "query_count_reviews = '''\n",
        "SELECT COUNT(*) AS total_rows\n",
        "FROM reviews\n",
        "'''\n",
        "result_count_reviews = get_sql_data(query_count_reviews)\n",
        "print(\"Общее количество строк в таблице reviews:\")\n",
        "print(result_count_reviews)"
      ]
    },
    {
      "cell_type": "markdown",
      "metadata": {
        "id": "hVlaIcV-PbzV"
      },
      "source": [
        "Таблица **reviews (2793 строки)** содержит данные о пользовательских обзорах на книги:\n",
        "- `review_id` — идентификатор обзора;\n",
        "- `book_id` — идентификатор книги;\n",
        "- `username` — имя пользователя, написавшего обзор;\n",
        "- `text` — текст обзора."
      ]
    },
    {
      "cell_type": "markdown",
      "metadata": {
        "id": "3pfcFG47PbzW"
      },
      "source": [
        "## Задания"
      ]
    },
    {
      "cell_type": "markdown",
      "metadata": {
        "id": "m0eBgjRdPbzW"
      },
      "source": [
        "### Посчитаем, сколько книг вышло после 1 января 2000 года"
      ]
    },
    {
      "cell_type": "code",
      "execution_count": null,
      "metadata": {
        "id": "1BroHBCzPbzW",
        "outputId": "ac03370c-f862-4053-94ab-151d0cbf9c67"
      },
      "outputs": [
        {
          "name": "stdout",
          "output_type": "stream",
          "text": [
            "Количество книг, вышедших после 1 января 2000 года:    count\n",
            "0    819\n"
          ]
        }
      ],
      "source": [
        "book_amount = '''\n",
        "SELECT COUNT(book_id)\n",
        "FROM books\n",
        "WHERE publication_date > '2000-01-01'\n",
        "'''\n",
        "\n",
        "result_book_amount = get_sql_data(book_amount)\n",
        "print(f'Количество книг, вышедших после 1 января 2000 года:', result_book_amount)"
      ]
    },
    {
      "cell_type": "markdown",
      "metadata": {
        "id": "D10vdaVoPbzY"
      },
      "source": [
        "### Посчитаем для каждой книги количество обзоров и среднюю оценку"
      ]
    },
    {
      "cell_type": "code",
      "execution_count": null,
      "metadata": {
        "id": "jQ_k-khKPbzY",
        "outputId": "59c2bc7f-2117-40c9-a030-a4a69af2dfaa"
      },
      "outputs": [
        {
          "data": {
            "text/html": [
              "<div>\n",
              "<style scoped>\n",
              "    .dataframe tbody tr th:only-of-type {\n",
              "        vertical-align: middle;\n",
              "    }\n",
              "\n",
              "    .dataframe tbody tr th {\n",
              "        vertical-align: top;\n",
              "    }\n",
              "\n",
              "    .dataframe thead th {\n",
              "        text-align: right;\n",
              "    }\n",
              "</style>\n",
              "<table border=\"1\" class=\"dataframe\">\n",
              "  <thead>\n",
              "    <tr style=\"text-align: right;\">\n",
              "      <th></th>\n",
              "      <th>book_id</th>\n",
              "      <th>title</th>\n",
              "      <th>review_count</th>\n",
              "      <th>average_rating</th>\n",
              "    </tr>\n",
              "  </thead>\n",
              "  <tbody>\n",
              "    <tr>\n",
              "      <th>0</th>\n",
              "      <td>86</td>\n",
              "      <td>Arrows of the Queen (Heralds of Valdemar  #1)</td>\n",
              "      <td>2</td>\n",
              "      <td>5.00</td>\n",
              "    </tr>\n",
              "    <tr>\n",
              "      <th>1</th>\n",
              "      <td>901</td>\n",
              "      <td>The Walking Dead  Book One (The Walking Dead #...</td>\n",
              "      <td>2</td>\n",
              "      <td>5.00</td>\n",
              "    </tr>\n",
              "    <tr>\n",
              "      <th>2</th>\n",
              "      <td>390</td>\n",
              "      <td>Light in August</td>\n",
              "      <td>2</td>\n",
              "      <td>5.00</td>\n",
              "    </tr>\n",
              "    <tr>\n",
              "      <th>3</th>\n",
              "      <td>972</td>\n",
              "      <td>Wherever You Go  There You Are: Mindfulness Me...</td>\n",
              "      <td>2</td>\n",
              "      <td>5.00</td>\n",
              "    </tr>\n",
              "    <tr>\n",
              "      <th>4</th>\n",
              "      <td>136</td>\n",
              "      <td>Captivating: Unveiling the Mystery of a Woman'...</td>\n",
              "      <td>2</td>\n",
              "      <td>5.00</td>\n",
              "    </tr>\n",
              "    <tr>\n",
              "      <th>...</th>\n",
              "      <td>...</td>\n",
              "      <td>...</td>\n",
              "      <td>...</td>\n",
              "      <td>...</td>\n",
              "    </tr>\n",
              "    <tr>\n",
              "      <th>995</th>\n",
              "      <td>915</td>\n",
              "      <td>The World Is Flat: A Brief History of the Twen...</td>\n",
              "      <td>3</td>\n",
              "      <td>2.25</td>\n",
              "    </tr>\n",
              "    <tr>\n",
              "      <th>996</th>\n",
              "      <td>316</td>\n",
              "      <td>His Excellency: George Washington</td>\n",
              "      <td>2</td>\n",
              "      <td>2.00</td>\n",
              "    </tr>\n",
              "    <tr>\n",
              "      <th>997</th>\n",
              "      <td>202</td>\n",
              "      <td>Drowning Ruth</td>\n",
              "      <td>3</td>\n",
              "      <td>2.00</td>\n",
              "    </tr>\n",
              "    <tr>\n",
              "      <th>998</th>\n",
              "      <td>371</td>\n",
              "      <td>Junky</td>\n",
              "      <td>2</td>\n",
              "      <td>2.00</td>\n",
              "    </tr>\n",
              "    <tr>\n",
              "      <th>999</th>\n",
              "      <td>303</td>\n",
              "      <td>Harvesting the Heart</td>\n",
              "      <td>2</td>\n",
              "      <td>1.50</td>\n",
              "    </tr>\n",
              "  </tbody>\n",
              "</table>\n",
              "<p>1000 rows × 4 columns</p>\n",
              "</div>"
            ],
            "text/plain": [
              "     book_id                                              title  review_count  \\\n",
              "0         86      Arrows of the Queen (Heralds of Valdemar  #1)             2   \n",
              "1        901  The Walking Dead  Book One (The Walking Dead #...             2   \n",
              "2        390                                    Light in August             2   \n",
              "3        972  Wherever You Go  There You Are: Mindfulness Me...             2   \n",
              "4        136  Captivating: Unveiling the Mystery of a Woman'...             2   \n",
              "..       ...                                                ...           ...   \n",
              "995      915  The World Is Flat: A Brief History of the Twen...             3   \n",
              "996      316                  His Excellency: George Washington             2   \n",
              "997      202                                      Drowning Ruth             3   \n",
              "998      371                                              Junky             2   \n",
              "999      303                               Harvesting the Heart             2   \n",
              "\n",
              "     average_rating  \n",
              "0              5.00  \n",
              "1              5.00  \n",
              "2              5.00  \n",
              "3              5.00  \n",
              "4              5.00  \n",
              "..              ...  \n",
              "995            2.25  \n",
              "996            2.00  \n",
              "997            2.00  \n",
              "998            2.00  \n",
              "999            1.50  \n",
              "\n",
              "[1000 rows x 4 columns]"
            ]
          },
          "metadata": {},
          "output_type": "display_data"
        }
      ],
      "source": [
        "review_rating = '''\n",
        "SELECT\n",
        "    b.book_id,\n",
        "    b.title,\n",
        "    COUNT(DISTINCT re.review_id) AS review_count,\n",
        "    AVG(ra.rating) AS average_rating\n",
        "FROM books AS b\n",
        "LEFT JOIN ratings AS ra ON b.book_id = ra.book_id\n",
        "LEFT JOIN reviews AS re ON b.book_id = re.book_id\n",
        "GROUP BY b.book_id, b.title\n",
        "ORDER BY average_rating DESC\n",
        "'''\n",
        "\n",
        "# Получение данных\n",
        "result_review_rating = get_sql_data(review_rating)\n",
        "\n",
        "# Вывод результатов\n",
        "display(result_review_rating)"
      ]
    },
    {
      "cell_type": "markdown",
      "metadata": {
        "id": "RTP64VojPbzZ"
      },
      "source": []
    },
    {
      "cell_type": "markdown",
      "metadata": {
        "id": "yXoRQjZbPbzZ"
      },
      "source": [
        "### Определим издательство, которое выпустило наибольшее число книг толще 50 страниц — так из анализа будут исключены брошюры"
      ]
    },
    {
      "cell_type": "code",
      "execution_count": null,
      "metadata": {
        "id": "_8BFVJ4sPbza",
        "outputId": "6e76852d-a37a-4834-e400-12f6532f44fc"
      },
      "outputs": [
        {
          "data": {
            "text/html": [
              "<div>\n",
              "<style scoped>\n",
              "    .dataframe tbody tr th:only-of-type {\n",
              "        vertical-align: middle;\n",
              "    }\n",
              "\n",
              "    .dataframe tbody tr th {\n",
              "        vertical-align: top;\n",
              "    }\n",
              "\n",
              "    .dataframe thead th {\n",
              "        text-align: right;\n",
              "    }\n",
              "</style>\n",
              "<table border=\"1\" class=\"dataframe\">\n",
              "  <thead>\n",
              "    <tr style=\"text-align: right;\">\n",
              "      <th></th>\n",
              "      <th>publisher_id</th>\n",
              "      <th>publisher</th>\n",
              "      <th>book_count</th>\n",
              "    </tr>\n",
              "  </thead>\n",
              "  <tbody>\n",
              "    <tr>\n",
              "      <th>0</th>\n",
              "      <td>212</td>\n",
              "      <td>Penguin Books</td>\n",
              "      <td>42</td>\n",
              "    </tr>\n",
              "  </tbody>\n",
              "</table>\n",
              "</div>"
            ],
            "text/plain": [
              "   publisher_id      publisher  book_count\n",
              "0           212  Penguin Books          42"
            ]
          },
          "execution_count": 10,
          "metadata": {},
          "output_type": "execute_result"
        }
      ],
      "source": [
        "top_publisher = '''\n",
        "SELECT\n",
        "    p.publisher_id,\n",
        "    p.publisher,\n",
        "    COUNT(b.book_id) AS book_count\n",
        "FROM publishers AS p\n",
        "JOIN books AS b ON p.publisher_id = b.publisher_id\n",
        "WHERE b.num_pages > 50\n",
        "GROUP BY p.publisher_id, p.publisher\n",
        "ORDER BY book_count DESC\n",
        "LIMIT 1\n",
        "'''\n",
        "\n",
        "result_top_publisher = get_sql_data(top_publisher)\n",
        "result_top_publisher"
      ]
    },
    {
      "cell_type": "markdown",
      "metadata": {
        "id": "TpwU8tnFPbzd"
      },
      "source": []
    },
    {
      "cell_type": "markdown",
      "metadata": {
        "id": "nZeUicP5Pbzd"
      },
      "source": [
        "### Определим автора с самой высокой средней оценкой книг — учтем только книги с 50 и более оценками"
      ]
    },
    {
      "cell_type": "code",
      "execution_count": null,
      "metadata": {
        "id": "TE3LKRZyPbzd",
        "outputId": "0d252325-f2ed-40a3-ef28-ec5f497ab3b1"
      },
      "outputs": [
        {
          "data": {
            "text/html": [
              "<div>\n",
              "<style scoped>\n",
              "    .dataframe tbody tr th:only-of-type {\n",
              "        vertical-align: middle;\n",
              "    }\n",
              "\n",
              "    .dataframe tbody tr th {\n",
              "        vertical-align: top;\n",
              "    }\n",
              "\n",
              "    .dataframe thead th {\n",
              "        text-align: right;\n",
              "    }\n",
              "</style>\n",
              "<table border=\"1\" class=\"dataframe\">\n",
              "  <thead>\n",
              "    <tr style=\"text-align: right;\">\n",
              "      <th></th>\n",
              "      <th>author_id</th>\n",
              "      <th>author</th>\n",
              "      <th>average_rating</th>\n",
              "    </tr>\n",
              "  </thead>\n",
              "  <tbody>\n",
              "    <tr>\n",
              "      <th>0</th>\n",
              "      <td>236</td>\n",
              "      <td>J.K. Rowling/Mary GrandPré</td>\n",
              "      <td>4.287097</td>\n",
              "    </tr>\n",
              "  </tbody>\n",
              "</table>\n",
              "</div>"
            ],
            "text/plain": [
              "   author_id                      author  average_rating\n",
              "0        236  J.K. Rowling/Mary GrandPré        4.287097"
            ]
          },
          "execution_count": 11,
          "metadata": {},
          "output_type": "execute_result"
        }
      ],
      "source": [
        "top_author = '''\n",
        "SELECT\n",
        "    a.author_id,\n",
        "    a.author,\n",
        "    AVG(r.rating) AS average_rating\n",
        "FROM authors AS a\n",
        "JOIN books AS b ON a.author_id = b.author_id\n",
        "JOIN ratings AS r ON b.book_id = r.book_id\n",
        "WHERE b.book_id IN (\n",
        "                SELECT book_id\n",
        "                FROM ratings\n",
        "                GROUP BY book_id\n",
        "                HAVING COUNT(rating_id) >= 50\n",
        "                )\n",
        "GROUP BY     a.author_id, a.author\n",
        "ORDER BY average_rating DESC\n",
        "LIMIT 1\n",
        "'''\n",
        "\n",
        "result_top_author = get_sql_data(top_author)\n",
        "result_top_author"
      ]
    },
    {
      "cell_type": "markdown",
      "metadata": {
        "id": "Eqc_kEoJPbzu"
      },
      "source": []
    },
    {
      "cell_type": "markdown",
      "metadata": {
        "id": "u3-J3wKxPbzy"
      },
      "source": [
        "### Посчитаем среднее количество обзоров от пользователей, которые поставили больше 48 оценок"
      ]
    },
    {
      "cell_type": "code",
      "execution_count": null,
      "metadata": {
        "id": "1UMXnqq2Pbzz",
        "outputId": "e9af84c8-000a-4b12-af87-8834c56cc352"
      },
      "outputs": [
        {
          "data": {
            "text/html": [
              "<div>\n",
              "<style scoped>\n",
              "    .dataframe tbody tr th:only-of-type {\n",
              "        vertical-align: middle;\n",
              "    }\n",
              "\n",
              "    .dataframe tbody tr th {\n",
              "        vertical-align: top;\n",
              "    }\n",
              "\n",
              "    .dataframe thead th {\n",
              "        text-align: right;\n",
              "    }\n",
              "</style>\n",
              "<table border=\"1\" class=\"dataframe\">\n",
              "  <thead>\n",
              "    <tr style=\"text-align: right;\">\n",
              "      <th></th>\n",
              "      <th>avg_review_count</th>\n",
              "    </tr>\n",
              "  </thead>\n",
              "  <tbody>\n",
              "    <tr>\n",
              "      <th>0</th>\n",
              "      <td>24.0</td>\n",
              "    </tr>\n",
              "  </tbody>\n",
              "</table>\n",
              "</div>"
            ],
            "text/plain": [
              "   avg_review_count\n",
              "0              24.0"
            ]
          },
          "execution_count": 12,
          "metadata": {},
          "output_type": "execute_result"
        }
      ],
      "source": [
        "review_count = '''\n",
        "SELECT AVG(review_count) AS avg_review_count\n",
        "FROM (\n",
        "    SELECT\n",
        "        re.username,\n",
        "        COUNT(DISTINCT re.review_id) AS review_count\n",
        "    FROM reviews AS re\n",
        "    JOIN ratings AS ra ON re.book_id = ra.book_id\n",
        "    WHERE re.username IN (\n",
        "            SELECT username\n",
        "            FROM ratings\n",
        "            GROUP BY username\n",
        "            HAVING COUNT(rating_id) > 48\n",
        "        )\n",
        "    GROUP BY re.username\n",
        ") AS subquery\n",
        "'''\n",
        "\n",
        "result_review_count = get_sql_data(review_count)\n",
        "result_review_count"
      ]
    },
    {
      "cell_type": "markdown",
      "metadata": {
        "id": "_aDzhJ4XPbz1"
      },
      "source": [
        "## Вывод"
      ]
    },
    {
      "cell_type": "markdown",
      "metadata": {
        "id": "S48yswFuPbz1"
      },
      "source": [
        "В БД содержится информация о книгах, издательствах, авторах, а также пользовательские обзоры книг.\n",
        "\n",
        "1. Посчитали, что после 1 января 2000 года вышло 819 книг из 1000, что может свидетельствовать о активном развитии рынка литературы в новом тысячелетии.\n",
        "\n",
        "2. Для каждой книги мы проанализировали количество обзоров и среднюю оценку. Выяснилось, что максимальная оценка составляет 5 из 5, а минимальная — 1.50, что говорит о разнообразии оценок от пользователей.\n",
        "\n",
        "3. Было выявлено, что издательство \"Penguin Books\" является лидером по выпуску книг, толще 50 страниц (все, что не является брошюрами), с общим количеством 42 книг. Это может свидетельствовать о стабильности и успешной деятельности данного издательства.\n",
        "\n",
        "4. Автор J.K. Rowling с иллюстратором Mary GrandPré заслуживает отдельного внимания, так как их книги имеют самую высокую среднюю оценку (4.29) среди книг с 50 и более оценками. Это может подчеркнуть их популярность и качество творчества.\n",
        "\n",
        "5. Среднее количество обзоров от пользователей, которые поставили более 48 оценок, составляет 24. Это может говорить о том, что активные пользователи, оставляющие много оценок, также проявляют интерес к написанию обзоров, что может быть положительным сигналом для сервиса.\n",
        "\n",
        "Рекомендации:\n",
        "\n",
        "1. Повышение разнообразия контента:\n",
        "\n",
        "Расширьте библиотеку книг в жанрах, которые получили высокие оценки и популярность среди пользователей. Это может включать в себя сотрудничество с авторами, чьи произведения уже пользуются успехом.\n",
        "\n",
        "2. Фокус на популярных издательствах:\n",
        "\n",
        "Продолжайте активно сотрудничать с издательствами, которые предоставляют качественный контент и пользуются спросом у вашей аудитории.\n",
        "\n",
        "3. Маркетинговые кампании вокруг успешных авторов:\n",
        "\n",
        "Запускайте маркетинговые кампании, акцентируя внимание на книгах популярных авторов, особенно тех, кто давал высокие оценки.\n",
        "\n",
        "4. Повышение вовлеченности пользователей:\n",
        "\n",
        "Внедрите функции социальной взаимосвязи, такие как обсуждения книг и обмен рекомендациями между пользователями, так как есть тенденция, которая показывает, что пользователям нравится ставить оценки и оставлять обзоры.\n",
        "\n",
        "Эти рекомендации помогут компании улучшить удовлетворенность пользователей, привлечь новых подписчиков и укрепить свою позицию на рынке сервисов для чтения книг."
      ]
    }
  ],
  "metadata": {
    "ExecuteTimeLog": [
      {
        "duration": 501,
        "start_time": "2023-12-20T11:00:47.676Z"
      },
      {
        "duration": 10495,
        "start_time": "2023-12-20T11:00:50.295Z"
      },
      {
        "duration": 63,
        "start_time": "2023-12-20T11:01:54.749Z"
      },
      {
        "duration": 18,
        "start_time": "2023-12-20T11:02:36.886Z"
      },
      {
        "duration": 16,
        "start_time": "2023-12-20T11:03:15.907Z"
      },
      {
        "duration": 19,
        "start_time": "2023-12-20T11:06:17.697Z"
      },
      {
        "duration": 20,
        "start_time": "2023-12-20T11:06:51.165Z"
      },
      {
        "duration": 9,
        "start_time": "2023-12-20T11:08:54.739Z"
      },
      {
        "duration": 31,
        "start_time": "2023-12-20T11:09:19.235Z"
      },
      {
        "duration": 14,
        "start_time": "2023-12-20T11:09:44.096Z"
      },
      {
        "duration": 15,
        "start_time": "2023-12-20T11:10:15.050Z"
      },
      {
        "duration": 16,
        "start_time": "2023-12-20T11:10:36.714Z"
      },
      {
        "duration": 29,
        "start_time": "2023-12-20T11:14:13.644Z"
      },
      {
        "duration": 35,
        "start_time": "2023-12-20T11:14:23.520Z"
      },
      {
        "duration": 587,
        "start_time": "2023-12-20T11:25:25.784Z"
      },
      {
        "duration": 4984,
        "start_time": "2023-12-20T11:25:26.374Z"
      },
      {
        "duration": 59,
        "start_time": "2023-12-20T11:25:31.361Z"
      },
      {
        "duration": 19,
        "start_time": "2023-12-20T11:25:31.422Z"
      },
      {
        "duration": 66,
        "start_time": "2023-12-20T11:25:31.444Z"
      },
      {
        "duration": 49,
        "start_time": "2023-12-20T11:25:31.513Z"
      },
      {
        "duration": 28,
        "start_time": "2023-12-20T11:25:31.565Z"
      },
      {
        "duration": 12,
        "start_time": "2023-12-20T11:25:31.595Z"
      },
      {
        "duration": 40,
        "start_time": "2023-12-20T11:25:31.609Z"
      },
      {
        "duration": 39,
        "start_time": "2023-12-20T11:25:31.651Z"
      },
      {
        "duration": 19,
        "start_time": "2023-12-20T11:25:31.692Z"
      },
      {
        "duration": 35,
        "start_time": "2023-12-20T11:25:31.713Z"
      },
      {
        "duration": 488,
        "start_time": "2023-12-20T13:27:13.719Z"
      },
      {
        "duration": 8729,
        "start_time": "2023-12-20T13:27:14.209Z"
      },
      {
        "duration": 287,
        "start_time": "2023-12-20T13:27:22.940Z"
      },
      {
        "duration": 97,
        "start_time": "2023-12-20T13:27:23.229Z"
      },
      {
        "duration": 99,
        "start_time": "2023-12-20T13:27:23.327Z"
      },
      {
        "duration": 99,
        "start_time": "2023-12-20T13:27:23.427Z"
      },
      {
        "duration": 98,
        "start_time": "2023-12-20T13:27:23.527Z"
      },
      {
        "duration": 48,
        "start_time": "2023-12-20T13:27:23.626Z"
      },
      {
        "duration": 87,
        "start_time": "2023-12-20T13:27:23.675Z"
      },
      {
        "duration": 51,
        "start_time": "2023-12-20T13:27:23.764Z"
      },
      {
        "duration": 53,
        "start_time": "2023-12-20T13:27:23.816Z"
      },
      {
        "duration": 54,
        "start_time": "2023-12-20T13:27:23.870Z"
      }
    ],
    "kernelspec": {
      "display_name": "Python 3 (ipykernel)",
      "language": "python",
      "name": "python3"
    },
    "language_info": {
      "codemirror_mode": {
        "name": "ipython",
        "version": 3
      },
      "file_extension": ".py",
      "mimetype": "text/x-python",
      "name": "python",
      "nbconvert_exporter": "python",
      "pygments_lexer": "ipython3",
      "version": "3.9.5"
    },
    "toc": {
      "base_numbering": 1,
      "nav_menu": {},
      "number_sections": true,
      "sideBar": true,
      "skip_h1_title": true,
      "title_cell": "Table of Contents",
      "title_sidebar": "Contents",
      "toc_cell": false,
      "toc_position": {},
      "toc_section_display": true,
      "toc_window_display": true
    },
    "colab": {
      "provenance": []
    }
  },
  "nbformat": 4,
  "nbformat_minor": 0
}